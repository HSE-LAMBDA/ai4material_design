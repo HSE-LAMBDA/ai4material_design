{
 "cells": [
  {
   "cell_type": "code",
   "execution_count": 45,
   "id": "97c90287-d100-4fe5-bb1f-f39545e56a9f",
   "metadata": {},
   "outputs": [],
   "source": [
    "import os\n",
    "import ase\n",
    "import json\n",
    "import mendeleev\n",
    "import matplotlib.pyplot as plt\n",
    "import pandas as pd\n",
    "\n",
    "from pathlib import Path as path\n",
    "from collections import defaultdict\n",
    "from ase import io"
   ]
  },
  {
   "cell_type": "code",
   "execution_count": 46,
   "id": "31130e3a-2853-45b1-ae08-f6cbcd9b56f0",
   "metadata": {},
   "outputs": [],
   "source": [
    "def get_gpaw_trajectories(defect_db_path:str):\n",
    "    res = defaultdict(list)\n",
    "    for file_ in os.listdir(defect_db_path):\n",
    "        if not file_.startswith(\"id\"):\n",
    "            continue\n",
    "        this_folder = os.path.join(defect_db_path, file_, \"relaxed\", \"trajectory\")\n",
    "        for traj_file in os.listdir(this_folder):\n",
    "            try:\n",
    "                res[file_].append(ase.io.read(os.path.join(this_folder, traj_file), index=\":\"))\n",
    "            except ase.io.formats.UnknownFileTypeError:\n",
    "                pass\n",
    "    return res\n",
    "\n",
    "\n",
    "dataset = get_gpaw_trajectories(\"./datasets/raw_ruslan_202104/new_datasets/defectDB/\")"
   ]
  },
  {
   "cell_type": "code",
   "execution_count": 47,
   "id": "2feb626a-5358-403b-96f3-461ab1b5f895",
   "metadata": {},
   "outputs": [
    {
     "data": {
      "text/plain": [
       "dict_keys(['id43', 'id4', 'id34', 'id44', 'id38', 'id12', 'id31', 'id11', 'id22', 'id15', 'id16', 'id9', 'id27', 'id14', 'id7', 'id24', 'id1', 'id37', 'id13', 'id20', 'id35', 'id36', 'id17', 'id6', 'id28', 'id3', 'id45', 'id18', 'id23', 'id21', 'id5', 'id42', 'id46', 'id33', 'id25', 'id26', 'id30', 'id8', 'id19', 'id40', 'id10', 'id41', 'id29', 'id47', 'id39', 'id32', 'id0', 'id2'])"
      ]
     },
     "execution_count": 47,
     "metadata": {},
     "output_type": "execute_result"
    }
   ],
   "source": [
    "dataset.keys()"
   ]
  },
  {
   "cell_type": "code",
   "execution_count": null,
   "id": "45aaa583-8f3c-4238-afcf-4a7a92776d18",
   "metadata": {},
   "outputs": [],
   "source": [
    "id_prop = []\n",
    "defect = 'id2'\n",
    "data_root = path(f'datasets/cgcnn_data_format/{defect}')\n",
    "data_root.mkdir() if not data_root.exists() else None\n",
    "\n",
    "\n",
    "def init_atom_feat(atoms: ase.Atom):\n",
    "    \n",
    "    def compute_species_params(charge):\n",
    "        element = mendeleev.element(charge)\n",
    "        return [charge, element.atomic_volume, element.group_id, element.period]     \n",
    "    \n",
    "    atoms_feat = dict()\n",
    "    for atom, charge in zip(atoms, atoms.get_atomic_numbers()):\n",
    "        atoms_feat[atom.index] = compute_species_params(int(charge))\n",
    "        \n",
    "    return json.dumps(atoms_feat)\n",
    "\n",
    "\n",
    "for idx, item in enumerate(dataset[defect][0]):\n",
    "    # id, target \n",
    "    id_prop.append(f'{idx}, {item.get_potential_energy()}\\n')\n",
    "    ase.io.write(data_root.joinpath(f'{idx}.cif'), item, 'cif')\n",
    "    \n",
    "with open(data_root.joinpath('id_prop.csv'), 'w') as f:\n",
    "    f.writelines(id_prop)\n",
    "with open(data_root.joinpath('atom_init.json'), 'w') as f:\n",
    "    f.writelines(init_atom_feat(dataset[defect][0][0]))"
   ]
  },
  {
   "cell_type": "code",
   "execution_count": null,
   "id": "f4c1b077-fd66-4d55-8a7c-a07c37c1074b",
   "metadata": {},
   "outputs": [],
   "source": [
    "# Train\n",
    "%run cgcnn/main.py --optim Adam --lr 3e-3 --epochs 500 --train-size 8 --val-size 2 cgcnn/test\n",
    "# %run cgcnn/main.py --epochs 500 --lr 1e-4 --train-size 6 --val-size 2 --test-size 2 cgcnn/test"
   ]
  },
  {
   "cell_type": "code",
   "execution_count": 42,
   "id": "28fe1a7c-7680-47e5-b1e1-78a7fb363df7",
   "metadata": {},
   "outputs": [
    {
     "name": "stdout",
     "output_type": "stream",
     "text": [
      "=> loading model params 'model_best.pth.tar'\n",
      "=> loaded model params 'model_best.pth.tar'\n",
      "=> loading model 'model_best.pth.tar'\n",
      "=> loaded model 'model_best.pth.tar' (epoch 493, validation 0.420257568359375)\n",
      "Test: [0/1]\tTime 2.109 (2.109)\tLoss 1.0742 (1.0742)\tMAE 0.252 (0.252)\n",
      " ** MAE 0.252\n"
     ]
    }
   ],
   "source": [
    "# Inference\n",
    "%run cgcnn/predict.py model_best.pth.tar cgcnn/test"
   ]
  },
  {
   "cell_type": "code",
   "execution_count": 43,
   "id": "10410bff-0ce8-4bfb-8902-a00463f385a4",
   "metadata": {},
   "outputs": [
    {
     "name": "stdout",
     "output_type": "stream",
     "text": [
      "           target   predicted\n",
      "index                        \n",
      "26    -721.574280 -721.514771\n",
      "15    -721.548889 -721.515381\n",
      "18    -721.558350 -721.515259\n",
      "0     -719.080383 -721.514771\n",
      "11    -721.520874 -721.517822\n",
      "20    -721.563538 -721.516968\n",
      "10    -721.487915 -721.514465\n",
      "14    -721.545227 -721.516296\n",
      "23    -721.568481 -721.517090\n",
      "6     -721.409119 -721.507385\n",
      "5     -721.363525 -721.504883\n",
      "25    -721.572449 -721.515381\n",
      "12    -721.531494 -721.517883\n",
      "27    -721.575317 -721.514832\n",
      "7     -721.435547 -721.509827\n",
      "19    -721.561096 -721.516113\n",
      "1     -719.564270 -721.509338\n",
      "24    -721.570618 -721.516113\n",
      "22    -721.566895 -721.517517\n",
      "9     -721.476807 -721.513550\n",
      "2     -720.713379 -721.499390\n",
      "17    -721.555481 -721.514832\n",
      "16    -721.551941 -721.514893\n",
      "3     -721.069031 -721.503235\n",
      "8     -721.434387 -721.518982\n",
      "4     -721.201477 -721.502441\n",
      "13    -721.541565 -721.516968\n",
      "21    -721.565247 -721.517456\n"
     ]
    }
   ],
   "source": [
    "results = pd.read_csv('test_results.csv', index_col=0, names=['index', 'target', 'predicted'])\n",
    "print(results)\n"
   ]
  },
  {
   "cell_type": "code",
   "execution_count": 44,
   "id": "9efeae4f-c9f4-4144-88d1-b6146322c487",
   "metadata": {},
   "outputs": [
    {
     "data": {
      "text/plain": [
       "<AxesSubplot:xlabel='target', ylabel='predicted'>"
      ]
     },
     "execution_count": 44,
     "metadata": {},
     "output_type": "execute_result"
    },
    {
     "data": {
      "image/png": "[encoded data removed]",
      "text/plain": [
       "<Figure size 432x288 with 1 Axes>"
      ]
     },
     "metadata": {
      "image/png": {
       "height": 261,
       "width": 439
      },
      "needs_background": "light"
     },
     "output_type": "display_data"
    }
   ],
   "source": [
    "results.plot.scatter(x='target', y='predicted')"
   ]
  },
  {
   "cell_type": "code",
   "execution_count": null,
   "id": "074783a5-7df9-4589-a767-c04c26444a42",
   "metadata": {},
   "outputs": [],
   "source": []
  }
 ],
 "metadata": {
  "kernelspec": {
   "display_name": "Python 3",
   "language": "python",
   "name": "python3"
  },
  "language_info": {
   "codemirror_mode": {
    "name": "ipython",
    "version": 3
   },
   "file_extension": ".py",
   "mimetype": "text/x-python",
   "name": "python",
   "nbconvert_exporter": "python",
   "pygments_lexer": "ipython3",
   "version": "3.8.5"
  }
 },
 "nbformat": 4,
 "nbformat_minor": 5
}
