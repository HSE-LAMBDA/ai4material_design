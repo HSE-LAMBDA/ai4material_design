{
 "cells": [
  {
   "cell_type": "code",
   "execution_count": 1,
   "metadata": {},
   "outputs": [
    {
     "name": "stdout",
     "output_type": "stream",
     "text": [
      "env: CUDA_DEVICE_ORDER=PCI_BUS_ID\n",
      "env: CUDA_VISIBLE_DEVICES=3\n"
     ]
    }
   ],
   "source": [
    "%env CUDA_DEVICE_ORDER=PCI_BUS_ID\n",
    "%env CUDA_VISIBLE_DEVICES=3"
   ]
  },
  {
   "cell_type": "code",
   "execution_count": 2,
   "metadata": {},
   "outputs": [],
   "source": [
    "import os\n",
    "import pymatgen\n",
    "import matplotlib.pyplot as plt\n",
    "import pandas as pd\n",
    "from tqdm.notebook import trange, tqdm\n",
    "from data import get_dichalcogenides_innopolis_202105"
   ]
  },
  {
   "cell_type": "code",
   "execution_count": 3,
   "metadata": {},
   "outputs": [
    {
     "data": {
      "application/vnd.jupyter.widget-view+json": {
       "model_id": "b2b0720f4df44c67bd92e1a2b8e31cc1",
       "version_major": 2,
       "version_minor": 0
      },
      "text/plain": [
       "  0%|          | 0/3480 [00:00<?, ?it/s]"
      ]
     },
     "metadata": {},
     "output_type": "display_data"
    },
    {
     "name": "stderr",
     "output_type": "stream",
     "text": [
      "/temporary/pymatgen/pymatgen/io/cif.py:1123: UserWarning:\n",
      "\n",
      "Issues encountered while parsing CIF: Some fractional co-ordinates rounded to ideal values to avoid issues with finite precision.\n",
      "\n"
     ]
    }
   ],
   "source": [
    "structures = get_dichalcogenides_innopolis_202105()"
   ]
  },
  {
   "cell_type": "code",
   "execution_count": 4,
   "metadata": {},
   "outputs": [],
   "source": [
    "import matplotlib\n",
    "\n",
    "from megnet.models import MEGNetModel\n",
    "from megnet.data.graph import GaussianDistance\n",
    "from megnet.data.crystal import CrystalGraph\n",
    "from megnet.data.molecule import MolecularGraph\n",
    "from megnet.utils.preprocessing import StandardScaler\n",
    "from megnet.callbacks import ModelCheckpointMAE\n",
    "from pymatgen.core import Lattice, Structure, Molecule\n",
    "\n",
    "import tensorflow as tf\n",
    "import numpy as np"
   ]
  },
  {
   "cell_type": "code",
   "execution_count": 5,
   "metadata": {},
   "outputs": [],
   "source": [
    "import wandb\n",
    "from wandb.keras import WandbCallback"
   ]
  },
  {
   "cell_type": "code",
   "execution_count": 6,
   "metadata": {},
   "outputs": [],
   "source": [
    "from sklearn.model_selection import train_test_split"
   ]
  },
  {
   "cell_type": "code",
   "execution_count": 7,
   "metadata": {},
   "outputs": [],
   "source": [
    "train, test = train_test_split(structures, test_size=0.25, random_state=42)"
   ]
  },
  {
   "cell_type": "code",
   "execution_count": 8,
   "metadata": {},
   "outputs": [
    {
     "name": "stderr",
     "output_type": "stream",
     "text": [
      "\u001b[34m\u001b[1mwandb\u001b[0m: Currently logged in as: \u001b[33mkazeev\u001b[0m (use `wandb login --relogin` to force relogin)\n"
     ]
    },
    {
     "data": {
      "text/html": [
       "\n",
       "                Tracking run with wandb version 0.10.33<br/>\n",
       "                Syncing run <strong style=\"color:#cdcd00\">smart-sun-15</strong> to <a href=\"https://wandb.ai\" target=\"_blank\">Weights & Biases</a> <a href=\"https://docs.wandb.com/integrations/jupyter.html\" target=\"_blank\">(Documentation)</a>.<br/>\n",
       "                Project page: <a href=\"https://wandb.ai/kazeev/ai4material_design\" target=\"_blank\">https://wandb.ai/kazeev/ai4material_design</a><br/>\n",
       "                Run page: <a href=\"https://wandb.ai/kazeev/ai4material_design/runs/2v5hp6il\" target=\"_blank\">https://wandb.ai/kazeev/ai4material_design/runs/2v5hp6il</a><br/>\n",
       "                Run data is saved locally in <code>/temporary/ai4material_design/wandb/run-20210709_121306-2v5hp6il</code><br/><br/>\n",
       "            "
      ],
      "text/plain": [
       "<IPython.core.display.HTML object>"
      ]
     },
     "metadata": {},
     "output_type": "display_data"
    },
    {
     "data": {
      "text/html": [
       "<h1>Run(2v5hp6il)</h1><iframe src=\"https://wandb.ai/kazeev/ai4material_design/runs/2v5hp6il\" style=\"border:none;width:100%;height:400px\"></iframe>"
      ],
      "text/plain": [
       "<wandb.sdk.wandb_run.Run at 0x7f37e60fd588>"
      ]
     },
     "execution_count": 8,
     "metadata": {},
     "output_type": "execute_result"
    }
   ],
   "source": [
    "wandb.init(project='ai4material_design', entity='kazeev')"
   ]
  },
  {
   "cell_type": "code",
   "execution_count": 9,
   "metadata": {},
   "outputs": [],
   "source": [
    "config = wandb.config\n",
    "config.target = \"energy_per_atom\""
   ]
  },
  {
   "cell_type": "code",
   "execution_count": 10,
   "metadata": {},
   "outputs": [],
   "source": [
    "gc = CrystalGraph(bond_converter=GaussianDistance(np.linspace(0, 5, 100), 0.5), cutoff=6)\n",
    "model = MEGNetModel(nfeat_edge=100, nfeat_global=2, graph_converter=gc, npass=5)"
   ]
  },
  {
   "cell_type": "code",
   "execution_count": 11,
   "metadata": {},
   "outputs": [],
   "source": [
    "scaler = StandardScaler.from_training_data(train[\"initial_structure\"],\n",
    "                                           train[config.target], is_intensive=True)\n",
    "model.target_scaler = scaler"
   ]
  },
  {
   "cell_type": "code",
   "execution_count": 13,
   "metadata": {},
   "outputs": [
    {
     "name": "stdout",
     "output_type": "stream",
     "text": [
      "Epoch 1/100\n",
      "21/21 [==============================] - 86s 4s/step - loss: 0.0480\n"
     ]
    },
    {
     "name": "stderr",
     "output_type": "stream",
     "text": [
      "INFO:megnet.callbacks:\n",
      "Epoch 00001: val_mae improved from inf to 0.03619, saving model to callback/val_mae_00001_0.036195.hdf5\n"
     ]
    },
    {
     "name": "stdout",
     "output_type": "stream",
     "text": [
      "Epoch 2/100\n",
      "21/21 [==============================] - 86s 4s/step - loss: 0.0492\n",
      "Epoch 3/100\n",
      "21/21 [==============================] - 86s 4s/step - loss: 0.0492\n",
      "Epoch 4/100\n",
      "21/21 [==============================] - 86s 4s/step - loss: 0.0498\n",
      "Epoch 5/100\n",
      "21/21 [==============================] - 86s 4s/step - loss: 0.0498\n",
      "Epoch 6/100\n",
      "21/21 [==============================] - 86s 4s/step - loss: 0.0490\n"
     ]
    },
    {
     "name": "stderr",
     "output_type": "stream",
     "text": [
      "INFO:megnet.callbacks:\n",
      "Epoch 00006: val_mae improved from 0.03619 to 0.03404, saving model to callback/val_mae_00006_0.034044.hdf5\n"
     ]
    },
    {
     "name": "stdout",
     "output_type": "stream",
     "text": [
      "Epoch 7/100\n",
      "21/21 [==============================] - 87s 4s/step - loss: 0.0486\n",
      "Epoch 8/100\n",
      "21/21 [==============================] - 87s 4s/step - loss: 0.0535\n",
      "Epoch 9/100\n",
      "21/21 [==============================] - 86s 4s/step - loss: 0.0482\n",
      "Epoch 10/100\n",
      "21/21 [==============================] - 86s 4s/step - loss: 0.0540\n",
      "Epoch 11/100\n",
      "21/21 [==============================] - 86s 4s/step - loss: 0.0541\n",
      "Epoch 12/100\n",
      "21/21 [==============================] - 86s 4s/step - loss: 0.0526\n",
      "Epoch 13/100\n",
      "21/21 [==============================] - 86s 4s/step - loss: 0.0485\n",
      "Epoch 14/100\n",
      "21/21 [==============================] - 86s 4s/step - loss: 0.0490\n",
      "Epoch 15/100\n",
      "21/21 [==============================] - 86s 4s/step - loss: 0.0484\n",
      "Epoch 16/100\n",
      "21/21 [==============================] - 86s 4s/step - loss: 0.0480\n",
      "Epoch 17/100\n",
      "21/21 [==============================] - 86s 4s/step - loss: 0.0483\n",
      "Epoch 18/100\n",
      "21/21 [==============================] - 85s 4s/step - loss: 0.0495\n",
      "Epoch 19/100\n",
      "21/21 [==============================] - 86s 4s/step - loss: 0.0485\n",
      "Epoch 20/100\n",
      "21/21 [==============================] - 86s 4s/step - loss: 0.0490\n",
      "Epoch 21/100\n",
      "21/21 [==============================] - 86s 4s/step - loss: 0.0491\n",
      "Epoch 22/100\n",
      "21/21 [==============================] - 88s 4s/step - loss: 0.0481\n",
      "Epoch 23/100\n",
      "21/21 [==============================] - 88s 4s/step - loss: 0.0487\n"
     ]
    },
    {
     "name": "stderr",
     "output_type": "stream",
     "text": [
      "INFO:megnet.callbacks:\n",
      "Epoch 00023: val_mae improved from 0.03404 to 0.03351, saving model to callback/val_mae_00023_0.033510.hdf5\n"
     ]
    },
    {
     "name": "stdout",
     "output_type": "stream",
     "text": [
      "Epoch 24/100\n",
      "21/21 [==============================] - 87s 4s/step - loss: 0.0486\n",
      "Epoch 25/100\n",
      "21/21 [==============================] - 86s 4s/step - loss: 0.0491\n",
      "Epoch 26/100\n",
      "21/21 [==============================] - 92s 4s/step - loss: 0.0491\n",
      "Epoch 27/100\n",
      "21/21 [==============================] - 92s 4s/step - loss: 0.0488\n",
      "Epoch 28/100\n",
      "21/21 [==============================] - 89s 4s/step - loss: 0.0538\n",
      "Epoch 29/100\n",
      "21/21 [==============================] - 89s 4s/step - loss: 0.0539\n",
      "Epoch 30/100\n",
      "21/21 [==============================] - 94s 4s/step - loss: 0.0483\n",
      "Epoch 31/100\n",
      "21/21 [==============================] - 112s 5s/step - loss: 0.0480\n",
      "Epoch 32/100\n",
      "21/21 [==============================] - 121s 6s/step - loss: 0.0491\n",
      "Epoch 33/100\n",
      "21/21 [==============================] - 183s 8s/step - loss: 0.0500\n",
      "Epoch 34/100\n",
      "21/21 [==============================] - 148s 7s/step - loss: 0.0497\n",
      "Epoch 35/100\n",
      "21/21 [==============================] - 119s 6s/step - loss: 0.0502\n",
      "Epoch 36/100\n",
      "21/21 [==============================] - 90s 4s/step - loss: 0.0484\n",
      "Epoch 37/100\n",
      "21/21 [==============================] - 109s 5s/step - loss: 0.0545\n",
      "Epoch 38/100\n",
      "21/21 [==============================] - 108s 5s/step - loss: 0.0532\n",
      "Epoch 39/100\n",
      "21/21 [==============================] - 145s 7s/step - loss: 0.0500\n",
      "Epoch 40/100\n",
      "21/21 [==============================] - 123s 6s/step - loss: 0.0489\n",
      "Epoch 41/100\n",
      "21/21 [==============================] - 161s 8s/step - loss: 0.0482\n",
      "Epoch 42/100\n",
      "21/21 [==============================] - 154s 7s/step - loss: 0.0532\n",
      "Epoch 43/100\n",
      "21/21 [==============================] - 161s 8s/step - loss: 0.0519\n",
      "Epoch 44/100\n",
      "21/21 [==============================] - 133s 6s/step - loss: 0.0500\n",
      "Epoch 45/100\n",
      "21/21 [==============================] - 126s 6s/step - loss: 0.0481\n",
      "Epoch 46/100\n",
      "21/21 [==============================] - 122s 6s/step - loss: 0.0538\n",
      "Epoch 47/100\n",
      "21/21 [==============================] - 153s 7s/step - loss: 0.0486\n",
      "Epoch 48/100\n",
      "21/21 [==============================] - 151s 7s/step - loss: 0.0477\n",
      "Epoch 49/100\n",
      "21/21 [==============================] - 119s 6s/step - loss: 0.0487\n",
      "Epoch 50/100\n",
      "21/21 [==============================] - 145s 7s/step - loss: 0.0481\n",
      "Epoch 51/100\n",
      "21/21 [==============================] - 147s 7s/step - loss: 0.0483\n",
      "Epoch 52/100\n",
      "21/21 [==============================] - 153s 7s/step - loss: 0.0517\n",
      "Epoch 53/100\n",
      "21/21 [==============================] - 86s 4s/step - loss: 0.0485\n",
      "Epoch 54/100\n",
      "21/21 [==============================] - 125s 6s/step - loss: 0.0482\n",
      "Epoch 55/100\n",
      "21/21 [==============================] - 89s 4s/step - loss: 0.0499\n",
      "Epoch 56/100\n",
      "21/21 [==============================] - 101s 5s/step - loss: 0.0507\n",
      "Epoch 57/100\n",
      "21/21 [==============================] - 115s 5s/step - loss: 0.0492\n",
      "Epoch 58/100\n",
      "21/21 [==============================] - 86s 4s/step - loss: 0.0483\n",
      "Epoch 59/100\n",
      "21/21 [==============================] - 84s 4s/step - loss: 0.0477\n",
      "Epoch 60/100\n",
      "21/21 [==============================] - 84s 4s/step - loss: 0.0481\n",
      "Epoch 61/100\n",
      "21/21 [==============================] - 86s 4s/step - loss: 0.0477\n",
      "Epoch 62/100\n",
      "21/21 [==============================] - 86s 4s/step - loss: 0.0479\n",
      "Epoch 63/100\n",
      "21/21 [==============================] - 86s 4s/step - loss: 0.0478\n",
      "Epoch 64/100\n",
      "21/21 [==============================] - 86s 4s/step - loss: 0.0493\n",
      "Epoch 65/100\n",
      "21/21 [==============================] - 86s 4s/step - loss: 0.0488\n",
      "Epoch 66/100\n",
      "21/21 [==============================] - 86s 4s/step - loss: 0.0536\n",
      "Epoch 67/100\n",
      "21/21 [==============================] - 87s 4s/step - loss: 0.0481\n",
      "Epoch 68/100\n",
      "21/21 [==============================] - 86s 4s/step - loss: 0.0476\n",
      "Epoch 69/100\n",
      "21/21 [==============================] - 86s 4s/step - loss: 0.0488\n",
      "Epoch 70/100\n",
      "21/21 [==============================] - 86s 4s/step - loss: 0.0477\n",
      "Epoch 71/100\n",
      "21/21 [==============================] - 86s 4s/step - loss: 0.0485\n",
      "Epoch 72/100\n",
      "21/21 [==============================] - 86s 4s/step - loss: 0.0478\n",
      "Epoch 73/100\n",
      "21/21 [==============================] - 86s 4s/step - loss: 0.0477\n",
      "Epoch 74/100\n",
      "21/21 [==============================] - 89s 4s/step - loss: 0.0474\n",
      "Epoch 75/100\n",
      "21/21 [==============================] - 88s 4s/step - loss: 0.0479\n",
      "Epoch 76/100\n",
      "21/21 [==============================] - 100s 5s/step - loss: 0.0483\n",
      "Epoch 77/100\n",
      "21/21 [==============================] - 97s 4s/step - loss: 0.0481\n",
      "Epoch 78/100\n",
      "21/21 [==============================] - 95s 4s/step - loss: 0.0474\n",
      "Epoch 79/100\n",
      "21/21 [==============================] - 96s 4s/step - loss: 0.0476\n",
      "Epoch 80/100\n",
      "21/21 [==============================] - 103s 5s/step - loss: 0.0479\n",
      "Epoch 81/100\n",
      "21/21 [==============================] - 90s 4s/step - loss: 0.0491\n",
      "Epoch 82/100\n",
      "21/21 [==============================] - 111s 5s/step - loss: 0.0484\n",
      "Epoch 83/100\n",
      "21/21 [==============================] - 150s 7s/step - loss: 0.0530\n",
      "Epoch 84/100\n",
      "21/21 [==============================] - 557s 27s/step - loss: 0.0475\n",
      "Epoch 85/100\n",
      "21/21 [==============================] - 131s 6s/step - loss: 0.0515\n",
      "Epoch 86/100\n",
      "21/21 [==============================] - 100s 5s/step - loss: 0.0522\n",
      "Epoch 87/100\n",
      "21/21 [==============================] - 85s 4s/step - loss: 0.0536\n",
      "Epoch 88/100\n",
      "21/21 [==============================] - 86s 4s/step - loss: 0.0476\n",
      "Epoch 89/100\n",
      "21/21 [==============================] - 88s 4s/step - loss: 0.0480\n",
      "Epoch 90/100\n",
      "21/21 [==============================] - 88s 4s/step - loss: 0.0477\n",
      "Epoch 91/100\n",
      "21/21 [==============================] - 87s 4s/step - loss: 0.0477\n",
      "Epoch 92/100\n",
      "21/21 [==============================] - 87s 4s/step - loss: 0.0525\n",
      "Epoch 93/100\n",
      "21/21 [==============================] - 85s 4s/step - loss: 0.0534\n",
      "Epoch 94/100\n",
      "21/21 [==============================] - 88s 4s/step - loss: 0.0523\n",
      "Epoch 95/100\n",
      "21/21 [==============================] - 88s 4s/step - loss: 0.0478\n",
      "Epoch 96/100\n",
      "21/21 [==============================] - 155s 7s/step - loss: 0.0476\n",
      "Epoch 97/100\n",
      "21/21 [==============================] - 129s 6s/step - loss: 0.0472\n",
      "Epoch 98/100\n",
      "21/21 [==============================] - 96s 4s/step - loss: 0.0482\n",
      "Epoch 99/100\n",
      "21/21 [==============================] - 86s 4s/step - loss: 0.0574\n",
      "Epoch 100/100\n",
      "21/21 [==============================] - 86s 4s/step - loss: 0.0482\n"
     ]
    },
    {
     "data": {
      "text/plain": [
       "<megnet.models.megnet.MEGNetModel at 0x7f37dd96e240>"
      ]
     },
     "execution_count": 13,
     "metadata": {},
     "output_type": "execute_result"
    }
   ],
   "source": [
    "model.train(train[\"initial_structure\"], train[config.target],\n",
    "            validation_structures=test[\"initial_structure\"],\n",
    "            validation_targets=test[config.target],\n",
    "            callbacks=[WandbCallback()],\n",
    "            epochs=100, verbose=1, patience=1000, prev_model=\"callback/val_mae_00085_0.034367.hdf5\")"
   ]
  }
 ],
 "metadata": {
  "kernelspec": {
   "display_name": "Python 3",
   "language": "python",
   "name": "python3"
  },
  "language_info": {
   "codemirror_mode": {
    "name": "ipython",
    "version": 3
   },
   "file_extension": ".py",
   "mimetype": "text/x-python",
   "name": "python",
   "nbconvert_exporter": "python",
   "pygments_lexer": "ipython3",
   "version": "3.6.9"
  }
 },
 "nbformat": 4,
 "nbformat_minor": 5
}
