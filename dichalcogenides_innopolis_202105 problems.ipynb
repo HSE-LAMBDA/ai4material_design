{
 "cells": [
  {
   "cell_type": "code",
   "execution_count": 2,
   "metadata": {},
   "outputs": [],
   "source": [
    "%matplotlib inline"
   ]
  },
  {
   "cell_type": "code",
   "execution_count": 3,
   "metadata": {},
   "outputs": [],
   "source": [
    "import pandas as pd\n",
    "import matplotlib.pyplot as plt"
   ]
  },
  {
   "cell_type": "code",
   "execution_count": 4,
   "metadata": {},
   "outputs": [],
   "source": [
    "structures = pd.read_pickle(\"datasets/all_structures_defects.pickle.gzip\")"
   ]
  },
  {
   "cell_type": "code",
   "execution_count": 5,
   "metadata": {},
   "outputs": [
    {
     "data": {
      "image/png": "[encoded data removed]",
      "text/plain": [
       "<Figure size 432x288 with 1 Axes>"
      ]
     },
     "metadata": {
      "needs_background": "light"
     },
     "output_type": "display_data"
    }
   ],
   "source": [
    "fig, ax = plt.subplots()\n",
    "ax.hist(structures.formation_energy, bins=100)\n",
    "ax.set_ylabel(\"# of strucutures\")\n",
    "ax.set_xlabel(\"Defect formation energy, eV\")\n",
    "ax.set_yscale(\"log\");"
   ]
  },
  {
   "cell_type": "code",
   "execution_count": 6,
   "metadata": {},
   "outputs": [],
   "source": [
    "vac_only = pd.concat([\n",
    "  pd.read_pickle(\"datasets/train_defects_vac_only.pickle.gzip\"),\n",
    "  pd.read_pickle(\"datasets/test_defects_vac_only.pickle.gzip\")\n",
    "])"
   ]
  },
  {
   "cell_type": "code",
   "execution_count": 10,
   "metadata": {},
   "outputs": [
    {
     "data": {
      "image/png": "[encoded data removed]",
      "text/plain": [
       "<Figure size 432x288 with 1 Axes>"
      ]
     },
     "metadata": {
      "needs_background": "light"
     },
     "output_type": "display_data"
    }
   ],
   "source": [
    "fig, ax = plt.subplots()\n",
    "ax.hist(vac_only.formation_energy, bins=100)\n",
    "ax.set_ylabel(\"# of strucutures\")\n",
    "ax.set_xlabel(\"Defect formation energy, eV\")\n",
    "ax.set_yscale(\"log\")\n",
    "ax.set_title(\"Vacancy only\");"
   ]
  },
  {
   "cell_type": "code",
   "execution_count": 11,
   "metadata": {},
   "outputs": [
    {
     "data": {
      "text/html": [
       "<div>\n",
       "<style scoped>\n",
       "    .dataframe tbody tr th:only-of-type {\n",
       "        vertical-align: middle;\n",
       "    }\n",
       "\n",
       "    .dataframe tbody tr th {\n",
       "        vertical-align: top;\n",
       "    }\n",
       "\n",
       "    .dataframe thead th {\n",
       "        text-align: right;\n",
       "    }\n",
       "</style>\n",
       "<table border=\"1\" class=\"dataframe\">\n",
       "  <thead>\n",
       "    <tr style=\"text-align: right;\">\n",
       "      <th></th>\n",
       "      <th>_id</th>\n",
       "      <th>descriptor_id</th>\n",
       "      <th>defect_id</th>\n",
       "      <th>energy</th>\n",
       "      <th>energy_per_atom</th>\n",
       "      <th>fermi_level</th>\n",
       "      <th>homo</th>\n",
       "      <th>lumo</th>\n",
       "      <th>initial_structure</th>\n",
       "      <th>defect_representation</th>\n",
       "      <th>formation_energy</th>\n",
       "    </tr>\n",
       "  </thead>\n",
       "  <tbody>\n",
       "    <tr>\n",
       "      <th>1374</th>\n",
       "      <td>609246ebf9eca94c44df9812</td>\n",
       "      <td>6092462bf9eca94c44df928c</td>\n",
       "      <td>52</td>\n",
       "      <td>-329.621432</td>\n",
       "      <td>-7.324921</td>\n",
       "      <td>0.128627</td>\n",
       "      <td>0.060349</td>\n",
       "      <td>0.179807</td>\n",
       "      <td>[[-8.87218524e-08  3.84176895e+00  1.13017133e...</td>\n",
       "      <td>[[1.65688061 4.80605296 9.61399074] X0+, [-6.6...</td>\n",
       "      <td>-10.79117</td>\n",
       "    </tr>\n",
       "  </tbody>\n",
       "</table>\n",
       "</div>"
      ],
      "text/plain": [
       "                           _id             descriptor_id  defect_id  \\\n",
       "1374  609246ebf9eca94c44df9812  6092462bf9eca94c44df928c         52   \n",
       "\n",
       "          energy  energy_per_atom  fermi_level      homo      lumo  \\\n",
       "1374 -329.621432        -7.324921     0.128627  0.060349  0.179807   \n",
       "\n",
       "                                      initial_structure  \\\n",
       "1374  [[-8.87218524e-08  3.84176895e+00  1.13017133e...   \n",
       "\n",
       "                                  defect_representation  formation_energy  \n",
       "1374  [[1.65688061 4.80605296 9.61399074] X0+, [-6.6...         -10.79117  "
      ]
     },
     "execution_count": 11,
     "metadata": {},
     "output_type": "execute_result"
    }
   ],
   "source": [
    "vac_only[vac_only.formation_energy<0]"
   ]
  }
 ],
 "metadata": {
  "kernelspec": {
   "display_name": "Python 3",
   "language": "python",
   "name": "python3"
  },
  "language_info": {
   "codemirror_mode": {
    "name": "ipython",
    "version": 3
   },
   "file_extension": ".py",
   "mimetype": "text/x-python",
   "name": "python",
   "nbconvert_exporter": "python",
   "pygments_lexer": "ipython3",
   "version": "3.6.9"
  }
 },
 "nbformat": 4,
 "nbformat_minor": 4
}
