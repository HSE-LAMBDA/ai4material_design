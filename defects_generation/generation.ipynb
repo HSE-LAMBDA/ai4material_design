{
 "cells": [
  {
   "cell_type": "code",
   "execution_count": 1,
   "id": "sorted-ideal",
   "metadata": {},
   "outputs": [],
   "source": [
    "import json\n",
    "from generation import generate_defect_set"
   ]
  },
  {
   "cell_type": "code",
   "execution_count": 2,
   "id": "romance-italian",
   "metadata": {},
   "outputs": [],
   "source": [
    "with open(\"example_descriptors.json\") as file:\n",
    "    descriptors = json.load(file)"
   ]
  },
  {
   "cell_type": "code",
   "execution_count": 3,
   "id": "strategic-engineer",
   "metadata": {},
   "outputs": [
    {
     "name": "stderr",
     "output_type": "stream",
     "text": [
      "/miniconda/envs/screening_mongo/lib/python3.8/site-packages/pymatgen/io/cif.py:1121: UserWarning: Issues encountered while parsing CIF: Some fractional co-ordinates rounded to ideal values to avoid issues with finite precision.\n",
      "  warnings.warn(\"Issues encountered while parsing CIF: %s\" % \"\\n\".join(self.warnings))\n"
     ]
    }
   ],
   "source": [
    "defect_set = generate_defect_set(descriptors[0])"
   ]
  },
  {
   "cell_type": "code",
   "execution_count": 4,
   "id": "assisted-berkeley",
   "metadata": {},
   "outputs": [
    {
     "data": {
      "text/plain": [
       "Structure Summary\n",
       "Lattice\n",
       "    abc : 9.572190990000003 9.57219099 14.202402\n",
       " angles : 90.00000000000001 90.0 120.00000000000001\n",
       " volume : 1126.9772355466234\n",
       "      A : -4.786095495000003 -8.289760567216517 -1.1722553056730635e-15\n",
       "      B : -4.786095494999998 8.289760567216517 5.861276528365318e-16\n",
       "      C : 0.0 0.0 -14.202402\n",
       "PeriodicSite: W (-1.5954, 0.9211, -3.5506) [0.1111, 0.2222, 0.2500]\n",
       "PeriodicSite: W (-3.1907, 3.6843, -3.5506) [0.1111, 0.5556, 0.2500]\n",
       "PeriodicSite: W (-4.7861, 6.4476, -3.5506) [0.1111, 0.8889, 0.2500]\n",
       "PeriodicSite: W (-3.1907, -1.8422, -3.5506) [0.4444, 0.2222, 0.2500]\n",
       "PeriodicSite: W (-4.7861, 0.9211, -3.5506) [0.4444, 0.5556, 0.2500]\n",
       "PeriodicSite: W (-6.3815, 3.6843, -3.5506) [0.4444, 0.8889, 0.2500]\n",
       "PeriodicSite: W (-4.7861, -4.6054, -3.5506) [0.7778, 0.2222, 0.2500]\n",
       "PeriodicSite: W (-6.3815, -1.8422, -3.5506) [0.7778, 0.5556, 0.2500]\n",
       "PeriodicSite: W (-7.9768, 0.9211, -3.5506) [0.7778, 0.8889, 0.2500]\n",
       "PeriodicSite: S (-4.7861, 4.6054, -5.1236) [0.2222, 0.7778, 0.3608]\n",
       "PeriodicSite: S (-3.1907, -3.6843, -5.1236) [0.5556, 0.1111, 0.3608]\n",
       "PeriodicSite: S (-4.7861, -0.9211, -5.1236) [0.5556, 0.4444, 0.3608]\n",
       "PeriodicSite: S (-6.3815, 1.8422, -5.1236) [0.5556, 0.7778, 0.3608]\n",
       "PeriodicSite: S (-4.7861, -6.4476, -5.1236) [0.8889, 0.1111, 0.3608]\n",
       "PeriodicSite: S (-6.3815, -3.6843, -5.1236) [0.8889, 0.4444, 0.3608]\n",
       "PeriodicSite: S (-7.9768, -0.9211, -5.1236) [0.8889, 0.7778, 0.3608]\n",
       "PeriodicSite: S (-1.5954, -0.9211, -1.9776) [0.2222, 0.1111, 0.1392]\n",
       "PeriodicSite: S (-3.1907, 1.8422, -1.9776) [0.2222, 0.4444, 0.1392]\n",
       "PeriodicSite: S (-4.7861, 4.6054, -1.9776) [0.2222, 0.7778, 0.1392]\n",
       "PeriodicSite: S (-3.1907, -3.6843, -1.9776) [0.5556, 0.1111, 0.1392]\n",
       "PeriodicSite: S (-4.7861, -0.9211, -1.9776) [0.5556, 0.4444, 0.1392]\n",
       "PeriodicSite: S (-6.3815, 1.8422, -1.9776) [0.5556, 0.7778, 0.1392]\n",
       "PeriodicSite: S (-4.7861, -6.4476, -1.9776) [0.8889, 0.1111, 0.1392]\n",
       "PeriodicSite: S (-6.3815, -3.6843, -1.9776) [0.8889, 0.4444, 0.1392]\n",
       "PeriodicSite: S (-7.9768, -0.9211, -1.9776) [0.8889, 0.7778, 0.1392]"
      ]
     },
     "execution_count": 4,
     "metadata": {},
     "output_type": "execute_result"
    }
   ],
   "source": [
    "defect_set[0]"
   ]
  }
 ],
 "metadata": {
  "kernelspec": {
   "display_name": "screening_mongo",
   "language": "python",
   "name": "screening_mongo"
  },
  "language_info": {
   "codemirror_mode": {
    "name": "ipython",
    "version": 3
   },
   "file_extension": ".py",
   "mimetype": "text/x-python",
   "name": "python",
   "nbconvert_exporter": "python",
   "pygments_lexer": "ipython3",
   "version": "3.8.8"
  }
 },
 "nbformat": 4,
 "nbformat_minor": 5
}
