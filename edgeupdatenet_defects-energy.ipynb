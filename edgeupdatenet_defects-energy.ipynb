{
 "cells": [
  {
   "cell_type": "code",
   "execution_count": 1,
   "id": "a42ab53e",
   "metadata": {},
   "outputs": [],
   "source": [
    "from typing import Optional\n",
    "import numpy as np\n",
    "import pandas as pd\n",
    "from tqdm import tqdm\n",
    "import os\n",
    "import warnings\n",
    "import os.path as osp\n",
    "from math import pi as PI\n",
    "from ase.io import read\n",
    "import torch\n",
    "import torch.nn.functional as F\n",
    "from torch.nn import Embedding, Sequential, Linear, ModuleList\n",
    "import random\n",
    "from sklearn.model_selection import train_test_split\n",
    "from torch_scatter import scatter\n",
    "from torch_geometric.data.makedirs import makedirs\n",
    "from torch_geometric.data import download_url, extract_zip, Dataset\n",
    "from torch_geometric.nn import radius_graph, MessagePassing"
   ]
  },
  {
   "cell_type": "code",
   "execution_count": 6,
   "id": "917dd44d",
   "metadata": {},
   "outputs": [],
   "source": [
    "import torch\n",
    "from torch import nn\n",
    "\n",
    "from torch_geometric.nn.models.schnet import ShiftedSoftplus, SchNet\n",
    "from torch_geometric.nn import radius_graph, MessagePassing\n",
    "\n",
    "from torch_scatter import scatter\n",
    "\n",
    "\n",
    "class EdgeUpdateBlock(nn.Module):\n",
    "    def __init__(self, in_features, C):\n",
    "        super(EdgeUpdateBlock, self).__init__()\n",
    "        self.mlp = nn.Sequential(\n",
    "            nn.Linear(in_features, 2 * C),\n",
    "            ShiftedSoftplus(),\n",
    "            nn.Linear(2 * C, C),\n",
    "        )\n",
    "\n",
    "    def forward(self, h, edge_attr, edge_index):\n",
    "        h1 = h[edge_index[0, :]]\n",
    "        h2 = h[edge_index[1, :]]\n",
    "        concat = torch.cat((h1, h2, edge_attr), dim=1)\n",
    "        x = self.mlp(concat)\n",
    "        return x\n",
    "\n",
    "    def reset_parameters(self):\n",
    "        #         torch.nn.init.xavier_uniform_(self.mlp[0].weight)\n",
    "        self.mlp[0].bias.data.fill_(0)\n",
    "        #         torch.nn.init.xavier_uniform_(self.mlp[2].weight)\n",
    "        self.mlp[2].bias.data.fill_(0)\n",
    "\n",
    "\n",
    "class InteractionBlock(MessagePassing):\n",
    "    def __init__(self, C):\n",
    "        super(InteractionBlock, self).__init__()\n",
    "        self.fc1 = nn.Linear(C, C)\n",
    "        self.mlp = nn.Sequential(\n",
    "            nn.Linear(C, C),\n",
    "            ShiftedSoftplus(),\n",
    "            nn.Linear(C, C),\n",
    "            ShiftedSoftplus(),\n",
    "        )\n",
    "        self.mlp1 = nn.Sequential(\n",
    "            nn.Linear(C, C),\n",
    "            ShiftedSoftplus(),\n",
    "            nn.Linear(C, C),\n",
    "        )\n",
    "\n",
    "    def forward(self, x, edge_attr, edge_index):\n",
    "        edge = self.mlp(edge_attr)\n",
    "        h = self.fc1(x)\n",
    "        edge = self.mlp(edge_attr)\n",
    "        m = self.propagate(edge_index, x=h, edge_attr=edge)\n",
    "        m = self.mlp1(m)\n",
    "\n",
    "        return x + m\n",
    "\n",
    "    def message(self, x_j, edge_attr):\n",
    "        return x_j * edge_attr\n",
    "\n",
    "    def reset_parameters(self):\n",
    "        #         torch.nn.init.xavier_uniform_(self.fc1.weight)\n",
    "        self.fc1.bias.data.fill_(0)\n",
    "        #         torch.nn.init.xavier_uniform_(self.mlp[0].weight)\n",
    "        self.mlp[0].bias.data.fill_(0)\n",
    "        #         torch.nn.init.xavier_uniform_(self.mlp[2].weight)\n",
    "        self.mlp[2].bias.data.fill_(0)\n",
    "        #         torch.nn.init.xavier_uniform_(self.mlp1[0].weight)\n",
    "        self.mlp1[0].bias.data.fill_(0)\n",
    "        #         torch.nn.init.xavier_uniform_(self.mlp1[2].weight)\n",
    "        self.mlp1[2].bias.data.fill_(0)\n",
    "\n",
    "\n",
    "class GaussianSmearing(torch.nn.Module):\n",
    "    def __init__(self, num_gaussians=150, coeff=0.1, m_min=0):\n",
    "        super(GaussianSmearing, self).__init__()\n",
    "        offset = torch.arange(0, num_gaussians)\n",
    "        self.coeff = coeff\n",
    "        self.inv_coeff = self.coeff ** 0.5\n",
    "        self.m_min = m_min\n",
    "        self.register_buffer(\"offset\", offset)\n",
    "\n",
    "    def forward(self, dist):\n",
    "        dist = dist.view(-1, 1) - (-self.m_min + self.coeff * self.offset.view(1, -1))\n",
    "        return torch.exp(-self.inv_coeff * torch.pow(dist, 2))\n",
    "\n",
    "\n",
    "class EdgeUpdateNet(nn.Module):\n",
    "    def __init__(\n",
    "        self, C=32, num_interactions=3, num_gaussians=150, cutoff=10.0, readout=\"add\"\n",
    "    ):\n",
    "        super(EdgeUpdateNet, self).__init__()\n",
    "\n",
    "        self.readout = readout\n",
    "        self.cutoff = cutoff\n",
    "\n",
    "        self.embedding = nn.Embedding(100, C)\n",
    "        self.distance_expansion = GaussianSmearing(num_gaussians)\n",
    "\n",
    "        self.interactions = nn.ModuleList()\n",
    "        for _ in range(num_interactions):\n",
    "            block = InteractionBlock(C)\n",
    "            self.interactions.append(block)\n",
    "\n",
    "        self.edge_updates = nn.ModuleList()\n",
    "        block = EdgeUpdateBlock(num_gaussians + 2 * C, C)\n",
    "        self.edge_updates.append(block)\n",
    "\n",
    "        for _ in range(num_interactions - 1):\n",
    "            block = EdgeUpdateBlock(C * 3, C)\n",
    "            self.edge_updates.append(block)\n",
    "\n",
    "        self.mlp = nn.Sequential(\n",
    "            nn.Linear(C, C // 2),\n",
    "            ShiftedSoftplus(),\n",
    "            nn.Linear(C // 2, 1),\n",
    "        )\n",
    "\n",
    "        self.reset_parameters()\n",
    "    def forward(self, data):\n",
    "        z = data.atomic_numbers.long()\n",
    "        pos = data.pos\n",
    "        batch = data.batch\n",
    "\n",
    "\n",
    "        edge_index = radius_graph(pos, r=self.cutoff, batch=batch)\n",
    "        row, col = edge_index\n",
    "        distances = (pos[row] - pos[col]).norm(dim=-1)\n",
    "\n",
    "  #  def forward(self, z, edge_index, distances, batch=None):\n",
    "        assert z.dtype == torch.long\n",
    "\n",
    "        batch = torch.zeros_like(z) if batch is None else batch\n",
    "\n",
    "        h = self.embedding(z)\n",
    "        edge_attr = self.distance_expansion(distances)\n",
    "\n",
    "        for edge_update, interaction in zip(self.edge_updates, self.interactions):\n",
    "            edge_attr = edge_update(h, edge_attr, edge_index)\n",
    "            h = interaction(h, edge_attr, edge_index)\n",
    "        h = self.mlp(h)\n",
    "\n",
    "        out = scatter(h, batch, dim=0, reduce=self.readout)\n",
    "\n",
    "        return out\n",
    "\n",
    "    def reset_parameters(self):\n",
    "        self.embedding.reset_parameters()\n",
    "        for interaction in self.interactions:\n",
    "            interaction.reset_parameters()\n",
    "        for edge_update in self.edge_updates:\n",
    "            edge_update.reset_parameters()\n",
    "        #         torch.nn.init.xavier_uniform_(self.mlp[0].weight)\n",
    "        self.mlp[0].bias.data.fill_(0)\n",
    "        #         torch.nn.init.xavier_uniform_(self.mlp[2].weight)\n",
    "        self.mlp[2].bias.data.fill_(0)\n"
   ]
  },
  {
   "cell_type": "code",
   "execution_count": 8,
   "id": "c87e45bd",
   "metadata": {},
   "outputs": [],
   "source": [
    "targets=pd.read_csv('targets.csv')\n",
    "label=targets['energy_per_atom']"
   ]
  },
  {
   "cell_type": "code",
   "execution_count": 9,
   "id": "0d832702",
   "metadata": {},
   "outputs": [
    {
     "data": {
      "text/html": [
       "<div>\n",
       "<style scoped>\n",
       "    .dataframe tbody tr th:only-of-type {\n",
       "        vertical-align: middle;\n",
       "    }\n",
       "\n",
       "    .dataframe tbody tr th {\n",
       "        vertical-align: top;\n",
       "    }\n",
       "\n",
       "    .dataframe thead th {\n",
       "        text-align: right;\n",
       "    }\n",
       "</style>\n",
       "<table border=\"1\" class=\"dataframe\">\n",
       "  <thead>\n",
       "    <tr style=\"text-align: right;\">\n",
       "      <th></th>\n",
       "      <th>Unnamed: 0</th>\n",
       "      <th>_id</th>\n",
       "    </tr>\n",
       "  </thead>\n",
       "  <tbody>\n",
       "    <tr>\n",
       "      <th>0</th>\n",
       "      <td>0</td>\n",
       "      <td>Full Formula (W16 Se1 S30 O1)\\nReduced Formula...</td>\n",
       "    </tr>\n",
       "    <tr>\n",
       "      <th>1</th>\n",
       "      <td>1</td>\n",
       "      <td>Full Formula (W16 Se1 S30 O1)\\nReduced Formula...</td>\n",
       "    </tr>\n",
       "    <tr>\n",
       "      <th>2</th>\n",
       "      <td>2</td>\n",
       "      <td>Full Formula (W16 Se1 S30 O1)\\nReduced Formula...</td>\n",
       "    </tr>\n",
       "    <tr>\n",
       "      <th>3</th>\n",
       "      <td>3</td>\n",
       "      <td>Full Formula (W16 Se1 S30 O1)\\nReduced Formula...</td>\n",
       "    </tr>\n",
       "    <tr>\n",
       "      <th>4</th>\n",
       "      <td>4</td>\n",
       "      <td>Full Formula (W16 Se1 S30 O1)\\nReduced Formula...</td>\n",
       "    </tr>\n",
       "    <tr>\n",
       "      <th>...</th>\n",
       "      <td>...</td>\n",
       "      <td>...</td>\n",
       "    </tr>\n",
       "    <tr>\n",
       "      <th>3475</th>\n",
       "      <td>3475</td>\n",
       "      <td>Full Formula (W36 Se70 S1 O1)\\nReduced Formula...</td>\n",
       "    </tr>\n",
       "    <tr>\n",
       "      <th>3476</th>\n",
       "      <td>3476</td>\n",
       "      <td>Full Formula (W36 Se70 S1 O1)\\nReduced Formula...</td>\n",
       "    </tr>\n",
       "    <tr>\n",
       "      <th>3477</th>\n",
       "      <td>3477</td>\n",
       "      <td>Full Formula (W36 Se70 S1 O1)\\nReduced Formula...</td>\n",
       "    </tr>\n",
       "    <tr>\n",
       "      <th>3478</th>\n",
       "      <td>3478</td>\n",
       "      <td>Full Formula (W36 Se70 S1 O1)\\nReduced Formula...</td>\n",
       "    </tr>\n",
       "    <tr>\n",
       "      <th>3479</th>\n",
       "      <td>3479</td>\n",
       "      <td>Full Formula (W36 Se70 S1 O1)\\nReduced Formula...</td>\n",
       "    </tr>\n",
       "  </tbody>\n",
       "</table>\n",
       "<p>3480 rows × 2 columns</p>\n",
       "</div>"
      ],
      "text/plain": [
       "      Unnamed: 0                                                _id\n",
       "0              0  Full Formula (W16 Se1 S30 O1)\\nReduced Formula...\n",
       "1              1  Full Formula (W16 Se1 S30 O1)\\nReduced Formula...\n",
       "2              2  Full Formula (W16 Se1 S30 O1)\\nReduced Formula...\n",
       "3              3  Full Formula (W16 Se1 S30 O1)\\nReduced Formula...\n",
       "4              4  Full Formula (W16 Se1 S30 O1)\\nReduced Formula...\n",
       "...          ...                                                ...\n",
       "3475        3475  Full Formula (W36 Se70 S1 O1)\\nReduced Formula...\n",
       "3476        3476  Full Formula (W36 Se70 S1 O1)\\nReduced Formula...\n",
       "3477        3477  Full Formula (W36 Se70 S1 O1)\\nReduced Formula...\n",
       "3478        3478  Full Formula (W36 Se70 S1 O1)\\nReduced Formula...\n",
       "3479        3479  Full Formula (W36 Se70 S1 O1)\\nReduced Formula...\n",
       "\n",
       "[3480 rows x 2 columns]"
      ]
     },
     "execution_count": 9,
     "metadata": {},
     "output_type": "execute_result"
    }
   ],
   "source": [
    "structures=pd.read_csv('structures.csv')"
   ]
  },
  {
   "cell_type": "code",
   "execution_count": 10,
   "id": "4af708a8",
   "metadata": {},
   "outputs": [],
   "source": [
    "atoms_list=np.load('atoms_list.npy', allow_pickle=True)"
   ]
  },
  {
   "cell_type": "code",
   "execution_count": 12,
   "id": "e42274f6",
   "metadata": {},
   "outputs": [
    {
     "name": "stderr",
     "output_type": "stream",
     "text": [
      "100%|██████████| 3480/3480 [00:02<00:00, 1281.40it/s]\n"
     ]
    }
   ],
   "source": [
    "from torch_geometric.data import Data\n",
    "import torch\n",
    "import ase\n",
    "from pymatgen.io.ase import AseAtomsAdaptor\n",
    "\n",
    "i=0\n",
    "data_atoms = []\n",
    "for atoms in tqdm(atoms_list):\n",
    "    atoms=AseAtomsAdaptor.get_atoms(atoms)\n",
    "    # set the atomic numbers, positions, and cell\n",
    "    atomic_numbers = torch.Tensor(atoms.get_atomic_numbers())\n",
    "    positions = torch.Tensor(atoms.get_positions())\n",
    "    natoms = positions.shape[0]\n",
    "    \n",
    "    # put the minimum data in torch geometric data object\n",
    "    data = Data(\n",
    "        pos=positions,\n",
    "        atomic_numbers=atomic_numbers,\n",
    "        natoms=natoms,\n",
    "    )\n",
    "    \n",
    "    # calculate energy\n",
    "    data.y = label[i]\n",
    "    i=i+1\n",
    "    data_atoms.append(data)"
   ]
  },
  {
   "cell_type": "code",
   "execution_count": 9,
   "id": "cef08052",
   "metadata": {},
   "outputs": [],
   "source": [
    "from torch_geometric.data import DataLoader\n",
    "train_dataset, test_dataset = train_test_split(data_atoms, test_size=0.2)\n",
    "train_loader = DataLoader(train_dataset, batch_size=1)\n",
    "test_loader = DataLoader(test_dataset, batch_size=1)"
   ]
  },
  {
   "cell_type": "code",
   "execution_count": 10,
   "id": "7a942304",
   "metadata": {},
   "outputs": [],
   "source": [
    "model=EdgeUpdateNet()\n",
    "device = 'cuda:2' if torch.cuda.is_available() else 'cpu'\n",
    "#device='cpu'\n",
    "model = model.to(device)\n",
    "\n",
    "optimizer = torch.optim.Adam(model.parameters(), lr=1e-3)\n",
    "epochs = 10\n",
    "#\n",
    "loss_func = torch.nn.L1Loss() #define loss\n",
    "scheduler = torch.optim.lr_scheduler.CosineAnnealingLR(optimizer, T_max=256)"
   ]
  },
  {
   "cell_type": "code",
   "execution_count": 11,
   "id": "dd56911a",
   "metadata": {},
   "outputs": [
    {
     "name": "stderr",
     "output_type": "stream",
     "text": [
      "  0%|          | 0/2784 [00:00<?, ?it/s]/miniconda/envs/crystalvae/lib/python3.6/site-packages/torch/nn/modules/loss.py:96: UserWarning:\n",
      "\n",
      "Using a target size (torch.Size([1])) that is different to the input size (torch.Size([1, 1])). This will likely lead to incorrect results due to broadcasting. Please ensure they have the same size.\n",
      "\n",
      "100%|██████████| 2784/2784 [01:19<00:00, 35.04it/s]\n",
      "100%|██████████| 696/696 [00:05<00:00, 116.98it/s]\n"
     ]
    },
    {
     "name": "stdout",
     "output_type": "stream",
     "text": [
      "Epoch: 000, Average loss: 21.87341\n",
      "Epoch: 000, Average loss: 3.13777\n"
     ]
    },
    {
     "name": "stderr",
     "output_type": "stream",
     "text": [
      "100%|██████████| 2784/2784 [01:44<00:00, 26.64it/s]\n",
      "100%|██████████| 696/696 [00:11<00:00, 60.48it/s]\n"
     ]
    },
    {
     "name": "stdout",
     "output_type": "stream",
     "text": [
      "Epoch: 001, Average loss: 5.98359\n",
      "Epoch: 001, Average loss: 4.74019\n"
     ]
    },
    {
     "name": "stderr",
     "output_type": "stream",
     "text": [
      "100%|██████████| 2784/2784 [01:53<00:00, 24.63it/s]\n",
      "100%|██████████| 696/696 [00:12<00:00, 56.04it/s]\n"
     ]
    },
    {
     "name": "stdout",
     "output_type": "stream",
     "text": [
      "Epoch: 002, Average loss: 5.47282\n",
      "Epoch: 002, Average loss: 11.53799\n"
     ]
    },
    {
     "name": "stderr",
     "output_type": "stream",
     "text": [
      "100%|██████████| 2784/2784 [01:53<00:00, 24.61it/s]\n",
      "100%|██████████| 696/696 [00:12<00:00, 57.94it/s]\n"
     ]
    },
    {
     "name": "stdout",
     "output_type": "stream",
     "text": [
      "Epoch: 003, Average loss: 5.14910\n",
      "Epoch: 003, Average loss: 6.69274\n"
     ]
    },
    {
     "name": "stderr",
     "output_type": "stream",
     "text": [
      "100%|██████████| 2784/2784 [01:51<00:00, 24.93it/s]\n",
      "100%|██████████| 696/696 [00:12<00:00, 57.09it/s]\n"
     ]
    },
    {
     "name": "stdout",
     "output_type": "stream",
     "text": [
      "Epoch: 004, Average loss: 5.20908\n",
      "Epoch: 004, Average loss: 2.77110\n"
     ]
    },
    {
     "name": "stderr",
     "output_type": "stream",
     "text": [
      "100%|██████████| 2784/2784 [01:50<00:00, 25.29it/s]\n",
      "100%|██████████| 696/696 [00:12<00:00, 55.96it/s]\n"
     ]
    },
    {
     "name": "stdout",
     "output_type": "stream",
     "text": [
      "Epoch: 005, Average loss: 4.39150\n",
      "Epoch: 005, Average loss: 2.27089\n"
     ]
    },
    {
     "name": "stderr",
     "output_type": "stream",
     "text": [
      "100%|██████████| 2784/2784 [01:52<00:00, 24.64it/s]\n",
      "100%|██████████| 696/696 [00:11<00:00, 58.78it/s]\n"
     ]
    },
    {
     "name": "stdout",
     "output_type": "stream",
     "text": [
      "Epoch: 006, Average loss: 4.24070\n",
      "Epoch: 006, Average loss: 3.52117\n"
     ]
    },
    {
     "name": "stderr",
     "output_type": "stream",
     "text": [
      "100%|██████████| 2784/2784 [01:51<00:00, 24.90it/s]\n",
      "100%|██████████| 696/696 [00:11<00:00, 60.89it/s]\n"
     ]
    },
    {
     "name": "stdout",
     "output_type": "stream",
     "text": [
      "Epoch: 007, Average loss: 4.01999\n",
      "Epoch: 007, Average loss: 8.78576\n"
     ]
    },
    {
     "name": "stderr",
     "output_type": "stream",
     "text": [
      "100%|██████████| 2784/2784 [01:49<00:00, 25.46it/s]\n",
      "100%|██████████| 696/696 [00:12<00:00, 54.63it/s]\n"
     ]
    },
    {
     "name": "stdout",
     "output_type": "stream",
     "text": [
      "Epoch: 008, Average loss: 3.61405\n",
      "Epoch: 008, Average loss: 3.31942\n"
     ]
    },
    {
     "name": "stderr",
     "output_type": "stream",
     "text": [
      "100%|██████████| 2784/2784 [01:25<00:00, 32.69it/s]\n",
      "100%|██████████| 696/696 [00:06<00:00, 110.16it/s]\n"
     ]
    },
    {
     "name": "stdout",
     "output_type": "stream",
     "text": [
      "Epoch: 009, Average loss: 3.81711\n",
      "Epoch: 009, Average loss: 2.32790\n"
     ]
    },
    {
     "name": "stderr",
     "output_type": "stream",
     "text": [
      "100%|██████████| 2784/2784 [01:47<00:00, 25.94it/s]\n",
      "100%|██████████| 696/696 [00:12<00:00, 56.67it/s] \n"
     ]
    },
    {
     "name": "stdout",
     "output_type": "stream",
     "text": [
      "Epoch: 010, Average loss: 3.51156\n",
      "Epoch: 010, Average loss: 2.42440\n"
     ]
    },
    {
     "name": "stderr",
     "output_type": "stream",
     "text": [
      "100%|██████████| 2784/2784 [01:53<00:00, 24.48it/s]\n",
      "100%|██████████| 696/696 [00:12<00:00, 55.86it/s]\n"
     ]
    },
    {
     "name": "stdout",
     "output_type": "stream",
     "text": [
      "Epoch: 011, Average loss: 3.23205\n",
      "Epoch: 011, Average loss: 2.05831\n"
     ]
    },
    {
     "name": "stderr",
     "output_type": "stream",
     "text": [
      "100%|██████████| 2784/2784 [01:53<00:00, 24.51it/s]\n",
      "100%|██████████| 696/696 [00:12<00:00, 57.53it/s]\n"
     ]
    },
    {
     "name": "stdout",
     "output_type": "stream",
     "text": [
      "Epoch: 012, Average loss: 3.27830\n",
      "Epoch: 012, Average loss: 6.26495\n"
     ]
    },
    {
     "name": "stderr",
     "output_type": "stream",
     "text": [
      "100%|██████████| 2784/2784 [01:54<00:00, 24.36it/s]\n",
      "100%|██████████| 696/696 [00:12<00:00, 57.58it/s]\n"
     ]
    },
    {
     "name": "stdout",
     "output_type": "stream",
     "text": [
      "Epoch: 013, Average loss: 7.07722\n",
      "Epoch: 013, Average loss: 4.92192\n"
     ]
    },
    {
     "name": "stderr",
     "output_type": "stream",
     "text": [
      "100%|██████████| 2784/2784 [01:53<00:00, 24.45it/s]\n",
      "100%|██████████| 696/696 [00:12<00:00, 56.47it/s]\n"
     ]
    },
    {
     "name": "stdout",
     "output_type": "stream",
     "text": [
      "Epoch: 014, Average loss: 3.07536\n",
      "Epoch: 014, Average loss: 2.65137\n"
     ]
    },
    {
     "name": "stderr",
     "output_type": "stream",
     "text": [
      "100%|██████████| 2784/2784 [01:53<00:00, 24.48it/s]\n",
      "100%|██████████| 696/696 [00:12<00:00, 56.89it/s]\n"
     ]
    },
    {
     "name": "stdout",
     "output_type": "stream",
     "text": [
      "Epoch: 015, Average loss: 3.07158\n",
      "Epoch: 015, Average loss: 1.63165\n"
     ]
    },
    {
     "name": "stderr",
     "output_type": "stream",
     "text": [
      "100%|██████████| 2784/2784 [01:54<00:00, 24.36it/s]\n",
      "100%|██████████| 696/696 [00:12<00:00, 57.04it/s]\n"
     ]
    },
    {
     "name": "stdout",
     "output_type": "stream",
     "text": [
      "Epoch: 016, Average loss: 3.07687\n",
      "Epoch: 016, Average loss: 4.39564\n"
     ]
    },
    {
     "name": "stderr",
     "output_type": "stream",
     "text": [
      "100%|██████████| 2784/2784 [01:46<00:00, 26.21it/s]\n",
      "100%|██████████| 696/696 [00:10<00:00, 68.26it/s] \n"
     ]
    },
    {
     "name": "stdout",
     "output_type": "stream",
     "text": [
      "Epoch: 017, Average loss: 3.17446\n",
      "Epoch: 017, Average loss: 1.57770\n"
     ]
    },
    {
     "name": "stderr",
     "output_type": "stream",
     "text": [
      "100%|██████████| 2784/2784 [01:13<00:00, 38.06it/s]\n",
      "100%|██████████| 696/696 [00:10<00:00, 64.97it/s] \n"
     ]
    },
    {
     "name": "stdout",
     "output_type": "stream",
     "text": [
      "Epoch: 018, Average loss: 2.90963\n",
      "Epoch: 018, Average loss: 1.49234\n"
     ]
    },
    {
     "name": "stderr",
     "output_type": "stream",
     "text": [
      "100%|██████████| 2784/2784 [01:47<00:00, 25.78it/s]\n",
      "100%|██████████| 696/696 [00:10<00:00, 65.67it/s] \n"
     ]
    },
    {
     "name": "stdout",
     "output_type": "stream",
     "text": [
      "Epoch: 019, Average loss: 3.21579\n",
      "Epoch: 019, Average loss: 1.42757\n"
     ]
    },
    {
     "name": "stderr",
     "output_type": "stream",
     "text": [
      "100%|██████████| 2784/2784 [01:43<00:00, 26.87it/s]\n",
      "100%|██████████| 696/696 [00:11<00:00, 61.51it/s] \n"
     ]
    },
    {
     "name": "stdout",
     "output_type": "stream",
     "text": [
      "Epoch: 020, Average loss: 2.92091\n",
      "Epoch: 020, Average loss: 3.68150\n"
     ]
    },
    {
     "name": "stderr",
     "output_type": "stream",
     "text": [
      "100%|██████████| 2784/2784 [01:48<00:00, 25.63it/s]\n",
      "100%|██████████| 696/696 [00:11<00:00, 61.66it/s]\n"
     ]
    },
    {
     "name": "stdout",
     "output_type": "stream",
     "text": [
      "Epoch: 021, Average loss: 3.39133\n",
      "Epoch: 021, Average loss: 1.40768\n"
     ]
    },
    {
     "name": "stderr",
     "output_type": "stream",
     "text": [
      "100%|██████████| 2784/2784 [01:49<00:00, 25.51it/s]\n",
      "100%|██████████| 696/696 [00:12<00:00, 57.09it/s]\n"
     ]
    },
    {
     "name": "stdout",
     "output_type": "stream",
     "text": [
      "Epoch: 022, Average loss: 2.99549\n",
      "Epoch: 022, Average loss: 1.39498\n"
     ]
    },
    {
     "name": "stderr",
     "output_type": "stream",
     "text": [
      "100%|██████████| 2784/2784 [01:49<00:00, 25.33it/s]\n",
      "100%|██████████| 696/696 [00:11<00:00, 58.92it/s]\n"
     ]
    },
    {
     "name": "stdout",
     "output_type": "stream",
     "text": [
      "Epoch: 023, Average loss: 2.80946\n",
      "Epoch: 023, Average loss: 1.74965\n"
     ]
    },
    {
     "name": "stderr",
     "output_type": "stream",
     "text": [
      "100%|██████████| 2784/2784 [01:51<00:00, 25.06it/s]\n",
      "100%|██████████| 696/696 [00:11<00:00, 59.17it/s]\n"
     ]
    },
    {
     "name": "stdout",
     "output_type": "stream",
     "text": [
      "Epoch: 024, Average loss: 2.81274\n",
      "Epoch: 024, Average loss: 2.73129\n"
     ]
    },
    {
     "name": "stderr",
     "output_type": "stream",
     "text": [
      "100%|██████████| 2784/2784 [01:51<00:00, 24.93it/s]\n",
      "100%|██████████| 696/696 [00:11<00:00, 58.01it/s]\n"
     ]
    },
    {
     "name": "stdout",
     "output_type": "stream",
     "text": [
      "Epoch: 025, Average loss: 2.91236\n",
      "Epoch: 025, Average loss: 1.59320\n"
     ]
    },
    {
     "name": "stderr",
     "output_type": "stream",
     "text": [
      "100%|██████████| 2784/2784 [01:51<00:00, 25.00it/s]\n",
      "100%|██████████| 696/696 [00:11<00:00, 60.57it/s] \n"
     ]
    },
    {
     "name": "stdout",
     "output_type": "stream",
     "text": [
      "Epoch: 026, Average loss: 2.63436\n",
      "Epoch: 026, Average loss: 4.42071\n"
     ]
    },
    {
     "name": "stderr",
     "output_type": "stream",
     "text": [
      "100%|██████████| 2784/2784 [01:26<00:00, 32.11it/s]\n",
      "100%|██████████| 696/696 [00:06<00:00, 109.61it/s]\n"
     ]
    },
    {
     "name": "stdout",
     "output_type": "stream",
     "text": [
      "Epoch: 027, Average loss: 2.83861\n",
      "Epoch: 027, Average loss: 3.68809\n"
     ]
    },
    {
     "name": "stderr",
     "output_type": "stream",
     "text": [
      "100%|██████████| 2784/2784 [01:46<00:00, 26.22it/s]\n",
      "100%|██████████| 696/696 [00:12<00:00, 57.74it/s]\n"
     ]
    },
    {
     "name": "stdout",
     "output_type": "stream",
     "text": [
      "Epoch: 028, Average loss: 2.74044\n",
      "Epoch: 028, Average loss: 2.95452\n"
     ]
    },
    {
     "name": "stderr",
     "output_type": "stream",
     "text": [
      "100%|██████████| 2784/2784 [01:50<00:00, 25.28it/s]\n",
      "100%|██████████| 696/696 [00:12<00:00, 57.58it/s]\n"
     ]
    },
    {
     "name": "stdout",
     "output_type": "stream",
     "text": [
      "Epoch: 029, Average loss: 2.76601\n",
      "Epoch: 029, Average loss: 4.37357\n"
     ]
    },
    {
     "name": "stderr",
     "output_type": "stream",
     "text": [
      "100%|██████████| 2784/2784 [01:50<00:00, 25.26it/s]\n",
      "100%|██████████| 696/696 [00:11<00:00, 58.58it/s] \n"
     ]
    },
    {
     "name": "stdout",
     "output_type": "stream",
     "text": [
      "Epoch: 030, Average loss: 2.89602\n",
      "Epoch: 030, Average loss: 6.85625\n"
     ]
    },
    {
     "name": "stderr",
     "output_type": "stream",
     "text": [
      "100%|██████████| 2784/2784 [01:51<00:00, 24.97it/s]\n",
      "100%|██████████| 696/696 [00:12<00:00, 56.89it/s]\n"
     ]
    },
    {
     "name": "stdout",
     "output_type": "stream",
     "text": [
      "Epoch: 031, Average loss: 2.59965\n",
      "Epoch: 031, Average loss: 1.24335\n"
     ]
    },
    {
     "name": "stderr",
     "output_type": "stream",
     "text": [
      "100%|██████████| 2784/2784 [01:52<00:00, 24.83it/s]\n",
      "100%|██████████| 696/696 [00:12<00:00, 57.23it/s]\n"
     ]
    },
    {
     "name": "stdout",
     "output_type": "stream",
     "text": [
      "Epoch: 032, Average loss: 2.83536\n",
      "Epoch: 032, Average loss: 1.16280\n"
     ]
    },
    {
     "name": "stderr",
     "output_type": "stream",
     "text": [
      "100%|██████████| 2784/2784 [01:52<00:00, 24.81it/s]\n",
      "100%|██████████| 696/696 [00:12<00:00, 57.12it/s]\n"
     ]
    },
    {
     "name": "stdout",
     "output_type": "stream",
     "text": [
      "Epoch: 033, Average loss: 2.79332\n",
      "Epoch: 033, Average loss: 6.64021\n"
     ]
    },
    {
     "name": "stderr",
     "output_type": "stream",
     "text": [
      "100%|██████████| 2784/2784 [01:53<00:00, 24.63it/s]\n",
      "100%|██████████| 696/696 [00:12<00:00, 55.23it/s]\n"
     ]
    },
    {
     "name": "stdout",
     "output_type": "stream",
     "text": [
      "Epoch: 034, Average loss: 2.54396\n",
      "Epoch: 034, Average loss: 6.53867\n"
     ]
    },
    {
     "name": "stderr",
     "output_type": "stream",
     "text": [
      "100%|██████████| 2784/2784 [01:51<00:00, 25.06it/s]\n",
      "100%|██████████| 696/696 [00:09<00:00, 74.32it/s] \n"
     ]
    },
    {
     "name": "stdout",
     "output_type": "stream",
     "text": [
      "Epoch: 035, Average loss: 2.59531\n",
      "Epoch: 035, Average loss: 3.73068\n"
     ]
    },
    {
     "name": "stderr",
     "output_type": "stream",
     "text": [
      "100%|██████████| 2784/2784 [01:21<00:00, 34.17it/s]\n",
      "100%|██████████| 696/696 [00:06<00:00, 105.36it/s]\n"
     ]
    },
    {
     "name": "stdout",
     "output_type": "stream",
     "text": [
      "Epoch: 036, Average loss: 2.39364\n",
      "Epoch: 036, Average loss: 2.73986\n"
     ]
    },
    {
     "name": "stderr",
     "output_type": "stream",
     "text": [
      "100%|██████████| 2784/2784 [01:48<00:00, 25.71it/s]\n",
      "100%|██████████| 696/696 [00:12<00:00, 57.70it/s]\n"
     ]
    },
    {
     "name": "stdout",
     "output_type": "stream",
     "text": [
      "Epoch: 037, Average loss: 2.48994\n",
      "Epoch: 037, Average loss: 1.71775\n"
     ]
    },
    {
     "name": "stderr",
     "output_type": "stream",
     "text": [
      "100%|██████████| 2784/2784 [01:49<00:00, 25.45it/s]\n",
      "100%|██████████| 696/696 [00:12<00:00, 56.93it/s]\n"
     ]
    },
    {
     "name": "stdout",
     "output_type": "stream",
     "text": [
      "Epoch: 038, Average loss: 2.69429\n",
      "Epoch: 038, Average loss: 1.94069\n"
     ]
    },
    {
     "name": "stderr",
     "output_type": "stream",
     "text": [
      "100%|██████████| 2784/2784 [01:50<00:00, 25.26it/s]\n",
      "100%|██████████| 696/696 [00:12<00:00, 57.19it/s]\n"
     ]
    },
    {
     "name": "stdout",
     "output_type": "stream",
     "text": [
      "Epoch: 039, Average loss: 2.56561\n",
      "Epoch: 039, Average loss: 1.47551\n"
     ]
    },
    {
     "name": "stderr",
     "output_type": "stream",
     "text": [
      "100%|██████████| 2784/2784 [01:50<00:00, 25.26it/s]\n",
      "100%|██████████| 696/696 [00:12<00:00, 57.06it/s]\n"
     ]
    },
    {
     "name": "stdout",
     "output_type": "stream",
     "text": [
      "Epoch: 040, Average loss: 2.46777\n",
      "Epoch: 040, Average loss: 6.50862\n"
     ]
    },
    {
     "name": "stderr",
     "output_type": "stream",
     "text": [
      "100%|██████████| 2784/2784 [01:08<00:00, 40.73it/s]\n",
      "100%|██████████| 696/696 [00:03<00:00, 187.06it/s]\n"
     ]
    },
    {
     "name": "stdout",
     "output_type": "stream",
     "text": [
      "Epoch: 041, Average loss: 2.53234\n",
      "Epoch: 041, Average loss: 3.29949\n"
     ]
    },
    {
     "name": "stderr",
     "output_type": "stream",
     "text": [
      "100%|██████████| 2784/2784 [00:39<00:00, 70.27it/s]\n",
      "100%|██████████| 696/696 [00:03<00:00, 184.27it/s]\n"
     ]
    },
    {
     "name": "stdout",
     "output_type": "stream",
     "text": [
      "Epoch: 042, Average loss: 2.39112\n",
      "Epoch: 042, Average loss: 1.42955\n"
     ]
    },
    {
     "name": "stderr",
     "output_type": "stream",
     "text": [
      "100%|██████████| 2784/2784 [00:39<00:00, 70.59it/s]\n",
      "100%|██████████| 696/696 [00:03<00:00, 185.33it/s]\n"
     ]
    },
    {
     "name": "stdout",
     "output_type": "stream",
     "text": [
      "Epoch: 043, Average loss: 2.39538\n",
      "Epoch: 043, Average loss: 1.15583\n"
     ]
    },
    {
     "name": "stderr",
     "output_type": "stream",
     "text": [
      "100%|██████████| 2784/2784 [00:39<00:00, 69.83it/s]\n",
      "100%|██████████| 696/696 [00:03<00:00, 184.68it/s]\n"
     ]
    },
    {
     "name": "stdout",
     "output_type": "stream",
     "text": [
      "Epoch: 044, Average loss: 2.45736\n",
      "Epoch: 044, Average loss: 1.37004\n"
     ]
    },
    {
     "name": "stderr",
     "output_type": "stream",
     "text": [
      "100%|██████████| 2784/2784 [00:39<00:00, 70.45it/s]\n",
      "100%|██████████| 696/696 [00:03<00:00, 185.19it/s]\n"
     ]
    },
    {
     "name": "stdout",
     "output_type": "stream",
     "text": [
      "Epoch: 045, Average loss: 2.40658\n",
      "Epoch: 045, Average loss: 5.11162\n"
     ]
    },
    {
     "name": "stderr",
     "output_type": "stream",
     "text": [
      "100%|██████████| 2784/2784 [00:39<00:00, 70.62it/s]\n",
      "100%|██████████| 696/696 [00:03<00:00, 185.55it/s]\n"
     ]
    },
    {
     "name": "stdout",
     "output_type": "stream",
     "text": [
      "Epoch: 046, Average loss: 2.62047\n",
      "Epoch: 046, Average loss: 1.97346\n"
     ]
    },
    {
     "name": "stderr",
     "output_type": "stream",
     "text": [
      "100%|██████████| 2784/2784 [00:39<00:00, 70.54it/s]\n",
      "100%|██████████| 696/696 [00:03<00:00, 185.91it/s]\n"
     ]
    },
    {
     "name": "stdout",
     "output_type": "stream",
     "text": [
      "Epoch: 047, Average loss: 2.41985\n",
      "Epoch: 047, Average loss: 5.01225\n"
     ]
    },
    {
     "name": "stderr",
     "output_type": "stream",
     "text": [
      "100%|██████████| 2784/2784 [00:39<00:00, 70.43it/s]\n",
      "100%|██████████| 696/696 [00:03<00:00, 185.64it/s]\n"
     ]
    },
    {
     "name": "stdout",
     "output_type": "stream",
     "text": [
      "Epoch: 048, Average loss: 2.38687\n",
      "Epoch: 048, Average loss: 1.75291\n"
     ]
    },
    {
     "name": "stderr",
     "output_type": "stream",
     "text": [
      "100%|██████████| 2784/2784 [00:39<00:00, 70.26it/s]\n",
      "100%|██████████| 696/696 [00:03<00:00, 183.61it/s]\n"
     ]
    },
    {
     "name": "stdout",
     "output_type": "stream",
     "text": [
      "Epoch: 049, Average loss: 2.32935\n",
      "Epoch: 049, Average loss: 2.46099\n"
     ]
    },
    {
     "name": "stderr",
     "output_type": "stream",
     "text": [
      "100%|██████████| 2784/2784 [00:40<00:00, 68.98it/s]\n",
      "100%|██████████| 696/696 [00:03<00:00, 184.95it/s]\n"
     ]
    },
    {
     "name": "stdout",
     "output_type": "stream",
     "text": [
      "Epoch: 050, Average loss: 2.21097\n",
      "Epoch: 050, Average loss: 1.45222\n"
     ]
    },
    {
     "name": "stderr",
     "output_type": "stream",
     "text": [
      "100%|██████████| 2784/2784 [00:40<00:00, 68.33it/s]\n",
      "100%|██████████| 696/696 [00:03<00:00, 174.57it/s]\n"
     ]
    },
    {
     "name": "stdout",
     "output_type": "stream",
     "text": [
      "Epoch: 051, Average loss: 4.01883\n",
      "Epoch: 051, Average loss: 1.57748\n"
     ]
    },
    {
     "name": "stderr",
     "output_type": "stream",
     "text": [
      "100%|██████████| 2784/2784 [00:40<00:00, 68.19it/s]\n",
      "100%|██████████| 696/696 [00:03<00:00, 180.25it/s]\n"
     ]
    },
    {
     "name": "stdout",
     "output_type": "stream",
     "text": [
      "Epoch: 052, Average loss: 2.08201\n",
      "Epoch: 052, Average loss: 5.02013\n"
     ]
    },
    {
     "name": "stderr",
     "output_type": "stream",
     "text": [
      "100%|██████████| 2784/2784 [00:40<00:00, 68.82it/s]\n",
      "100%|██████████| 696/696 [00:03<00:00, 181.93it/s]\n"
     ]
    },
    {
     "name": "stdout",
     "output_type": "stream",
     "text": [
      "Epoch: 053, Average loss: 2.34180\n",
      "Epoch: 053, Average loss: 3.86942\n"
     ]
    },
    {
     "name": "stderr",
     "output_type": "stream",
     "text": [
      "100%|██████████| 2784/2784 [00:40<00:00, 69.08it/s]\n",
      "100%|██████████| 696/696 [00:03<00:00, 184.01it/s]\n"
     ]
    },
    {
     "name": "stdout",
     "output_type": "stream",
     "text": [
      "Epoch: 054, Average loss: 2.20666\n",
      "Epoch: 054, Average loss: 2.44617\n"
     ]
    },
    {
     "name": "stderr",
     "output_type": "stream",
     "text": [
      "100%|██████████| 2784/2784 [00:40<00:00, 69.13it/s]\n",
      "100%|██████████| 696/696 [00:03<00:00, 183.77it/s]\n"
     ]
    },
    {
     "name": "stdout",
     "output_type": "stream",
     "text": [
      "Epoch: 055, Average loss: 2.29875\n",
      "Epoch: 055, Average loss: 1.64568\n"
     ]
    },
    {
     "name": "stderr",
     "output_type": "stream",
     "text": [
      "100%|██████████| 2784/2784 [00:39<00:00, 69.95it/s]\n",
      "100%|██████████| 696/696 [00:03<00:00, 185.76it/s]\n"
     ]
    },
    {
     "name": "stdout",
     "output_type": "stream",
     "text": [
      "Epoch: 056, Average loss: 2.12071\n",
      "Epoch: 056, Average loss: 4.77924\n"
     ]
    },
    {
     "name": "stderr",
     "output_type": "stream",
     "text": [
      "100%|██████████| 2784/2784 [00:39<00:00, 69.80it/s]\n",
      "100%|██████████| 696/696 [00:03<00:00, 184.35it/s]\n"
     ]
    },
    {
     "name": "stdout",
     "output_type": "stream",
     "text": [
      "Epoch: 057, Average loss: 2.21912\n",
      "Epoch: 057, Average loss: 1.14646\n"
     ]
    },
    {
     "name": "stderr",
     "output_type": "stream",
     "text": [
      "100%|██████████| 2784/2784 [00:40<00:00, 68.80it/s]\n",
      "100%|██████████| 696/696 [00:03<00:00, 179.22it/s]\n"
     ]
    },
    {
     "name": "stdout",
     "output_type": "stream",
     "text": [
      "Epoch: 058, Average loss: 2.18194\n",
      "Epoch: 058, Average loss: 3.44966\n"
     ]
    },
    {
     "name": "stderr",
     "output_type": "stream",
     "text": [
      "100%|██████████| 2784/2784 [00:40<00:00, 69.43it/s]\n",
      "100%|██████████| 696/696 [00:03<00:00, 185.17it/s]\n"
     ]
    },
    {
     "name": "stdout",
     "output_type": "stream",
     "text": [
      "Epoch: 059, Average loss: 2.22354\n",
      "Epoch: 059, Average loss: 1.37795\n"
     ]
    },
    {
     "name": "stderr",
     "output_type": "stream",
     "text": [
      "100%|██████████| 2784/2784 [00:40<00:00, 69.12it/s]\n",
      "100%|██████████| 696/696 [00:03<00:00, 185.34it/s]\n"
     ]
    },
    {
     "name": "stdout",
     "output_type": "stream",
     "text": [
      "Epoch: 060, Average loss: 2.31891\n",
      "Epoch: 060, Average loss: 4.60179\n"
     ]
    },
    {
     "name": "stderr",
     "output_type": "stream",
     "text": [
      "100%|██████████| 2784/2784 [00:40<00:00, 68.44it/s]\n",
      "100%|██████████| 696/696 [00:03<00:00, 184.28it/s]\n"
     ]
    },
    {
     "name": "stdout",
     "output_type": "stream",
     "text": [
      "Epoch: 061, Average loss: 2.05842\n",
      "Epoch: 061, Average loss: 3.15016\n"
     ]
    },
    {
     "name": "stderr",
     "output_type": "stream",
     "text": [
      "100%|██████████| 2784/2784 [00:40<00:00, 68.42it/s]\n",
      "100%|██████████| 696/696 [00:03<00:00, 181.58it/s]\n"
     ]
    },
    {
     "name": "stdout",
     "output_type": "stream",
     "text": [
      "Epoch: 062, Average loss: 2.11973\n",
      "Epoch: 062, Average loss: 4.28598\n"
     ]
    },
    {
     "name": "stderr",
     "output_type": "stream",
     "text": [
      "100%|██████████| 2784/2784 [00:40<00:00, 69.13it/s]\n",
      "100%|██████████| 696/696 [00:03<00:00, 181.52it/s]\n"
     ]
    },
    {
     "name": "stdout",
     "output_type": "stream",
     "text": [
      "Epoch: 063, Average loss: 2.17032\n",
      "Epoch: 063, Average loss: 3.25155\n"
     ]
    },
    {
     "name": "stderr",
     "output_type": "stream",
     "text": [
      "100%|██████████| 2784/2784 [00:40<00:00, 68.16it/s]\n",
      "100%|██████████| 696/696 [00:03<00:00, 182.82it/s]\n"
     ]
    },
    {
     "name": "stdout",
     "output_type": "stream",
     "text": [
      "Epoch: 064, Average loss: 2.04218\n",
      "Epoch: 064, Average loss: 1.46603\n"
     ]
    },
    {
     "name": "stderr",
     "output_type": "stream",
     "text": [
      "100%|██████████| 2784/2784 [00:40<00:00, 68.90it/s]\n",
      "100%|██████████| 696/696 [00:03<00:00, 181.51it/s]\n"
     ]
    },
    {
     "name": "stdout",
     "output_type": "stream",
     "text": [
      "Epoch: 065, Average loss: 2.06858\n",
      "Epoch: 065, Average loss: 2.47158\n"
     ]
    },
    {
     "name": "stderr",
     "output_type": "stream",
     "text": [
      "100%|██████████| 2784/2784 [00:40<00:00, 69.28it/s]\n",
      "100%|██████████| 696/696 [00:03<00:00, 183.40it/s]\n"
     ]
    },
    {
     "name": "stdout",
     "output_type": "stream",
     "text": [
      "Epoch: 066, Average loss: 1.97461\n",
      "Epoch: 066, Average loss: 2.93305\n"
     ]
    },
    {
     "name": "stderr",
     "output_type": "stream",
     "text": [
      "100%|██████████| 2784/2784 [00:40<00:00, 68.59it/s]\n",
      "100%|██████████| 696/696 [00:03<00:00, 181.41it/s]\n"
     ]
    },
    {
     "name": "stdout",
     "output_type": "stream",
     "text": [
      "Epoch: 067, Average loss: 2.14343\n",
      "Epoch: 067, Average loss: 4.05154\n"
     ]
    },
    {
     "name": "stderr",
     "output_type": "stream",
     "text": [
      "100%|██████████| 2784/2784 [00:40<00:00, 69.40it/s]\n",
      "100%|██████████| 696/696 [00:03<00:00, 184.54it/s]\n"
     ]
    },
    {
     "name": "stdout",
     "output_type": "stream",
     "text": [
      "Epoch: 068, Average loss: 2.05032\n",
      "Epoch: 068, Average loss: 4.61557\n"
     ]
    },
    {
     "name": "stderr",
     "output_type": "stream",
     "text": [
      "100%|██████████| 2784/2784 [00:40<00:00, 68.99it/s]\n",
      "100%|██████████| 696/696 [00:03<00:00, 183.90it/s]\n"
     ]
    },
    {
     "name": "stdout",
     "output_type": "stream",
     "text": [
      "Epoch: 069, Average loss: 1.98046\n",
      "Epoch: 069, Average loss: 3.17295\n"
     ]
    },
    {
     "name": "stderr",
     "output_type": "stream",
     "text": [
      "100%|██████████| 2784/2784 [00:40<00:00, 68.12it/s]\n",
      "100%|██████████| 696/696 [00:03<00:00, 186.18it/s]\n"
     ]
    },
    {
     "name": "stdout",
     "output_type": "stream",
     "text": [
      "Epoch: 070, Average loss: 1.99730\n",
      "Epoch: 070, Average loss: 3.00803\n"
     ]
    },
    {
     "name": "stderr",
     "output_type": "stream",
     "text": [
      "100%|██████████| 2784/2784 [00:40<00:00, 69.07it/s]\n",
      "100%|██████████| 696/696 [00:03<00:00, 185.99it/s]\n"
     ]
    },
    {
     "name": "stdout",
     "output_type": "stream",
     "text": [
      "Epoch: 071, Average loss: 1.93534\n",
      "Epoch: 071, Average loss: 1.30459\n"
     ]
    },
    {
     "name": "stderr",
     "output_type": "stream",
     "text": [
      "100%|██████████| 2784/2784 [00:40<00:00, 68.87it/s]\n",
      "100%|██████████| 696/696 [00:03<00:00, 175.57it/s]\n"
     ]
    },
    {
     "name": "stdout",
     "output_type": "stream",
     "text": [
      "Epoch: 074, Average loss: 2.63449\n",
      "Epoch: 074, Average loss: 3.45973\n"
     ]
    },
    {
     "name": "stderr",
     "output_type": "stream",
     "text": [
      "100%|██████████| 2784/2784 [00:40<00:00, 68.86it/s]\n",
      "100%|██████████| 696/696 [00:03<00:00, 182.41it/s]\n"
     ]
    },
    {
     "name": "stdout",
     "output_type": "stream",
     "text": [
      "Epoch: 075, Average loss: 1.83150\n",
      "Epoch: 075, Average loss: 2.87866\n"
     ]
    },
    {
     "name": "stderr",
     "output_type": "stream",
     "text": [
      "100%|██████████| 2784/2784 [00:40<00:00, 68.27it/s]\n",
      "100%|██████████| 696/696 [00:03<00:00, 184.71it/s]\n"
     ]
    },
    {
     "name": "stdout",
     "output_type": "stream",
     "text": [
      "Epoch: 076, Average loss: 1.87100\n",
      "Epoch: 076, Average loss: 1.55907\n"
     ]
    },
    {
     "name": "stderr",
     "output_type": "stream",
     "text": [
      "100%|██████████| 2784/2784 [00:40<00:00, 68.66it/s]\n",
      "100%|██████████| 696/696 [00:03<00:00, 183.14it/s]\n"
     ]
    },
    {
     "name": "stdout",
     "output_type": "stream",
     "text": [
      "Epoch: 077, Average loss: 1.89871\n",
      "Epoch: 077, Average loss: 3.08053\n"
     ]
    },
    {
     "name": "stderr",
     "output_type": "stream",
     "text": [
      "100%|██████████| 2784/2784 [00:40<00:00, 68.83it/s]\n",
      "100%|██████████| 696/696 [00:03<00:00, 174.56it/s]\n"
     ]
    },
    {
     "name": "stdout",
     "output_type": "stream",
     "text": [
      "Epoch: 078, Average loss: 1.88076\n",
      "Epoch: 078, Average loss: 1.89864\n"
     ]
    },
    {
     "name": "stderr",
     "output_type": "stream",
     "text": [
      "100%|██████████| 2784/2784 [00:40<00:00, 68.75it/s]\n",
      "100%|██████████| 696/696 [00:03<00:00, 183.17it/s]\n"
     ]
    },
    {
     "name": "stdout",
     "output_type": "stream",
     "text": [
      "Epoch: 079, Average loss: 1.82995\n",
      "Epoch: 079, Average loss: 1.36646\n"
     ]
    },
    {
     "name": "stderr",
     "output_type": "stream",
     "text": [
      "100%|██████████| 2784/2784 [00:40<00:00, 68.95it/s]\n",
      "100%|██████████| 696/696 [00:03<00:00, 179.88it/s]\n"
     ]
    },
    {
     "name": "stdout",
     "output_type": "stream",
     "text": [
      "Epoch: 080, Average loss: 1.79408\n",
      "Epoch: 080, Average loss: 1.11113\n"
     ]
    },
    {
     "name": "stderr",
     "output_type": "stream",
     "text": [
      " 22%|██▏       | 626/2784 [00:09<00:31, 68.99it/s]IOPub message rate exceeded.\n",
      "The notebook server will temporarily stop sending output\n",
      "to the client in order to avoid crashing it.\n",
      "To change this limit, set the config variable\n",
      "`--NotebookApp.iopub_msg_rate_limit`.\n",
      "\n",
      "Current values:\n",
      "NotebookApp.iopub_msg_rate_limit=1000.0 (msgs/sec)\n",
      "NotebookApp.rate_limit_window=3.0 (secs)\n",
      "\n",
      "100%|██████████| 2784/2784 [00:40<00:00, 68.92it/s]\n",
      "100%|██████████| 696/696 [00:03<00:00, 183.16it/s]\n"
     ]
    },
    {
     "name": "stdout",
     "output_type": "stream",
     "text": [
      "Epoch: 092, Average loss: 1.71821\n",
      "Epoch: 092, Average loss: 2.91298\n"
     ]
    },
    {
     "name": "stderr",
     "output_type": "stream",
     "text": [
      "100%|██████████| 2784/2784 [00:40<00:00, 69.00it/s]\n",
      "100%|██████████| 696/696 [00:03<00:00, 183.50it/s]\n"
     ]
    },
    {
     "name": "stdout",
     "output_type": "stream",
     "text": [
      "Epoch: 093, Average loss: 1.73813\n",
      "Epoch: 093, Average loss: 1.08776\n"
     ]
    },
    {
     "name": "stderr",
     "output_type": "stream",
     "text": [
      "100%|██████████| 2784/2784 [00:39<00:00, 69.83it/s]\n",
      "100%|██████████| 696/696 [00:03<00:00, 181.28it/s]\n"
     ]
    },
    {
     "name": "stdout",
     "output_type": "stream",
     "text": [
      "Epoch: 094, Average loss: 1.72360\n",
      "Epoch: 094, Average loss: 1.82710\n"
     ]
    },
    {
     "name": "stderr",
     "output_type": "stream",
     "text": [
      "100%|██████████| 2784/2784 [00:40<00:00, 68.09it/s]\n",
      "100%|██████████| 696/696 [00:03<00:00, 185.40it/s]\n"
     ]
    },
    {
     "name": "stdout",
     "output_type": "stream",
     "text": [
      "Epoch: 095, Average loss: 1.73354\n",
      "Epoch: 095, Average loss: 1.68385\n"
     ]
    },
    {
     "name": "stderr",
     "output_type": "stream",
     "text": [
      "100%|██████████| 2784/2784 [00:40<00:00, 68.65it/s]\n",
      "100%|██████████| 696/696 [00:03<00:00, 177.36it/s]\n"
     ]
    },
    {
     "name": "stdout",
     "output_type": "stream",
     "text": [
      "Epoch: 096, Average loss: 1.74301\n",
      "Epoch: 096, Average loss: 2.00767\n"
     ]
    },
    {
     "name": "stderr",
     "output_type": "stream",
     "text": [
      "100%|██████████| 2784/2784 [00:40<00:00, 68.62it/s]\n",
      "100%|██████████| 696/696 [00:03<00:00, 179.84it/s]\n"
     ]
    },
    {
     "name": "stdout",
     "output_type": "stream",
     "text": [
      "Epoch: 097, Average loss: 1.64894\n",
      "Epoch: 097, Average loss: 2.01301\n"
     ]
    },
    {
     "name": "stderr",
     "output_type": "stream",
     "text": [
      "100%|██████████| 2784/2784 [00:40<00:00, 68.24it/s]\n",
      "100%|██████████| 696/696 [00:03<00:00, 185.05it/s]\n"
     ]
    },
    {
     "name": "stdout",
     "output_type": "stream",
     "text": [
      "Epoch: 098, Average loss: 2.02561\n",
      "Epoch: 098, Average loss: 1.22496\n"
     ]
    },
    {
     "name": "stderr",
     "output_type": "stream",
     "text": [
      " 65%|██████▌   | 1817/2784 [00:26<00:14, 67.87it/s]IOPub message rate exceeded.\n",
      "The notebook server will temporarily stop sending output\n",
      "to the client in order to avoid crashing it.\n",
      "To change this limit, set the config variable\n",
      "`--NotebookApp.iopub_msg_rate_limit`.\n",
      "\n",
      "Current values:\n",
      "NotebookApp.iopub_msg_rate_limit=1000.0 (msgs/sec)\n",
      "NotebookApp.rate_limit_window=3.0 (secs)\n",
      "\n",
      "\n",
      "100%|██████████| 696/696 [00:03<00:00, 185.01it/s]\n"
     ]
    },
    {
     "name": "stdout",
     "output_type": "stream",
     "text": [
      "Epoch: 110, Average loss: 1.52537\n",
      "Epoch: 110, Average loss: 2.02374\n"
     ]
    },
    {
     "name": "stderr",
     "output_type": "stream",
     "text": [
      "100%|██████████| 2784/2784 [00:39<00:00, 71.16it/s]\n",
      "100%|██████████| 696/696 [00:03<00:00, 184.44it/s]\n"
     ]
    },
    {
     "name": "stdout",
     "output_type": "stream",
     "text": [
      "Epoch: 111, Average loss: 1.58658\n",
      "Epoch: 111, Average loss: 1.41183\n"
     ]
    },
    {
     "name": "stderr",
     "output_type": "stream",
     "text": [
      "100%|██████████| 2784/2784 [00:39<00:00, 70.60it/s]\n",
      "100%|██████████| 696/696 [00:03<00:00, 184.41it/s]\n"
     ]
    },
    {
     "name": "stdout",
     "output_type": "stream",
     "text": [
      "Epoch: 112, Average loss: 1.56603\n",
      "Epoch: 112, Average loss: 2.03501\n"
     ]
    },
    {
     "name": "stderr",
     "output_type": "stream",
     "text": [
      "100%|██████████| 2784/2784 [00:39<00:00, 70.79it/s]\n",
      "100%|██████████| 696/696 [00:03<00:00, 184.45it/s]\n"
     ]
    },
    {
     "name": "stdout",
     "output_type": "stream",
     "text": [
      "Epoch: 113, Average loss: 1.82191\n",
      "Epoch: 113, Average loss: 1.30213\n"
     ]
    },
    {
     "name": "stderr",
     "output_type": "stream",
     "text": [
      "100%|██████████| 2784/2784 [00:39<00:00, 69.93it/s]\n",
      "100%|██████████| 696/696 [00:03<00:00, 183.07it/s]\n"
     ]
    },
    {
     "name": "stdout",
     "output_type": "stream",
     "text": [
      "Epoch: 114, Average loss: 1.57267\n",
      "Epoch: 114, Average loss: 2.29171\n"
     ]
    },
    {
     "name": "stderr",
     "output_type": "stream",
     "text": [
      "100%|██████████| 2784/2784 [00:40<00:00, 68.54it/s]\n",
      "100%|██████████| 696/696 [00:03<00:00, 185.49it/s]\n"
     ]
    },
    {
     "name": "stdout",
     "output_type": "stream",
     "text": [
      "Epoch: 115, Average loss: 1.55819\n",
      "Epoch: 115, Average loss: 1.13102\n"
     ]
    },
    {
     "name": "stderr",
     "output_type": "stream",
     "text": [
      "100%|██████████| 2784/2784 [00:48<00:00, 57.56it/s]\n",
      "100%|██████████| 696/696 [00:03<00:00, 182.84it/s]\n"
     ]
    },
    {
     "name": "stdout",
     "output_type": "stream",
     "text": [
      "Epoch: 116, Average loss: 1.57351\n",
      "Epoch: 116, Average loss: 1.38594\n"
     ]
    },
    {
     "name": "stderr",
     "output_type": "stream",
     "text": [
      "100%|██████████| 2784/2784 [00:40<00:00, 68.57it/s]\n",
      "100%|██████████| 696/696 [00:03<00:00, 175.58it/s]\n"
     ]
    },
    {
     "name": "stdout",
     "output_type": "stream",
     "text": [
      "Epoch: 117, Average loss: 1.45103\n",
      "Epoch: 117, Average loss: 0.96073\n"
     ]
    },
    {
     "name": "stderr",
     "output_type": "stream",
     "text": [
      " 16%|█▌        | 441/2784 [00:09<00:53, 43.77it/s]IOPub message rate exceeded.\n",
      "The notebook server will temporarily stop sending output\n",
      "to the client in order to avoid crashing it.\n",
      "To change this limit, set the config variable\n",
      "`--NotebookApp.iopub_msg_rate_limit`.\n",
      "\n",
      "Current values:\n",
      "NotebookApp.iopub_msg_rate_limit=1000.0 (msgs/sec)\n",
      "NotebookApp.rate_limit_window=3.0 (secs)\n",
      "\n",
      "100%|██████████| 2784/2784 [00:47<00:00, 58.06it/s]\n",
      "100%|██████████| 696/696 [00:03<00:00, 185.77it/s]\n"
     ]
    },
    {
     "name": "stdout",
     "output_type": "stream",
     "text": [
      "Epoch: 127, Average loss: 1.37003\n",
      "Epoch: 127, Average loss: 0.95060\n"
     ]
    },
    {
     "name": "stderr",
     "output_type": "stream",
     "text": [
      "100%|██████████| 2784/2784 [00:46<00:00, 59.98it/s]\n",
      "100%|██████████| 696/696 [00:05<00:00, 131.66it/s]\n"
     ]
    },
    {
     "name": "stdout",
     "output_type": "stream",
     "text": [
      "Epoch: 128, Average loss: 1.40685\n",
      "Epoch: 128, Average loss: 2.11594\n"
     ]
    },
    {
     "name": "stderr",
     "output_type": "stream",
     "text": [
      "100%|██████████| 2784/2784 [00:40<00:00, 68.82it/s]\n",
      "100%|██████████| 696/696 [00:03<00:00, 181.39it/s]\n"
     ]
    },
    {
     "name": "stdout",
     "output_type": "stream",
     "text": [
      "Epoch: 129, Average loss: 1.39336\n",
      "Epoch: 129, Average loss: 1.38107\n"
     ]
    },
    {
     "name": "stderr",
     "output_type": "stream",
     "text": [
      "100%|██████████| 2784/2784 [00:47<00:00, 58.12it/s]\n",
      "100%|██████████| 696/696 [00:03<00:00, 182.00it/s]\n"
     ]
    },
    {
     "name": "stdout",
     "output_type": "stream",
     "text": [
      "Epoch: 130, Average loss: 1.39705\n",
      "Epoch: 130, Average loss: 2.20849\n"
     ]
    },
    {
     "name": "stderr",
     "output_type": "stream",
     "text": [
      "100%|██████████| 2784/2784 [00:47<00:00, 58.15it/s]\n",
      "100%|██████████| 696/696 [00:03<00:00, 180.25it/s]\n"
     ]
    },
    {
     "name": "stdout",
     "output_type": "stream",
     "text": [
      "Epoch: 131, Average loss: 1.44549\n",
      "Epoch: 131, Average loss: 1.24848\n"
     ]
    },
    {
     "name": "stderr",
     "output_type": "stream",
     "text": [
      "100%|██████████| 2784/2784 [00:47<00:00, 58.43it/s]\n",
      "100%|██████████| 696/696 [00:03<00:00, 185.79it/s]\n"
     ]
    },
    {
     "name": "stdout",
     "output_type": "stream",
     "text": [
      "Epoch: 132, Average loss: 1.63372\n",
      "Epoch: 132, Average loss: 2.09388\n"
     ]
    },
    {
     "name": "stderr",
     "output_type": "stream",
     "text": [
      "100%|██████████| 2784/2784 [00:44<00:00, 62.93it/s]\n",
      "100%|██████████| 696/696 [00:07<00:00, 91.30it/s] \n"
     ]
    },
    {
     "name": "stdout",
     "output_type": "stream",
     "text": [
      "Epoch: 133, Average loss: 1.38223\n",
      "Epoch: 133, Average loss: 0.90026\n"
     ]
    },
    {
     "name": "stderr",
     "output_type": "stream",
     "text": [
      " 43%|████▎     | 1200/2784 [00:17<00:23, 68.78it/s]IOPub message rate exceeded.\n",
      "The notebook server will temporarily stop sending output\n",
      "to the client in order to avoid crashing it.\n",
      "To change this limit, set the config variable\n",
      "`--NotebookApp.iopub_msg_rate_limit`.\n",
      "\n",
      "Current values:\n",
      "NotebookApp.iopub_msg_rate_limit=1000.0 (msgs/sec)\n",
      "NotebookApp.rate_limit_window=3.0 (secs)\n",
      "\n"
     ]
    },
    {
     "name": "stdout",
     "output_type": "stream",
     "text": [
      "Epoch: 144, Average loss: 1.28464\n",
      "Epoch: 144, Average loss: 1.02120\n"
     ]
    },
    {
     "name": "stderr",
     "output_type": "stream",
     "text": [
      "100%|██████████| 2784/2784 [00:48<00:00, 57.04it/s]\n",
      "100%|██████████| 696/696 [00:03<00:00, 182.19it/s]\n"
     ]
    },
    {
     "name": "stdout",
     "output_type": "stream",
     "text": [
      "Epoch: 145, Average loss: 1.25581\n",
      "Epoch: 145, Average loss: 1.60175\n"
     ]
    },
    {
     "name": "stderr",
     "output_type": "stream",
     "text": [
      "100%|██████████| 2784/2784 [00:47<00:00, 58.22it/s]\n",
      "100%|██████████| 696/696 [00:03<00:00, 182.55it/s]\n"
     ]
    },
    {
     "name": "stdout",
     "output_type": "stream",
     "text": [
      "Epoch: 146, Average loss: 1.26233\n",
      "Epoch: 146, Average loss: 1.56544\n"
     ]
    },
    {
     "name": "stderr",
     "output_type": "stream",
     "text": [
      "100%|██████████| 2784/2784 [00:48<00:00, 57.78it/s]\n",
      "100%|██████████| 696/696 [00:03<00:00, 184.66it/s]\n"
     ]
    },
    {
     "name": "stdout",
     "output_type": "stream",
     "text": [
      "Epoch: 147, Average loss: 1.25173\n",
      "Epoch: 147, Average loss: 1.73828\n"
     ]
    },
    {
     "name": "stderr",
     "output_type": "stream",
     "text": [
      "100%|██████████| 2784/2784 [00:48<00:00, 57.98it/s]\n",
      "100%|██████████| 696/696 [00:03<00:00, 176.83it/s]\n"
     ]
    },
    {
     "name": "stdout",
     "output_type": "stream",
     "text": [
      "Epoch: 148, Average loss: 1.45169\n",
      "Epoch: 148, Average loss: 2.70782\n"
     ]
    },
    {
     "name": "stderr",
     "output_type": "stream",
     "text": [
      "100%|██████████| 2784/2784 [00:48<00:00, 57.88it/s]\n",
      "100%|██████████| 696/696 [00:03<00:00, 184.86it/s]\n"
     ]
    },
    {
     "name": "stdout",
     "output_type": "stream",
     "text": [
      "Epoch: 149, Average loss: 1.23716\n",
      "Epoch: 149, Average loss: 1.36266\n"
     ]
    },
    {
     "name": "stderr",
     "output_type": "stream",
     "text": [
      "100%|██████████| 2784/2784 [00:47<00:00, 58.17it/s]\n",
      "100%|██████████| 696/696 [00:03<00:00, 184.24it/s]\n"
     ]
    },
    {
     "name": "stdout",
     "output_type": "stream",
     "text": [
      "Epoch: 150, Average loss: 1.22042\n",
      "Epoch: 150, Average loss: 1.78094\n"
     ]
    },
    {
     "name": "stderr",
     "output_type": "stream",
     "text": [
      " 82%|████████▏ | 2269/2784 [00:37<00:07, 70.57it/s]IOPub message rate exceeded.\n",
      "The notebook server will temporarily stop sending output\n",
      "to the client in order to avoid crashing it.\n",
      "To change this limit, set the config variable\n",
      "`--NotebookApp.iopub_msg_rate_limit`.\n",
      "\n",
      "Current values:\n",
      "NotebookApp.iopub_msg_rate_limit=1000.0 (msgs/sec)\n",
      "NotebookApp.rate_limit_window=3.0 (secs)\n",
      "\n",
      "100%|██████████| 2784/2784 [00:41<00:00, 67.72it/s]\n",
      "100%|██████████| 696/696 [00:09<00:00, 74.61it/s] \n"
     ]
    },
    {
     "name": "stdout",
     "output_type": "stream",
     "text": [
      "Epoch: 162, Average loss: 1.19472\n",
      "Epoch: 162, Average loss: 1.41649\n"
     ]
    },
    {
     "name": "stderr",
     "output_type": "stream",
     "text": [
      "100%|██████████| 2784/2784 [00:42<00:00, 65.60it/s]\n",
      "100%|██████████| 696/696 [00:03<00:00, 182.00it/s]\n"
     ]
    },
    {
     "name": "stdout",
     "output_type": "stream",
     "text": [
      "Epoch: 163, Average loss: 1.18400\n",
      "Epoch: 163, Average loss: 1.33910\n"
     ]
    },
    {
     "name": "stderr",
     "output_type": "stream",
     "text": [
      "100%|██████████| 2784/2784 [00:48<00:00, 57.86it/s]\n",
      "100%|██████████| 696/696 [00:03<00:00, 186.21it/s]\n"
     ]
    },
    {
     "name": "stdout",
     "output_type": "stream",
     "text": [
      "Epoch: 164, Average loss: 1.16245\n",
      "Epoch: 164, Average loss: 0.90117\n"
     ]
    },
    {
     "name": "stderr",
     "output_type": "stream",
     "text": [
      "100%|██████████| 2784/2784 [00:47<00:00, 58.65it/s]\n",
      "100%|██████████| 696/696 [00:03<00:00, 180.84it/s]\n"
     ]
    },
    {
     "name": "stdout",
     "output_type": "stream",
     "text": [
      "Epoch: 165, Average loss: 1.20687\n",
      "Epoch: 165, Average loss: 1.68679\n"
     ]
    },
    {
     "name": "stderr",
     "output_type": "stream",
     "text": [
      "100%|██████████| 2784/2784 [00:47<00:00, 58.30it/s]\n",
      "100%|██████████| 696/696 [00:03<00:00, 183.74it/s]\n"
     ]
    },
    {
     "name": "stdout",
     "output_type": "stream",
     "text": [
      "Epoch: 166, Average loss: 1.17596\n",
      "Epoch: 166, Average loss: 1.32996\n"
     ]
    },
    {
     "name": "stderr",
     "output_type": "stream",
     "text": [
      "100%|██████████| 2784/2784 [00:39<00:00, 69.77it/s]\n",
      "100%|██████████| 696/696 [00:03<00:00, 185.68it/s]\n"
     ]
    },
    {
     "name": "stdout",
     "output_type": "stream",
     "text": [
      "Epoch: 167, Average loss: 1.18436\n",
      "Epoch: 167, Average loss: 1.56377\n"
     ]
    },
    {
     "name": "stderr",
     "output_type": "stream",
     "text": [
      "100%|██████████| 2784/2784 [00:39<00:00, 70.45it/s]\n",
      "100%|██████████| 696/696 [00:03<00:00, 185.68it/s]\n"
     ]
    },
    {
     "name": "stdout",
     "output_type": "stream",
     "text": [
      "Epoch: 168, Average loss: 1.17993\n",
      "Epoch: 168, Average loss: 1.30259\n"
     ]
    },
    {
     "name": "stderr",
     "output_type": "stream",
     "text": [
      " 63%|██████▎   | 1743/2784 [00:24<00:15, 67.09it/s]IOPub message rate exceeded.\n",
      "The notebook server will temporarily stop sending output\n",
      "to the client in order to avoid crashing it.\n",
      "To change this limit, set the config variable\n",
      "`--NotebookApp.iopub_msg_rate_limit`.\n",
      "\n",
      "Current values:\n",
      "NotebookApp.iopub_msg_rate_limit=1000.0 (msgs/sec)\n",
      "NotebookApp.rate_limit_window=3.0 (secs)\n",
      "\n",
      "100%|██████████| 2784/2784 [00:39<00:00, 70.53it/s]\n",
      "100%|██████████| 696/696 [00:03<00:00, 186.36it/s]\n"
     ]
    },
    {
     "name": "stdout",
     "output_type": "stream",
     "text": [
      "Epoch: 181, Average loss: 1.18972\n",
      "Epoch: 181, Average loss: 0.96327\n"
     ]
    },
    {
     "name": "stderr",
     "output_type": "stream",
     "text": [
      "100%|██████████| 2784/2784 [00:39<00:00, 70.70it/s]\n",
      "100%|██████████| 696/696 [00:03<00:00, 185.10it/s]\n"
     ]
    },
    {
     "name": "stdout",
     "output_type": "stream",
     "text": [
      "Epoch: 182, Average loss: 1.21519\n",
      "Epoch: 182, Average loss: 1.58227\n"
     ]
    },
    {
     "name": "stderr",
     "output_type": "stream",
     "text": [
      "100%|██████████| 2784/2784 [00:39<00:00, 70.86it/s]\n",
      "100%|██████████| 696/696 [00:03<00:00, 183.74it/s]\n"
     ]
    },
    {
     "name": "stdout",
     "output_type": "stream",
     "text": [
      "Epoch: 183, Average loss: 1.17401\n",
      "Epoch: 183, Average loss: 1.07946\n"
     ]
    },
    {
     "name": "stderr",
     "output_type": "stream",
     "text": [
      "100%|██████████| 2784/2784 [00:39<00:00, 70.73it/s]\n",
      "100%|██████████| 696/696 [00:03<00:00, 185.57it/s]\n"
     ]
    },
    {
     "name": "stdout",
     "output_type": "stream",
     "text": [
      "Epoch: 184, Average loss: 1.15893\n",
      "Epoch: 184, Average loss: 1.57777\n"
     ]
    },
    {
     "name": "stderr",
     "output_type": "stream",
     "text": [
      "100%|██████████| 2784/2784 [00:39<00:00, 70.67it/s]\n",
      "100%|██████████| 696/696 [00:03<00:00, 185.85it/s]\n"
     ]
    },
    {
     "name": "stdout",
     "output_type": "stream",
     "text": [
      "Epoch: 185, Average loss: 1.15470\n",
      "Epoch: 185, Average loss: 1.74411\n"
     ]
    },
    {
     "name": "stderr",
     "output_type": "stream",
     "text": [
      "100%|██████████| 2784/2784 [00:39<00:00, 70.97it/s]\n",
      "100%|██████████| 696/696 [00:03<00:00, 186.05it/s]\n"
     ]
    },
    {
     "name": "stdout",
     "output_type": "stream",
     "text": [
      "Epoch: 186, Average loss: 1.31045\n",
      "Epoch: 186, Average loss: 1.10648\n"
     ]
    },
    {
     "name": "stderr",
     "output_type": "stream",
     "text": [
      "100%|██████████| 2784/2784 [00:39<00:00, 70.91it/s]\n",
      "100%|██████████| 696/696 [00:03<00:00, 186.70it/s]\n"
     ]
    },
    {
     "name": "stdout",
     "output_type": "stream",
     "text": [
      "Epoch: 187, Average loss: 1.16379\n",
      "Epoch: 187, Average loss: 1.52069\n"
     ]
    },
    {
     "name": "stderr",
     "output_type": "stream",
     "text": [
      "100%|██████████| 2784/2784 [00:39<00:00, 70.82it/s]\n",
      " 33%|███▎      | 228/696 [00:01<00:02, 186.17it/s]IOPub message rate exceeded.\n",
      "The notebook server will temporarily stop sending output\n",
      "to the client in order to avoid crashing it.\n",
      "To change this limit, set the config variable\n",
      "`--NotebookApp.iopub_msg_rate_limit`.\n",
      "\n",
      "Current values:\n",
      "NotebookApp.iopub_msg_rate_limit=1000.0 (msgs/sec)\n",
      "NotebookApp.rate_limit_window=3.0 (secs)\n",
      "\n"
     ]
    }
   ],
   "source": [
    "tr_loss = []\n",
    "ts_loss=[]#set model to training mode\n",
    "for epoch in range(200):\n",
    "    model.train() \n",
    "    valid_loss = 0\n",
    "\n",
    "    train_loss=0\n",
    "\n",
    "     #shuffle the training data each epoch\n",
    "    for d in tqdm(train_loader): #go over each training point\n",
    "        data = d.to(device)#send data to device\n",
    "       \n",
    "        out = model(data) \n",
    "        optimizer.zero_grad() #zero gradients\n",
    "        #evaluate data point\n",
    "        loss = loss_func(out, data.y) #L1 error loss\n",
    "         #add loss value to aggregate loss\n",
    "        loss.backward() #compute gradients\n",
    "        optimizer.step() #apply optimization\n",
    "        train_loss += loss.item()\n",
    "    \n",
    "    model.eval()     # Optional when not using Model Specific layer\n",
    "    for d in tqdm(test_loader):\n",
    "        data = d.to(device)\n",
    "        target = model(data)\n",
    "        loss = loss_func(target, data.y)\n",
    "        valid_loss += loss.item()\n",
    "        \n",
    "    print('Epoch: {:03d}, Average loss: {:.5f}'.format(epoch, train_loss/len(train_loader)))\n",
    "    tr_loss.append(train_loss/len(train_loader))\n",
    "    print('Epoch: {:03d}, Average loss: {:.5f}'.format(epoch, valid_loss/len(test_loader)))\n",
    "    ts_loss.append(valid_loss/len(test_loader))\n",
    "    \n",
    "    "
   ]
  },
  {
   "cell_type": "markdown",
   "id": "3b83cf62",
   "metadata": {},
   "source": [
    "# Cross Val"
   ]
  },
  {
   "cell_type": "code",
   "execution_count": 14,
   "id": "2d76a957",
   "metadata": {},
   "outputs": [
    {
     "name": "stderr",
     "output_type": "stream",
     "text": [
      "  0%|          | 0/762 [00:00<?, ?it/s]/miniconda/envs/crystalvae/lib/python3.6/site-packages/torch/nn/modules/loss.py:96: UserWarning:\n",
      "\n",
      "Using a target size (torch.Size([4])) that is different to the input size (torch.Size([4, 1])). This will likely lead to incorrect results due to broadcasting. Please ensure they have the same size.\n",
      "\n",
      "100%|█████████▉| 759/762 [00:37<00:00, 20.65it/s]/miniconda/envs/crystalvae/lib/python3.6/site-packages/torch/nn/modules/loss.py:96: UserWarning:\n",
      "\n",
      "Using a target size (torch.Size([1])) that is different to the input size (torch.Size([1, 1])). This will likely lead to incorrect results due to broadcasting. Please ensure they have the same size.\n",
      "\n",
      "100%|██████████| 762/762 [00:37<00:00, 20.52it/s]\n",
      " 97%|█████████▋| 106/109 [00:02<00:00, 59.50it/s]/miniconda/envs/crystalvae/lib/python3.6/site-packages/torch/nn/modules/loss.py:96: UserWarning:\n",
      "\n",
      "Using a target size (torch.Size([3])) that is different to the input size (torch.Size([3, 1])). This will likely lead to incorrect results due to broadcasting. Please ensure they have the same size.\n",
      "\n",
      "100%|██████████| 109/109 [00:02<00:00, 47.42it/s]\n"
     ]
    },
    {
     "name": "stdout",
     "output_type": "stream",
     "text": [
      "Epoch: 000, Average loss: 1.15836\n",
      "Epoch: 000, Average loss: 1.46229\n"
     ]
    },
    {
     "name": "stderr",
     "output_type": "stream",
     "text": [
      "100%|██████████| 762/762 [00:37<00:00, 20.58it/s]\n",
      "100%|██████████| 109/109 [00:02<00:00, 48.74it/s]\n"
     ]
    },
    {
     "name": "stdout",
     "output_type": "stream",
     "text": [
      "Epoch: 001, Average loss: 1.04957\n",
      "Epoch: 001, Average loss: 1.78722\n"
     ]
    },
    {
     "name": "stderr",
     "output_type": "stream",
     "text": [
      "100%|██████████| 762/762 [00:36<00:00, 20.78it/s]\n",
      "100%|██████████| 109/109 [00:02<00:00, 50.44it/s]\n"
     ]
    },
    {
     "name": "stdout",
     "output_type": "stream",
     "text": [
      "Epoch: 002, Average loss: 0.92881\n",
      "Epoch: 002, Average loss: 1.79080\n"
     ]
    },
    {
     "name": "stderr",
     "output_type": "stream",
     "text": [
      "100%|██████████| 762/762 [00:36<00:00, 20.63it/s]\n",
      "100%|██████████| 109/109 [00:02<00:00, 52.07it/s]\n"
     ]
    },
    {
     "name": "stdout",
     "output_type": "stream",
     "text": [
      "Epoch: 003, Average loss: 0.89883\n",
      "Epoch: 003, Average loss: 1.78547\n"
     ]
    },
    {
     "name": "stderr",
     "output_type": "stream",
     "text": [
      "100%|██████████| 762/762 [00:35<00:00, 21.38it/s]\n",
      "100%|██████████| 109/109 [00:02<00:00, 47.15it/s]\n"
     ]
    },
    {
     "name": "stdout",
     "output_type": "stream",
     "text": [
      "Epoch: 004, Average loss: 0.84017\n",
      "Epoch: 004, Average loss: 1.74118\n"
     ]
    },
    {
     "name": "stderr",
     "output_type": "stream",
     "text": [
      "100%|██████████| 762/762 [00:34<00:00, 21.97it/s]\n",
      "100%|██████████| 109/109 [00:01<00:00, 68.25it/s]\n"
     ]
    },
    {
     "name": "stdout",
     "output_type": "stream",
     "text": [
      "Epoch: 005, Average loss: 0.76343\n",
      "Epoch: 005, Average loss: 1.51143\n"
     ]
    },
    {
     "name": "stderr",
     "output_type": "stream",
     "text": [
      "100%|██████████| 762/762 [00:25<00:00, 29.43it/s]\n",
      "100%|██████████| 109/109 [00:01<00:00, 68.32it/s]\n"
     ]
    },
    {
     "name": "stdout",
     "output_type": "stream",
     "text": [
      "Epoch: 006, Average loss: 0.61388\n",
      "Epoch: 006, Average loss: 1.14943\n"
     ]
    },
    {
     "name": "stderr",
     "output_type": "stream",
     "text": [
      "100%|██████████| 762/762 [00:33<00:00, 22.96it/s]\n",
      "100%|██████████| 109/109 [00:02<00:00, 50.84it/s]\n"
     ]
    },
    {
     "name": "stdout",
     "output_type": "stream",
     "text": [
      "Epoch: 007, Average loss: 0.47602\n",
      "Epoch: 007, Average loss: 0.71861\n"
     ]
    },
    {
     "name": "stderr",
     "output_type": "stream",
     "text": [
      "100%|██████████| 762/762 [00:36<00:00, 21.00it/s]\n",
      "100%|██████████| 109/109 [00:02<00:00, 48.91it/s]\n"
     ]
    },
    {
     "name": "stdout",
     "output_type": "stream",
     "text": [
      "Epoch: 008, Average loss: 0.33981\n",
      "Epoch: 008, Average loss: 0.66619\n"
     ]
    },
    {
     "name": "stderr",
     "output_type": "stream",
     "text": [
      "100%|██████████| 762/762 [00:36<00:00, 20.82it/s]\n",
      "100%|██████████| 109/109 [00:02<00:00, 48.30it/s]\n"
     ]
    },
    {
     "name": "stdout",
     "output_type": "stream",
     "text": [
      "Epoch: 009, Average loss: 0.31276\n",
      "Epoch: 009, Average loss: 0.64106\n"
     ]
    },
    {
     "name": "stderr",
     "output_type": "stream",
     "text": [
      "100%|██████████| 762/762 [00:35<00:00, 21.43it/s]\n",
      "100%|██████████| 109/109 [00:02<00:00, 48.95it/s]\n"
     ]
    },
    {
     "name": "stdout",
     "output_type": "stream",
     "text": [
      "Epoch: 010, Average loss: 0.25453\n",
      "Epoch: 010, Average loss: 1.25413\n"
     ]
    },
    {
     "name": "stderr",
     "output_type": "stream",
     "text": [
      "100%|██████████| 762/762 [00:35<00:00, 21.42it/s]\n",
      "100%|██████████| 109/109 [00:01<00:00, 55.78it/s]\n"
     ]
    },
    {
     "name": "stdout",
     "output_type": "stream",
     "text": [
      "Epoch: 011, Average loss: 0.29308\n",
      "Epoch: 011, Average loss: 0.65728\n"
     ]
    },
    {
     "name": "stderr",
     "output_type": "stream",
     "text": [
      "100%|██████████| 762/762 [00:36<00:00, 20.73it/s]\n",
      "100%|██████████| 109/109 [00:02<00:00, 50.56it/s]\n"
     ]
    },
    {
     "name": "stdout",
     "output_type": "stream",
     "text": [
      "Epoch: 012, Average loss: 0.27265\n",
      "Epoch: 012, Average loss: 0.70022\n"
     ]
    },
    {
     "name": "stderr",
     "output_type": "stream",
     "text": [
      "100%|██████████| 762/762 [00:35<00:00, 21.61it/s]\n",
      "100%|██████████| 109/109 [00:02<00:00, 43.17it/s]\n"
     ]
    },
    {
     "name": "stdout",
     "output_type": "stream",
     "text": [
      "Epoch: 013, Average loss: 0.21871\n",
      "Epoch: 013, Average loss: 0.83207\n"
     ]
    },
    {
     "name": "stderr",
     "output_type": "stream",
     "text": [
      "100%|██████████| 762/762 [00:36<00:00, 20.92it/s]\n",
      "100%|██████████| 109/109 [00:02<00:00, 50.79it/s]\n"
     ]
    },
    {
     "name": "stdout",
     "output_type": "stream",
     "text": [
      "Epoch: 014, Average loss: 0.24843\n",
      "Epoch: 014, Average loss: 0.78021\n"
     ]
    },
    {
     "name": "stderr",
     "output_type": "stream",
     "text": [
      "100%|██████████| 762/762 [00:36<00:00, 20.83it/s]\n",
      "100%|██████████| 109/109 [00:02<00:00, 51.07it/s]\n"
     ]
    },
    {
     "name": "stdout",
     "output_type": "stream",
     "text": [
      "Epoch: 015, Average loss: 0.20415\n",
      "Epoch: 015, Average loss: 0.88874\n"
     ]
    },
    {
     "name": "stderr",
     "output_type": "stream",
     "text": [
      "100%|██████████| 762/762 [00:36<00:00, 20.61it/s]\n",
      "100%|██████████| 109/109 [00:03<00:00, 27.56it/s]\n"
     ]
    },
    {
     "name": "stdout",
     "output_type": "stream",
     "text": [
      "Epoch: 016, Average loss: 0.18194\n",
      "Epoch: 016, Average loss: 0.46303\n"
     ]
    },
    {
     "name": "stderr",
     "output_type": "stream",
     "text": [
      "100%|██████████| 762/762 [00:37<00:00, 20.13it/s]\n",
      "100%|██████████| 109/109 [00:02<00:00, 46.23it/s]\n"
     ]
    },
    {
     "name": "stdout",
     "output_type": "stream",
     "text": [
      "Epoch: 017, Average loss: 0.15969\n",
      "Epoch: 017, Average loss: 0.75216\n"
     ]
    },
    {
     "name": "stderr",
     "output_type": "stream",
     "text": [
      "100%|██████████| 762/762 [00:37<00:00, 20.40it/s]\n",
      "100%|██████████| 109/109 [00:02<00:00, 49.45it/s]\n"
     ]
    },
    {
     "name": "stdout",
     "output_type": "stream",
     "text": [
      "Epoch: 018, Average loss: 0.20070\n",
      "Epoch: 018, Average loss: 0.74409\n"
     ]
    },
    {
     "name": "stderr",
     "output_type": "stream",
     "text": [
      "100%|██████████| 762/762 [00:37<00:00, 20.59it/s]\n",
      "100%|██████████| 109/109 [00:02<00:00, 50.89it/s]\n"
     ]
    },
    {
     "name": "stdout",
     "output_type": "stream",
     "text": [
      "Epoch: 019, Average loss: 0.17099\n",
      "Epoch: 019, Average loss: 0.43818\n"
     ]
    },
    {
     "name": "stderr",
     "output_type": "stream",
     "text": [
      "100%|██████████| 762/762 [00:38<00:00, 19.90it/s]\n",
      "100%|██████████| 109/109 [00:02<00:00, 50.61it/s]\n"
     ]
    },
    {
     "name": "stdout",
     "output_type": "stream",
     "text": [
      "Epoch: 020, Average loss: 0.14565\n",
      "Epoch: 020, Average loss: 0.41612\n"
     ]
    },
    {
     "name": "stderr",
     "output_type": "stream",
     "text": [
      "100%|██████████| 762/762 [00:37<00:00, 20.46it/s]\n",
      "100%|██████████| 109/109 [00:02<00:00, 51.42it/s]\n"
     ]
    },
    {
     "name": "stdout",
     "output_type": "stream",
     "text": [
      "Epoch: 021, Average loss: 0.15288\n",
      "Epoch: 021, Average loss: 0.78955\n"
     ]
    },
    {
     "name": "stderr",
     "output_type": "stream",
     "text": [
      "100%|██████████| 762/762 [00:36<00:00, 20.76it/s]\n",
      "100%|██████████| 109/109 [00:02<00:00, 48.31it/s]\n"
     ]
    },
    {
     "name": "stdout",
     "output_type": "stream",
     "text": [
      "Epoch: 022, Average loss: 0.16443\n",
      "Epoch: 022, Average loss: 0.34978\n"
     ]
    },
    {
     "name": "stderr",
     "output_type": "stream",
     "text": [
      "100%|██████████| 762/762 [00:36<00:00, 21.04it/s]\n",
      "100%|██████████| 109/109 [00:02<00:00, 48.82it/s]\n"
     ]
    },
    {
     "name": "stdout",
     "output_type": "stream",
     "text": [
      "Epoch: 023, Average loss: 0.13546\n",
      "Epoch: 023, Average loss: 0.73745\n"
     ]
    },
    {
     "name": "stderr",
     "output_type": "stream",
     "text": [
      "100%|██████████| 762/762 [00:32<00:00, 23.25it/s]\n",
      "100%|██████████| 109/109 [00:01<00:00, 73.60it/s]\n"
     ]
    },
    {
     "name": "stdout",
     "output_type": "stream",
     "text": [
      "Epoch: 024, Average loss: 0.17776\n",
      "Epoch: 024, Average loss: 0.43493\n"
     ]
    },
    {
     "name": "stderr",
     "output_type": "stream",
     "text": [
      "100%|██████████| 762/762 [00:26<00:00, 28.63it/s]\n",
      "100%|██████████| 109/109 [00:01<00:00, 72.33it/s]\n"
     ]
    },
    {
     "name": "stdout",
     "output_type": "stream",
     "text": [
      "Epoch: 025, Average loss: 0.15481\n",
      "Epoch: 025, Average loss: 0.69863\n"
     ]
    },
    {
     "name": "stderr",
     "output_type": "stream",
     "text": [
      "100%|██████████| 762/762 [00:32<00:00, 23.60it/s]\n",
      "100%|██████████| 109/109 [00:01<00:00, 91.78it/s]\n"
     ]
    },
    {
     "name": "stdout",
     "output_type": "stream",
     "text": [
      "Epoch: 026, Average loss: 0.15483\n",
      "Epoch: 026, Average loss: 0.38205\n"
     ]
    },
    {
     "name": "stderr",
     "output_type": "stream",
     "text": [
      "100%|██████████| 762/762 [00:36<00:00, 20.62it/s]\n",
      "100%|██████████| 109/109 [00:02<00:00, 54.42it/s]\n"
     ]
    },
    {
     "name": "stdout",
     "output_type": "stream",
     "text": [
      "Epoch: 027, Average loss: 0.11604\n",
      "Epoch: 027, Average loss: 0.40201\n"
     ]
    },
    {
     "name": "stderr",
     "output_type": "stream",
     "text": [
      "100%|██████████| 762/762 [00:35<00:00, 21.24it/s]\n",
      "100%|██████████| 109/109 [00:02<00:00, 51.45it/s]\n"
     ]
    },
    {
     "name": "stdout",
     "output_type": "stream",
     "text": [
      "Epoch: 028, Average loss: 0.14755\n",
      "Epoch: 028, Average loss: 0.46358\n"
     ]
    },
    {
     "name": "stderr",
     "output_type": "stream",
     "text": [
      "100%|██████████| 762/762 [00:36<00:00, 20.73it/s]\n",
      "100%|██████████| 109/109 [00:02<00:00, 51.37it/s]\n"
     ]
    },
    {
     "name": "stdout",
     "output_type": "stream",
     "text": [
      "Epoch: 031, Average loss: 0.15240\n",
      "Epoch: 031, Average loss: 0.34761\n"
     ]
    },
    {
     "name": "stderr",
     "output_type": "stream",
     "text": [
      "100%|██████████| 762/762 [00:37<00:00, 20.58it/s]\n",
      "100%|██████████| 109/109 [00:02<00:00, 46.03it/s]\n"
     ]
    },
    {
     "name": "stdout",
     "output_type": "stream",
     "text": [
      "Epoch: 032, Average loss: 0.12708\n",
      "Epoch: 032, Average loss: 0.24375\n"
     ]
    },
    {
     "name": "stderr",
     "output_type": "stream",
     "text": [
      "100%|██████████| 762/762 [00:36<00:00, 20.82it/s]\n",
      "100%|██████████| 109/109 [00:02<00:00, 48.07it/s]\n"
     ]
    },
    {
     "name": "stdout",
     "output_type": "stream",
     "text": [
      "Epoch: 033, Average loss: 0.11578\n",
      "Epoch: 033, Average loss: 0.34158\n"
     ]
    },
    {
     "name": "stderr",
     "output_type": "stream",
     "text": [
      "100%|██████████| 762/762 [00:37<00:00, 20.48it/s]\n",
      "100%|██████████| 109/109 [00:02<00:00, 44.89it/s]\n"
     ]
    },
    {
     "name": "stdout",
     "output_type": "stream",
     "text": [
      "Epoch: 034, Average loss: 0.12693\n",
      "Epoch: 034, Average loss: 0.32686\n"
     ]
    },
    {
     "name": "stderr",
     "output_type": "stream",
     "text": [
      "100%|██████████| 762/762 [00:36<00:00, 20.97it/s]\n",
      "100%|██████████| 109/109 [00:02<00:00, 51.82it/s]\n"
     ]
    },
    {
     "name": "stdout",
     "output_type": "stream",
     "text": [
      "Epoch: 035, Average loss: 0.13482\n",
      "Epoch: 035, Average loss: 0.17859\n"
     ]
    },
    {
     "name": "stderr",
     "output_type": "stream",
     "text": [
      "100%|██████████| 762/762 [00:36<00:00, 20.69it/s]\n",
      "100%|██████████| 109/109 [00:02<00:00, 47.64it/s]\n"
     ]
    },
    {
     "name": "stdout",
     "output_type": "stream",
     "text": [
      "Epoch: 036, Average loss: 0.11759\n",
      "Epoch: 036, Average loss: 0.32977\n"
     ]
    },
    {
     "name": "stderr",
     "output_type": "stream",
     "text": [
      "100%|██████████| 762/762 [00:37<00:00, 20.30it/s]\n",
      "100%|██████████| 109/109 [00:02<00:00, 47.83it/s]\n"
     ]
    },
    {
     "name": "stdout",
     "output_type": "stream",
     "text": [
      "Epoch: 037, Average loss: 0.12449\n",
      "Epoch: 037, Average loss: 0.37909\n"
     ]
    },
    {
     "name": "stderr",
     "output_type": "stream",
     "text": [
      "100%|██████████| 762/762 [00:36<00:00, 20.95it/s]\n",
      "100%|██████████| 109/109 [00:02<00:00, 49.85it/s]\n"
     ]
    },
    {
     "name": "stdout",
     "output_type": "stream",
     "text": [
      "Epoch: 038, Average loss: 0.13071\n",
      "Epoch: 038, Average loss: 0.46554\n"
     ]
    },
    {
     "name": "stderr",
     "output_type": "stream",
     "text": [
      "100%|██████████| 762/762 [00:36<00:00, 20.60it/s]\n",
      "100%|██████████| 109/109 [00:02<00:00, 47.80it/s]\n"
     ]
    },
    {
     "name": "stdout",
     "output_type": "stream",
     "text": [
      "Epoch: 039, Average loss: 0.15160\n",
      "Epoch: 039, Average loss: 0.51784\n"
     ]
    },
    {
     "name": "stderr",
     "output_type": "stream",
     "text": [
      "100%|██████████| 762/762 [00:36<00:00, 21.02it/s]\n",
      "100%|██████████| 109/109 [00:02<00:00, 46.62it/s]\n"
     ]
    },
    {
     "name": "stdout",
     "output_type": "stream",
     "text": [
      "Epoch: 040, Average loss: 0.15275\n",
      "Epoch: 040, Average loss: 0.29523\n"
     ]
    },
    {
     "name": "stderr",
     "output_type": "stream",
     "text": [
      "100%|██████████| 762/762 [00:36<00:00, 20.86it/s]\n",
      "100%|██████████| 109/109 [00:02<00:00, 47.80it/s]\n"
     ]
    },
    {
     "name": "stdout",
     "output_type": "stream",
     "text": [
      "Epoch: 041, Average loss: 0.11326\n",
      "Epoch: 041, Average loss: 0.36042\n"
     ]
    },
    {
     "name": "stderr",
     "output_type": "stream",
     "text": [
      "100%|██████████| 762/762 [00:36<00:00, 20.66it/s]\n",
      "100%|██████████| 109/109 [00:02<00:00, 51.07it/s]\n"
     ]
    },
    {
     "name": "stdout",
     "output_type": "stream",
     "text": [
      "Epoch: 042, Average loss: 0.12647\n",
      "Epoch: 042, Average loss: 0.32829\n"
     ]
    },
    {
     "name": "stderr",
     "output_type": "stream",
     "text": [
      "100%|██████████| 762/762 [00:32<00:00, 23.42it/s]\n",
      "100%|██████████| 109/109 [00:01<00:00, 79.42it/s]\n"
     ]
    },
    {
     "name": "stdout",
     "output_type": "stream",
     "text": [
      "Epoch: 043, Average loss: 0.11335\n",
      "Epoch: 043, Average loss: 0.24641\n"
     ]
    },
    {
     "name": "stderr",
     "output_type": "stream",
     "text": [
      " 79%|███████▉  | 601/762 [00:20<00:06, 25.95it/s]IOPub message rate exceeded.\n",
      "The notebook server will temporarily stop sending output\n",
      "to the client in order to avoid crashing it.\n",
      "To change this limit, set the config variable\n",
      "`--NotebookApp.iopub_msg_rate_limit`.\n",
      "\n",
      "Current values:\n",
      "NotebookApp.iopub_msg_rate_limit=1000.0 (msgs/sec)\n",
      "NotebookApp.rate_limit_window=3.0 (secs)\n",
      "\n",
      "100%|██████████| 762/762 [00:35<00:00, 21.34it/s]\n",
      "100%|██████████| 109/109 [00:02<00:00, 47.49it/s]\n"
     ]
    },
    {
     "name": "stdout",
     "output_type": "stream",
     "text": [
      "Epoch: 066, Average loss: 0.10424\n",
      "Epoch: 066, Average loss: 0.25139\n"
     ]
    },
    {
     "name": "stderr",
     "output_type": "stream",
     "text": [
      "100%|██████████| 762/762 [00:36<00:00, 20.85it/s]\n",
      "100%|██████████| 109/109 [00:02<00:00, 53.97it/s]\n"
     ]
    },
    {
     "name": "stdout",
     "output_type": "stream",
     "text": [
      "Epoch: 067, Average loss: 0.10539\n",
      "Epoch: 067, Average loss: 0.25242\n"
     ]
    },
    {
     "name": "stderr",
     "output_type": "stream",
     "text": [
      "100%|██████████| 762/762 [00:36<00:00, 20.78it/s]\n",
      "100%|██████████| 109/109 [00:02<00:00, 47.04it/s]\n"
     ]
    },
    {
     "name": "stdout",
     "output_type": "stream",
     "text": [
      "Epoch: 068, Average loss: 0.10967\n",
      "Epoch: 068, Average loss: 0.36500\n"
     ]
    },
    {
     "name": "stderr",
     "output_type": "stream",
     "text": [
      "100%|██████████| 762/762 [00:36<00:00, 21.14it/s]\n",
      "100%|██████████| 109/109 [00:02<00:00, 46.82it/s]\n"
     ]
    },
    {
     "name": "stdout",
     "output_type": "stream",
     "text": [
      "Epoch: 069, Average loss: 0.09933\n",
      "Epoch: 069, Average loss: 0.38570\n"
     ]
    },
    {
     "name": "stderr",
     "output_type": "stream",
     "text": [
      "100%|██████████| 762/762 [00:36<00:00, 21.08it/s]\n",
      "100%|██████████| 109/109 [00:01<00:00, 55.20it/s]\n"
     ]
    },
    {
     "name": "stdout",
     "output_type": "stream",
     "text": [
      "Epoch: 070, Average loss: 0.10526\n",
      "Epoch: 070, Average loss: 0.41373\n"
     ]
    },
    {
     "name": "stderr",
     "output_type": "stream",
     "text": [
      "100%|██████████| 762/762 [00:36<00:00, 21.08it/s]\n",
      "100%|██████████| 109/109 [00:02<00:00, 50.43it/s]\n"
     ]
    },
    {
     "name": "stdout",
     "output_type": "stream",
     "text": [
      "Epoch: 071, Average loss: 0.12229\n",
      "Epoch: 071, Average loss: 0.21474\n"
     ]
    },
    {
     "name": "stderr",
     "output_type": "stream",
     "text": [
      "100%|██████████| 762/762 [00:35<00:00, 21.23it/s]\n",
      "100%|██████████| 109/109 [00:01<00:00, 60.24it/s]\n"
     ]
    },
    {
     "name": "stdout",
     "output_type": "stream",
     "text": [
      "Epoch: 072, Average loss: 0.10779\n",
      "Epoch: 072, Average loss: 0.18985\n"
     ]
    },
    {
     "name": "stderr",
     "output_type": "stream",
     "text": [
      "100%|██████████| 762/762 [00:36<00:00, 21.01it/s]\n",
      "100%|██████████| 109/109 [00:02<00:00, 48.99it/s]\n"
     ]
    },
    {
     "name": "stdout",
     "output_type": "stream",
     "text": [
      "Epoch: 073, Average loss: 0.10153\n",
      "Epoch: 073, Average loss: 0.25400\n"
     ]
    },
    {
     "name": "stderr",
     "output_type": "stream",
     "text": [
      "100%|██████████| 762/762 [00:35<00:00, 21.26it/s]\n",
      "100%|██████████| 109/109 [00:02<00:00, 49.29it/s]\n"
     ]
    },
    {
     "name": "stdout",
     "output_type": "stream",
     "text": [
      "Epoch: 074, Average loss: 0.10319\n",
      "Epoch: 074, Average loss: 0.23860\n"
     ]
    },
    {
     "name": "stderr",
     "output_type": "stream",
     "text": [
      "100%|██████████| 762/762 [00:35<00:00, 21.22it/s]\n",
      "100%|██████████| 109/109 [00:02<00:00, 49.51it/s]\n"
     ]
    },
    {
     "name": "stdout",
     "output_type": "stream",
     "text": [
      "Epoch: 075, Average loss: 0.10865\n",
      "Epoch: 075, Average loss: 0.26684\n"
     ]
    },
    {
     "name": "stderr",
     "output_type": "stream",
     "text": [
      "100%|██████████| 762/762 [00:35<00:00, 21.30it/s]\n",
      "100%|██████████| 109/109 [00:02<00:00, 48.91it/s]\n"
     ]
    },
    {
     "name": "stdout",
     "output_type": "stream",
     "text": [
      "Epoch: 076, Average loss: 0.10283\n",
      "Epoch: 076, Average loss: 0.30153\n"
     ]
    },
    {
     "name": "stderr",
     "output_type": "stream",
     "text": [
      "100%|██████████| 762/762 [00:35<00:00, 21.77it/s]\n",
      "100%|██████████| 109/109 [00:02<00:00, 49.80it/s]\n"
     ]
    },
    {
     "name": "stdout",
     "output_type": "stream",
     "text": [
      "Epoch: 077, Average loss: 0.10475\n",
      "Epoch: 077, Average loss: 0.20909\n"
     ]
    },
    {
     "name": "stderr",
     "output_type": "stream",
     "text": [
      "100%|██████████| 762/762 [00:36<00:00, 21.04it/s]\n",
      "100%|██████████| 109/109 [00:02<00:00, 53.11it/s]\n"
     ]
    },
    {
     "name": "stdout",
     "output_type": "stream",
     "text": [
      "Epoch: 078, Average loss: 0.09602\n",
      "Epoch: 078, Average loss: 0.32561\n"
     ]
    },
    {
     "name": "stderr",
     "output_type": "stream",
     "text": [
      " 90%|████████▉ | 682/762 [00:32<00:04, 18.70it/s]IOPub message rate exceeded.\n",
      "The notebook server will temporarily stop sending output\n",
      "to the client in order to avoid crashing it.\n",
      "To change this limit, set the config variable\n",
      "`--NotebookApp.iopub_msg_rate_limit`.\n",
      "\n",
      "Current values:\n",
      "NotebookApp.iopub_msg_rate_limit=1000.0 (msgs/sec)\n",
      "NotebookApp.rate_limit_window=3.0 (secs)\n",
      "\n",
      "100%|██████████| 762/762 [00:25<00:00, 29.45it/s]\n",
      "100%|██████████| 109/109 [00:01<00:00, 68.42it/s]\n"
     ]
    },
    {
     "name": "stdout",
     "output_type": "stream",
     "text": [
      "Epoch: 001, Average loss: 1.15190\n",
      "Epoch: 001, Average loss: 1.89467\n"
     ]
    },
    {
     "name": "stderr",
     "output_type": "stream",
     "text": [
      "100%|██████████| 762/762 [00:30<00:00, 25.12it/s]\n",
      "100%|██████████| 109/109 [00:02<00:00, 50.37it/s]\n"
     ]
    },
    {
     "name": "stdout",
     "output_type": "stream",
     "text": [
      "Epoch: 002, Average loss: 0.94332\n",
      "Epoch: 002, Average loss: 1.68053\n"
     ]
    },
    {
     "name": "stderr",
     "output_type": "stream",
     "text": [
      "100%|██████████| 762/762 [00:35<00:00, 21.33it/s]\n",
      "100%|██████████| 109/109 [00:02<00:00, 50.49it/s]\n"
     ]
    },
    {
     "name": "stdout",
     "output_type": "stream",
     "text": [
      "Epoch: 003, Average loss: 0.93427\n",
      "Epoch: 003, Average loss: 1.81763\n"
     ]
    },
    {
     "name": "stderr",
     "output_type": "stream",
     "text": [
      "100%|██████████| 762/762 [00:36<00:00, 21.14it/s]\n",
      "100%|██████████| 109/109 [00:02<00:00, 52.56it/s]\n"
     ]
    },
    {
     "name": "stdout",
     "output_type": "stream",
     "text": [
      "Epoch: 004, Average loss: 0.88082\n",
      "Epoch: 004, Average loss: 1.77329\n"
     ]
    },
    {
     "name": "stderr",
     "output_type": "stream",
     "text": [
      "100%|██████████| 762/762 [00:36<00:00, 20.86it/s]\n",
      "100%|██████████| 109/109 [00:02<00:00, 42.05it/s]\n"
     ]
    },
    {
     "name": "stdout",
     "output_type": "stream",
     "text": [
      "Epoch: 005, Average loss: 0.79779\n",
      "Epoch: 005, Average loss: 1.55386\n"
     ]
    },
    {
     "name": "stderr",
     "output_type": "stream",
     "text": [
      "100%|██████████| 762/762 [00:36<00:00, 20.76it/s]\n",
      "100%|██████████| 109/109 [00:02<00:00, 48.81it/s]\n"
     ]
    },
    {
     "name": "stdout",
     "output_type": "stream",
     "text": [
      "Epoch: 006, Average loss: 0.77070\n",
      "Epoch: 006, Average loss: 1.52407\n"
     ]
    },
    {
     "name": "stderr",
     "output_type": "stream",
     "text": [
      "100%|██████████| 762/762 [00:36<00:00, 20.94it/s]\n",
      "100%|██████████| 109/109 [00:01<00:00, 66.86it/s]\n"
     ]
    },
    {
     "name": "stdout",
     "output_type": "stream",
     "text": [
      "Epoch: 007, Average loss: 0.62053\n",
      "Epoch: 007, Average loss: 1.17711\n"
     ]
    },
    {
     "name": "stderr",
     "output_type": "stream",
     "text": [
      "100%|██████████| 762/762 [00:36<00:00, 20.90it/s]\n",
      "100%|██████████| 109/109 [00:02<00:00, 48.24it/s]\n"
     ]
    },
    {
     "name": "stdout",
     "output_type": "stream",
     "text": [
      "Epoch: 008, Average loss: 0.48411\n",
      "Epoch: 008, Average loss: 1.22865\n"
     ]
    },
    {
     "name": "stderr",
     "output_type": "stream",
     "text": [
      "100%|██████████| 762/762 [00:36<00:00, 20.71it/s]\n",
      "100%|██████████| 109/109 [00:02<00:00, 48.58it/s]\n"
     ]
    },
    {
     "name": "stdout",
     "output_type": "stream",
     "text": [
      "Epoch: 009, Average loss: 0.32568\n",
      "Epoch: 009, Average loss: 0.58928\n"
     ]
    },
    {
     "name": "stderr",
     "output_type": "stream",
     "text": [
      "100%|██████████| 762/762 [00:36<00:00, 20.79it/s]\n",
      "100%|██████████| 109/109 [00:02<00:00, 49.45it/s]\n"
     ]
    },
    {
     "name": "stdout",
     "output_type": "stream",
     "text": [
      "Epoch: 010, Average loss: 0.25057\n",
      "Epoch: 010, Average loss: 0.83706\n"
     ]
    },
    {
     "name": "stderr",
     "output_type": "stream",
     "text": [
      "100%|██████████| 762/762 [00:36<00:00, 20.90it/s]\n",
      "100%|██████████| 109/109 [00:02<00:00, 51.16it/s]\n"
     ]
    },
    {
     "name": "stdout",
     "output_type": "stream",
     "text": [
      "Epoch: 011, Average loss: 0.27519\n",
      "Epoch: 011, Average loss: 0.73037\n"
     ]
    },
    {
     "name": "stderr",
     "output_type": "stream",
     "text": [
      "100%|██████████| 762/762 [00:36<00:00, 20.60it/s]\n",
      "100%|██████████| 109/109 [00:02<00:00, 47.26it/s]\n"
     ]
    },
    {
     "name": "stdout",
     "output_type": "stream",
     "text": [
      "Epoch: 012, Average loss: 0.23735\n",
      "Epoch: 012, Average loss: 0.48557\n"
     ]
    },
    {
     "name": "stderr",
     "output_type": "stream",
     "text": [
      "100%|██████████| 762/762 [00:36<00:00, 20.79it/s]\n",
      "100%|██████████| 109/109 [00:02<00:00, 51.09it/s]\n"
     ]
    },
    {
     "name": "stdout",
     "output_type": "stream",
     "text": [
      "Epoch: 013, Average loss: 0.19537\n",
      "Epoch: 013, Average loss: 0.49102\n"
     ]
    },
    {
     "name": "stderr",
     "output_type": "stream",
     "text": [
      " 77%|███████▋  | 589/762 [00:28<00:10, 15.89it/s]IOPub message rate exceeded.\n",
      "The notebook server will temporarily stop sending output\n",
      "to the client in order to avoid crashing it.\n",
      "To change this limit, set the config variable\n",
      "`--NotebookApp.iopub_msg_rate_limit`.\n",
      "\n",
      "Current values:\n",
      "NotebookApp.iopub_msg_rate_limit=1000.0 (msgs/sec)\n",
      "NotebookApp.rate_limit_window=3.0 (secs)\n",
      "\n",
      "100%|██████████| 762/762 [00:36<00:00, 20.70it/s]\n",
      "100%|██████████| 109/109 [00:02<00:00, 48.29it/s]\n"
     ]
    },
    {
     "name": "stdout",
     "output_type": "stream",
     "text": [
      "Epoch: 035, Average loss: 0.12942\n",
      "Epoch: 035, Average loss: 0.33160\n"
     ]
    },
    {
     "name": "stderr",
     "output_type": "stream",
     "text": [
      "100%|██████████| 762/762 [00:36<00:00, 20.71it/s]\n",
      "100%|██████████| 109/109 [00:02<00:00, 50.42it/s]\n"
     ]
    },
    {
     "name": "stdout",
     "output_type": "stream",
     "text": [
      "Epoch: 036, Average loss: 0.12571\n",
      "Epoch: 036, Average loss: 0.39060\n"
     ]
    },
    {
     "name": "stderr",
     "output_type": "stream",
     "text": [
      "100%|██████████| 762/762 [00:36<00:00, 20.79it/s]\n",
      "100%|██████████| 109/109 [00:02<00:00, 46.43it/s]\n"
     ]
    },
    {
     "name": "stdout",
     "output_type": "stream",
     "text": [
      "Epoch: 037, Average loss: 0.13190\n",
      "Epoch: 037, Average loss: 0.41197\n"
     ]
    },
    {
     "name": "stderr",
     "output_type": "stream",
     "text": [
      "100%|██████████| 762/762 [00:35<00:00, 21.60it/s]\n",
      "100%|██████████| 109/109 [00:01<00:00, 72.71it/s]\n"
     ]
    },
    {
     "name": "stdout",
     "output_type": "stream",
     "text": [
      "Epoch: 038, Average loss: 0.13398\n",
      "Epoch: 038, Average loss: 0.46914\n"
     ]
    },
    {
     "name": "stderr",
     "output_type": "stream",
     "text": [
      "100%|██████████| 762/762 [00:25<00:00, 29.37it/s]\n",
      "100%|██████████| 109/109 [00:01<00:00, 75.19it/s]\n"
     ]
    },
    {
     "name": "stdout",
     "output_type": "stream",
     "text": [
      "Epoch: 039, Average loss: 0.15333\n",
      "Epoch: 039, Average loss: 0.47113\n"
     ]
    },
    {
     "name": "stderr",
     "output_type": "stream",
     "text": [
      "100%|██████████| 762/762 [00:28<00:00, 26.56it/s]\n",
      "100%|██████████| 109/109 [00:02<00:00, 47.35it/s]\n"
     ]
    },
    {
     "name": "stdout",
     "output_type": "stream",
     "text": [
      "Epoch: 040, Average loss: 0.13547\n",
      "Epoch: 040, Average loss: 0.37472\n"
     ]
    },
    {
     "name": "stderr",
     "output_type": "stream",
     "text": [
      "100%|██████████| 762/762 [00:36<00:00, 20.85it/s]\n",
      "100%|██████████| 109/109 [00:01<00:00, 75.44it/s]\n"
     ]
    },
    {
     "name": "stdout",
     "output_type": "stream",
     "text": [
      "Epoch: 041, Average loss: 0.12225\n",
      "Epoch: 041, Average loss: 0.36327\n"
     ]
    },
    {
     "name": "stderr",
     "output_type": "stream",
     "text": [
      "100%|██████████| 762/762 [00:36<00:00, 21.05it/s]\n",
      "100%|██████████| 109/109 [00:02<00:00, 48.13it/s]\n"
     ]
    },
    {
     "name": "stdout",
     "output_type": "stream",
     "text": [
      "Epoch: 042, Average loss: 0.14940\n",
      "Epoch: 042, Average loss: 0.46427\n"
     ]
    },
    {
     "name": "stderr",
     "output_type": "stream",
     "text": [
      "100%|██████████| 762/762 [00:36<00:00, 20.86it/s]\n",
      "100%|██████████| 109/109 [00:02<00:00, 43.20it/s]\n"
     ]
    },
    {
     "name": "stdout",
     "output_type": "stream",
     "text": [
      "Epoch: 043, Average loss: 0.15405\n",
      "Epoch: 043, Average loss: 0.60607\n"
     ]
    },
    {
     "name": "stderr",
     "output_type": "stream",
     "text": [
      "100%|██████████| 762/762 [00:37<00:00, 20.55it/s]\n",
      "100%|██████████| 109/109 [00:02<00:00, 48.66it/s]\n"
     ]
    },
    {
     "name": "stdout",
     "output_type": "stream",
     "text": [
      "Epoch: 044, Average loss: 0.17706\n",
      "Epoch: 044, Average loss: 0.33237\n"
     ]
    },
    {
     "name": "stderr",
     "output_type": "stream",
     "text": [
      "100%|██████████| 762/762 [00:36<00:00, 20.88it/s]\n",
      "100%|██████████| 109/109 [00:02<00:00, 50.94it/s]\n"
     ]
    },
    {
     "name": "stdout",
     "output_type": "stream",
     "text": [
      "Epoch: 045, Average loss: 0.13322\n",
      "Epoch: 045, Average loss: 0.35934\n"
     ]
    },
    {
     "name": "stderr",
     "output_type": "stream",
     "text": [
      "100%|██████████| 762/762 [00:36<00:00, 20.71it/s]\n",
      "100%|██████████| 109/109 [00:02<00:00, 47.55it/s]\n"
     ]
    },
    {
     "name": "stdout",
     "output_type": "stream",
     "text": [
      "Epoch: 046, Average loss: 0.14772\n",
      "Epoch: 046, Average loss: 0.49071\n"
     ]
    },
    {
     "name": "stderr",
     "output_type": "stream",
     "text": [
      "100%|██████████| 762/762 [00:36<00:00, 20.61it/s]\n",
      "100%|██████████| 109/109 [00:02<00:00, 45.79it/s]\n"
     ]
    },
    {
     "name": "stdout",
     "output_type": "stream",
     "text": [
      "Epoch: 047, Average loss: 0.16116\n",
      "Epoch: 047, Average loss: 0.36689\n"
     ]
    },
    {
     "name": "stderr",
     "output_type": "stream",
     "text": [
      "100%|██████████| 762/762 [00:36<00:00, 20.97it/s]\n",
      "100%|██████████| 109/109 [00:02<00:00, 50.89it/s]\n"
     ]
    },
    {
     "name": "stdout",
     "output_type": "stream",
     "text": [
      "Epoch: 048, Average loss: 0.12389\n",
      "Epoch: 048, Average loss: 0.32962\n"
     ]
    },
    {
     "name": "stderr",
     "output_type": "stream",
     "text": [
      " 51%|█████     | 385/762 [00:18<00:15, 24.21it/s]IOPub message rate exceeded.\n",
      "The notebook server will temporarily stop sending output\n",
      "to the client in order to avoid crashing it.\n",
      "To change this limit, set the config variable\n",
      "`--NotebookApp.iopub_msg_rate_limit`.\n",
      "\n",
      "Current values:\n",
      "NotebookApp.iopub_msg_rate_limit=1000.0 (msgs/sec)\n",
      "NotebookApp.rate_limit_window=3.0 (secs)\n",
      "\n",
      "100%|██████████| 762/762 [00:36<00:00, 20.78it/s]\n",
      "100%|██████████| 109/109 [00:02<00:00, 48.27it/s]\n"
     ]
    },
    {
     "name": "stdout",
     "output_type": "stream",
     "text": [
      "Epoch: 063, Average loss: 0.13062\n",
      "Epoch: 063, Average loss: 0.41772\n"
     ]
    },
    {
     "name": "stderr",
     "output_type": "stream",
     "text": [
      "100%|██████████| 762/762 [00:37<00:00, 20.55it/s]\n",
      "100%|██████████| 109/109 [00:02<00:00, 50.46it/s]\n"
     ]
    },
    {
     "name": "stdout",
     "output_type": "stream",
     "text": [
      "Epoch: 064, Average loss: 0.11735\n",
      "Epoch: 064, Average loss: 0.29781\n"
     ]
    },
    {
     "name": "stderr",
     "output_type": "stream",
     "text": [
      "100%|██████████| 762/762 [00:36<00:00, 20.82it/s]\n",
      "100%|██████████| 109/109 [00:02<00:00, 53.19it/s]\n"
     ]
    },
    {
     "name": "stdout",
     "output_type": "stream",
     "text": [
      "Epoch: 065, Average loss: 0.12029\n",
      "Epoch: 065, Average loss: 0.27248\n"
     ]
    },
    {
     "name": "stderr",
     "output_type": "stream",
     "text": [
      "100%|██████████| 762/762 [00:36<00:00, 20.67it/s]\n",
      "100%|██████████| 109/109 [00:02<00:00, 44.24it/s]\n"
     ]
    },
    {
     "name": "stdout",
     "output_type": "stream",
     "text": [
      "Epoch: 066, Average loss: 0.12572\n",
      "Epoch: 066, Average loss: 0.35959\n"
     ]
    },
    {
     "name": "stderr",
     "output_type": "stream",
     "text": [
      " 60%|█████▉    | 454/762 [00:22<00:17, 18.04it/s]IOPub message rate exceeded.\n",
      "The notebook server will temporarily stop sending output\n",
      "to the client in order to avoid crashing it.\n",
      "To change this limit, set the config variable\n",
      "`--NotebookApp.iopub_msg_rate_limit`.\n",
      "\n",
      "Current values:\n",
      "NotebookApp.iopub_msg_rate_limit=1000.0 (msgs/sec)\n",
      "NotebookApp.rate_limit_window=3.0 (secs)\n",
      "\n",
      "100%|██████████| 762/762 [00:36<00:00, 21.14it/s]\n",
      "100%|██████████| 109/109 [00:02<00:00, 41.96it/s]\n"
     ]
    },
    {
     "name": "stdout",
     "output_type": "stream",
     "text": [
      "Epoch: 074, Average loss: 0.12538\n",
      "Epoch: 074, Average loss: 0.28171\n"
     ]
    },
    {
     "name": "stderr",
     "output_type": "stream",
     "text": [
      "100%|██████████| 762/762 [00:36<00:00, 20.84it/s]\n",
      "100%|██████████| 109/109 [00:02<00:00, 50.29it/s]\n"
     ]
    },
    {
     "name": "stdout",
     "output_type": "stream",
     "text": [
      "Epoch: 075, Average loss: 0.11647\n",
      "Epoch: 075, Average loss: 0.29659\n"
     ]
    },
    {
     "name": "stderr",
     "output_type": "stream",
     "text": [
      "100%|██████████| 762/762 [00:33<00:00, 22.84it/s]\n",
      "100%|██████████| 109/109 [00:01<00:00, 73.82it/s]\n"
     ]
    },
    {
     "name": "stdout",
     "output_type": "stream",
     "text": [
      "Epoch: 076, Average loss: 0.12645\n",
      "Epoch: 076, Average loss: 0.29625\n"
     ]
    },
    {
     "name": "stderr",
     "output_type": "stream",
     "text": [
      "100%|██████████| 762/762 [00:25<00:00, 29.44it/s]\n",
      "100%|██████████| 109/109 [00:01<00:00, 80.65it/s]\n"
     ]
    },
    {
     "name": "stdout",
     "output_type": "stream",
     "text": [
      "Epoch: 077, Average loss: 0.13079\n",
      "Epoch: 077, Average loss: 0.34610\n"
     ]
    },
    {
     "name": "stderr",
     "output_type": "stream",
     "text": [
      "100%|██████████| 762/762 [00:30<00:00, 24.83it/s]\n",
      "100%|██████████| 109/109 [00:02<00:00, 46.58it/s]\n"
     ]
    },
    {
     "name": "stdout",
     "output_type": "stream",
     "text": [
      "Epoch: 078, Average loss: 0.11785\n",
      "Epoch: 078, Average loss: 0.31193\n"
     ]
    },
    {
     "name": "stderr",
     "output_type": "stream",
     "text": [
      "100%|██████████| 762/762 [00:36<00:00, 21.07it/s]\n",
      "100%|██████████| 109/109 [00:02<00:00, 48.73it/s]\n"
     ]
    },
    {
     "name": "stdout",
     "output_type": "stream",
     "text": [
      "Epoch: 079, Average loss: 0.13894\n",
      "Epoch: 079, Average loss: 0.42455\n"
     ]
    },
    {
     "name": "stderr",
     "output_type": "stream",
     "text": [
      "100%|██████████| 762/762 [00:37<00:00, 20.19it/s]\n",
      "100%|██████████| 109/109 [00:02<00:00, 49.52it/s]\n"
     ]
    },
    {
     "name": "stdout",
     "output_type": "stream",
     "text": [
      "Epoch: 080, Average loss: 0.11991\n",
      "Epoch: 080, Average loss: 0.34528\n"
     ]
    },
    {
     "name": "stderr",
     "output_type": "stream",
     "text": [
      "100%|██████████| 762/762 [00:36<00:00, 20.65it/s]\n",
      "100%|██████████| 109/109 [00:02<00:00, 49.57it/s]\n"
     ]
    },
    {
     "name": "stdout",
     "output_type": "stream",
     "text": [
      "Epoch: 081, Average loss: 0.12306\n",
      "Epoch: 081, Average loss: 0.39278\n"
     ]
    },
    {
     "name": "stderr",
     "output_type": "stream",
     "text": [
      "100%|██████████| 762/762 [00:36<00:00, 20.77it/s]\n",
      "100%|██████████| 109/109 [00:02<00:00, 52.91it/s]\n"
     ]
    },
    {
     "name": "stdout",
     "output_type": "stream",
     "text": [
      "Epoch: 082, Average loss: 0.12381\n",
      "Epoch: 082, Average loss: 0.36117\n"
     ]
    },
    {
     "name": "stderr",
     "output_type": "stream",
     "text": [
      "100%|██████████| 762/762 [00:41<00:00, 18.38it/s]\n",
      " 83%|████████▎ | 91/109 [00:02<00:00, 50.73it/s]IOPub message rate exceeded.\n",
      "The notebook server will temporarily stop sending output\n",
      "to the client in order to avoid crashing it.\n",
      "To change this limit, set the config variable\n",
      "`--NotebookApp.iopub_msg_rate_limit`.\n",
      "\n",
      "Current values:\n",
      "NotebookApp.iopub_msg_rate_limit=1000.0 (msgs/sec)\n",
      "NotebookApp.rate_limit_window=3.0 (secs)\n",
      "\n",
      "100%|██████████| 762/762 [00:36<00:00, 21.10it/s]\n",
      "100%|██████████| 109/109 [00:02<00:00, 49.65it/s]\n"
     ]
    },
    {
     "name": "stdout",
     "output_type": "stream",
     "text": [
      "Epoch: 098, Average loss: 0.12171\n",
      "Epoch: 098, Average loss: 0.34403\n"
     ]
    },
    {
     "name": "stderr",
     "output_type": "stream",
     "text": [
      "100%|██████████| 762/762 [00:36<00:00, 21.12it/s]\n",
      "100%|██████████| 109/109 [00:02<00:00, 49.38it/s]\n"
     ]
    },
    {
     "name": "stdout",
     "output_type": "stream",
     "text": [
      "Epoch: 099, Average loss: 0.11108\n",
      "Epoch: 099, Average loss: 0.33862\n"
     ]
    },
    {
     "name": "stderr",
     "output_type": "stream",
     "text": [
      "  0%|          | 0/762 [00:00<?, ?it/s]/miniconda/envs/crystalvae/lib/python3.6/site-packages/torch/nn/modules/loss.py:96: UserWarning:\n",
      "\n",
      "Using a target size (torch.Size([4])) that is different to the input size (torch.Size([4, 1])). This will likely lead to incorrect results due to broadcasting. Please ensure they have the same size.\n",
      "\n",
      "100%|█████████▉| 761/762 [00:35<00:00, 27.26it/s]/miniconda/envs/crystalvae/lib/python3.6/site-packages/torch/nn/modules/loss.py:96: UserWarning:\n",
      "\n",
      "Using a target size (torch.Size([1])) that is different to the input size (torch.Size([1, 1])). This will likely lead to incorrect results due to broadcasting. Please ensure they have the same size.\n",
      "\n",
      "100%|██████████| 762/762 [00:36<00:00, 21.15it/s]\n",
      " 96%|█████████▋| 105/109 [00:01<00:00, 61.91it/s]/miniconda/envs/crystalvae/lib/python3.6/site-packages/torch/nn/modules/loss.py:96: UserWarning:\n",
      "\n",
      "Using a target size (torch.Size([3])) that is different to the input size (torch.Size([3, 1])). This will likely lead to incorrect results due to broadcasting. Please ensure they have the same size.\n",
      "\n",
      "100%|██████████| 109/109 [00:02<00:00, 50.44it/s]\n"
     ]
    },
    {
     "name": "stdout",
     "output_type": "stream",
     "text": [
      "Epoch: 000, Average loss: 1.06961\n",
      "Epoch: 000, Average loss: 2.57585\n"
     ]
    },
    {
     "name": "stderr",
     "output_type": "stream",
     "text": [
      "100%|██████████| 762/762 [00:36<00:00, 20.91it/s]\n",
      "100%|██████████| 109/109 [00:02<00:00, 46.90it/s]\n"
     ]
    },
    {
     "name": "stdout",
     "output_type": "stream",
     "text": [
      "Epoch: 001, Average loss: 1.02564\n",
      "Epoch: 001, Average loss: 1.48129\n"
     ]
    },
    {
     "name": "stderr",
     "output_type": "stream",
     "text": [
      " 27%|██▋       | 207/762 [00:09<00:22, 24.95it/s]IOPub message rate exceeded.\n",
      "The notebook server will temporarily stop sending output\n",
      "to the client in order to avoid crashing it.\n",
      "To change this limit, set the config variable\n",
      "`--NotebookApp.iopub_msg_rate_limit`.\n",
      "\n",
      "Current values:\n",
      "NotebookApp.iopub_msg_rate_limit=1000.0 (msgs/sec)\n",
      "NotebookApp.rate_limit_window=3.0 (secs)\n",
      "\n",
      "100%|██████████| 762/762 [00:36<00:00, 21.11it/s]\n",
      "100%|██████████| 109/109 [00:02<00:00, 42.94it/s]\n"
     ]
    },
    {
     "name": "stdout",
     "output_type": "stream",
     "text": [
      "Epoch: 009, Average loss: 0.23748\n",
      "Epoch: 009, Average loss: 0.67000\n"
     ]
    },
    {
     "name": "stderr",
     "output_type": "stream",
     "text": [
      "100%|██████████| 762/762 [00:36<00:00, 21.04it/s]\n",
      "100%|██████████| 109/109 [00:02<00:00, 44.17it/s]\n"
     ]
    },
    {
     "name": "stdout",
     "output_type": "stream",
     "text": [
      "Epoch: 010, Average loss: 0.22771\n",
      "Epoch: 010, Average loss: 0.69371\n"
     ]
    },
    {
     "name": "stderr",
     "output_type": "stream",
     "text": [
      "100%|██████████| 762/762 [00:36<00:00, 21.09it/s]\n",
      "100%|██████████| 109/109 [00:02<00:00, 51.34it/s]\n"
     ]
    },
    {
     "name": "stdout",
     "output_type": "stream",
     "text": [
      "Epoch: 011, Average loss: 0.25703\n",
      "Epoch: 011, Average loss: 0.64370\n"
     ]
    },
    {
     "name": "stderr",
     "output_type": "stream",
     "text": [
      "100%|██████████| 762/762 [00:36<00:00, 20.94it/s]\n",
      "100%|██████████| 109/109 [00:02<00:00, 46.60it/s]\n"
     ]
    },
    {
     "name": "stdout",
     "output_type": "stream",
     "text": [
      "Epoch: 012, Average loss: 0.21159\n",
      "Epoch: 012, Average loss: 0.57553\n"
     ]
    },
    {
     "name": "stderr",
     "output_type": "stream",
     "text": [
      "100%|██████████| 762/762 [00:34<00:00, 21.87it/s]\n",
      "100%|██████████| 109/109 [00:01<00:00, 61.97it/s]\n"
     ]
    },
    {
     "name": "stdout",
     "output_type": "stream",
     "text": [
      "Epoch: 013, Average loss: 0.17976\n",
      "Epoch: 013, Average loss: 0.53202\n"
     ]
    },
    {
     "name": "stderr",
     "output_type": "stream",
     "text": [
      "100%|██████████| 762/762 [00:25<00:00, 29.44it/s]\n",
      "100%|██████████| 109/109 [00:01<00:00, 67.16it/s]\n"
     ]
    },
    {
     "name": "stdout",
     "output_type": "stream",
     "text": [
      "Epoch: 014, Average loss: 0.16444\n",
      "Epoch: 014, Average loss: 0.25590\n"
     ]
    },
    {
     "name": "stderr",
     "output_type": "stream",
     "text": [
      "100%|██████████| 762/762 [00:29<00:00, 25.77it/s]\n",
      "100%|██████████| 109/109 [00:02<00:00, 41.48it/s]\n"
     ]
    },
    {
     "name": "stdout",
     "output_type": "stream",
     "text": [
      "Epoch: 015, Average loss: 0.15787\n",
      "Epoch: 015, Average loss: 0.31598\n"
     ]
    },
    {
     "name": "stderr",
     "output_type": "stream",
     "text": [
      "100%|██████████| 762/762 [00:34<00:00, 21.98it/s]\n",
      "100%|██████████| 109/109 [00:02<00:00, 41.07it/s]\n"
     ]
    },
    {
     "name": "stdout",
     "output_type": "stream",
     "text": [
      "Epoch: 016, Average loss: 0.17307\n",
      "Epoch: 016, Average loss: 0.55643\n"
     ]
    },
    {
     "name": "stderr",
     "output_type": "stream",
     "text": [
      "100%|██████████| 762/762 [00:36<00:00, 21.10it/s]\n",
      "100%|██████████| 109/109 [00:02<00:00, 49.58it/s]\n"
     ]
    },
    {
     "name": "stdout",
     "output_type": "stream",
     "text": [
      "Epoch: 017, Average loss: 0.16011\n",
      "Epoch: 017, Average loss: 0.24705\n"
     ]
    },
    {
     "name": "stderr",
     "output_type": "stream",
     "text": [
      "100%|██████████| 762/762 [00:35<00:00, 21.22it/s]\n",
      "100%|██████████| 109/109 [00:02<00:00, 53.74it/s]\n"
     ]
    },
    {
     "name": "stdout",
     "output_type": "stream",
     "text": [
      "Epoch: 018, Average loss: 0.14192\n",
      "Epoch: 018, Average loss: 0.20805\n"
     ]
    },
    {
     "name": "stderr",
     "output_type": "stream",
     "text": [
      " 21%|██        | 159/762 [00:07<00:31, 18.86it/s]IOPub message rate exceeded.\n",
      "The notebook server will temporarily stop sending output\n",
      "to the client in order to avoid crashing it.\n",
      "To change this limit, set the config variable\n",
      "`--NotebookApp.iopub_msg_rate_limit`.\n",
      "\n",
      "Current values:\n",
      "NotebookApp.iopub_msg_rate_limit=1000.0 (msgs/sec)\n",
      "NotebookApp.rate_limit_window=3.0 (secs)\n",
      "\n",
      "100%|██████████| 762/762 [00:31<00:00, 24.32it/s]\n",
      "100%|██████████| 109/109 [00:02<00:00, 49.97it/s]\n"
     ]
    },
    {
     "name": "stdout",
     "output_type": "stream",
     "text": [
      "Epoch: 034, Average loss: 0.11192\n",
      "Epoch: 034, Average loss: 0.26957\n"
     ]
    },
    {
     "name": "stderr",
     "output_type": "stream",
     "text": [
      "100%|██████████| 762/762 [00:35<00:00, 21.42it/s]\n",
      "100%|██████████| 109/109 [00:02<00:00, 51.92it/s]\n"
     ]
    },
    {
     "name": "stdout",
     "output_type": "stream",
     "text": [
      "Epoch: 035, Average loss: 0.11838\n",
      "Epoch: 035, Average loss: 0.37879\n"
     ]
    },
    {
     "name": "stderr",
     "output_type": "stream",
     "text": [
      "100%|██████████| 762/762 [00:35<00:00, 21.66it/s]\n",
      "100%|██████████| 109/109 [00:01<00:00, 61.29it/s]\n"
     ]
    },
    {
     "name": "stdout",
     "output_type": "stream",
     "text": [
      "Epoch: 036, Average loss: 0.11016\n",
      "Epoch: 036, Average loss: 0.30443\n"
     ]
    },
    {
     "name": "stderr",
     "output_type": "stream",
     "text": [
      "100%|██████████| 762/762 [00:35<00:00, 21.38it/s]\n",
      "100%|██████████| 109/109 [00:02<00:00, 42.90it/s]\n"
     ]
    },
    {
     "name": "stdout",
     "output_type": "stream",
     "text": [
      "Epoch: 037, Average loss: 0.11671\n",
      "Epoch: 037, Average loss: 0.34512\n"
     ]
    },
    {
     "name": "stderr",
     "output_type": "stream",
     "text": [
      " 32%|███▏      | 241/762 [00:11<00:28, 18.23it/s]IOPub message rate exceeded.\n",
      "The notebook server will temporarily stop sending output\n",
      "to the client in order to avoid crashing it.\n",
      "To change this limit, set the config variable\n",
      "`--NotebookApp.iopub_msg_rate_limit`.\n",
      "\n",
      "Current values:\n",
      "NotebookApp.iopub_msg_rate_limit=1000.0 (msgs/sec)\n",
      "NotebookApp.rate_limit_window=3.0 (secs)\n",
      "\n",
      "100%|██████████| 762/762 [00:35<00:00, 21.58it/s]\n",
      "100%|██████████| 109/109 [00:02<00:00, 48.58it/s]\n"
     ]
    },
    {
     "name": "stdout",
     "output_type": "stream",
     "text": [
      "Epoch: 045, Average loss: 0.11156\n",
      "Epoch: 045, Average loss: 0.37787\n"
     ]
    },
    {
     "name": "stderr",
     "output_type": "stream",
     "text": [
      "100%|██████████| 762/762 [00:35<00:00, 21.61it/s]\n",
      "100%|██████████| 109/109 [00:02<00:00, 51.31it/s]\n"
     ]
    },
    {
     "name": "stdout",
     "output_type": "stream",
     "text": [
      "Epoch: 046, Average loss: 0.11430\n",
      "Epoch: 046, Average loss: 0.34060\n"
     ]
    },
    {
     "name": "stderr",
     "output_type": "stream",
     "text": [
      "100%|██████████| 762/762 [00:35<00:00, 21.44it/s]\n",
      "100%|██████████| 109/109 [00:02<00:00, 51.67it/s]\n"
     ]
    },
    {
     "name": "stdout",
     "output_type": "stream",
     "text": [
      "Epoch: 047, Average loss: 0.08912\n",
      "Epoch: 047, Average loss: 0.22530\n"
     ]
    },
    {
     "name": "stderr",
     "output_type": "stream",
     "text": [
      "100%|██████████| 762/762 [00:34<00:00, 21.84it/s]\n",
      "100%|██████████| 109/109 [00:02<00:00, 49.46it/s]\n"
     ]
    },
    {
     "name": "stdout",
     "output_type": "stream",
     "text": [
      "Epoch: 048, Average loss: 0.08909\n",
      "Epoch: 048, Average loss: 0.21211\n"
     ]
    },
    {
     "name": "stderr",
     "output_type": "stream",
     "text": [
      "100%|██████████| 762/762 [00:35<00:00, 21.56it/s]\n",
      "100%|██████████| 109/109 [00:02<00:00, 48.01it/s]\n"
     ]
    },
    {
     "name": "stdout",
     "output_type": "stream",
     "text": [
      "Epoch: 049, Average loss: 0.10008\n",
      "Epoch: 049, Average loss: 0.22069\n"
     ]
    },
    {
     "name": "stderr",
     "output_type": "stream",
     "text": [
      "100%|██████████| 762/762 [00:35<00:00, 21.67it/s]\n",
      "100%|██████████| 109/109 [00:02<00:00, 48.46it/s]\n"
     ]
    },
    {
     "name": "stdout",
     "output_type": "stream",
     "text": [
      "Epoch: 050, Average loss: 0.09444\n",
      "Epoch: 050, Average loss: 0.31176\n"
     ]
    },
    {
     "name": "stderr",
     "output_type": "stream",
     "text": [
      "100%|██████████| 762/762 [00:35<00:00, 21.33it/s]\n",
      "100%|██████████| 109/109 [00:02<00:00, 47.83it/s]\n"
     ]
    },
    {
     "name": "stdout",
     "output_type": "stream",
     "text": [
      "Epoch: 051, Average loss: 0.09244\n",
      "Epoch: 051, Average loss: 0.27456\n"
     ]
    },
    {
     "name": "stderr",
     "output_type": "stream",
     "text": [
      "100%|██████████| 762/762 [00:26<00:00, 28.83it/s]\n",
      "100%|██████████| 109/109 [00:01<00:00, 71.98it/s]\n"
     ]
    },
    {
     "name": "stdout",
     "output_type": "stream",
     "text": [
      "Epoch: 052, Average loss: 0.09633\n",
      "Epoch: 052, Average loss: 0.45828\n"
     ]
    },
    {
     "name": "stderr",
     "output_type": "stream",
     "text": [
      "100%|██████████| 762/762 [00:27<00:00, 28.02it/s]\n",
      "100%|██████████| 109/109 [00:01<00:00, 103.46it/s]\n"
     ]
    },
    {
     "name": "stdout",
     "output_type": "stream",
     "text": [
      "Epoch: 053, Average loss: 0.11767\n",
      "Epoch: 053, Average loss: 0.29391\n"
     ]
    },
    {
     "name": "stderr",
     "output_type": "stream",
     "text": [
      "100%|██████████| 762/762 [00:34<00:00, 22.23it/s]\n",
      "100%|██████████| 109/109 [00:02<00:00, 44.42it/s]\n"
     ]
    },
    {
     "name": "stdout",
     "output_type": "stream",
     "text": [
      "Epoch: 054, Average loss: 0.09165\n",
      "Epoch: 054, Average loss: 0.34019\n"
     ]
    },
    {
     "name": "stderr",
     "output_type": "stream",
     "text": [
      " 91%|█████████ | 693/762 [00:31<00:03, 19.25it/s]IOPub message rate exceeded.\n",
      "The notebook server will temporarily stop sending output\n",
      "to the client in order to avoid crashing it.\n",
      "To change this limit, set the config variable\n",
      "`--NotebookApp.iopub_msg_rate_limit`.\n",
      "\n",
      "Current values:\n",
      "NotebookApp.iopub_msg_rate_limit=1000.0 (msgs/sec)\n",
      "NotebookApp.rate_limit_window=3.0 (secs)\n",
      "\n",
      "100%|██████████| 762/762 [00:35<00:00, 21.71it/s]\n",
      "100%|██████████| 109/109 [00:01<00:00, 58.85it/s]\n"
     ]
    },
    {
     "name": "stdout",
     "output_type": "stream",
     "text": [
      "Epoch: 071, Average loss: 0.08750\n",
      "Epoch: 071, Average loss: 0.26947\n"
     ]
    },
    {
     "name": "stderr",
     "output_type": "stream",
     "text": [
      "100%|██████████| 762/762 [00:25<00:00, 29.56it/s]\n",
      "100%|██████████| 109/109 [00:01<00:00, 78.49it/s]\n"
     ]
    },
    {
     "name": "stdout",
     "output_type": "stream",
     "text": [
      "Epoch: 072, Average loss: 0.07825\n",
      "Epoch: 072, Average loss: 0.33949\n"
     ]
    },
    {
     "name": "stderr",
     "output_type": "stream",
     "text": [
      "100%|██████████| 762/762 [00:29<00:00, 26.23it/s]\n",
      "100%|██████████| 109/109 [00:02<00:00, 51.07it/s]\n"
     ]
    },
    {
     "name": "stdout",
     "output_type": "stream",
     "text": [
      "Epoch: 073, Average loss: 0.10879\n",
      "Epoch: 073, Average loss: 0.19180\n"
     ]
    },
    {
     "name": "stderr",
     "output_type": "stream",
     "text": [
      "100%|██████████| 762/762 [00:35<00:00, 21.68it/s]\n",
      "100%|██████████| 109/109 [00:02<00:00, 50.40it/s]\n"
     ]
    },
    {
     "name": "stdout",
     "output_type": "stream",
     "text": [
      "Epoch: 074, Average loss: 0.08011\n",
      "Epoch: 074, Average loss: 0.19218\n"
     ]
    },
    {
     "name": "stderr",
     "output_type": "stream",
     "text": [
      " 41%|████      | 312/762 [00:14<00:24, 18.25it/s]IOPub message rate exceeded.\n",
      "The notebook server will temporarily stop sending output\n",
      "to the client in order to avoid crashing it.\n",
      "To change this limit, set the config variable\n",
      "`--NotebookApp.iopub_msg_rate_limit`.\n",
      "\n",
      "Current values:\n",
      "NotebookApp.iopub_msg_rate_limit=1000.0 (msgs/sec)\n",
      "NotebookApp.rate_limit_window=3.0 (secs)\n",
      "\n",
      "100%|██████████| 762/762 [00:35<00:00, 21.64it/s]\n",
      "100%|██████████| 109/109 [00:02<00:00, 49.69it/s]\n"
     ]
    },
    {
     "name": "stdout",
     "output_type": "stream",
     "text": [
      "Epoch: 082, Average loss: 0.08700\n",
      "Epoch: 082, Average loss: 0.27362\n"
     ]
    },
    {
     "name": "stderr",
     "output_type": "stream",
     "text": [
      "100%|██████████| 762/762 [00:34<00:00, 21.84it/s]\n",
      "100%|██████████| 109/109 [00:02<00:00, 48.18it/s]\n"
     ]
    },
    {
     "name": "stdout",
     "output_type": "stream",
     "text": [
      "Epoch: 083, Average loss: 0.08214\n",
      "Epoch: 083, Average loss: 0.27779\n"
     ]
    },
    {
     "name": "stderr",
     "output_type": "stream",
     "text": [
      "100%|██████████| 762/762 [00:34<00:00, 21.98it/s]\n",
      "100%|██████████| 109/109 [00:02<00:00, 50.42it/s]\n"
     ]
    },
    {
     "name": "stdout",
     "output_type": "stream",
     "text": [
      "Epoch: 084, Average loss: 0.07492\n",
      "Epoch: 084, Average loss: 0.17524\n"
     ]
    },
    {
     "name": "stderr",
     "output_type": "stream",
     "text": [
      "100%|██████████| 762/762 [00:34<00:00, 22.03it/s]\n",
      "100%|██████████| 109/109 [00:01<00:00, 60.38it/s]\n"
     ]
    },
    {
     "name": "stdout",
     "output_type": "stream",
     "text": [
      "Epoch: 085, Average loss: 0.08794\n",
      "Epoch: 085, Average loss: 0.31131\n"
     ]
    },
    {
     "name": "stderr",
     "output_type": "stream",
     "text": [
      "100%|██████████| 762/762 [00:35<00:00, 21.70it/s]\n",
      "100%|██████████| 109/109 [00:02<00:00, 49.35it/s]\n"
     ]
    },
    {
     "name": "stdout",
     "output_type": "stream",
     "text": [
      "Epoch: 086, Average loss: 0.07151\n",
      "Epoch: 086, Average loss: 0.23140\n"
     ]
    },
    {
     "name": "stderr",
     "output_type": "stream",
     "text": [
      "100%|██████████| 762/762 [00:35<00:00, 21.61it/s]\n",
      "100%|██████████| 109/109 [00:01<00:00, 56.02it/s]\n"
     ]
    },
    {
     "name": "stdout",
     "output_type": "stream",
     "text": [
      "Epoch: 087, Average loss: 0.07408\n",
      "Epoch: 087, Average loss: 0.26179\n"
     ]
    },
    {
     "name": "stderr",
     "output_type": "stream",
     "text": [
      "100%|██████████| 762/762 [00:35<00:00, 21.65it/s]\n",
      "100%|██████████| 109/109 [00:02<00:00, 50.95it/s]\n"
     ]
    },
    {
     "name": "stdout",
     "output_type": "stream",
     "text": [
      "Epoch: 088, Average loss: 0.08785\n",
      "Epoch: 088, Average loss: 0.30601\n"
     ]
    },
    {
     "name": "stderr",
     "output_type": "stream",
     "text": [
      "100%|██████████| 762/762 [00:34<00:00, 21.89it/s]\n",
      "100%|██████████| 109/109 [00:02<00:00, 48.02it/s]\n"
     ]
    },
    {
     "name": "stdout",
     "output_type": "stream",
     "text": [
      "Epoch: 089, Average loss: 0.08440\n",
      "Epoch: 089, Average loss: 0.41504\n"
     ]
    },
    {
     "name": "stderr",
     "output_type": "stream",
     "text": [
      "100%|██████████| 762/762 [00:35<00:00, 21.45it/s]\n",
      "100%|██████████| 109/109 [00:02<00:00, 47.82it/s]\n"
     ]
    },
    {
     "name": "stdout",
     "output_type": "stream",
     "text": [
      "Epoch: 090, Average loss: 0.08378\n",
      "Epoch: 090, Average loss: 0.23342\n"
     ]
    },
    {
     "name": "stderr",
     "output_type": "stream",
     "text": [
      "100%|██████████| 762/762 [00:31<00:00, 24.03it/s]\n",
      "100%|██████████| 109/109 [00:01<00:00, 69.79it/s]\n"
     ]
    },
    {
     "name": "stdout",
     "output_type": "stream",
     "text": [
      "Epoch: 091, Average loss: 0.08105\n",
      "Epoch: 091, Average loss: 0.25768\n"
     ]
    },
    {
     "name": "stderr",
     "output_type": "stream",
     "text": [
      "100%|██████████| 762/762 [00:25<00:00, 30.42it/s]\n",
      "100%|██████████| 109/109 [00:01<00:00, 70.05it/s]\n"
     ]
    },
    {
     "name": "stdout",
     "output_type": "stream",
     "text": [
      "Epoch: 092, Average loss: 0.06506\n",
      "Epoch: 092, Average loss: 0.23629\n"
     ]
    },
    {
     "name": "stderr",
     "output_type": "stream",
     "text": [
      " 11%|█▏        | 86/762 [00:03<00:26, 25.54it/s]IOPub message rate exceeded.\n",
      "The notebook server will temporarily stop sending output\n",
      "to the client in order to avoid crashing it.\n",
      "To change this limit, set the config variable\n",
      "`--NotebookApp.iopub_msg_rate_limit`.\n",
      "\n",
      "Current values:\n",
      "NotebookApp.iopub_msg_rate_limit=1000.0 (msgs/sec)\n",
      "NotebookApp.rate_limit_window=3.0 (secs)\n",
      "\n",
      "100%|██████████| 762/762 [00:35<00:00, 21.32it/s]\n",
      "100%|██████████| 109/109 [00:02<00:00, 50.17it/s]\n"
     ]
    },
    {
     "name": "stdout",
     "output_type": "stream",
     "text": [
      "Epoch: 008, Average loss: 0.26227\n",
      "Epoch: 008, Average loss: 0.44651\n"
     ]
    },
    {
     "name": "stderr",
     "output_type": "stream",
     "text": [
      "100%|██████████| 762/762 [00:35<00:00, 21.37it/s]\n",
      "100%|██████████| 109/109 [00:02<00:00, 46.38it/s]\n"
     ]
    },
    {
     "name": "stdout",
     "output_type": "stream",
     "text": [
      "Epoch: 009, Average loss: 0.19246\n",
      "Epoch: 009, Average loss: 0.51344\n"
     ]
    },
    {
     "name": "stderr",
     "output_type": "stream",
     "text": [
      "100%|██████████| 762/762 [00:35<00:00, 21.25it/s]\n",
      "100%|██████████| 109/109 [00:01<00:00, 68.99it/s]\n"
     ]
    },
    {
     "name": "stdout",
     "output_type": "stream",
     "text": [
      "Epoch: 010, Average loss: 0.19288\n",
      "Epoch: 010, Average loss: 0.75306\n"
     ]
    },
    {
     "name": "stderr",
     "output_type": "stream",
     "text": [
      "100%|██████████| 762/762 [00:25<00:00, 29.93it/s]\n",
      "100%|██████████| 109/109 [00:01<00:00, 73.06it/s]\n"
     ]
    },
    {
     "name": "stdout",
     "output_type": "stream",
     "text": [
      "Epoch: 011, Average loss: 0.21922\n",
      "Epoch: 011, Average loss: 0.38120\n"
     ]
    },
    {
     "name": "stderr",
     "output_type": "stream",
     "text": [
      " 23%|██▎       | 173/762 [00:06<00:21, 27.63it/s]IOPub message rate exceeded.\n",
      "The notebook server will temporarily stop sending output\n",
      "to the client in order to avoid crashing it.\n",
      "To change this limit, set the config variable\n",
      "`--NotebookApp.iopub_msg_rate_limit`.\n",
      "\n",
      "Current values:\n",
      "NotebookApp.iopub_msg_rate_limit=1000.0 (msgs/sec)\n",
      "NotebookApp.rate_limit_window=3.0 (secs)\n",
      "\n",
      "100%|██████████| 762/762 [00:35<00:00, 21.28it/s]\n",
      "100%|██████████| 109/109 [00:02<00:00, 52.24it/s]\n"
     ]
    },
    {
     "name": "stdout",
     "output_type": "stream",
     "text": [
      "Epoch: 019, Average loss: 0.14804\n",
      "Epoch: 019, Average loss: 0.38695\n"
     ]
    },
    {
     "name": "stderr",
     "output_type": "stream",
     "text": [
      "100%|██████████| 762/762 [00:36<00:00, 20.99it/s]\n",
      "100%|██████████| 109/109 [00:02<00:00, 49.62it/s]\n"
     ]
    },
    {
     "name": "stdout",
     "output_type": "stream",
     "text": [
      "Epoch: 020, Average loss: 0.13274\n",
      "Epoch: 020, Average loss: 0.43198\n"
     ]
    },
    {
     "name": "stderr",
     "output_type": "stream",
     "text": [
      "100%|██████████| 762/762 [00:35<00:00, 21.42it/s]\n",
      "100%|██████████| 109/109 [00:02<00:00, 46.49it/s]\n"
     ]
    },
    {
     "name": "stdout",
     "output_type": "stream",
     "text": [
      "Epoch: 021, Average loss: 0.14742\n",
      "Epoch: 021, Average loss: 0.36839\n"
     ]
    },
    {
     "name": "stderr",
     "output_type": "stream",
     "text": [
      "100%|██████████| 762/762 [00:36<00:00, 21.15it/s]\n",
      "100%|██████████| 109/109 [00:02<00:00, 46.90it/s]\n"
     ]
    },
    {
     "name": "stdout",
     "output_type": "stream",
     "text": [
      "Epoch: 022, Average loss: 0.15674\n",
      "Epoch: 022, Average loss: 0.46207\n"
     ]
    },
    {
     "name": "stderr",
     "output_type": "stream",
     "text": [
      "100%|██████████| 762/762 [00:36<00:00, 20.93it/s]\n",
      "100%|██████████| 109/109 [00:02<00:00, 51.51it/s]\n"
     ]
    },
    {
     "name": "stdout",
     "output_type": "stream",
     "text": [
      "Epoch: 023, Average loss: 0.13708\n",
      "Epoch: 023, Average loss: 0.29510\n"
     ]
    },
    {
     "name": "stderr",
     "output_type": "stream",
     "text": [
      "100%|██████████| 762/762 [00:35<00:00, 21.29it/s]\n",
      "100%|██████████| 109/109 [00:02<00:00, 50.42it/s]\n"
     ]
    },
    {
     "name": "stdout",
     "output_type": "stream",
     "text": [
      "Epoch: 024, Average loss: 0.11669\n",
      "Epoch: 024, Average loss: 0.31077\n"
     ]
    },
    {
     "name": "stderr",
     "output_type": "stream",
     "text": [
      "100%|██████████| 762/762 [00:36<00:00, 20.90it/s]\n",
      "100%|██████████| 109/109 [00:02<00:00, 52.31it/s]\n"
     ]
    },
    {
     "name": "stdout",
     "output_type": "stream",
     "text": [
      "Epoch: 025, Average loss: 0.13865\n",
      "Epoch: 025, Average loss: 0.34914\n"
     ]
    },
    {
     "name": "stderr",
     "output_type": "stream",
     "text": [
      "100%|██████████| 762/762 [00:36<00:00, 21.14it/s]\n",
      "100%|██████████| 109/109 [00:02<00:00, 44.54it/s]\n"
     ]
    },
    {
     "name": "stdout",
     "output_type": "stream",
     "text": [
      "Epoch: 026, Average loss: 0.12372\n",
      "Epoch: 026, Average loss: 0.27776\n"
     ]
    },
    {
     "name": "stderr",
     "output_type": "stream",
     "text": [
      "100%|██████████| 762/762 [00:36<00:00, 21.09it/s]\n",
      "100%|██████████| 109/109 [00:02<00:00, 48.28it/s]\n"
     ]
    },
    {
     "name": "stdout",
     "output_type": "stream",
     "text": [
      "Epoch: 027, Average loss: 0.12295\n",
      "Epoch: 027, Average loss: 0.29294\n"
     ]
    },
    {
     "name": "stderr",
     "output_type": "stream",
     "text": [
      "100%|██████████| 762/762 [00:36<00:00, 21.07it/s]\n",
      "100%|██████████| 109/109 [00:02<00:00, 48.85it/s]IOPub message rate exceeded.\n",
      "The notebook server will temporarily stop sending output\n",
      "to the client in order to avoid crashing it.\n",
      "To change this limit, set the config variable\n",
      "`--NotebookApp.iopub_msg_rate_limit`.\n",
      "\n",
      "Current values:\n",
      "NotebookApp.iopub_msg_rate_limit=1000.0 (msgs/sec)\n",
      "NotebookApp.rate_limit_window=3.0 (secs)\n",
      "\n",
      "100%|██████████| 762/762 [00:35<00:00, 21.25it/s]\n",
      "100%|██████████| 109/109 [00:02<00:00, 43.59it/s]\n"
     ]
    },
    {
     "name": "stdout",
     "output_type": "stream",
     "text": [
      "Epoch: 043, Average loss: 0.10801\n",
      "Epoch: 043, Average loss: 0.34116\n"
     ]
    },
    {
     "name": "stderr",
     "output_type": "stream",
     "text": [
      "100%|██████████| 762/762 [00:35<00:00, 21.25it/s]\n",
      "100%|██████████| 109/109 [00:02<00:00, 51.84it/s]\n"
     ]
    },
    {
     "name": "stdout",
     "output_type": "stream",
     "text": [
      "Epoch: 044, Average loss: 0.08507\n",
      "Epoch: 044, Average loss: 0.24499\n"
     ]
    },
    {
     "name": "stderr",
     "output_type": "stream",
     "text": [
      "100%|██████████| 762/762 [00:34<00:00, 21.85it/s]\n",
      "100%|██████████| 109/109 [00:02<00:00, 52.94it/s]\n"
     ]
    },
    {
     "name": "stdout",
     "output_type": "stream",
     "text": [
      "Epoch: 045, Average loss: 0.08650\n",
      "Epoch: 045, Average loss: 0.19963\n"
     ]
    },
    {
     "name": "stderr",
     "output_type": "stream",
     "text": [
      "100%|██████████| 762/762 [00:34<00:00, 21.91it/s]\n",
      "100%|██████████| 109/109 [00:02<00:00, 50.00it/s]\n"
     ]
    },
    {
     "name": "stdout",
     "output_type": "stream",
     "text": [
      "Epoch: 046, Average loss: 0.08724\n",
      "Epoch: 046, Average loss: 0.26174\n"
     ]
    },
    {
     "name": "stderr",
     "output_type": "stream",
     "text": [
      " 17%|█▋        | 133/762 [00:05<00:32, 19.42it/s]IOPub message rate exceeded.\n",
      "The notebook server will temporarily stop sending output\n",
      "to the client in order to avoid crashing it.\n",
      "To change this limit, set the config variable\n",
      "`--NotebookApp.iopub_msg_rate_limit`.\n",
      "\n",
      "Current values:\n",
      "NotebookApp.iopub_msg_rate_limit=1000.0 (msgs/sec)\n",
      "NotebookApp.rate_limit_window=3.0 (secs)\n",
      "\n",
      "100%|██████████| 762/762 [00:35<00:00, 21.60it/s]\n",
      "100%|██████████| 109/109 [00:02<00:00, 51.64it/s]\n"
     ]
    },
    {
     "name": "stdout",
     "output_type": "stream",
     "text": [
      "Epoch: 054, Average loss: 0.09085\n",
      "Epoch: 054, Average loss: 0.16980\n"
     ]
    },
    {
     "name": "stderr",
     "output_type": "stream",
     "text": [
      "100%|██████████| 762/762 [00:35<00:00, 21.51it/s]\n",
      "100%|██████████| 109/109 [00:01<00:00, 55.07it/s]\n"
     ]
    },
    {
     "name": "stdout",
     "output_type": "stream",
     "text": [
      "Epoch: 055, Average loss: 0.09031\n",
      "Epoch: 055, Average loss: 0.32490\n"
     ]
    },
    {
     "name": "stderr",
     "output_type": "stream",
     "text": [
      "100%|██████████| 762/762 [00:35<00:00, 21.69it/s]\n",
      "100%|██████████| 109/109 [00:02<00:00, 47.70it/s]\n"
     ]
    },
    {
     "name": "stdout",
     "output_type": "stream",
     "text": [
      "Epoch: 056, Average loss: 0.09672\n",
      "Epoch: 056, Average loss: 0.22644\n"
     ]
    },
    {
     "name": "stderr",
     "output_type": "stream",
     "text": [
      "100%|██████████| 762/762 [00:35<00:00, 21.61it/s]\n",
      "100%|██████████| 109/109 [00:02<00:00, 48.89it/s]\n"
     ]
    },
    {
     "name": "stdout",
     "output_type": "stream",
     "text": [
      "Epoch: 057, Average loss: 0.07915\n",
      "Epoch: 057, Average loss: 0.21344\n"
     ]
    },
    {
     "name": "stderr",
     "output_type": "stream",
     "text": [
      "100%|██████████| 762/762 [00:35<00:00, 21.68it/s]\n",
      "100%|██████████| 109/109 [00:02<00:00, 47.69it/s]\n"
     ]
    },
    {
     "name": "stdout",
     "output_type": "stream",
     "text": [
      "Epoch: 058, Average loss: 0.10947\n",
      "Epoch: 058, Average loss: 0.26257\n"
     ]
    },
    {
     "name": "stderr",
     "output_type": "stream",
     "text": [
      "100%|██████████| 762/762 [00:35<00:00, 21.41it/s]\n",
      "100%|██████████| 109/109 [00:02<00:00, 46.77it/s]\n"
     ]
    },
    {
     "name": "stdout",
     "output_type": "stream",
     "text": [
      "Epoch: 059, Average loss: 0.08621\n",
      "Epoch: 059, Average loss: 0.26711\n"
     ]
    },
    {
     "name": "stderr",
     "output_type": "stream",
     "text": [
      "100%|██████████| 762/762 [00:35<00:00, 21.63it/s]\n",
      "100%|██████████| 109/109 [00:02<00:00, 53.05it/s]\n"
     ]
    },
    {
     "name": "stdout",
     "output_type": "stream",
     "text": [
      "Epoch: 060, Average loss: 0.08298\n",
      "Epoch: 060, Average loss: 0.24355\n"
     ]
    },
    {
     "name": "stderr",
     "output_type": "stream",
     "text": [
      "100%|██████████| 762/762 [00:35<00:00, 21.47it/s]\n",
      "100%|██████████| 109/109 [00:02<00:00, 49.27it/s]\n"
     ]
    },
    {
     "name": "stdout",
     "output_type": "stream",
     "text": [
      "Epoch: 061, Average loss: 0.06936\n",
      "Epoch: 061, Average loss: 0.34847\n"
     ]
    },
    {
     "name": "stderr",
     "output_type": "stream",
     "text": [
      "100%|██████████| 762/762 [00:35<00:00, 21.65it/s]\n",
      "100%|██████████| 109/109 [00:02<00:00, 52.88it/s]\n"
     ]
    },
    {
     "name": "stdout",
     "output_type": "stream",
     "text": [
      "Epoch: 062, Average loss: 0.10153\n",
      "Epoch: 062, Average loss: 0.31870\n"
     ]
    },
    {
     "name": "stderr",
     "output_type": "stream",
     "text": [
      "100%|██████████| 762/762 [00:35<00:00, 21.41it/s]\n",
      "100%|██████████| 109/109 [00:02<00:00, 50.06it/s]\n"
     ]
    },
    {
     "name": "stdout",
     "output_type": "stream",
     "text": [
      "Epoch: 063, Average loss: 0.07533\n",
      "Epoch: 063, Average loss: 0.21832\n"
     ]
    },
    {
     "name": "stderr",
     "output_type": "stream",
     "text": [
      " 67%|██████▋   | 512/762 [00:24<00:13, 19.20it/s]IOPub message rate exceeded.\n",
      "The notebook server will temporarily stop sending output\n",
      "to the client in order to avoid crashing it.\n",
      "To change this limit, set the config variable\n",
      "`--NotebookApp.iopub_msg_rate_limit`.\n",
      "\n",
      "Current values:\n",
      "NotebookApp.iopub_msg_rate_limit=1000.0 (msgs/sec)\n",
      "NotebookApp.rate_limit_window=3.0 (secs)\n",
      "\n",
      "100%|██████████| 762/762 [00:33<00:00, 22.49it/s]\n",
      "100%|██████████| 109/109 [00:02<00:00, 54.47it/s]\n"
     ]
    },
    {
     "name": "stdout",
     "output_type": "stream",
     "text": [
      "Epoch: 070, Average loss: 0.07981\n",
      "Epoch: 070, Average loss: 0.20487\n"
     ]
    },
    {
     "name": "stderr",
     "output_type": "stream",
     "text": [
      "100%|██████████| 762/762 [00:34<00:00, 22.07it/s]\n",
      "100%|██████████| 109/109 [00:02<00:00, 50.56it/s]\n"
     ]
    },
    {
     "name": "stdout",
     "output_type": "stream",
     "text": [
      "Epoch: 071, Average loss: 0.09068\n",
      "Epoch: 071, Average loss: 0.19126\n"
     ]
    },
    {
     "name": "stderr",
     "output_type": "stream",
     "text": [
      "100%|██████████| 762/762 [00:35<00:00, 21.69it/s]\n",
      "100%|██████████| 109/109 [00:02<00:00, 46.67it/s]\n"
     ]
    },
    {
     "name": "stdout",
     "output_type": "stream",
     "text": [
      "Epoch: 072, Average loss: 0.07096\n",
      "Epoch: 072, Average loss: 0.26350\n"
     ]
    },
    {
     "name": "stderr",
     "output_type": "stream",
     "text": [
      "100%|██████████| 762/762 [00:34<00:00, 21.86it/s]\n",
      "100%|██████████| 109/109 [00:02<00:00, 49.07it/s]\n"
     ]
    },
    {
     "name": "stdout",
     "output_type": "stream",
     "text": [
      "Epoch: 073, Average loss: 0.07741\n",
      "Epoch: 073, Average loss: 0.26785\n"
     ]
    },
    {
     "name": "stderr",
     "output_type": "stream",
     "text": [
      " 86%|████████▌ | 656/762 [00:29<00:04, 21.39it/s]IOPub message rate exceeded.\n",
      "The notebook server will temporarily stop sending output\n",
      "to the client in order to avoid crashing it.\n",
      "To change this limit, set the config variable\n",
      "`--NotebookApp.iopub_msg_rate_limit`.\n",
      "\n",
      "Current values:\n",
      "NotebookApp.iopub_msg_rate_limit=1000.0 (msgs/sec)\n",
      "NotebookApp.rate_limit_window=3.0 (secs)\n",
      "\n",
      "100%|██████████| 762/762 [00:34<00:00, 22.09it/s]\n",
      "100%|██████████| 109/109 [00:02<00:00, 47.83it/s]\n"
     ]
    },
    {
     "name": "stdout",
     "output_type": "stream",
     "text": [
      "Epoch: 082, Average loss: 0.08864\n",
      "Epoch: 082, Average loss: 0.27178\n"
     ]
    },
    {
     "name": "stderr",
     "output_type": "stream",
     "text": [
      "100%|██████████| 762/762 [00:34<00:00, 22.16it/s]\n",
      "100%|██████████| 109/109 [00:02<00:00, 51.53it/s]\n"
     ]
    },
    {
     "name": "stdout",
     "output_type": "stream",
     "text": [
      "Epoch: 083, Average loss: 0.07806\n",
      "Epoch: 083, Average loss: 0.21281\n"
     ]
    },
    {
     "name": "stderr",
     "output_type": "stream",
     "text": [
      "100%|██████████| 762/762 [00:34<00:00, 21.89it/s]\n",
      "100%|██████████| 109/109 [00:02<00:00, 53.93it/s]\n"
     ]
    },
    {
     "name": "stdout",
     "output_type": "stream",
     "text": [
      "Epoch: 084, Average loss: 0.07572\n",
      "Epoch: 084, Average loss: 0.17593\n"
     ]
    },
    {
     "name": "stderr",
     "output_type": "stream",
     "text": [
      "100%|██████████| 762/762 [00:34<00:00, 22.06it/s]\n",
      "100%|██████████| 109/109 [00:01<00:00, 56.25it/s]\n"
     ]
    },
    {
     "name": "stdout",
     "output_type": "stream",
     "text": [
      "Epoch: 085, Average loss: 0.07512\n",
      "Epoch: 085, Average loss: 0.23359\n"
     ]
    },
    {
     "name": "stderr",
     "output_type": "stream",
     "text": [
      "100%|██████████| 762/762 [00:35<00:00, 21.72it/s]\n",
      "100%|██████████| 109/109 [00:02<00:00, 47.88it/s]\n"
     ]
    },
    {
     "name": "stdout",
     "output_type": "stream",
     "text": [
      "Epoch: 086, Average loss: 0.08012\n",
      "Epoch: 086, Average loss: 0.30970\n"
     ]
    },
    {
     "name": "stderr",
     "output_type": "stream",
     "text": [
      "100%|██████████| 762/762 [00:34<00:00, 22.24it/s]\n",
      "100%|██████████| 109/109 [00:02<00:00, 50.20it/s]\n"
     ]
    },
    {
     "name": "stdout",
     "output_type": "stream",
     "text": [
      "Epoch: 087, Average loss: 0.09095\n",
      "Epoch: 087, Average loss: 0.43139\n"
     ]
    },
    {
     "name": "stderr",
     "output_type": "stream",
     "text": [
      "100%|██████████| 762/762 [00:26<00:00, 28.56it/s]\n",
      "100%|██████████| 109/109 [00:01<00:00, 71.57it/s]\n"
     ]
    },
    {
     "name": "stdout",
     "output_type": "stream",
     "text": [
      "Epoch: 088, Average loss: 0.09223\n",
      "Epoch: 088, Average loss: 0.24268\n"
     ]
    },
    {
     "name": "stderr",
     "output_type": "stream",
     "text": [
      "100%|██████████| 762/762 [00:25<00:00, 29.44it/s]\n",
      "100%|██████████| 109/109 [00:02<00:00, 47.61it/s]\n"
     ]
    },
    {
     "name": "stdout",
     "output_type": "stream",
     "text": [
      "Epoch: 089, Average loss: 0.09144\n",
      "Epoch: 089, Average loss: 0.23121\n"
     ]
    },
    {
     "name": "stderr",
     "output_type": "stream",
     "text": [
      "100%|██████████| 762/762 [00:35<00:00, 21.57it/s]\n",
      "100%|██████████| 109/109 [00:02<00:00, 47.10it/s]\n"
     ]
    },
    {
     "name": "stdout",
     "output_type": "stream",
     "text": [
      "Epoch: 090, Average loss: 0.07172\n",
      "Epoch: 090, Average loss: 0.29808\n"
     ]
    },
    {
     "name": "stderr",
     "output_type": "stream",
     "text": [
      " 49%|████▉     | 374/762 [00:16<00:21, 18.30it/s]IOPub message rate exceeded.\n",
      "The notebook server will temporarily stop sending output\n",
      "to the client in order to avoid crashing it.\n",
      "To change this limit, set the config variable\n",
      "`--NotebookApp.iopub_msg_rate_limit`.\n",
      "\n",
      "Current values:\n",
      "NotebookApp.iopub_msg_rate_limit=1000.0 (msgs/sec)\n",
      "NotebookApp.rate_limit_window=3.0 (secs)\n",
      "\n",
      "100%|██████████| 762/762 [00:35<00:00, 21.76it/s]\n",
      "100%|██████████| 109/109 [00:02<00:00, 47.53it/s]\n"
     ]
    },
    {
     "name": "stdout",
     "output_type": "stream",
     "text": [
      "Epoch: 005, Average loss: 0.74469\n",
      "Epoch: 005, Average loss: 1.49931\n"
     ]
    },
    {
     "name": "stderr",
     "output_type": "stream",
     "text": [
      "100%|██████████| 762/762 [00:34<00:00, 21.95it/s]\n",
      "100%|██████████| 109/109 [00:02<00:00, 50.81it/s]\n"
     ]
    },
    {
     "name": "stdout",
     "output_type": "stream",
     "text": [
      "Epoch: 006, Average loss: 0.69827\n",
      "Epoch: 006, Average loss: 1.44912\n"
     ]
    },
    {
     "name": "stderr",
     "output_type": "stream",
     "text": [
      "100%|██████████| 762/762 [00:34<00:00, 22.11it/s]\n",
      "100%|██████████| 109/109 [00:02<00:00, 50.92it/s]\n"
     ]
    },
    {
     "name": "stdout",
     "output_type": "stream",
     "text": [
      "Epoch: 007, Average loss: 0.65314\n",
      "Epoch: 007, Average loss: 1.34116\n"
     ]
    },
    {
     "name": "stderr",
     "output_type": "stream",
     "text": [
      "100%|██████████| 762/762 [00:27<00:00, 27.53it/s]\n",
      "100%|██████████| 109/109 [00:01<00:00, 74.87it/s]\n"
     ]
    },
    {
     "name": "stdout",
     "output_type": "stream",
     "text": [
      "Epoch: 008, Average loss: 0.50770\n",
      "Epoch: 008, Average loss: 0.92035\n"
     ]
    },
    {
     "name": "stderr",
     "output_type": "stream",
     "text": [
      "100%|██████████| 762/762 [00:25<00:00, 30.17it/s]\n",
      "100%|██████████| 109/109 [00:02<00:00, 49.69it/s]\n"
     ]
    },
    {
     "name": "stdout",
     "output_type": "stream",
     "text": [
      "Epoch: 009, Average loss: 0.44867\n",
      "Epoch: 009, Average loss: 0.81902\n"
     ]
    },
    {
     "name": "stderr",
     "output_type": "stream",
     "text": [
      "100%|██████████| 762/762 [00:32<00:00, 23.66it/s]\n",
      "  0%|          | 0/109 [00:00<?, ?it/s]IOPub message rate exceeded.\n",
      "The notebook server will temporarily stop sending output\n",
      "to the client in order to avoid crashing it.\n",
      "To change this limit, set the config variable\n",
      "`--NotebookApp.iopub_msg_rate_limit`.\n",
      "\n",
      "Current values:\n",
      "NotebookApp.iopub_msg_rate_limit=1000.0 (msgs/sec)\n",
      "NotebookApp.rate_limit_window=3.0 (secs)\n",
      "\n",
      "100%|██████████| 762/762 [00:34<00:00, 21.90it/s]\n",
      "100%|██████████| 109/109 [00:02<00:00, 50.76it/s]\n"
     ]
    },
    {
     "name": "stdout",
     "output_type": "stream",
     "text": [
      "Epoch: 018, Average loss: 0.20311\n",
      "Epoch: 018, Average loss: 0.38928\n"
     ]
    },
    {
     "name": "stderr",
     "output_type": "stream",
     "text": [
      "100%|██████████| 762/762 [00:34<00:00, 21.97it/s]\n",
      "100%|██████████| 109/109 [00:02<00:00, 52.05it/s]\n"
     ]
    },
    {
     "name": "stdout",
     "output_type": "stream",
     "text": [
      "Epoch: 019, Average loss: 0.17652\n",
      "Epoch: 019, Average loss: 0.39407\n"
     ]
    },
    {
     "name": "stderr",
     "output_type": "stream",
     "text": [
      "100%|██████████| 762/762 [00:34<00:00, 22.21it/s]\n",
      "100%|██████████| 109/109 [00:02<00:00, 48.50it/s]\n"
     ]
    },
    {
     "name": "stdout",
     "output_type": "stream",
     "text": [
      "Epoch: 020, Average loss: 0.15772\n",
      "Epoch: 020, Average loss: 0.21005\n"
     ]
    },
    {
     "name": "stderr",
     "output_type": "stream",
     "text": [
      "100%|██████████| 762/762 [00:34<00:00, 21.93it/s]\n",
      "100%|██████████| 109/109 [00:02<00:00, 49.35it/s]\n"
     ]
    },
    {
     "name": "stdout",
     "output_type": "stream",
     "text": [
      "Epoch: 021, Average loss: 0.15318\n",
      "Epoch: 021, Average loss: 0.43252\n"
     ]
    },
    {
     "name": "stderr",
     "output_type": "stream",
     "text": [
      "100%|██████████| 762/762 [00:33<00:00, 22.77it/s]\n",
      "100%|██████████| 109/109 [00:01<00:00, 57.86it/s]\n"
     ]
    },
    {
     "name": "stdout",
     "output_type": "stream",
     "text": [
      "Epoch: 022, Average loss: 0.17144\n",
      "Epoch: 022, Average loss: 0.35338\n"
     ]
    },
    {
     "name": "stderr",
     "output_type": "stream",
     "text": [
      "100%|██████████| 762/762 [00:34<00:00, 22.14it/s]\n",
      "100%|██████████| 109/109 [00:02<00:00, 48.20it/s]\n"
     ]
    },
    {
     "name": "stdout",
     "output_type": "stream",
     "text": [
      "Epoch: 023, Average loss: 0.14514\n",
      "Epoch: 023, Average loss: 0.21802\n"
     ]
    },
    {
     "name": "stderr",
     "output_type": "stream",
     "text": [
      "100%|██████████| 762/762 [00:34<00:00, 21.82it/s]\n",
      "100%|██████████| 109/109 [00:01<00:00, 56.01it/s]\n"
     ]
    },
    {
     "name": "stdout",
     "output_type": "stream",
     "text": [
      "Epoch: 024, Average loss: 0.12454\n",
      "Epoch: 024, Average loss: 0.35603\n"
     ]
    },
    {
     "name": "stderr",
     "output_type": "stream",
     "text": [
      "100%|██████████| 762/762 [00:35<00:00, 21.54it/s]\n",
      "100%|██████████| 109/109 [00:02<00:00, 53.75it/s]\n"
     ]
    },
    {
     "name": "stdout",
     "output_type": "stream",
     "text": [
      "Epoch: 025, Average loss: 0.13632\n",
      "Epoch: 025, Average loss: 0.43830\n"
     ]
    },
    {
     "name": "stderr",
     "output_type": "stream",
     "text": [
      "100%|██████████| 762/762 [00:35<00:00, 21.62it/s]\n",
      "100%|██████████| 109/109 [00:02<00:00, 49.62it/s]\n"
     ]
    },
    {
     "name": "stdout",
     "output_type": "stream",
     "text": [
      "Epoch: 026, Average loss: 0.13174\n",
      "Epoch: 026, Average loss: 0.18946\n"
     ]
    },
    {
     "name": "stderr",
     "output_type": "stream",
     "text": [
      " 55%|█████▍    | 416/762 [00:18<00:12, 27.86it/s]IOPub message rate exceeded.\n",
      "The notebook server will temporarily stop sending output\n",
      "to the client in order to avoid crashing it.\n",
      "To change this limit, set the config variable\n",
      "`--NotebookApp.iopub_msg_rate_limit`.\n",
      "\n",
      "Current values:\n",
      "NotebookApp.iopub_msg_rate_limit=1000.0 (msgs/sec)\n",
      "NotebookApp.rate_limit_window=3.0 (secs)\n",
      "\n",
      "100%|██████████| 762/762 [00:35<00:00, 21.68it/s]\n",
      "100%|██████████| 109/109 [00:02<00:00, 51.66it/s]\n"
     ]
    },
    {
     "name": "stdout",
     "output_type": "stream",
     "text": [
      "Epoch: 042, Average loss: 0.09377\n",
      "Epoch: 042, Average loss: 0.25954\n"
     ]
    },
    {
     "name": "stderr",
     "output_type": "stream",
     "text": [
      "100%|██████████| 762/762 [00:34<00:00, 22.20it/s]\n",
      "100%|██████████| 109/109 [00:02<00:00, 47.76it/s]\n"
     ]
    },
    {
     "name": "stdout",
     "output_type": "stream",
     "text": [
      "Epoch: 043, Average loss: 0.08637\n",
      "Epoch: 043, Average loss: 0.21176\n"
     ]
    },
    {
     "name": "stderr",
     "output_type": "stream",
     "text": [
      "100%|██████████| 762/762 [00:34<00:00, 22.05it/s]\n",
      "100%|██████████| 109/109 [00:02<00:00, 50.61it/s]\n"
     ]
    },
    {
     "name": "stdout",
     "output_type": "stream",
     "text": [
      "Epoch: 044, Average loss: 0.08236\n",
      "Epoch: 044, Average loss: 0.14461\n"
     ]
    },
    {
     "name": "stderr",
     "output_type": "stream",
     "text": [
      "100%|██████████| 762/762 [00:35<00:00, 21.72it/s]\n",
      "100%|██████████| 109/109 [00:02<00:00, 51.66it/s]\n"
     ]
    },
    {
     "name": "stdout",
     "output_type": "stream",
     "text": [
      "Epoch: 045, Average loss: 0.09465\n",
      "Epoch: 045, Average loss: 0.21096\n"
     ]
    },
    {
     "name": "stderr",
     "output_type": "stream",
     "text": [
      "100%|██████████| 762/762 [00:34<00:00, 21.88it/s]\n",
      " 91%|█████████ | 99/109 [00:02<00:00, 47.10it/s]IOPub message rate exceeded.\n",
      "The notebook server will temporarily stop sending output\n",
      "to the client in order to avoid crashing it.\n",
      "To change this limit, set the config variable\n",
      "`--NotebookApp.iopub_msg_rate_limit`.\n",
      "\n",
      "Current values:\n",
      "NotebookApp.iopub_msg_rate_limit=1000.0 (msgs/sec)\n",
      "NotebookApp.rate_limit_window=3.0 (secs)\n",
      "\n",
      "100%|██████████| 762/762 [00:35<00:00, 21.75it/s]\n",
      "100%|██████████| 109/109 [00:02<00:00, 51.95it/s]\n"
     ]
    },
    {
     "name": "stdout",
     "output_type": "stream",
     "text": [
      "Epoch: 054, Average loss: 0.08489\n",
      "Epoch: 054, Average loss: 0.35777\n"
     ]
    },
    {
     "name": "stderr",
     "output_type": "stream",
     "text": [
      "100%|██████████| 762/762 [00:34<00:00, 21.92it/s]\n",
      "100%|██████████| 109/109 [00:02<00:00, 51.26it/s]\n"
     ]
    },
    {
     "name": "stdout",
     "output_type": "stream",
     "text": [
      "Epoch: 055, Average loss: 0.07808\n",
      "Epoch: 055, Average loss: 0.24562\n"
     ]
    },
    {
     "name": "stderr",
     "output_type": "stream",
     "text": [
      "100%|██████████| 762/762 [00:35<00:00, 21.68it/s]\n",
      "100%|██████████| 109/109 [00:02<00:00, 48.18it/s]\n"
     ]
    },
    {
     "name": "stdout",
     "output_type": "stream",
     "text": [
      "Epoch: 056, Average loss: 0.09700\n",
      "Epoch: 056, Average loss: 0.32445\n"
     ]
    },
    {
     "name": "stderr",
     "output_type": "stream",
     "text": [
      "100%|██████████| 762/762 [00:34<00:00, 21.94it/s]\n",
      "100%|██████████| 109/109 [00:02<00:00, 48.07it/s]\n"
     ]
    },
    {
     "name": "stdout",
     "output_type": "stream",
     "text": [
      "Epoch: 057, Average loss: 0.07915\n",
      "Epoch: 057, Average loss: 0.32318\n"
     ]
    },
    {
     "name": "stderr",
     "output_type": "stream",
     "text": [
      "100%|██████████| 762/762 [00:35<00:00, 21.75it/s]\n",
      "100%|██████████| 109/109 [00:02<00:00, 47.89it/s]\n"
     ]
    },
    {
     "name": "stdout",
     "output_type": "stream",
     "text": [
      "Epoch: 058, Average loss: 0.09590\n",
      "Epoch: 058, Average loss: 0.34388\n"
     ]
    },
    {
     "name": "stderr",
     "output_type": "stream",
     "text": [
      "100%|██████████| 762/762 [00:34<00:00, 21.78it/s]\n",
      "100%|██████████| 109/109 [00:02<00:00, 51.07it/s]\n"
     ]
    },
    {
     "name": "stdout",
     "output_type": "stream",
     "text": [
      "Epoch: 059, Average loss: 0.08511\n",
      "Epoch: 059, Average loss: 0.28878\n"
     ]
    },
    {
     "name": "stderr",
     "output_type": "stream",
     "text": [
      "100%|██████████| 762/762 [00:34<00:00, 21.80it/s]\n",
      "100%|██████████| 109/109 [00:01<00:00, 55.46it/s]\n"
     ]
    },
    {
     "name": "stdout",
     "output_type": "stream",
     "text": [
      "Epoch: 060, Average loss: 0.07962\n",
      "Epoch: 060, Average loss: 0.16920\n"
     ]
    },
    {
     "name": "stderr",
     "output_type": "stream",
     "text": [
      "100%|██████████| 762/762 [00:35<00:00, 21.52it/s]\n",
      "100%|██████████| 109/109 [00:02<00:00, 50.94it/s]\n"
     ]
    },
    {
     "name": "stdout",
     "output_type": "stream",
     "text": [
      "Epoch: 061, Average loss: 0.07212\n",
      "Epoch: 061, Average loss: 0.14768\n"
     ]
    },
    {
     "name": "stderr",
     "output_type": "stream",
     "text": [
      "100%|██████████| 762/762 [00:34<00:00, 21.91it/s]\n",
      "100%|██████████| 109/109 [00:02<00:00, 49.36it/s]\n"
     ]
    },
    {
     "name": "stdout",
     "output_type": "stream",
     "text": [
      "Epoch: 062, Average loss: 0.08078\n",
      "Epoch: 062, Average loss: 0.15023\n"
     ]
    },
    {
     "name": "stderr",
     "output_type": "stream",
     "text": [
      " 71%|███████   | 538/762 [00:24<00:10, 21.87it/s]IOPub message rate exceeded.\n",
      "The notebook server will temporarily stop sending output\n",
      "to the client in order to avoid crashing it.\n",
      "To change this limit, set the config variable\n",
      "`--NotebookApp.iopub_msg_rate_limit`.\n",
      "\n",
      "Current values:\n",
      "NotebookApp.iopub_msg_rate_limit=1000.0 (msgs/sec)\n",
      "NotebookApp.rate_limit_window=3.0 (secs)\n",
      "\n",
      "100%|██████████| 762/762 [00:35<00:00, 21.61it/s]\n",
      "100%|██████████| 109/109 [00:02<00:00, 49.83it/s]\n"
     ]
    },
    {
     "name": "stdout",
     "output_type": "stream",
     "text": [
      "Epoch: 078, Average loss: 0.06748\n",
      "Epoch: 078, Average loss: 0.13246\n"
     ]
    },
    {
     "name": "stderr",
     "output_type": "stream",
     "text": [
      "100%|██████████| 762/762 [00:35<00:00, 21.44it/s]\n",
      "100%|██████████| 109/109 [00:02<00:00, 51.06it/s]\n"
     ]
    },
    {
     "name": "stdout",
     "output_type": "stream",
     "text": [
      "Epoch: 079, Average loss: 0.09763\n",
      "Epoch: 079, Average loss: 0.17601\n"
     ]
    },
    {
     "name": "stderr",
     "output_type": "stream",
     "text": [
      "100%|██████████| 762/762 [00:35<00:00, 21.60it/s]\n",
      "100%|██████████| 109/109 [00:01<00:00, 57.14it/s]\n"
     ]
    },
    {
     "name": "stdout",
     "output_type": "stream",
     "text": [
      "Epoch: 080, Average loss: 0.06685\n",
      "Epoch: 080, Average loss: 0.29782\n"
     ]
    },
    {
     "name": "stderr",
     "output_type": "stream",
     "text": [
      "100%|██████████| 762/762 [00:35<00:00, 21.76it/s]\n",
      "100%|██████████| 109/109 [00:02<00:00, 50.63it/s]\n"
     ]
    },
    {
     "name": "stdout",
     "output_type": "stream",
     "text": [
      "Epoch: 081, Average loss: 0.06814\n",
      "Epoch: 081, Average loss: 0.38467\n"
     ]
    },
    {
     "name": "stderr",
     "output_type": "stream",
     "text": [
      " 99%|█████████▉| 758/762 [00:34<00:00, 23.87it/s]IOPub message rate exceeded.\n",
      "The notebook server will temporarily stop sending output\n",
      "to the client in order to avoid crashing it.\n",
      "To change this limit, set the config variable\n",
      "`--NotebookApp.iopub_msg_rate_limit`.\n",
      "\n",
      "Current values:\n",
      "NotebookApp.iopub_msg_rate_limit=1000.0 (msgs/sec)\n",
      "NotebookApp.rate_limit_window=3.0 (secs)\n",
      "\n",
      "100%|██████████| 762/762 [00:35<00:00, 21.57it/s]\n",
      "100%|██████████| 109/109 [00:02<00:00, 53.10it/s]\n"
     ]
    },
    {
     "name": "stdout",
     "output_type": "stream",
     "text": [
      "Epoch: 090, Average loss: 0.06922\n",
      "Epoch: 090, Average loss: 0.45023\n"
     ]
    },
    {
     "name": "stderr",
     "output_type": "stream",
     "text": [
      "100%|██████████| 762/762 [00:35<00:00, 21.63it/s]\n",
      "100%|██████████| 109/109 [00:02<00:00, 49.24it/s]\n"
     ]
    },
    {
     "name": "stdout",
     "output_type": "stream",
     "text": [
      "Epoch: 091, Average loss: 0.07902\n",
      "Epoch: 091, Average loss: 0.21087\n"
     ]
    },
    {
     "name": "stderr",
     "output_type": "stream",
     "text": [
      "100%|██████████| 762/762 [00:34<00:00, 22.06it/s]\n",
      "100%|██████████| 109/109 [00:02<00:00, 44.73it/s]\n"
     ]
    },
    {
     "name": "stdout",
     "output_type": "stream",
     "text": [
      "Epoch: 092, Average loss: 0.06082\n",
      "Epoch: 092, Average loss: 0.16289\n"
     ]
    },
    {
     "name": "stderr",
     "output_type": "stream",
     "text": [
      "100%|██████████| 762/762 [00:35<00:00, 21.31it/s]\n",
      "100%|██████████| 109/109 [00:02<00:00, 42.32it/s]\n"
     ]
    },
    {
     "name": "stdout",
     "output_type": "stream",
     "text": [
      "Epoch: 093, Average loss: 0.07326\n",
      "Epoch: 093, Average loss: 0.17070\n"
     ]
    },
    {
     "name": "stderr",
     "output_type": "stream",
     "text": [
      "100%|██████████| 762/762 [00:35<00:00, 21.37it/s]\n",
      "100%|██████████| 109/109 [00:02<00:00, 48.44it/s]\n"
     ]
    },
    {
     "name": "stdout",
     "output_type": "stream",
     "text": [
      "Epoch: 094, Average loss: 0.07654\n",
      "Epoch: 094, Average loss: 0.12220\n"
     ]
    },
    {
     "name": "stderr",
     "output_type": "stream",
     "text": [
      "100%|██████████| 762/762 [00:35<00:00, 21.74it/s]\n",
      "100%|██████████| 109/109 [00:02<00:00, 50.07it/s]\n"
     ]
    },
    {
     "name": "stdout",
     "output_type": "stream",
     "text": [
      "Epoch: 095, Average loss: 0.07020\n",
      "Epoch: 095, Average loss: 0.12424\n"
     ]
    },
    {
     "name": "stderr",
     "output_type": "stream",
     "text": [
      "100%|██████████| 762/762 [00:35<00:00, 21.54it/s]\n",
      "100%|██████████| 109/109 [00:02<00:00, 49.35it/s]\n"
     ]
    },
    {
     "name": "stdout",
     "output_type": "stream",
     "text": [
      "Epoch: 096, Average loss: 0.06634\n",
      "Epoch: 096, Average loss: 0.18430\n"
     ]
    },
    {
     "name": "stderr",
     "output_type": "stream",
     "text": [
      "100%|██████████| 762/762 [00:34<00:00, 21.78it/s]\n",
      "100%|██████████| 109/109 [00:02<00:00, 49.41it/s]\n"
     ]
    },
    {
     "name": "stdout",
     "output_type": "stream",
     "text": [
      "Epoch: 097, Average loss: 0.07417\n",
      "Epoch: 097, Average loss: 0.11772\n"
     ]
    },
    {
     "name": "stderr",
     "output_type": "stream",
     "text": [
      "100%|██████████| 762/762 [00:35<00:00, 21.62it/s]\n",
      "100%|██████████| 109/109 [00:02<00:00, 48.48it/s]\n"
     ]
    },
    {
     "name": "stdout",
     "output_type": "stream",
     "text": [
      "Epoch: 098, Average loss: 0.06911\n",
      "Epoch: 098, Average loss: 0.12905\n"
     ]
    },
    {
     "name": "stderr",
     "output_type": "stream",
     "text": [
      " 59%|█████▉    | 450/762 [00:21<00:12, 25.13it/s]IOPub message rate exceeded.\n",
      "The notebook server will temporarily stop sending output\n",
      "to the client in order to avoid crashing it.\n",
      "To change this limit, set the config variable\n",
      "`--NotebookApp.iopub_msg_rate_limit`.\n",
      "\n",
      "Current values:\n",
      "NotebookApp.iopub_msg_rate_limit=1000.0 (msgs/sec)\n",
      "NotebookApp.rate_limit_window=3.0 (secs)\n",
      "\n",
      "100%|██████████| 762/762 [00:35<00:00, 21.44it/s]\n",
      "100%|██████████| 109/109 [00:02<00:00, 53.16it/s]\n"
     ]
    },
    {
     "name": "stdout",
     "output_type": "stream",
     "text": [
      "Epoch: 013, Average loss: 0.16598\n",
      "Epoch: 013, Average loss: 0.52548\n"
     ]
    },
    {
     "name": "stderr",
     "output_type": "stream",
     "text": [
      "100%|██████████| 762/762 [00:34<00:00, 21.87it/s]\n",
      "100%|██████████| 109/109 [00:02<00:00, 49.94it/s]\n"
     ]
    },
    {
     "name": "stdout",
     "output_type": "stream",
     "text": [
      "Epoch: 014, Average loss: 0.18837\n",
      "Epoch: 014, Average loss: 0.74594\n"
     ]
    },
    {
     "name": "stderr",
     "output_type": "stream",
     "text": [
      "100%|██████████| 762/762 [00:35<00:00, 21.75it/s]\n",
      "100%|██████████| 109/109 [00:02<00:00, 43.36it/s]\n"
     ]
    },
    {
     "name": "stdout",
     "output_type": "stream",
     "text": [
      "Epoch: 015, Average loss: 0.19391\n",
      "Epoch: 015, Average loss: 0.41151\n"
     ]
    },
    {
     "name": "stderr",
     "output_type": "stream",
     "text": [
      "100%|██████████| 762/762 [00:35<00:00, 21.51it/s]\n",
      "100%|██████████| 109/109 [00:02<00:00, 47.60it/s]\n"
     ]
    },
    {
     "name": "stdout",
     "output_type": "stream",
     "text": [
      "Epoch: 016, Average loss: 0.15639\n",
      "Epoch: 016, Average loss: 0.48183\n"
     ]
    },
    {
     "name": "stderr",
     "output_type": "stream",
     "text": [
      "100%|██████████| 762/762 [00:34<00:00, 21.90it/s]\n",
      "100%|██████████| 109/109 [00:02<00:00, 48.41it/s]\n"
     ]
    },
    {
     "name": "stdout",
     "output_type": "stream",
     "text": [
      "Epoch: 017, Average loss: 0.19117\n",
      "Epoch: 017, Average loss: 0.55890\n"
     ]
    },
    {
     "name": "stderr",
     "output_type": "stream",
     "text": [
      " 65%|██████▌   | 496/762 [00:22<00:11, 23.92it/s]IOPub message rate exceeded.\n",
      "The notebook server will temporarily stop sending output\n",
      "to the client in order to avoid crashing it.\n",
      "To change this limit, set the config variable\n",
      "`--NotebookApp.iopub_msg_rate_limit`.\n",
      "\n",
      "Current values:\n",
      "NotebookApp.iopub_msg_rate_limit=1000.0 (msgs/sec)\n",
      "NotebookApp.rate_limit_window=3.0 (secs)\n",
      "\n",
      "100%|██████████| 762/762 [00:35<00:00, 21.69it/s]\n",
      "100%|██████████| 109/109 [00:02<00:00, 52.31it/s]\n"
     ]
    },
    {
     "name": "stdout",
     "output_type": "stream",
     "text": [
      "Epoch: 026, Average loss: 0.13526\n",
      "Epoch: 026, Average loss: 0.45726\n"
     ]
    },
    {
     "name": "stderr",
     "output_type": "stream",
     "text": [
      "100%|██████████| 762/762 [00:24<00:00, 31.10it/s]\n",
      "100%|██████████| 109/109 [00:01<00:00, 72.53it/s]\n"
     ]
    },
    {
     "name": "stdout",
     "output_type": "stream",
     "text": [
      "Epoch: 027, Average loss: 0.12940\n",
      "Epoch: 027, Average loss: 0.42282\n"
     ]
    },
    {
     "name": "stderr",
     "output_type": "stream",
     "text": [
      "100%|██████████| 762/762 [00:28<00:00, 26.78it/s]\n",
      "100%|██████████| 109/109 [00:01<00:00, 106.54it/s]\n"
     ]
    },
    {
     "name": "stdout",
     "output_type": "stream",
     "text": [
      "Epoch: 028, Average loss: 0.12446\n",
      "Epoch: 028, Average loss: 0.37436\n"
     ]
    },
    {
     "name": "stderr",
     "output_type": "stream",
     "text": [
      "100%|██████████| 762/762 [00:33<00:00, 23.01it/s]\n",
      "100%|██████████| 109/109 [00:02<00:00, 50.30it/s]\n"
     ]
    },
    {
     "name": "stdout",
     "output_type": "stream",
     "text": [
      "Epoch: 029, Average loss: 0.12886\n",
      "Epoch: 029, Average loss: 0.33487\n"
     ]
    },
    {
     "name": "stderr",
     "output_type": "stream",
     "text": [
      "100%|██████████| 762/762 [00:34<00:00, 22.00it/s]\n",
      "100%|██████████| 109/109 [00:02<00:00, 48.62it/s]\n"
     ]
    },
    {
     "name": "stdout",
     "output_type": "stream",
     "text": [
      "Epoch: 030, Average loss: 0.12644\n",
      "Epoch: 030, Average loss: 0.32129\n"
     ]
    },
    {
     "name": "stderr",
     "output_type": "stream",
     "text": [
      "100%|██████████| 762/762 [00:34<00:00, 21.96it/s]\n",
      "100%|██████████| 109/109 [00:02<00:00, 49.96it/s]\n"
     ]
    },
    {
     "name": "stdout",
     "output_type": "stream",
     "text": [
      "Epoch: 031, Average loss: 0.11548\n",
      "Epoch: 031, Average loss: 0.41899\n"
     ]
    },
    {
     "name": "stderr",
     "output_type": "stream",
     "text": [
      "100%|██████████| 762/762 [00:35<00:00, 21.61it/s]\n",
      "100%|██████████| 109/109 [00:02<00:00, 49.51it/s]\n"
     ]
    },
    {
     "name": "stdout",
     "output_type": "stream",
     "text": [
      "Epoch: 032, Average loss: 0.12450\n",
      "Epoch: 032, Average loss: 0.32670\n"
     ]
    },
    {
     "name": "stderr",
     "output_type": "stream",
     "text": [
      "100%|██████████| 762/762 [00:36<00:00, 20.90it/s]\n",
      "100%|██████████| 109/109 [00:02<00:00, 48.29it/s]\n"
     ]
    },
    {
     "name": "stdout",
     "output_type": "stream",
     "text": [
      "Epoch: 033, Average loss: 0.11350\n",
      "Epoch: 033, Average loss: 0.39146\n"
     ]
    },
    {
     "name": "stderr",
     "output_type": "stream",
     "text": [
      "100%|██████████| 762/762 [00:35<00:00, 21.27it/s]\n",
      "100%|██████████| 109/109 [00:02<00:00, 42.10it/s]\n"
     ]
    },
    {
     "name": "stdout",
     "output_type": "stream",
     "text": [
      "Epoch: 034, Average loss: 0.11648\n",
      "Epoch: 034, Average loss: 0.39246\n"
     ]
    },
    {
     "name": "stderr",
     "output_type": "stream",
     "text": [
      " 42%|████▏     | 318/762 [00:14<00:23, 18.82it/s]IOPub message rate exceeded.\n",
      "The notebook server will temporarily stop sending output\n",
      "to the client in order to avoid crashing it.\n",
      "To change this limit, set the config variable\n",
      "`--NotebookApp.iopub_msg_rate_limit`.\n",
      "\n",
      "Current values:\n",
      "NotebookApp.iopub_msg_rate_limit=1000.0 (msgs/sec)\n",
      "NotebookApp.rate_limit_window=3.0 (secs)\n",
      "\n",
      "100%|██████████| 762/762 [00:35<00:00, 21.66it/s]\n",
      "100%|██████████| 109/109 [00:02<00:00, 47.78it/s]\n"
     ]
    },
    {
     "name": "stdout",
     "output_type": "stream",
     "text": [
      "Epoch: 048, Average loss: 0.11993\n",
      "Epoch: 048, Average loss: 0.39023\n"
     ]
    },
    {
     "name": "stderr",
     "output_type": "stream",
     "text": [
      "100%|██████████| 762/762 [00:35<00:00, 21.48it/s]\n",
      "100%|██████████| 109/109 [00:02<00:00, 47.08it/s]\n"
     ]
    },
    {
     "name": "stdout",
     "output_type": "stream",
     "text": [
      "Epoch: 049, Average loss: 0.10726\n",
      "Epoch: 049, Average loss: 0.21299\n"
     ]
    },
    {
     "name": "stderr",
     "output_type": "stream",
     "text": [
      "100%|██████████| 762/762 [00:35<00:00, 21.64it/s]\n",
      "100%|██████████| 109/109 [00:02<00:00, 47.67it/s]\n"
     ]
    },
    {
     "name": "stdout",
     "output_type": "stream",
     "text": [
      "Epoch: 050, Average loss: 0.10674\n",
      "Epoch: 050, Average loss: 0.34605\n"
     ]
    },
    {
     "name": "stderr",
     "output_type": "stream",
     "text": [
      "100%|██████████| 762/762 [00:35<00:00, 21.22it/s]\n",
      "100%|██████████| 109/109 [00:02<00:00, 49.72it/s]\n"
     ]
    },
    {
     "name": "stdout",
     "output_type": "stream",
     "text": [
      "Epoch: 051, Average loss: 0.10241\n",
      "Epoch: 051, Average loss: 0.45409\n"
     ]
    },
    {
     "name": "stderr",
     "output_type": "stream",
     "text": [
      "100%|██████████| 762/762 [00:35<00:00, 21.46it/s]\n",
      "100%|██████████| 109/109 [00:02<00:00, 49.70it/s]\n"
     ]
    },
    {
     "name": "stdout",
     "output_type": "stream",
     "text": [
      "Epoch: 052, Average loss: 0.10699\n",
      "Epoch: 052, Average loss: 0.37516\n"
     ]
    },
    {
     "name": "stderr",
     "output_type": "stream",
     "text": [
      " 34%|███▎      | 257/762 [00:12<00:18, 26.95it/s]IOPub message rate exceeded.\n",
      "The notebook server will temporarily stop sending output\n",
      "to the client in order to avoid crashing it.\n",
      "To change this limit, set the config variable\n",
      "`--NotebookApp.iopub_msg_rate_limit`.\n",
      "\n",
      "Current values:\n",
      "NotebookApp.iopub_msg_rate_limit=1000.0 (msgs/sec)\n",
      "NotebookApp.rate_limit_window=3.0 (secs)\n",
      "\n",
      "100%|██████████| 762/762 [00:35<00:00, 21.56it/s]\n",
      "100%|██████████| 109/109 [00:02<00:00, 43.28it/s]\n"
     ]
    },
    {
     "name": "stdout",
     "output_type": "stream",
     "text": [
      "Epoch: 061, Average loss: 0.11389\n",
      "Epoch: 061, Average loss: 0.41646\n"
     ]
    },
    {
     "name": "stderr",
     "output_type": "stream",
     "text": [
      "100%|██████████| 762/762 [00:35<00:00, 21.73it/s]\n",
      "100%|██████████| 109/109 [00:02<00:00, 44.05it/s]\n"
     ]
    },
    {
     "name": "stdout",
     "output_type": "stream",
     "text": [
      "Epoch: 062, Average loss: 0.10859\n",
      "Epoch: 062, Average loss: 0.38523\n"
     ]
    },
    {
     "name": "stderr",
     "output_type": "stream",
     "text": [
      "100%|██████████| 762/762 [00:35<00:00, 21.52it/s]\n",
      "100%|██████████| 109/109 [00:02<00:00, 48.96it/s]\n"
     ]
    },
    {
     "name": "stdout",
     "output_type": "stream",
     "text": [
      "Epoch: 063, Average loss: 0.10814\n",
      "Epoch: 063, Average loss: 0.26344\n"
     ]
    },
    {
     "name": "stderr",
     "output_type": "stream",
     "text": [
      "100%|██████████| 762/762 [00:35<00:00, 21.48it/s]\n",
      "100%|██████████| 109/109 [00:02<00:00, 52.28it/s]\n"
     ]
    },
    {
     "name": "stdout",
     "output_type": "stream",
     "text": [
      "Epoch: 064, Average loss: 0.10919\n",
      "Epoch: 064, Average loss: 0.33400\n"
     ]
    },
    {
     "name": "stderr",
     "output_type": "stream",
     "text": [
      "100%|██████████| 762/762 [00:27<00:00, 27.38it/s]\n",
      "100%|██████████| 109/109 [00:01<00:00, 73.96it/s]\n"
     ]
    },
    {
     "name": "stdout",
     "output_type": "stream",
     "text": [
      "Epoch: 065, Average loss: 0.12190\n",
      "Epoch: 065, Average loss: 0.28699\n"
     ]
    },
    {
     "name": "stderr",
     "output_type": "stream",
     "text": [
      "100%|██████████| 762/762 [00:27<00:00, 27.46it/s]\n",
      "100%|██████████| 109/109 [00:02<00:00, 50.88it/s]\n"
     ]
    },
    {
     "name": "stdout",
     "output_type": "stream",
     "text": [
      "Epoch: 066, Average loss: 0.12146\n",
      "Epoch: 066, Average loss: 0.44064\n"
     ]
    },
    {
     "name": "stderr",
     "output_type": "stream",
     "text": [
      "100%|██████████| 762/762 [00:32<00:00, 23.11it/s]\n",
      "100%|██████████| 109/109 [00:01<00:00, 55.63it/s]\n"
     ]
    },
    {
     "name": "stdout",
     "output_type": "stream",
     "text": [
      "Epoch: 067, Average loss: 0.12158\n",
      "Epoch: 067, Average loss: 0.31374\n"
     ]
    },
    {
     "name": "stderr",
     "output_type": "stream",
     "text": [
      "100%|██████████| 762/762 [00:34<00:00, 22.06it/s]\n",
      "100%|██████████| 109/109 [00:02<00:00, 51.25it/s]\n"
     ]
    },
    {
     "name": "stdout",
     "output_type": "stream",
     "text": [
      "Epoch: 068, Average loss: 0.10956\n",
      "Epoch: 068, Average loss: 0.39510\n"
     ]
    },
    {
     "name": "stderr",
     "output_type": "stream",
     "text": [
      "100%|██████████| 762/762 [00:34<00:00, 22.03it/s]\n",
      "100%|██████████| 109/109 [00:02<00:00, 46.14it/s]\n"
     ]
    },
    {
     "name": "stdout",
     "output_type": "stream",
     "text": [
      "Epoch: 069, Average loss: 0.12435\n",
      "Epoch: 069, Average loss: 0.30945\n"
     ]
    },
    {
     "name": "stderr",
     "output_type": "stream",
     "text": [
      " 95%|█████████▌| 726/762 [00:33<00:01, 25.28it/s]IOPub message rate exceeded.\n",
      "The notebook server will temporarily stop sending output\n",
      "to the client in order to avoid crashing it.\n",
      "To change this limit, set the config variable\n",
      "`--NotebookApp.iopub_msg_rate_limit`.\n",
      "\n",
      "Current values:\n",
      "NotebookApp.iopub_msg_rate_limit=1000.0 (msgs/sec)\n",
      "NotebookApp.rate_limit_window=3.0 (secs)\n",
      "\n",
      "100%|██████████| 762/762 [00:34<00:00, 21.95it/s]\n",
      "100%|██████████| 109/109 [00:02<00:00, 48.57it/s]\n"
     ]
    },
    {
     "name": "stdout",
     "output_type": "stream",
     "text": [
      "Epoch: 084, Average loss: 0.11782\n",
      "Epoch: 084, Average loss: 0.38336\n"
     ]
    },
    {
     "name": "stderr",
     "output_type": "stream",
     "text": [
      "100%|██████████| 762/762 [00:24<00:00, 30.88it/s]\n",
      "100%|██████████| 109/109 [00:01<00:00, 74.81it/s]\n"
     ]
    },
    {
     "name": "stdout",
     "output_type": "stream",
     "text": [
      "Epoch: 085, Average loss: 0.11618\n",
      "Epoch: 085, Average loss: 0.35539\n"
     ]
    },
    {
     "name": "stderr",
     "output_type": "stream",
     "text": [
      "100%|██████████| 762/762 [00:27<00:00, 28.10it/s]\n",
      "100%|██████████| 109/109 [00:02<00:00, 46.96it/s]\n"
     ]
    },
    {
     "name": "stdout",
     "output_type": "stream",
     "text": [
      "Epoch: 086, Average loss: 0.11879\n",
      "Epoch: 086, Average loss: 0.36867\n"
     ]
    },
    {
     "name": "stderr",
     "output_type": "stream",
     "text": [
      "100%|██████████| 762/762 [00:34<00:00, 21.92it/s]\n",
      "100%|██████████| 109/109 [00:02<00:00, 48.36it/s]\n"
     ]
    },
    {
     "name": "stdout",
     "output_type": "stream",
     "text": [
      "Epoch: 087, Average loss: 0.11704\n",
      "Epoch: 087, Average loss: 0.37049\n"
     ]
    },
    {
     "name": "stderr",
     "output_type": "stream",
     "text": [
      "100%|██████████| 762/762 [00:34<00:00, 22.12it/s]\n",
      "100%|██████████| 109/109 [00:02<00:00, 46.69it/s]\n"
     ]
    },
    {
     "name": "stdout",
     "output_type": "stream",
     "text": [
      "Epoch: 088, Average loss: 0.12421\n",
      "Epoch: 088, Average loss: 0.23930\n"
     ]
    },
    {
     "name": "stderr",
     "output_type": "stream",
     "text": [
      " 31%|███▏      | 239/762 [00:10<00:25, 20.16it/s]IOPub message rate exceeded.\n",
      "The notebook server will temporarily stop sending output\n",
      "to the client in order to avoid crashing it.\n",
      "To change this limit, set the config variable\n",
      "`--NotebookApp.iopub_msg_rate_limit`.\n",
      "\n",
      "Current values:\n",
      "NotebookApp.iopub_msg_rate_limit=1000.0 (msgs/sec)\n",
      "NotebookApp.rate_limit_window=3.0 (secs)\n",
      "\n",
      "100%|██████████| 762/762 [00:34<00:00, 21.88it/s]\n",
      "100%|██████████| 109/109 [00:02<00:00, 49.94it/s]\n"
     ]
    },
    {
     "name": "stdout",
     "output_type": "stream",
     "text": [
      "Epoch: 097, Average loss: 0.10574\n",
      "Epoch: 097, Average loss: 0.28693\n"
     ]
    },
    {
     "name": "stderr",
     "output_type": "stream",
     "text": [
      "100%|██████████| 762/762 [00:33<00:00, 22.57it/s]\n",
      "100%|██████████| 109/109 [00:02<00:00, 51.87it/s]\n"
     ]
    },
    {
     "name": "stdout",
     "output_type": "stream",
     "text": [
      "Epoch: 098, Average loss: 0.11188\n",
      "Epoch: 098, Average loss: 0.24190\n"
     ]
    },
    {
     "name": "stderr",
     "output_type": "stream",
     "text": [
      "100%|██████████| 762/762 [00:34<00:00, 21.89it/s]\n",
      "100%|██████████| 109/109 [00:02<00:00, 50.26it/s]\n"
     ]
    },
    {
     "name": "stdout",
     "output_type": "stream",
     "text": [
      "Epoch: 099, Average loss: 0.09278\n",
      "Epoch: 099, Average loss: 0.24147\n"
     ]
    },
    {
     "name": "stderr",
     "output_type": "stream",
     "text": [
      "  0%|          | 0/762 [00:00<?, ?it/s]/miniconda/envs/crystalvae/lib/python3.6/site-packages/torch/nn/modules/loss.py:96: UserWarning:\n",
      "\n",
      "Using a target size (torch.Size([4])) that is different to the input size (torch.Size([4, 1])). This will likely lead to incorrect results due to broadcasting. Please ensure they have the same size.\n",
      "\n",
      "100%|█████████▉| 759/762 [00:34<00:00, 17.31it/s]/miniconda/envs/crystalvae/lib/python3.6/site-packages/torch/nn/modules/loss.py:96: UserWarning:\n",
      "\n",
      "Using a target size (torch.Size([1])) that is different to the input size (torch.Size([1, 1])). This will likely lead to incorrect results due to broadcasting. Please ensure they have the same size.\n",
      "\n",
      "100%|██████████| 762/762 [00:34<00:00, 22.26it/s]\n",
      " 92%|█████████▏| 100/109 [00:02<00:00, 38.61it/s]/miniconda/envs/crystalvae/lib/python3.6/site-packages/torch/nn/modules/loss.py:96: UserWarning:\n",
      "\n",
      "Using a target size (torch.Size([3])) that is different to the input size (torch.Size([3, 1])). This will likely lead to incorrect results due to broadcasting. Please ensure they have the same size.\n",
      "\n",
      "100%|██████████| 109/109 [00:02<00:00, 48.17it/s]\n"
     ]
    },
    {
     "name": "stdout",
     "output_type": "stream",
     "text": [
      "Epoch: 000, Average loss: 1.09308\n",
      "Epoch: 000, Average loss: 2.78794\n"
     ]
    },
    {
     "name": "stderr",
     "output_type": "stream",
     "text": [
      "100%|██████████| 762/762 [00:34<00:00, 22.17it/s]\n",
      "100%|██████████| 109/109 [00:02<00:00, 50.69it/s]\n"
     ]
    },
    {
     "name": "stdout",
     "output_type": "stream",
     "text": [
      "Epoch: 001, Average loss: 1.07372\n",
      "Epoch: 001, Average loss: 1.68286\n"
     ]
    },
    {
     "name": "stderr",
     "output_type": "stream",
     "text": [
      "100%|██████████| 762/762 [00:34<00:00, 21.87it/s]\n",
      "100%|██████████| 109/109 [00:02<00:00, 47.15it/s]\n"
     ]
    },
    {
     "name": "stdout",
     "output_type": "stream",
     "text": [
      "Epoch: 002, Average loss: 0.87222\n",
      "Epoch: 002, Average loss: 1.86971\n"
     ]
    },
    {
     "name": "stderr",
     "output_type": "stream",
     "text": [
      "100%|██████████| 762/762 [00:34<00:00, 22.15it/s]\n",
      "100%|██████████| 109/109 [00:02<00:00, 48.36it/s]\n"
     ]
    },
    {
     "name": "stdout",
     "output_type": "stream",
     "text": [
      "Epoch: 003, Average loss: 0.89339\n",
      "Epoch: 003, Average loss: 1.74358\n"
     ]
    },
    {
     "name": "stderr",
     "output_type": "stream",
     "text": [
      "100%|██████████| 762/762 [00:34<00:00, 21.97it/s]\n",
      "100%|██████████| 109/109 [00:01<00:00, 57.04it/s]\n"
     ]
    },
    {
     "name": "stdout",
     "output_type": "stream",
     "text": [
      "Epoch: 004, Average loss: 0.84113\n",
      "Epoch: 004, Average loss: 1.68144\n"
     ]
    },
    {
     "name": "stderr",
     "output_type": "stream",
     "text": [
      "100%|██████████| 762/762 [00:20<00:00, 37.18it/s]\n",
      "100%|██████████| 109/109 [00:00<00:00, 118.44it/s]\n"
     ]
    },
    {
     "name": "stdout",
     "output_type": "stream",
     "text": [
      "Epoch: 005, Average loss: 0.86353\n",
      "Epoch: 005, Average loss: 1.73014\n"
     ]
    },
    {
     "name": "stderr",
     "output_type": "stream",
     "text": [
      "100%|██████████| 762/762 [00:16<00:00, 45.65it/s]\n",
      "100%|██████████| 109/109 [00:00<00:00, 142.29it/s]\n"
     ]
    },
    {
     "name": "stdout",
     "output_type": "stream",
     "text": [
      "Epoch: 006, Average loss: 0.81427\n",
      "Epoch: 006, Average loss: 1.52336\n"
     ]
    },
    {
     "name": "stderr",
     "output_type": "stream",
     "text": [
      "100%|██████████| 762/762 [00:19<00:00, 38.15it/s]\n",
      "100%|██████████| 109/109 [00:01<00:00, 78.71it/s]\n"
     ]
    },
    {
     "name": "stdout",
     "output_type": "stream",
     "text": [
      "Epoch: 007, Average loss: 0.73374\n",
      "Epoch: 007, Average loss: 1.36475\n"
     ]
    },
    {
     "name": "stderr",
     "output_type": "stream",
     "text": [
      " 35%|███▌      | 267/762 [00:05<00:14, 34.59it/s]IOPub message rate exceeded.\n",
      "The notebook server will temporarily stop sending output\n",
      "to the client in order to avoid crashing it.\n",
      "To change this limit, set the config variable\n",
      "`--NotebookApp.iopub_msg_rate_limit`.\n",
      "\n",
      "Current values:\n",
      "NotebookApp.iopub_msg_rate_limit=1000.0 (msgs/sec)\n",
      "NotebookApp.rate_limit_window=3.0 (secs)\n",
      "\n",
      "100%|██████████| 762/762 [00:24<00:00, 31.19it/s]\n",
      "100%|██████████| 109/109 [00:01<00:00, 76.88it/s]\n"
     ]
    },
    {
     "name": "stdout",
     "output_type": "stream",
     "text": [
      "Epoch: 026, Average loss: 0.15334\n",
      "Epoch: 026, Average loss: 0.40544\n"
     ]
    },
    {
     "name": "stderr",
     "output_type": "stream",
     "text": [
      "100%|██████████| 762/762 [00:24<00:00, 31.10it/s]\n",
      "100%|██████████| 109/109 [00:01<00:00, 83.08it/s]\n"
     ]
    },
    {
     "name": "stdout",
     "output_type": "stream",
     "text": [
      "Epoch: 027, Average loss: 0.13547\n",
      "Epoch: 027, Average loss: 0.31613\n"
     ]
    },
    {
     "name": "stderr",
     "output_type": "stream",
     "text": [
      "100%|██████████| 762/762 [00:24<00:00, 30.84it/s]\n",
      "100%|██████████| 109/109 [00:01<00:00, 80.49it/s]\n"
     ]
    },
    {
     "name": "stdout",
     "output_type": "stream",
     "text": [
      "Epoch: 028, Average loss: 0.15080\n",
      "Epoch: 028, Average loss: 0.35674\n"
     ]
    },
    {
     "name": "stderr",
     "output_type": "stream",
     "text": [
      "100%|██████████| 762/762 [00:22<00:00, 33.81it/s]\n",
      "100%|██████████| 109/109 [00:00<00:00, 110.37it/s]\n"
     ]
    },
    {
     "name": "stdout",
     "output_type": "stream",
     "text": [
      "Epoch: 029, Average loss: 0.15035\n",
      "Epoch: 029, Average loss: 0.45794\n"
     ]
    },
    {
     "name": "stderr",
     "output_type": "stream",
     "text": [
      "100%|██████████| 762/762 [00:17<00:00, 44.06it/s]\n",
      "100%|██████████| 109/109 [00:01<00:00, 108.31it/s]\n"
     ]
    },
    {
     "name": "stdout",
     "output_type": "stream",
     "text": [
      "Epoch: 030, Average loss: 0.12779\n",
      "Epoch: 030, Average loss: 0.26452\n"
     ]
    },
    {
     "name": "stderr",
     "output_type": "stream",
     "text": [
      "100%|██████████| 762/762 [00:19<00:00, 39.79it/s]\n",
      "100%|██████████| 109/109 [00:01<00:00, 65.40it/s]\n"
     ]
    },
    {
     "name": "stdout",
     "output_type": "stream",
     "text": [
      "Epoch: 031, Average loss: 0.15540\n",
      "Epoch: 031, Average loss: 0.32580\n"
     ]
    },
    {
     "name": "stderr",
     "output_type": "stream",
     "text": [
      "100%|██████████| 762/762 [00:24<00:00, 31.17it/s]\n",
      "100%|██████████| 109/109 [00:01<00:00, 72.48it/s]\n"
     ]
    },
    {
     "name": "stdout",
     "output_type": "stream",
     "text": [
      "Epoch: 032, Average loss: 0.14576\n",
      "Epoch: 032, Average loss: 0.39988\n"
     ]
    },
    {
     "name": "stderr",
     "output_type": "stream",
     "text": [
      " 97%|█████████▋| 737/762 [00:23<00:00, 36.80it/s]IOPub message rate exceeded.\n",
      "The notebook server will temporarily stop sending output\n",
      "to the client in order to avoid crashing it.\n",
      "To change this limit, set the config variable\n",
      "`--NotebookApp.iopub_msg_rate_limit`.\n",
      "\n",
      "Current values:\n",
      "NotebookApp.iopub_msg_rate_limit=1000.0 (msgs/sec)\n",
      "NotebookApp.rate_limit_window=3.0 (secs)\n",
      "\n",
      "100%|██████████| 109/109 [00:01<00:00, 80.29it/s]\n"
     ]
    },
    {
     "name": "stdout",
     "output_type": "stream",
     "text": [
      "Epoch: 045, Average loss: 0.13281\n",
      "Epoch: 045, Average loss: 0.34362\n"
     ]
    },
    {
     "name": "stderr",
     "output_type": "stream",
     "text": [
      "100%|██████████| 762/762 [00:24<00:00, 31.26it/s]\n",
      "100%|██████████| 109/109 [00:01<00:00, 70.59it/s]\n"
     ]
    },
    {
     "name": "stdout",
     "output_type": "stream",
     "text": [
      "Epoch: 046, Average loss: 0.13179\n",
      "Epoch: 046, Average loss: 0.21299\n"
     ]
    },
    {
     "name": "stderr",
     "output_type": "stream",
     "text": [
      "100%|██████████| 762/762 [00:24<00:00, 31.43it/s]\n",
      "100%|██████████| 109/109 [00:01<00:00, 74.31it/s]\n"
     ]
    },
    {
     "name": "stdout",
     "output_type": "stream",
     "text": [
      "Epoch: 047, Average loss: 0.12010\n",
      "Epoch: 047, Average loss: 0.23384\n"
     ]
    },
    {
     "name": "stderr",
     "output_type": "stream",
     "text": [
      "100%|██████████| 762/762 [00:24<00:00, 31.19it/s]\n",
      "100%|██████████| 109/109 [00:01<00:00, 81.89it/s]\n"
     ]
    },
    {
     "name": "stdout",
     "output_type": "stream",
     "text": [
      "Epoch: 048, Average loss: 0.13846\n",
      "Epoch: 048, Average loss: 0.31344\n"
     ]
    },
    {
     "name": "stderr",
     "output_type": "stream",
     "text": [
      "100%|██████████| 762/762 [00:24<00:00, 31.29it/s]\n",
      "100%|██████████| 109/109 [00:01<00:00, 71.02it/s]\n"
     ]
    },
    {
     "name": "stdout",
     "output_type": "stream",
     "text": [
      "Epoch: 049, Average loss: 0.12704\n",
      "Epoch: 049, Average loss: 0.37129\n"
     ]
    },
    {
     "name": "stderr",
     "output_type": "stream",
     "text": [
      "100%|██████████| 762/762 [00:24<00:00, 30.92it/s]\n",
      "100%|██████████| 109/109 [00:01<00:00, 72.46it/s]\n"
     ]
    },
    {
     "name": "stdout",
     "output_type": "stream",
     "text": [
      "Epoch: 050, Average loss: 0.14272\n",
      "Epoch: 050, Average loss: 0.32086\n"
     ]
    },
    {
     "name": "stderr",
     "output_type": "stream",
     "text": [
      "100%|██████████| 762/762 [00:24<00:00, 30.76it/s]\n",
      "100%|██████████| 109/109 [00:01<00:00, 65.22it/s]\n"
     ]
    },
    {
     "name": "stdout",
     "output_type": "stream",
     "text": [
      "Epoch: 051, Average loss: 0.13629\n",
      "Epoch: 051, Average loss: 0.39834\n"
     ]
    },
    {
     "name": "stderr",
     "output_type": "stream",
     "text": [
      "100%|██████████| 762/762 [00:23<00:00, 31.75it/s]\n",
      "100%|██████████| 109/109 [00:01<00:00, 65.93it/s]\n"
     ]
    },
    {
     "name": "stdout",
     "output_type": "stream",
     "text": [
      "Epoch: 052, Average loss: 0.12991\n",
      "Epoch: 052, Average loss: 0.34274\n"
     ]
    },
    {
     "name": "stderr",
     "output_type": "stream",
     "text": [
      "100%|██████████| 762/762 [00:21<00:00, 34.72it/s]\n",
      "100%|██████████| 109/109 [00:00<00:00, 112.74it/s]\n"
     ]
    },
    {
     "name": "stdout",
     "output_type": "stream",
     "text": [
      "Epoch: 053, Average loss: 0.13385\n",
      "Epoch: 053, Average loss: 0.34690\n"
     ]
    },
    {
     "name": "stderr",
     "output_type": "stream",
     "text": [
      "100%|██████████| 762/762 [00:17<00:00, 43.44it/s]\n",
      "100%|██████████| 109/109 [00:00<00:00, 112.51it/s]\n"
     ]
    },
    {
     "name": "stdout",
     "output_type": "stream",
     "text": [
      "Epoch: 054, Average loss: 0.13508\n",
      "Epoch: 054, Average loss: 0.38363\n"
     ]
    },
    {
     "name": "stderr",
     "output_type": "stream",
     "text": [
      "100%|██████████| 762/762 [00:19<00:00, 38.65it/s]\n",
      "100%|██████████| 109/109 [00:01<00:00, 74.36it/s]\n"
     ]
    },
    {
     "name": "stdout",
     "output_type": "stream",
     "text": [
      "Epoch: 055, Average loss: 0.14384\n",
      "Epoch: 055, Average loss: 0.34661\n"
     ]
    },
    {
     "name": "stderr",
     "output_type": "stream",
     "text": [
      "100%|██████████| 762/762 [00:21<00:00, 36.15it/s]\n",
      "100%|██████████| 109/109 [00:01<00:00, 69.84it/s]\n"
     ]
    },
    {
     "name": "stdout",
     "output_type": "stream",
     "text": [
      "Epoch: 056, Average loss: 0.11722\n",
      "Epoch: 056, Average loss: 0.30776\n"
     ]
    },
    {
     "name": "stderr",
     "output_type": "stream",
     "text": [
      "100%|██████████| 762/762 [00:23<00:00, 32.20it/s]\n",
      "100%|██████████| 109/109 [00:01<00:00, 82.56it/s]\n"
     ]
    },
    {
     "name": "stdout",
     "output_type": "stream",
     "text": [
      "Epoch: 057, Average loss: 0.13252\n",
      "Epoch: 057, Average loss: 0.36498\n"
     ]
    },
    {
     "name": "stderr",
     "output_type": "stream",
     "text": [
      "100%|██████████| 762/762 [00:23<00:00, 31.85it/s]\n",
      "100%|██████████| 109/109 [00:01<00:00, 75.08it/s] \n"
     ]
    },
    {
     "name": "stdout",
     "output_type": "stream",
     "text": [
      "Epoch: 058, Average loss: 0.12863\n",
      "Epoch: 058, Average loss: 0.31555\n"
     ]
    },
    {
     "name": "stderr",
     "output_type": "stream",
     "text": [
      "  0%|          | 0/762 [00:00<?, ?it/s]IOPub message rate exceeded.\n",
      "The notebook server will temporarily stop sending output\n",
      "to the client in order to avoid crashing it.\n",
      "To change this limit, set the config variable\n",
      "`--NotebookApp.iopub_msg_rate_limit`.\n",
      "\n",
      "Current values:\n",
      "NotebookApp.iopub_msg_rate_limit=1000.0 (msgs/sec)\n",
      "NotebookApp.rate_limit_window=3.0 (secs)\n",
      "\n",
      "100%|██████████| 762/762 [00:23<00:00, 32.27it/s]\n",
      "100%|██████████| 109/109 [00:01<00:00, 87.64it/s] \n"
     ]
    },
    {
     "name": "stdout",
     "output_type": "stream",
     "text": [
      "Epoch: 077, Average loss: 0.12028\n",
      "Epoch: 077, Average loss: 0.27264\n"
     ]
    },
    {
     "name": "stderr",
     "output_type": "stream",
     "text": [
      "100%|██████████| 762/762 [00:22<00:00, 33.46it/s]\n",
      "100%|██████████| 109/109 [00:01<00:00, 81.39it/s]\n"
     ]
    },
    {
     "name": "stdout",
     "output_type": "stream",
     "text": [
      "Epoch: 078, Average loss: 0.11550\n",
      "Epoch: 078, Average loss: 0.38548\n"
     ]
    },
    {
     "name": "stderr",
     "output_type": "stream",
     "text": [
      "100%|██████████| 762/762 [00:20<00:00, 37.01it/s]\n",
      "100%|██████████| 109/109 [00:00<00:00, 111.64it/s]\n"
     ]
    },
    {
     "name": "stdout",
     "output_type": "stream",
     "text": [
      "Epoch: 079, Average loss: 0.11531\n",
      "Epoch: 079, Average loss: 0.34332\n"
     ]
    },
    {
     "name": "stderr",
     "output_type": "stream",
     "text": [
      "100%|██████████| 762/762 [00:16<00:00, 45.45it/s]\n",
      "100%|██████████| 109/109 [00:00<00:00, 122.86it/s]\n"
     ]
    },
    {
     "name": "stdout",
     "output_type": "stream",
     "text": [
      "Epoch: 080, Average loss: 0.12959\n",
      "Epoch: 080, Average loss: 0.41185\n"
     ]
    },
    {
     "name": "stderr",
     "output_type": "stream",
     "text": [
      "100%|██████████| 762/762 [00:18<00:00, 41.53it/s]\n",
      "100%|██████████| 109/109 [00:01<00:00, 75.56it/s]\n"
     ]
    },
    {
     "name": "stdout",
     "output_type": "stream",
     "text": [
      "Epoch: 081, Average loss: 0.12269\n",
      "Epoch: 081, Average loss: 0.33083\n"
     ]
    },
    {
     "name": "stderr",
     "output_type": "stream",
     "text": [
      "100%|██████████| 762/762 [00:23<00:00, 31.87it/s]\n",
      "100%|██████████| 109/109 [00:01<00:00, 81.61it/s]\n"
     ]
    },
    {
     "name": "stdout",
     "output_type": "stream",
     "text": [
      "Epoch: 082, Average loss: 0.13114\n",
      "Epoch: 082, Average loss: 0.30455\n"
     ]
    },
    {
     "name": "stderr",
     "output_type": "stream",
     "text": [
      "100%|██████████| 762/762 [00:23<00:00, 31.93it/s]\n",
      "100%|██████████| 109/109 [00:01<00:00, 73.27it/s]\n"
     ]
    },
    {
     "name": "stdout",
     "output_type": "stream",
     "text": [
      "Epoch: 083, Average loss: 0.11719\n",
      "Epoch: 083, Average loss: 0.37181\n"
     ]
    },
    {
     "name": "stderr",
     "output_type": "stream",
     "text": [
      "100%|██████████| 762/762 [00:23<00:00, 32.40it/s]\n",
      "100%|██████████| 109/109 [00:01<00:00, 83.31it/s] \n"
     ]
    },
    {
     "name": "stdout",
     "output_type": "stream",
     "text": [
      "Epoch: 084, Average loss: 0.12397\n",
      "Epoch: 084, Average loss: 0.41731\n"
     ]
    },
    {
     "name": "stderr",
     "output_type": "stream",
     "text": [
      " 10%|█         | 79/762 [00:02<00:19, 34.62it/s]IOPub message rate exceeded.\n",
      "The notebook server will temporarily stop sending output\n",
      "to the client in order to avoid crashing it.\n",
      "To change this limit, set the config variable\n",
      "`--NotebookApp.iopub_msg_rate_limit`.\n",
      "\n",
      "Current values:\n",
      "NotebookApp.iopub_msg_rate_limit=1000.0 (msgs/sec)\n",
      "NotebookApp.rate_limit_window=3.0 (secs)\n",
      "\n",
      "100%|██████████| 762/762 [00:24<00:00, 31.69it/s]\n",
      "100%|██████████| 109/109 [00:01<00:00, 73.83it/s]\n"
     ]
    },
    {
     "name": "stdout",
     "output_type": "stream",
     "text": [
      "Epoch: 096, Average loss: 0.11660\n",
      "Epoch: 096, Average loss: 0.38421\n"
     ]
    },
    {
     "name": "stderr",
     "output_type": "stream",
     "text": [
      "100%|██████████| 762/762 [00:23<00:00, 31.99it/s]\n",
      "100%|██████████| 109/109 [00:01<00:00, 82.57it/s]\n"
     ]
    },
    {
     "name": "stdout",
     "output_type": "stream",
     "text": [
      "Epoch: 097, Average loss: 0.12102\n",
      "Epoch: 097, Average loss: 0.27739\n"
     ]
    },
    {
     "name": "stderr",
     "output_type": "stream",
     "text": [
      "100%|██████████| 762/762 [00:23<00:00, 31.85it/s]\n",
      "100%|██████████| 109/109 [00:01<00:00, 81.03it/s]\n"
     ]
    },
    {
     "name": "stdout",
     "output_type": "stream",
     "text": [
      "Epoch: 098, Average loss: 0.10908\n",
      "Epoch: 098, Average loss: 0.27499\n"
     ]
    },
    {
     "name": "stderr",
     "output_type": "stream",
     "text": [
      "100%|██████████| 762/762 [00:23<00:00, 32.31it/s]\n",
      "100%|██████████| 109/109 [00:01<00:00, 70.84it/s] "
     ]
    },
    {
     "name": "stdout",
     "output_type": "stream",
     "text": [
      "Epoch: 099, Average loss: 0.11838\n",
      "Epoch: 099, Average loss: 0.22893\n"
     ]
    },
    {
     "name": "stderr",
     "output_type": "stream",
     "text": [
      "\n"
     ]
    }
   ],
   "source": [
    "from torch_geometric.data import DataLoader\n",
    "maes=[]\n",
    "for a in range(7):\n",
    "    trains=np.where([targets['fold']!=a])[1]\n",
    "    tests=np.where([targets['fold']==a])[1]\n",
    "    train_dataset=[data_atoms[i] for i in trains]\n",
    "    test_dataset=[data_atoms[i] for i in tests]\n",
    "    train_loader = DataLoader(train_dataset, batch_size=4)\n",
    "    test_loader = DataLoader(test_dataset, batch_size=4)\n",
    "    model=EdgeUpdateNet()\n",
    "    device = 'cuda:2' if torch.cuda.is_available() else 'cpu'\n",
    "    #device='cpu'\n",
    "    model = model.to(device)\n",
    "\n",
    "    optimizer = torch.optim.Adam(model.parameters(), lr=1e-3)\n",
    "    epochs = 10\n",
    "    #\n",
    "    loss_func = torch.nn.L1Loss() #define loss\n",
    "    scheduler = torch.optim.lr_scheduler.CosineAnnealingLR(optimizer, T_max=256)\n",
    "    tr_loss = []\n",
    "    ts_loss=[]#set model to training mode\n",
    "    for epoch in range(100):\n",
    "        model.train() \n",
    "        valid_loss = 0\n",
    "\n",
    "        train_loss=0\n",
    "\n",
    "         #shuffle the training data each epoch\n",
    "        for d in tqdm(train_loader): #go over each training point\n",
    "            data = d.to(device)#send data to device\n",
    "\n",
    "            out = model(data) \n",
    "            optimizer.zero_grad() #zero gradients\n",
    "            #evaluate data point\n",
    "            loss = loss_func(out, data.y) #L1 error loss\n",
    "             #add loss value to aggregate loss\n",
    "            loss.backward() #compute gradients\n",
    "            optimizer.step() #apply optimization\n",
    "            train_loss += loss.item()\n",
    "\n",
    "        model.eval()     # Optional when not using Model Specific layer\n",
    "        for d in tqdm(test_loader):\n",
    "            data = d.to(device)\n",
    "            target = model(data)\n",
    "            loss = loss_func(target, data.y)\n",
    "            valid_loss += loss.item()\n",
    "\n",
    "        print('Epoch: {:03d}, Average loss: {:.5f}'.format(epoch, train_loss/len(train_loader)))\n",
    "        tr_loss.append(train_loss/len(train_loader))\n",
    "        \n",
    "        print('Epoch: {:03d}, Average loss: {:.5f}'.format(epoch, valid_loss/len(test_loader)))\n",
    "        ts_loss.append(valid_loss/len(test_loader))\n",
    "    maes.append(valid_loss/len(test_loader))\n",
    "\n",
    "    "
   ]
  },
  {
   "cell_type": "code",
   "execution_count": 21,
   "id": "f67ef59d",
   "metadata": {},
   "outputs": [
    {
     "data": {
      "text/plain": [
       "[0.24836455069379795,\n",
       " 0.3386210551092384,\n",
       " 0.1307335179470001,\n",
       " 0.17127832487533126,\n",
       " 0.28065828104084783,\n",
       " 0.24146829436131573,\n",
       " 0.22892647292123203]"
      ]
     },
     "execution_count": 21,
     "metadata": {},
     "output_type": "execute_result"
    }
   ],
   "source": [
    "maes"
   ]
  },
  {
   "cell_type": "code",
   "execution_count": 17,
   "id": "26490f60",
   "metadata": {},
   "outputs": [
    {
     "data": {
      "text/plain": [
       "0.23429292813553765"
      ]
     },
     "execution_count": 17,
     "metadata": {},
     "output_type": "execute_result"
    }
   ],
   "source": [
    "np.mean(maes)"
   ]
  },
  {
   "cell_type": "code",
   "execution_count": 20,
   "id": "bf936bd9",
   "metadata": {},
   "outputs": [
    {
     "data": {
      "text/plain": [
       "0.06325435159957309"
      ]
     },
     "execution_count": 20,
     "metadata": {},
     "output_type": "execute_result"
    }
   ],
   "source": [
    "np.std(maes)"
   ]
  },
  {
   "cell_type": "code",
   "execution_count": null,
   "id": "de7a61e2",
   "metadata": {},
   "outputs": [],
   "source": []
  }
 ],
 "metadata": {
  "kernelspec": {
   "display_name": "crystalvae",
   "language": "python",
   "name": "crystalvae"
  },
  "language_info": {
   "codemirror_mode": {
    "name": "ipython",
    "version": 3
   },
   "file_extension": ".py",
   "mimetype": "text/x-python",
   "name": "python",
   "nbconvert_exporter": "python",
   "pygments_lexer": "ipython3",
   "version": "3.6.13"
  }
 },
 "nbformat": 4,
 "nbformat_minor": 5
}
