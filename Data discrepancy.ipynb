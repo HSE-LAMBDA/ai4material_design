{
 "cells": [
  {
   "cell_type": "code",
   "execution_count": 9,
   "metadata": {},
   "outputs": [],
   "source": [
    "from tqdm.notebook import tqdm\n",
    "import pandas as pd\n",
    "import os"
   ]
  },
  {
   "cell_type": "code",
   "execution_count": 10,
   "metadata": {},
   "outputs": [],
   "source": [
    "structures = pd.read_csv(\"datasets/dichalcogenides_innopolis_202105/defects.csv\", index_col=0)"
   ]
  },
  {
   "cell_type": "code",
   "execution_count": 11,
   "metadata": {},
   "outputs": [
    {
     "data": {
      "application/vnd.jupyter.widget-view+json": {
       "model_id": "444e9333f2024df79f17d5029e858942",
       "version_major": 2,
       "version_minor": 0
      },
      "text/plain": [
       "  0%|          | 0/3480 [00:00<?, ?it/s]"
      ]
     },
     "metadata": {},
     "output_type": "display_data"
    },
    {
     "name": "stderr",
     "output_type": "stream",
     "text": [
      "/temporary/pymatgen/pymatgen/io/cif.py:1123: UserWarning:\n",
      "\n",
      "Issues encountered while parsing CIF: Some fractional co-ordinates rounded to ideal values to avoid issues with finite precision.\n",
      "\n"
     ]
    }
   ],
   "source": [
    "import pymatgen.io.cif\n",
    "STRUCTURES_FOLDER = \"datasets/dichalcogenides_innopolis_202105/initial/\"\n",
    "initial_structures = dict()\n",
    "for structure_file in tqdm(os.listdir(STRUCTURES_FOLDER)):\n",
    "  this_file = pymatgen.io.cif.CifParser(os.path.join(STRUCTURES_FOLDER, structure_file))\n",
    "  initial_structures[os.path.splitext(structure_file)[0]] = this_file.get_structures()[0]"
   ]
  },
  {
   "cell_type": "code",
   "execution_count": 12,
   "metadata": {},
   "outputs": [],
   "source": [
    "structures[\"initial_structure\"] = structures.apply(lambda row: initial_structures[row._id], axis=1)"
   ]
  },
  {
   "cell_type": "code",
   "execution_count": 21,
   "metadata": {},
   "outputs": [],
   "source": [
    "n_atoms = structures.initial_structure.apply(len)\n",
    "structures[\"energy_per_atom_from_total\"] = structures[\"energy\"]/n_atoms"
   ]
  },
  {
   "cell_type": "code",
   "execution_count": 22,
   "metadata": {},
   "outputs": [
    {
     "data": {
      "image/png": "[encoded data removed]",
      "text/plain": [
       "<Figure size 432x288 with 1 Axes>"
      ]
     },
     "metadata": {
      "needs_background": "light"
     },
     "output_type": "display_data"
    }
   ],
   "source": [
    "import matplotlib.pyplot as plt\n",
    "plt.hist(structures[\"energy_per_atom_from_total\"] - structures[\"energy_per_atom\"], bins=100);"
   ]
  },
  {
   "cell_type": "markdown",
   "metadata": {},
   "source": [
    "For a small number of structures, energy/n_atoms != energy_per_atom"
   ]
  },
  {
   "cell_type": "code",
   "execution_count": 23,
   "metadata": {},
   "outputs": [],
   "source": [
    "defective = structures[(structures[\"energy_per_atom_from_total\"] - structures[\"energy_per_atom\"]) < -5]"
   ]
  },
  {
   "cell_type": "code",
   "execution_count": 24,
   "metadata": {},
   "outputs": [
    {
     "data": {
      "text/html": [
       "<div>\n",
       "<style scoped>\n",
       "    .dataframe tbody tr th:only-of-type {\n",
       "        vertical-align: middle;\n",
       "    }\n",
       "\n",
       "    .dataframe tbody tr th {\n",
       "        vertical-align: top;\n",
       "    }\n",
       "\n",
       "    .dataframe thead th {\n",
       "        text-align: right;\n",
       "    }\n",
       "</style>\n",
       "<table border=\"1\" class=\"dataframe\">\n",
       "  <thead>\n",
       "    <tr style=\"text-align: right;\">\n",
       "      <th></th>\n",
       "      <th>_id</th>\n",
       "      <th>descriptor_id</th>\n",
       "      <th>defect_id</th>\n",
       "      <th>energy</th>\n",
       "      <th>energy_per_atom</th>\n",
       "      <th>fermi_level</th>\n",
       "      <th>homo</th>\n",
       "      <th>lumo</th>\n",
       "      <th>initial_structure</th>\n",
       "      <th>energy_per_atom_from_total</th>\n",
       "    </tr>\n",
       "  </thead>\n",
       "  <tbody>\n",
       "    <tr>\n",
       "      <th>14</th>\n",
       "      <td>60924652f9eca94c44df92c2</td>\n",
       "      <td>6092462bf9eca94c44df9287</td>\n",
       "      <td>1</td>\n",
       "      <td>-340.771942</td>\n",
       "      <td>-7.408086</td>\n",
       "      <td>0.637950</td>\n",
       "      <td>0.120984</td>\n",
       "      <td>1.211954</td>\n",
       "      <td>[[ 3.19073038 -1.84216903  5.12364434] S, [4.7...</td>\n",
       "      <td>-14.816171</td>\n",
       "    </tr>\n",
       "    <tr>\n",
       "      <th>1168</th>\n",
       "      <td>609246caf9eca94c44df9744</td>\n",
       "      <td>6092462bf9eca94c44df928e</td>\n",
       "      <td>1</td>\n",
       "      <td>-308.955679</td>\n",
       "      <td>-6.716428</td>\n",
       "      <td>0.337715</td>\n",
       "      <td>-0.028102</td>\n",
       "      <td>0.730098</td>\n",
       "      <td>[[ 3.32694941 -3.84163032  3.86285575] Mo, [ 1...</td>\n",
       "      <td>-13.432856</td>\n",
       "    </tr>\n",
       "    <tr>\n",
       "      <th>1387</th>\n",
       "      <td>609246edf9eca94c44df981f</td>\n",
       "      <td>6092462bf9eca94c44df929e</td>\n",
       "      <td>1</td>\n",
       "      <td>-345.733711</td>\n",
       "      <td>-7.202786</td>\n",
       "      <td>1.190634</td>\n",
       "      <td>0.218535</td>\n",
       "      <td>2.366327</td>\n",
       "      <td>[[1.59536523 0.92108447 5.12364434] O, [ 3.190...</td>\n",
       "      <td>-14.405571</td>\n",
       "    </tr>\n",
       "    <tr>\n",
       "      <th>1412</th>\n",
       "      <td>609246f6f9eca94c44df9838</td>\n",
       "      <td>6092462bf9eca94c44df928a</td>\n",
       "      <td>2</td>\n",
       "      <td>-713.701059</td>\n",
       "      <td>-6.608343</td>\n",
       "      <td>0.680652</td>\n",
       "      <td>-0.014352</td>\n",
       "      <td>1.358684</td>\n",
       "      <td>[[-14.97127252  -6.72285312 -11.58856725] Mo, ...</td>\n",
       "      <td>-13.216686</td>\n",
       "    </tr>\n",
       "    <tr>\n",
       "      <th>1447</th>\n",
       "      <td>60924700f9eca94c44df985b</td>\n",
       "      <td>6092462bf9eca94c44df92a8</td>\n",
       "      <td>2</td>\n",
       "      <td>-782.679589</td>\n",
       "      <td>-7.383770</td>\n",
       "      <td>0.776625</td>\n",
       "      <td>0.142937</td>\n",
       "      <td>1.433823</td>\n",
       "      <td>[[-14.35828649  -4.60542257  -9.07875766] S, [...</td>\n",
       "      <td>-14.767539</td>\n",
       "    </tr>\n",
       "  </tbody>\n",
       "</table>\n",
       "</div>"
      ],
      "text/plain": [
       "                           _id             descriptor_id  defect_id  \\\n",
       "14    60924652f9eca94c44df92c2  6092462bf9eca94c44df9287          1   \n",
       "1168  609246caf9eca94c44df9744  6092462bf9eca94c44df928e          1   \n",
       "1387  609246edf9eca94c44df981f  6092462bf9eca94c44df929e          1   \n",
       "1412  609246f6f9eca94c44df9838  6092462bf9eca94c44df928a          2   \n",
       "1447  60924700f9eca94c44df985b  6092462bf9eca94c44df92a8          2   \n",
       "\n",
       "          energy  energy_per_atom  fermi_level      homo      lumo  \\\n",
       "14   -340.771942        -7.408086     0.637950  0.120984  1.211954   \n",
       "1168 -308.955679        -6.716428     0.337715 -0.028102  0.730098   \n",
       "1387 -345.733711        -7.202786     1.190634  0.218535  2.366327   \n",
       "1412 -713.701059        -6.608343     0.680652 -0.014352  1.358684   \n",
       "1447 -782.679589        -7.383770     0.776625  0.142937  1.433823   \n",
       "\n",
       "                                      initial_structure  \\\n",
       "14    [[ 3.19073038 -1.84216903  5.12364434] S, [4.7...   \n",
       "1168  [[ 3.32694941 -3.84163032  3.86285575] Mo, [ 1...   \n",
       "1387  [[1.59536523 0.92108447 5.12364434] O, [ 3.190...   \n",
       "1412  [[-14.97127252  -6.72285312 -11.58856725] Mo, ...   \n",
       "1447  [[-14.35828649  -4.60542257  -9.07875766] S, [...   \n",
       "\n",
       "      energy_per_atom_from_total  \n",
       "14                    -14.816171  \n",
       "1168                  -13.432856  \n",
       "1387                  -14.405571  \n",
       "1412                  -13.216686  \n",
       "1447                  -14.767539  "
      ]
     },
     "execution_count": 24,
     "metadata": {},
     "output_type": "execute_result"
    }
   ],
   "source": [
    "defective.head()"
   ]
  }
 ],
 "metadata": {
  "kernelspec": {
   "display_name": "Python 3",
   "language": "python",
   "name": "python3"
  },
  "language_info": {
   "codemirror_mode": {
    "name": "ipython",
    "version": 3
   },
   "file_extension": ".py",
   "mimetype": "text/x-python",
   "name": "python",
   "nbconvert_exporter": "python",
   "pygments_lexer": "ipython3",
   "version": "3.6.9"
  }
 },
 "nbformat": 4,
 "nbformat_minor": 4
}
