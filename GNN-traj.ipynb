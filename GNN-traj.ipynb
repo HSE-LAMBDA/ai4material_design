{
 "cells": [
  {
   "cell_type": "code",
   "execution_count": 1,
   "metadata": {},
   "outputs": [
    {
     "name": "stdout",
     "output_type": "stream",
     "text": [
      "env: CUDA_DEVICE_ORDER=PCI_BUS_ID\n",
      "env: CUDA_VISIBLE_DEVICES=1\n"
     ]
    }
   ],
   "source": [
    "%env CUDA_DEVICE_ORDER=PCI_BUS_ID\n",
    "%env CUDA_VISIBLE_DEVICES=1"
   ]
  },
  {
   "cell_type": "code",
   "execution_count": 2,
   "metadata": {},
   "outputs": [],
   "source": [
    "%matplotlib inline"
   ]
  },
  {
   "cell_type": "code",
   "execution_count": 3,
   "metadata": {},
   "outputs": [],
   "source": [
    "import optax\n",
    "import numpy as onp\n",
    "import jax.numpy as jnp\n",
    "import jax.random\n",
    "import jax_md\n",
    "from jax import jit, vmap, grad, lax\n",
    "import matplotlib.pyplot as plt\n",
    "import pickle\n",
    "import mendeleev"
   ]
  },
  {
   "cell_type": "code",
   "execution_count": 4,
   "metadata": {},
   "outputs": [],
   "source": [
    "import warnings\n",
    "warnings.simplefilter('ignore')"
   ]
  },
  {
   "cell_type": "code",
   "execution_count": 5,
   "metadata": {},
   "outputs": [],
   "source": [
    "import data\n",
    "data_raw = data.get_gpaw_trajectories(\"./datasets/raw_ruslan_202104/new_datasets/defectDB/\")"
   ]
  },
  {
   "cell_type": "code",
   "execution_count": 6,
   "metadata": {},
   "outputs": [],
   "source": [
    "from collections import defaultdict\n",
    "opt = optax.chain(optax.clip_by_global_norm(jnp.float32(1.0)), optax.adam(jnp.float32(3e-4), jnp.float32(0.95)))"
   ]
  },
  {
   "cell_type": "code",
   "execution_count": 7,
   "metadata": {},
   "outputs": [],
   "source": [
    "def compute_species_params(charge):\n",
    "  element = mendeleev.element(charge)\n",
    "  return [charge, element.atomic_volume, element.group_id, element.period]"
   ]
  },
  {
   "cell_type": "code",
   "execution_count": 8,
   "metadata": {},
   "outputs": [],
   "source": [
    "def prepare_tensors(atoms):\n",
    "  lattice = atoms.cell.array.astype(onp.float32)\n",
    "  displacement, shift = jax_md.space.periodic_general(lattice.T, fractional_coordinates=False)\n",
    "  species_params = jnp.array([compute_species_params(int(charge)) for charge in atoms.get_atomic_numbers()],\n",
    "                             dtype=jnp.float32)\n",
    "  neighbor_fn, init_fn_bp, energy_fn_bp = jax_md.energy.graph_network_neighbor_list(\n",
    "    displacement_fn=displacement,\n",
    "    nodes=species_params,\n",
    "    box_size=21,\n",
    "    r_cutoff=4.9,\n",
    "    dr_threshold=0.2)\n",
    "  neighbor = neighbor_fn(atoms.positions, extra_capacity=3)\n",
    "  \n",
    "  @jit\n",
    "  def train_energy_fn(params, R):\n",
    "    _neighbor = neighbor_fn(R, neighbor)\n",
    "    return energy_fn_bp(params, R, _neighbor)\n",
    "\n",
    "  # Vectorize over states, not parameters.\n",
    "  vectorized_energy_fn = vmap(train_energy_fn, (None, 0))\n",
    "\n",
    "  grad_fn = grad(train_energy_fn, argnums=1)\n",
    "  force_fn = lambda params, R, **kwargs: -grad_fn(params, R)\n",
    "  vectorized_force_fn = vmap(force_fn, (None, 0))\n",
    "  \n",
    "  @jit\n",
    "  def energy_loss(params, R, energy_targets):\n",
    "    return jnp.mean((vectorized_energy_fn(params, R) - energy_targets) ** 2)\n",
    "\n",
    "  @jit\n",
    "  def force_loss(params, R, force_targets):\n",
    "    dforces = vectorized_force_fn(params, R) - force_targets\n",
    "    return jnp.mean(jnp.sum(dforces ** 2, axis=(1, 2)))\n",
    "  \n",
    "  @jit\n",
    "  def loss(params, R, targets):\n",
    "    return energy_loss(params, R, targets[0]) + force_loss(params, R, targets[1])\n",
    "  \n",
    "  @jit\n",
    "  def update_step(params, opt_state, R, labels):\n",
    "    updates, opt_state = opt.update(grad(loss)(params, R, labels),\n",
    "                                    opt_state)\n",
    "    return optax.apply_updates(params, updates), opt_state\n",
    "\n",
    "  \n",
    "  @jit\n",
    "  def update_epoch(params_and_opt_state, batches):\n",
    "    def inner_update(params_and_opt_state, batch):\n",
    "      params, opt_state = params_and_opt_state\n",
    "      b_xs, b_labels = batch\n",
    "\n",
    "      return update_step(params, opt_state, b_xs, b_labels), 0\n",
    "    return lax.scan(inner_update, params_and_opt_state, batches)[0]\n",
    "\n",
    "  return init_fn_bp, neighbor_fn, vectorized_energy_fn, energy_loss, update_epoch"
   ]
  },
  {
   "cell_type": "code",
   "execution_count": 9,
   "metadata": {},
   "outputs": [],
   "source": [
    "data_processed = {}\n",
    "for key, defect_vars in data_raw.items():\n",
    "  energies = []\n",
    "  coordinates = []\n",
    "  forces = []\n",
    "  for traj in defect_vars:\n",
    "    energies.append(jnp.array([a.get_potential_energy() for a in traj], dtype=jnp.float32))\n",
    "    coordinates.append(jnp.array([a.positions for a in traj], dtype=jnp.float32))\n",
    "    forces.append(jnp.array([a.get_forces() for a in traj], dtype=jnp.float32))\n",
    "  data_processed[key] = (\n",
    "    jnp.concatenate(energies), jnp.concatenate(coordinates), jnp.concatenate(forces))"
   ]
  },
  {
   "cell_type": "code",
   "execution_count": 10,
   "metadata": {},
   "outputs": [],
   "source": [
    "tensors_per_id = {k: prepare_tensors(v[0][0]) for k, v in data_raw.items()}"
   ]
  },
  {
   "cell_type": "code",
   "execution_count": 11,
   "metadata": {},
   "outputs": [],
   "source": [
    "key = jax.random.PRNGKey(42)\n",
    "BASE='id18'\n",
    "initial_coords = jnp.array(data_raw[BASE][0][0].positions)\n",
    "base_funcs  = tensors_per_id[BASE]\n",
    "neighbor = base_funcs[1](initial_coords, extra_capacity=3)\n",
    "params = base_funcs[0](key, initial_coords, neighbor)"
   ]
  },
  {
   "cell_type": "code",
   "execution_count": 12,
   "metadata": {},
   "outputs": [],
   "source": [
    "opt_state = opt.init(params)\n",
    "train_energy_error = []"
   ]
  },
  {
   "cell_type": "code",
   "execution_count": 13,
   "metadata": {},
   "outputs": [],
   "source": [
    "from IPython import display"
   ]
  },
  {
   "cell_type": "code",
   "execution_count": 14,
   "metadata": {},
   "outputs": [],
   "source": [
    "BATCH_SIZE = 24\n",
    "@jit\n",
    "def make_batches(lookup, ERF):\n",
    "  batch_Rs = []\n",
    "  batch_Es = []\n",
    "  batch_Fs = []\n",
    "\n",
    "  for i in range(0, len(lookup), BATCH_SIZE):\n",
    "    if i + BATCH_SIZE > len(lookup):\n",
    "      break\n",
    "\n",
    "    idx = lookup[i:i + BATCH_SIZE]\n",
    "\n",
    "    batch_Rs += [ERF[1][idx]]\n",
    "    batch_Es += [ERF[0][idx]]\n",
    "    batch_Fs += [ERF[2][idx]]\n",
    "\n",
    "  return jnp.stack(batch_Rs), (jnp.stack(batch_Es), jnp.stack(batch_Fs))"
   ]
  },
  {
   "cell_type": "code",
   "execution_count": null,
   "metadata": {},
   "outputs": [
    {
     "name": "stdout",
     "output_type": "stream",
     "text": [
      "id31 0.9177365\n",
      "id42 25.561283\n",
      "id1 6.7520657\n",
      "id27 2.8361573\n",
      "id12 17.323086\n",
      "id11 4.1830983\n",
      "id47 25.833622\n",
      "id28 5.0526466\n",
      "id26 8.562157\n",
      "id2 1.0005409\n",
      "id0 25.540878\n",
      "id25 12.640333\n",
      "id10 11.00307\n",
      "id37 15.770291\n",
      "id32 6.752003\n",
      "id20 13.066332\n",
      "id3 2.524308\n",
      "id44 16.904099\n",
      "id19 8.999199\n",
      "id4 7.0526958\n",
      "id38 10.015715\n",
      "id8 6.354145\n",
      "id39 1.1064991\n",
      "id6 13.512871\n",
      "id34 3.2536938\n",
      "id14 27.654043\n",
      "id43 5.2045803\n",
      "id9 6.165595\n",
      "id35 7.8983064\n",
      "id15 1.2376448\n",
      "id29 0.88748556\n",
      "id18 8.367489\n",
      "id21 8.158903\n",
      "id24 7.5145636\n",
      "id40 10.103228\n",
      "id36 26.697416\n",
      "id46 1.2484958\n",
      "id30 20.925545\n",
      "id16 4.974459\n",
      "id41 2.047617\n",
      "id7 6.345469\n",
      "id45 23.652191\n",
      "id33 9.825732\n"
     ]
    }
   ],
   "source": [
    "for epoch in range(1000):\n",
    "  for defect_id in data_processed.keys():\n",
    "    lookup = onp.arange(len(data_processed[defect_id][0]))\n",
    "    onp.random.shuffle(lookup)\n",
    "    batches = make_batches(lookup, data_processed[defect_id])\n",
    "    params, opt_state = tensors_per_id[defect_id][4](\n",
    "      (params, opt_state), batches)\n",
    "      # Total eV\n",
    "    train_energy_error += [onp.sqrt(tensors_per_id[defect_id][3](\n",
    "        params, data_processed[defect_id][1], data_processed[defect_id][0]))]\n",
    "    print(defect_id, train_energy_error[-1])\n",
    "  display.clear_output(wait=True)\n",
    "  with open(\"gnn-traj.pkl\", \"wb\") as params_file:\n",
    "    pickle.dump(params, params_file)"
   ]
  },
  {
   "cell_type": "code",
   "execution_count": 27,
   "metadata": {},
   "outputs": [],
   "source": [
    "predicted_E = []\n",
    "true_E = []\n",
    "for defect_id in data_processed.keys():\n",
    "  predicted_E.append(tensors_per_id[defect_id][2](params, data_processed[defect_id][1]))\n",
    "  true_E.append(data_processed[defect_id][0])\n",
    "predicted_E = jnp.concatenate(predicted_E)\n",
    "true_E = jnp.concatenate(true_E)\n",
    "  \n",
    "min_energy = min(true_E.min(), predicted_E.min())\n",
    "max_energy = max(true_E.max(), predicted_E.max())\n",
    "plot_range = onp.linspace(min_energy, max_energy, 10)       "
   ]
  },
  {
   "cell_type": "code",
   "execution_count": 28,
   "metadata": {},
   "outputs": [
    {
     "data": {
      "image/png": "[encoded data removed]",
      "text/plain": [
       "<Figure size 432x288 with 1 Axes>"
      ]
     },
     "metadata": {
      "needs_background": "light"
     },
     "output_type": "display_data"
    }
   ],
   "source": [
    "fig, ax = plt.subplots()\n",
    "ax.scatter(true_E, predicted_E)\n",
    "plt.plot(plot_range, plot_range, '--')      \n",
    "ax.set_ylabel(\"Predicted energy, eV\")\n",
    "ax.set_xlabel(\"DFT energy, eV\");"
   ]
  }
 ],
 "metadata": {
  "kernelspec": {
   "display_name": "Python 3",
   "language": "python",
   "name": "python3"
  },
  "language_info": {
   "codemirror_mode": {
    "name": "ipython",
    "version": 3
   },
   "file_extension": ".py",
   "mimetype": "text/x-python",
   "name": "python",
   "nbconvert_exporter": "python",
   "pygments_lexer": "ipython3",
   "version": "3.6.9"
  }
 },
 "nbformat": 4,
 "nbformat_minor": 4
}
