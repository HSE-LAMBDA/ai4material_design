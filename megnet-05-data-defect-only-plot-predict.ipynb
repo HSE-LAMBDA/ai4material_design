{
 "cells": [
  {
   "cell_type": "code",
   "execution_count": 1,
   "metadata": {},
   "outputs": [
    {
     "name": "stdout",
     "output_type": "stream",
     "text": [
      "env: CUDA_VISIBLE_DEVICES=\n"
     ]
    }
   ],
   "source": [
    "%env CUDA_VISIBLE_DEVICES="
   ]
  },
  {
   "cell_type": "code",
   "execution_count": 2,
   "metadata": {},
   "outputs": [
    {
     "ename": "ModuleNotFoundError",
     "evalue": "No module named 'pymatgen'",
     "output_type": "error",
     "traceback": [
      "\u001b[0;31m---------------------------------------------------------------------------\u001b[0m",
      "\u001b[0;31mModuleNotFoundError\u001b[0m                       Traceback (most recent call last)",
      "\u001b[0;32m<ipython-input-2-a22c04a66efc>\u001b[0m in \u001b[0;36m<module>\u001b[0;34m\u001b[0m\n\u001b[1;32m      5\u001b[0m \u001b[0;32mimport\u001b[0m \u001b[0mnumpy\u001b[0m \u001b[0;32mas\u001b[0m \u001b[0mnp\u001b[0m\u001b[0;34m\u001b[0m\u001b[0;34m\u001b[0m\u001b[0m\n\u001b[1;32m      6\u001b[0m \u001b[0;32mfrom\u001b[0m \u001b[0msklearn\u001b[0m\u001b[0;34m.\u001b[0m\u001b[0mmodel_selection\u001b[0m \u001b[0;32mimport\u001b[0m \u001b[0mtrain_test_split\u001b[0m\u001b[0;34m\u001b[0m\u001b[0;34m\u001b[0m\u001b[0m\n\u001b[0;32m----> 7\u001b[0;31m \u001b[0;32mfrom\u001b[0m \u001b[0mmegnet\u001b[0m\u001b[0;34m.\u001b[0m\u001b[0mmodels\u001b[0m \u001b[0;32mimport\u001b[0m \u001b[0mMEGNetModel\u001b[0m\u001b[0;34m\u001b[0m\u001b[0;34m\u001b[0m\u001b[0m\n\u001b[0m\u001b[1;32m      8\u001b[0m \u001b[0;32mfrom\u001b[0m \u001b[0mmegnet_graphs_train\u001b[0m \u001b[0;32mimport\u001b[0m \u001b[0mgenerate_paper_experiments\u001b[0m\u001b[0;34m\u001b[0m\u001b[0;34m\u001b[0m\u001b[0m\n",
      "\u001b[0;32m/usr/local/lib/python3.6/dist-packages/megnet/models/__init__.py\u001b[0m in \u001b[0;36m<module>\u001b[0;34m\u001b[0m\n\u001b[1;32m      2\u001b[0m \u001b[0mModels\u001b[0m \u001b[0mpackage\u001b[0m\u001b[0;34m,\u001b[0m \u001b[0mthis\u001b[0m \u001b[0mpackage\u001b[0m \u001b[0mcontains\u001b[0m \u001b[0mvarious\u001b[0m \u001b[0mgraph\u001b[0m\u001b[0;34m-\u001b[0m\u001b[0mbased\u001b[0m \u001b[0mmodels\u001b[0m\u001b[0;34m\u001b[0m\u001b[0;34m\u001b[0m\u001b[0m\n\u001b[1;32m      3\u001b[0m \"\"\"\n\u001b[0;32m----> 4\u001b[0;31m \u001b[0;32mfrom\u001b[0m \u001b[0;34m.\u001b[0m\u001b[0mbase\u001b[0m \u001b[0;32mimport\u001b[0m \u001b[0mGraphModel\u001b[0m\u001b[0;34m\u001b[0m\u001b[0;34m\u001b[0m\u001b[0m\n\u001b[0m\u001b[1;32m      5\u001b[0m \u001b[0;32mfrom\u001b[0m \u001b[0;34m.\u001b[0m\u001b[0mmegnet\u001b[0m \u001b[0;32mimport\u001b[0m \u001b[0mMEGNetModel\u001b[0m\u001b[0;34m\u001b[0m\u001b[0;34m\u001b[0m\u001b[0m\n\u001b[1;32m      6\u001b[0m \u001b[0;34m\u001b[0m\u001b[0m\n",
      "\u001b[0;32m/usr/local/lib/python3.6/dist-packages/megnet/models/base.py\u001b[0m in \u001b[0;36m<module>\u001b[0;34m\u001b[0m\n\u001b[1;32m     12\u001b[0m \u001b[0;32mfrom\u001b[0m \u001b[0mtensorflow\u001b[0m\u001b[0;34m.\u001b[0m\u001b[0mkeras\u001b[0m\u001b[0;34m.\u001b[0m\u001b[0mcallbacks\u001b[0m \u001b[0;32mimport\u001b[0m \u001b[0mCallback\u001b[0m\u001b[0;34m\u001b[0m\u001b[0;34m\u001b[0m\u001b[0m\n\u001b[1;32m     13\u001b[0m \u001b[0;32mfrom\u001b[0m \u001b[0mtensorflow\u001b[0m\u001b[0;34m.\u001b[0m\u001b[0mkeras\u001b[0m\u001b[0;34m.\u001b[0m\u001b[0mmodels\u001b[0m \u001b[0;32mimport\u001b[0m \u001b[0mModel\u001b[0m\u001b[0;34m\u001b[0m\u001b[0;34m\u001b[0m\u001b[0m\n\u001b[0;32m---> 14\u001b[0;31m \u001b[0;32mfrom\u001b[0m \u001b[0mpymatgen\u001b[0m\u001b[0;34m.\u001b[0m\u001b[0mcore\u001b[0m \u001b[0;32mimport\u001b[0m \u001b[0mStructure\u001b[0m\u001b[0;34m\u001b[0m\u001b[0;34m\u001b[0m\u001b[0m\n\u001b[0m\u001b[1;32m     15\u001b[0m \u001b[0;34m\u001b[0m\u001b[0m\n\u001b[1;32m     16\u001b[0m \u001b[0;32mfrom\u001b[0m \u001b[0mmegnet\u001b[0m\u001b[0;34m.\u001b[0m\u001b[0mcallbacks\u001b[0m \u001b[0;32mimport\u001b[0m \u001b[0mModelCheckpointMAE\u001b[0m\u001b[0;34m,\u001b[0m \u001b[0mManualStop\u001b[0m\u001b[0;34m,\u001b[0m \u001b[0mReduceLRUponNan\u001b[0m\u001b[0;34m\u001b[0m\u001b[0;34m\u001b[0m\u001b[0m\n",
      "\u001b[0;31mModuleNotFoundError\u001b[0m: No module named 'pymatgen'"
     ]
    }
   ],
   "source": [
    "from collections import defaultdict\n",
    "import os\n",
    "import matplotlib.pyplot as plt\n",
    "import pandas as pd\n",
    "import numpy as np\n",
    "from sklearn.model_selection import train_test_split\n",
    "from megnet.models import MEGNetModel\n",
    "from megnet_graphs_train import generate_paper_experiments"
   ]
  },
  {
   "cell_type": "code",
   "execution_count": null,
   "metadata": {},
   "outputs": [],
   "source": [
    "experiments = generate_paper_experiments()"
   ]
  },
  {
   "cell_type": "code",
   "execution_count": null,
   "metadata": {},
   "outputs": [],
   "source": [
    "global_save_path = os.path.join(\"datasets\", \"paper_experiments_x1s6_202109\")\n",
    "predictions_save_path = os.path.join(global_save_path, \"results\")\n",
    "plots_path = os.path.join(global_save_path, \"plots\")"
   ]
  },
  {
   "cell_type": "code",
   "execution_count": null,
   "metadata": {},
   "outputs": [],
   "source": [
    "# Assumes all experiments are on the same data and use the fold defenitions!\n",
    "data = pd.read_pickle(experiments[0].data_path)\n",
    "folds = pd.read_csv(experiments[0].folds_path, squeeze=True, index_col=\"_id\")\n",
    "\n",
    "def process_experiment(experiment):\n",
    "  assert experiment.data_path == experiments[0].data_path\n",
    "  assert experiment.folds_path == experiments[0].folds_path  \n",
    "  model = MEGNetModel.from_file(os.path.join(experiment.model_path))\n",
    "  return model.predict_structures(data.defect_representation)"
   ]
  },
  {
   "cell_type": "code",
   "execution_count": null,
   "metadata": {},
   "outputs": [],
   "source": [
    "from multiprocessing import Pool\n",
    "with Pool(20) as p:\n",
    "  predictions = p.map(process_experiment, experiments)"
   ]
  },
  {
   "cell_type": "code",
   "execution_count": null,
   "metadata": {},
   "outputs": [],
   "source": [
    "def get_test_prediction_column(target):\n",
    "  return f\"test_predicted_{target}\""
   ]
  },
  {
   "cell_type": "code",
   "execution_count": null,
   "metadata": {},
   "outputs": [],
   "source": [
    "maes = defaultdict(list)\n",
    "columns_to_save = set()\n",
    "for experiment, this_predictions in zip(experiments, predictions):\n",
    "  test_prediction_column = get_test_prediction_column(experiment.target)\n",
    "  columns_to_save.add(test_prediction_column)\n",
    "  predictions_pd = pd.Series(data=this_predictions.ravel(), index=data.index)\n",
    "  train_prediction_column = f\"train_fold_-{experiment.test_fold}_predicted_{experiment.target}\"\n",
    "  columns_to_save.add(train_prediction_column)\n",
    "  \n",
    "  test_ids = folds[folds == experiment.test_fold].index\n",
    "  train_ids = folds[folds != experiment.test_fold].index\n",
    "  \n",
    "  data.loc[test_ids, test_prediction_column] = predictions_pd.loc[test_ids]\n",
    "  data.loc[train_ids, train_prediction_column] = predictions_pd.loc[train_ids]\n",
    "  maes[experiment.target].append(np.mean(np.abs(\n",
    "    predictions_pd.loc[test_ids] - data.loc[test_ids, experiment.target])))"
   ]
  },
  {
   "cell_type": "code",
   "execution_count": null,
   "metadata": {},
   "outputs": [],
   "source": [
    "targets = set(map(lambda e: e.target, experiments))"
   ]
  },
  {
   "cell_type": "code",
   "execution_count": null,
   "metadata": {},
   "outputs": [],
   "source": [
    "def plot_target(target, data_name):\n",
    "  fig, ax = plt.subplots()\n",
    "  mae = np.mean(maes[target])\n",
    "  mae_std = np.std(maes[target])\n",
    "  test_prediction_column = get_test_prediction_column(target)\n",
    "  ax.scatter(data.loc[:, target], data.loc[:, test_prediction_column],\n",
    "             label=f\"{data_name}, $MAE={mae:.4f} \\pm {mae_std:.4f}$\",\n",
    "             alpha=0.5)\n",
    "  \n",
    "  ax.set_xlabel(f\"DFT {target}, eV\")\n",
    "  ax.set_ylabel(f\"Predicted {target}, eV\")\n",
    "  ax.legend()\n",
    "\n",
    "  lims = [\n",
    "    np.min([ax.get_xlim(), ax.get_ylim()]),\n",
    "    np.max([ax.get_xlim(), ax.get_ylim()]),\n",
    "  ]\n",
    "\n",
    "  ax.plot(lims, lims, 'k-', alpha=0.75, zorder=0)\n",
    "  ax.set_aspect('equal')\n",
    "  ax.set_xlim(lims)\n",
    "  ax.set_ylim(lims)\n",
    "  fig.savefig(os.path.join(plots_path, f\"{target}_{data_name}.pdf\"),\n",
    "              bbox_inches=\"tight\",\n",
    "              metadata={\n",
    "                \"Author\": \"Nikita Kazeev\",\n",
    "                \"Title\": f\"MEGNet on sparse defect representation, {target}, {data_name}\",\n",
    "                \"Keywords\": \"2D materials, machine learning, graph neural network, MEGNet\"}\n",
    "             )"
   ]
  },
  {
   "cell_type": "code",
   "execution_count": null,
   "metadata": {},
   "outputs": [],
   "source": [
    "for target in targets:\n",
    "  plot_target(target, \"all_structs_cv_8\")"
   ]
  },
  {
   "cell_type": "code",
   "execution_count": null,
   "metadata": {},
   "outputs": [],
   "source": [
    "data.to_csv(os.path.join(predictions_save_path, \"full.csv.gz\"),\n",
    "            columns=columns_to_save, index_label=\"_id\")"
   ]
  }
 ],
 "metadata": {
  "kernelspec": {
   "display_name": "Python 3",
   "language": "python",
   "name": "python3"
  },
  "language_info": {
   "codemirror_mode": {
    "name": "ipython",
    "version": 3
   },
   "file_extension": ".py",
   "mimetype": "text/x-python",
   "name": "python",
   "nbconvert_exporter": "python",
   "pygments_lexer": "ipython3",
   "version": "3.6.9"
  }
 },
 "nbformat": 4,
 "nbformat_minor": 4
}
