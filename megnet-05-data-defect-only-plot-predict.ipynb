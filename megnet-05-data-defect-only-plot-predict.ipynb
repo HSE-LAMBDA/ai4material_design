{
 "cells": [
  {
   "cell_type": "code",
   "execution_count": 1,
   "metadata": {},
   "outputs": [
    {
     "name": "stdout",
     "output_type": "stream",
     "text": [
      "env: CUDA_VISIBLE_DEVICES=\n"
     ]
    }
   ],
   "source": [
    "%env CUDA_VISIBLE_DEVICES="
   ]
  },
  {
   "cell_type": "code",
   "execution_count": 2,
   "metadata": {},
   "outputs": [],
   "source": [
    "import os\n",
    "import matplotlib.pyplot as plt\n",
    "import pandas as pd\n",
    "import numpy as np\n",
    "from sklearn.model_selection import train_test_split\n",
    "from megnet.models import MEGNetModel"
   ]
  },
  {
   "cell_type": "code",
   "execution_count": 3,
   "metadata": {},
   "outputs": [],
   "source": [
    "targets = [\"homo\", \"formation_energy\"]\n",
    "experiments = {\"clean_vac_only\": r\"datasets/{}_defects_vac_only.pickle.gzip\",\n",
    "               \"clean_full\": r\"datasets/{}_defects.pickle.gzip\"}"
   ]
  },
  {
   "cell_type": "code",
   "execution_count": 4,
   "metadata": {},
   "outputs": [],
   "source": [
    "model_root = os.path.join(\"models\", \"MEGNet-defect-only\")"
   ]
  },
  {
   "cell_type": "code",
   "execution_count": 5,
   "metadata": {},
   "outputs": [],
   "source": [
    "save_path = os.path.join(\"datasets\", \"predicted_dichalcogenides_innopolis_202105_v2\")"
   ]
  },
  {
   "cell_type": "code",
   "execution_count": 6,
   "metadata": {},
   "outputs": [],
   "source": [
    "def get_prediction_column(target):\n",
    "  return f\"predicted_{target}\""
   ]
  },
  {
   "cell_type": "code",
   "execution_count": 7,
   "metadata": {},
   "outputs": [],
   "source": [
    "columns_to_save = [\"_id\"] + targets + list(map(get_prediction_column, targets))"
   ]
  },
  {
   "cell_type": "code",
   "execution_count": 8,
   "metadata": {},
   "outputs": [],
   "source": [
    "def process_experiment(experiment_name, data_path):\n",
    "  data = {}\n",
    "  for data_part in (\"train\", \"test\"):\n",
    "    data[data_part] = pd.read_pickle(data_path.format(data_part))\n",
    "  for target in targets:\n",
    "    prediction_column = get_prediction_column(target)\n",
    "    model = MEGNetModel.from_file(os.path.join(model_root, target, experiment_name))\n",
    "    for this_data in data.values():\n",
    "      this_data.loc[:, prediction_column] = model.predict_structures(this_data.defect_representation)\n",
    "    fig, ax = plt.subplots()\n",
    "    for data_name, data_part in data.items():\n",
    "      ax.scatter(data_part.loc[:, target], data_part.loc[:, prediction_column],\n",
    "               label=f\"{data_name}, MAE=\"\n",
    "               f\"{np.mean(np.abs(data_part.loc[:, target]-data_part.loc[:, prediction_column])):.4f}\",\n",
    "               alpha=0.5)\n",
    "    ax.set_xlabel(f\"DFT {target}, eV\")\n",
    "    ax.set_ylabel(f\"Predicted {target}, eV\")\n",
    "    ax.legend()\n",
    "\n",
    "    lims = [\n",
    "        np.min([ax.get_xlim(), ax.get_ylim()]),\n",
    "        np.max([ax.get_xlim(), ax.get_ylim()]),\n",
    "      ]\n",
    "\n",
    "    ax.plot(lims, lims, 'k-', alpha=0.75, zorder=0)\n",
    "    ax.set_aspect('equal')\n",
    "    ax.set_xlim(lims)\n",
    "    ax.set_ylim(lims)\n",
    "    ax.set_title(experiment_name)\n",
    "  for data_name, data_part in data.items():\n",
    "    data_part.to_csv(os.path.join(save_path, f\"{experiment_name}_{data_name}.csv\"))"
   ]
  },
  {
   "cell_type": "code",
   "execution_count": null,
   "metadata": {},
   "outputs": [],
   "source": [
    "for name, path in experiments.items():\n",
    "  process_experiment(name, path)"
   ]
  }
 ],
 "metadata": {
  "kernelspec": {
   "display_name": "Python 3",
   "language": "python",
   "name": "python3"
  },
  "language_info": {
   "codemirror_mode": {
    "name": "ipython",
    "version": 3
   },
   "file_extension": ".py",
   "mimetype": "text/x-python",
   "name": "python",
   "nbconvert_exporter": "python",
   "pygments_lexer": "ipython3",
   "version": "3.6.9"
  }
 },
 "nbformat": 4,
 "nbformat_minor": 4
}
