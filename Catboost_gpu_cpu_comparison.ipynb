{
 "cells": [
  {
   "cell_type": "code",
   "execution_count": 9,
   "id": "anonymous-spell",
   "metadata": {},
   "outputs": [],
   "source": [
    "import pandas as pd\n",
    "import numpy as np\n",
    "from catboost import CatBoostRegressor, Pool\n",
    "from screening.scripts.dataset import collect_features, collect_properties\n",
    "\n",
    "from sklearn.model_selection import KFold\n",
    "from sklearn.metrics import mean_absolute_error\n",
    "from bson import ObjectId\n",
    "\n",
    "from sklearn.model_selection import train_test_split"
   ]
  },
  {
   "cell_type": "code",
   "execution_count": 2,
   "id": "automotive-bobby",
   "metadata": {},
   "outputs": [],
   "source": [
    "database='dichalcogenides'"
   ]
  },
  {
   "cell_type": "code",
   "execution_count": 3,
   "id": "hungry-fever",
   "metadata": {},
   "outputs": [],
   "source": [
    "features = collect_features(database).set_index(\"_id\")\n",
    "target = collect_properties(database).set_index(\"_id\")"
   ]
  },
  {
   "cell_type": "code",
   "execution_count": 4,
   "id": "simple-honolulu",
   "metadata": {},
   "outputs": [],
   "source": [
    "property_ = 'energy_per_atom'"
   ]
  },
  {
   "cell_type": "code",
   "execution_count": 5,
   "id": "experimental-cigarette",
   "metadata": {},
   "outputs": [],
   "source": [
    "df = features.join(target[property_])\n",
    "supervised = df[df[property_].notna()]\n",
    "unsupervised = df[df[property_].isna()].drop([property_], axis = 1)\n",
    "x = supervised.drop([property_], axis=1)\n",
    "y = supervised[property_]"
   ]
  },
  {
   "cell_type": "code",
   "execution_count": 6,
   "id": "a7f4d17d",
   "metadata": {},
   "outputs": [],
   "source": [
    "x_train, x_test, y_train, y_test = train_test_split(x, y, test_size=0.3, random_state=0)"
   ]
  },
  {
   "cell_type": "code",
   "execution_count": 12,
   "id": "extensive-capability",
   "metadata": {},
   "outputs": [
    {
     "name": "stdout",
     "output_type": "stream",
     "text": [
      "0:\tlearn: 0.3032513\ttotal: 429ms\tremaining: 14m 16s\n",
      "500:\tlearn: 0.0014099\ttotal: 1m 32s\tremaining: 4m 36s\n",
      "1000:\tlearn: 0.0007684\ttotal: 2m 53s\tremaining: 2m 53s\n",
      "1500:\tlearn: 0.0005258\ttotal: 4m 13s\tremaining: 1m 24s\n",
      "1999:\tlearn: 0.0004213\ttotal: 5m 32s\tremaining: 0us\n"
     ]
    }
   ],
   "source": [
    "model_cpu = CatBoostRegressor(iterations=2000, loss_function='MAE',\n",
    "                              verbose=500, random_seed=0)\n",
    "model_cpu.fit(x_train, y_train)\n",
    "cpu_pred = model_cpu.predict(x_test)\n",
    "cpu_mae = mean_absolute_error(cpu_pred, y_test)"
   ]
  },
  {
   "cell_type": "code",
   "execution_count": 24,
   "id": "5a0bcc08",
   "metadata": {},
   "outputs": [
    {
     "name": "stderr",
     "output_type": "stream",
     "text": [
      "Custom logger is already specified. Specify more than one logger at same time is not thread safe.Warning: less than 75% gpu memory available for training. Free: 20799.5 Total: 32510.5\n",
      "Warning: less than 75% gpu memory available for training. Free: 2492.5 Total: 32510.5\n"
     ]
    },
    {
     "name": "stdout",
     "output_type": "stream",
     "text": [
      "0:\tlearn: 0.3036755\ttotal: 852ms\tremaining: 28m 22s\n",
      "500:\tlearn: 0.0015039\ttotal: 5m 53s\tremaining: 17m 38s\n",
      "1000:\tlearn: 0.0010193\ttotal: 10m 37s\tremaining: 10m 36s\n",
      "1500:\tlearn: 0.0008181\ttotal: 15m 13s\tremaining: 5m 3s\n",
      "1999:\tlearn: 0.0006988\ttotal: 20m 27s\tremaining: 0us\n"
     ]
    }
   ],
   "source": [
    "model_gpu = CatBoostRegressor(iterations=2000, loss_function='MAE', task_type=\"GPU\", #devices=10,\n",
    "                               verbose=500, random_seed=0)\n",
    "model_gpu.fit(x_train, y_train)\n",
    "gpu_pred = model_gpu.predict(x_test)\n",
    "gpu_mae = mean_absolute_error(gpu_pred, y_test)"
   ]
  },
  {
   "cell_type": "code",
   "execution_count": 28,
   "id": "42164a0b",
   "metadata": {},
   "outputs": [
    {
     "name": "stderr",
     "output_type": "stream",
     "text": [
      "Warning: less than 75% gpu memory available for training. Free: 20799.5 Total: 32510.5\n",
      "Warning: less than 75% gpu memory available for training. Free: 23037.5 Total: 32510.5\n"
     ]
    },
    {
     "name": "stdout",
     "output_type": "stream",
     "text": [
      "0:\tlearn: 0.3036709\ttotal: 451ms\tremaining: 15m 1s\n",
      "500:\tlearn: 0.0015194\ttotal: 3m 15s\tremaining: 9m 44s\n",
      "1000:\tlearn: 0.0009630\ttotal: 6m 38s\tremaining: 6m 38s\n",
      "1500:\tlearn: 0.0007544\ttotal: 10m 1s\tremaining: 3m 20s\n",
      "1999:\tlearn: 0.0006429\ttotal: 13m 17s\tremaining: 0us\n"
     ]
    }
   ],
   "source": [
    "model_gpu_b = CatBoostRegressor(iterations=2000, loss_function='MAE', task_type=\"GPU\",  bootstrap_type='Bernoulli',\n",
    "                               verbose=500, random_seed=0)\n",
    "model_gpu_b.fit(x_train, y_train)\n",
    "gpu_b_pred = model_gpu_b.predict(x_test)\n",
    "gpu_b_mae = mean_absolute_error(gpu_b_pred, y_test)"
   ]
  },
  {
   "cell_type": "code",
   "execution_count": 15,
   "id": "bridal-tracker",
   "metadata": {},
   "outputs": [],
   "source": [
    "from matplotlib import pyplot as plt"
   ]
  },
  {
   "cell_type": "code",
   "execution_count": 30,
   "id": "7d51eb0b",
   "metadata": {},
   "outputs": [
    {
     "data": {
      "text/plain": [
       "<BarContainer object of 3 artists>"
      ]
     },
     "execution_count": 30,
     "metadata": {},
     "output_type": "execute_result"
    },
    {
     "data": {
      "image/png": "[encoded data removed]",
      "text/plain": [
       "<Figure size 432x288 with 1 Axes>"
      ]
     },
     "metadata": {
      "needs_background": "light"
     },
     "output_type": "display_data"
    }
   ],
   "source": [
    "plt.bar([\"GPU MAE\", \"GPU with Berboulli MAE\", \"CPU MAE\",], [gpu_mae, gpu_b_mae, cpu_mae])"
   ]
  },
  {
   "cell_type": "code",
   "execution_count": null,
   "id": "115a28f4",
   "metadata": {},
   "outputs": [],
   "source": []
  }
 ],
 "metadata": {
  "kernelspec": {
   "display_name": "screening",
   "language": "python",
   "name": "screening"
  },
  "language_info": {
   "codemirror_mode": {
    "name": "ipython",
    "version": 3
   },
   "file_extension": ".py",
   "mimetype": "text/x-python",
   "name": "python",
   "nbconvert_exporter": "python",
   "pygments_lexer": "ipython3",
   "version": "3.8.12"
  }
 },
 "nbformat": 4,
 "nbformat_minor": 5
}
