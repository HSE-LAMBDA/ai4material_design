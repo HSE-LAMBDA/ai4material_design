{
 "cells": [
  {
   "cell_type": "code",
   "execution_count": 1,
   "metadata": {},
   "outputs": [
    {
     "name": "stdout",
     "output_type": "stream",
     "text": [
      "env: CUDA_DEVICE_ORDER=PCI_BUS_ID\n",
      "env: CUDA_VISIBLE_DEVICES=1\n"
     ]
    }
   ],
   "source": [
    "%env CUDA_DEVICE_ORDER=PCI_BUS_ID\n",
    "%env CUDA_VISIBLE_DEVICES=1"
   ]
  },
  {
   "cell_type": "code",
   "execution_count": 2,
   "metadata": {},
   "outputs": [],
   "source": [
    "%matplotlib inline"
   ]
  },
  {
   "cell_type": "code",
   "execution_count": 3,
   "metadata": {},
   "outputs": [],
   "source": [
    "import numpy as np\n",
    "import pandas as pd\n",
    "import sys\n",
    "import torch.nn as nn\n",
    "import torch\n",
    "sys.path.append(\"./set_transformer\")\n",
    "from modules import ISAB, PMA, SAB\n",
    "import matplotlib.pyplot as plt"
   ]
  },
  {
   "cell_type": "code",
   "execution_count": 4,
   "metadata": {},
   "outputs": [],
   "source": [
    "from sklearn.model_selection import train_test_split\n",
    "def build_dataset():\n",
    "    data_gpaw = pd.read_pickle(\"data/gpaw_forces_dataframe.pickle\")\n",
    "    data_vasp = pd.read_pickle(\"data/VASP_MoS2_defects.pickle\")\n",
    "    assert (data_vasp.structures.iloc[0].lattice._matrix == data_gpaw.structure.iloc[0].cell.array).all()\n",
    "    \n",
    "    positions = np.concatenate([i.positions[np.newaxis, :, :] for i in data_gpaw.structure] +\n",
    "                               [i.cart_coords[np.newaxis, :, :] for i in data_vasp.structures],\n",
    "                               axis=0).astype(np.float32)\n",
    "    #positions -= positions.mean(axis=(0,1), keepdims=True)\n",
    "    #positions /= positions.std(axis=(0,1), keepdims=True)\n",
    "    \n",
    "    energies = np.concatenate([data_gpaw.energy.values, data_vasp.energy.values]).astype(np.float32)\n",
    "    energies -= energies.mean()\n",
    "    \n",
    "    forces = np.concatenate([f[np.newaxis, :, :] for f in data_gpaw.forces] +\n",
    "                            [np.zeros((len(data_vasp), positions.shape[1], positions.shape[2]), dtype=np.float32)],\n",
    "                            axis=0).astype(np.float32)\n",
    "    \n",
    "    types = np.concatenate([i.get_atomic_numbers()[np.newaxis, :] for i in data_gpaw.structure] + \n",
    "                           [np.array(i.atomic_numbers)[np.newaxis, :] for i in data_vasp.structures],\n",
    "                           axis=0).astype(np.int32)\n",
    "    return list(map(np.array,\n",
    "                    train_test_split(positions, types, energies, forces, test_size=0.25, random_state=1421))),\\\n",
    "           data_gpaw.structure.iloc[0].cell.array.astype(np.float32)"
   ]
  },
  {
   "cell_type": "code",
   "execution_count": 5,
   "metadata": {},
   "outputs": [],
   "source": [
    "class SetTransformer(nn.Module):\n",
    "    def __init__(\n",
    "        self,\n",
    "        dim_input=4,\n",
    "        num_outputs=1,\n",
    "        dim_output=1,\n",
    "        num_inds=32,\n",
    "        dim_hidden=128,\n",
    "        num_heads=4,\n",
    "        ln=False,\n",
    "    ):\n",
    "        super(SetTransformer, self).__init__()\n",
    "        self.enc = nn.Sequential(\n",
    "            ISAB(dim_input, dim_hidden, num_heads, num_inds, ln=ln),\n",
    "            ISAB(dim_hidden, dim_hidden, num_heads, num_inds, ln=ln),\n",
    "            ISAB(dim_hidden, dim_hidden, num_heads, num_inds, ln=ln),\n",
    "            ISAB(dim_hidden, dim_hidden, num_heads, num_inds, ln=ln),\n",
    "            ISAB(dim_hidden, dim_hidden, num_heads, num_inds, ln=ln),\n",
    "            ISAB(dim_hidden, dim_hidden, num_heads, num_inds, ln=ln),\n",
    "            ISAB(dim_hidden, dim_hidden, num_heads, num_inds, ln=ln),\n",
    "        )\n",
    "        self.dec = nn.Sequential(\n",
    "            nn.Dropout(),\n",
    "            PMA(dim_hidden, num_heads, num_outputs, ln=ln),\n",
    "            nn.Dropout(),\n",
    "            nn.Linear(dim_hidden, dim_hidden),\n",
    "            nn.ReLU(),\n",
    "            nn.Linear(dim_hidden, dim_hidden),\n",
    "            nn.ReLU(),\n",
    "            nn.Linear(dim_hidden, dim_output),\n",
    "        )\n",
    "\n",
    "    def forward(self, X):\n",
    "        return self.dec(self.enc(X)).squeeze()"
   ]
  },
  {
   "cell_type": "code",
   "execution_count": 6,
   "metadata": {},
   "outputs": [
    {
     "name": "stdout",
     "output_type": "stream",
     "text": [
      "positions.shape = (616, 105, 3)\n",
      "<E> = 0.01615886017680168\n"
     ]
    }
   ],
   "source": [
    "(positions, test_positions, \\\n",
    "types, test_types, \\\n",
    "energies, test_energies, \\\n",
    "forces, test_forces), lattice = build_dataset()\n",
    "species = (types==types[0,0]).astype(np.float32)\n",
    "energy_mean = np.mean(energies)\n",
    "print('positions.shape = {}'.format(positions.shape))\n",
    "print('<E> = {}'.format(energy_mean))"
   ]
  },
  {
   "cell_type": "code",
   "execution_count": 7,
   "metadata": {},
   "outputs": [
    {
     "name": "stderr",
     "output_type": "stream",
     "text": [
      "./set_transformer/modules.py:46: UserWarning:\n",
      "\n",
      "Legacy tensor constructor is deprecated. Use: torch.tensor(...) for creating tensors from tensor-like objects; or torch.empty(...) for creating an uninitialized tensor with specific sizes. (Triggered internally at  /temporary/pytorch/torch/csrc/utils/tensor_new.cpp:477.)\n",
      "\n"
     ]
    }
   ],
   "source": [
    "model = SetTransformer(dim_hidden=256, num_heads=4, num_inds=16).cuda()"
   ]
  },
  {
   "cell_type": "code",
   "execution_count": 8,
   "metadata": {},
   "outputs": [],
   "source": [
    "inputs_t = torch.Tensor(np.concatenate([positions, np.expand_dims(species, -1)], axis=2)).cuda()\n",
    "energies_t = torch.Tensor(energies).cuda()"
   ]
  },
  {
   "cell_type": "code",
   "execution_count": 9,
   "metadata": {},
   "outputs": [],
   "source": [
    "optimizer = torch.optim.Adam(model.parameters(), lr=1e-4)\n",
    "criterion = nn.MSELoss()\n",
    "losses = []"
   ]
  },
  {
   "cell_type": "code",
   "execution_count": 10,
   "metadata": {},
   "outputs": [
    {
     "name": "stdout",
     "output_type": "stream",
     "text": [
      "Train RMSE 0.753 eV\n",
      "Train RMSE 0.738 eV\n",
      "Train RMSE 0.738 eV\n",
      "Train RMSE 0.738 eV\n",
      "Train RMSE 0.741 eV\n",
      "Train RMSE 0.738 eV\n",
      "Train RMSE 0.738 eV\n",
      "Train RMSE 0.740 eV\n",
      "Train RMSE 0.739 eV\n",
      "Train RMSE 0.738 eV\n",
      "Train RMSE 0.735 eV\n",
      "Train RMSE 0.739 eV\n",
      "Train RMSE 0.738 eV\n",
      "Train RMSE 0.743 eV\n",
      "Train RMSE 0.738 eV\n",
      "Train RMSE 0.737 eV\n",
      "Train RMSE 0.737 eV\n",
      "Train RMSE 0.738 eV\n",
      "Train RMSE 0.739 eV\n",
      "Train RMSE 0.739 eV\n",
      "Train RMSE 0.737 eV\n",
      "Train RMSE 0.735 eV\n",
      "Train RMSE 0.736 eV\n",
      "Train RMSE 0.741 eV\n",
      "Train RMSE 0.734 eV\n",
      "Train RMSE 0.741 eV\n",
      "Train RMSE 0.738 eV\n",
      "Train RMSE 0.738 eV\n",
      "Train RMSE 0.741 eV\n",
      "Train RMSE 0.742 eV\n"
     ]
    }
   ],
   "source": [
    "model.train()\n",
    "for iteration in range(30):\n",
    "  preds = model(inputs_t)\n",
    "  loss = criterion(preds, energies_t)\n",
    "  optimizer.zero_grad()\n",
    "  loss.backward()\n",
    "  optimizer.step()\n",
    "  losses.append(loss.item())\n",
    "  print(f\"Train RMSE {np.sqrt(losses[-1]):.3f} eV\")"
   ]
  },
  {
   "cell_type": "code",
   "execution_count": 11,
   "metadata": {},
   "outputs": [],
   "source": [
    "preds_np = preds.cpu().detach().numpy()"
   ]
  },
  {
   "cell_type": "code",
   "execution_count": 12,
   "metadata": {},
   "outputs": [
    {
     "data": {
      "image/png": "[encoded data removed]",
      "text/plain": [
       "<Figure size 432x288 with 1 Axes>"
      ]
     },
     "metadata": {
      "needs_background": "light"
     },
     "output_type": "display_data"
    }
   ],
   "source": [
    "fig, ax = plt.subplots()\n",
    "ax.scatter(energies, preds_np)\n",
    "ax.set_ylabel(\"Normed predicted total energy, eV\")\n",
    "ax.set_xlabel(\"Normed DFT total energy, eV\");"
   ]
  }
 ],
 "metadata": {
  "kernelspec": {
   "display_name": "Python 3",
   "language": "python",
   "name": "python3"
  },
  "language_info": {
   "codemirror_mode": {
    "name": "ipython",
    "version": 3
   },
   "file_extension": ".py",
   "mimetype": "text/x-python",
   "name": "python",
   "nbconvert_exporter": "python",
   "pygments_lexer": "ipython3",
   "version": "3.6.9"
  }
 },
 "nbformat": 4,
 "nbformat_minor": 4
}
