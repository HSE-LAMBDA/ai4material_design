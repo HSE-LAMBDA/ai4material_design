{
 "cells": [
  {
   "cell_type": "code",
   "execution_count": 1,
   "metadata": {},
   "outputs": [],
   "source": [
    "import os\n",
    "import matplotlib.pyplot as plt\n",
    "import pandas as pd\n",
    "import numpy as np\n",
    "from sklearn.model_selection import train_test_split\n",
    "from megnet.models import MEGNetModel\n",
    "from megnet_graphs_train import get_8x8_experiments"
   ]
  },
  {
   "cell_type": "code",
   "execution_count": 2,
   "metadata": {},
   "outputs": [],
   "source": [
    "experiments = filter(lambda e: e.target==\"formation_energy\", get_8x8_experiments())"
   ]
  },
  {
   "cell_type": "code",
   "execution_count": 3,
   "metadata": {},
   "outputs": [],
   "source": [
    "save_path = os.path.join(\"datasets\", \"predicted_dichalcogenides_innopolis_202105_v5\")\n",
    "plots_path = os.path.join(save_path, \"plots\")"
   ]
  },
  {
   "cell_type": "code",
   "execution_count": 4,
   "metadata": {},
   "outputs": [],
   "source": [
    "def get_prediction_column(target):\n",
    "  return f\"predicted_{target}\""
   ]
  },
  {
   "cell_type": "code",
   "execution_count": 5,
   "metadata": {},
   "outputs": [],
   "source": [
    "def process_experiment(experiment):\n",
    "  assert experiment.target == \"formation_energy\"\n",
    "  data = {}\n",
    "  results = {}\n",
    "  results.update(experiment.__dict__)\n",
    "  data[\"train\"] = pd.read_pickle(experiment.train_path).set_index(\"_id\")\n",
    "  data[\"test\"] = pd.read_pickle(experiment.test_path).set_index(\"_id\")\n",
    "  for data_part in (\"train\", \"test\"):\n",
    "    results[f\"{data_part}_size\"] = len(data[data_part])\n",
    "    \n",
    "  formation_prediction_column = get_prediction_column(experiment.target)\n",
    "  energy_column = \"energy\"\n",
    "  energy_prediction_column = get_prediction_column(energy_column)\n",
    "  energy_per_atom_column = \"energy_per_atom\"\n",
    "  energy_per_atom_prediction_column = get_prediction_column(energy_per_atom_column)\n",
    "  \n",
    "  for data_name, this_data in data.items():\n",
    "    prediction_file = pd.read_csv(\n",
    "      os.path.join(save_path, f\"{experiment.name}_{experiment.target}_{data_name}.csv.gz\"), index_col=\"_id\")\n",
    "    this_data.loc[:, formation_prediction_column] = prediction_file.loc[:, formation_prediction_column]\n",
    "    this_data.loc[:, energy_prediction_column] = this_data.loc[:, energy_column] - \\\n",
    "      this_data.loc[:, \"formation_energy\"] + this_data.loc[:, formation_prediction_column]\n",
    "    n_atoms = this_data.loc[:, energy_column]/this_data.loc[:, energy_per_atom_column]\n",
    "    this_data.loc[:, energy_per_atom_prediction_column] = this_data.loc[:, energy_prediction_column]/n_atoms\n",
    "  \n",
    "  fig, ax = plt.subplots()\n",
    "  for data_name, data_part in data.items():\n",
    "    errors = np.abs(data_part.loc[:, energy_per_atom_column] - data_part.loc[:, energy_per_atom_prediction_column])\n",
    "    mae = np.mean(errors)\n",
    "    mae_std = np.std(errors)\n",
    "    results[f\"{data_name}_mae\"] = mae\n",
    "    results[f\"{data_name}_mae_std\"] = mae_std\n",
    "    ax.scatter(data_part.loc[:, energy_per_atom_column], data_part.loc[:, energy_per_atom_prediction_column],\n",
    "               label=f\"{data_name}, $MAE={mae:.4f} \\pm {mae_std:.4f}$\",\n",
    "               alpha=0.5)\n",
    "  ax.set_xlabel(f\"DFT {energy_per_atom_column}, eV\")\n",
    "  ax.set_ylabel(f\"Predicted {energy_per_atom_column}, eV\")\n",
    "  ax.legend()\n",
    "\n",
    "  lims = [\n",
    "      np.min([ax.get_xlim(), ax.get_ylim()]),\n",
    "      np.max([ax.get_xlim(), ax.get_ylim()]),\n",
    "    ]\n",
    "\n",
    "  ax.plot(lims, lims, 'k-', alpha=0.75, zorder=0)\n",
    "  ax.set_aspect('equal')\n",
    "  ax.set_xlim(lims)\n",
    "  ax.set_ylim(lims)\n",
    "  ax.set_title(f\"{experiment.name}, train size={len(data['train'])}\")\n",
    "  fig.savefig(os.path.join(plots_path, f\"{energy_per_atom_column}_{experiment.name}.pdf\"),\n",
    "              bbox_inches=\"tight\",\n",
    "              metadata={\n",
    "                \"Author\": \"Nikita Kazeev\",\n",
    "                \"Title\": f\"MEGNet on defect-only representation, {energy_per_atom_column}, {experiment.name}\",\n",
    "                \"Keywords\": \"2D materials, machine learning, graph neural network, MEGNet\"}\n",
    "             )\n",
    "  return results"
   ]
  },
  {
   "cell_type": "code",
   "execution_count": 6,
   "metadata": {},
   "outputs": [],
   "source": [
    "from multiprocessing import Pool\n",
    "with Pool(20) as p:\n",
    "  results = p.map(process_experiment, experiments)"
   ]
  }
 ],
 "metadata": {
  "kernelspec": {
   "display_name": "Python 3",
   "language": "python",
   "name": "python3"
  },
  "language_info": {
   "codemirror_mode": {
    "name": "ipython",
    "version": 3
   },
   "file_extension": ".py",
   "mimetype": "text/x-python",
   "name": "python",
   "nbconvert_exporter": "python",
   "pygments_lexer": "ipython3",
   "version": "3.6.9"
  }
 },
 "nbformat": 4,
 "nbformat_minor": 4
}
