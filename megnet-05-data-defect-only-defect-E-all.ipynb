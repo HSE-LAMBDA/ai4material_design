{
 "cells": [
  {
   "cell_type": "code",
   "execution_count": 1,
   "metadata": {},
   "outputs": [
    {
     "name": "stdout",
     "output_type": "stream",
     "text": [
      "env: CUDA_DEVICE_ORDER=PCI_BUS_ID\n",
      "env: CUDA_VISIBLE_DEVICES=2\n",
      "env: TF_FORCE_GPU_ALLOW_GROWTH=true\n"
     ]
    }
   ],
   "source": [
    "%env CUDA_DEVICE_ORDER=PCI_BUS_ID\n",
    "%env CUDA_VISIBLE_DEVICES=2\n",
    "%env TF_FORCE_GPU_ALLOW_GROWTH=true"
   ]
  },
  {
   "cell_type": "code",
   "execution_count": 2,
   "metadata": {},
   "outputs": [],
   "source": [
    "import os\n",
    "import pymatgen\n",
    "import matplotlib.pyplot as plt\n",
    "import pandas as pd"
   ]
  },
  {
   "cell_type": "code",
   "execution_count": 3,
   "metadata": {},
   "outputs": [],
   "source": [
    "structures = pd.read_pickle(\"datasets/structures_defects.pickle.gzip\")"
   ]
  },
  {
   "cell_type": "code",
   "execution_count": 4,
   "metadata": {},
   "outputs": [],
   "source": [
    "# TODO(inner perfectionist) eval is unsecure\n",
    "defects = pd.read_csv(\n",
    "  \"datasets/dichalcogenides_innopolis_202105/descriptors.csv\", index_col=\"_id\",\n",
    "  converters={\"cell\": eval, \"defects\": eval})"
   ]
  },
  {
   "cell_type": "code",
   "execution_count": 5,
   "metadata": {},
   "outputs": [],
   "source": [
    "from megnet.models import MEGNetModel\n",
    "from megnet.data.graph import GaussianDistance\n",
    "from megnet.data.crystal import CrystalGraph\n",
    "from megnet.utils.preprocessing import StandardScaler\n",
    "from megnet.callbacks import ModelCheckpointMAE\n",
    "from pymatgen.core import Lattice, Structure, Molecule\n",
    "\n",
    "import tensorflow as tf\n",
    "import numpy as np"
   ]
  },
  {
   "cell_type": "code",
   "execution_count": 6,
   "metadata": {},
   "outputs": [],
   "source": [
    "import wandb\n",
    "from wandb.keras import WandbCallback"
   ]
  },
  {
   "cell_type": "code",
   "execution_count": 7,
   "metadata": {},
   "outputs": [],
   "source": [
    "from sklearn.model_selection import train_test_split"
   ]
  },
  {
   "cell_type": "code",
   "execution_count": 8,
   "metadata": {},
   "outputs": [],
   "source": [
    "# TODO(kazeevn) pass structure as the global state\n",
    "train, test = train_test_split(structures, test_size=0.25, random_state=42)"
   ]
  },
  {
   "cell_type": "code",
   "execution_count": 9,
   "metadata": {},
   "outputs": [
    {
     "name": "stderr",
     "output_type": "stream",
     "text": [
      "\u001b[34m\u001b[1mwandb\u001b[0m: Currently logged in as: \u001b[33mkazeev\u001b[0m (use `wandb login --relogin` to force relogin)\n",
      "\u001b[34m\u001b[1mwandb\u001b[0m: wandb version 0.11.0 is available!  To upgrade, please run:\n",
      "\u001b[34m\u001b[1mwandb\u001b[0m:  $ pip install wandb --upgrade\n"
     ]
    },
    {
     "data": {
      "text/html": [
       "\n",
       "                Tracking run with wandb version 0.10.33<br/>\n",
       "                Syncing run <strong style=\"color:#cdcd00\">golden-dew-39</strong> to <a href=\"https://wandb.ai\" target=\"_blank\">Weights & Biases</a> <a href=\"https://docs.wandb.com/integrations/jupyter.html\" target=\"_blank\">(Documentation)</a>.<br/>\n",
       "                Project page: <a href=\"https://wandb.ai/kazeev/ai4material_design\" target=\"_blank\">https://wandb.ai/kazeev/ai4material_design</a><br/>\n",
       "                Run page: <a href=\"https://wandb.ai/kazeev/ai4material_design/runs/2x1w7uzb\" target=\"_blank\">https://wandb.ai/kazeev/ai4material_design/runs/2x1w7uzb</a><br/>\n",
       "                Run data is saved locally in <code>/temporary/ai4material_design/wandb/run-20210719_190245-2x1w7uzb</code><br/><br/>\n",
       "            "
      ],
      "text/plain": [
       "<IPython.core.display.HTML object>"
      ]
     },
     "metadata": {},
     "output_type": "display_data"
    },
    {
     "data": {
      "text/html": [
       "<h1>Run(2x1w7uzb)</h1><iframe src=\"https://wandb.ai/kazeev/ai4material_design/runs/2x1w7uzb\" style=\"border:none;width:100%;height:400px\"></iframe>"
      ],
      "text/plain": [
       "<wandb.sdk.wandb_run.Run at 0x7eff0358ebe0>"
      ]
     },
     "execution_count": 9,
     "metadata": {},
     "output_type": "execute_result"
    }
   ],
   "source": [
    "wandb.init(project='ai4material_design', entity='kazeev')"
   ]
  },
  {
   "cell_type": "code",
   "execution_count": 10,
   "metadata": {},
   "outputs": [],
   "source": [
    "config = wandb.config\n",
    "config.target = \"formation_energy\""
   ]
  },
  {
   "cell_type": "code",
   "execution_count": 11,
   "metadata": {},
   "outputs": [],
   "source": [
    "from typing import Union, List, Dict\n",
    "from megnet.data.graph import StructureGraphFixedRadius\n",
    "from pymatgen.analysis.local_env import NearNeighbors\n",
    "from megnet.data.graph import Converter\n",
    "class ZAwareStrucutreGraph(StructureGraphFixedRadius):\n",
    "    def __init__(\n",
    "        self,\n",
    "        nn_strategy: Union[str, NearNeighbors] = \"MinimumDistanceNNAll\",\n",
    "        atom_converter: Converter = None,\n",
    "        bond_converter: Converter = None,\n",
    "        cutoff: float = 5.0,\n",
    "    ):\n",
    "      raise NotImplemented(\"Doesn't work due to difficult estate planning\")\n",
    "      self.cutoff = cutoff\n",
    "      super().__init__(\n",
    "              nn_strategy=nn_strategy, atom_converter=atom_converter, bond_converter=bond_converter, cutoff=self.cutoff\n",
    "      )\n",
    "        \n",
    "      @staticmethod\n",
    "      def get_atom_features(structure):\n",
    "        return [[i.species.Z, i.coords[2]] for i in structure.sites]"
   ]
  },
  {
   "cell_type": "code",
   "execution_count": 12,
   "metadata": {},
   "outputs": [],
   "source": [
    "nfeat_edge = 10\n",
    "gc = CrystalGraph(bond_converter=GaussianDistance(np.linspace(0, 15, nfeat_edge), 0.5),\n",
    "                  cutoff=15)\n",
    "model = MEGNetModel(nfeat_edge=nfeat_edge, nfeat_global=2, graph_converter=gc, npass=2)"
   ]
  },
  {
   "cell_type": "code",
   "execution_count": 13,
   "metadata": {},
   "outputs": [],
   "source": [
    "scaler = StandardScaler.from_training_data(train.defect_representation,\n",
    "                                           train[config.target], is_intensive=False)\n",
    "model.target_scaler = scaler"
   ]
  },
  {
   "cell_type": "code",
   "execution_count": null,
   "metadata": {},
   "outputs": [
    {
     "name": "stdout",
     "output_type": "stream",
     "text": [
      "Epoch 1/2000\n"
     ]
    },
    {
     "name": "stderr",
     "output_type": "stream",
     "text": [
      "/usr/local/lib/python3.6/dist-packages/tensorflow/python/framework/indexed_slices.py:437: UserWarning:\n",
      "\n",
      "Converting sparse IndexedSlices(IndexedSlices(indices=Tensor(\"gradient_tape/model/set2set_atom/Reshape_9:0\", shape=(None,), dtype=int32), values=Tensor(\"gradient_tape/model/set2set_atom/Reshape_8:0\", shape=(None,), dtype=float32), dense_shape=Tensor(\"gradient_tape/model/set2set_atom/Cast:0\", shape=(1,), dtype=int32))) to a dense Tensor of unknown shape. This may consume a large amount of memory.\n",
      "\n",
      "/usr/local/lib/python3.6/dist-packages/tensorflow/python/framework/indexed_slices.py:437: UserWarning:\n",
      "\n",
      "Converting sparse IndexedSlices(IndexedSlices(indices=Tensor(\"gradient_tape/model/set2set_bond/Reshape_9:0\", shape=(None,), dtype=int32), values=Tensor(\"gradient_tape/model/set2set_bond/Reshape_8:0\", shape=(None,), dtype=float32), dense_shape=Tensor(\"gradient_tape/model/set2set_bond/Cast:0\", shape=(1,), dtype=int32))) to a dense Tensor of unknown shape. This may consume a large amount of memory.\n",
      "\n",
      "/usr/local/lib/python3.6/dist-packages/tensorflow/python/framework/indexed_slices.py:437: UserWarning:\n",
      "\n",
      "Converting sparse IndexedSlices(IndexedSlices(indices=Tensor(\"gradient_tape/model/set2set_atom/Reshape_27:0\", shape=(None,), dtype=int32), values=Tensor(\"gradient_tape/model/set2set_atom/Reshape_26:0\", shape=(None,), dtype=float32), dense_shape=Tensor(\"gradient_tape/model/set2set_atom/Cast_2:0\", shape=(1,), dtype=int32))) to a dense Tensor of unknown shape. This may consume a large amount of memory.\n",
      "\n",
      "/usr/local/lib/python3.6/dist-packages/tensorflow/python/framework/indexed_slices.py:437: UserWarning:\n",
      "\n",
      "Converting sparse IndexedSlices(IndexedSlices(indices=Tensor(\"gradient_tape/model/set2set_bond/Reshape_27:0\", shape=(None,), dtype=int32), values=Tensor(\"gradient_tape/model/set2set_bond/Reshape_26:0\", shape=(None,), dtype=float32), dense_shape=Tensor(\"gradient_tape/model/set2set_bond/Cast_2:0\", shape=(1,), dtype=int32))) to a dense Tensor of unknown shape. This may consume a large amount of memory.\n",
      "\n"
     ]
    },
    {
     "name": "stdout",
     "output_type": "stream",
     "text": [
      "21/21 [==============================] - 17s 47ms/step - loss: 1.4131\n"
     ]
    },
    {
     "name": "stderr",
     "output_type": "stream",
     "text": [
      "INFO:megnet.callbacks:\n",
      "Epoch 00001: val_mae improved from inf to 2.84860, saving model to callback/val_mae_00001_2.848598.hdf5\n"
     ]
    },
    {
     "name": "stdout",
     "output_type": "stream",
     "text": [
      "Epoch 2/2000\n",
      "21/21 [==============================] - 1s 46ms/step - loss: 0.8184\n",
      "Epoch 3/2000\n",
      "21/21 [==============================] - 1s 45ms/step - loss: 0.8891\n",
      "Epoch 4/2000\n",
      "21/21 [==============================] - 1s 46ms/step - loss: 0.8167\n",
      "Epoch 5/2000\n",
      "21/21 [==============================] - 1s 46ms/step - loss: 0.6560\n",
      "Epoch 6/2000\n",
      "21/21 [==============================] - 1s 47ms/step - loss: 0.3815\n"
     ]
    },
    {
     "name": "stderr",
     "output_type": "stream",
     "text": [
      "INFO:megnet.callbacks:\n",
      "Epoch 00006: val_mae improved from 2.84860 to 1.54246, saving model to callback/val_mae_00006_1.542458.hdf5\n"
     ]
    },
    {
     "name": "stdout",
     "output_type": "stream",
     "text": [
      "Epoch 7/2000\n",
      "21/21 [==============================] - 1s 46ms/step - loss: 0.3682\n",
      "Epoch 8/2000\n",
      "21/21 [==============================] - 1s 46ms/step - loss: 0.5270\n",
      "Epoch 9/2000\n",
      "21/21 [==============================] - 1s 46ms/step - loss: 0.4323\n",
      "Epoch 10/2000\n",
      "21/21 [==============================] - 1s 46ms/step - loss: 0.4638\n",
      "Epoch 11/2000\n",
      "21/21 [==============================] - 1s 47ms/step - loss: 0.5884\n",
      "Epoch 12/2000\n",
      "21/21 [==============================] - 1s 46ms/step - loss: 0.5313\n"
     ]
    },
    {
     "name": "stderr",
     "output_type": "stream",
     "text": [
      "INFO:megnet.callbacks:\n",
      "Epoch 00012: val_mae improved from 1.54246 to 1.48950, saving model to callback/val_mae_00012_1.489505.hdf5\n"
     ]
    },
    {
     "name": "stdout",
     "output_type": "stream",
     "text": [
      "Epoch 13/2000\n",
      "21/21 [==============================] - 1s 47ms/step - loss: 0.5980\n",
      "Epoch 14/2000\n",
      "21/21 [==============================] - 1s 48ms/step - loss: 0.6122\n",
      "Epoch 15/2000\n",
      "21/21 [==============================] - 1s 48ms/step - loss: 0.4421\n",
      "Epoch 16/2000\n",
      "21/21 [==============================] - 1s 49ms/step - loss: 0.2829\n",
      "Epoch 17/2000\n",
      "21/21 [==============================] - 1s 48ms/step - loss: 0.4553\n",
      "Epoch 18/2000\n",
      "21/21 [==============================] - 1s 49ms/step - loss: 0.4932\n",
      "Epoch 19/2000\n",
      "21/21 [==============================] - 1s 47ms/step - loss: 0.4642\n",
      "Epoch 20/2000\n",
      "21/21 [==============================] - 1s 50ms/step - loss: 0.7677\n",
      "Epoch 21/2000\n",
      "21/21 [==============================] - 1s 49ms/step - loss: 0.5536\n",
      "Epoch 22/2000\n",
      "21/21 [==============================] - 1s 49ms/step - loss: 0.4740\n",
      "Epoch 23/2000\n",
      "21/21 [==============================] - 1s 49ms/step - loss: 0.4345\n"
     ]
    },
    {
     "name": "stderr",
     "output_type": "stream",
     "text": [
      "INFO:megnet.callbacks:\n",
      "Epoch 00023: val_mae improved from 1.48950 to 1.48441, saving model to callback/val_mae_00023_1.484412.hdf5\n"
     ]
    },
    {
     "name": "stdout",
     "output_type": "stream",
     "text": [
      "Epoch 24/2000\n",
      "21/21 [==============================] - 1s 49ms/step - loss: 0.4195\n",
      "Epoch 25/2000\n",
      "21/21 [==============================] - 1s 48ms/step - loss: 0.4629\n",
      "Epoch 26/2000\n",
      "21/21 [==============================] - 1s 49ms/step - loss: 0.3510\n",
      "Epoch 27/2000\n",
      "21/21 [==============================] - 1s 49ms/step - loss: 0.3241\n",
      "Epoch 28/2000\n",
      "21/21 [==============================] - 1s 49ms/step - loss: 0.4513\n",
      "Epoch 29/2000\n",
      "21/21 [==============================] - 1s 50ms/step - loss: 0.6098\n",
      "Epoch 30/2000\n",
      "21/21 [==============================] - 1s 50ms/step - loss: 0.5952\n",
      "Epoch 31/2000\n",
      "21/21 [==============================] - 1s 49ms/step - loss: 0.4214\n",
      "Epoch 32/2000\n",
      "21/21 [==============================] - 1s 49ms/step - loss: 0.3007\n",
      "Epoch 33/2000\n",
      "21/21 [==============================] - 1s 48ms/step - loss: 0.2670\n",
      "Epoch 34/2000\n",
      "21/21 [==============================] - 1s 49ms/step - loss: 0.3044\n"
     ]
    },
    {
     "name": "stderr",
     "output_type": "stream",
     "text": [
      "INFO:megnet.callbacks:\n",
      "Epoch 00034: val_mae improved from 1.48441 to 1.46861, saving model to callback/val_mae_00034_1.468607.hdf5\n"
     ]
    },
    {
     "name": "stdout",
     "output_type": "stream",
     "text": [
      "Epoch 35/2000\n",
      "21/21 [==============================] - 1s 49ms/step - loss: 0.2693\n"
     ]
    },
    {
     "name": "stderr",
     "output_type": "stream",
     "text": [
      "INFO:megnet.callbacks:\n",
      "Epoch 00035: val_mae improved from 1.46861 to 1.46853, saving model to callback/val_mae_00035_1.468529.hdf5\n"
     ]
    },
    {
     "name": "stdout",
     "output_type": "stream",
     "text": [
      "Epoch 36/2000\n",
      "21/21 [==============================] - 1s 49ms/step - loss: 0.2743\n",
      "Epoch 37/2000\n",
      "21/21 [==============================] - 1s 49ms/step - loss: 0.4719\n",
      "Epoch 38/2000\n",
      "21/21 [==============================] - 1s 50ms/step - loss: 0.3008\n",
      "Epoch 39/2000\n",
      "21/21 [==============================] - 1s 49ms/step - loss: 0.4229\n",
      "Epoch 40/2000\n",
      "21/21 [==============================] - 1s 49ms/step - loss: 0.4421\n",
      "Epoch 41/2000\n",
      "21/21 [==============================] - 1s 50ms/step - loss: 0.3820\n",
      "Epoch 42/2000\n",
      "21/21 [==============================] - 1s 48ms/step - loss: 0.3605\n",
      "Epoch 43/2000\n",
      "21/21 [==============================] - 1s 49ms/step - loss: 0.3717\n",
      "Epoch 44/2000\n",
      "21/21 [==============================] - 1s 49ms/step - loss: 0.2937\n",
      "Epoch 45/2000\n",
      "21/21 [==============================] - 1s 48ms/step - loss: 0.4856\n",
      "Epoch 46/2000\n",
      "21/21 [==============================] - 1s 50ms/step - loss: 0.4076\n",
      "Epoch 47/2000\n",
      "21/21 [==============================] - 1s 49ms/step - loss: 0.3305\n",
      "Epoch 48/2000\n",
      "21/21 [==============================] - 1s 49ms/step - loss: 0.4262\n",
      "Epoch 49/2000\n",
      "21/21 [==============================] - 1s 49ms/step - loss: 0.5900\n",
      "Epoch 50/2000\n",
      "21/21 [==============================] - 1s 49ms/step - loss: 0.2616\n",
      "Epoch 51/2000\n",
      "21/21 [==============================] - 1s 49ms/step - loss: 0.3582\n",
      "Epoch 52/2000\n",
      "21/21 [==============================] - 1s 49ms/step - loss: 0.2689\n",
      "Epoch 53/2000\n",
      "21/21 [==============================] - 1s 49ms/step - loss: 1.3210\n"
     ]
    },
    {
     "name": "stderr",
     "output_type": "stream",
     "text": [
      "INFO:megnet.callbacks:\n",
      "Epoch 00053: val_mae improved from 1.46853 to 1.37774, saving model to callback/val_mae_00053_1.377742.hdf5\n"
     ]
    },
    {
     "name": "stdout",
     "output_type": "stream",
     "text": [
      "Epoch 54/2000\n",
      "21/21 [==============================] - 1s 49ms/step - loss: 0.4427\n",
      "Epoch 55/2000\n",
      "21/21 [==============================] - 1s 49ms/step - loss: 0.7718\n",
      "Epoch 56/2000\n",
      "21/21 [==============================] - 1s 50ms/step - loss: 0.3360\n",
      "Epoch 57/2000\n",
      "21/21 [==============================] - 1s 48ms/step - loss: 0.2943\n",
      "Epoch 58/2000\n",
      "21/21 [==============================] - 1s 49ms/step - loss: 0.5264\n",
      "Epoch 59/2000\n",
      "21/21 [==============================] - 1s 49ms/step - loss: 0.2940\n",
      "Epoch 60/2000\n",
      "21/21 [==============================] - 1s 49ms/step - loss: 0.2403\n",
      "Epoch 61/2000\n",
      "21/21 [==============================] - 1s 48ms/step - loss: 0.3849\n",
      "Epoch 62/2000\n",
      "21/21 [==============================] - 1s 49ms/step - loss: 0.1584\n",
      "Epoch 63/2000\n",
      "21/21 [==============================] - 1s 48ms/step - loss: 0.2246\n",
      "Epoch 64/2000\n",
      "21/21 [==============================] - 1s 49ms/step - loss: 0.2432\n",
      "Epoch 65/2000\n",
      "21/21 [==============================] - 1s 49ms/step - loss: 0.5105\n",
      "Epoch 66/2000\n",
      "21/21 [==============================] - 1s 49ms/step - loss: 0.3466\n",
      "Epoch 67/2000\n",
      "21/21 [==============================] - 1s 49ms/step - loss: 0.2290\n",
      "Epoch 68/2000\n",
      "21/21 [==============================] - 1s 49ms/step - loss: 0.2687\n"
     ]
    },
    {
     "name": "stderr",
     "output_type": "stream",
     "text": [
      "INFO:megnet.callbacks:\n",
      "Epoch 00068: val_mae improved from 1.37774 to 1.37256, saving model to callback/val_mae_00068_1.372562.hdf5\n"
     ]
    },
    {
     "name": "stdout",
     "output_type": "stream",
     "text": [
      "Epoch 69/2000\n",
      "21/21 [==============================] - 1s 49ms/step - loss: 0.2077\n",
      "Epoch 70/2000\n",
      "21/21 [==============================] - 1s 48ms/step - loss: 0.4000\n",
      "Epoch 71/2000\n",
      "21/21 [==============================] - 1s 50ms/step - loss: 0.3561\n",
      "Epoch 72/2000\n",
      "21/21 [==============================] - 1s 49ms/step - loss: 0.3477\n",
      "Epoch 73/2000\n",
      "21/21 [==============================] - 1s 48ms/step - loss: 0.3181\n",
      "Epoch 74/2000\n",
      "21/21 [==============================] - 1s 49ms/step - loss: 0.3957\n",
      "Epoch 75/2000\n",
      "21/21 [==============================] - 1s 49ms/step - loss: 0.3456\n",
      "Epoch 76/2000\n",
      "21/21 [==============================] - 1s 53ms/step - loss: 0.3356\n",
      "Epoch 77/2000\n",
      "21/21 [==============================] - 1s 49ms/step - loss: 0.2351\n",
      "Epoch 78/2000\n",
      "21/21 [==============================] - 1s 50ms/step - loss: 0.2208\n"
     ]
    },
    {
     "name": "stderr",
     "output_type": "stream",
     "text": [
      "INFO:megnet.callbacks:\n",
      "Epoch 00078: val_mae improved from 1.37256 to 1.37225, saving model to callback/val_mae_00078_1.372249.hdf5\n"
     ]
    },
    {
     "name": "stdout",
     "output_type": "stream",
     "text": [
      "Epoch 79/2000\n",
      "21/21 [==============================] - 1s 50ms/step - loss: 0.3354\n",
      "Epoch 80/2000\n",
      "21/21 [==============================] - 1s 49ms/step - loss: 0.2921\n",
      "Epoch 81/2000\n",
      "21/21 [==============================] - 1s 49ms/step - loss: 0.2160\n",
      "Epoch 82/2000\n",
      "21/21 [==============================] - 1s 50ms/step - loss: 0.3064\n",
      "Epoch 83/2000\n",
      "21/21 [==============================] - 1s 48ms/step - loss: 0.3011\n",
      "Epoch 84/2000\n",
      "21/21 [==============================] - 1s 49ms/step - loss: 0.3738\n",
      "Epoch 85/2000\n",
      "21/21 [==============================] - 1s 49ms/step - loss: 0.3251\n",
      "Epoch 86/2000\n",
      "21/21 [==============================] - 1s 49ms/step - loss: 0.2762\n",
      "Epoch 87/2000\n",
      "21/21 [==============================] - 1s 49ms/step - loss: 0.2403\n",
      "Epoch 88/2000\n",
      "21/21 [==============================] - 1s 50ms/step - loss: 0.2825\n",
      "Epoch 89/2000\n",
      "21/21 [==============================] - 1s 49ms/step - loss: 0.2997\n",
      "Epoch 90/2000\n",
      "21/21 [==============================] - 1s 50ms/step - loss: 0.2679\n",
      "Epoch 91/2000\n",
      "21/21 [==============================] - 1s 49ms/step - loss: 0.3117\n",
      "Epoch 92/2000\n",
      "21/21 [==============================] - 1s 49ms/step - loss: 0.3418\n",
      "Epoch 93/2000\n",
      "21/21 [==============================] - 1s 50ms/step - loss: 0.3051\n",
      "Epoch 94/2000\n",
      "21/21 [==============================] - 1s 50ms/step - loss: 0.4798\n",
      "Epoch 95/2000\n",
      "21/21 [==============================] - 1s 49ms/step - loss: 0.3667\n",
      "Epoch 96/2000\n",
      "21/21 [==============================] - 1s 49ms/step - loss: 0.2683\n",
      "Epoch 97/2000\n",
      "21/21 [==============================] - 1s 48ms/step - loss: 0.2877\n",
      "Epoch 98/2000\n",
      "21/21 [==============================] - 1s 49ms/step - loss: 0.4011\n",
      "Epoch 99/2000\n",
      "21/21 [==============================] - 1s 50ms/step - loss: 0.3207\n",
      "Epoch 100/2000\n",
      "21/21 [==============================] - 1s 48ms/step - loss: 0.1945\n",
      "Epoch 101/2000\n",
      "21/21 [==============================] - 1s 49ms/step - loss: 0.2621\n",
      "Epoch 102/2000\n",
      "21/21 [==============================] - 1s 49ms/step - loss: 0.3079\n",
      "Epoch 103/2000\n",
      "21/21 [==============================] - 1s 49ms/step - loss: 0.2884\n",
      "Epoch 104/2000\n",
      "21/21 [==============================] - 1s 49ms/step - loss: 0.2868\n",
      "Epoch 105/2000\n",
      "21/21 [==============================] - 1s 49ms/step - loss: 0.3903\n",
      "Epoch 106/2000\n",
      "21/21 [==============================] - 1s 49ms/step - loss: 0.3411\n"
     ]
    },
    {
     "name": "stderr",
     "output_type": "stream",
     "text": [
      "INFO:megnet.callbacks:\n",
      "Epoch 00106: val_mae improved from 1.37225 to 1.33326, saving model to callback/val_mae_00106_1.333263.hdf5\n"
     ]
    },
    {
     "name": "stdout",
     "output_type": "stream",
     "text": [
      "Epoch 107/2000\n",
      "21/21 [==============================] - 1s 49ms/step - loss: 0.2468\n",
      "Epoch 108/2000\n",
      "21/21 [==============================] - 1s 49ms/step - loss: 0.1978\n",
      "Epoch 109/2000\n",
      "21/21 [==============================] - 1s 49ms/step - loss: 0.2414\n",
      "Epoch 110/2000\n",
      "21/21 [==============================] - 1s 48ms/step - loss: 0.2481\n",
      "Epoch 111/2000\n",
      "21/21 [==============================] - 1s 49ms/step - loss: 0.2162\n",
      "Epoch 112/2000\n",
      "21/21 [==============================] - 1s 49ms/step - loss: 0.4346\n",
      "Epoch 113/2000\n",
      "21/21 [==============================] - 1s 48ms/step - loss: 0.1823\n",
      "Epoch 114/2000\n",
      "21/21 [==============================] - 1s 49ms/step - loss: 0.1287\n",
      "Epoch 115/2000\n",
      "21/21 [==============================] - 1s 49ms/step - loss: 0.2093\n",
      "Epoch 116/2000\n",
      "21/21 [==============================] - 1s 50ms/step - loss: 0.3597\n",
      "Epoch 117/2000\n",
      "21/21 [==============================] - 1s 50ms/step - loss: 0.2364\n",
      "Epoch 118/2000\n",
      "21/21 [==============================] - 1s 49ms/step - loss: 0.2520\n",
      "Epoch 119/2000\n",
      "21/21 [==============================] - 1s 51ms/step - loss: 0.3966\n",
      "Epoch 120/2000\n",
      "21/21 [==============================] - 1s 49ms/step - loss: 0.2452\n",
      "Epoch 121/2000\n",
      "21/21 [==============================] - 1s 50ms/step - loss: 0.1810\n",
      "Epoch 122/2000\n",
      "21/21 [==============================] - 1s 50ms/step - loss: 0.4364\n",
      "Epoch 123/2000\n",
      "21/21 [==============================] - 1s 50ms/step - loss: 0.2471\n",
      "Epoch 124/2000\n",
      "21/21 [==============================] - 1s 49ms/step - loss: 0.5074\n",
      "Epoch 125/2000\n",
      "21/21 [==============================] - 1s 50ms/step - loss: 0.3048\n",
      "Epoch 126/2000\n",
      "21/21 [==============================] - 1s 49ms/step - loss: 0.3180\n",
      "Epoch 127/2000\n",
      "21/21 [==============================] - 1s 49ms/step - loss: 0.3811\n",
      "Epoch 128/2000\n",
      "21/21 [==============================] - 1s 49ms/step - loss: 0.2825\n",
      "Epoch 129/2000\n",
      "21/21 [==============================] - 1s 49ms/step - loss: 0.2995\n",
      "Epoch 130/2000\n",
      "21/21 [==============================] - 1s 50ms/step - loss: 0.1852\n",
      "Epoch 131/2000\n",
      "21/21 [==============================] - 1s 49ms/step - loss: 0.1883\n",
      "Epoch 132/2000\n",
      "21/21 [==============================] - 1s 51ms/step - loss: 0.2538\n",
      "Epoch 133/2000\n",
      "21/21 [==============================] - 1s 51ms/step - loss: 0.2262\n",
      "Epoch 134/2000\n",
      "21/21 [==============================] - 1s 49ms/step - loss: 0.2208\n",
      "Epoch 135/2000\n",
      "21/21 [==============================] - 1s 49ms/step - loss: 0.2398\n",
      "Epoch 136/2000\n",
      "21/21 [==============================] - 1s 51ms/step - loss: 0.1936\n",
      "Epoch 137/2000\n",
      "21/21 [==============================] - 1s 50ms/step - loss: 0.3270\n",
      "Epoch 138/2000\n",
      "21/21 [==============================] - 1s 51ms/step - loss: 0.2995\n",
      "Epoch 139/2000\n",
      "21/21 [==============================] - 1s 49ms/step - loss: 0.2853\n",
      "Epoch 140/2000\n",
      "21/21 [==============================] - 1s 49ms/step - loss: 0.3806\n",
      "Epoch 141/2000\n",
      "21/21 [==============================] - 1s 50ms/step - loss: 0.1252\n",
      "Epoch 142/2000\n",
      "21/21 [==============================] - 1s 50ms/step - loss: 0.2645\n",
      "Epoch 143/2000\n",
      "21/21 [==============================] - 1s 50ms/step - loss: 0.2226\n",
      "Epoch 144/2000\n",
      "21/21 [==============================] - 1s 50ms/step - loss: 0.2410\n",
      "Epoch 145/2000\n",
      "21/21 [==============================] - 1s 49ms/step - loss: 0.2222\n"
     ]
    },
    {
     "name": "stderr",
     "output_type": "stream",
     "text": [
      "INFO:megnet.callbacks:\n",
      "Epoch 00145: val_mae improved from 1.33326 to 1.32710, saving model to callback/val_mae_00145_1.327098.hdf5\n"
     ]
    },
    {
     "name": "stdout",
     "output_type": "stream",
     "text": [
      "Epoch 146/2000\n",
      "21/21 [==============================] - 1s 48ms/step - loss: 0.1335\n",
      "Epoch 147/2000\n",
      "21/21 [==============================] - 1s 50ms/step - loss: 0.2781\n"
     ]
    },
    {
     "name": "stderr",
     "output_type": "stream",
     "text": [
      "INFO:megnet.callbacks:\n",
      "Epoch 00147: val_mae improved from 1.32710 to 1.30640, saving model to callback/val_mae_00147_1.306397.hdf5\n"
     ]
    },
    {
     "name": "stdout",
     "output_type": "stream",
     "text": [
      "Epoch 148/2000\n",
      "21/21 [==============================] - 1s 50ms/step - loss: 0.2030\n",
      "Epoch 149/2000\n",
      "21/21 [==============================] - 1s 50ms/step - loss: 0.1967\n",
      "Epoch 150/2000\n",
      "21/21 [==============================] - 1s 52ms/step - loss: 0.1469\n",
      "Epoch 151/2000\n",
      "21/21 [==============================] - 1s 50ms/step - loss: 0.1864\n",
      "Epoch 152/2000\n",
      "21/21 [==============================] - 1s 50ms/step - loss: 0.2614\n",
      "Epoch 153/2000\n",
      "21/21 [==============================] - 1s 50ms/step - loss: 0.2224\n",
      "Epoch 154/2000\n",
      "21/21 [==============================] - 1s 50ms/step - loss: 0.3547\n",
      "Epoch 155/2000\n",
      "21/21 [==============================] - 1s 51ms/step - loss: 0.2201\n",
      "Epoch 156/2000\n",
      "21/21 [==============================] - 1s 50ms/step - loss: 0.1983\n",
      "Epoch 157/2000\n",
      "21/21 [==============================] - 1s 50ms/step - loss: 0.3637\n",
      "Epoch 158/2000\n",
      "21/21 [==============================] - 1s 49ms/step - loss: 0.1458\n",
      "Epoch 159/2000\n",
      "21/21 [==============================] - 1s 50ms/step - loss: 0.3498\n",
      "Epoch 160/2000\n",
      "21/21 [==============================] - 1s 49ms/step - loss: 0.2402\n",
      "Epoch 161/2000\n",
      "21/21 [==============================] - 1s 50ms/step - loss: 0.2233\n",
      "Epoch 162/2000\n",
      "21/21 [==============================] - 1s 48ms/step - loss: 0.1948\n",
      "Epoch 163/2000\n",
      "21/21 [==============================] - 1s 48ms/step - loss: 0.1686\n",
      "Epoch 164/2000\n",
      "21/21 [==============================] - 1s 50ms/step - loss: 0.2718\n",
      "Epoch 165/2000\n",
      "21/21 [==============================] - 1s 52ms/step - loss: 0.4185\n",
      "Epoch 166/2000\n",
      "21/21 [==============================] - 1s 49ms/step - loss: 0.3764\n",
      "Epoch 167/2000\n",
      "21/21 [==============================] - 1s 49ms/step - loss: 0.3576\n",
      "Epoch 168/2000\n",
      "21/21 [==============================] - 1s 49ms/step - loss: 0.3976\n",
      "Epoch 169/2000\n",
      "21/21 [==============================] - 1s 49ms/step - loss: 0.2560\n"
     ]
    },
    {
     "name": "stderr",
     "output_type": "stream",
     "text": [
      "INFO:megnet.callbacks:\n",
      "Epoch 00169: val_mae improved from 1.30640 to 1.27742, saving model to callback/val_mae_00169_1.277417.hdf5\n"
     ]
    },
    {
     "name": "stdout",
     "output_type": "stream",
     "text": [
      "Epoch 170/2000\n",
      "21/21 [==============================] - 1s 50ms/step - loss: 0.2455\n",
      "Epoch 171/2000\n",
      "21/21 [==============================] - 1s 49ms/step - loss: 0.1800\n",
      "Epoch 172/2000\n",
      "21/21 [==============================] - 1s 49ms/step - loss: 0.2962\n",
      "Epoch 173/2000\n",
      "21/21 [==============================] - 1s 49ms/step - loss: 0.2060\n",
      "Epoch 174/2000\n",
      "21/21 [==============================] - 1s 50ms/step - loss: 0.2370\n",
      "Epoch 175/2000\n",
      "21/21 [==============================] - 1s 49ms/step - loss: 0.2283\n",
      "Epoch 176/2000\n",
      "21/21 [==============================] - 1s 49ms/step - loss: 0.2856\n",
      "Epoch 177/2000\n",
      "21/21 [==============================] - 1s 49ms/step - loss: 0.1392\n",
      "Epoch 178/2000\n",
      "21/21 [==============================] - 1s 49ms/step - loss: 0.2794\n",
      "Epoch 179/2000\n",
      "21/21 [==============================] - 1s 49ms/step - loss: 0.1296\n",
      "Epoch 180/2000\n",
      "21/21 [==============================] - 1s 50ms/step - loss: 0.1747\n"
     ]
    },
    {
     "name": "stderr",
     "output_type": "stream",
     "text": [
      "INFO:megnet.callbacks:\n",
      "Epoch 00180: val_mae improved from 1.27742 to 1.19819, saving model to callback/val_mae_00180_1.198194.hdf5\n"
     ]
    },
    {
     "name": "stdout",
     "output_type": "stream",
     "text": [
      "Epoch 181/2000\n",
      "21/21 [==============================] - 1s 49ms/step - loss: 0.1765\n",
      "Epoch 182/2000\n",
      "21/21 [==============================] - 1s 50ms/step - loss: 0.1675\n",
      "Epoch 183/2000\n",
      "21/21 [==============================] - 1s 51ms/step - loss: 0.2157\n"
     ]
    },
    {
     "name": "stderr",
     "output_type": "stream",
     "text": [
      "INFO:megnet.callbacks:\n",
      "Epoch 00183: val_mae improved from 1.19819 to 1.18608, saving model to callback/val_mae_00183_1.186082.hdf5\n"
     ]
    },
    {
     "name": "stdout",
     "output_type": "stream",
     "text": [
      "Epoch 184/2000\n",
      "21/21 [==============================] - 1s 50ms/step - loss: 0.1550\n",
      "Epoch 185/2000\n",
      "21/21 [==============================] - 1s 49ms/step - loss: 0.1315\n",
      "Epoch 186/2000\n",
      "21/21 [==============================] - 1s 50ms/step - loss: 0.1808\n",
      "Epoch 187/2000\n",
      "21/21 [==============================] - 1s 51ms/step - loss: 0.1440\n",
      "Epoch 188/2000\n",
      "21/21 [==============================] - 1s 49ms/step - loss: 0.1819\n",
      "Epoch 189/2000\n",
      "21/21 [==============================] - 1s 49ms/step - loss: 0.1547\n",
      "Epoch 190/2000\n",
      "21/21 [==============================] - 1s 50ms/step - loss: 0.3154\n",
      "Epoch 191/2000\n",
      "21/21 [==============================] - 1s 51ms/step - loss: 0.2917\n",
      "Epoch 192/2000\n",
      "21/21 [==============================] - 1s 49ms/step - loss: 0.1728\n",
      "Epoch 193/2000\n",
      "21/21 [==============================] - 1s 50ms/step - loss: 0.3541\n",
      "Epoch 194/2000\n",
      "21/21 [==============================] - 1s 50ms/step - loss: 0.2456\n",
      "Epoch 195/2000\n",
      "21/21 [==============================] - 1s 49ms/step - loss: 0.2236\n",
      "Epoch 196/2000\n",
      "21/21 [==============================] - 1s 50ms/step - loss: 0.3228\n",
      "Epoch 197/2000\n",
      "21/21 [==============================] - 1s 49ms/step - loss: 0.1396\n",
      "Epoch 198/2000\n",
      "21/21 [==============================] - 1s 49ms/step - loss: 0.1249\n",
      "Epoch 199/2000\n",
      "21/21 [==============================] - 1s 50ms/step - loss: 0.2438\n",
      "Epoch 200/2000\n",
      "21/21 [==============================] - 1s 49ms/step - loss: 0.2248\n",
      "Epoch 201/2000\n",
      "21/21 [==============================] - 1s 49ms/step - loss: 0.1296\n",
      "Epoch 202/2000\n",
      "21/21 [==============================] - 1s 50ms/step - loss: 0.1555\n",
      "Epoch 203/2000\n",
      "21/21 [==============================] - 1s 48ms/step - loss: 0.1403\n",
      "Epoch 204/2000\n",
      "21/21 [==============================] - 1s 50ms/step - loss: 0.1354\n",
      "Epoch 205/2000\n",
      "21/21 [==============================] - 1s 50ms/step - loss: 0.2240\n"
     ]
    },
    {
     "name": "stderr",
     "output_type": "stream",
     "text": [
      "INFO:megnet.callbacks:\n",
      "Epoch 00205: val_mae improved from 1.18608 to 1.13245, saving model to callback/val_mae_00205_1.132455.hdf5\n"
     ]
    },
    {
     "name": "stdout",
     "output_type": "stream",
     "text": [
      "Epoch 206/2000\n",
      "21/21 [==============================] - 1s 49ms/step - loss: 0.2748\n",
      "Epoch 207/2000\n",
      "21/21 [==============================] - 1s 50ms/step - loss: 0.1585\n",
      "Epoch 208/2000\n",
      "21/21 [==============================] - 1s 50ms/step - loss: 0.1679\n",
      "Epoch 209/2000\n",
      "21/21 [==============================] - 1s 50ms/step - loss: 0.2744\n",
      "Epoch 210/2000\n",
      "21/21 [==============================] - 1s 49ms/step - loss: 0.2469\n",
      "Epoch 211/2000\n",
      "21/21 [==============================] - 1s 50ms/step - loss: 0.2300\n",
      "Epoch 212/2000\n",
      "21/21 [==============================] - 1s 49ms/step - loss: 0.2318\n",
      "Epoch 213/2000\n",
      "21/21 [==============================] - 1s 49ms/step - loss: 0.2143\n",
      "Epoch 214/2000\n",
      "21/21 [==============================] - 1s 50ms/step - loss: 0.2274\n",
      "Epoch 215/2000\n",
      "21/21 [==============================] - 1s 49ms/step - loss: 0.1853\n",
      "Epoch 216/2000\n",
      "21/21 [==============================] - 1s 48ms/step - loss: 0.2110\n",
      "Epoch 217/2000\n",
      "21/21 [==============================] - 1s 48ms/step - loss: 0.3162\n"
     ]
    },
    {
     "name": "stderr",
     "output_type": "stream",
     "text": [
      "INFO:megnet.callbacks:\n",
      "Epoch 00217: val_mae improved from 1.13245 to 1.12331, saving model to callback/val_mae_00217_1.123311.hdf5\n"
     ]
    },
    {
     "name": "stdout",
     "output_type": "stream",
     "text": [
      "Epoch 218/2000\n",
      "21/21 [==============================] - 1s 50ms/step - loss: 0.1648\n",
      "Epoch 219/2000\n",
      "21/21 [==============================] - 1s 52ms/step - loss: 0.2704\n",
      "Epoch 220/2000\n",
      "21/21 [==============================] - 1s 50ms/step - loss: 0.2091\n",
      "Epoch 221/2000\n",
      "21/21 [==============================] - 1s 52ms/step - loss: 0.1808\n",
      "Epoch 222/2000\n",
      "21/21 [==============================] - 1s 50ms/step - loss: 0.1679\n",
      "Epoch 223/2000\n",
      "21/21 [==============================] - 1s 49ms/step - loss: 0.1760\n",
      "Epoch 224/2000\n",
      "21/21 [==============================] - 1s 50ms/step - loss: 0.2675\n",
      "Epoch 225/2000\n",
      "21/21 [==============================] - 1s 49ms/step - loss: 0.2125\n",
      "Epoch 226/2000\n",
      "21/21 [==============================] - 1s 51ms/step - loss: 0.2042\n",
      "Epoch 227/2000\n",
      "21/21 [==============================] - 1s 49ms/step - loss: 0.2442\n",
      "Epoch 228/2000\n",
      "21/21 [==============================] - 1s 49ms/step - loss: 0.1814\n",
      "Epoch 229/2000\n",
      "21/21 [==============================] - 1s 48ms/step - loss: 0.2654\n",
      "Epoch 230/2000\n",
      "21/21 [==============================] - 1s 49ms/step - loss: 0.2182\n"
     ]
    },
    {
     "name": "stderr",
     "output_type": "stream",
     "text": [
      "INFO:megnet.callbacks:\n",
      "Epoch 00230: val_mae improved from 1.12331 to 1.10187, saving model to callback/val_mae_00230_1.101867.hdf5\n"
     ]
    },
    {
     "name": "stdout",
     "output_type": "stream",
     "text": [
      "Epoch 231/2000\n",
      "21/21 [==============================] - 1s 49ms/step - loss: 0.2614\n",
      "Epoch 232/2000\n",
      "21/21 [==============================] - 1s 49ms/step - loss: 0.1695\n",
      "Epoch 233/2000\n",
      "21/21 [==============================] - 1s 50ms/step - loss: 0.2515\n",
      "Epoch 234/2000\n",
      "21/21 [==============================] - 1s 49ms/step - loss: 0.2266\n",
      "Epoch 235/2000\n",
      "21/21 [==============================] - 1s 49ms/step - loss: 0.2210\n",
      "Epoch 236/2000\n",
      "21/21 [==============================] - 1s 50ms/step - loss: 0.2198\n",
      "Epoch 237/2000\n",
      "21/21 [==============================] - 1s 50ms/step - loss: 0.1577\n",
      "Epoch 238/2000\n",
      "21/21 [==============================] - 1s 49ms/step - loss: 0.1639\n",
      "Epoch 239/2000\n",
      "21/21 [==============================] - 1s 50ms/step - loss: 0.2497\n",
      "Epoch 240/2000\n",
      "21/21 [==============================] - 1s 49ms/step - loss: 0.2303\n",
      "Epoch 241/2000\n",
      "21/21 [==============================] - 1s 50ms/step - loss: 0.1586\n",
      "Epoch 242/2000\n",
      "21/21 [==============================] - 1s 51ms/step - loss: 0.1412\n",
      "Epoch 243/2000\n",
      "21/21 [==============================] - 1s 49ms/step - loss: 0.2640\n",
      "Epoch 244/2000\n",
      "21/21 [==============================] - 1s 49ms/step - loss: 0.2085\n",
      "Epoch 245/2000\n",
      "21/21 [==============================] - 1s 49ms/step - loss: 0.3648\n",
      "Epoch 246/2000\n",
      "21/21 [==============================] - 1s 49ms/step - loss: 0.2966\n",
      "Epoch 247/2000\n",
      "21/21 [==============================] - 1s 48ms/step - loss: 0.2838\n",
      "Epoch 248/2000\n",
      "21/21 [==============================] - 1s 49ms/step - loss: 0.3718\n",
      "Epoch 249/2000\n",
      "21/21 [==============================] - 1s 50ms/step - loss: 0.3023\n",
      "Epoch 250/2000\n",
      "21/21 [==============================] - 1s 49ms/step - loss: 0.2623\n",
      "Epoch 251/2000\n",
      "21/21 [==============================] - 1s 49ms/step - loss: 0.2520\n",
      "Epoch 252/2000\n",
      "21/21 [==============================] - 1s 50ms/step - loss: 0.2253\n",
      "Epoch 253/2000\n",
      "21/21 [==============================] - 1s 52ms/step - loss: 0.2307\n",
      "Epoch 254/2000\n",
      "21/21 [==============================] - 1s 49ms/step - loss: 0.2137\n",
      "Epoch 255/2000\n",
      "21/21 [==============================] - 1s 50ms/step - loss: 0.2376\n",
      "Epoch 256/2000\n",
      "21/21 [==============================] - 1s 49ms/step - loss: 0.2473\n",
      "Epoch 257/2000\n",
      "21/21 [==============================] - 1s 49ms/step - loss: 0.2986\n",
      "Epoch 258/2000\n",
      "21/21 [==============================] - 1s 49ms/step - loss: 0.3387\n",
      "Epoch 259/2000\n",
      "21/21 [==============================] - 1s 49ms/step - loss: 0.3189\n",
      "Epoch 260/2000\n",
      "21/21 [==============================] - 1s 51ms/step - loss: 0.2208\n",
      "Epoch 261/2000\n",
      "21/21 [==============================] - 1s 50ms/step - loss: 0.2478\n",
      "Epoch 262/2000\n",
      "21/21 [==============================] - 1s 49ms/step - loss: 0.2151\n",
      "Epoch 263/2000\n",
      "21/21 [==============================] - 1s 49ms/step - loss: 0.3350\n",
      "Epoch 264/2000\n",
      "21/21 [==============================] - 1s 50ms/step - loss: 0.2287\n",
      "Epoch 265/2000\n",
      "21/21 [==============================] - 1s 49ms/step - loss: 0.3699\n",
      "Epoch 266/2000\n",
      "21/21 [==============================] - 1s 50ms/step - loss: 0.2806\n",
      "Epoch 267/2000\n",
      "21/21 [==============================] - 1s 49ms/step - loss: 0.4303\n",
      "Epoch 268/2000\n",
      "21/21 [==============================] - 1s 50ms/step - loss: 0.2373\n",
      "Epoch 269/2000\n",
      "21/21 [==============================] - 1s 50ms/step - loss: 0.1900\n",
      "Epoch 270/2000\n",
      "21/21 [==============================] - 1s 49ms/step - loss: 0.2696\n",
      "Epoch 271/2000\n",
      "21/21 [==============================] - 1s 49ms/step - loss: 0.2836\n",
      "Epoch 272/2000\n",
      "21/21 [==============================] - 1s 51ms/step - loss: 0.1907\n",
      "Epoch 273/2000\n",
      "21/21 [==============================] - 1s 49ms/step - loss: 0.1527\n",
      "Epoch 274/2000\n",
      "21/21 [==============================] - 1s 49ms/step - loss: 0.2089\n",
      "Epoch 275/2000\n",
      "21/21 [==============================] - 1s 51ms/step - loss: 0.1698\n",
      "Epoch 276/2000\n",
      "21/21 [==============================] - 1s 50ms/step - loss: 0.1525\n",
      "Epoch 277/2000\n",
      "21/21 [==============================] - 1s 50ms/step - loss: 0.1261\n",
      "Epoch 278/2000\n",
      "21/21 [==============================] - 1s 48ms/step - loss: 0.1470\n",
      "Epoch 279/2000\n",
      "21/21 [==============================] - 1s 49ms/step - loss: 0.1926\n",
      "Epoch 280/2000\n",
      "21/21 [==============================] - 1s 50ms/step - loss: 0.3530\n",
      "Epoch 281/2000\n",
      "21/21 [==============================] - 1s 49ms/step - loss: 0.3392\n",
      "Epoch 282/2000\n",
      "21/21 [==============================] - 1s 49ms/step - loss: 0.2431\n",
      "Epoch 283/2000\n",
      "21/21 [==============================] - 1s 49ms/step - loss: 0.2350\n",
      "Epoch 284/2000\n",
      "21/21 [==============================] - 1s 49ms/step - loss: 0.2621\n",
      "Epoch 285/2000\n",
      "21/21 [==============================] - 1s 50ms/step - loss: 0.1072\n",
      "Epoch 286/2000\n",
      "21/21 [==============================] - 1s 49ms/step - loss: 0.1742\n",
      "Epoch 287/2000\n",
      "21/21 [==============================] - 1s 50ms/step - loss: 0.1828\n",
      "Epoch 288/2000\n",
      "21/21 [==============================] - 1s 50ms/step - loss: 0.1669\n",
      "Epoch 289/2000\n",
      "21/21 [==============================] - 1s 49ms/step - loss: 0.1015\n",
      "Epoch 290/2000\n",
      "21/21 [==============================] - 1s 49ms/step - loss: 0.1462\n",
      "Epoch 291/2000\n",
      "21/21 [==============================] - 1s 49ms/step - loss: 0.1592\n",
      "Epoch 292/2000\n",
      "21/21 [==============================] - 1s 49ms/step - loss: 0.1486\n",
      "Epoch 293/2000\n",
      "21/21 [==============================] - 1s 50ms/step - loss: 0.1845\n",
      "Epoch 294/2000\n",
      "21/21 [==============================] - 1s 49ms/step - loss: 0.1359\n",
      "Epoch 295/2000\n",
      "21/21 [==============================] - 1s 50ms/step - loss: 0.2638\n",
      "Epoch 296/2000\n",
      "21/21 [==============================] - 1s 49ms/step - loss: 0.1854\n",
      "Epoch 297/2000\n",
      "21/21 [==============================] - 1s 49ms/step - loss: 0.1169\n",
      "Epoch 298/2000\n",
      "21/21 [==============================] - 1s 49ms/step - loss: 0.1466\n",
      "Epoch 299/2000\n",
      "21/21 [==============================] - 1s 49ms/step - loss: 0.2175\n",
      "Epoch 300/2000\n",
      "21/21 [==============================] - 1s 49ms/step - loss: 0.2013\n",
      "Epoch 301/2000\n",
      "21/21 [==============================] - 1s 49ms/step - loss: 0.1884\n",
      "Epoch 302/2000\n",
      "21/21 [==============================] - 1s 49ms/step - loss: 0.1023\n",
      "Epoch 303/2000\n",
      "21/21 [==============================] - 1s 49ms/step - loss: 0.1991\n",
      "Epoch 304/2000\n",
      "21/21 [==============================] - 1s 49ms/step - loss: 0.2509\n",
      "Epoch 305/2000\n",
      "21/21 [==============================] - 1s 48ms/step - loss: 0.1973\n",
      "Epoch 306/2000\n",
      "21/21 [==============================] - 1s 50ms/step - loss: 0.1147\n",
      "Epoch 307/2000\n",
      "21/21 [==============================] - 1s 49ms/step - loss: 0.1735\n"
     ]
    },
    {
     "name": "stderr",
     "output_type": "stream",
     "text": [
      "INFO:megnet.callbacks:\n",
      "Epoch 00307: val_mae improved from 1.10187 to 1.09399, saving model to callback/val_mae_00307_1.093988.hdf5\n"
     ]
    },
    {
     "name": "stdout",
     "output_type": "stream",
     "text": [
      "Epoch 308/2000\n",
      "21/21 [==============================] - 1s 49ms/step - loss: 0.1829\n",
      "Epoch 309/2000\n",
      "21/21 [==============================] - 1s 49ms/step - loss: 0.2247\n",
      "Epoch 310/2000\n",
      "21/21 [==============================] - 1s 49ms/step - loss: 0.1332\n",
      "Epoch 311/2000\n",
      "21/21 [==============================] - 1s 50ms/step - loss: 0.1201\n",
      "Epoch 312/2000\n",
      "21/21 [==============================] - 1s 49ms/step - loss: 0.1120\n",
      "Epoch 313/2000\n",
      "21/21 [==============================] - 1s 50ms/step - loss: 0.2384\n",
      "Epoch 314/2000\n",
      "21/21 [==============================] - 1s 50ms/step - loss: 0.1404\n",
      "Epoch 315/2000\n",
      "21/21 [==============================] - 1s 51ms/step - loss: 0.1546\n",
      "Epoch 316/2000\n",
      "21/21 [==============================] - 1s 49ms/step - loss: 0.1738\n",
      "Epoch 317/2000\n",
      "21/21 [==============================] - 1s 49ms/step - loss: 0.1747\n",
      "Epoch 318/2000\n",
      "21/21 [==============================] - 1s 50ms/step - loss: 0.1448\n",
      "Epoch 319/2000\n",
      "21/21 [==============================] - 1s 50ms/step - loss: 0.1853\n",
      "Epoch 320/2000\n",
      "21/21 [==============================] - 1s 50ms/step - loss: 0.1612\n",
      "Epoch 321/2000\n",
      "21/21 [==============================] - 1s 49ms/step - loss: 0.1483\n",
      "Epoch 322/2000\n",
      "21/21 [==============================] - 1s 50ms/step - loss: 0.2462\n",
      "Epoch 323/2000\n",
      "21/21 [==============================] - 1s 49ms/step - loss: 0.0952\n",
      "Epoch 324/2000\n",
      "21/21 [==============================] - 1s 48ms/step - loss: 0.1200\n",
      "Epoch 325/2000\n",
      "21/21 [==============================] - 1s 50ms/step - loss: 0.2321\n",
      "Epoch 326/2000\n",
      "21/21 [==============================] - 1s 49ms/step - loss: 0.2090\n",
      "Epoch 327/2000\n",
      "21/21 [==============================] - 1s 49ms/step - loss: 0.1754\n",
      "Epoch 328/2000\n",
      " 7/21 [=========>....................] - ETA: 0s - loss: 0.2280"
     ]
    }
   ],
   "source": [
    "model.train(train.defect_representation, train[config.target],\n",
    "            validation_structures=test.defect_representation,\n",
    "            validation_targets=test[config.target],\n",
    "            callbacks=[WandbCallback()],\n",
    "            epochs=2000, verbose=1, patience=1000)"
   ]
  },
  {
   "cell_type": "code",
   "execution_count": null,
   "metadata": {},
   "outputs": [],
   "source": [
    "model.save_model(\"models/MEGNet-defect-only/defect_E\")"
   ]
  }
 ],
 "metadata": {
  "kernelspec": {
   "display_name": "Python 3",
   "language": "python",
   "name": "python3"
  },
  "language_info": {
   "codemirror_mode": {
    "name": "ipython",
    "version": 3
   },
   "file_extension": ".py",
   "mimetype": "text/x-python",
   "name": "python",
   "nbconvert_exporter": "python",
   "pygments_lexer": "ipython3",
   "version": "3.6.9"
  }
 },
 "nbformat": 4,
 "nbformat_minor": 5
}
