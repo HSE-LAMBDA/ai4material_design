{
 "cells": [
  {
   "cell_type": "code",
   "execution_count": 1,
   "metadata": {},
   "outputs": [
    {
     "name": "stdout",
     "output_type": "stream",
     "text": [
      "env: CUDA_DEVICE_ORDER=PCI_BUS_ID\n",
      "env: CUDA_VISIBLE_DEVICES=1\n",
      "env: TF_FORCE_GPU_ALLOW_GROWTH=true\n"
     ]
    }
   ],
   "source": [
    "%env CUDA_DEVICE_ORDER=PCI_BUS_ID\n",
    "%env CUDA_VISIBLE_DEVICES=1\n",
    "%env TF_FORCE_GPU_ALLOW_GROWTH=true"
   ]
  },
  {
   "cell_type": "code",
   "execution_count": 2,
   "metadata": {},
   "outputs": [],
   "source": [
    "import os\n",
    "import pymatgen\n",
    "import matplotlib.pyplot as plt\n",
    "import pandas as pd"
   ]
  },
  {
   "cell_type": "code",
   "execution_count": 3,
   "metadata": {},
   "outputs": [],
   "source": [
    "structures = pd.read_pickle(\"datasets/structures_defects.pickle.gzip\")"
   ]
  },
  {
   "cell_type": "code",
   "execution_count": 4,
   "metadata": {},
   "outputs": [],
   "source": [
    "# TODO(inner perfectionist) eval is unsecure\n",
    "defects = pd.read_csv(\n",
    "  \"datasets/dichalcogenides_innopolis_202105/descriptors.csv\", index_col=\"_id\",\n",
    "  converters={\"cell\": eval, \"defects\": eval})"
   ]
  },
  {
   "cell_type": "code",
   "execution_count": 5,
   "metadata": {},
   "outputs": [],
   "source": [
    "from megnet.models import MEGNetModel\n",
    "from megnet.data.graph import GaussianDistance\n",
    "from megnet.data.crystal import CrystalGraph\n",
    "from megnet.utils.preprocessing import StandardScaler\n",
    "from megnet.callbacks import ModelCheckpointMAE\n",
    "from pymatgen.core import Lattice, Structure, Molecule\n",
    "\n",
    "import tensorflow as tf\n",
    "import numpy as np"
   ]
  },
  {
   "cell_type": "code",
   "execution_count": 6,
   "metadata": {},
   "outputs": [],
   "source": [
    "import wandb\n",
    "from wandb.keras import WandbCallback"
   ]
  },
  {
   "cell_type": "code",
   "execution_count": 7,
   "metadata": {},
   "outputs": [],
   "source": [
    "from sklearn.model_selection import train_test_split"
   ]
  },
  {
   "cell_type": "code",
   "execution_count": 8,
   "metadata": {},
   "outputs": [],
   "source": [
    "structures = structures[structures.formation_energy > -10]\n",
    "# TODO(kazeevn) pass structure as the global state\n",
    "train, test = train_test_split(structures, test_size=0.25, random_state=42)"
   ]
  },
  {
   "cell_type": "code",
   "execution_count": 9,
   "metadata": {},
   "outputs": [
    {
     "name": "stderr",
     "output_type": "stream",
     "text": [
      "\u001b[34m\u001b[1mwandb\u001b[0m: Currently logged in as: \u001b[33mkazeev\u001b[0m (use `wandb login --relogin` to force relogin)\n",
      "\u001b[34m\u001b[1mwandb\u001b[0m: wandb version 0.11.0 is available!  To upgrade, please run:\n",
      "\u001b[34m\u001b[1mwandb\u001b[0m:  $ pip install wandb --upgrade\n"
     ]
    },
    {
     "data": {
      "text/html": [
       "\n",
       "                Tracking run with wandb version 0.10.33<br/>\n",
       "                Syncing run <strong style=\"color:#cdcd00\">classic-snow-45</strong> to <a href=\"https://wandb.ai\" target=\"_blank\">Weights & Biases</a> <a href=\"https://docs.wandb.com/integrations/jupyter.html\" target=\"_blank\">(Documentation)</a>.<br/>\n",
       "                Project page: <a href=\"https://wandb.ai/kazeev/ai4material_design\" target=\"_blank\">https://wandb.ai/kazeev/ai4material_design</a><br/>\n",
       "                Run page: <a href=\"https://wandb.ai/kazeev/ai4material_design/runs/3lh1ym7f\" target=\"_blank\">https://wandb.ai/kazeev/ai4material_design/runs/3lh1ym7f</a><br/>\n",
       "                Run data is saved locally in <code>/temporary/ai4material_design/wandb/run-20210727_214356-3lh1ym7f</code><br/><br/>\n",
       "            "
      ],
      "text/plain": [
       "<IPython.core.display.HTML object>"
      ]
     },
     "metadata": {},
     "output_type": "display_data"
    },
    {
     "data": {
      "text/html": [
       "<h1>Run(3lh1ym7f)</h1><iframe src=\"https://wandb.ai/kazeev/ai4material_design/runs/3lh1ym7f\" style=\"border:none;width:100%;height:400px\"></iframe>"
      ],
      "text/plain": [
       "<wandb.sdk.wandb_run.Run at 0x7fcf02c2e940>"
      ]
     },
     "execution_count": 9,
     "metadata": {},
     "output_type": "execute_result"
    }
   ],
   "source": [
    "wandb.init(project='ai4material_design', entity='kazeev')"
   ]
  },
  {
   "cell_type": "code",
   "execution_count": 10,
   "metadata": {},
   "outputs": [],
   "source": [
    "config = wandb.config\n",
    "config.target = \"formation_energy\""
   ]
  },
  {
   "cell_type": "code",
   "execution_count": 11,
   "metadata": {},
   "outputs": [],
   "source": [
    "from typing import Union, List, Dict\n",
    "from megnet.data.graph import StructureGraphFixedRadius\n",
    "from pymatgen.analysis.local_env import NearNeighbors\n",
    "from megnet.data.graph import Converter\n",
    "class ZAwareStrucutreGraph(StructureGraphFixedRadius):\n",
    "    def __init__(\n",
    "        self,\n",
    "        nn_strategy: Union[str, NearNeighbors] = \"MinimumDistanceNNAll\",\n",
    "        atom_converter: Converter = None,\n",
    "        bond_converter: Converter = None,\n",
    "        cutoff: float = 5.0,\n",
    "    ):\n",
    "      raise NotImplemented(\"Doesn't work due to difficult estate planning\")\n",
    "      self.cutoff = cutoff\n",
    "      super().__init__(\n",
    "              nn_strategy=nn_strategy, atom_converter=atom_converter, bond_converter=bond_converter, cutoff=self.cutoff\n",
    "      )\n",
    "        \n",
    "      @staticmethod\n",
    "      def get_atom_features(structure):\n",
    "        return [[i.species.Z, i.coords[2]] for i in structure.sites]"
   ]
  },
  {
   "cell_type": "code",
   "execution_count": 12,
   "metadata": {},
   "outputs": [],
   "source": [
    "nfeat_edge = 10\n",
    "gc = CrystalGraph(bond_converter=GaussianDistance(np.linspace(0, 15, nfeat_edge), 0.5),\n",
    "                  cutoff=15)\n",
    "model = MEGNetModel(nfeat_edge=nfeat_edge, nfeat_global=2, graph_converter=gc, npass=2)"
   ]
  },
  {
   "cell_type": "code",
   "execution_count": 13,
   "metadata": {},
   "outputs": [],
   "source": [
    "scaler = StandardScaler.from_training_data(train.defect_representation,\n",
    "                                           train[config.target], is_intensive=False)\n",
    "model.target_scaler = scaler"
   ]
  },
  {
   "cell_type": "code",
   "execution_count": 14,
   "metadata": {},
   "outputs": [
    {
     "name": "stdout",
     "output_type": "stream",
     "text": [
      "Epoch 1/1000\n"
     ]
    },
    {
     "name": "stderr",
     "output_type": "stream",
     "text": [
      "/usr/local/lib/python3.6/dist-packages/tensorflow/python/framework/indexed_slices.py:437: UserWarning:\n",
      "\n",
      "Converting sparse IndexedSlices(IndexedSlices(indices=Tensor(\"gradient_tape/model/set2set_atom/Reshape_9:0\", shape=(None,), dtype=int32), values=Tensor(\"gradient_tape/model/set2set_atom/Reshape_8:0\", shape=(None,), dtype=float32), dense_shape=Tensor(\"gradient_tape/model/set2set_atom/Cast:0\", shape=(1,), dtype=int32))) to a dense Tensor of unknown shape. This may consume a large amount of memory.\n",
      "\n",
      "/usr/local/lib/python3.6/dist-packages/tensorflow/python/framework/indexed_slices.py:437: UserWarning:\n",
      "\n",
      "Converting sparse IndexedSlices(IndexedSlices(indices=Tensor(\"gradient_tape/model/set2set_bond/Reshape_9:0\", shape=(None,), dtype=int32), values=Tensor(\"gradient_tape/model/set2set_bond/Reshape_8:0\", shape=(None,), dtype=float32), dense_shape=Tensor(\"gradient_tape/model/set2set_bond/Cast:0\", shape=(1,), dtype=int32))) to a dense Tensor of unknown shape. This may consume a large amount of memory.\n",
      "\n",
      "/usr/local/lib/python3.6/dist-packages/tensorflow/python/framework/indexed_slices.py:437: UserWarning:\n",
      "\n",
      "Converting sparse IndexedSlices(IndexedSlices(indices=Tensor(\"gradient_tape/model/set2set_atom/Reshape_27:0\", shape=(None,), dtype=int32), values=Tensor(\"gradient_tape/model/set2set_atom/Reshape_26:0\", shape=(None,), dtype=float32), dense_shape=Tensor(\"gradient_tape/model/set2set_atom/Cast_2:0\", shape=(1,), dtype=int32))) to a dense Tensor of unknown shape. This may consume a large amount of memory.\n",
      "\n",
      "/usr/local/lib/python3.6/dist-packages/tensorflow/python/framework/indexed_slices.py:437: UserWarning:\n",
      "\n",
      "Converting sparse IndexedSlices(IndexedSlices(indices=Tensor(\"gradient_tape/model/set2set_bond/Reshape_27:0\", shape=(None,), dtype=int32), values=Tensor(\"gradient_tape/model/set2set_bond/Reshape_26:0\", shape=(None,), dtype=float32), dense_shape=Tensor(\"gradient_tape/model/set2set_bond/Cast_2:0\", shape=(1,), dtype=int32))) to a dense Tensor of unknown shape. This may consume a large amount of memory.\n",
      "\n"
     ]
    },
    {
     "name": "stdout",
     "output_type": "stream",
     "text": [
      "21/21 [==============================] - 18s 47ms/step - loss: 2.4278\n"
     ]
    },
    {
     "name": "stderr",
     "output_type": "stream",
     "text": [
      "INFO:megnet.callbacks:\n",
      "Epoch 00001: val_mae improved from inf to 4.68139, saving model to callback/val_mae_00001_4.681393.hdf5\n"
     ]
    },
    {
     "name": "stdout",
     "output_type": "stream",
     "text": [
      "Epoch 2/1000\n",
      "21/21 [==============================] - 1s 47ms/step - loss: 0.9712\n"
     ]
    },
    {
     "name": "stderr",
     "output_type": "stream",
     "text": [
      "INFO:megnet.callbacks:\n",
      "Epoch 00002: val_mae improved from 4.68139 to 2.88933, saving model to callback/val_mae_00002_2.889329.hdf5\n"
     ]
    },
    {
     "name": "stdout",
     "output_type": "stream",
     "text": [
      "Epoch 3/1000\n",
      "21/21 [==============================] - 1s 46ms/step - loss: 0.9942\n"
     ]
    },
    {
     "name": "stderr",
     "output_type": "stream",
     "text": [
      "INFO:megnet.callbacks:\n",
      "Epoch 00003: val_mae improved from 2.88933 to 2.45425, saving model to callback/val_mae_00003_2.454254.hdf5\n"
     ]
    },
    {
     "name": "stdout",
     "output_type": "stream",
     "text": [
      "Epoch 4/1000\n",
      "21/21 [==============================] - 1s 46ms/step - loss: 0.7295\n"
     ]
    },
    {
     "name": "stderr",
     "output_type": "stream",
     "text": [
      "INFO:megnet.callbacks:\n",
      "Epoch 00004: val_mae improved from 2.45425 to 1.93101, saving model to callback/val_mae_00004_1.931011.hdf5\n"
     ]
    },
    {
     "name": "stdout",
     "output_type": "stream",
     "text": [
      "Epoch 5/1000\n",
      "21/21 [==============================] - 1s 48ms/step - loss: 0.0940\n",
      "Epoch 6/1000\n",
      "21/21 [==============================] - 1s 48ms/step - loss: 0.0751\n"
     ]
    },
    {
     "name": "stderr",
     "output_type": "stream",
     "text": [
      "INFO:megnet.callbacks:\n",
      "Epoch 00006: val_mae improved from 1.93101 to 0.75887, saving model to callback/val_mae_00006_0.758872.hdf5\n"
     ]
    },
    {
     "name": "stdout",
     "output_type": "stream",
     "text": [
      "Epoch 7/1000\n",
      "21/21 [==============================] - 1s 46ms/step - loss: 0.0443\n",
      "Epoch 8/1000\n",
      "21/21 [==============================] - 1s 46ms/step - loss: 0.0404\n",
      "Epoch 9/1000\n",
      "21/21 [==============================] - 1s 48ms/step - loss: 0.0399\n"
     ]
    },
    {
     "name": "stderr",
     "output_type": "stream",
     "text": [
      "INFO:megnet.callbacks:\n",
      "Epoch 00009: val_mae improved from 0.75887 to 0.69961, saving model to callback/val_mae_00009_0.699614.hdf5\n"
     ]
    },
    {
     "name": "stdout",
     "output_type": "stream",
     "text": [
      "Epoch 10/1000\n",
      "21/21 [==============================] - 1s 46ms/step - loss: 0.0366\n",
      "Epoch 11/1000\n",
      "21/21 [==============================] - 1s 48ms/step - loss: 0.0419\n",
      "Epoch 12/1000\n",
      "21/21 [==============================] - 1s 48ms/step - loss: 0.0409\n",
      "Epoch 13/1000\n",
      "21/21 [==============================] - 1s 47ms/step - loss: 0.0436\n",
      "Epoch 14/1000\n",
      "21/21 [==============================] - 1s 48ms/step - loss: 0.0360\n",
      "Epoch 15/1000\n",
      "21/21 [==============================] - 1s 47ms/step - loss: 0.0340\n",
      "Epoch 16/1000\n",
      "21/21 [==============================] - 1s 49ms/step - loss: 0.0361\n",
      "Epoch 17/1000\n",
      "21/21 [==============================] - 1s 48ms/step - loss: 0.0365\n",
      "Epoch 18/1000\n",
      "21/21 [==============================] - 1s 48ms/step - loss: 0.0342\n",
      "Epoch 19/1000\n",
      "21/21 [==============================] - 1s 47ms/step - loss: 0.0329\n",
      "Epoch 20/1000\n",
      "21/21 [==============================] - 1s 48ms/step - loss: 0.0410\n",
      "Epoch 21/1000\n",
      "21/21 [==============================] - 1s 48ms/step - loss: 0.0329\n",
      "Epoch 22/1000\n",
      "21/21 [==============================] - 1s 49ms/step - loss: 0.0364\n",
      "Epoch 23/1000\n",
      "21/21 [==============================] - 1s 47ms/step - loss: 0.0300\n",
      "Epoch 24/1000\n",
      "21/21 [==============================] - 1s 48ms/step - loss: 0.0293\n",
      "Epoch 25/1000\n",
      "21/21 [==============================] - 1s 48ms/step - loss: 0.0334\n",
      "Epoch 26/1000\n",
      "21/21 [==============================] - 1s 48ms/step - loss: 0.0432\n",
      "Epoch 27/1000\n",
      "21/21 [==============================] - 1s 49ms/step - loss: 0.0353\n",
      "Epoch 28/1000\n",
      "21/21 [==============================] - 1s 48ms/step - loss: 0.0367\n",
      "Epoch 29/1000\n",
      "21/21 [==============================] - 1s 48ms/step - loss: 0.0324\n",
      "Epoch 30/1000\n",
      "21/21 [==============================] - 1s 48ms/step - loss: 0.0352\n"
     ]
    },
    {
     "name": "stderr",
     "output_type": "stream",
     "text": [
      "INFO:megnet.callbacks:\n",
      "Epoch 00030: val_mae improved from 0.69961 to 0.69397, saving model to callback/val_mae_00030_0.693968.hdf5\n"
     ]
    },
    {
     "name": "stdout",
     "output_type": "stream",
     "text": [
      "Epoch 31/1000\n",
      "21/21 [==============================] - 1s 48ms/step - loss: 0.0336\n",
      "Epoch 32/1000\n",
      "21/21 [==============================] - 1s 49ms/step - loss: 0.0320\n",
      "Epoch 33/1000\n",
      "21/21 [==============================] - 1s 50ms/step - loss: 0.0299\n"
     ]
    },
    {
     "name": "stderr",
     "output_type": "stream",
     "text": [
      "INFO:megnet.callbacks:\n",
      "Epoch 00033: val_mae improved from 0.69397 to 0.68396, saving model to callback/val_mae_00033_0.683957.hdf5\n"
     ]
    },
    {
     "name": "stdout",
     "output_type": "stream",
     "text": [
      "Epoch 34/1000\n",
      "21/21 [==============================] - 1s 48ms/step - loss: 0.0273\n",
      "Epoch 35/1000\n",
      "21/21 [==============================] - 1s 49ms/step - loss: 0.0282\n",
      "Epoch 36/1000\n",
      "21/21 [==============================] - 1s 48ms/step - loss: 0.0299\n",
      "Epoch 37/1000\n",
      "21/21 [==============================] - 1s 48ms/step - loss: 0.0349\n",
      "Epoch 38/1000\n",
      "21/21 [==============================] - 1s 48ms/step - loss: 0.0295\n"
     ]
    },
    {
     "name": "stderr",
     "output_type": "stream",
     "text": [
      "INFO:megnet.callbacks:\n",
      "Epoch 00038: val_mae improved from 0.68396 to 0.67923, saving model to callback/val_mae_00038_0.679234.hdf5\n"
     ]
    },
    {
     "name": "stdout",
     "output_type": "stream",
     "text": [
      "Epoch 39/1000\n",
      "21/21 [==============================] - 1s 48ms/step - loss: 0.0316\n",
      "Epoch 40/1000\n",
      "21/21 [==============================] - 1s 48ms/step - loss: 0.0279\n",
      "Epoch 41/1000\n",
      "21/21 [==============================] - 1s 48ms/step - loss: 0.0280\n",
      "Epoch 42/1000\n",
      "21/21 [==============================] - 1s 48ms/step - loss: 0.0282\n",
      "Epoch 43/1000\n",
      "21/21 [==============================] - 1s 48ms/step - loss: 0.0306\n",
      "Epoch 44/1000\n",
      "21/21 [==============================] - 1s 50ms/step - loss: 0.0254\n"
     ]
    },
    {
     "name": "stderr",
     "output_type": "stream",
     "text": [
      "INFO:megnet.callbacks:\n",
      "Epoch 00044: val_mae improved from 0.67923 to 0.67518, saving model to callback/val_mae_00044_0.675177.hdf5\n"
     ]
    },
    {
     "name": "stdout",
     "output_type": "stream",
     "text": [
      "Epoch 45/1000\n",
      "21/21 [==============================] - 1s 48ms/step - loss: 0.0292\n",
      "Epoch 46/1000\n",
      "21/21 [==============================] - 1s 48ms/step - loss: 0.0311\n",
      "Epoch 47/1000\n",
      "21/21 [==============================] - 1s 49ms/step - loss: 0.0285\n",
      "Epoch 48/1000\n",
      "21/21 [==============================] - 1s 48ms/step - loss: 0.0298\n",
      "Epoch 49/1000\n",
      "21/21 [==============================] - 1s 49ms/step - loss: 0.0296\n"
     ]
    },
    {
     "name": "stderr",
     "output_type": "stream",
     "text": [
      "INFO:megnet.callbacks:\n",
      "Epoch 00049: val_mae improved from 0.67518 to 0.67044, saving model to callback/val_mae_00049_0.670442.hdf5\n"
     ]
    },
    {
     "name": "stdout",
     "output_type": "stream",
     "text": [
      "Epoch 50/1000\n",
      "21/21 [==============================] - 1s 49ms/step - loss: 0.0299\n",
      "Epoch 51/1000\n",
      "21/21 [==============================] - 1s 48ms/step - loss: 0.0275\n",
      "Epoch 52/1000\n",
      "21/21 [==============================] - 1s 48ms/step - loss: 0.0302\n",
      "Epoch 53/1000\n",
      "21/21 [==============================] - 1s 49ms/step - loss: 0.0297\n",
      "Epoch 54/1000\n",
      "21/21 [==============================] - 1s 49ms/step - loss: 0.0266\n",
      "Epoch 55/1000\n",
      "21/21 [==============================] - 1s 50ms/step - loss: 0.0292\n"
     ]
    },
    {
     "name": "stderr",
     "output_type": "stream",
     "text": [
      "INFO:megnet.callbacks:\n",
      "Epoch 00055: val_mae improved from 0.67044 to 0.66874, saving model to callback/val_mae_00055_0.668736.hdf5\n"
     ]
    },
    {
     "name": "stdout",
     "output_type": "stream",
     "text": [
      "Epoch 56/1000\n",
      "21/21 [==============================] - 1s 49ms/step - loss: 0.0261\n",
      "Epoch 57/1000\n",
      "21/21 [==============================] - 1s 49ms/step - loss: 0.0269\n",
      "Epoch 58/1000\n",
      "21/21 [==============================] - 1s 49ms/step - loss: 0.0293\n",
      "Epoch 59/1000\n",
      "21/21 [==============================] - 1s 49ms/step - loss: 0.0245\n",
      "Epoch 60/1000\n",
      "21/21 [==============================] - 1s 48ms/step - loss: 0.0296\n",
      "Epoch 61/1000\n",
      "21/21 [==============================] - 1s 48ms/step - loss: 0.0318\n"
     ]
    },
    {
     "name": "stderr",
     "output_type": "stream",
     "text": [
      "INFO:megnet.callbacks:\n",
      "Epoch 00061: val_mae improved from 0.66874 to 0.65926, saving model to callback/val_mae_00061_0.659258.hdf5\n"
     ]
    },
    {
     "name": "stdout",
     "output_type": "stream",
     "text": [
      "Epoch 62/1000\n",
      "21/21 [==============================] - 1s 48ms/step - loss: 0.0264\n",
      "Epoch 63/1000\n",
      "21/21 [==============================] - 1s 49ms/step - loss: 0.0289\n",
      "Epoch 64/1000\n",
      "21/21 [==============================] - 1s 49ms/step - loss: 0.0252\n",
      "Epoch 65/1000\n",
      "21/21 [==============================] - 1s 50ms/step - loss: 0.0320\n",
      "Epoch 66/1000\n",
      "21/21 [==============================] - 1s 49ms/step - loss: 0.0292\n",
      "Epoch 67/1000\n",
      "21/21 [==============================] - 1s 49ms/step - loss: 0.0271\n",
      "Epoch 68/1000\n",
      "21/21 [==============================] - 1s 51ms/step - loss: 0.0255\n",
      "Epoch 69/1000\n",
      "21/21 [==============================] - 1s 49ms/step - loss: 0.0268\n",
      "Epoch 70/1000\n",
      "21/21 [==============================] - 1s 49ms/step - loss: 0.0287\n",
      "Epoch 71/1000\n",
      "21/21 [==============================] - 1s 49ms/step - loss: 0.0261\n",
      "Epoch 72/1000\n",
      "21/21 [==============================] - 1s 49ms/step - loss: 0.0269\n",
      "Epoch 73/1000\n",
      "21/21 [==============================] - 1s 49ms/step - loss: 0.0289\n",
      "Epoch 74/1000\n",
      "21/21 [==============================] - 1s 49ms/step - loss: 0.0280\n",
      "Epoch 75/1000\n",
      "21/21 [==============================] - 1s 49ms/step - loss: 0.0299\n",
      "Epoch 76/1000\n",
      "21/21 [==============================] - 1s 48ms/step - loss: 0.0260\n",
      "Epoch 77/1000\n",
      "21/21 [==============================] - 1s 49ms/step - loss: 0.0274\n",
      "Epoch 78/1000\n",
      "21/21 [==============================] - 1s 49ms/step - loss: 0.0286\n",
      "Epoch 79/1000\n",
      "21/21 [==============================] - 1s 48ms/step - loss: 0.0301\n",
      "Epoch 80/1000\n",
      "21/21 [==============================] - 1s 48ms/step - loss: 0.0271\n",
      "Epoch 81/1000\n",
      "21/21 [==============================] - 1s 48ms/step - loss: 0.0310\n",
      "Epoch 82/1000\n",
      "21/21 [==============================] - 1s 48ms/step - loss: 0.0284\n"
     ]
    },
    {
     "name": "stderr",
     "output_type": "stream",
     "text": [
      "INFO:megnet.callbacks:\n",
      "Epoch 00082: val_mae improved from 0.65926 to 0.64519, saving model to callback/val_mae_00082_0.645195.hdf5\n"
     ]
    },
    {
     "name": "stdout",
     "output_type": "stream",
     "text": [
      "Epoch 83/1000\n",
      "21/21 [==============================] - 1s 49ms/step - loss: 0.0237\n",
      "Epoch 84/1000\n",
      "21/21 [==============================] - 1s 49ms/step - loss: 0.0257\n",
      "Epoch 85/1000\n",
      "21/21 [==============================] - 1s 48ms/step - loss: 0.0298\n",
      "Epoch 86/1000\n",
      "21/21 [==============================] - 1s 48ms/step - loss: 0.0285\n",
      "Epoch 87/1000\n",
      "21/21 [==============================] - 1s 49ms/step - loss: 0.0254\n",
      "Epoch 88/1000\n",
      "21/21 [==============================] - 1s 48ms/step - loss: 0.0256\n"
     ]
    },
    {
     "name": "stderr",
     "output_type": "stream",
     "text": [
      "INFO:megnet.callbacks:\n",
      "Epoch 00088: val_mae improved from 0.64519 to 0.63563, saving model to callback/val_mae_00088_0.635626.hdf5\n"
     ]
    },
    {
     "name": "stdout",
     "output_type": "stream",
     "text": [
      "Epoch 89/1000\n",
      "21/21 [==============================] - 1s 49ms/step - loss: 0.0267\n",
      "Epoch 90/1000\n",
      "21/21 [==============================] - 1s 48ms/step - loss: 0.0235\n",
      "Epoch 91/1000\n",
      "21/21 [==============================] - 1s 49ms/step - loss: 0.0270\n",
      "Epoch 92/1000\n",
      "21/21 [==============================] - 1s 49ms/step - loss: 0.0256\n",
      "Epoch 93/1000\n",
      "21/21 [==============================] - 1s 49ms/step - loss: 0.0244\n",
      "Epoch 94/1000\n",
      "21/21 [==============================] - 1s 48ms/step - loss: 0.0267\n",
      "Epoch 95/1000\n",
      "21/21 [==============================] - 1s 49ms/step - loss: 0.0244\n",
      "Epoch 96/1000\n",
      "21/21 [==============================] - 1s 48ms/step - loss: 0.0259\n",
      "Epoch 97/1000\n",
      "21/21 [==============================] - 1s 49ms/step - loss: 0.0242\n",
      "Epoch 98/1000\n",
      "21/21 [==============================] - 1s 49ms/step - loss: 0.0273\n",
      "Epoch 99/1000\n",
      "21/21 [==============================] - 1s 49ms/step - loss: 0.0226\n",
      "Epoch 100/1000\n",
      "21/21 [==============================] - 1s 49ms/step - loss: 0.0214\n",
      "Epoch 101/1000\n",
      "21/21 [==============================] - 1s 49ms/step - loss: 0.0244\n",
      "Epoch 102/1000\n",
      "21/21 [==============================] - 1s 49ms/step - loss: 0.0302\n",
      "Epoch 103/1000\n",
      "21/21 [==============================] - 1s 48ms/step - loss: 0.0249\n",
      "Epoch 104/1000\n",
      "21/21 [==============================] - 1s 49ms/step - loss: 0.0244\n",
      "Epoch 105/1000\n",
      "21/21 [==============================] - 1s 48ms/step - loss: 0.0237\n",
      "Epoch 106/1000\n",
      "21/21 [==============================] - 1s 49ms/step - loss: 0.0223\n",
      "Epoch 107/1000\n",
      "21/21 [==============================] - 1s 50ms/step - loss: 0.0231\n",
      "Epoch 108/1000\n",
      "21/21 [==============================] - 1s 49ms/step - loss: 0.0225\n",
      "Epoch 109/1000\n",
      "21/21 [==============================] - 1s 49ms/step - loss: 0.0217\n",
      "Epoch 110/1000\n",
      "21/21 [==============================] - 1s 49ms/step - loss: 0.0180\n",
      "Epoch 111/1000\n",
      "21/21 [==============================] - 1s 48ms/step - loss: 0.0238\n",
      "Epoch 112/1000\n",
      "21/21 [==============================] - 1s 49ms/step - loss: 0.0204\n",
      "Epoch 113/1000\n",
      "21/21 [==============================] - 1s 50ms/step - loss: 0.0190\n",
      "Epoch 114/1000\n",
      "21/21 [==============================] - 1s 49ms/step - loss: 0.0197\n",
      "Epoch 115/1000\n",
      "21/21 [==============================] - 1s 49ms/step - loss: 0.0250\n",
      "Epoch 116/1000\n",
      "21/21 [==============================] - 1s 48ms/step - loss: 0.0237\n",
      "Epoch 117/1000\n",
      "21/21 [==============================] - 1s 48ms/step - loss: 0.0193\n",
      "Epoch 118/1000\n",
      "21/21 [==============================] - 1s 48ms/step - loss: 0.0198\n",
      "Epoch 119/1000\n",
      "21/21 [==============================] - 1s 49ms/step - loss: 0.0231\n",
      "Epoch 120/1000\n",
      "21/21 [==============================] - 1s 48ms/step - loss: 0.0180\n",
      "Epoch 121/1000\n",
      "21/21 [==============================] - 1s 50ms/step - loss: 0.0198\n",
      "Epoch 122/1000\n",
      "21/21 [==============================] - 1s 48ms/step - loss: 0.0178\n",
      "Epoch 123/1000\n",
      "21/21 [==============================] - 1s 49ms/step - loss: 0.0215\n",
      "Epoch 124/1000\n",
      "21/21 [==============================] - 1s 49ms/step - loss: 0.0205\n",
      "Epoch 125/1000\n",
      "21/21 [==============================] - 1s 50ms/step - loss: 0.0195\n",
      "Epoch 126/1000\n",
      "21/21 [==============================] - 1s 49ms/step - loss: 0.0261\n",
      "Epoch 127/1000\n",
      "21/21 [==============================] - 1s 48ms/step - loss: 0.0199\n",
      "Epoch 128/1000\n",
      "21/21 [==============================] - 1s 49ms/step - loss: 0.0197\n",
      "Epoch 129/1000\n",
      "21/21 [==============================] - 1s 48ms/step - loss: 0.0170\n",
      "Epoch 130/1000\n",
      "21/21 [==============================] - 1s 48ms/step - loss: 0.0159\n",
      "Epoch 131/1000\n",
      "21/21 [==============================] - 1s 49ms/step - loss: 0.0175\n",
      "Epoch 132/1000\n",
      "21/21 [==============================] - 1s 49ms/step - loss: 0.0151\n",
      "Epoch 133/1000\n",
      "21/21 [==============================] - 1s 49ms/step - loss: 0.0158\n",
      "Epoch 134/1000\n",
      "21/21 [==============================] - 1s 49ms/step - loss: 0.0170\n",
      "Epoch 135/1000\n",
      "21/21 [==============================] - 1s 49ms/step - loss: 0.0158\n",
      "Epoch 136/1000\n",
      "21/21 [==============================] - 1s 49ms/step - loss: 0.0166\n",
      "Epoch 137/1000\n",
      "21/21 [==============================] - 1s 49ms/step - loss: 0.0174\n",
      "Epoch 138/1000\n",
      "21/21 [==============================] - 1s 49ms/step - loss: 0.0133\n"
     ]
    },
    {
     "name": "stderr",
     "output_type": "stream",
     "text": [
      "INFO:megnet.callbacks:\n",
      "Epoch 00138: val_mae improved from 0.63563 to 0.63487, saving model to callback/val_mae_00138_0.634871.hdf5\n"
     ]
    },
    {
     "name": "stdout",
     "output_type": "stream",
     "text": [
      "Epoch 139/1000\n",
      "21/21 [==============================] - 1s 49ms/step - loss: 0.0123\n",
      "Epoch 140/1000\n",
      "21/21 [==============================] - 1s 49ms/step - loss: 0.0147\n",
      "Epoch 141/1000\n",
      "21/21 [==============================] - 1s 48ms/step - loss: 0.0148\n",
      "Epoch 142/1000\n",
      "21/21 [==============================] - 1s 48ms/step - loss: 0.0166\n",
      "Epoch 143/1000\n",
      "21/21 [==============================] - 1s 49ms/step - loss: 0.0119\n"
     ]
    },
    {
     "name": "stderr",
     "output_type": "stream",
     "text": [
      "INFO:megnet.callbacks:\n",
      "Epoch 00143: val_mae improved from 0.63487 to 0.59005, saving model to callback/val_mae_00143_0.590053.hdf5\n"
     ]
    },
    {
     "name": "stdout",
     "output_type": "stream",
     "text": [
      "Epoch 144/1000\n",
      "21/21 [==============================] - 1s 49ms/step - loss: 0.0106\n"
     ]
    },
    {
     "name": "stderr",
     "output_type": "stream",
     "text": [
      "INFO:megnet.callbacks:\n",
      "Epoch 00144: val_mae improved from 0.59005 to 0.55346, saving model to callback/val_mae_00144_0.553458.hdf5\n"
     ]
    },
    {
     "name": "stdout",
     "output_type": "stream",
     "text": [
      "Epoch 145/1000\n",
      "21/21 [==============================] - 1s 48ms/step - loss: 0.0099\n",
      "Epoch 146/1000\n",
      "21/21 [==============================] - 1s 48ms/step - loss: 0.0103\n",
      "Epoch 147/1000\n",
      "21/21 [==============================] - 1s 48ms/step - loss: 0.0109\n",
      "Epoch 148/1000\n",
      "21/21 [==============================] - 1s 49ms/step - loss: 0.0104\n",
      "Epoch 149/1000\n",
      "21/21 [==============================] - 1s 48ms/step - loss: 0.0104\n",
      "Epoch 150/1000\n",
      "21/21 [==============================] - 1s 49ms/step - loss: 0.0077\n"
     ]
    },
    {
     "name": "stderr",
     "output_type": "stream",
     "text": [
      "INFO:megnet.callbacks:\n",
      "Epoch 00150: val_mae improved from 0.55346 to 0.52202, saving model to callback/val_mae_00150_0.522016.hdf5\n"
     ]
    },
    {
     "name": "stdout",
     "output_type": "stream",
     "text": [
      "Epoch 151/1000\n",
      "21/21 [==============================] - 1s 49ms/step - loss: 0.0075\n",
      "Epoch 152/1000\n",
      "21/21 [==============================] - 1s 49ms/step - loss: 0.0075\n",
      "Epoch 153/1000\n",
      "21/21 [==============================] - 1s 48ms/step - loss: 0.0069\n",
      "Epoch 154/1000\n",
      "21/21 [==============================] - 1s 49ms/step - loss: 0.0067\n",
      "Epoch 155/1000\n",
      "21/21 [==============================] - 1s 49ms/step - loss: 0.0060\n"
     ]
    },
    {
     "name": "stderr",
     "output_type": "stream",
     "text": [
      "INFO:megnet.callbacks:\n",
      "Epoch 00155: val_mae improved from 0.52202 to 0.49298, saving model to callback/val_mae_00155_0.492981.hdf5\n"
     ]
    },
    {
     "name": "stdout",
     "output_type": "stream",
     "text": [
      "Epoch 156/1000\n",
      "21/21 [==============================] - 1s 49ms/step - loss: 0.0060\n",
      "Epoch 157/1000\n",
      "21/21 [==============================] - 1s 50ms/step - loss: 0.0057\n"
     ]
    },
    {
     "name": "stderr",
     "output_type": "stream",
     "text": [
      "INFO:megnet.callbacks:\n",
      "Epoch 00157: val_mae improved from 0.49298 to 0.46504, saving model to callback/val_mae_00157_0.465042.hdf5\n"
     ]
    },
    {
     "name": "stdout",
     "output_type": "stream",
     "text": [
      "Epoch 158/1000\n",
      "21/21 [==============================] - 1s 52ms/step - loss: 0.0060\n"
     ]
    },
    {
     "name": "stderr",
     "output_type": "stream",
     "text": [
      "INFO:megnet.callbacks:\n",
      "Epoch 00158: val_mae improved from 0.46504 to 0.44889, saving model to callback/val_mae_00158_0.448887.hdf5\n"
     ]
    },
    {
     "name": "stdout",
     "output_type": "stream",
     "text": [
      "Epoch 159/1000\n",
      "21/21 [==============================] - 1s 49ms/step - loss: 0.0062\n",
      "Epoch 160/1000\n",
      "21/21 [==============================] - 1s 49ms/step - loss: 0.0057\n",
      "Epoch 161/1000\n",
      "21/21 [==============================] - 1s 49ms/step - loss: 0.0054\n",
      "Epoch 162/1000\n",
      "21/21 [==============================] - 1s 49ms/step - loss: 0.0047\n"
     ]
    },
    {
     "name": "stderr",
     "output_type": "stream",
     "text": [
      "INFO:megnet.callbacks:\n",
      "Epoch 00162: val_mae improved from 0.44889 to 0.43779, saving model to callback/val_mae_00162_0.437793.hdf5\n"
     ]
    },
    {
     "name": "stdout",
     "output_type": "stream",
     "text": [
      "Epoch 163/1000\n",
      "21/21 [==============================] - 1s 49ms/step - loss: 0.0047\n",
      "Epoch 164/1000\n",
      "21/21 [==============================] - 1s 50ms/step - loss: 0.0051\n",
      "Epoch 165/1000\n",
      "21/21 [==============================] - 1s 49ms/step - loss: 0.0050\n"
     ]
    },
    {
     "name": "stderr",
     "output_type": "stream",
     "text": [
      "INFO:megnet.callbacks:\n",
      "Epoch 00165: val_mae improved from 0.43779 to 0.41876, saving model to callback/val_mae_00165_0.418763.hdf5\n"
     ]
    },
    {
     "name": "stdout",
     "output_type": "stream",
     "text": [
      "Epoch 166/1000\n",
      "21/21 [==============================] - 1s 50ms/step - loss: 0.0053\n",
      "Epoch 167/1000\n",
      "21/21 [==============================] - 1s 49ms/step - loss: 0.0051\n",
      "Epoch 168/1000\n",
      "21/21 [==============================] - 1s 49ms/step - loss: 0.0048\n",
      "Epoch 169/1000\n",
      "21/21 [==============================] - 1s 50ms/step - loss: 0.0049\n"
     ]
    },
    {
     "name": "stderr",
     "output_type": "stream",
     "text": [
      "INFO:megnet.callbacks:\n",
      "Epoch 00169: val_mae improved from 0.41876 to 0.41611, saving model to callback/val_mae_00169_0.416114.hdf5\n"
     ]
    },
    {
     "name": "stdout",
     "output_type": "stream",
     "text": [
      "Epoch 170/1000\n",
      "21/21 [==============================] - 1s 49ms/step - loss: 0.0051\n",
      "Epoch 171/1000\n",
      "21/21 [==============================] - 1s 48ms/step - loss: 0.0047\n",
      "Epoch 172/1000\n",
      "21/21 [==============================] - 1s 53ms/step - loss: 0.0043\n"
     ]
    },
    {
     "name": "stderr",
     "output_type": "stream",
     "text": [
      "INFO:megnet.callbacks:\n",
      "Epoch 00172: val_mae improved from 0.41611 to 0.40687, saving model to callback/val_mae_00172_0.406874.hdf5\n"
     ]
    },
    {
     "name": "stdout",
     "output_type": "stream",
     "text": [
      "Epoch 173/1000\n",
      "21/21 [==============================] - 1s 49ms/step - loss: 0.0042\n",
      "Epoch 174/1000\n",
      "21/21 [==============================] - 1s 49ms/step - loss: 0.0041\n",
      "Epoch 175/1000\n",
      "21/21 [==============================] - 1s 49ms/step - loss: 0.0041\n",
      "Epoch 176/1000\n",
      "21/21 [==============================] - 1s 48ms/step - loss: 0.0041\n",
      "Epoch 177/1000\n",
      "21/21 [==============================] - 1s 50ms/step - loss: 0.0047\n"
     ]
    },
    {
     "name": "stderr",
     "output_type": "stream",
     "text": [
      "INFO:megnet.callbacks:\n",
      "Epoch 00177: val_mae improved from 0.40687 to 0.39254, saving model to callback/val_mae_00177_0.392536.hdf5\n"
     ]
    },
    {
     "name": "stdout",
     "output_type": "stream",
     "text": [
      "Epoch 178/1000\n",
      "21/21 [==============================] - 1s 49ms/step - loss: 0.0040\n",
      "Epoch 179/1000\n",
      "21/21 [==============================] - 1s 48ms/step - loss: 0.0043\n",
      "Epoch 180/1000\n",
      "21/21 [==============================] - 1s 48ms/step - loss: 0.0041\n"
     ]
    },
    {
     "name": "stderr",
     "output_type": "stream",
     "text": [
      "INFO:megnet.callbacks:\n",
      "Epoch 00180: val_mae improved from 0.39254 to 0.38903, saving model to callback/val_mae_00180_0.389027.hdf5\n"
     ]
    },
    {
     "name": "stdout",
     "output_type": "stream",
     "text": [
      "Epoch 181/1000\n",
      "21/21 [==============================] - 1s 49ms/step - loss: 0.0036\n"
     ]
    },
    {
     "name": "stderr",
     "output_type": "stream",
     "text": [
      "INFO:megnet.callbacks:\n",
      "Epoch 00181: val_mae improved from 0.38903 to 0.37101, saving model to callback/val_mae_00181_0.371014.hdf5\n"
     ]
    },
    {
     "name": "stdout",
     "output_type": "stream",
     "text": [
      "Epoch 182/1000\n",
      "21/21 [==============================] - 1s 49ms/step - loss: 0.0036\n",
      "Epoch 183/1000\n",
      "21/21 [==============================] - 1s 49ms/step - loss: 0.0040\n",
      "Epoch 184/1000\n",
      "21/21 [==============================] - 1s 48ms/step - loss: 0.0040\n",
      "Epoch 185/1000\n",
      "21/21 [==============================] - 1s 50ms/step - loss: 0.0049\n",
      "Epoch 186/1000\n",
      "21/21 [==============================] - 1s 49ms/step - loss: 0.0042\n",
      "Epoch 187/1000\n",
      "21/21 [==============================] - 1s 50ms/step - loss: 0.0041\n",
      "Epoch 188/1000\n",
      "21/21 [==============================] - 1s 49ms/step - loss: 0.0045\n",
      "Epoch 189/1000\n",
      "21/21 [==============================] - 1s 50ms/step - loss: 0.0044\n",
      "Epoch 190/1000\n",
      "21/21 [==============================] - 1s 49ms/step - loss: 0.0043\n",
      "Epoch 191/1000\n",
      "21/21 [==============================] - 1s 48ms/step - loss: 0.0054\n",
      "Epoch 192/1000\n",
      "21/21 [==============================] - 1s 49ms/step - loss: 0.0054\n",
      "Epoch 193/1000\n",
      "21/21 [==============================] - 1s 49ms/step - loss: 0.0057\n",
      "Epoch 194/1000\n",
      "21/21 [==============================] - 1s 50ms/step - loss: 0.0062\n",
      "Epoch 195/1000\n",
      "21/21 [==============================] - 1s 49ms/step - loss: 0.0061\n",
      "Epoch 196/1000\n",
      "21/21 [==============================] - 1s 47ms/step - loss: 0.0050\n",
      "Epoch 197/1000\n",
      "21/21 [==============================] - 1s 50ms/step - loss: 0.0059\n",
      "Epoch 198/1000\n",
      "21/21 [==============================] - 1s 49ms/step - loss: 0.0158\n",
      "Epoch 199/1000\n",
      "21/21 [==============================] - 1s 49ms/step - loss: 0.0157\n",
      "Epoch 200/1000\n",
      "21/21 [==============================] - 1s 49ms/step - loss: 0.0124\n",
      "Epoch 201/1000\n",
      "21/21 [==============================] - 1s 50ms/step - loss: 0.0132\n",
      "Epoch 202/1000\n",
      "21/21 [==============================] - 1s 49ms/step - loss: 0.0212\n",
      "Epoch 203/1000\n",
      "21/21 [==============================] - 1s 48ms/step - loss: 0.0215\n",
      "Epoch 204/1000\n",
      "21/21 [==============================] - 1s 49ms/step - loss: 0.0125\n",
      "Epoch 205/1000\n",
      "21/21 [==============================] - 1s 49ms/step - loss: 0.0091\n",
      "Epoch 206/1000\n",
      "21/21 [==============================] - 1s 48ms/step - loss: 0.0091\n",
      "Epoch 207/1000\n",
      "21/21 [==============================] - 1s 49ms/step - loss: 0.0109\n",
      "Epoch 208/1000\n",
      "21/21 [==============================] - 1s 49ms/step - loss: 0.0085\n",
      "Epoch 209/1000\n",
      "21/21 [==============================] - 1s 49ms/step - loss: 0.0074\n",
      "Epoch 210/1000\n",
      "21/21 [==============================] - 1s 49ms/step - loss: 0.0069\n",
      "Epoch 211/1000\n",
      "21/21 [==============================] - 1s 50ms/step - loss: 0.0063\n",
      "Epoch 212/1000\n",
      "21/21 [==============================] - 1s 49ms/step - loss: 0.0051\n",
      "Epoch 213/1000\n",
      "21/21 [==============================] - 1s 50ms/step - loss: 0.0049\n",
      "Epoch 214/1000\n",
      "21/21 [==============================] - 1s 48ms/step - loss: 0.0043\n",
      "Epoch 215/1000\n",
      "21/21 [==============================] - 1s 49ms/step - loss: 0.0039\n"
     ]
    },
    {
     "name": "stderr",
     "output_type": "stream",
     "text": [
      "INFO:megnet.callbacks:\n",
      "Epoch 00215: val_mae improved from 0.37101 to 0.35637, saving model to callback/val_mae_00215_0.356367.hdf5\n"
     ]
    },
    {
     "name": "stdout",
     "output_type": "stream",
     "text": [
      "Epoch 216/1000\n",
      "21/21 [==============================] - 1s 48ms/step - loss: 0.0043\n",
      "Epoch 217/1000\n",
      "21/21 [==============================] - 1s 48ms/step - loss: 0.0032\n"
     ]
    },
    {
     "name": "stderr",
     "output_type": "stream",
     "text": [
      "INFO:megnet.callbacks:\n",
      "Epoch 00217: val_mae improved from 0.35637 to 0.31151, saving model to callback/val_mae_00217_0.311512.hdf5\n"
     ]
    },
    {
     "name": "stdout",
     "output_type": "stream",
     "text": [
      "Epoch 218/1000\n",
      "21/21 [==============================] - 1s 48ms/step - loss: 0.0027\n",
      "Epoch 219/1000\n",
      "21/21 [==============================] - 1s 48ms/step - loss: 0.0027\n"
     ]
    },
    {
     "name": "stderr",
     "output_type": "stream",
     "text": [
      "INFO:megnet.callbacks:\n",
      "Epoch 00219: val_mae improved from 0.31151 to 0.29112, saving model to callback/val_mae_00219_0.291117.hdf5\n"
     ]
    },
    {
     "name": "stdout",
     "output_type": "stream",
     "text": [
      "Epoch 220/1000\n",
      "21/21 [==============================] - 1s 48ms/step - loss: 0.0022\n"
     ]
    },
    {
     "name": "stderr",
     "output_type": "stream",
     "text": [
      "INFO:megnet.callbacks:\n",
      "Epoch 00220: val_mae improved from 0.29112 to 0.26280, saving model to callback/val_mae_00220_0.262799.hdf5\n"
     ]
    },
    {
     "name": "stdout",
     "output_type": "stream",
     "text": [
      "Epoch 221/1000\n",
      "21/21 [==============================] - 1s 49ms/step - loss: 0.0019\n"
     ]
    },
    {
     "name": "stderr",
     "output_type": "stream",
     "text": [
      "INFO:megnet.callbacks:\n",
      "Epoch 00221: val_mae improved from 0.26280 to 0.23145, saving model to callback/val_mae_00221_0.231449.hdf5\n"
     ]
    },
    {
     "name": "stdout",
     "output_type": "stream",
     "text": [
      "Epoch 222/1000\n",
      "21/21 [==============================] - 1s 49ms/step - loss: 0.0017\n",
      "Epoch 223/1000\n",
      "21/21 [==============================] - 1s 48ms/step - loss: 0.0016\n"
     ]
    },
    {
     "name": "stderr",
     "output_type": "stream",
     "text": [
      "INFO:megnet.callbacks:\n",
      "Epoch 00223: val_mae improved from 0.23145 to 0.21913, saving model to callback/val_mae_00223_0.219126.hdf5\n"
     ]
    },
    {
     "name": "stdout",
     "output_type": "stream",
     "text": [
      "Epoch 224/1000\n",
      "21/21 [==============================] - 1s 49ms/step - loss: 0.0014\n"
     ]
    },
    {
     "name": "stderr",
     "output_type": "stream",
     "text": [
      "INFO:megnet.callbacks:\n",
      "Epoch 00224: val_mae improved from 0.21913 to 0.20168, saving model to callback/val_mae_00224_0.201679.hdf5\n"
     ]
    },
    {
     "name": "stdout",
     "output_type": "stream",
     "text": [
      "Epoch 225/1000\n",
      "21/21 [==============================] - 1s 50ms/step - loss: 0.0014\n",
      "Epoch 226/1000\n",
      "21/21 [==============================] - 1s 50ms/step - loss: 0.0012\n",
      "Epoch 227/1000\n",
      "21/21 [==============================] - 1s 48ms/step - loss: 0.0014\n"
     ]
    },
    {
     "name": "stderr",
     "output_type": "stream",
     "text": [
      "INFO:megnet.callbacks:\n",
      "Epoch 00227: val_mae improved from 0.20168 to 0.20154, saving model to callback/val_mae_00227_0.201542.hdf5\n"
     ]
    },
    {
     "name": "stdout",
     "output_type": "stream",
     "text": [
      "Epoch 228/1000\n",
      "21/21 [==============================] - 1s 49ms/step - loss: 0.0015\n"
     ]
    },
    {
     "name": "stderr",
     "output_type": "stream",
     "text": [
      "INFO:megnet.callbacks:\n",
      "Epoch 00228: val_mae improved from 0.20154 to 0.19462, saving model to callback/val_mae_00228_0.194615.hdf5\n"
     ]
    },
    {
     "name": "stdout",
     "output_type": "stream",
     "text": [
      "Epoch 229/1000\n",
      "21/21 [==============================] - 1s 48ms/step - loss: 0.0013\n",
      "Epoch 230/1000\n",
      "21/21 [==============================] - 1s 49ms/step - loss: 0.0012\n"
     ]
    },
    {
     "name": "stderr",
     "output_type": "stream",
     "text": [
      "INFO:megnet.callbacks:\n",
      "Epoch 00230: val_mae improved from 0.19462 to 0.18849, saving model to callback/val_mae_00230_0.188487.hdf5\n"
     ]
    },
    {
     "name": "stdout",
     "output_type": "stream",
     "text": [
      "Epoch 231/1000\n",
      "21/21 [==============================] - 1s 49ms/step - loss: 0.0012\n"
     ]
    },
    {
     "name": "stderr",
     "output_type": "stream",
     "text": [
      "INFO:megnet.callbacks:\n",
      "Epoch 00231: val_mae improved from 0.18849 to 0.18695, saving model to callback/val_mae_00231_0.186946.hdf5\n"
     ]
    },
    {
     "name": "stdout",
     "output_type": "stream",
     "text": [
      "Epoch 232/1000\n",
      "21/21 [==============================] - 1s 49ms/step - loss: 0.0010\n",
      "Epoch 233/1000\n",
      "21/21 [==============================] - 1s 49ms/step - loss: 0.0011\n",
      "Epoch 234/1000\n",
      "21/21 [==============================] - 1s 49ms/step - loss: 0.0011\n",
      "Epoch 235/1000\n",
      "21/21 [==============================] - 1s 50ms/step - loss: 0.0012\n",
      "Epoch 236/1000\n",
      "21/21 [==============================] - 1s 49ms/step - loss: 9.4928e-04\n",
      "Epoch 237/1000\n",
      "21/21 [==============================] - 1s 49ms/step - loss: 0.0013\n"
     ]
    },
    {
     "name": "stderr",
     "output_type": "stream",
     "text": [
      "INFO:megnet.callbacks:\n",
      "Epoch 00237: val_mae improved from 0.18695 to 0.17908, saving model to callback/val_mae_00237_0.179081.hdf5\n"
     ]
    },
    {
     "name": "stdout",
     "output_type": "stream",
     "text": [
      "Epoch 238/1000\n",
      "21/21 [==============================] - 1s 49ms/step - loss: 0.0011\n",
      "Epoch 239/1000\n",
      "21/21 [==============================] - 1s 48ms/step - loss: 0.0013\n"
     ]
    },
    {
     "name": "stderr",
     "output_type": "stream",
     "text": [
      "INFO:megnet.callbacks:\n",
      "Epoch 00239: val_mae improved from 0.17908 to 0.16905, saving model to callback/val_mae_00239_0.169046.hdf5\n"
     ]
    },
    {
     "name": "stdout",
     "output_type": "stream",
     "text": [
      "Epoch 240/1000\n",
      "21/21 [==============================] - 1s 50ms/step - loss: 0.0011\n",
      "Epoch 241/1000\n",
      "21/21 [==============================] - 1s 49ms/step - loss: 0.0010\n",
      "Epoch 242/1000\n",
      "21/21 [==============================] - 1s 48ms/step - loss: 8.8765e-04\n",
      "Epoch 243/1000\n",
      "21/21 [==============================] - 1s 49ms/step - loss: 0.0013\n",
      "Epoch 244/1000\n",
      "21/21 [==============================] - 1s 48ms/step - loss: 0.0011\n",
      "Epoch 245/1000\n",
      "21/21 [==============================] - 1s 48ms/step - loss: 9.0942e-04\n"
     ]
    },
    {
     "name": "stderr",
     "output_type": "stream",
     "text": [
      "INFO:megnet.callbacks:\n",
      "Epoch 00245: val_mae improved from 0.16905 to 0.16492, saving model to callback/val_mae_00245_0.164919.hdf5\n"
     ]
    },
    {
     "name": "stdout",
     "output_type": "stream",
     "text": [
      "Epoch 246/1000\n",
      "21/21 [==============================] - 1s 48ms/step - loss: 8.8711e-04\n",
      "Epoch 247/1000\n",
      "21/21 [==============================] - 1s 50ms/step - loss: 9.7367e-04\n",
      "Epoch 248/1000\n",
      "21/21 [==============================] - 1s 49ms/step - loss: 9.3424e-04\n",
      "Epoch 249/1000\n",
      "21/21 [==============================] - 1s 49ms/step - loss: 8.5024e-04\n",
      "Epoch 250/1000\n",
      "21/21 [==============================] - 1s 49ms/step - loss: 9.0988e-04\n",
      "Epoch 251/1000\n",
      "21/21 [==============================] - 1s 48ms/step - loss: 9.1904e-04\n",
      "Epoch 252/1000\n",
      "21/21 [==============================] - 1s 48ms/step - loss: 8.6348e-04\n",
      "Epoch 253/1000\n",
      "21/21 [==============================] - 1s 48ms/step - loss: 9.3203e-04\n",
      "Epoch 254/1000\n",
      "21/21 [==============================] - 1s 49ms/step - loss: 8.9740e-04\n",
      "Epoch 255/1000\n",
      "21/21 [==============================] - 1s 50ms/step - loss: 9.8632e-04\n",
      "Epoch 256/1000\n",
      "21/21 [==============================] - 1s 49ms/step - loss: 8.4835e-04\n"
     ]
    },
    {
     "name": "stderr",
     "output_type": "stream",
     "text": [
      "INFO:megnet.callbacks:\n",
      "Epoch 00256: val_mae improved from 0.16492 to 0.15905, saving model to callback/val_mae_00256_0.159054.hdf5\n"
     ]
    },
    {
     "name": "stdout",
     "output_type": "stream",
     "text": [
      "Epoch 257/1000\n",
      "21/21 [==============================] - 1s 49ms/step - loss: 8.1563e-04\n",
      "Epoch 258/1000\n",
      "21/21 [==============================] - 1s 49ms/step - loss: 8.6444e-04\n",
      "Epoch 259/1000\n",
      "21/21 [==============================] - 1s 49ms/step - loss: 0.0011\n",
      "Epoch 260/1000\n",
      "21/21 [==============================] - 1s 49ms/step - loss: 0.0010\n",
      "Epoch 261/1000\n",
      "21/21 [==============================] - 1s 48ms/step - loss: 9.5734e-04\n"
     ]
    },
    {
     "name": "stderr",
     "output_type": "stream",
     "text": [
      "INFO:megnet.callbacks:\n",
      "Epoch 00261: val_mae improved from 0.15905 to 0.15879, saving model to callback/val_mae_00261_0.158791.hdf5\n"
     ]
    },
    {
     "name": "stdout",
     "output_type": "stream",
     "text": [
      "Epoch 262/1000\n",
      "21/21 [==============================] - 1s 49ms/step - loss: 8.3307e-04\n"
     ]
    },
    {
     "name": "stderr",
     "output_type": "stream",
     "text": [
      "INFO:megnet.callbacks:\n",
      "Epoch 00262: val_mae improved from 0.15879 to 0.15259, saving model to callback/val_mae_00262_0.152585.hdf5\n"
     ]
    },
    {
     "name": "stdout",
     "output_type": "stream",
     "text": [
      "Epoch 263/1000\n",
      "21/21 [==============================] - 1s 48ms/step - loss: 8.3350e-04\n",
      "Epoch 264/1000\n",
      "21/21 [==============================] - 1s 49ms/step - loss: 8.1744e-04\n",
      "Epoch 265/1000\n",
      "21/21 [==============================] - 1s 49ms/step - loss: 9.1619e-04\n",
      "Epoch 266/1000\n",
      "21/21 [==============================] - 1s 49ms/step - loss: 8.6110e-04\n"
     ]
    },
    {
     "name": "stderr",
     "output_type": "stream",
     "text": [
      "INFO:megnet.callbacks:\n",
      "Epoch 00266: val_mae improved from 0.15259 to 0.15197, saving model to callback/val_mae_00266_0.151971.hdf5\n"
     ]
    },
    {
     "name": "stdout",
     "output_type": "stream",
     "text": [
      "Epoch 267/1000\n",
      "21/21 [==============================] - 1s 48ms/step - loss: 7.9836e-04\n",
      "Epoch 268/1000\n",
      "21/21 [==============================] - 1s 49ms/step - loss: 8.8344e-04\n",
      "Epoch 269/1000\n",
      "21/21 [==============================] - 1s 50ms/step - loss: 7.8635e-04\n",
      "Epoch 270/1000\n",
      "21/21 [==============================] - 1s 49ms/step - loss: 7.8600e-04\n",
      "Epoch 271/1000\n",
      "21/21 [==============================] - 1s 49ms/step - loss: 8.3644e-04\n",
      "Epoch 272/1000\n",
      "21/21 [==============================] - 1s 49ms/step - loss: 7.2672e-04\n",
      "Epoch 273/1000\n",
      "21/21 [==============================] - 1s 48ms/step - loss: 8.2641e-04\n",
      "Epoch 274/1000\n",
      "21/21 [==============================] - 1s 49ms/step - loss: 0.0011\n",
      "Epoch 275/1000\n",
      "21/21 [==============================] - 1s 49ms/step - loss: 0.0038\n",
      "Epoch 276/1000\n",
      "21/21 [==============================] - 1s 48ms/step - loss: 0.0047\n",
      "Epoch 277/1000\n",
      "21/21 [==============================] - 1s 48ms/step - loss: 0.0034\n",
      "Epoch 278/1000\n",
      "21/21 [==============================] - 1s 48ms/step - loss: 0.0031\n",
      "Epoch 279/1000\n",
      "21/21 [==============================] - 1s 49ms/step - loss: 0.0022\n",
      "Epoch 280/1000\n",
      "21/21 [==============================] - 1s 49ms/step - loss: 0.0014\n",
      "Epoch 281/1000\n",
      "21/21 [==============================] - 1s 49ms/step - loss: 0.0013\n",
      "Epoch 282/1000\n",
      "21/21 [==============================] - 1s 49ms/step - loss: 0.0010\n",
      "Epoch 283/1000\n",
      "21/21 [==============================] - 1s 49ms/step - loss: 9.6231e-04\n",
      "Epoch 284/1000\n",
      "21/21 [==============================] - 1s 49ms/step - loss: 0.0013\n",
      "Epoch 285/1000\n",
      "21/21 [==============================] - 1s 49ms/step - loss: 9.2061e-04\n",
      "Epoch 286/1000\n",
      "21/21 [==============================] - 1s 48ms/step - loss: 0.0011\n",
      "Epoch 287/1000\n",
      "21/21 [==============================] - 1s 48ms/step - loss: 9.0610e-04\n",
      "Epoch 288/1000\n",
      "21/21 [==============================] - 1s 48ms/step - loss: 0.0011\n",
      "Epoch 289/1000\n",
      "21/21 [==============================] - 1s 48ms/step - loss: 9.9373e-04\n",
      "Epoch 290/1000\n",
      "21/21 [==============================] - 1s 49ms/step - loss: 7.7650e-04\n",
      "Epoch 291/1000\n",
      "21/21 [==============================] - 1s 48ms/step - loss: 0.0011\n",
      "Epoch 292/1000\n",
      "21/21 [==============================] - 1s 48ms/step - loss: 8.2395e-04\n",
      "Epoch 293/1000\n",
      "21/21 [==============================] - 1s 49ms/step - loss: 9.7549e-04\n",
      "Epoch 294/1000\n",
      "21/21 [==============================] - 1s 51ms/step - loss: 7.8329e-04\n",
      "Epoch 295/1000\n",
      "21/21 [==============================] - 1s 48ms/step - loss: 8.3332e-04\n",
      "Epoch 296/1000\n",
      "21/21 [==============================] - 1s 48ms/step - loss: 8.7470e-04\n",
      "Epoch 297/1000\n",
      "21/21 [==============================] - 1s 49ms/step - loss: 7.6538e-04\n",
      "Epoch 298/1000\n",
      "21/21 [==============================] - 1s 49ms/step - loss: 8.2061e-04\n",
      "Epoch 299/1000\n",
      "21/21 [==============================] - 1s 49ms/step - loss: 0.0011\n",
      "Epoch 300/1000\n",
      "21/21 [==============================] - 1s 49ms/step - loss: 0.0012\n"
     ]
    },
    {
     "name": "stderr",
     "output_type": "stream",
     "text": [
      "INFO:megnet.callbacks:\n",
      "Epoch 00300: val_mae improved from 0.15197 to 0.14698, saving model to callback/val_mae_00300_0.146982.hdf5\n"
     ]
    },
    {
     "name": "stdout",
     "output_type": "stream",
     "text": [
      "Epoch 301/1000\n",
      "21/21 [==============================] - 1s 49ms/step - loss: 6.9702e-04\n",
      "Epoch 302/1000\n",
      "21/21 [==============================] - 1s 48ms/step - loss: 9.7272e-04\n",
      "Epoch 303/1000\n",
      "21/21 [==============================] - 1s 49ms/step - loss: 8.3933e-04\n",
      "Epoch 304/1000\n",
      "21/21 [==============================] - 1s 49ms/step - loss: 7.4199e-04\n",
      "Epoch 305/1000\n",
      "21/21 [==============================] - 1s 48ms/step - loss: 6.7171e-04\n"
     ]
    },
    {
     "name": "stderr",
     "output_type": "stream",
     "text": [
      "INFO:megnet.callbacks:\n",
      "Epoch 00305: val_mae improved from 0.14698 to 0.14606, saving model to callback/val_mae_00305_0.146060.hdf5\n"
     ]
    },
    {
     "name": "stdout",
     "output_type": "stream",
     "text": [
      "Epoch 306/1000\n",
      "21/21 [==============================] - 1s 48ms/step - loss: 6.3150e-04\n",
      "Epoch 307/1000\n",
      "21/21 [==============================] - 1s 49ms/step - loss: 6.5707e-04\n",
      "Epoch 308/1000\n",
      "21/21 [==============================] - 1s 49ms/step - loss: 7.7763e-04\n",
      "Epoch 309/1000\n",
      "21/21 [==============================] - 1s 48ms/step - loss: 7.7835e-04\n",
      "Epoch 310/1000\n",
      "21/21 [==============================] - 1s 49ms/step - loss: 6.4996e-04\n",
      "Epoch 311/1000\n",
      "21/21 [==============================] - 1s 48ms/step - loss: 6.9281e-04\n"
     ]
    },
    {
     "name": "stderr",
     "output_type": "stream",
     "text": [
      "INFO:megnet.callbacks:\n",
      "Epoch 00311: val_mae improved from 0.14606 to 0.14156, saving model to callback/val_mae_00311_0.141561.hdf5\n"
     ]
    },
    {
     "name": "stdout",
     "output_type": "stream",
     "text": [
      "Epoch 312/1000\n",
      "21/21 [==============================] - 1s 49ms/step - loss: 6.4504e-04\n",
      "Epoch 313/1000\n",
      "21/21 [==============================] - 1s 49ms/step - loss: 8.7594e-04\n",
      "Epoch 314/1000\n",
      "21/21 [==============================] - 1s 49ms/step - loss: 7.9005e-04\n",
      "Epoch 315/1000\n",
      "21/21 [==============================] - 1s 49ms/step - loss: 7.3186e-04\n",
      "Epoch 316/1000\n",
      "21/21 [==============================] - 1s 49ms/step - loss: 9.1762e-04\n",
      "Epoch 317/1000\n",
      "21/21 [==============================] - 1s 48ms/step - loss: 9.6642e-04\n",
      "Epoch 318/1000\n",
      "21/21 [==============================] - 1s 49ms/step - loss: 0.0011\n",
      "Epoch 319/1000\n",
      "21/21 [==============================] - 1s 49ms/step - loss: 0.0013\n",
      "Epoch 320/1000\n",
      "21/21 [==============================] - 1s 48ms/step - loss: 0.0012\n",
      "Epoch 321/1000\n",
      "21/21 [==============================] - 1s 49ms/step - loss: 8.5198e-04\n",
      "Epoch 322/1000\n",
      "21/21 [==============================] - 1s 49ms/step - loss: 7.1134e-04\n",
      "Epoch 323/1000\n",
      "21/21 [==============================] - 1s 49ms/step - loss: 7.1404e-04\n"
     ]
    },
    {
     "name": "stderr",
     "output_type": "stream",
     "text": [
      "INFO:megnet.callbacks:\n",
      "Epoch 00323: val_mae improved from 0.14156 to 0.13719, saving model to callback/val_mae_00323_0.137194.hdf5\n"
     ]
    },
    {
     "name": "stdout",
     "output_type": "stream",
     "text": [
      "Epoch 324/1000\n",
      "21/21 [==============================] - 1s 49ms/step - loss: 5.9297e-04\n",
      "Epoch 325/1000\n",
      "21/21 [==============================] - 1s 49ms/step - loss: 6.8665e-04\n",
      "Epoch 326/1000\n",
      "21/21 [==============================] - 1s 49ms/step - loss: 7.5132e-04\n",
      "Epoch 327/1000\n",
      "21/21 [==============================] - 1s 48ms/step - loss: 8.7346e-04\n",
      "Epoch 328/1000\n",
      "21/21 [==============================] - 1s 48ms/step - loss: 6.1262e-04\n",
      "Epoch 329/1000\n",
      "21/21 [==============================] - 1s 49ms/step - loss: 6.5671e-04\n",
      "Epoch 330/1000\n",
      "21/21 [==============================] - 1s 49ms/step - loss: 5.4684e-04\n",
      "Epoch 331/1000\n",
      "21/21 [==============================] - 1s 49ms/step - loss: 5.3913e-04\n"
     ]
    },
    {
     "name": "stderr",
     "output_type": "stream",
     "text": [
      "INFO:megnet.callbacks:\n",
      "Epoch 00331: val_mae improved from 0.13719 to 0.13558, saving model to callback/val_mae_00331_0.135577.hdf5\n"
     ]
    },
    {
     "name": "stdout",
     "output_type": "stream",
     "text": [
      "Epoch 332/1000\n",
      "21/21 [==============================] - 1s 49ms/step - loss: 5.2100e-04\n",
      "Epoch 333/1000\n",
      "21/21 [==============================] - 1s 49ms/step - loss: 5.6204e-04\n",
      "Epoch 334/1000\n",
      "21/21 [==============================] - 1s 49ms/step - loss: 4.7326e-04\n",
      "Epoch 335/1000\n",
      "21/21 [==============================] - 1s 48ms/step - loss: 5.7653e-04\n",
      "Epoch 336/1000\n",
      "21/21 [==============================] - 1s 48ms/step - loss: 5.2580e-04\n",
      "Epoch 337/1000\n",
      "21/21 [==============================] - 1s 49ms/step - loss: 5.3370e-04\n",
      "Epoch 338/1000\n",
      "21/21 [==============================] - 1s 49ms/step - loss: 8.1282e-04\n",
      "Epoch 339/1000\n",
      "21/21 [==============================] - 1s 51ms/step - loss: 5.1738e-04\n",
      "Epoch 340/1000\n",
      "21/21 [==============================] - 1s 49ms/step - loss: 4.9921e-04\n"
     ]
    },
    {
     "name": "stderr",
     "output_type": "stream",
     "text": [
      "INFO:megnet.callbacks:\n",
      "Epoch 00340: val_mae improved from 0.13558 to 0.13410, saving model to callback/val_mae_00340_0.134096.hdf5\n"
     ]
    },
    {
     "name": "stdout",
     "output_type": "stream",
     "text": [
      "Epoch 341/1000\n",
      "21/21 [==============================] - 1s 49ms/step - loss: 4.8055e-04\n",
      "Epoch 342/1000\n",
      "21/21 [==============================] - 1s 49ms/step - loss: 4.9584e-04\n",
      "Epoch 343/1000\n",
      "21/21 [==============================] - 1s 49ms/step - loss: 5.3673e-04\n",
      "Epoch 344/1000\n",
      "21/21 [==============================] - 1s 48ms/step - loss: 5.8721e-04\n",
      "Epoch 345/1000\n",
      "21/21 [==============================] - 1s 48ms/step - loss: 4.8831e-04\n",
      "Epoch 346/1000\n",
      "21/21 [==============================] - 1s 49ms/step - loss: 4.5949e-04\n",
      "Epoch 347/1000\n",
      "21/21 [==============================] - 1s 48ms/step - loss: 5.2561e-04\n",
      "Epoch 348/1000\n",
      "21/21 [==============================] - 1s 50ms/step - loss: 4.7356e-04\n",
      "Epoch 349/1000\n",
      "21/21 [==============================] - 1s 49ms/step - loss: 4.4638e-04\n",
      "Epoch 350/1000\n",
      "21/21 [==============================] - 1s 49ms/step - loss: 4.8895e-04\n",
      "Epoch 351/1000\n",
      "21/21 [==============================] - 1s 50ms/step - loss: 4.9932e-04\n",
      "Epoch 352/1000\n",
      "21/21 [==============================] - 1s 49ms/step - loss: 5.1115e-04\n",
      "Epoch 353/1000\n",
      "21/21 [==============================] - 1s 49ms/step - loss: 6.5913e-04\n",
      "Epoch 354/1000\n",
      "21/21 [==============================] - 1s 49ms/step - loss: 4.6615e-04\n",
      "Epoch 355/1000\n",
      "21/21 [==============================] - 1s 49ms/step - loss: 5.4410e-04\n",
      "Epoch 356/1000\n",
      "21/21 [==============================] - 1s 49ms/step - loss: 4.5438e-04\n",
      "Epoch 357/1000\n",
      "21/21 [==============================] - 1s 49ms/step - loss: 4.4844e-04\n",
      "Epoch 358/1000\n",
      "21/21 [==============================] - 1s 49ms/step - loss: 4.8188e-04\n"
     ]
    },
    {
     "name": "stderr",
     "output_type": "stream",
     "text": [
      "INFO:megnet.callbacks:\n",
      "Epoch 00358: val_mae improved from 0.13410 to 0.13360, saving model to callback/val_mae_00358_0.133604.hdf5\n"
     ]
    },
    {
     "name": "stdout",
     "output_type": "stream",
     "text": [
      "Epoch 359/1000\n",
      "21/21 [==============================] - 1s 48ms/step - loss: 4.8836e-04\n",
      "Epoch 360/1000\n",
      "21/21 [==============================] - 1s 49ms/step - loss: 6.1688e-04\n"
     ]
    },
    {
     "name": "stderr",
     "output_type": "stream",
     "text": [
      "INFO:megnet.callbacks:\n",
      "Epoch 00360: val_mae improved from 0.13360 to 0.12824, saving model to callback/val_mae_00360_0.128241.hdf5\n"
     ]
    },
    {
     "name": "stdout",
     "output_type": "stream",
     "text": [
      "Epoch 361/1000\n",
      "21/21 [==============================] - 1s 49ms/step - loss: 4.1194e-04\n",
      "Epoch 362/1000\n",
      "21/21 [==============================] - 1s 49ms/step - loss: 4.6241e-04\n",
      "Epoch 363/1000\n",
      "21/21 [==============================] - 1s 49ms/step - loss: 0.0028\n",
      "Epoch 364/1000\n",
      "21/21 [==============================] - 1s 50ms/step - loss: 0.0063\n",
      "Epoch 365/1000\n",
      "21/21 [==============================] - 1s 49ms/step - loss: 0.0084\n",
      "Epoch 366/1000\n",
      "21/21 [==============================] - 1s 49ms/step - loss: 0.0044\n",
      "Epoch 367/1000\n",
      "21/21 [==============================] - 1s 48ms/step - loss: 0.0045\n",
      "Epoch 368/1000\n",
      "21/21 [==============================] - 1s 50ms/step - loss: 0.0035\n",
      "Epoch 369/1000\n",
      "21/21 [==============================] - 1s 49ms/step - loss: 0.0036\n",
      "Epoch 370/1000\n",
      "21/21 [==============================] - 1s 48ms/step - loss: 0.0020\n",
      "Epoch 371/1000\n",
      "21/21 [==============================] - 1s 50ms/step - loss: 0.0023\n",
      "Epoch 372/1000\n",
      "21/21 [==============================] - 1s 49ms/step - loss: 0.0022\n",
      "Epoch 373/1000\n",
      "21/21 [==============================] - 1s 48ms/step - loss: 0.0019\n",
      "Epoch 374/1000\n",
      "21/21 [==============================] - 1s 49ms/step - loss: 0.0020\n",
      "Epoch 375/1000\n",
      "21/21 [==============================] - 1s 48ms/step - loss: 0.0011\n",
      "Epoch 376/1000\n",
      "21/21 [==============================] - 1s 48ms/step - loss: 0.0010\n",
      "Epoch 377/1000\n",
      "21/21 [==============================] - 1s 49ms/step - loss: 9.3253e-04\n",
      "Epoch 378/1000\n",
      "21/21 [==============================] - 1s 49ms/step - loss: 8.4592e-04\n",
      "Epoch 379/1000\n",
      "21/21 [==============================] - 1s 48ms/step - loss: 9.3304e-04\n",
      "Epoch 380/1000\n",
      "21/21 [==============================] - 1s 48ms/step - loss: 7.8493e-04\n",
      "Epoch 381/1000\n",
      "21/21 [==============================] - 1s 48ms/step - loss: 8.0890e-04\n",
      "Epoch 382/1000\n",
      "21/21 [==============================] - 1s 48ms/step - loss: 9.5392e-04\n",
      "Epoch 383/1000\n",
      "21/21 [==============================] - 1s 49ms/step - loss: 8.2242e-04\n",
      "Epoch 384/1000\n",
      "21/21 [==============================] - 1s 48ms/step - loss: 8.2342e-04\n",
      "Epoch 385/1000\n",
      "21/21 [==============================] - 1s 48ms/step - loss: 6.8839e-04\n",
      "Epoch 386/1000\n",
      "21/21 [==============================] - 1s 49ms/step - loss: 8.0406e-04\n",
      "Epoch 387/1000\n",
      "21/21 [==============================] - 1s 48ms/step - loss: 8.5749e-04\n",
      "Epoch 388/1000\n",
      "21/21 [==============================] - 1s 48ms/step - loss: 8.2937e-04\n",
      "Epoch 389/1000\n",
      "21/21 [==============================] - 1s 49ms/step - loss: 7.4449e-04\n",
      "Epoch 390/1000\n",
      "21/21 [==============================] - 1s 49ms/step - loss: 6.7114e-04\n",
      "Epoch 391/1000\n",
      "21/21 [==============================] - 1s 48ms/step - loss: 5.9383e-04\n",
      "Epoch 392/1000\n",
      "21/21 [==============================] - 1s 50ms/step - loss: 6.5984e-04\n",
      "Epoch 393/1000\n",
      "21/21 [==============================] - 1s 49ms/step - loss: 7.4176e-04\n",
      "Epoch 394/1000\n",
      "21/21 [==============================] - 1s 49ms/step - loss: 7.6594e-04\n",
      "Epoch 395/1000\n",
      "21/21 [==============================] - 1s 48ms/step - loss: 5.8783e-04\n",
      "Epoch 396/1000\n",
      "21/21 [==============================] - 1s 48ms/step - loss: 7.0339e-04\n",
      "Epoch 397/1000\n",
      "21/21 [==============================] - 1s 48ms/step - loss: 7.5168e-04\n",
      "Epoch 398/1000\n",
      "21/21 [==============================] - 1s 48ms/step - loss: 7.0432e-04\n",
      "Epoch 399/1000\n",
      "21/21 [==============================] - 1s 48ms/step - loss: 7.8971e-04\n",
      "Epoch 400/1000\n",
      "21/21 [==============================] - 1s 49ms/step - loss: 5.5514e-04\n",
      "Epoch 401/1000\n",
      "21/21 [==============================] - 1s 49ms/step - loss: 8.8661e-04\n",
      "Epoch 402/1000\n",
      "21/21 [==============================] - 1s 49ms/step - loss: 8.1734e-04\n",
      "Epoch 403/1000\n",
      "21/21 [==============================] - 1s 49ms/step - loss: 8.7811e-04\n",
      "Epoch 404/1000\n",
      "21/21 [==============================] - 1s 49ms/step - loss: 5.6412e-04\n"
     ]
    },
    {
     "name": "stderr",
     "output_type": "stream",
     "text": [
      "INFO:megnet.callbacks:\n",
      "Epoch 00404: val_mae improved from 0.12824 to 0.12582, saving model to callback/val_mae_00404_0.125818.hdf5\n"
     ]
    },
    {
     "name": "stdout",
     "output_type": "stream",
     "text": [
      "Epoch 405/1000\n",
      "21/21 [==============================] - 1s 49ms/step - loss: 6.1108e-04\n",
      "Epoch 406/1000\n",
      "21/21 [==============================] - 1s 49ms/step - loss: 5.6109e-04\n",
      "Epoch 407/1000\n",
      "21/21 [==============================] - 1s 49ms/step - loss: 5.4193e-04\n",
      "Epoch 408/1000\n",
      "21/21 [==============================] - 1s 49ms/step - loss: 6.8984e-04\n",
      "Epoch 409/1000\n",
      "21/21 [==============================] - 1s 48ms/step - loss: 5.9563e-04\n",
      "Epoch 410/1000\n",
      "21/21 [==============================] - 1s 49ms/step - loss: 5.4144e-04\n",
      "Epoch 411/1000\n",
      "21/21 [==============================] - 1s 49ms/step - loss: 6.3488e-04\n",
      "Epoch 412/1000\n",
      "21/21 [==============================] - 1s 49ms/step - loss: 5.4047e-04\n",
      "Epoch 413/1000\n",
      "21/21 [==============================] - 1s 49ms/step - loss: 5.4568e-04\n",
      "Epoch 414/1000\n",
      "21/21 [==============================] - 1s 49ms/step - loss: 5.9073e-04\n",
      "Epoch 415/1000\n",
      "21/21 [==============================] - 1s 48ms/step - loss: 5.6743e-04\n",
      "Epoch 416/1000\n",
      "21/21 [==============================] - 1s 49ms/step - loss: 6.8922e-04\n",
      "Epoch 417/1000\n",
      "21/21 [==============================] - 1s 49ms/step - loss: 6.2794e-04\n"
     ]
    },
    {
     "name": "stderr",
     "output_type": "stream",
     "text": [
      "INFO:megnet.callbacks:\n",
      "Epoch 00417: val_mae improved from 0.12582 to 0.12560, saving model to callback/val_mae_00417_0.125604.hdf5\n"
     ]
    },
    {
     "name": "stdout",
     "output_type": "stream",
     "text": [
      "Epoch 418/1000\n",
      "21/21 [==============================] - 1s 49ms/step - loss: 5.7199e-04\n",
      "Epoch 419/1000\n",
      "21/21 [==============================] - 1s 49ms/step - loss: 5.0080e-04\n",
      "Epoch 420/1000\n",
      "21/21 [==============================] - 1s 49ms/step - loss: 5.6716e-04\n",
      "Epoch 421/1000\n",
      "21/21 [==============================] - 1s 49ms/step - loss: 5.1166e-04\n",
      "Epoch 422/1000\n",
      "21/21 [==============================] - 1s 49ms/step - loss: 5.3240e-04\n",
      "Epoch 423/1000\n",
      "21/21 [==============================] - 1s 50ms/step - loss: 5.7753e-04\n",
      "Epoch 424/1000\n",
      "21/21 [==============================] - 1s 49ms/step - loss: 6.7250e-04\n",
      "Epoch 425/1000\n",
      "21/21 [==============================] - 1s 50ms/step - loss: 4.8411e-04\n"
     ]
    },
    {
     "name": "stderr",
     "output_type": "stream",
     "text": [
      "INFO:megnet.callbacks:\n",
      "Epoch 00425: val_mae improved from 0.12560 to 0.12484, saving model to callback/val_mae_00425_0.124841.hdf5\n"
     ]
    },
    {
     "name": "stdout",
     "output_type": "stream",
     "text": [
      "Epoch 426/1000\n",
      "21/21 [==============================] - 1s 48ms/step - loss: 4.6100e-04\n",
      "Epoch 427/1000\n",
      "21/21 [==============================] - 1s 49ms/step - loss: 5.7136e-04\n",
      "Epoch 428/1000\n",
      "21/21 [==============================] - 1s 49ms/step - loss: 5.9357e-04\n",
      "Epoch 429/1000\n",
      "21/21 [==============================] - 1s 50ms/step - loss: 4.2688e-04\n",
      "Epoch 430/1000\n",
      "21/21 [==============================] - 1s 50ms/step - loss: 4.5217e-04\n"
     ]
    },
    {
     "name": "stderr",
     "output_type": "stream",
     "text": [
      "INFO:megnet.callbacks:\n",
      "Epoch 00430: val_mae improved from 0.12484 to 0.12462, saving model to callback/val_mae_00430_0.124622.hdf5\n"
     ]
    },
    {
     "name": "stdout",
     "output_type": "stream",
     "text": [
      "Epoch 431/1000\n",
      "21/21 [==============================] - 1s 49ms/step - loss: 4.7899e-04\n"
     ]
    },
    {
     "name": "stderr",
     "output_type": "stream",
     "text": [
      "INFO:megnet.callbacks:\n",
      "Epoch 00431: val_mae improved from 0.12462 to 0.12095, saving model to callback/val_mae_00431_0.120953.hdf5\n"
     ]
    },
    {
     "name": "stdout",
     "output_type": "stream",
     "text": [
      "Epoch 432/1000\n",
      "21/21 [==============================] - 1s 50ms/step - loss: 5.2158e-04\n"
     ]
    },
    {
     "name": "stderr",
     "output_type": "stream",
     "text": [
      "INFO:megnet.callbacks:\n",
      "Epoch 00432: val_mae improved from 0.12095 to 0.11949, saving model to callback/val_mae_00432_0.119493.hdf5\n"
     ]
    },
    {
     "name": "stdout",
     "output_type": "stream",
     "text": [
      "Epoch 433/1000\n",
      "21/21 [==============================] - 1s 50ms/step - loss: 5.5117e-04\n",
      "Epoch 434/1000\n",
      "21/21 [==============================] - 1s 48ms/step - loss: 4.8851e-04\n",
      "Epoch 435/1000\n",
      "21/21 [==============================] - 1s 48ms/step - loss: 4.5864e-04\n",
      "Epoch 436/1000\n",
      "21/21 [==============================] - 1s 50ms/step - loss: 4.4567e-04\n",
      "Epoch 437/1000\n",
      "21/21 [==============================] - 1s 49ms/step - loss: 4.3753e-04\n",
      "Epoch 438/1000\n",
      "21/21 [==============================] - 1s 49ms/step - loss: 6.0223e-04\n",
      "Epoch 439/1000\n",
      "21/21 [==============================] - 1s 49ms/step - loss: 3.9277e-04\n",
      "Epoch 440/1000\n",
      "21/21 [==============================] - 1s 48ms/step - loss: 4.6170e-04\n",
      "Epoch 441/1000\n",
      "21/21 [==============================] - 1s 49ms/step - loss: 5.2393e-04\n",
      "Epoch 442/1000\n",
      "21/21 [==============================] - 1s 49ms/step - loss: 3.9814e-04\n",
      "Epoch 443/1000\n",
      "21/21 [==============================] - 1s 49ms/step - loss: 4.6835e-04\n",
      "Epoch 444/1000\n",
      "21/21 [==============================] - 1s 49ms/step - loss: 4.6279e-04\n",
      "Epoch 445/1000\n",
      "21/21 [==============================] - 1s 48ms/step - loss: 4.1549e-04\n"
     ]
    },
    {
     "name": "stderr",
     "output_type": "stream",
     "text": [
      "INFO:megnet.callbacks:\n",
      "Epoch 00445: val_mae improved from 0.11949 to 0.11572, saving model to callback/val_mae_00445_0.115717.hdf5\n"
     ]
    },
    {
     "name": "stdout",
     "output_type": "stream",
     "text": [
      "Epoch 446/1000\n",
      "21/21 [==============================] - 1s 49ms/step - loss: 3.5943e-04\n",
      "Epoch 447/1000\n",
      "21/21 [==============================] - 1s 49ms/step - loss: 4.8128e-04\n",
      "Epoch 448/1000\n",
      "21/21 [==============================] - 1s 51ms/step - loss: 3.7901e-04\n",
      "Epoch 449/1000\n",
      "21/21 [==============================] - 1s 49ms/step - loss: 5.5190e-04\n",
      "Epoch 450/1000\n",
      "21/21 [==============================] - 1s 49ms/step - loss: 5.4450e-04\n",
      "Epoch 451/1000\n",
      "21/21 [==============================] - 1s 49ms/step - loss: 5.1142e-04\n",
      "Epoch 452/1000\n",
      "21/21 [==============================] - 1s 49ms/step - loss: 4.6323e-04\n",
      "Epoch 453/1000\n",
      "21/21 [==============================] - 1s 48ms/step - loss: 3.9584e-04\n",
      "Epoch 454/1000\n",
      "21/21 [==============================] - 1s 50ms/step - loss: 6.0999e-04\n",
      "Epoch 455/1000\n",
      "21/21 [==============================] - 1s 48ms/step - loss: 4.2982e-04\n",
      "Epoch 456/1000\n",
      "21/21 [==============================] - 1s 49ms/step - loss: 3.8680e-04\n",
      "Epoch 457/1000\n",
      "21/21 [==============================] - 1s 49ms/step - loss: 4.3593e-04\n",
      "Epoch 458/1000\n",
      "21/21 [==============================] - 1s 49ms/step - loss: 5.5496e-04\n",
      "Epoch 459/1000\n",
      "21/21 [==============================] - 1s 49ms/step - loss: 5.2484e-04\n",
      "Epoch 460/1000\n",
      "21/21 [==============================] - 1s 49ms/step - loss: 4.0208e-04\n",
      "Epoch 461/1000\n",
      "21/21 [==============================] - 1s 49ms/step - loss: 5.8283e-04\n",
      "Epoch 462/1000\n",
      "21/21 [==============================] - 1s 50ms/step - loss: 4.8820e-04\n",
      "Epoch 463/1000\n",
      "21/21 [==============================] - 1s 49ms/step - loss: 4.8470e-04\n",
      "Epoch 464/1000\n",
      "21/21 [==============================] - 1s 48ms/step - loss: 4.5035e-04\n",
      "Epoch 465/1000\n",
      "21/21 [==============================] - 1s 49ms/step - loss: 4.4337e-04\n",
      "Epoch 466/1000\n",
      "21/21 [==============================] - 1s 48ms/step - loss: 4.3405e-04\n",
      "Epoch 467/1000\n",
      "21/21 [==============================] - 1s 50ms/step - loss: 4.4093e-04\n",
      "Epoch 468/1000\n",
      "21/21 [==============================] - 1s 48ms/step - loss: 4.3192e-04\n",
      "Epoch 469/1000\n",
      "21/21 [==============================] - 1s 47ms/step - loss: 5.4422e-04\n",
      "Epoch 470/1000\n",
      "21/21 [==============================] - 1s 51ms/step - loss: 4.0913e-04\n",
      "Epoch 471/1000\n",
      "21/21 [==============================] - 1s 49ms/step - loss: 4.1800e-04\n"
     ]
    },
    {
     "name": "stderr",
     "output_type": "stream",
     "text": [
      "INFO:megnet.callbacks:\n",
      "Epoch 00471: val_mae improved from 0.11572 to 0.11489, saving model to callback/val_mae_00471_0.114889.hdf5\n"
     ]
    },
    {
     "name": "stdout",
     "output_type": "stream",
     "text": [
      "Epoch 472/1000\n",
      "21/21 [==============================] - 1s 49ms/step - loss: 3.5135e-04\n",
      "Epoch 473/1000\n",
      "21/21 [==============================] - 1s 48ms/step - loss: 3.4091e-04\n",
      "Epoch 474/1000\n",
      "21/21 [==============================] - 1s 50ms/step - loss: 4.3339e-04\n",
      "Epoch 475/1000\n",
      "21/21 [==============================] - 1s 49ms/step - loss: 3.9334e-04\n",
      "Epoch 476/1000\n",
      "21/21 [==============================] - 1s 49ms/step - loss: 4.3045e-04\n",
      "Epoch 477/1000\n",
      "21/21 [==============================] - 1s 48ms/step - loss: 4.8150e-04\n"
     ]
    },
    {
     "name": "stderr",
     "output_type": "stream",
     "text": [
      "INFO:megnet.callbacks:\n",
      "Epoch 00477: val_mae improved from 0.11489 to 0.11321, saving model to callback/val_mae_00477_0.113214.hdf5\n"
     ]
    },
    {
     "name": "stdout",
     "output_type": "stream",
     "text": [
      "Epoch 478/1000\n",
      "21/21 [==============================] - 1s 49ms/step - loss: 4.1298e-04\n",
      "Epoch 479/1000\n",
      "21/21 [==============================] - 1s 53ms/step - loss: 4.3958e-04\n"
     ]
    },
    {
     "name": "stderr",
     "output_type": "stream",
     "text": [
      "INFO:megnet.callbacks:\n",
      "Epoch 00479: val_mae improved from 0.11321 to 0.11005, saving model to callback/val_mae_00479_0.110052.hdf5\n"
     ]
    },
    {
     "name": "stdout",
     "output_type": "stream",
     "text": [
      "Epoch 480/1000\n",
      "21/21 [==============================] - 1s 49ms/step - loss: 3.2000e-04\n",
      "Epoch 481/1000\n",
      "21/21 [==============================] - 1s 49ms/step - loss: 3.5374e-04\n",
      "Epoch 482/1000\n",
      "21/21 [==============================] - 1s 49ms/step - loss: 3.3650e-04\n",
      "Epoch 483/1000\n",
      "21/21 [==============================] - 1s 48ms/step - loss: 4.3990e-04\n",
      "Epoch 484/1000\n",
      "21/21 [==============================] - 1s 49ms/step - loss: 3.7744e-04\n",
      "Epoch 485/1000\n",
      "21/21 [==============================] - 1s 49ms/step - loss: 6.3075e-04\n",
      "Epoch 486/1000\n",
      "21/21 [==============================] - 1s 49ms/step - loss: 5.9677e-04\n",
      "Epoch 487/1000\n",
      "21/21 [==============================] - 1s 48ms/step - loss: 4.0378e-04\n",
      "Epoch 488/1000\n",
      "21/21 [==============================] - 1s 49ms/step - loss: 3.4419e-04\n",
      "Epoch 489/1000\n",
      "21/21 [==============================] - 1s 49ms/step - loss: 3.6995e-04\n",
      "Epoch 490/1000\n",
      "21/21 [==============================] - 1s 48ms/step - loss: 3.0105e-04\n",
      "Epoch 491/1000\n",
      "21/21 [==============================] - 1s 48ms/step - loss: 3.6444e-04\n",
      "Epoch 492/1000\n",
      "21/21 [==============================] - 1s 48ms/step - loss: 3.7163e-04\n",
      "Epoch 493/1000\n",
      "21/21 [==============================] - 1s 49ms/step - loss: 3.5275e-04\n",
      "Epoch 494/1000\n",
      "21/21 [==============================] - 1s 49ms/step - loss: 3.0954e-04\n"
     ]
    },
    {
     "name": "stderr",
     "output_type": "stream",
     "text": [
      "INFO:megnet.callbacks:\n",
      "Epoch 00494: val_mae improved from 0.11005 to 0.10790, saving model to callback/val_mae_00494_0.107902.hdf5\n"
     ]
    },
    {
     "name": "stdout",
     "output_type": "stream",
     "text": [
      "Epoch 495/1000\n",
      "21/21 [==============================] - 1s 49ms/step - loss: 3.8030e-04\n",
      "Epoch 496/1000\n",
      "21/21 [==============================] - 1s 50ms/step - loss: 8.5286e-04\n",
      "Epoch 497/1000\n",
      "21/21 [==============================] - 1s 49ms/step - loss: 4.1262e-04\n",
      "Epoch 498/1000\n",
      "21/21 [==============================] - 1s 50ms/step - loss: 3.5079e-04\n",
      "Epoch 499/1000\n",
      "21/21 [==============================] - 1s 49ms/step - loss: 3.7274e-04\n",
      "Epoch 500/1000\n",
      "21/21 [==============================] - 1s 49ms/step - loss: 3.3512e-04\n",
      "Epoch 501/1000\n",
      "21/21 [==============================] - 1s 50ms/step - loss: 5.6976e-04\n",
      "Epoch 502/1000\n",
      "21/21 [==============================] - 1s 49ms/step - loss: 4.2069e-04\n",
      "Epoch 503/1000\n",
      "21/21 [==============================] - 1s 49ms/step - loss: 3.5374e-04\n",
      "Epoch 504/1000\n",
      "21/21 [==============================] - 1s 49ms/step - loss: 4.0621e-04\n",
      "Epoch 505/1000\n",
      "21/21 [==============================] - 1s 50ms/step - loss: 3.3435e-04\n",
      "Epoch 506/1000\n",
      "21/21 [==============================] - 1s 48ms/step - loss: 3.9548e-04\n"
     ]
    },
    {
     "name": "stderr",
     "output_type": "stream",
     "text": [
      "INFO:megnet.callbacks:\n",
      "Epoch 00506: val_mae improved from 0.10790 to 0.10633, saving model to callback/val_mae_00506_0.106326.hdf5\n"
     ]
    },
    {
     "name": "stdout",
     "output_type": "stream",
     "text": [
      "Epoch 507/1000\n",
      "21/21 [==============================] - 1s 49ms/step - loss: 3.0170e-04\n",
      "Epoch 508/1000\n",
      "21/21 [==============================] - 1s 49ms/step - loss: 3.0404e-04\n",
      "Epoch 509/1000\n",
      "21/21 [==============================] - 1s 49ms/step - loss: 3.7715e-04\n",
      "Epoch 510/1000\n",
      "21/21 [==============================] - 1s 48ms/step - loss: 2.9610e-04\n",
      "Epoch 511/1000\n",
      "21/21 [==============================] - 1s 49ms/step - loss: 3.6051e-04\n",
      "Epoch 512/1000\n",
      "21/21 [==============================] - 1s 49ms/step - loss: 4.6920e-04\n",
      "Epoch 513/1000\n",
      "21/21 [==============================] - 1s 48ms/step - loss: 4.2708e-04\n",
      "Epoch 514/1000\n",
      "21/21 [==============================] - 1s 49ms/step - loss: 3.6112e-04\n",
      "Epoch 515/1000\n",
      "21/21 [==============================] - 1s 49ms/step - loss: 3.4187e-04\n",
      "Epoch 516/1000\n",
      "21/21 [==============================] - 1s 50ms/step - loss: 3.7942e-04\n",
      "Epoch 517/1000\n",
      "21/21 [==============================] - 1s 49ms/step - loss: 2.9561e-04\n",
      "Epoch 518/1000\n",
      "21/21 [==============================] - 1s 48ms/step - loss: 5.8749e-04\n",
      "Epoch 519/1000\n",
      "21/21 [==============================] - 1s 49ms/step - loss: 7.4900e-04\n",
      "Epoch 520/1000\n",
      "21/21 [==============================] - 1s 48ms/step - loss: 3.5643e-04\n",
      "Epoch 521/1000\n",
      "21/21 [==============================] - 1s 49ms/step - loss: 3.5041e-04\n",
      "Epoch 522/1000\n",
      "21/21 [==============================] - 1s 49ms/step - loss: 3.0401e-04\n",
      "Epoch 523/1000\n",
      "21/21 [==============================] - 1s 49ms/step - loss: 2.8810e-04\n",
      "Epoch 524/1000\n",
      "21/21 [==============================] - 1s 49ms/step - loss: 4.0829e-04\n",
      "Epoch 525/1000\n",
      "21/21 [==============================] - 1s 47ms/step - loss: 3.7180e-04\n",
      "Epoch 526/1000\n",
      "21/21 [==============================] - 1s 49ms/step - loss: 3.0554e-04\n",
      "Epoch 527/1000\n",
      "21/21 [==============================] - 1s 49ms/step - loss: 4.4653e-04\n",
      "Epoch 528/1000\n",
      "21/21 [==============================] - 1s 51ms/step - loss: 6.0895e-04\n",
      "Epoch 529/1000\n",
      "21/21 [==============================] - 1s 52ms/step - loss: 4.9567e-04\n",
      "Epoch 530/1000\n",
      "21/21 [==============================] - 1s 49ms/step - loss: 0.0027\n",
      "Epoch 531/1000\n",
      "21/21 [==============================] - 1s 48ms/step - loss: 0.0021\n",
      "Epoch 532/1000\n",
      "21/21 [==============================] - 1s 52ms/step - loss: 0.0100\n",
      "Epoch 533/1000\n",
      "21/21 [==============================] - 1s 49ms/step - loss: 0.0577\n",
      "Epoch 534/1000\n",
      "21/21 [==============================] - 1s 49ms/step - loss: 0.0109\n",
      "Epoch 535/1000\n",
      "21/21 [==============================] - 1s 49ms/step - loss: 0.0073\n",
      "Epoch 536/1000\n",
      "21/21 [==============================] - 1s 49ms/step - loss: 0.0075\n",
      "Epoch 537/1000\n",
      "21/21 [==============================] - 1s 49ms/step - loss: 0.0064\n",
      "Epoch 538/1000\n",
      "21/21 [==============================] - 1s 49ms/step - loss: 0.0028\n",
      "Epoch 539/1000\n",
      "21/21 [==============================] - 1s 49ms/step - loss: 0.0022\n",
      "Epoch 540/1000\n",
      "21/21 [==============================] - 1s 49ms/step - loss: 0.0020\n",
      "Epoch 541/1000\n",
      "21/21 [==============================] - 1s 49ms/step - loss: 0.0035\n",
      "Epoch 542/1000\n",
      "21/21 [==============================] - 1s 49ms/step - loss: 0.0034\n",
      "Epoch 543/1000\n",
      "21/21 [==============================] - 1s 49ms/step - loss: 0.0021\n",
      "Epoch 544/1000\n",
      "21/21 [==============================] - 1s 49ms/step - loss: 0.0033\n",
      "Epoch 545/1000\n",
      "21/21 [==============================] - 1s 49ms/step - loss: 0.0072\n",
      "Epoch 546/1000\n",
      "21/21 [==============================] - 1s 49ms/step - loss: 0.0338\n",
      "Epoch 547/1000\n",
      "21/21 [==============================] - 1s 49ms/step - loss: 0.0114\n",
      "Epoch 548/1000\n",
      "21/21 [==============================] - 1s 49ms/step - loss: 0.0080\n",
      "Epoch 549/1000\n",
      "21/21 [==============================] - 1s 50ms/step - loss: 0.0026\n",
      "Epoch 550/1000\n",
      "21/21 [==============================] - 1s 49ms/step - loss: 0.0031\n",
      "Epoch 551/1000\n",
      "21/21 [==============================] - 1s 48ms/step - loss: 0.0070\n",
      "Epoch 552/1000\n",
      "21/21 [==============================] - 1s 48ms/step - loss: 0.0041\n",
      "Epoch 553/1000\n",
      "21/21 [==============================] - 1s 49ms/step - loss: 0.0067\n",
      "Epoch 554/1000\n",
      "21/21 [==============================] - 1s 48ms/step - loss: 0.0032\n",
      "Epoch 555/1000\n",
      "21/21 [==============================] - 1s 48ms/step - loss: 0.0021\n",
      "Epoch 556/1000\n",
      "21/21 [==============================] - 1s 48ms/step - loss: 0.0014\n",
      "Epoch 557/1000\n",
      "21/21 [==============================] - 1s 48ms/step - loss: 0.0011\n",
      "Epoch 558/1000\n",
      "21/21 [==============================] - 1s 49ms/step - loss: 0.0012\n",
      "Epoch 559/1000\n",
      "21/21 [==============================] - 1s 49ms/step - loss: 0.0010\n",
      "Epoch 560/1000\n",
      "21/21 [==============================] - 1s 48ms/step - loss: 9.1342e-04\n",
      "Epoch 561/1000\n",
      "21/21 [==============================] - 1s 49ms/step - loss: 8.5689e-04\n",
      "Epoch 562/1000\n",
      "21/21 [==============================] - 1s 49ms/step - loss: 8.5146e-04\n",
      "Epoch 563/1000\n",
      "21/21 [==============================] - 1s 49ms/step - loss: 7.9533e-04\n",
      "Epoch 564/1000\n",
      "21/21 [==============================] - 1s 49ms/step - loss: 8.9537e-04\n",
      "Epoch 565/1000\n",
      "21/21 [==============================] - 1s 49ms/step - loss: 8.5755e-04\n",
      "Epoch 566/1000\n",
      "21/21 [==============================] - 1s 50ms/step - loss: 7.6969e-04\n",
      "Epoch 567/1000\n",
      "21/21 [==============================] - 1s 49ms/step - loss: 8.3464e-04\n",
      "Epoch 568/1000\n",
      "21/21 [==============================] - 1s 49ms/step - loss: 7.8612e-04\n",
      "Epoch 569/1000\n",
      "21/21 [==============================] - 1s 48ms/step - loss: 7.0649e-04\n",
      "Epoch 570/1000\n",
      "21/21 [==============================] - 1s 53ms/step - loss: 6.6731e-04\n",
      "Epoch 571/1000\n",
      "21/21 [==============================] - 1s 49ms/step - loss: 6.8322e-04\n",
      "Epoch 572/1000\n",
      "21/21 [==============================] - 1s 50ms/step - loss: 7.3034e-04\n",
      "Epoch 573/1000\n",
      "21/21 [==============================] - 1s 48ms/step - loss: 7.7155e-04\n",
      "Epoch 574/1000\n",
      "21/21 [==============================] - 1s 50ms/step - loss: 6.5389e-04\n",
      "Epoch 575/1000\n",
      "21/21 [==============================] - 1s 49ms/step - loss: 6.0563e-04\n",
      "Epoch 576/1000\n",
      "21/21 [==============================] - 1s 49ms/step - loss: 6.2328e-04\n",
      "Epoch 577/1000\n",
      "21/21 [==============================] - 1s 48ms/step - loss: 6.1445e-04\n",
      "Epoch 578/1000\n",
      "21/21 [==============================] - 1s 49ms/step - loss: 6.9811e-04\n",
      "Epoch 579/1000\n",
      "21/21 [==============================] - 1s 50ms/step - loss: 6.8534e-04\n",
      "Epoch 580/1000\n",
      "21/21 [==============================] - 1s 49ms/step - loss: 6.8504e-04\n",
      "Epoch 581/1000\n",
      "21/21 [==============================] - 1s 49ms/step - loss: 6.5319e-04\n",
      "Epoch 582/1000\n",
      "21/21 [==============================] - 1s 49ms/step - loss: 5.8950e-04\n",
      "Epoch 583/1000\n",
      "21/21 [==============================] - 1s 48ms/step - loss: 6.8183e-04\n",
      "Epoch 584/1000\n",
      "21/21 [==============================] - 1s 48ms/step - loss: 6.5062e-04\n",
      "Epoch 585/1000\n",
      "21/21 [==============================] - 1s 50ms/step - loss: 6.8454e-04\n",
      "Epoch 586/1000\n",
      "21/21 [==============================] - 1s 48ms/step - loss: 5.4040e-04\n",
      "Epoch 587/1000\n",
      "21/21 [==============================] - 1s 50ms/step - loss: 7.0397e-04\n",
      "Epoch 588/1000\n",
      "21/21 [==============================] - 1s 49ms/step - loss: 9.2885e-04\n",
      "Epoch 589/1000\n",
      "21/21 [==============================] - 1s 49ms/step - loss: 6.9914e-04\n",
      "Epoch 590/1000\n",
      "21/21 [==============================] - 1s 49ms/step - loss: 5.8110e-04\n",
      "Epoch 591/1000\n",
      "21/21 [==============================] - 1s 48ms/step - loss: 5.4212e-04\n",
      "Epoch 592/1000\n",
      "21/21 [==============================] - 1s 49ms/step - loss: 4.9431e-04\n",
      "Epoch 593/1000\n",
      "21/21 [==============================] - 1s 49ms/step - loss: 4.8339e-04\n",
      "Epoch 594/1000\n",
      "21/21 [==============================] - 1s 50ms/step - loss: 5.0454e-04\n",
      "Epoch 595/1000\n",
      "21/21 [==============================] - 1s 50ms/step - loss: 4.7054e-04\n",
      "Epoch 596/1000\n",
      "21/21 [==============================] - 1s 50ms/step - loss: 4.9034e-04\n",
      "Epoch 597/1000\n",
      "21/21 [==============================] - 1s 49ms/step - loss: 4.5434e-04\n",
      "Epoch 598/1000\n",
      "21/21 [==============================] - 1s 51ms/step - loss: 6.0576e-04\n",
      "Epoch 599/1000\n",
      "21/21 [==============================] - 1s 49ms/step - loss: 5.8333e-04\n",
      "Epoch 600/1000\n",
      "21/21 [==============================] - 1s 51ms/step - loss: 4.9510e-04\n",
      "Epoch 601/1000\n"
     ]
    },
    {
     "name": "stdout",
     "output_type": "stream",
     "text": [
      "21/21 [==============================] - 1s 48ms/step - loss: 4.9934e-04\n",
      "Epoch 602/1000\n",
      "21/21 [==============================] - 1s 50ms/step - loss: 4.9421e-04\n",
      "Epoch 603/1000\n",
      "21/21 [==============================] - 1s 50ms/step - loss: 4.4889e-04\n",
      "Epoch 604/1000\n",
      "21/21 [==============================] - 1s 49ms/step - loss: 4.3149e-04\n",
      "Epoch 605/1000\n",
      "21/21 [==============================] - 1s 49ms/step - loss: 3.8872e-04\n",
      "Epoch 606/1000\n",
      "21/21 [==============================] - 1s 49ms/step - loss: 4.2408e-04\n",
      "Epoch 607/1000\n",
      "21/21 [==============================] - 1s 50ms/step - loss: 3.6024e-04\n",
      "Epoch 608/1000\n",
      "21/21 [==============================] - 1s 50ms/step - loss: 4.5628e-04\n",
      "Epoch 609/1000\n",
      "21/21 [==============================] - 1s 49ms/step - loss: 4.4250e-04\n",
      "Epoch 610/1000\n",
      "21/21 [==============================] - 1s 48ms/step - loss: 4.2671e-04\n",
      "Epoch 611/1000\n",
      "21/21 [==============================] - 1s 49ms/step - loss: 4.4585e-04\n",
      "Epoch 612/1000\n",
      "21/21 [==============================] - 1s 48ms/step - loss: 3.9271e-04\n",
      "Epoch 613/1000\n",
      "21/21 [==============================] - 1s 49ms/step - loss: 4.7981e-04\n",
      "Epoch 614/1000\n",
      "21/21 [==============================] - 1s 49ms/step - loss: 4.7949e-04\n",
      "Epoch 615/1000\n",
      "21/21 [==============================] - 1s 48ms/step - loss: 3.9383e-04\n",
      "Epoch 616/1000\n",
      "21/21 [==============================] - 1s 49ms/step - loss: 3.7222e-04\n",
      "Epoch 617/1000\n",
      "21/21 [==============================] - 1s 49ms/step - loss: 3.7339e-04\n",
      "Epoch 618/1000\n",
      "21/21 [==============================] - 1s 49ms/step - loss: 3.5916e-04\n",
      "Epoch 619/1000\n",
      "21/21 [==============================] - 1s 50ms/step - loss: 4.0643e-04\n",
      "Epoch 620/1000\n",
      "21/21 [==============================] - 1s 49ms/step - loss: 4.2535e-04\n",
      "Epoch 621/1000\n",
      "21/21 [==============================] - 1s 50ms/step - loss: 3.6930e-04\n",
      "Epoch 622/1000\n",
      "21/21 [==============================] - 1s 49ms/step - loss: 3.5679e-04\n",
      "Epoch 623/1000\n",
      "21/21 [==============================] - 1s 49ms/step - loss: 3.6703e-04\n",
      "Epoch 624/1000\n",
      "21/21 [==============================] - 1s 48ms/step - loss: 3.6987e-04\n",
      "Epoch 625/1000\n",
      "21/21 [==============================] - 1s 50ms/step - loss: 3.7933e-04\n",
      "Epoch 626/1000\n",
      "21/21 [==============================] - 1s 49ms/step - loss: 4.4578e-04\n",
      "Epoch 627/1000\n",
      "21/21 [==============================] - 1s 51ms/step - loss: 3.9096e-04\n",
      "Epoch 628/1000\n",
      "21/21 [==============================] - 1s 49ms/step - loss: 4.5838e-04\n",
      "Epoch 629/1000\n",
      "21/21 [==============================] - 1s 49ms/step - loss: 3.8877e-04\n",
      "Epoch 630/1000\n",
      "21/21 [==============================] - 1s 49ms/step - loss: 4.4679e-04\n",
      "Epoch 631/1000\n",
      "21/21 [==============================] - 1s 50ms/step - loss: 4.2400e-04\n",
      "Epoch 632/1000\n",
      "21/21 [==============================] - 1s 50ms/step - loss: 3.7421e-04\n",
      "Epoch 633/1000\n",
      "21/21 [==============================] - 1s 49ms/step - loss: 3.7057e-04\n",
      "Epoch 634/1000\n",
      "21/21 [==============================] - 1s 49ms/step - loss: 3.5980e-04\n",
      "Epoch 635/1000\n",
      "21/21 [==============================] - 1s 49ms/step - loss: 4.0614e-04\n",
      "Epoch 636/1000\n",
      "21/21 [==============================] - 1s 48ms/step - loss: 3.9220e-04\n",
      "Epoch 637/1000\n",
      "21/21 [==============================] - 1s 49ms/step - loss: 3.4636e-04\n",
      "Epoch 638/1000\n",
      "21/21 [==============================] - 1s 49ms/step - loss: 3.4391e-04\n",
      "Epoch 639/1000\n",
      "21/21 [==============================] - 1s 49ms/step - loss: 4.2250e-04\n",
      "Epoch 640/1000\n",
      "21/21 [==============================] - 1s 49ms/step - loss: 3.4407e-04\n",
      "Epoch 641/1000\n",
      "21/21 [==============================] - 1s 49ms/step - loss: 3.8820e-04\n",
      "Epoch 642/1000\n",
      "21/21 [==============================] - 1s 49ms/step - loss: 4.3461e-04\n",
      "Epoch 643/1000\n",
      "21/21 [==============================] - 1s 49ms/step - loss: 3.1318e-04\n",
      "Epoch 644/1000\n",
      "21/21 [==============================] - 1s 48ms/step - loss: 4.6162e-04\n",
      "Epoch 645/1000\n",
      "21/21 [==============================] - 1s 48ms/step - loss: 4.2421e-04\n",
      "Epoch 646/1000\n",
      "21/21 [==============================] - 1s 49ms/step - loss: 3.7162e-04\n",
      "Epoch 647/1000\n",
      "21/21 [==============================] - 1s 49ms/step - loss: 4.2414e-04\n",
      "Epoch 648/1000\n",
      "21/21 [==============================] - 1s 49ms/step - loss: 3.6838e-04\n",
      "Epoch 649/1000\n",
      "21/21 [==============================] - 1s 49ms/step - loss: 5.2343e-04\n",
      "Epoch 650/1000\n",
      "21/21 [==============================] - 1s 49ms/step - loss: 8.3127e-04\n",
      "Epoch 651/1000\n",
      "21/21 [==============================] - 1s 50ms/step - loss: 7.1436e-04\n",
      "Epoch 652/1000\n",
      "21/21 [==============================] - 1s 48ms/step - loss: 0.0016\n",
      "Epoch 653/1000\n",
      "21/21 [==============================] - 1s 48ms/step - loss: 0.0015\n",
      "Epoch 654/1000\n",
      "21/21 [==============================] - 1s 48ms/step - loss: 9.5305e-04\n",
      "Epoch 655/1000\n",
      "21/21 [==============================] - 1s 50ms/step - loss: 6.7672e-04\n",
      "Epoch 656/1000\n",
      "21/21 [==============================] - 1s 48ms/step - loss: 7.7550e-04\n",
      "Epoch 657/1000\n",
      "21/21 [==============================] - 1s 49ms/step - loss: 6.6412e-04\n",
      "Epoch 658/1000\n",
      "21/21 [==============================] - 1s 50ms/step - loss: 7.3477e-04\n",
      "Epoch 659/1000\n",
      "21/21 [==============================] - 1s 48ms/step - loss: 6.0666e-04\n",
      "Epoch 660/1000\n",
      "21/21 [==============================] - 1s 49ms/step - loss: 5.1443e-04\n",
      "Epoch 661/1000\n",
      "21/21 [==============================] - 1s 49ms/step - loss: 5.5350e-04\n",
      "Epoch 662/1000\n",
      "21/21 [==============================] - 1s 49ms/step - loss: 4.7382e-04\n",
      "Epoch 663/1000\n",
      "21/21 [==============================] - 1s 49ms/step - loss: 5.3788e-04\n",
      "Epoch 664/1000\n",
      "21/21 [==============================] - 1s 49ms/step - loss: 4.6547e-04\n",
      "Epoch 665/1000\n",
      "21/21 [==============================] - 1s 48ms/step - loss: 4.4245e-04\n",
      "Epoch 666/1000\n",
      "21/21 [==============================] - 1s 49ms/step - loss: 5.0636e-04\n",
      "Epoch 667/1000\n",
      "21/21 [==============================] - 1s 49ms/step - loss: 6.6486e-04\n",
      "Epoch 668/1000\n",
      "21/21 [==============================] - 1s 50ms/step - loss: 0.0014\n",
      "Epoch 669/1000\n",
      "21/21 [==============================] - 1s 48ms/step - loss: 6.0785e-04\n",
      "Epoch 670/1000\n",
      "21/21 [==============================] - 1s 49ms/step - loss: 6.7182e-04\n",
      "Epoch 671/1000\n",
      "21/21 [==============================] - 1s 50ms/step - loss: 4.8706e-04\n",
      "Epoch 672/1000\n",
      "21/21 [==============================] - 1s 49ms/step - loss: 4.2953e-04\n",
      "Epoch 673/1000\n",
      "21/21 [==============================] - 1s 49ms/step - loss: 4.0447e-04\n",
      "Epoch 674/1000\n",
      "21/21 [==============================] - 1s 49ms/step - loss: 3.9195e-04\n",
      "Epoch 675/1000\n",
      "21/21 [==============================] - 1s 50ms/step - loss: 3.9834e-04\n",
      "Epoch 676/1000\n",
      "21/21 [==============================] - 1s 49ms/step - loss: 5.2237e-04\n",
      "Epoch 677/1000\n",
      "21/21 [==============================] - 1s 49ms/step - loss: 6.0521e-04\n",
      "Epoch 678/1000\n",
      "21/21 [==============================] - 1s 49ms/step - loss: 5.8486e-04\n",
      "Epoch 679/1000\n",
      "21/21 [==============================] - 1s 49ms/step - loss: 5.4084e-04\n",
      "Epoch 680/1000\n",
      "21/21 [==============================] - 1s 48ms/step - loss: 4.4245e-04\n",
      "Epoch 681/1000\n",
      "21/21 [==============================] - 1s 49ms/step - loss: 4.5007e-04\n",
      "Epoch 682/1000\n",
      "21/21 [==============================] - 1s 49ms/step - loss: 4.1489e-04\n",
      "Epoch 683/1000\n",
      "21/21 [==============================] - 1s 48ms/step - loss: 6.3990e-04\n",
      "Epoch 684/1000\n",
      "21/21 [==============================] - 1s 48ms/step - loss: 4.5896e-04\n",
      "Epoch 685/1000\n",
      "21/21 [==============================] - 1s 49ms/step - loss: 3.8854e-04\n",
      "Epoch 686/1000\n",
      "21/21 [==============================] - 1s 49ms/step - loss: 5.8739e-04\n",
      "Epoch 687/1000\n",
      "21/21 [==============================] - 1s 48ms/step - loss: 5.4510e-04\n",
      "Epoch 688/1000\n",
      "21/21 [==============================] - 1s 49ms/step - loss: 4.6146e-04\n",
      "Epoch 689/1000\n",
      "21/21 [==============================] - 1s 48ms/step - loss: 3.9994e-04\n",
      "Epoch 690/1000\n",
      "21/21 [==============================] - 1s 49ms/step - loss: 4.7077e-04\n",
      "Epoch 691/1000\n",
      "21/21 [==============================] - 1s 49ms/step - loss: 4.7948e-04\n",
      "Epoch 692/1000\n",
      "21/21 [==============================] - 1s 49ms/step - loss: 3.6439e-04\n",
      "Epoch 693/1000\n",
      "21/21 [==============================] - 1s 48ms/step - loss: 3.5757e-04\n",
      "Epoch 694/1000\n"
     ]
    },
    {
     "name": "stdout",
     "output_type": "stream",
     "text": [
      "21/21 [==============================] - 1s 49ms/step - loss: 4.7824e-04\n",
      "Epoch 695/1000\n",
      "21/21 [==============================] - 1s 49ms/step - loss: 4.9101e-04\n",
      "Epoch 696/1000\n",
      "21/21 [==============================] - 1s 50ms/step - loss: 3.8035e-04\n",
      "Epoch 697/1000\n",
      "21/21 [==============================] - 1s 50ms/step - loss: 3.0172e-04\n",
      "Epoch 698/1000\n",
      "21/21 [==============================] - 1s 50ms/step - loss: 2.9770e-04\n",
      "Epoch 699/1000\n",
      "21/21 [==============================] - 1s 48ms/step - loss: 4.3054e-04\n",
      "Epoch 700/1000\n",
      "21/21 [==============================] - 1s 48ms/step - loss: 3.6302e-04\n",
      "Epoch 701/1000\n",
      "21/21 [==============================] - 1s 49ms/step - loss: 4.2700e-04\n",
      "Epoch 702/1000\n",
      "21/21 [==============================] - 1s 49ms/step - loss: 4.2073e-04\n",
      "Epoch 703/1000\n",
      "21/21 [==============================] - 1s 49ms/step - loss: 4.1510e-04\n",
      "Epoch 704/1000\n",
      "21/21 [==============================] - 1s 49ms/step - loss: 3.1864e-04\n",
      "Epoch 705/1000\n",
      "21/21 [==============================] - 1s 48ms/step - loss: 3.7489e-04\n"
     ]
    },
    {
     "name": "stderr",
     "output_type": "stream",
     "text": [
      "INFO:megnet.callbacks:\n",
      "Epoch 00705: val_mae improved from 0.10633 to 0.10605, saving model to callback/val_mae_00705_0.106054.hdf5\n"
     ]
    },
    {
     "name": "stdout",
     "output_type": "stream",
     "text": [
      "Epoch 706/1000\n",
      "21/21 [==============================] - 1s 50ms/step - loss: 3.4393e-04\n",
      "Epoch 707/1000\n",
      "21/21 [==============================] - 1s 49ms/step - loss: 3.1126e-04: 0s - loss: 3.1239e\n",
      "Epoch 708/1000\n",
      "21/21 [==============================] - 1s 49ms/step - loss: 3.5089e-04\n",
      "Epoch 709/1000\n",
      "21/21 [==============================] - 1s 49ms/step - loss: 3.5526e-04\n",
      "Epoch 710/1000\n",
      "21/21 [==============================] - 1s 49ms/step - loss: 3.7481e-04\n",
      "Epoch 711/1000\n",
      "21/21 [==============================] - 1s 49ms/step - loss: 4.2224e-04\n",
      "Epoch 712/1000\n",
      "21/21 [==============================] - 1s 49ms/step - loss: 3.6409e-04\n",
      "Epoch 713/1000\n",
      "21/21 [==============================] - 1s 49ms/step - loss: 3.6981e-04\n",
      "Epoch 714/1000\n",
      "21/21 [==============================] - 1s 49ms/step - loss: 3.8877e-04\n",
      "Epoch 715/1000\n",
      "21/21 [==============================] - 1s 49ms/step - loss: 2.6304e-04\n",
      "Epoch 716/1000\n",
      "21/21 [==============================] - 1s 49ms/step - loss: 3.1414e-04\n",
      "Epoch 717/1000\n",
      "21/21 [==============================] - 1s 49ms/step - loss: 3.2305e-04\n",
      "Epoch 718/1000\n",
      "21/21 [==============================] - 1s 49ms/step - loss: 3.1267e-04\n",
      "Epoch 719/1000\n",
      "21/21 [==============================] - 1s 50ms/step - loss: 2.8846e-04\n",
      "Epoch 720/1000\n",
      "21/21 [==============================] - 1s 49ms/step - loss: 3.2708e-04\n",
      "Epoch 721/1000\n",
      "21/21 [==============================] - 1s 49ms/step - loss: 3.7084e-04\n",
      "Epoch 722/1000\n",
      "21/21 [==============================] - 1s 48ms/step - loss: 3.2929e-04\n",
      "Epoch 723/1000\n",
      "21/21 [==============================] - 1s 49ms/step - loss: 2.6153e-04\n"
     ]
    },
    {
     "name": "stderr",
     "output_type": "stream",
     "text": [
      "INFO:megnet.callbacks:\n",
      "Epoch 00723: val_mae improved from 0.10605 to 0.10586, saving model to callback/val_mae_00723_0.105860.hdf5\n"
     ]
    },
    {
     "name": "stdout",
     "output_type": "stream",
     "text": [
      "Epoch 724/1000\n",
      "21/21 [==============================] - 1s 49ms/step - loss: 3.6211e-04\n",
      "Epoch 725/1000\n",
      "21/21 [==============================] - 1s 49ms/step - loss: 2.8969e-04\n",
      "Epoch 726/1000\n",
      "21/21 [==============================] - 1s 49ms/step - loss: 3.9377e-04\n",
      "Epoch 727/1000\n",
      "21/21 [==============================] - 1s 49ms/step - loss: 3.3016e-04\n",
      "Epoch 728/1000\n",
      "21/21 [==============================] - 1s 49ms/step - loss: 4.2295e-04\n",
      "Epoch 729/1000\n",
      "21/21 [==============================] - 1s 49ms/step - loss: 4.0094e-04\n",
      "Epoch 730/1000\n",
      "21/21 [==============================] - 1s 49ms/step - loss: 3.7290e-04\n",
      "Epoch 731/1000\n",
      "21/21 [==============================] - 1s 49ms/step - loss: 5.9827e-04\n",
      "Epoch 732/1000\n",
      "21/21 [==============================] - 1s 49ms/step - loss: 4.0432e-04\n",
      "Epoch 733/1000\n",
      "21/21 [==============================] - 1s 49ms/step - loss: 3.2859e-04\n",
      "Epoch 734/1000\n",
      "21/21 [==============================] - 1s 49ms/step - loss: 3.5689e-04\n",
      "Epoch 735/1000\n",
      "21/21 [==============================] - 1s 49ms/step - loss: 3.3891e-04\n",
      "Epoch 736/1000\n",
      "21/21 [==============================] - 1s 49ms/step - loss: 3.0435e-04\n",
      "Epoch 737/1000\n",
      "21/21 [==============================] - 1s 49ms/step - loss: 3.1366e-04\n",
      "Epoch 738/1000\n",
      "21/21 [==============================] - 1s 49ms/step - loss: 2.7974e-04\n",
      "Epoch 739/1000\n",
      "21/21 [==============================] - 1s 49ms/step - loss: 3.9947e-04\n",
      "Epoch 740/1000\n",
      "21/21 [==============================] - 1s 49ms/step - loss: 3.1941e-04\n",
      "Epoch 741/1000\n",
      "21/21 [==============================] - 1s 49ms/step - loss: 2.9086e-04\n",
      "Epoch 742/1000\n",
      "21/21 [==============================] - 1s 49ms/step - loss: 2.5167e-04\n"
     ]
    },
    {
     "name": "stderr",
     "output_type": "stream",
     "text": [
      "INFO:megnet.callbacks:\n",
      "Epoch 00742: val_mae improved from 0.10586 to 0.10517, saving model to callback/val_mae_00742_0.105172.hdf5\n"
     ]
    },
    {
     "name": "stdout",
     "output_type": "stream",
     "text": [
      "Epoch 743/1000\n",
      "21/21 [==============================] - 1s 49ms/step - loss: 2.6113e-04\n",
      "Epoch 744/1000\n",
      "21/21 [==============================] - 1s 49ms/step - loss: 2.5845e-04\n",
      "Epoch 745/1000\n",
      "21/21 [==============================] - 1s 50ms/step - loss: 4.5604e-04\n",
      "Epoch 746/1000\n",
      "21/21 [==============================] - 1s 49ms/step - loss: 4.2286e-04\n",
      "Epoch 747/1000\n",
      "21/21 [==============================] - 1s 48ms/step - loss: 4.7141e-04\n",
      "Epoch 748/1000\n",
      "21/21 [==============================] - 1s 49ms/step - loss: 4.4233e-04\n",
      "Epoch 749/1000\n",
      "21/21 [==============================] - 1s 49ms/step - loss: 3.9044e-04\n",
      "Epoch 750/1000\n",
      "21/21 [==============================] - 1s 50ms/step - loss: 3.6564e-04\n",
      "Epoch 751/1000\n",
      "21/21 [==============================] - 1s 49ms/step - loss: 2.7411e-04\n",
      "Epoch 752/1000\n",
      "21/21 [==============================] - 1s 49ms/step - loss: 2.6761e-04\n",
      "Epoch 753/1000\n",
      "21/21 [==============================] - 1s 48ms/step - loss: 3.1980e-04\n",
      "Epoch 754/1000\n",
      "21/21 [==============================] - 1s 50ms/step - loss: 3.5367e-04\n",
      "Epoch 755/1000\n",
      "21/21 [==============================] - 1s 48ms/step - loss: 2.8037e-04\n",
      "Epoch 756/1000\n",
      "21/21 [==============================] - 1s 48ms/step - loss: 2.9362e-04\n",
      "Epoch 757/1000\n",
      "21/21 [==============================] - 1s 48ms/step - loss: 2.8122e-04\n",
      "Epoch 758/1000\n",
      "21/21 [==============================] - 1s 50ms/step - loss: 4.3839e-04\n",
      "Epoch 759/1000\n",
      "21/21 [==============================] - 1s 49ms/step - loss: 3.8886e-04\n",
      "Epoch 760/1000\n",
      "21/21 [==============================] - 1s 49ms/step - loss: 2.6722e-04\n",
      "Epoch 761/1000\n",
      "21/21 [==============================] - 1s 48ms/step - loss: 2.3680e-04\n",
      "Epoch 762/1000\n",
      "21/21 [==============================] - 1s 49ms/step - loss: 2.4109e-04\n",
      "Epoch 763/1000\n",
      "21/21 [==============================] - 1s 49ms/step - loss: 2.5482e-04\n",
      "Epoch 764/1000\n",
      "21/21 [==============================] - 1s 49ms/step - loss: 2.5810e-04\n",
      "Epoch 765/1000\n",
      "21/21 [==============================] - 1s 51ms/step - loss: 2.7516e-04\n",
      "Epoch 766/1000\n",
      "21/21 [==============================] - 1s 49ms/step - loss: 2.7768e-04\n",
      "Epoch 767/1000\n",
      "21/21 [==============================] - 1s 48ms/step - loss: 2.1165e-04\n"
     ]
    },
    {
     "name": "stderr",
     "output_type": "stream",
     "text": [
      "INFO:megnet.callbacks:\n",
      "Epoch 00767: val_mae improved from 0.10517 to 0.10487, saving model to callback/val_mae_00767_0.104867.hdf5\n"
     ]
    },
    {
     "name": "stdout",
     "output_type": "stream",
     "text": [
      "Epoch 768/1000\n",
      "21/21 [==============================] - 1s 50ms/step - loss: 2.1549e-04\n",
      "Epoch 769/1000\n",
      "21/21 [==============================] - 1s 49ms/step - loss: 2.4530e-04\n",
      "Epoch 770/1000\n",
      "21/21 [==============================] - 1s 49ms/step - loss: 2.3997e-04\n",
      "Epoch 771/1000\n",
      "21/21 [==============================] - 1s 49ms/step - loss: 2.9509e-04\n",
      "Epoch 772/1000\n",
      "21/21 [==============================] - 1s 49ms/step - loss: 2.9059e-04\n",
      "Epoch 773/1000\n",
      "21/21 [==============================] - 1s 49ms/step - loss: 3.2020e-04\n",
      "Epoch 774/1000\n",
      "21/21 [==============================] - 1s 49ms/step - loss: 4.4202e-04\n",
      "Epoch 775/1000\n",
      "21/21 [==============================] - 1s 49ms/step - loss: 3.0192e-04\n",
      "Epoch 776/1000\n",
      "21/21 [==============================] - 1s 49ms/step - loss: 3.1594e-04\n",
      "Epoch 777/1000\n",
      "21/21 [==============================] - 1s 49ms/step - loss: 2.5718e-04\n",
      "Epoch 778/1000\n",
      "21/21 [==============================] - 1s 49ms/step - loss: 2.1383e-04\n"
     ]
    },
    {
     "name": "stderr",
     "output_type": "stream",
     "text": [
      "INFO:megnet.callbacks:\n",
      "Epoch 00778: val_mae improved from 0.10487 to 0.10138, saving model to callback/val_mae_00778_0.101379.hdf5\n"
     ]
    },
    {
     "name": "stdout",
     "output_type": "stream",
     "text": [
      "Epoch 779/1000\n",
      "21/21 [==============================] - 1s 49ms/step - loss: 1.9870e-04\n",
      "Epoch 780/1000\n",
      "21/21 [==============================] - 1s 48ms/step - loss: 2.9449e-04\n",
      "Epoch 781/1000\n",
      "21/21 [==============================] - 1s 49ms/step - loss: 3.8912e-04\n",
      "Epoch 782/1000\n",
      "21/21 [==============================] - 1s 49ms/step - loss: 3.7662e-04\n",
      "Epoch 783/1000\n",
      "21/21 [==============================] - 1s 49ms/step - loss: 3.8484e-04\n",
      "Epoch 784/1000\n",
      "21/21 [==============================] - 1s 49ms/step - loss: 3.8198e-04\n",
      "Epoch 785/1000\n",
      "21/21 [==============================] - 1s 48ms/step - loss: 2.8846e-04\n",
      "Epoch 786/1000\n",
      "21/21 [==============================] - 1s 48ms/step - loss: 0.0013\n",
      "Epoch 787/1000\n",
      "21/21 [==============================] - 1s 49ms/step - loss: 0.0208\n",
      "Epoch 788/1000\n",
      "21/21 [==============================] - 1s 49ms/step - loss: 0.0072\n",
      "Epoch 789/1000\n",
      "21/21 [==============================] - 1s 49ms/step - loss: 0.0057\n",
      "Epoch 790/1000\n",
      "21/21 [==============================] - 1s 50ms/step - loss: 0.0066\n",
      "Epoch 791/1000\n",
      "21/21 [==============================] - 1s 50ms/step - loss: 0.0076\n",
      "Epoch 792/1000\n",
      "21/21 [==============================] - 1s 49ms/step - loss: 0.0036\n",
      "Epoch 793/1000\n",
      "21/21 [==============================] - 1s 49ms/step - loss: 0.0040\n",
      "Epoch 794/1000\n",
      "21/21 [==============================] - 1s 49ms/step - loss: 0.0024\n",
      "Epoch 795/1000\n",
      "21/21 [==============================] - 1s 49ms/step - loss: 0.0017\n",
      "Epoch 796/1000\n",
      "21/21 [==============================] - 1s 49ms/step - loss: 0.0012\n",
      "Epoch 797/1000\n",
      "21/21 [==============================] - 1s 49ms/step - loss: 0.0013\n",
      "Epoch 798/1000\n",
      "21/21 [==============================] - 1s 48ms/step - loss: 0.0149\n",
      "Epoch 799/1000\n",
      "21/21 [==============================] - 1s 49ms/step - loss: 0.0187\n",
      "Epoch 800/1000\n",
      "21/21 [==============================] - 1s 48ms/step - loss: 0.0068\n",
      "Epoch 801/1000\n",
      "21/21 [==============================] - 1s 49ms/step - loss: 0.0034\n",
      "Epoch 802/1000\n",
      "21/21 [==============================] - 1s 48ms/step - loss: 0.0042\n",
      "Epoch 803/1000\n",
      "21/21 [==============================] - 1s 49ms/step - loss: 0.0035\n",
      "Epoch 804/1000\n",
      "21/21 [==============================] - 1s 49ms/step - loss: 0.0040\n",
      "Epoch 805/1000\n",
      "21/21 [==============================] - 1s 50ms/step - loss: 0.0031\n",
      "Epoch 806/1000\n",
      "21/21 [==============================] - 1s 50ms/step - loss: 0.0086\n",
      "Epoch 807/1000\n",
      "21/21 [==============================] - 1s 49ms/step - loss: 0.0046\n",
      "Epoch 808/1000\n",
      "21/21 [==============================] - 1s 49ms/step - loss: 0.0020\n",
      "Epoch 809/1000\n",
      "21/21 [==============================] - 1s 49ms/step - loss: 0.0017\n",
      "Epoch 810/1000\n",
      "21/21 [==============================] - 1s 49ms/step - loss: 0.0013\n",
      "Epoch 811/1000\n",
      "21/21 [==============================] - 1s 49ms/step - loss: 0.0011\n",
      "Epoch 812/1000\n",
      "21/21 [==============================] - 1s 49ms/step - loss: 0.0010\n",
      "Epoch 813/1000\n",
      "21/21 [==============================] - 1s 49ms/step - loss: 9.2954e-04\n",
      "Epoch 814/1000\n",
      "21/21 [==============================] - 1s 50ms/step - loss: 8.1739e-04\n",
      "Epoch 815/1000\n",
      "21/21 [==============================] - 1s 49ms/step - loss: 8.7783e-04\n",
      "Epoch 816/1000\n",
      "21/21 [==============================] - 1s 49ms/step - loss: 0.0011\n",
      "Epoch 817/1000\n",
      "21/21 [==============================] - 1s 48ms/step - loss: 8.1657e-04\n",
      "Epoch 818/1000\n",
      "21/21 [==============================] - 1s 48ms/step - loss: 7.8836e-04\n",
      "Epoch 819/1000\n",
      "21/21 [==============================] - 1s 50ms/step - loss: 8.4905e-04\n",
      "Epoch 820/1000\n",
      "21/21 [==============================] - 1s 49ms/step - loss: 8.3281e-04\n",
      "Epoch 821/1000\n",
      "21/21 [==============================] - 1s 48ms/step - loss: 7.8081e-04\n",
      "Epoch 822/1000\n",
      "21/21 [==============================] - 1s 49ms/step - loss: 7.7770e-04\n",
      "Epoch 823/1000\n",
      "21/21 [==============================] - 1s 49ms/step - loss: 8.5594e-04\n",
      "Epoch 824/1000\n",
      "21/21 [==============================] - 1s 49ms/step - loss: 6.7921e-04\n",
      "Epoch 825/1000\n",
      "21/21 [==============================] - 1s 50ms/step - loss: 7.0351e-04\n",
      "Epoch 826/1000\n",
      "21/21 [==============================] - 1s 49ms/step - loss: 6.8738e-04\n",
      "Epoch 827/1000\n",
      "21/21 [==============================] - 1s 50ms/step - loss: 7.6856e-04\n",
      "Epoch 828/1000\n",
      "21/21 [==============================] - 1s 49ms/step - loss: 7.2631e-04\n",
      "Epoch 829/1000\n",
      "21/21 [==============================] - 1s 49ms/step - loss: 6.7921e-04\n",
      "Epoch 830/1000\n",
      "21/21 [==============================] - 1s 49ms/step - loss: 7.2580e-04\n",
      "Epoch 831/1000\n",
      "21/21 [==============================] - 1s 49ms/step - loss: 6.7743e-04\n",
      "Epoch 832/1000\n",
      "21/21 [==============================] - 1s 48ms/step - loss: 6.0150e-04\n",
      "Epoch 833/1000\n",
      "21/21 [==============================] - 1s 49ms/step - loss: 6.0988e-04\n",
      "Epoch 834/1000\n",
      "21/21 [==============================] - 1s 49ms/step - loss: 5.8438e-04\n",
      "Epoch 835/1000\n",
      "21/21 [==============================] - 1s 49ms/step - loss: 6.6088e-04\n",
      "Epoch 836/1000\n",
      "21/21 [==============================] - 1s 49ms/step - loss: 6.0043e-04\n",
      "Epoch 837/1000\n",
      "21/21 [==============================] - 1s 49ms/step - loss: 6.3240e-04\n",
      "Epoch 838/1000\n",
      "21/21 [==============================] - 1s 49ms/step - loss: 5.5646e-04\n",
      "Epoch 839/1000\n",
      "21/21 [==============================] - 1s 49ms/step - loss: 6.9380e-04\n",
      "Epoch 840/1000\n",
      "21/21 [==============================] - 1s 49ms/step - loss: 5.5851e-04\n",
      "Epoch 841/1000\n",
      "21/21 [==============================] - 1s 49ms/step - loss: 6.9303e-04\n",
      "Epoch 842/1000\n",
      "21/21 [==============================] - 1s 49ms/step - loss: 5.8291e-04\n",
      "Epoch 843/1000\n",
      "21/21 [==============================] - 1s 48ms/step - loss: 5.4949e-04\n",
      "Epoch 844/1000\n",
      "21/21 [==============================] - 1s 48ms/step - loss: 5.9011e-04\n",
      "Epoch 845/1000\n",
      "21/21 [==============================] - 1s 48ms/step - loss: 5.7042e-04\n",
      "Epoch 846/1000\n",
      "21/21 [==============================] - 1s 49ms/step - loss: 7.8812e-04\n",
      "Epoch 847/1000\n",
      "21/21 [==============================] - 1s 49ms/step - loss: 6.3235e-04\n",
      "Epoch 848/1000\n",
      "21/21 [==============================] - 1s 49ms/step - loss: 5.7260e-04\n",
      "Epoch 849/1000\n",
      "21/21 [==============================] - 1s 49ms/step - loss: 6.4286e-04\n",
      "Epoch 850/1000\n",
      "21/21 [==============================] - 1s 49ms/step - loss: 6.0939e-04\n",
      "Epoch 851/1000\n",
      "21/21 [==============================] - 1s 49ms/step - loss: 5.5484e-04\n",
      "Epoch 852/1000\n",
      "21/21 [==============================] - 1s 49ms/step - loss: 5.3397e-04\n",
      "Epoch 853/1000\n",
      "21/21 [==============================] - 1s 49ms/step - loss: 6.2725e-04\n",
      "Epoch 854/1000\n",
      "21/21 [==============================] - 1s 49ms/step - loss: 6.2040e-04\n",
      "Epoch 855/1000\n",
      "21/21 [==============================] - 1s 49ms/step - loss: 6.1684e-04\n",
      "Epoch 856/1000\n",
      "21/21 [==============================] - 1s 49ms/step - loss: 5.7174e-04\n",
      "Epoch 857/1000\n",
      "21/21 [==============================] - 1s 49ms/step - loss: 5.8912e-04\n",
      "Epoch 858/1000\n",
      "21/21 [==============================] - 1s 49ms/step - loss: 5.2957e-04\n",
      "Epoch 859/1000\n",
      "21/21 [==============================] - 1s 49ms/step - loss: 5.0095e-04\n",
      "Epoch 860/1000\n",
      "21/21 [==============================] - 1s 49ms/step - loss: 6.7515e-04\n",
      "Epoch 861/1000\n",
      "21/21 [==============================] - 1s 49ms/step - loss: 5.8824e-04\n",
      "Epoch 862/1000\n",
      "21/21 [==============================] - 1s 49ms/step - loss: 5.1631e-04\n",
      "Epoch 863/1000\n",
      "21/21 [==============================] - 1s 49ms/step - loss: 5.4408e-04\n",
      "Epoch 864/1000\n",
      "21/21 [==============================] - 1s 50ms/step - loss: 5.5084e-04\n",
      "Epoch 865/1000\n",
      "21/21 [==============================] - 1s 50ms/step - loss: 4.7590e-04\n",
      "Epoch 866/1000\n",
      "21/21 [==============================] - 1s 48ms/step - loss: 5.5397e-04\n",
      "Epoch 867/1000\n",
      "21/21 [==============================] - 1s 49ms/step - loss: 5.3789e-04\n",
      "Epoch 868/1000\n",
      "21/21 [==============================] - 1s 50ms/step - loss: 5.1526e-04\n",
      "Epoch 869/1000\n",
      "21/21 [==============================] - 1s 49ms/step - loss: 5.1824e-04\n",
      "Epoch 870/1000\n",
      "21/21 [==============================] - 1s 48ms/step - loss: 5.8428e-04\n",
      "Epoch 871/1000\n",
      "21/21 [==============================] - 1s 49ms/step - loss: 5.0765e-04\n",
      "Epoch 872/1000\n",
      "21/21 [==============================] - 1s 49ms/step - loss: 5.3931e-04\n",
      "Epoch 873/1000\n"
     ]
    },
    {
     "name": "stdout",
     "output_type": "stream",
     "text": [
      "21/21 [==============================] - 1s 49ms/step - loss: 5.2674e-04\n",
      "Epoch 874/1000\n",
      "21/21 [==============================] - 1s 49ms/step - loss: 5.7047e-04\n",
      "Epoch 875/1000\n",
      "21/21 [==============================] - 1s 48ms/step - loss: 5.6036e-04\n",
      "Epoch 876/1000\n",
      "21/21 [==============================] - 1s 48ms/step - loss: 6.3800e-04\n",
      "Epoch 877/1000\n",
      "21/21 [==============================] - 1s 50ms/step - loss: 5.9303e-04\n",
      "Epoch 878/1000\n",
      "21/21 [==============================] - 1s 49ms/step - loss: 5.0973e-04\n",
      "Epoch 879/1000\n",
      "21/21 [==============================] - 1s 49ms/step - loss: 4.5510e-04\n",
      "Epoch 880/1000\n",
      "21/21 [==============================] - 1s 49ms/step - loss: 5.0785e-04\n",
      "Epoch 881/1000\n",
      "21/21 [==============================] - 1s 49ms/step - loss: 4.3337e-04\n",
      "Epoch 882/1000\n",
      "21/21 [==============================] - 1s 49ms/step - loss: 4.9818e-04\n",
      "Epoch 883/1000\n",
      "21/21 [==============================] - 1s 49ms/step - loss: 4.7057e-04\n",
      "Epoch 884/1000\n",
      "21/21 [==============================] - 1s 50ms/step - loss: 4.8126e-04\n",
      "Epoch 885/1000\n",
      "21/21 [==============================] - 1s 49ms/step - loss: 4.8534e-04\n",
      "Epoch 886/1000\n",
      "21/21 [==============================] - 1s 51ms/step - loss: 4.6167e-04\n",
      "Epoch 887/1000\n",
      "21/21 [==============================] - 1s 55ms/step - loss: 4.6856e-04\n",
      "Epoch 888/1000\n",
      "21/21 [==============================] - 1s 49ms/step - loss: 4.0762e-04\n",
      "Epoch 889/1000\n",
      "21/21 [==============================] - 1s 50ms/step - loss: 4.8547e-04\n",
      "Epoch 890/1000\n",
      "21/21 [==============================] - 1s 49ms/step - loss: 4.1980e-04\n",
      "Epoch 891/1000\n",
      "21/21 [==============================] - 1s 50ms/step - loss: 4.7196e-04\n",
      "Epoch 892/1000\n",
      "21/21 [==============================] - 1s 49ms/step - loss: 5.1997e-04\n",
      "Epoch 893/1000\n",
      "21/21 [==============================] - 1s 48ms/step - loss: 5.8526e-04\n",
      "Epoch 894/1000\n",
      "21/21 [==============================] - 1s 48ms/step - loss: 5.2520e-04\n",
      "Epoch 895/1000\n",
      "21/21 [==============================] - 1s 50ms/step - loss: 4.1421e-04\n",
      "Epoch 896/1000\n",
      "21/21 [==============================] - 1s 49ms/step - loss: 4.2731e-04\n",
      "Epoch 897/1000\n",
      "21/21 [==============================] - 1s 49ms/step - loss: 3.9961e-04\n",
      "Epoch 898/1000\n",
      "21/21 [==============================] - 1s 49ms/step - loss: 5.3093e-04\n",
      "Epoch 899/1000\n",
      "21/21 [==============================] - 1s 49ms/step - loss: 4.8084e-04\n",
      "Epoch 900/1000\n",
      "21/21 [==============================] - 1s 49ms/step - loss: 3.9668e-04\n",
      "Epoch 901/1000\n",
      "21/21 [==============================] - 1s 49ms/step - loss: 4.6647e-04\n",
      "Epoch 902/1000\n",
      "21/21 [==============================] - 1s 48ms/step - loss: 3.7669e-04\n",
      "Epoch 903/1000\n",
      "21/21 [==============================] - 1s 49ms/step - loss: 4.6724e-04\n",
      "Epoch 904/1000\n",
      "21/21 [==============================] - 1s 50ms/step - loss: 4.1481e-04\n",
      "Epoch 905/1000\n",
      "21/21 [==============================] - 1s 50ms/step - loss: 4.3972e-04\n",
      "Epoch 906/1000\n",
      "21/21 [==============================] - 1s 49ms/step - loss: 8.7685e-04\n",
      "Epoch 907/1000\n",
      "21/21 [==============================] - 1s 49ms/step - loss: 5.9624e-04\n",
      "Epoch 908/1000\n",
      "21/21 [==============================] - 1s 50ms/step - loss: 4.7237e-04\n",
      "Epoch 909/1000\n",
      "21/21 [==============================] - 1s 50ms/step - loss: 5.3093e-04\n",
      "Epoch 910/1000\n",
      "21/21 [==============================] - 1s 49ms/step - loss: 5.3135e-04\n",
      "Epoch 911/1000\n",
      "21/21 [==============================] - 1s 49ms/step - loss: 4.9928e-04\n",
      "Epoch 912/1000\n",
      "21/21 [==============================] - 1s 48ms/step - loss: 4.3341e-04\n",
      "Epoch 913/1000\n",
      "21/21 [==============================] - 1s 48ms/step - loss: 3.4212e-04\n",
      "Epoch 914/1000\n",
      "21/21 [==============================] - 1s 49ms/step - loss: 3.8588e-04\n",
      "Epoch 915/1000\n",
      "21/21 [==============================] - 1s 49ms/step - loss: 3.9948e-04\n",
      "Epoch 916/1000\n",
      "21/21 [==============================] - 1s 49ms/step - loss: 4.1191e-04\n",
      "Epoch 917/1000\n",
      "21/21 [==============================] - 1s 49ms/step - loss: 3.3678e-04\n",
      "Epoch 918/1000\n",
      "21/21 [==============================] - 1s 49ms/step - loss: 3.3126e-04\n",
      "Epoch 919/1000\n",
      "21/21 [==============================] - 1s 49ms/step - loss: 3.6519e-04\n",
      "Epoch 920/1000\n",
      "21/21 [==============================] - 1s 49ms/step - loss: 3.8863e-04\n",
      "Epoch 921/1000\n",
      "21/21 [==============================] - 1s 48ms/step - loss: 3.9572e-04\n",
      "Epoch 922/1000\n",
      "21/21 [==============================] - 1s 49ms/step - loss: 4.1265e-04\n",
      "Epoch 923/1000\n",
      "21/21 [==============================] - 1s 50ms/step - loss: 4.4252e-04\n",
      "Epoch 924/1000\n",
      "21/21 [==============================] - 1s 49ms/step - loss: 3.7984e-04\n",
      "Epoch 925/1000\n",
      "21/21 [==============================] - 1s 49ms/step - loss: 3.6592e-04\n",
      "Epoch 926/1000\n",
      "21/21 [==============================] - 1s 49ms/step - loss: 3.5434e-04\n",
      "Epoch 927/1000\n",
      "21/21 [==============================] - 1s 50ms/step - loss: 3.5820e-04\n",
      "Epoch 928/1000\n",
      "21/21 [==============================] - 1s 50ms/step - loss: 3.9731e-04\n",
      "Epoch 929/1000\n",
      "21/21 [==============================] - 1s 49ms/step - loss: 4.0839e-04\n",
      "Epoch 930/1000\n",
      "21/21 [==============================] - 1s 48ms/step - loss: 4.0110e-04\n",
      "Epoch 931/1000\n",
      "21/21 [==============================] - 1s 49ms/step - loss: 3.0521e-04\n",
      "Epoch 932/1000\n",
      "21/21 [==============================] - 1s 49ms/step - loss: 4.6136e-04\n",
      "Epoch 933/1000\n",
      "21/21 [==============================] - 1s 49ms/step - loss: 3.7347e-04\n",
      "Epoch 934/1000\n",
      "21/21 [==============================] - 1s 49ms/step - loss: 3.8729e-04\n",
      "Epoch 935/1000\n",
      "21/21 [==============================] - 1s 49ms/step - loss: 3.6264e-04\n",
      "Epoch 936/1000\n",
      "21/21 [==============================] - 1s 49ms/step - loss: 5.3659e-04\n",
      "Epoch 937/1000\n",
      "21/21 [==============================] - 1s 49ms/step - loss: 4.4893e-04\n",
      "Epoch 938/1000\n",
      "21/21 [==============================] - 1s 48ms/step - loss: 3.9285e-04\n",
      "Epoch 939/1000\n",
      "21/21 [==============================] - 1s 48ms/step - loss: 3.6483e-04\n",
      "Epoch 940/1000\n",
      "21/21 [==============================] - 1s 49ms/step - loss: 4.5924e-04\n",
      "Epoch 941/1000\n",
      "21/21 [==============================] - 1s 49ms/step - loss: 4.1728e-04\n",
      "Epoch 942/1000\n",
      "21/21 [==============================] - 1s 49ms/step - loss: 3.8874e-04\n",
      "Epoch 943/1000\n",
      "21/21 [==============================] - 1s 49ms/step - loss: 3.4944e-04\n",
      "Epoch 944/1000\n",
      "21/21 [==============================] - 1s 48ms/step - loss: 4.7916e-04\n",
      "Epoch 945/1000\n",
      "21/21 [==============================] - 1s 50ms/step - loss: 3.3685e-04\n",
      "Epoch 946/1000\n",
      "21/21 [==============================] - 1s 49ms/step - loss: 3.0943e-04\n",
      "Epoch 947/1000\n",
      "21/21 [==============================] - 1s 49ms/step - loss: 2.9264e-04\n",
      "Epoch 948/1000\n",
      "21/21 [==============================] - 1s 49ms/step - loss: 3.8174e-04\n",
      "Epoch 949/1000\n",
      "21/21 [==============================] - 1s 49ms/step - loss: 5.2744e-04\n",
      "Epoch 950/1000\n",
      "21/21 [==============================] - 1s 48ms/step - loss: 4.0967e-04\n",
      "Epoch 951/1000\n",
      "21/21 [==============================] - 1s 49ms/step - loss: 4.1023e-04\n",
      "Epoch 952/1000\n",
      "21/21 [==============================] - 1s 51ms/step - loss: 4.1513e-04\n",
      "Epoch 953/1000\n",
      "21/21 [==============================] - 1s 49ms/step - loss: 3.1118e-04\n",
      "Epoch 954/1000\n",
      "21/21 [==============================] - 1s 50ms/step - loss: 4.2545e-04\n",
      "Epoch 955/1000\n",
      "21/21 [==============================] - 1s 49ms/step - loss: 3.0271e-04\n",
      "Epoch 956/1000\n",
      "21/21 [==============================] - 1s 49ms/step - loss: 2.8623e-04\n",
      "Epoch 957/1000\n",
      "21/21 [==============================] - 1s 49ms/step - loss: 2.6700e-04\n",
      "Epoch 958/1000\n",
      "21/21 [==============================] - 1s 49ms/step - loss: 3.1315e-04\n",
      "Epoch 959/1000\n",
      "21/21 [==============================] - 1s 49ms/step - loss: 4.5085e-04\n",
      "Epoch 960/1000\n",
      "21/21 [==============================] - 1s 49ms/step - loss: 3.5434e-04\n",
      "Epoch 961/1000\n",
      "21/21 [==============================] - 1s 49ms/step - loss: 3.1131e-04\n",
      "Epoch 962/1000\n",
      "21/21 [==============================] - 1s 48ms/step - loss: 3.0266e-04\n",
      "Epoch 963/1000\n",
      "21/21 [==============================] - 1s 49ms/step - loss: 3.6013e-04\n",
      "Epoch 964/1000\n",
      "21/21 [==============================] - 1s 49ms/step - loss: 4.4171e-04\n",
      "Epoch 965/1000\n",
      "21/21 [==============================] - 1s 49ms/step - loss: 3.5175e-04\n",
      "Epoch 966/1000\n"
     ]
    },
    {
     "name": "stdout",
     "output_type": "stream",
     "text": [
      "21/21 [==============================] - 1s 49ms/step - loss: 4.0149e-04\n",
      "Epoch 967/1000\n",
      "21/21 [==============================] - 1s 49ms/step - loss: 4.4079e-04\n",
      "Epoch 968/1000\n",
      "21/21 [==============================] - 1s 50ms/step - loss: 3.0622e-04\n",
      "Epoch 969/1000\n",
      "21/21 [==============================] - 1s 50ms/step - loss: 9.0605e-04\n",
      "Epoch 970/1000\n",
      "21/21 [==============================] - 1s 48ms/step - loss: 5.0534e-04\n",
      "Epoch 971/1000\n",
      "21/21 [==============================] - 1s 49ms/step - loss: 5.5608e-04\n",
      "Epoch 972/1000\n",
      "21/21 [==============================] - 1s 49ms/step - loss: 4.6601e-04\n",
      "Epoch 973/1000\n",
      "21/21 [==============================] - 1s 49ms/step - loss: 3.5631e-04\n",
      "Epoch 974/1000\n",
      "21/21 [==============================] - 1s 49ms/step - loss: 2.6201e-04\n",
      "Epoch 975/1000\n",
      "21/21 [==============================] - 1s 49ms/step - loss: 3.0040e-04\n",
      "Epoch 976/1000\n",
      "21/21 [==============================] - 1s 49ms/step - loss: 2.7937e-04\n",
      "Epoch 977/1000\n",
      "21/21 [==============================] - 1s 49ms/step - loss: 2.7600e-04\n",
      "Epoch 978/1000\n",
      "21/21 [==============================] - 1s 49ms/step - loss: 2.5724e-04\n",
      "Epoch 979/1000\n",
      "21/21 [==============================] - 1s 49ms/step - loss: 4.8685e-04\n",
      "Epoch 980/1000\n",
      "21/21 [==============================] - 1s 49ms/step - loss: 3.5344e-04\n",
      "Epoch 981/1000\n",
      "21/21 [==============================] - 1s 49ms/step - loss: 2.6149e-04\n",
      "Epoch 982/1000\n",
      "21/21 [==============================] - 1s 49ms/step - loss: 2.7969e-04\n",
      "Epoch 983/1000\n",
      "21/21 [==============================] - 1s 50ms/step - loss: 2.2841e-04\n",
      "Epoch 984/1000\n",
      "21/21 [==============================] - 1s 50ms/step - loss: 2.8801e-04\n",
      "Epoch 985/1000\n",
      "21/21 [==============================] - 1s 50ms/step - loss: 2.9835e-04\n",
      "Epoch 986/1000\n",
      "21/21 [==============================] - 1s 49ms/step - loss: 2.9903e-04\n",
      "Epoch 987/1000\n",
      "21/21 [==============================] - 1s 49ms/step - loss: 2.3065e-04\n",
      "Epoch 988/1000\n",
      "21/21 [==============================] - 1s 49ms/step - loss: 2.5325e-04\n",
      "Epoch 989/1000\n",
      "21/21 [==============================] - 1s 48ms/step - loss: 2.1618e-04\n",
      "Epoch 990/1000\n",
      "21/21 [==============================] - 1s 49ms/step - loss: 2.2299e-04\n",
      "Epoch 991/1000\n",
      "21/21 [==============================] - 1s 49ms/step - loss: 2.5039e-04\n",
      "Epoch 992/1000\n",
      "21/21 [==============================] - 1s 49ms/step - loss: 3.1302e-04\n",
      "Epoch 993/1000\n",
      "21/21 [==============================] - 1s 50ms/step - loss: 3.1925e-04\n",
      "Epoch 994/1000\n",
      "21/21 [==============================] - 1s 48ms/step - loss: 3.2192e-04\n",
      "Epoch 995/1000\n",
      "21/21 [==============================] - 1s 49ms/step - loss: 2.5615e-04\n",
      "Epoch 996/1000\n",
      "21/21 [==============================] - 1s 49ms/step - loss: 2.4444e-04\n",
      "Epoch 997/1000\n",
      "21/21 [==============================] - 1s 49ms/step - loss: 2.7819e-04\n",
      "Epoch 998/1000\n",
      "21/21 [==============================] - 1s 49ms/step - loss: 3.1949e-04\n",
      "Epoch 999/1000\n",
      "21/21 [==============================] - 1s 49ms/step - loss: 3.9725e-04\n",
      "Epoch 1000/1000\n",
      "21/21 [==============================] - 1s 49ms/step - loss: 3.5434e-04\n"
     ]
    },
    {
     "data": {
      "text/plain": [
       "<megnet.models.megnet.MEGNetModel at 0x7fcf02c42cc0>"
      ]
     },
     "execution_count": 14,
     "metadata": {},
     "output_type": "execute_result"
    }
   ],
   "source": [
    "model.train(train.defect_representation, train[config.target],\n",
    "            validation_structures=test.defect_representation,\n",
    "            validation_targets=test[config.target],\n",
    "            callbacks=[WandbCallback()],\n",
    "            epochs=1000, verbose=1, patience=1000)"
   ]
  },
  {
   "cell_type": "code",
   "execution_count": 15,
   "metadata": {},
   "outputs": [
    {
     "name": "stdout",
     "output_type": "stream",
     "text": [
      "INFO:tensorflow:Assets written to: models/MEGNet-defect-only/defect_E/assets\n"
     ]
    },
    {
     "name": "stderr",
     "output_type": "stream",
     "text": [
      "INFO:tensorflow:Assets written to: models/MEGNet-defect-only/defect_E/assets\n"
     ]
    }
   ],
   "source": [
    "model.save_model(\"models/MEGNet-defect-only/defect_E\")"
   ]
  }
 ],
 "metadata": {
  "kernelspec": {
   "display_name": "Python 3",
   "language": "python",
   "name": "python3"
  },
  "language_info": {
   "codemirror_mode": {
    "name": "ipython",
    "version": 3
   },
   "file_extension": ".py",
   "mimetype": "text/x-python",
   "name": "python",
   "nbconvert_exporter": "python",
   "pygments_lexer": "ipython3",
   "version": "3.6.9"
  }
 },
 "nbformat": 4,
 "nbformat_minor": 5
}
