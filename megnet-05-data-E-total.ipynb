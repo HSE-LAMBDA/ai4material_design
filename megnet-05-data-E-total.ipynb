{
 "cells": [
  {
   "cell_type": "code",
   "execution_count": 1,
   "metadata": {},
   "outputs": [
    {
     "name": "stdout",
     "output_type": "stream",
     "text": [
      "env: CUDA_DEVICE_ORDER=PCI_BUS_ID\n",
      "env: CUDA_VISIBLE_DEVICES=0\n"
     ]
    }
   ],
   "source": [
    "%env CUDA_DEVICE_ORDER=PCI_BUS_ID\n",
    "%env CUDA_VISIBLE_DEVICES=0"
   ]
  },
  {
   "cell_type": "code",
   "execution_count": 2,
   "metadata": {},
   "outputs": [],
   "source": [
    "import os\n",
    "import pymatgen\n",
    "import matplotlib.pyplot as plt\n",
    "import pandas as pd\n",
    "from tqdm.notebook import trange, tqdm\n",
    "from data import get_dichalcogenides_innopolis_202105"
   ]
  },
  {
   "cell_type": "code",
   "execution_count": 3,
   "metadata": {},
   "outputs": [
    {
     "data": {
      "application/vnd.jupyter.widget-view+json": {
       "model_id": "803555a8f9c345dabb25207c4400c4e5",
       "version_major": 2,
       "version_minor": 0
      },
      "text/plain": [
       "  0%|          | 0/3480 [00:00<?, ?it/s]"
      ]
     },
     "metadata": {},
     "output_type": "display_data"
    },
    {
     "name": "stderr",
     "output_type": "stream",
     "text": [
      "/temporary/pymatgen/pymatgen/io/cif.py:1123: UserWarning:\n",
      "\n",
      "Issues encountered while parsing CIF: Some fractional co-ordinates rounded to ideal values to avoid issues with finite precision.\n",
      "\n"
     ]
    }
   ],
   "source": [
    "structures = get_dichalcogenides_innopolis_202105()"
   ]
  },
  {
   "cell_type": "code",
   "execution_count": 4,
   "metadata": {},
   "outputs": [],
   "source": [
    "import matplotlib\n",
    "\n",
    "from megnet.models import MEGNetModel\n",
    "from megnet.data.graph import GaussianDistance\n",
    "from megnet.data.crystal import CrystalGraph\n",
    "from megnet.data.molecule import MolecularGraph\n",
    "from megnet.utils.preprocessing import StandardScaler\n",
    "from megnet.callbacks import ModelCheckpointMAE\n",
    "from pymatgen.core import Lattice, Structure, Molecule\n",
    "\n",
    "import tensorflow as tf\n",
    "import numpy as np"
   ]
  },
  {
   "cell_type": "code",
   "execution_count": 5,
   "metadata": {},
   "outputs": [],
   "source": [
    "import wandb\n",
    "from wandb.keras import WandbCallback"
   ]
  },
  {
   "cell_type": "code",
   "execution_count": 6,
   "metadata": {},
   "outputs": [],
   "source": [
    "from sklearn.model_selection import train_test_split"
   ]
  },
  {
   "cell_type": "code",
   "execution_count": 7,
   "metadata": {},
   "outputs": [],
   "source": [
    "train, test = train_test_split(structures, test_size=0.25, random_state=42)"
   ]
  },
  {
   "cell_type": "code",
   "execution_count": 8,
   "metadata": {},
   "outputs": [
    {
     "name": "stderr",
     "output_type": "stream",
     "text": [
      "\u001b[34m\u001b[1mwandb\u001b[0m: Currently logged in as: \u001b[33mkazeev\u001b[0m (use `wandb login --relogin` to force relogin)\n"
     ]
    },
    {
     "data": {
      "text/html": [
       "\n",
       "                Tracking run with wandb version 0.10.33<br/>\n",
       "                Syncing run <strong style=\"color:#cdcd00\">decent-dragon-16</strong> to <a href=\"https://wandb.ai\" target=\"_blank\">Weights & Biases</a> <a href=\"https://docs.wandb.com/integrations/jupyter.html\" target=\"_blank\">(Documentation)</a>.<br/>\n",
       "                Project page: <a href=\"https://wandb.ai/kazeev/ai4material_design\" target=\"_blank\">https://wandb.ai/kazeev/ai4material_design</a><br/>\n",
       "                Run page: <a href=\"https://wandb.ai/kazeev/ai4material_design/runs/3gy4k6sr\" target=\"_blank\">https://wandb.ai/kazeev/ai4material_design/runs/3gy4k6sr</a><br/>\n",
       "                Run data is saved locally in <code>/temporary/ai4material_design/wandb/run-20210711_184844-3gy4k6sr</code><br/><br/>\n",
       "            "
      ],
      "text/plain": [
       "<IPython.core.display.HTML object>"
      ]
     },
     "metadata": {},
     "output_type": "display_data"
    },
    {
     "data": {
      "text/html": [
       "<h1>Run(3gy4k6sr)</h1><iframe src=\"https://wandb.ai/kazeev/ai4material_design/runs/3gy4k6sr\" style=\"border:none;width:100%;height:400px\"></iframe>"
      ],
      "text/plain": [
       "<wandb.sdk.wandb_run.Run at 0x7fc76d03e588>"
      ]
     },
     "execution_count": 8,
     "metadata": {},
     "output_type": "execute_result"
    }
   ],
   "source": [
    "wandb.init(project='ai4material_design', entity='kazeev')"
   ]
  },
  {
   "cell_type": "code",
   "execution_count": 9,
   "metadata": {},
   "outputs": [],
   "source": [
    "config = wandb.config\n",
    "config.target = \"energy\""
   ]
  },
  {
   "cell_type": "code",
   "execution_count": 10,
   "metadata": {},
   "outputs": [],
   "source": [
    "gc = CrystalGraph(bond_converter=GaussianDistance(np.linspace(0, 5, 100), 0.5), cutoff=6)\n",
    "model = MEGNetModel(nfeat_edge=100, nfeat_global=2, graph_converter=gc, npass=5)"
   ]
  },
  {
   "cell_type": "code",
   "execution_count": 11,
   "metadata": {},
   "outputs": [],
   "source": [
    "scaler = StandardScaler.from_training_data(train[\"initial_structure\"],\n",
    "                                           train[config.target], is_intensive=False)\n",
    "model.target_scaler = scaler"
   ]
  },
  {
   "cell_type": "code",
   "execution_count": 12,
   "metadata": {},
   "outputs": [
    {
     "name": "stdout",
     "output_type": "stream",
     "text": [
      "Epoch 1/100\n"
     ]
    },
    {
     "name": "stderr",
     "output_type": "stream",
     "text": [
      "/usr/local/lib/python3.6/dist-packages/tensorflow/python/framework/indexed_slices.py:437: UserWarning:\n",
      "\n",
      "Converting sparse IndexedSlices(IndexedSlices(indices=Tensor(\"gradient_tape/model/set2set_atom/Reshape_9:0\", shape=(None,), dtype=int32), values=Tensor(\"gradient_tape/model/set2set_atom/Reshape_8:0\", shape=(None,), dtype=float32), dense_shape=Tensor(\"gradient_tape/model/set2set_atom/Cast:0\", shape=(1,), dtype=int32))) to a dense Tensor of unknown shape. This may consume a large amount of memory.\n",
      "\n",
      "/usr/local/lib/python3.6/dist-packages/tensorflow/python/framework/indexed_slices.py:437: UserWarning:\n",
      "\n",
      "Converting sparse IndexedSlices(IndexedSlices(indices=Tensor(\"gradient_tape/model/set2set_bond/Reshape_9:0\", shape=(None,), dtype=int32), values=Tensor(\"gradient_tape/model/set2set_bond/Reshape_8:0\", shape=(None,), dtype=float32), dense_shape=Tensor(\"gradient_tape/model/set2set_bond/Cast:0\", shape=(1,), dtype=int32))) to a dense Tensor of unknown shape. This may consume a large amount of memory.\n",
      "\n",
      "/usr/local/lib/python3.6/dist-packages/tensorflow/python/framework/indexed_slices.py:437: UserWarning:\n",
      "\n",
      "Converting sparse IndexedSlices(IndexedSlices(indices=Tensor(\"gradient_tape/model/set2set_atom/Reshape_27:0\", shape=(None,), dtype=int32), values=Tensor(\"gradient_tape/model/set2set_atom/Reshape_26:0\", shape=(None,), dtype=float32), dense_shape=Tensor(\"gradient_tape/model/set2set_atom/Cast_2:0\", shape=(1,), dtype=int32))) to a dense Tensor of unknown shape. This may consume a large amount of memory.\n",
      "\n",
      "/usr/local/lib/python3.6/dist-packages/tensorflow/python/framework/indexed_slices.py:437: UserWarning:\n",
      "\n",
      "Converting sparse IndexedSlices(IndexedSlices(indices=Tensor(\"gradient_tape/model/set2set_bond/Reshape_27:0\", shape=(None,), dtype=int32), values=Tensor(\"gradient_tape/model/set2set_bond/Reshape_26:0\", shape=(None,), dtype=float32), dense_shape=Tensor(\"gradient_tape/model/set2set_bond/Cast_2:0\", shape=(1,), dtype=int32))) to a dense Tensor of unknown shape. This may consume a large amount of memory.\n",
      "\n",
      "/usr/local/lib/python3.6/dist-packages/tensorflow/python/framework/indexed_slices.py:437: UserWarning:\n",
      "\n",
      "Converting sparse IndexedSlices(IndexedSlices(indices=Tensor(\"gradient_tape/model/set2set_atom/Reshape_45:0\", shape=(None,), dtype=int32), values=Tensor(\"gradient_tape/model/set2set_atom/Reshape_44:0\", shape=(None,), dtype=float32), dense_shape=Tensor(\"gradient_tape/model/set2set_atom/Cast_4:0\", shape=(1,), dtype=int32))) to a dense Tensor of unknown shape. This may consume a large amount of memory.\n",
      "\n",
      "/usr/local/lib/python3.6/dist-packages/tensorflow/python/framework/indexed_slices.py:437: UserWarning:\n",
      "\n",
      "Converting sparse IndexedSlices(IndexedSlices(indices=Tensor(\"gradient_tape/model/set2set_bond/Reshape_45:0\", shape=(None,), dtype=int32), values=Tensor(\"gradient_tape/model/set2set_bond/Reshape_44:0\", shape=(None,), dtype=float32), dense_shape=Tensor(\"gradient_tape/model/set2set_bond/Cast_4:0\", shape=(1,), dtype=int32))) to a dense Tensor of unknown shape. This may consume a large amount of memory.\n",
      "\n",
      "/usr/local/lib/python3.6/dist-packages/tensorflow/python/framework/indexed_slices.py:437: UserWarning:\n",
      "\n",
      "Converting sparse IndexedSlices(IndexedSlices(indices=Tensor(\"gradient_tape/model/set2set_atom/Reshape_63:0\", shape=(None,), dtype=int32), values=Tensor(\"gradient_tape/model/set2set_atom/Reshape_62:0\", shape=(None,), dtype=float32), dense_shape=Tensor(\"gradient_tape/model/set2set_atom/Cast_6:0\", shape=(1,), dtype=int32))) to a dense Tensor of unknown shape. This may consume a large amount of memory.\n",
      "\n",
      "/usr/local/lib/python3.6/dist-packages/tensorflow/python/framework/indexed_slices.py:437: UserWarning:\n",
      "\n",
      "Converting sparse IndexedSlices(IndexedSlices(indices=Tensor(\"gradient_tape/model/set2set_bond/Reshape_63:0\", shape=(None,), dtype=int32), values=Tensor(\"gradient_tape/model/set2set_bond/Reshape_62:0\", shape=(None,), dtype=float32), dense_shape=Tensor(\"gradient_tape/model/set2set_bond/Cast_6:0\", shape=(1,), dtype=int32))) to a dense Tensor of unknown shape. This may consume a large amount of memory.\n",
      "\n",
      "/usr/local/lib/python3.6/dist-packages/tensorflow/python/framework/indexed_slices.py:437: UserWarning:\n",
      "\n",
      "Converting sparse IndexedSlices(IndexedSlices(indices=Tensor(\"gradient_tape/model/set2set_atom/Reshape_81:0\", shape=(None,), dtype=int32), values=Tensor(\"gradient_tape/model/set2set_atom/Reshape_80:0\", shape=(None,), dtype=float32), dense_shape=Tensor(\"gradient_tape/model/set2set_atom/Cast_8:0\", shape=(1,), dtype=int32))) to a dense Tensor of unknown shape. This may consume a large amount of memory.\n",
      "\n",
      "/usr/local/lib/python3.6/dist-packages/tensorflow/python/framework/indexed_slices.py:437: UserWarning:\n",
      "\n",
      "Converting sparse IndexedSlices(IndexedSlices(indices=Tensor(\"gradient_tape/model/set2set_bond/Reshape_81:0\", shape=(None,), dtype=int32), values=Tensor(\"gradient_tape/model/set2set_bond/Reshape_80:0\", shape=(None,), dtype=float32), dense_shape=Tensor(\"gradient_tape/model/set2set_bond/Cast_8:0\", shape=(1,), dtype=int32))) to a dense Tensor of unknown shape. This may consume a large amount of memory.\n",
      "\n"
     ]
    },
    {
     "name": "stdout",
     "output_type": "stream",
     "text": [
      "21/21 [==============================] - 78s 3s/step - loss: 0.9636\n"
     ]
    },
    {
     "name": "stderr",
     "output_type": "stream",
     "text": [
      "INFO:megnet.callbacks:\n",
      "Epoch 00001: val_mae improved from inf to 6.51284, saving model to callback/val_mae_00001_6.512837.hdf5\n"
     ]
    },
    {
     "name": "stdout",
     "output_type": "stream",
     "text": [
      "Epoch 2/100\n",
      "21/21 [==============================] - 55s 3s/step - loss: 0.1179\n"
     ]
    },
    {
     "name": "stderr",
     "output_type": "stream",
     "text": [
      "INFO:megnet.callbacks:\n",
      "Epoch 00002: val_mae improved from 6.51284 to 4.96065, saving model to callback/val_mae_00002_4.960646.hdf5\n"
     ]
    },
    {
     "name": "stdout",
     "output_type": "stream",
     "text": [
      "Epoch 3/100\n",
      "21/21 [==============================] - 55s 3s/step - loss: 0.0711\n"
     ]
    },
    {
     "name": "stderr",
     "output_type": "stream",
     "text": [
      "INFO:megnet.callbacks:\n",
      "Epoch 00003: val_mae improved from 4.96065 to 3.63946, saving model to callback/val_mae_00003_3.639457.hdf5\n"
     ]
    },
    {
     "name": "stdout",
     "output_type": "stream",
     "text": [
      "Epoch 4/100\n",
      "21/21 [==============================] - 55s 3s/step - loss: 0.0411\n"
     ]
    },
    {
     "name": "stderr",
     "output_type": "stream",
     "text": [
      "INFO:megnet.callbacks:\n",
      "Epoch 00004: val_mae improved from 3.63946 to 3.39847, saving model to callback/val_mae_00004_3.398472.hdf5\n"
     ]
    },
    {
     "name": "stdout",
     "output_type": "stream",
     "text": [
      "Epoch 5/100\n",
      "21/21 [==============================] - 55s 3s/step - loss: 0.0605\n"
     ]
    },
    {
     "name": "stderr",
     "output_type": "stream",
     "text": [
      "INFO:megnet.callbacks:\n",
      "Epoch 00005: val_mae improved from 3.39847 to 3.23099, saving model to callback/val_mae_00005_3.230990.hdf5\n"
     ]
    },
    {
     "name": "stdout",
     "output_type": "stream",
     "text": [
      "Epoch 6/100\n",
      "21/21 [==============================] - 55s 3s/step - loss: 0.0485\n"
     ]
    },
    {
     "name": "stderr",
     "output_type": "stream",
     "text": [
      "INFO:megnet.callbacks:\n",
      "Epoch 00006: val_mae improved from 3.23099 to 3.15111, saving model to callback/val_mae_00006_3.151115.hdf5\n"
     ]
    },
    {
     "name": "stdout",
     "output_type": "stream",
     "text": [
      "Epoch 7/100\n",
      "21/21 [==============================] - 55s 3s/step - loss: 0.0578\n"
     ]
    },
    {
     "name": "stderr",
     "output_type": "stream",
     "text": [
      "INFO:megnet.callbacks:\n",
      "Epoch 00007: val_mae improved from 3.15111 to 3.04363, saving model to callback/val_mae_00007_3.043629.hdf5\n"
     ]
    },
    {
     "name": "stdout",
     "output_type": "stream",
     "text": [
      "Epoch 8/100\n",
      "21/21 [==============================] - 55s 3s/step - loss: 0.0534\n",
      "Epoch 9/100\n",
      "21/21 [==============================] - 55s 3s/step - loss: 0.0574\n"
     ]
    },
    {
     "name": "stderr",
     "output_type": "stream",
     "text": [
      "INFO:megnet.callbacks:\n",
      "Epoch 00009: val_mae improved from 3.04363 to 2.87411, saving model to callback/val_mae_00009_2.874107.hdf5\n"
     ]
    },
    {
     "name": "stdout",
     "output_type": "stream",
     "text": [
      "Epoch 10/100\n",
      "21/21 [==============================] - 55s 3s/step - loss: 0.0535\n"
     ]
    },
    {
     "name": "stderr",
     "output_type": "stream",
     "text": [
      "INFO:megnet.callbacks:\n",
      "Epoch 00010: val_mae improved from 2.87411 to 2.84392, saving model to callback/val_mae_00010_2.843917.hdf5\n"
     ]
    },
    {
     "name": "stdout",
     "output_type": "stream",
     "text": [
      "Epoch 11/100\n",
      "21/21 [==============================] - 55s 3s/step - loss: 0.0461\n",
      "Epoch 12/100\n",
      "21/21 [==============================] - 55s 3s/step - loss: 0.0425\n",
      "Epoch 13/100\n",
      "21/21 [==============================] - 55s 3s/step - loss: 0.0574\n",
      "Epoch 14/100\n",
      "21/21 [==============================] - 55s 3s/step - loss: 0.0678\n",
      "Epoch 15/100\n",
      "21/21 [==============================] - 55s 3s/step - loss: 0.0485\n"
     ]
    },
    {
     "name": "stderr",
     "output_type": "stream",
     "text": [
      "INFO:megnet.callbacks:\n",
      "Epoch 00015: val_mae improved from 2.84392 to 2.75345, saving model to callback/val_mae_00015_2.753449.hdf5\n"
     ]
    },
    {
     "name": "stdout",
     "output_type": "stream",
     "text": [
      "Epoch 16/100\n",
      "21/21 [==============================] - 55s 3s/step - loss: 0.0487\n",
      "Epoch 17/100\n",
      "21/21 [==============================] - 55s 3s/step - loss: 0.0507\n",
      "Epoch 18/100\n",
      "21/21 [==============================] - 55s 3s/step - loss: 0.0410\n"
     ]
    },
    {
     "name": "stderr",
     "output_type": "stream",
     "text": [
      "INFO:megnet.callbacks:\n",
      "Epoch 00018: val_mae improved from 2.75345 to 2.62188, saving model to callback/val_mae_00018_2.621880.hdf5\n"
     ]
    },
    {
     "name": "stdout",
     "output_type": "stream",
     "text": [
      "Epoch 19/100\n",
      "21/21 [==============================] - 55s 3s/step - loss: 0.0504\n",
      "Epoch 20/100\n",
      "21/21 [==============================] - 55s 3s/step - loss: 0.0460\n",
      "Epoch 21/100\n",
      "21/21 [==============================] - 55s 3s/step - loss: 0.0549\n",
      "Epoch 22/100\n",
      "21/21 [==============================] - 55s 3s/step - loss: 0.0543\n",
      "Epoch 23/100\n",
      "21/21 [==============================] - 55s 3s/step - loss: 0.0493\n",
      "Epoch 24/100\n",
      "21/21 [==============================] - 55s 3s/step - loss: 0.0545\n",
      "Epoch 25/100\n",
      "21/21 [==============================] - 55s 3s/step - loss: 0.0422\n"
     ]
    },
    {
     "name": "stderr",
     "output_type": "stream",
     "text": [
      "INFO:megnet.callbacks:\n",
      "Epoch 00025: val_mae improved from 2.62188 to 2.47856, saving model to callback/val_mae_00025_2.478564.hdf5\n"
     ]
    },
    {
     "name": "stdout",
     "output_type": "stream",
     "text": [
      "Epoch 26/100\n",
      "21/21 [==============================] - 55s 3s/step - loss: 0.0546\n",
      "Epoch 27/100\n",
      "21/21 [==============================] - 55s 3s/step - loss: 0.0473\n",
      "Epoch 28/100\n",
      "21/21 [==============================] - 55s 3s/step - loss: 0.0519\n",
      "Epoch 29/100\n",
      "21/21 [==============================] - 55s 3s/step - loss: 0.0527\n",
      "Epoch 30/100\n",
      "21/21 [==============================] - 55s 3s/step - loss: 0.0553\n",
      "Epoch 31/100\n",
      "21/21 [==============================] - 55s 3s/step - loss: 0.0421\n",
      "Epoch 32/100\n",
      "21/21 [==============================] - 55s 3s/step - loss: 0.0616\n",
      "Epoch 33/100\n",
      "21/21 [==============================] - 55s 3s/step - loss: 0.0387\n",
      "Epoch 34/100\n",
      "21/21 [==============================] - 55s 3s/step - loss: 0.0568\n",
      "Epoch 35/100\n",
      "21/21 [==============================] - 55s 3s/step - loss: 0.0372\n",
      "Epoch 36/100\n",
      "21/21 [==============================] - 55s 3s/step - loss: 0.0378\n",
      "Epoch 37/100\n",
      "21/21 [==============================] - 55s 3s/step - loss: 0.0524\n",
      "Epoch 38/100\n",
      "21/21 [==============================] - 55s 3s/step - loss: 0.0531\n"
     ]
    },
    {
     "name": "stderr",
     "output_type": "stream",
     "text": [
      "INFO:megnet.callbacks:\n",
      "Epoch 00038: val_mae improved from 2.47856 to 2.41978, saving model to callback/val_mae_00038_2.419784.hdf5\n"
     ]
    },
    {
     "name": "stdout",
     "output_type": "stream",
     "text": [
      "Epoch 39/100\n",
      "21/21 [==============================] - 55s 3s/step - loss: 0.0469\n",
      "Epoch 40/100\n",
      "21/21 [==============================] - 55s 3s/step - loss: 0.0550\n",
      "Epoch 41/100\n",
      "21/21 [==============================] - 55s 3s/step - loss: 0.0375\n",
      "Epoch 42/100\n",
      "21/21 [==============================] - 56s 3s/step - loss: 0.0481\n",
      "Epoch 43/100\n",
      "21/21 [==============================] - 55s 3s/step - loss: 0.0504\n",
      "Epoch 44/100\n",
      "21/21 [==============================] - 55s 3s/step - loss: 0.0440\n",
      "Epoch 45/100\n",
      "21/21 [==============================] - 55s 3s/step - loss: 0.0417\n",
      "Epoch 46/100\n",
      "21/21 [==============================] - 55s 3s/step - loss: 0.0542\n",
      "Epoch 47/100\n",
      "21/21 [==============================] - 55s 3s/step - loss: 0.0439\n",
      "Epoch 48/100\n",
      "21/21 [==============================] - 55s 3s/step - loss: 0.0555\n",
      "Epoch 49/100\n",
      "21/21 [==============================] - 55s 3s/step - loss: 0.0739\n",
      "Epoch 50/100\n",
      "21/21 [==============================] - 55s 3s/step - loss: 0.0607\n",
      "Epoch 51/100\n",
      "21/21 [==============================] - 55s 3s/step - loss: 0.0505\n",
      "Epoch 52/100\n",
      "21/21 [==============================] - 55s 3s/step - loss: 0.0393\n",
      "Epoch 53/100\n",
      "21/21 [==============================] - 55s 3s/step - loss: 0.0540\n",
      "Epoch 54/100\n",
      "21/21 [==============================] - 55s 3s/step - loss: 0.0450\n",
      "Epoch 55/100\n",
      "21/21 [==============================] - 55s 3s/step - loss: 0.0563\n",
      "Epoch 56/100\n",
      "21/21 [==============================] - 55s 3s/step - loss: 0.0466\n",
      "Epoch 57/100\n",
      "21/21 [==============================] - 55s 3s/step - loss: 0.0376\n",
      "Epoch 58/100\n",
      "21/21 [==============================] - 56s 3s/step - loss: 0.0533\n",
      "Epoch 59/100\n",
      "21/21 [==============================] - 55s 3s/step - loss: 0.0473\n",
      "Epoch 60/100\n",
      "21/21 [==============================] - 55s 3s/step - loss: 0.0447\n",
      "Epoch 61/100\n",
      "21/21 [==============================] - 55s 3s/step - loss: 0.0491\n",
      "Epoch 62/100\n",
      "21/21 [==============================] - 55s 3s/step - loss: 0.0457\n",
      "Epoch 63/100\n",
      "21/21 [==============================] - 55s 3s/step - loss: 0.0571\n",
      "Epoch 64/100\n",
      "21/21 [==============================] - 55s 3s/step - loss: 0.0550\n",
      "Epoch 65/100\n",
      "21/21 [==============================] - 55s 3s/step - loss: 0.0379\n",
      "Epoch 66/100\n",
      "21/21 [==============================] - 56s 3s/step - loss: 0.0469\n",
      "Epoch 67/100\n",
      "21/21 [==============================] - 55s 3s/step - loss: 0.0565\n",
      "Epoch 68/100\n",
      "21/21 [==============================] - 56s 3s/step - loss: 0.0476\n",
      "Epoch 69/100\n",
      "21/21 [==============================] - 55s 3s/step - loss: 0.0544\n",
      "Epoch 70/100\n",
      "21/21 [==============================] - 56s 3s/step - loss: 0.0563\n",
      "Epoch 71/100\n",
      "21/21 [==============================] - 55s 3s/step - loss: 0.0485\n",
      "Epoch 72/100\n",
      "21/21 [==============================] - 55s 3s/step - loss: 0.0379\n",
      "Epoch 73/100\n",
      "21/21 [==============================] - 55s 3s/step - loss: 0.0425\n",
      "Epoch 74/100\n",
      "21/21 [==============================] - 55s 3s/step - loss: 0.0611\n",
      "Epoch 75/100\n",
      "21/21 [==============================] - 55s 3s/step - loss: 0.0453\n",
      "Epoch 76/100\n",
      "21/21 [==============================] - 55s 3s/step - loss: 0.0826\n"
     ]
    },
    {
     "name": "stderr",
     "output_type": "stream",
     "text": [
      "INFO:megnet.callbacks:\n",
      "Epoch 00076: val_mae improved from 2.41978 to 2.36485, saving model to callback/val_mae_00076_2.364853.hdf5\n"
     ]
    },
    {
     "name": "stdout",
     "output_type": "stream",
     "text": [
      "Epoch 77/100\n",
      "21/21 [==============================] - 55s 3s/step - loss: 0.0703\n",
      "Epoch 78/100\n",
      "21/21 [==============================] - 56s 3s/step - loss: 0.0646\n",
      "Epoch 79/100\n",
      "21/21 [==============================] - 56s 3s/step - loss: 0.0468\n",
      "Epoch 80/100\n",
      "21/21 [==============================] - 55s 3s/step - loss: 0.0781\n",
      "Epoch 81/100\n",
      "21/21 [==============================] - 55s 3s/step - loss: 0.0517\n",
      "Epoch 82/100\n",
      "21/21 [==============================] - 55s 3s/step - loss: 0.0634\n",
      "Epoch 83/100\n",
      "21/21 [==============================] - 56s 3s/step - loss: 0.0633\n",
      "Epoch 84/100\n",
      "21/21 [==============================] - 55s 3s/step - loss: 0.0473\n",
      "Epoch 85/100\n",
      "21/21 [==============================] - 56s 3s/step - loss: 0.0572\n",
      "Epoch 86/100\n",
      "21/21 [==============================] - 55s 3s/step - loss: 0.0440\n",
      "Epoch 87/100\n",
      "21/21 [==============================] - 55s 3s/step - loss: 0.0481\n",
      "Epoch 88/100\n",
      "21/21 [==============================] - 55s 3s/step - loss: 0.0318\n",
      "Epoch 89/100\n",
      "21/21 [==============================] - 55s 3s/step - loss: 0.0487\n",
      "Epoch 90/100\n",
      "21/21 [==============================] - 55s 3s/step - loss: 0.0517\n",
      "Epoch 91/100\n",
      "21/21 [==============================] - 55s 3s/step - loss: 0.0464\n",
      "Epoch 92/100\n",
      "21/21 [==============================] - 55s 3s/step - loss: 0.0456\n",
      "Epoch 93/100\n",
      "21/21 [==============================] - 55s 3s/step - loss: 0.0401\n",
      "Epoch 94/100\n",
      "21/21 [==============================] - 55s 3s/step - loss: 0.0499\n",
      "Epoch 95/100\n",
      "21/21 [==============================] - 55s 3s/step - loss: 0.0484\n",
      "Epoch 96/100\n",
      "21/21 [==============================] - 55s 3s/step - loss: 0.0696\n",
      "Epoch 97/100\n",
      "21/21 [==============================] - 55s 3s/step - loss: 0.0507\n",
      "Epoch 98/100\n",
      "21/21 [==============================] - 55s 3s/step - loss: 0.0457\n",
      "Epoch 99/100\n",
      "21/21 [==============================] - 55s 3s/step - loss: 0.0532\n",
      "Epoch 100/100\n",
      "21/21 [==============================] - 55s 3s/step - loss: 0.0569\n"
     ]
    },
    {
     "data": {
      "text/plain": [
       "<megnet.models.megnet.MEGNetModel at 0x7fc7648ab198>"
      ]
     },
     "execution_count": 12,
     "metadata": {},
     "output_type": "execute_result"
    }
   ],
   "source": [
    "model.train(train[\"initial_structure\"], train[config.target],\n",
    "            validation_structures=test[\"initial_structure\"],\n",
    "            validation_targets=test[config.target],\n",
    "            callbacks=[WandbCallback()],\n",
    "            epochs=100, verbose=1, patience=1000)"
   ]
  }
 ],
 "metadata": {
  "kernelspec": {
   "display_name": "Python 3",
   "language": "python",
   "name": "python3"
  },
  "language_info": {
   "codemirror_mode": {
    "name": "ipython",
    "version": 3
   },
   "file_extension": ".py",
   "mimetype": "text/x-python",
   "name": "python",
   "nbconvert_exporter": "python",
   "pygments_lexer": "ipython3",
   "version": "3.6.9"
  }
 },
 "nbformat": 4,
 "nbformat_minor": 5
}
