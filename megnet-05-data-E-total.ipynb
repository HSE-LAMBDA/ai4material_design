{
 "cells": [
  {
   "cell_type": "code",
   "execution_count": 1,
   "metadata": {},
   "outputs": [
    {
     "name": "stdout",
     "output_type": "stream",
     "text": [
      "env: CUDA_DEVICE_ORDER=PCI_BUS_ID\n",
      "env: CUDA_VISIBLE_DEVICES=1\n"
     ]
    }
   ],
   "source": [
    "%env CUDA_DEVICE_ORDER=PCI_BUS_ID\n",
    "%env CUDA_VISIBLE_DEVICES=1"
   ]
  },
  {
   "cell_type": "code",
   "execution_count": 2,
   "metadata": {},
   "outputs": [],
   "source": [
    "import os\n",
    "import pymatgen\n",
    "import matplotlib.pyplot as plt\n",
    "import pandas as pd\n",
    "from tqdm.notebook import trange, tqdm"
   ]
  },
  {
   "cell_type": "code",
   "execution_count": 3,
   "metadata": {},
   "outputs": [],
   "source": [
    "structures = pd.read_csv(\"datasets/dichalcogenides_innopolis_202105/defects.csv\", index_col=0)"
   ]
  },
  {
   "cell_type": "code",
   "execution_count": 4,
   "metadata": {},
   "outputs": [],
   "source": [
    "defects_descriptors = pd.read_csv(\"datasets/dichalcogenides_innopolis_202105/descriptors.csv\", index_col=0)"
   ]
  },
  {
   "cell_type": "code",
   "execution_count": 5,
   "metadata": {},
   "outputs": [
    {
     "data": {
      "application/vnd.jupyter.widget-view+json": {
       "model_id": "e2fc32e2fdc84ad598b6d9705e1ecad6",
       "version_major": 2,
       "version_minor": 0
      },
      "text/plain": [
       "  0%|          | 0/3480 [00:00<?, ?it/s]"
      ]
     },
     "metadata": {},
     "output_type": "display_data"
    },
    {
     "name": "stderr",
     "output_type": "stream",
     "text": [
      "/temporary/pymatgen/pymatgen/io/cif.py:1123: UserWarning:\n",
      "\n",
      "Issues encountered while parsing CIF: Some fractional co-ordinates rounded to ideal values to avoid issues with finite precision.\n",
      "\n"
     ]
    }
   ],
   "source": [
    "import pymatgen.io.cif\n",
    "STRUCTURES_FOLDER = \"datasets/dichalcogenides_innopolis_202105/initial/\"\n",
    "initial_structures = dict()\n",
    "for structure_file in tqdm(os.listdir(STRUCTURES_FOLDER)):\n",
    "  this_file = pymatgen.io.cif.CifParser(os.path.join(STRUCTURES_FOLDER, structure_file))\n",
    "  initial_structures[os.path.splitext(structure_file)[0]] = this_file.get_structures()[0]"
   ]
  },
  {
   "cell_type": "code",
   "execution_count": 6,
   "metadata": {},
   "outputs": [],
   "source": [
    "structures[\"initial_structure\"] = structures.apply(lambda row: initial_structures[row._id], axis=1)"
   ]
  },
  {
   "cell_type": "code",
   "execution_count": 7,
   "metadata": {},
   "outputs": [],
   "source": [
    "import matplotlib\n",
    "import pylab\n",
    "\n",
    "from math import floor, ceil\n",
    "from random import shuffle, seed\n",
    "from megnet.models import MEGNetModel\n",
    "from megnet.data.graph import GaussianDistance\n",
    "from megnet.data.crystal import CrystalGraph\n",
    "from megnet.data.molecule import MolecularGraph\n",
    "from megnet.utils.preprocessing import StandardScaler\n",
    "from megnet.callbacks import ModelCheckpointMAE\n",
    "from pymatgen.core import Lattice, Structure, Molecule\n",
    "\n",
    "cm = pylab.get_cmap('Set1')\n",
    "\n",
    "import tensorflow as tf\n",
    "import numpy as np"
   ]
  },
  {
   "cell_type": "code",
   "execution_count": 8,
   "metadata": {},
   "outputs": [],
   "source": [
    "import wandb\n",
    "from wandb.keras import WandbCallback"
   ]
  },
  {
   "cell_type": "code",
   "execution_count": 9,
   "metadata": {},
   "outputs": [],
   "source": [
    "from sklearn.model_selection import train_test_split"
   ]
  },
  {
   "cell_type": "code",
   "execution_count": 10,
   "metadata": {},
   "outputs": [],
   "source": [
    "train, test = train_test_split(structures, test_size=0.25, random_state=42)"
   ]
  },
  {
   "cell_type": "code",
   "execution_count": 11,
   "metadata": {},
   "outputs": [
    {
     "name": "stderr",
     "output_type": "stream",
     "text": [
      "\u001b[34m\u001b[1mwandb\u001b[0m: Currently logged in as: \u001b[33mkazeev\u001b[0m (use `wandb login --relogin` to force relogin)\n"
     ]
    },
    {
     "data": {
      "text/html": [
       "\n",
       "                Tracking run with wandb version 0.10.33<br/>\n",
       "                Syncing run <strong style=\"color:#cdcd00\">upbeat-glade-6</strong> to <a href=\"https://wandb.ai\" target=\"_blank\">Weights & Biases</a> <a href=\"https://docs.wandb.com/integrations/jupyter.html\" target=\"_blank\">(Documentation)</a>.<br/>\n",
       "                Project page: <a href=\"https://wandb.ai/kazeev/ai4material_design\" target=\"_blank\">https://wandb.ai/kazeev/ai4material_design</a><br/>\n",
       "                Run page: <a href=\"https://wandb.ai/kazeev/ai4material_design/runs/nw3576bd\" target=\"_blank\">https://wandb.ai/kazeev/ai4material_design/runs/nw3576bd</a><br/>\n",
       "                Run data is saved locally in <code>/temporary/ai4material_design/wandb/run-20210709_033434-nw3576bd</code><br/><br/>\n",
       "            "
      ],
      "text/plain": [
       "<IPython.core.display.HTML object>"
      ]
     },
     "metadata": {},
     "output_type": "display_data"
    },
    {
     "data": {
      "text/html": [
       "<h1>Run(nw3576bd)</h1><iframe src=\"https://wandb.ai/kazeev/ai4material_design/runs/nw3576bd\" style=\"border:none;width:100%;height:400px\"></iframe>"
      ],
      "text/plain": [
       "<wandb.sdk.wandb_run.Run at 0x7f759a9b1b70>"
      ]
     },
     "execution_count": 11,
     "metadata": {},
     "output_type": "execute_result"
    }
   ],
   "source": [
    "wandb.init(project='ai4material_design', entity='kazeev')"
   ]
  },
  {
   "cell_type": "code",
   "execution_count": 12,
   "metadata": {},
   "outputs": [],
   "source": [
    "config = wandb.config\n",
    "config.target = \"energy\""
   ]
  },
  {
   "cell_type": "code",
   "execution_count": 13,
   "metadata": {},
   "outputs": [],
   "source": [
    "gc = CrystalGraph(bond_converter=GaussianDistance(np.linspace(0, 5, 100), 0.5), cutoff=6)\n",
    "model = MEGNetModel(nfeat_edge=100, nfeat_global=2, graph_converter=gc)#.from_file('8.9e-4')"
   ]
  },
  {
   "cell_type": "code",
   "execution_count": 14,
   "metadata": {},
   "outputs": [],
   "source": [
    "scaler = StandardScaler.from_training_data(train[\"initial_structure\"],\n",
    "                                           train[config.target], is_intensive=False)\n",
    "model.target_scaler = scaler"
   ]
  },
  {
   "cell_type": "code",
   "execution_count": null,
   "metadata": {},
   "outputs": [
    {
     "name": "stdout",
     "output_type": "stream",
     "text": [
      "Epoch 1/100\n"
     ]
    },
    {
     "name": "stderr",
     "output_type": "stream",
     "text": [
      "/usr/local/lib/python3.6/dist-packages/tensorflow/python/framework/indexed_slices.py:437: UserWarning:\n",
      "\n",
      "Converting sparse IndexedSlices(IndexedSlices(indices=Tensor(\"gradient_tape/model/set2set_atom/Reshape_9:0\", shape=(None,), dtype=int32), values=Tensor(\"gradient_tape/model/set2set_atom/Reshape_8:0\", shape=(None,), dtype=float32), dense_shape=Tensor(\"gradient_tape/model/set2set_atom/Cast:0\", shape=(1,), dtype=int32))) to a dense Tensor of unknown shape. This may consume a large amount of memory.\n",
      "\n",
      "/usr/local/lib/python3.6/dist-packages/tensorflow/python/framework/indexed_slices.py:437: UserWarning:\n",
      "\n",
      "Converting sparse IndexedSlices(IndexedSlices(indices=Tensor(\"gradient_tape/model/set2set_bond/Reshape_9:0\", shape=(None,), dtype=int32), values=Tensor(\"gradient_tape/model/set2set_bond/Reshape_8:0\", shape=(None,), dtype=float32), dense_shape=Tensor(\"gradient_tape/model/set2set_bond/Cast:0\", shape=(1,), dtype=int32))) to a dense Tensor of unknown shape. This may consume a large amount of memory.\n",
      "\n",
      "/usr/local/lib/python3.6/dist-packages/tensorflow/python/framework/indexed_slices.py:437: UserWarning:\n",
      "\n",
      "Converting sparse IndexedSlices(IndexedSlices(indices=Tensor(\"gradient_tape/model/set2set_atom/Reshape_27:0\", shape=(None,), dtype=int32), values=Tensor(\"gradient_tape/model/set2set_atom/Reshape_26:0\", shape=(None,), dtype=float32), dense_shape=Tensor(\"gradient_tape/model/set2set_atom/Cast_2:0\", shape=(1,), dtype=int32))) to a dense Tensor of unknown shape. This may consume a large amount of memory.\n",
      "\n",
      "/usr/local/lib/python3.6/dist-packages/tensorflow/python/framework/indexed_slices.py:437: UserWarning:\n",
      "\n",
      "Converting sparse IndexedSlices(IndexedSlices(indices=Tensor(\"gradient_tape/model/set2set_bond/Reshape_27:0\", shape=(None,), dtype=int32), values=Tensor(\"gradient_tape/model/set2set_bond/Reshape_26:0\", shape=(None,), dtype=float32), dense_shape=Tensor(\"gradient_tape/model/set2set_bond/Cast_2:0\", shape=(1,), dtype=int32))) to a dense Tensor of unknown shape. This may consume a large amount of memory.\n",
      "\n",
      "/usr/local/lib/python3.6/dist-packages/tensorflow/python/framework/indexed_slices.py:437: UserWarning:\n",
      "\n",
      "Converting sparse IndexedSlices(IndexedSlices(indices=Tensor(\"gradient_tape/model/set2set_atom/Reshape_45:0\", shape=(None,), dtype=int32), values=Tensor(\"gradient_tape/model/set2set_atom/Reshape_44:0\", shape=(None,), dtype=float32), dense_shape=Tensor(\"gradient_tape/model/set2set_atom/Cast_4:0\", shape=(1,), dtype=int32))) to a dense Tensor of unknown shape. This may consume a large amount of memory.\n",
      "\n",
      "/usr/local/lib/python3.6/dist-packages/tensorflow/python/framework/indexed_slices.py:437: UserWarning:\n",
      "\n",
      "Converting sparse IndexedSlices(IndexedSlices(indices=Tensor(\"gradient_tape/model/set2set_bond/Reshape_45:0\", shape=(None,), dtype=int32), values=Tensor(\"gradient_tape/model/set2set_bond/Reshape_44:0\", shape=(None,), dtype=float32), dense_shape=Tensor(\"gradient_tape/model/set2set_bond/Cast_4:0\", shape=(1,), dtype=int32))) to a dense Tensor of unknown shape. This may consume a large amount of memory.\n",
      "\n"
     ]
    },
    {
     "name": "stdout",
     "output_type": "stream",
     "text": [
      "21/21 [==============================] - 177s 8s/step - loss: 1.1438\n"
     ]
    },
    {
     "name": "stderr",
     "output_type": "stream",
     "text": [
      "INFO:megnet.callbacks:\n",
      "Epoch 00001: val_mae improved from inf to 19.48412, saving model to callback/val_mae_00001_19.484121.hdf5\n"
     ]
    },
    {
     "name": "stdout",
     "output_type": "stream",
     "text": [
      "Epoch 2/100\n",
      "21/21 [==============================] - 95s 4s/step - loss: 0.6201\n"
     ]
    },
    {
     "name": "stderr",
     "output_type": "stream",
     "text": [
      "INFO:megnet.callbacks:\n",
      "Epoch 00002: val_mae improved from 19.48412 to 5.63743, saving model to callback/val_mae_00002_5.637435.hdf5\n"
     ]
    },
    {
     "name": "stdout",
     "output_type": "stream",
     "text": [
      "Epoch 3/100\n",
      "21/21 [==============================] - 57s 3s/step - loss: 0.6639\n",
      "Epoch 4/100\n",
      "21/21 [==============================] - 57s 3s/step - loss: 0.8430\n"
     ]
    },
    {
     "name": "stderr",
     "output_type": "stream",
     "text": [
      "INFO:megnet.callbacks:\n",
      "Epoch 00004: val_mae improved from 5.63743 to 4.95525, saving model to callback/val_mae_00004_4.955250.hdf5\n"
     ]
    },
    {
     "name": "stdout",
     "output_type": "stream",
     "text": [
      "Epoch 5/100\n",
      "21/21 [==============================] - 77s 4s/step - loss: 0.5506\n",
      "Epoch 6/100\n",
      "21/21 [==============================] - 174s 9s/step - loss: 0.8175\n",
      "Epoch 7/100\n",
      "21/21 [==============================] - 200s 10s/step - loss: 0.8608\n",
      "Epoch 8/100\n",
      "21/21 [==============================] - 271s 13s/step - loss: 0.7056\n",
      "Epoch 9/100\n",
      "21/21 [==============================] - 176s 8s/step - loss: 0.8812\n"
     ]
    },
    {
     "name": "stderr",
     "output_type": "stream",
     "text": [
      "INFO:megnet.callbacks:\n",
      "Epoch 00009: val_mae improved from 4.95525 to 3.96739, saving model to callback/val_mae_00009_3.967393.hdf5\n"
     ]
    },
    {
     "name": "stdout",
     "output_type": "stream",
     "text": [
      "Epoch 10/100\n",
      "21/21 [==============================] - 138s 6s/step - loss: 0.7962\n",
      "Epoch 11/100\n",
      "21/21 [==============================] - 204s 9s/step - loss: 0.6437\n",
      "Epoch 12/100\n",
      "21/21 [==============================] - 162s 8s/step - loss: 0.6947\n",
      "Epoch 13/100\n",
      "21/21 [==============================] - 133s 6s/step - loss: 1.3745\n",
      "Epoch 14/100\n",
      "21/21 [==============================] - 200s 10s/step - loss: 0.6825\n",
      "Epoch 15/100\n",
      "21/21 [==============================] - 154s 7s/step - loss: 1.0191\n",
      "Epoch 16/100\n",
      "21/21 [==============================] - 160s 7s/step - loss: 0.4308\n",
      "Epoch 17/100\n",
      "21/21 [==============================] - 125s 6s/step - loss: 0.7270\n",
      "Epoch 18/100\n",
      "21/21 [==============================] - 136s 6s/step - loss: 0.6391\n",
      "Epoch 19/100\n",
      "21/21 [==============================] - 173s 8s/step - loss: 0.6428\n",
      "Epoch 20/100\n",
      "21/21 [==============================] - 163s 8s/step - loss: 0.7865\n",
      "Epoch 21/100\n",
      "21/21 [==============================] - 176s 8s/step - loss: 0.5696\n"
     ]
    },
    {
     "name": "stderr",
     "output_type": "stream",
     "text": [
      "INFO:megnet.callbacks:\n",
      "Epoch 00021: val_mae improved from 3.96739 to 3.73976, saving model to callback/val_mae_00021_3.739757.hdf5\n"
     ]
    },
    {
     "name": "stdout",
     "output_type": "stream",
     "text": [
      "Epoch 22/100\n",
      "21/21 [==============================] - 172s 8s/step - loss: 0.6591\n"
     ]
    },
    {
     "name": "stderr",
     "output_type": "stream",
     "text": [
      "INFO:megnet.callbacks:\n",
      "Epoch 00022: val_mae improved from 3.73976 to 3.50279, saving model to callback/val_mae_00022_3.502786.hdf5\n"
     ]
    },
    {
     "name": "stdout",
     "output_type": "stream",
     "text": [
      "Epoch 23/100\n",
      "21/21 [==============================] - 114s 5s/step - loss: 0.7576\n",
      "Epoch 24/100\n",
      "21/21 [==============================] - 108s 5s/step - loss: 0.5800\n",
      "Epoch 25/100\n",
      "21/21 [==============================] - 117s 6s/step - loss: 0.4861\n",
      "Epoch 26/100\n",
      "21/21 [==============================] - 138s 7s/step - loss: 0.5266\n",
      "Epoch 27/100\n",
      "21/21 [==============================] - 170s 8s/step - loss: 0.5398\n",
      "Epoch 28/100\n",
      "21/21 [==============================] - 222s 11s/step - loss: 0.6556\n",
      "Epoch 29/100\n",
      "21/21 [==============================] - 211s 10s/step - loss: 0.9967\n",
      "Epoch 30/100\n",
      "21/21 [==============================] - 202s 10s/step - loss: 0.8546\n",
      "Epoch 31/100\n",
      "21/21 [==============================] - 183s 9s/step - loss: 0.7334\n",
      "Epoch 32/100\n",
      "21/21 [==============================] - 171s 8s/step - loss: 1.0070\n",
      "Epoch 33/100\n",
      "21/21 [==============================] - 121s 6s/step - loss: 0.6370\n",
      "Epoch 34/100\n",
      "21/21 [==============================] - 150s 7s/step - loss: 0.6155\n",
      "Epoch 35/100\n",
      "21/21 [==============================] - 61s 3s/step - loss: 0.8413\n",
      "Epoch 36/100\n",
      "21/21 [==============================] - 56s 3s/step - loss: 0.4345\n",
      "Epoch 37/100\n",
      "21/21 [==============================] - 56s 3s/step - loss: 0.4672\n",
      "Epoch 38/100\n",
      "21/21 [==============================] - 57s 3s/step - loss: 0.6660\n",
      "Epoch 39/100\n",
      "21/21 [==============================] - 57s 3s/step - loss: 0.5662\n",
      "Epoch 40/100\n",
      "21/21 [==============================] - 55s 3s/step - loss: 0.5994\n",
      "Epoch 41/100\n",
      "21/21 [==============================] - 55s 3s/step - loss: 0.7342\n",
      "Epoch 42/100\n",
      "21/21 [==============================] - 56s 3s/step - loss: 0.5356\n",
      "Epoch 43/100\n",
      "21/21 [==============================] - 59s 3s/step - loss: 0.5124\n",
      "Epoch 44/100\n",
      "21/21 [==============================] - 57s 3s/step - loss: 0.7110\n",
      "Epoch 45/100\n",
      "21/21 [==============================] - 56s 3s/step - loss: 0.7743\n",
      "Epoch 46/100\n",
      "21/21 [==============================] - 57s 3s/step - loss: 0.5763\n",
      "Epoch 47/100\n",
      "21/21 [==============================] - 56s 3s/step - loss: 1.4108\n",
      "Epoch 48/100\n",
      "21/21 [==============================] - 56s 3s/step - loss: 0.4198\n",
      "Epoch 49/100\n",
      "21/21 [==============================] - 59s 3s/step - loss: 0.8829\n",
      "Epoch 50/100\n",
      "21/21 [==============================] - 56s 3s/step - loss: 0.5753\n",
      "Epoch 51/100\n",
      "21/21 [==============================] - 55s 3s/step - loss: 1.0136\n",
      "Epoch 52/100\n",
      "21/21 [==============================] - 58s 3s/step - loss: 0.5701\n",
      "Epoch 53/100\n",
      "21/21 [==============================] - 68s 3s/step - loss: 0.6801\n",
      "Epoch 54/100\n",
      "21/21 [==============================] - 56s 3s/step - loss: 0.6631\n",
      "Epoch 55/100\n",
      "21/21 [==============================] - 55s 3s/step - loss: 0.5714\n",
      "Epoch 56/100\n",
      "21/21 [==============================] - 56s 3s/step - loss: 0.8104\n",
      "Epoch 57/100\n",
      "21/21 [==============================] - 57s 3s/step - loss: 0.5667\n",
      "Epoch 58/100\n",
      "21/21 [==============================] - 56s 3s/step - loss: 0.5974\n",
      "Epoch 59/100\n",
      "21/21 [==============================] - 70s 3s/step - loss: 0.7591\n",
      "Epoch 60/100\n",
      "21/21 [==============================] - 114s 6s/step - loss: 0.5124\n"
     ]
    }
   ],
   "source": [
    "model.train(train[\"initial_structure\"], train[config.target],\n",
    "            validation_structures=test[\"initial_structure\"],\n",
    "            validation_targets=test[config.target],\n",
    "            callbacks=[WandbCallback()],\n",
    "            epochs=100, verbose=1, patience=1000)"
   ]
  },
  {
   "cell_type": "code",
   "execution_count": null,
   "metadata": {},
   "outputs": [],
   "source": [
    "# TODO(kazeevn) speedup\n",
    "test.loc[:, \"predicted\"] = model.predict_structures(test[\"initial_structure\"].values)"
   ]
  },
  {
   "cell_type": "code",
   "execution_count": null,
   "metadata": {},
   "outputs": [],
   "source": [
    "fig, ax = plt.subplots()\n",
    "ax.scatter(test[config.target], test[\"predicted\"])\n",
    "ax.set_xlabel(\"True energy, eV\")\n",
    "ax.set_ylabel(\"Predicted energy, eV\");"
   ]
  }
 ],
 "metadata": {
  "kernelspec": {
   "display_name": "Python 3",
   "language": "python",
   "name": "python3"
  },
  "language_info": {
   "codemirror_mode": {
    "name": "ipython",
    "version": 3
   },
   "file_extension": ".py",
   "mimetype": "text/x-python",
   "name": "python",
   "nbconvert_exporter": "python",
   "pygments_lexer": "ipython3",
   "version": "3.6.9"
  }
 },
 "nbformat": 4,
 "nbformat_minor": 5
}
