{
 "cells": [
  {
   "cell_type": "code",
   "execution_count": 1,
   "metadata": {},
   "outputs": [],
   "source": [
    "import os\n",
    "import pandas as pd\n",
    "import numpy as np\n",
    "from data import get_dichalcogenides_innopolis"
   ]
  },
  {
   "cell_type": "code",
   "execution_count": 2,
   "metadata": {},
   "outputs": [],
   "source": [
    "from pymatgen.core.sites import PeriodicSite\n",
    "from pymatgen.core import Structure\n",
    "from pymatgen.core.periodic_table import DummySpecies, Element\n",
    "from pymatgen.io.cif import CifParser"
   ]
  },
  {
   "cell_type": "code",
   "execution_count": 3,
   "metadata": {},
   "outputs": [
    {
     "data": {
      "application/vnd.jupyter.widget-view+json": {
       "model_id": "2d80459938bf4a8bbdceb2c1b37b0430",
       "version_major": 2,
       "version_minor": 0
      },
      "text/plain": [
       "  0%|          | 0/3480 [00:00<?, ?it/s]"
      ]
     },
     "metadata": {},
     "output_type": "display_data"
    },
    {
     "name": "stderr",
     "output_type": "stream",
     "text": [
      "/temporary/pymatgen/pymatgen/io/cif.py:1123: UserWarning:\n",
      "\n",
      "Issues encountered while parsing CIF: Some fractional co-ordinates rounded to ideal values to avoid issues with finite precision.\n",
      "\n"
     ]
    }
   ],
   "source": [
    "structures = get_dichalcogenides_innopolis(\"datasets/dichalcogenides_innopolis_202105/\")"
   ]
  },
  {
   "cell_type": "code",
   "execution_count": 4,
   "metadata": {},
   "outputs": [
    {
     "data": {
      "application/vnd.jupyter.widget-view+json": {
       "model_id": "bb61a9335c624e9c825488ef297754f9",
       "version_major": 2,
       "version_minor": 0
      },
      "text/plain": [
       "  0%|          | 0/517 [00:00<?, ?it/s]"
      ]
     },
     "metadata": {},
     "output_type": "display_data"
    }
   ],
   "source": [
    "structures_8x8 = get_dichalcogenides_innopolis(\"datasets/dichalcogenides8x8_innopolis_202108/\").dropna()"
   ]
  },
  {
   "cell_type": "code",
   "execution_count": 5,
   "metadata": {},
   "outputs": [],
   "source": [
    "# Check that the ids are unique\n",
    "assert len(structures_8x8.index.intersection(structures.index)) == 0"
   ]
  },
  {
   "cell_type": "code",
   "execution_count": 6,
   "metadata": {},
   "outputs": [],
   "source": [
    "# TODO(inner perfectionist) eval is unsecure\n",
    "defects_list = []\n",
    "for dataset in (\"dichalcogenides_innopolis_202105\", \"dichalcogenides8x8_innopolis_202108\"):\n",
    "  defects_list.append(pd.read_csv(\n",
    "    os.path.join(\"datasets\", dataset, \"descriptors.csv\"), index_col=\"_id\",\n",
    "    converters={\"cell\": eval, \"defects\": eval}))\n",
    "defects = pd.concat(defects_list, axis=0)"
   ]
  },
  {
   "cell_type": "code",
   "execution_count": 7,
   "metadata": {},
   "outputs": [],
   "source": [
    "materials = defects.base.unique()"
   ]
  },
  {
   "cell_type": "code",
   "execution_count": 8,
   "metadata": {},
   "outputs": [
    {
     "name": "stderr",
     "output_type": "stream",
     "text": [
      "/temporary/pymatgen/pymatgen/io/cif.py:1123: UserWarning:\n",
      "\n",
      "Issues encountered while parsing CIF: Some fractional co-ordinates rounded to ideal values to avoid issues with finite precision.\n",
      "\n"
     ]
    }
   ],
   "source": [
    "unit_cells = {}\n",
    "for material in materials:\n",
    "  unit_cells[material] = CifParser(os.path.join(\n",
    "  \"defects_generation\", \"molecules\", f\"{material}.cif\")).get_structures(primitive=True)[0]"
   ]
  },
  {
   "cell_type": "code",
   "execution_count": 9,
   "metadata": {},
   "outputs": [],
   "source": [
    "initial_structure_properties = pd.concat([\n",
    "  pd.read_csv(os.path.join(\"datasets\", \"dichalcogenides_innopolis_202105\", \"initial_structures.csv\"),\n",
    "              index_col=[\"base\", \"cell_length\"], usecols=[1,2,3,4]),\n",
    "  pd.read_csv(os.path.join(\"datasets\", \"dichalcogenides8x8_innopolis_202108\", \"initial_structures.csv\"),\n",
    "              index_col=[\"base\", \"cell_length\"], usecols=[1,2,3,4])\n",
    "], axis=0)"
   ]
  },
  {
   "cell_type": "code",
   "execution_count": 10,
   "metadata": {},
   "outputs": [],
   "source": [
    "single_atom_energies = pd.read_csv(os.path.join(\"datasets\", \"single_atom_energies.csv\"),\n",
    "                                   index_col=0,\n",
    "                                   converters={0: Element})\n",
    "SINGLE_ENENRGY_COLUMN = \"energy_bulk_estimate\"\n",
    "temporary_energies = {\"Mo\": -10.85, \"W\": -12.96, \"S\": -4.24, \"Se\": -3.50, \"O\": -4.95}\n",
    "for element_name, energy in temporary_energies.items():\n",
    "  single_atom_energies.loc[Element(element_name), SINGLE_ENENRGY_COLUMN] = energy"
   ]
  },
  {
   "cell_type": "code",
   "execution_count": 11,
   "metadata": {},
   "outputs": [],
   "source": [
    "def get_frac_coords_set(structure):\n",
    "  return set(map(tuple, np.round(structure.frac_coords, 3)))"
   ]
  },
  {
   "cell_type": "code",
   "execution_count": 12,
   "metadata": {},
   "outputs": [],
   "source": [
    "def strucure_to_dict(structure, precision=3):\n",
    "  res = {}\n",
    "  for site in structure:\n",
    "    res[tuple(np.round(site.frac_coords, precision))] = site\n",
    "  return res"
   ]
  },
  {
   "cell_type": "code",
   "execution_count": 13,
   "metadata": {},
   "outputs": [],
   "source": [
    "def get_defects(structure, defect_description):\n",
    "  unit_cell = unit_cells[defect_description.base]\n",
    "  reference_species = set(unit_cell.species)\n",
    "  reference_supercell = unit_cell.copy()\n",
    "  reference_supercell.make_supercell(defect_description.cell)\n",
    "  reference_sites = get_frac_coords_set(reference_supercell)\n",
    "\n",
    "  defects = []\n",
    "  were_species = []\n",
    "  initial_energy = initial_structure_properties.loc[defect_description.base, defect_description.cell[0]].energy\n",
    "  defect_energy_correction = 0\n",
    "  \n",
    "  structure_dict = strucure_to_dict(structure)\n",
    "  reference_structure_dict = strucure_to_dict(reference_supercell)\n",
    "\n",
    "  for coords, reference_site in reference_structure_dict.items():\n",
    "    # Vacancy\n",
    "    if coords not in structure_dict:\n",
    "      defects.append(PeriodicSite(\n",
    "        species=DummySpecies(),\n",
    "        coords=coords,\n",
    "        coords_are_cartesian=False,\n",
    "        lattice=structure.lattice,\n",
    "      ))\n",
    "      were_species.append(reference_site.specie.Z)\n",
    "      defect_energy_correction += single_atom_energies.loc[\n",
    "        reference_site.specie, SINGLE_ENENRGY_COLUMN]\n",
    "    # Substitution\n",
    "    elif structure_dict[coords].specie != reference_site.specie:\n",
    "      defects.append(structure_dict[coords])\n",
    "      were_species.append(reference_site.specie.Z)\n",
    "      initial_energy += single_atom_energies.loc[\n",
    "        structure_dict[coords].specie, SINGLE_ENENRGY_COLUMN]\n",
    "      defect_energy_correction += single_atom_energies.loc[\n",
    "        reference_site.specie, SINGLE_ENENRGY_COLUMN]\n",
    "    \n",
    "  res = Structure(lattice=structure.lattice,\n",
    "                  species=[x.specie for x in defects],\n",
    "                  coords=[x.frac_coords for x in defects],\n",
    "                  site_properties={\"was\": were_species},\n",
    "                  coords_are_cartesian=False)\n",
    "  res.state = [sorted([element.Z for element in reference_species])]\n",
    "  return res, defect_energy_correction - initial_energy"
   ]
  },
  {
   "cell_type": "code",
   "execution_count": 14,
   "metadata": {},
   "outputs": [],
   "source": [
    "# TODO(kazeevn) this all is very ugly\n",
    "def get_defecs_from_row(row):\n",
    "  defect_structure, formation_energy_part = get_defects(row.initial_structure, defects.loc[row.descriptor_id])\n",
    "  return defect_structure, formation_energy_part + row.energy"
   ]
  },
  {
   "cell_type": "code",
   "execution_count": 15,
   "metadata": {},
   "outputs": [],
   "source": [
    "all_structures = pd.concat([structures, structures_8x8], axis=0)\n",
    "defect_properties = all_structures.apply(\n",
    "  get_defecs_from_row,\n",
    "  axis=1,\n",
    "  result_type=\"expand\")\n",
    "defect_properties.columns = [\"defect_representation\", \"formation_energy\"]\n",
    "all_structures = all_structures.join(defect_properties)"
   ]
  },
  {
   "cell_type": "code",
   "execution_count": 16,
   "metadata": {},
   "outputs": [],
   "source": [
    "all_structures[\"formation_energy_per_site\"] = all_structures[\"formation_energy\"] / all_structures[\"defect_representation\"].apply(len)\n",
    "all_structures[\"band_gap\"] = all_structures[\"lumo\"] - all_structures[\"homo\"]"
   ]
  },
  {
   "cell_type": "code",
   "execution_count": 17,
   "metadata": {},
   "outputs": [],
   "source": [
    "# Test\n",
    "assert all_structures.apply(\n",
    "  lambda row: len(row.defect_representation) == len(defects.loc[row.descriptor_id, \"defects\"]), \n",
    "  axis=1).all()"
   ]
  },
  {
   "cell_type": "code",
   "execution_count": 18,
   "metadata": {},
   "outputs": [],
   "source": [
    "from sklearn.model_selection import train_test_split"
   ]
  },
  {
   "cell_type": "code",
   "execution_count": 19,
   "metadata": {},
   "outputs": [],
   "source": [
    "all_structures.to_pickle(\"datasets/all_structures_defects.pickle.gzip\")\n",
    "\n",
    "def is_vacancy_only(defect_structure):\n",
    "  return all((isinstance(specie, DummySpecies) for specie in defect_structure.species))\n",
    "\n",
    "train, test = train_test_split(all_structures, test_size=0.25, random_state=2141)\n",
    "train.to_pickle(\"datasets/train_defects.pickle.gzip\")\n",
    "test.to_pickle(\"datasets/test_defects.pickle.gzip\")"
   ]
  },
  {
   "cell_type": "code",
   "execution_count": 20,
   "metadata": {},
   "outputs": [],
   "source": [
    "vac_only = all_structures.defect_representation.apply(is_vacancy_only)\n",
    "vac_train, vac_test = train_test_split(all_structures[vac_only], test_size=0.25, random_state=211231)\n",
    "vac_train.to_pickle(\"datasets/train_defects_vac_only.pickle.gzip\")\n",
    "vac_test.to_pickle(\"datasets/test_defects_vac_only.pickle.gzip\")"
   ]
  },
  {
   "cell_type": "code",
   "execution_count": 21,
   "metadata": {},
   "outputs": [],
   "source": [
    "is_small = all_structures.apply(\n",
    "  lambda row: defects.loc[row.descriptor_id, \"cell\"][0] < 8,\n",
    "  axis=1)\n",
    "vac_8x8 = all_structures[vac_only & ~is_small]\n",
    "vac_no_8x8 = all_structures[vac_only & is_small]\n",
    "vac_no_8x8.to_pickle(\"datasets/train_defects_vac_only_no_8x8_in_train.pickle.gzip\")\n",
    "vac_8x8.to_pickle(\"datasets/test_defects_vac_only_no_8x8_in_train.pickle.gzip\")"
   ]
  },
  {
   "cell_type": "code",
   "execution_count": 22,
   "metadata": {},
   "outputs": [],
   "source": [
    "train_8x8, test_8x8 = train_test_split(vac_8x8, test_size=0.5, random_state=42134114)\n",
    "pd.concat([vac_no_8x8, train_8x8], ignore_index=True).to_pickle(\n",
    "  \"datasets/train_defects_vac_only_8x8_split.pickle.gzip\")\n",
    "test_8x8.to_pickle(\n",
    "  \"datasets/test_defects_vac_only_8x8_split.pickle.gzip\")"
   ]
  },
  {
   "cell_type": "code",
   "execution_count": 23,
   "metadata": {},
   "outputs": [],
   "source": [
    "from ase.visualize import view\n",
    "from pymatgen.io.ase import AseAtomsAdaptor"
   ]
  },
  {
   "cell_type": "code",
   "execution_count": 24,
   "metadata": {},
   "outputs": [
    {
     "data": {
      "application/vnd.jupyter.widget-view+json": {
       "model_id": "967ed4917d5d4126a39b13fe872166b3",
       "version_major": 2,
       "version_minor": 0
      },
      "text/plain": []
     },
     "metadata": {},
     "output_type": "display_data"
    },
    {
     "data": {
      "application/vnd.jupyter.widget-view+json": {
       "model_id": "8116fca0cfa146b4a8344068ac656519",
       "version_major": 2,
       "version_minor": 0
      },
      "text/plain": [
       "HBox(children=(NGLWidget(), VBox(children=(Dropdown(description='Show', options=('All', 'Mo', 'S'), value='All…"
      ]
     },
     "metadata": {},
     "output_type": "display_data"
    }
   ],
   "source": [
    "structure_to_plot = all_structures.iloc[1221]\n",
    "view(AseAtomsAdaptor().get_atoms(structure_to_plot.initial_structure), viewer='ngl')"
   ]
  },
  {
   "cell_type": "code",
   "execution_count": 25,
   "metadata": {},
   "outputs": [
    {
     "data": {
      "application/vnd.jupyter.widget-view+json": {
       "model_id": "d76485934f6540bf9bddec7bba73ddc1",
       "version_major": 2,
       "version_minor": 0
      },
      "text/plain": [
       "HBox(children=(NGLWidget(), VBox(children=(Dropdown(description='Show', options=('All', 'X'), value='All'), Dr…"
      ]
     },
     "metadata": {},
     "output_type": "display_data"
    }
   ],
   "source": [
    "view(AseAtomsAdaptor().get_atoms(structure_to_plot.defect_representation), viewer='ngl')"
   ]
  }
 ],
 "metadata": {
  "kernelspec": {
   "display_name": "Python 3",
   "language": "python",
   "name": "python3"
  },
  "language_info": {
   "codemirror_mode": {
    "name": "ipython",
    "version": 3
   },
   "file_extension": ".py",
   "mimetype": "text/x-python",
   "name": "python",
   "nbconvert_exporter": "python",
   "pygments_lexer": "ipython3",
   "version": "3.6.9"
  }
 },
 "nbformat": 4,
 "nbformat_minor": 4
}
