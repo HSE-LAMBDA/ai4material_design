{
 "cells": [
  {
   "cell_type": "code",
   "execution_count": 1,
   "metadata": {},
   "outputs": [],
   "source": [
    "import os\n",
    "import pandas as pd\n",
    "import numpy as np\n",
    "from data import get_dichalcogenides_innopolis_202105"
   ]
  },
  {
   "cell_type": "code",
   "execution_count": 2,
   "metadata": {},
   "outputs": [],
   "source": [
    "from pymatgen.core.sites import PeriodicSite\n",
    "from pymatgen.core import Structure\n",
    "from pymatgen.core.periodic_table import DummySpecies, Element\n",
    "from pymatgen.io.cif import CifParser"
   ]
  },
  {
   "cell_type": "code",
   "execution_count": 3,
   "metadata": {},
   "outputs": [
    {
     "data": {
      "application/vnd.jupyter.widget-view+json": {
       "model_id": "3a5e3533b612488cabaeef4e47db70c3",
       "version_major": 2,
       "version_minor": 0
      },
      "text/plain": [
       "  0%|          | 0/3480 [00:00<?, ?it/s]"
      ]
     },
     "metadata": {},
     "output_type": "display_data"
    },
    {
     "name": "stderr",
     "output_type": "stream",
     "text": [
      "/temporary/pymatgen/pymatgen/io/cif.py:1123: UserWarning:\n",
      "\n",
      "Issues encountered while parsing CIF: Some fractional co-ordinates rounded to ideal values to avoid issues with finite precision.\n",
      "\n"
     ]
    }
   ],
   "source": [
    "structures = get_dichalcogenides_innopolis_202105()"
   ]
  },
  {
   "cell_type": "code",
   "execution_count": 4,
   "metadata": {},
   "outputs": [],
   "source": [
    "# TODO(inner perfectionist) eval is unsecure\n",
    "defects = pd.read_csv(\n",
    "  \"datasets/dichalcogenides_innopolis_202105/descriptors.csv\", index_col=\"_id\",\n",
    "  converters={\"cell\": eval, \"defects\": eval})"
   ]
  },
  {
   "cell_type": "code",
   "execution_count": 5,
   "metadata": {},
   "outputs": [],
   "source": [
    "materials = defects.base.unique()"
   ]
  },
  {
   "cell_type": "code",
   "execution_count": 6,
   "metadata": {},
   "outputs": [],
   "source": [
    "unit_cells = {}\n",
    "for material in materials:\n",
    "  unit_cells[material] = CifParser(os.path.join(\n",
    "  \"defects_generation\", \"molecules\", f\"{material}.cif\")).get_structures(primitive=True)[0]"
   ]
  },
  {
   "cell_type": "code",
   "execution_count": 7,
   "metadata": {},
   "outputs": [],
   "source": [
    "initial_structure_properties = pd.read_csv(os.path.join(\n",
    "  \"datasets\", \"dichalcogenides_innopolis_202105\", \"initial_structures.csv\"),\n",
    "                                          index_col=[\"base\", \"cell_length\"],\n",
    "                                          usecols=[1,2,3,4])"
   ]
  },
  {
   "cell_type": "code",
   "execution_count": 8,
   "metadata": {},
   "outputs": [],
   "source": [
    "single_atom_energies = pd.read_csv(os.path.join(\"datasets\", \"single_atom_energies.csv\"),\n",
    "                                   index_col=0,\n",
    "                                   converters={0: Element})\n",
    "SINGLE_ENENRGY_COLUMN = \"energy_symmetric\""
   ]
  },
  {
   "cell_type": "code",
   "execution_count": 9,
   "metadata": {},
   "outputs": [],
   "source": [
    "def get_frac_coords_set(structure):\n",
    "  return set(map(tuple, np.round(structure.frac_coords, 3)))"
   ]
  },
  {
   "cell_type": "code",
   "execution_count": 10,
   "metadata": {},
   "outputs": [],
   "source": [
    "def strucure_to_dict(structure, precision=3):\n",
    "  res = {}\n",
    "  for site in structure:\n",
    "    res[tuple(np.round(site.frac_coords, precision))] = site\n",
    "  return res"
   ]
  },
  {
   "cell_type": "code",
   "execution_count": 11,
   "metadata": {},
   "outputs": [],
   "source": [
    "def get_defects(structure, defect_description):\n",
    "  unit_cell = unit_cells[defect_description.base]\n",
    "  reference_species = set(unit_cell.species)\n",
    "  reference_supercell = unit_cell.copy()\n",
    "  reference_supercell.make_supercell(defect_description.cell)\n",
    "  reference_sites = get_frac_coords_set(reference_supercell)\n",
    "\n",
    "  defects = []\n",
    "  initial_energy = initial_structure_properties.loc[defect_description.base, defect_description.cell[0]].energy\n",
    "  defect_energy_correction = 0\n",
    "  \n",
    "  structure_dict = strucure_to_dict(structure)\n",
    "  reference_structure_dict = strucure_to_dict(reference_supercell)\n",
    "\n",
    "  for coords, reference_site in reference_structure_dict.items():\n",
    "    # Vacancy\n",
    "    if coords not in structure_dict:\n",
    "      defects.append(PeriodicSite(\n",
    "        species=DummySpecies(),\n",
    "        coords=coords, coords_are_cartesian=False, lattice=structure.lattice))\n",
    "      defect_energy_correction += single_atom_energies.loc[\n",
    "        reference_site.specie, SINGLE_ENENRGY_COLUMN]\n",
    "    # Substitution\n",
    "    elif structure_dict[coords].specie != reference_site.specie:\n",
    "      defects.append(structure_dict[coords])\n",
    "      initial_energy += single_atom_energies.loc[\n",
    "        structure_dict[coords].specie, SINGLE_ENENRGY_COLUMN]\n",
    "      defect_energy_correction += single_atom_energies.loc[\n",
    "        reference_site.specie, SINGLE_ENENRGY_COLUMN]\n",
    "    \n",
    "  res = Structure(lattice=structure.lattice,\n",
    "                   species=[x.specie for x in defects],\n",
    "                   coords=[x.frac_coords for x in defects],\n",
    "                   coords_are_cartesian=False)\n",
    "  res.state = [sorted([element.Z for element in reference_species])]\n",
    "  return res, defect_energy_correction - initial_energy"
   ]
  },
  {
   "cell_type": "code",
   "execution_count": 12,
   "metadata": {},
   "outputs": [],
   "source": [
    "# TODO(kazeevn) this all is very ugly\n",
    "def get_defecs_from_row(row):\n",
    "  defect_structure, formation_energy_part = get_defects(row.initial_structure, defects.loc[row.descriptor_id])\n",
    "  return defect_structure, formation_energy_part + row.energy"
   ]
  },
  {
   "cell_type": "code",
   "execution_count": 13,
   "metadata": {},
   "outputs": [],
   "source": [
    "defect_properties = structures.apply(\n",
    "  get_defecs_from_row,\n",
    "  axis=1,\n",
    "  result_type=\"expand\")\n",
    "defect_properties.columns = [\"defect_representation\", \"formation_energy\"]\n",
    "structures = structures.join(defect_properties)"
   ]
  },
  {
   "cell_type": "code",
   "execution_count": 14,
   "metadata": {},
   "outputs": [],
   "source": [
    "# Test\n",
    "assert structures.apply(\n",
    "  lambda row: len(row.defect_representation) == len(defects.loc[row.descriptor_id, \"defects\"]), \n",
    "  axis=1).all()"
   ]
  },
  {
   "cell_type": "code",
   "execution_count": 15,
   "metadata": {},
   "outputs": [],
   "source": [
    "from sklearn.model_selection import train_test_split"
   ]
  },
  {
   "cell_type": "code",
   "execution_count": 16,
   "metadata": {},
   "outputs": [],
   "source": [
    "structures.to_pickle(\"datasets/all_structures_defects.pickle.gzip\")\n",
    "clean_structures = structures[structures.formation_energy > 0]\n",
    "train, test = train_test_split(clean_structures, test_size=0.25)\n",
    "train.to_pickle(\"datasets/train_defects.pickle.gzip\")\n",
    "test.to_pickle(\"datasets/test_defects.pickle.gzip\")"
   ]
  },
  {
   "cell_type": "code",
   "execution_count": 17,
   "metadata": {},
   "outputs": [],
   "source": [
    "vac_only = clean_structures.defect_representation.apply(\n",
    "  lambda structure: all([isinstance(specie, DummySpecies) for specie in structure.species]))\n",
    "vac_train, vac_test = train_test_split(clean_structures[vac_only], test_size=0.25)\n",
    "train.to_pickle(\"datasets/train_defects_vac_only.pickle.gzip\")\n",
    "test.to_pickle(\"datasets/test_defects_vac_only.pickle.gzip\")"
   ]
  },
  {
   "cell_type": "code",
   "execution_count": 18,
   "metadata": {},
   "outputs": [],
   "source": [
    "from ase.visualize import view\n",
    "from pymatgen.io.ase import AseAtomsAdaptor"
   ]
  },
  {
   "cell_type": "code",
   "execution_count": 19,
   "metadata": {},
   "outputs": [
    {
     "data": {
      "application/vnd.jupyter.widget-view+json": {
       "model_id": "be0fee62f76e43b0b296c2e438ead998",
       "version_major": 2,
       "version_minor": 0
      },
      "text/plain": []
     },
     "metadata": {},
     "output_type": "display_data"
    },
    {
     "data": {
      "application/vnd.jupyter.widget-view+json": {
       "model_id": "eecae73219ee49909d3fc8e87963e3e8",
       "version_major": 2,
       "version_minor": 0
      },
      "text/plain": [
       "HBox(children=(NGLWidget(), VBox(children=(Dropdown(description='Show', options=('All', 'Mo', 'S'), value='All…"
      ]
     },
     "metadata": {},
     "output_type": "display_data"
    }
   ],
   "source": [
    "structure_to_plot = structures.iloc[1221]\n",
    "view(AseAtomsAdaptor().get_atoms(structure_to_plot.initial_structure), viewer='ngl')"
   ]
  },
  {
   "cell_type": "code",
   "execution_count": 20,
   "metadata": {},
   "outputs": [
    {
     "data": {
      "application/vnd.jupyter.widget-view+json": {
       "model_id": "a933deb485e74766bc3577d395a94d36",
       "version_major": 2,
       "version_minor": 0
      },
      "text/plain": [
       "HBox(children=(NGLWidget(), VBox(children=(Dropdown(description='Show', options=('All', 'X'), value='All'), Dr…"
      ]
     },
     "metadata": {},
     "output_type": "display_data"
    }
   ],
   "source": [
    "structure_to_plot = structures.iloc[1221]\n",
    "view(AseAtomsAdaptor().get_atoms(structure_to_plot.defect_representation), viewer='ngl')"
   ]
  }
 ],
 "metadata": {
  "kernelspec": {
   "display_name": "Python 3",
   "language": "python",
   "name": "python3"
  },
  "language_info": {
   "codemirror_mode": {
    "name": "ipython",
    "version": 3
   },
   "file_extension": ".py",
   "mimetype": "text/x-python",
   "name": "python",
   "nbconvert_exporter": "python",
   "pygments_lexer": "ipython3",
   "version": "3.6.9"
  }
 },
 "nbformat": 4,
 "nbformat_minor": 4
}
