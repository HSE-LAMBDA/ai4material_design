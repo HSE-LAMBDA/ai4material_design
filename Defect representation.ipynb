{
 "cells": [
  {
   "cell_type": "code",
   "execution_count": 1,
   "metadata": {},
   "outputs": [],
   "source": [
    "import os\n",
    "import pymatgen\n",
    "import matplotlib.pyplot as plt\n",
    "import pandas as pd\n",
    "from tqdm.notebook import trange, tqdm\n",
    "from data import get_dichalcogenides_innopolis_202105"
   ]
  },
  {
   "cell_type": "code",
   "execution_count": 248,
   "metadata": {},
   "outputs": [],
   "source": [
    "from pymatgen.core.sites import PeriodicSite\n",
    "from pymatgen.core.periodic_table import DummySpecies"
   ]
  },
  {
   "cell_type": "code",
   "execution_count": 2,
   "metadata": {},
   "outputs": [
    {
     "data": {
      "application/vnd.jupyter.widget-view+json": {
       "model_id": "75e3dc3205e0416691b48f773c9683a0",
       "version_major": 2,
       "version_minor": 0
      },
      "text/plain": [
       "  0%|          | 0/3480 [00:00<?, ?it/s]"
      ]
     },
     "metadata": {},
     "output_type": "display_data"
    },
    {
     "name": "stderr",
     "output_type": "stream",
     "text": [
      "/temporary/pymatgen/pymatgen/io/cif.py:1123: UserWarning:\n",
      "\n",
      "Issues encountered while parsing CIF: Some fractional co-ordinates rounded to ideal values to avoid issues with finite precision.\n",
      "\n"
     ]
    }
   ],
   "source": [
    "structures = get_dichalcogenides_innopolis_202105()"
   ]
  },
  {
   "cell_type": "code",
   "execution_count": 304,
   "metadata": {},
   "outputs": [],
   "source": [
    "# TODO(inner perfectionist) eval is unsecure\n",
    "defects = pd.read_csv(\n",
    "  \"datasets/dichalcogenides_innopolis_202105/descriptors.csv\", index_col=\"_id\",\n",
    "  converters={\"cell\": eval, \"defects\": eval})"
   ]
  },
  {
   "cell_type": "code",
   "execution_count": 305,
   "metadata": {},
   "outputs": [],
   "source": [
    "materials = defects.base.unique()"
   ]
  },
  {
   "cell_type": "code",
   "execution_count": 306,
   "metadata": {},
   "outputs": [
    {
     "name": "stderr",
     "output_type": "stream",
     "text": [
      "/temporary/pymatgen/pymatgen/io/cif.py:1123: UserWarning:\n",
      "\n",
      "Issues encountered while parsing CIF: Some fractional co-ordinates rounded to ideal values to avoid issues with finite precision.\n",
      "\n"
     ]
    }
   ],
   "source": [
    "unit_cells = {}\n",
    "for material in materials:\n",
    "  unit_cells[material] = pymatgen.io.cif.CifParser(os.path.join(\n",
    "  \"defects_generation/molecules\", f\"{material}.cif\")).get_structures(primitive=True)[0]"
   ]
  },
  {
   "cell_type": "code",
   "execution_count": 307,
   "metadata": {},
   "outputs": [],
   "source": [
    "def get_frac_coords_set(structure):\n",
    "  return set(map(tuple, np.round(structure.frac_coords, 3)))"
   ]
  },
  {
   "cell_type": "code",
   "execution_count": 308,
   "metadata": {},
   "outputs": [],
   "source": [
    "def get_defects(structure, unit_cell, supercell):\n",
    "  reference_species = set(unit_cell.species)\n",
    "  reference_supercell = unit_cell.copy()\n",
    "  reference_supercell.make_supercell(supercell)\n",
    "  reference_sites = get_frac_coords_set(reference_supercell)\n",
    "\n",
    "  defects = []\n",
    "  for site in structure:\n",
    "    if site.specie not in reference_species:\n",
    "      defects.append(site.specie)\n",
    "  absent_sites = reference_sites - get_frac_coords_set(structure)\n",
    "  defects.extend(map(lambda coords: PeriodicSite(\n",
    "    species=DummySpecies(), coords=coords, coords_are_cartesian=False, lattice=structure.lattice), absent_sites))\n",
    "  return defects"
   ]
  },
  {
   "cell_type": "code",
   "execution_count": 309,
   "metadata": {},
   "outputs": [],
   "source": [
    "def get_defecs_from_row(row):\n",
    "  this_defect = defects.loc[row.descriptor_id]\n",
    "  return get_defects(row.initial_structure, unit_cells[this_defect.base], this_defect.cell)"
   ]
  },
  {
   "cell_type": "code",
   "execution_count": 310,
   "metadata": {},
   "outputs": [],
   "source": [
    "structures[\"defect_representation\"] = structures.apply(get_defecs_from_row, axis=1)"
   ]
  },
  {
   "cell_type": "code",
   "execution_count": 312,
   "metadata": {},
   "outputs": [],
   "source": [
    "# Test\n",
    "assert structures.apply(\n",
    "  lambda row: len(row.defect_representation) == len(defects.loc[row.descriptor_id, \"defects\"]), \n",
    "  axis=1).all()"
   ]
  }
 ],
 "metadata": {
  "kernelspec": {
   "display_name": "Python 3",
   "language": "python",
   "name": "python3"
  },
  "language_info": {
   "codemirror_mode": {
    "name": "ipython",
    "version": 3
   },
   "file_extension": ".py",
   "mimetype": "text/x-python",
   "name": "python",
   "nbconvert_exporter": "python",
   "pygments_lexer": "ipython3",
   "version": "3.6.9"
  }
 },
 "nbformat": 4,
 "nbformat_minor": 4
}
