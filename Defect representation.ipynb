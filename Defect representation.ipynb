{
 "cells": [
  {
   "cell_type": "code",
   "execution_count": 1,
   "metadata": {},
   "outputs": [],
   "source": [
    "import os\n",
    "import pandas as pd\n",
    "import numpy as np\n",
    "from data import get_dichalcogenides_innopolis_202105"
   ]
  },
  {
   "cell_type": "code",
   "execution_count": 2,
   "metadata": {},
   "outputs": [],
   "source": [
    "from pymatgen.core.sites import PeriodicSite\n",
    "from pymatgen.core import Structure\n",
    "from pymatgen.core.periodic_table import DummySpecies\n",
    "from pymatgen.io.cif import CifParser"
   ]
  },
  {
   "cell_type": "code",
   "execution_count": 3,
   "metadata": {},
   "outputs": [
    {
     "data": {
      "application/vnd.jupyter.widget-view+json": {
       "model_id": "fec3d9dfba234cbba54be6d540210255",
       "version_major": 2,
       "version_minor": 0
      },
      "text/plain": [
       "  0%|          | 0/3480 [00:00<?, ?it/s]"
      ]
     },
     "metadata": {},
     "output_type": "display_data"
    },
    {
     "name": "stderr",
     "output_type": "stream",
     "text": [
      "/temporary/pymatgen/pymatgen/io/cif.py:1123: UserWarning:\n",
      "\n",
      "Issues encountered while parsing CIF: Some fractional co-ordinates rounded to ideal values to avoid issues with finite precision.\n",
      "\n"
     ]
    }
   ],
   "source": [
    "structures = get_dichalcogenides_innopolis_202105()"
   ]
  },
  {
   "cell_type": "code",
   "execution_count": 4,
   "metadata": {},
   "outputs": [],
   "source": [
    "# TODO(inner perfectionist) eval is unsecure\n",
    "defects = pd.read_csv(\n",
    "  \"datasets/dichalcogenides_innopolis_202105/descriptors.csv\", index_col=\"_id\",\n",
    "  converters={\"cell\": eval, \"defects\": eval})"
   ]
  },
  {
   "cell_type": "code",
   "execution_count": 5,
   "metadata": {},
   "outputs": [],
   "source": [
    "materials = defects.base.unique()"
   ]
  },
  {
   "cell_type": "code",
   "execution_count": 6,
   "metadata": {},
   "outputs": [],
   "source": [
    "unit_cells = {}\n",
    "for material in materials:\n",
    "  unit_cells[material] = CifParser(os.path.join(\n",
    "  \"defects_generation/molecules\", f\"{material}.cif\")).get_structures(primitive=True)[0]"
   ]
  },
  {
   "cell_type": "code",
   "execution_count": 7,
   "metadata": {},
   "outputs": [],
   "source": [
    "def get_frac_coords_set(structure):\n",
    "  return set(map(tuple, np.round(structure.frac_coords, 3)))"
   ]
  },
  {
   "cell_type": "code",
   "execution_count": 16,
   "metadata": {},
   "outputs": [],
   "source": [
    "def get_defects(structure, unit_cell, supercell):\n",
    "  reference_species = set(unit_cell.species)\n",
    "  reference_supercell = unit_cell.copy()\n",
    "  reference_supercell.make_supercell(supercell)\n",
    "  reference_sites = get_frac_coords_set(reference_supercell)\n",
    "\n",
    "  defects = []\n",
    "  for site in structure:\n",
    "    if site.specie not in reference_species:\n",
    "      defects.append(site)\n",
    "  absent_sites = reference_sites - get_frac_coords_set(structure)\n",
    "  defects.extend(map(lambda coords: PeriodicSite(\n",
    "    # TODO(kazeevn) proper vacancies handling downstream, don't conscript hydrogen\n",
    "    # species=DummySpecies(),\n",
    "    species=1,\n",
    "    coords=coords, coords_are_cartesian=False, lattice=structure.lattice), absent_sites))\n",
    "  res = Structure(lattice=structure.lattice,\n",
    "                   species=[x.specie for x in defects],\n",
    "                   coords=[x.frac_coords for x in defects],\n",
    "                   coords_are_cartesian=False)\n",
    "  res.state = [sorted([element.Z for element in reference_species])]\n",
    "  return res"
   ]
  },
  {
   "cell_type": "code",
   "execution_count": 17,
   "metadata": {},
   "outputs": [],
   "source": [
    "def get_defecs_from_row(row):\n",
    "  this_defect = defects.loc[row.descriptor_id]\n",
    "  return get_defects(row.initial_structure, unit_cells[this_defect.base], this_defect.cell)"
   ]
  },
  {
   "cell_type": "code",
   "execution_count": 18,
   "metadata": {},
   "outputs": [],
   "source": [
    "structures[\"defect_representation\"] = structures.apply(get_defecs_from_row, axis=1)"
   ]
  },
  {
   "cell_type": "code",
   "execution_count": 19,
   "metadata": {},
   "outputs": [],
   "source": [
    "# Test\n",
    "assert structures.apply(\n",
    "  lambda row: len(row.defect_representation) == len(defects.loc[row.descriptor_id, \"defects\"]), \n",
    "  axis=1).all()"
   ]
  },
  {
   "cell_type": "code",
   "execution_count": 20,
   "metadata": {},
   "outputs": [],
   "source": [
    "structures.to_pickle(\"datasets/structures_defects.pickle.gzip\")"
   ]
  },
  {
   "cell_type": "code",
   "execution_count": 21,
   "metadata": {},
   "outputs": [],
   "source": [
    "from ase.visualize import view\n",
    "from pymatgen.io.ase import AseAtomsAdaptor"
   ]
  },
  {
   "cell_type": "code",
   "execution_count": 22,
   "metadata": {},
   "outputs": [
    {
     "data": {
      "application/vnd.jupyter.widget-view+json": {
       "model_id": "d59eaba0d6fc44f2893a6d1887b1b248",
       "version_major": 2,
       "version_minor": 0
      },
      "text/plain": [
       "HBox(children=(NGLWidget(), VBox(children=(Dropdown(description='Show', options=('All', 'S', 'Mo'), value='All…"
      ]
     },
     "metadata": {},
     "output_type": "display_data"
    }
   ],
   "source": [
    "structure_to_plot = structures.iloc[1221]\n",
    "view(AseAtomsAdaptor().get_atoms(structure_to_plot.initial_structure), viewer='ngl')"
   ]
  },
  {
   "cell_type": "code",
   "execution_count": 15,
   "metadata": {},
   "outputs": [
    {
     "data": {
      "application/vnd.jupyter.widget-view+json": {
       "model_id": "ae1039dcff004b2e87ad6f0d123d448e",
       "version_major": 2,
       "version_minor": 0
      },
      "text/plain": [
       "HBox(children=(NGLWidget(), VBox(children=(Dropdown(description='Show', options=('All', 'H'), value='All'), Dr…"
      ]
     },
     "metadata": {},
     "output_type": "display_data"
    }
   ],
   "source": [
    "structure_to_plot = structures.iloc[1221]\n",
    "view(AseAtomsAdaptor().get_atoms(structure_to_plot.defect_representation), viewer='ngl')"
   ]
  }
 ],
 "metadata": {
  "kernelspec": {
   "display_name": "Python 3",
   "language": "python",
   "name": "python3"
  },
  "language_info": {
   "codemirror_mode": {
    "name": "ipython",
    "version": 3
   },
   "file_extension": ".py",
   "mimetype": "text/x-python",
   "name": "python",
   "nbconvert_exporter": "python",
   "pygments_lexer": "ipython3",
   "version": "3.6.9"
  }
 },
 "nbformat": 4,
 "nbformat_minor": 4
}
