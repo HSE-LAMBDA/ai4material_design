{
 "cells": [
  {
   "cell_type": "code",
   "execution_count": 1,
   "metadata": {},
   "outputs": [
    {
     "name": "stdout",
     "output_type": "stream",
     "text": [
      "env: CUDA_DEVICE_ORDER=PCI_BUS_ID\n",
      "env: CUDA_VISIBLE_DEVICES=1\n"
     ]
    }
   ],
   "source": [
    "%env CUDA_DEVICE_ORDER=PCI_BUS_ID\n",
    "%env CUDA_VISIBLE_DEVICES=1"
   ]
  },
  {
   "cell_type": "code",
   "execution_count": 2,
   "metadata": {
    "colab": {
     "base_uri": "https://localhost:8080/"
    },
    "id": "KVIHud2diL51",
    "outputId": "3943ec92-b6ad-4551-c11a-e55c863b3716"
   },
   "outputs": [],
   "source": [
    "import os\n",
    "import numpy as onp\n",
    "import pickle\n",
    "\n",
    "import jax\n",
    "from jax import lax\n",
    "\n",
    "from jax.api import jit, vmap, grad\n",
    "# TODO: Re-enable x64 mode after XLA bug fix.\n",
    "# from jax.config import config ; config.update('jax_enable_x64', True)\n",
    "#import warnings\n",
    "#warnings.simplefilter('ignore')\n",
    "\n",
    "import jax.numpy as np\n",
    "\n",
    "from jax import random\n",
    "\n",
    "import optax\n",
    "\n",
    "from jax_md import energy, space, simulate, quantity\n",
    "\n",
    "\n",
    "import matplotlib\n",
    "import matplotlib.pyplot as plt\n",
    "import seaborn as sns\n",
    "\n",
    "import pylab as pl\n",
    "from IPython import display\n",
    "from functools import partial\n",
    "  \n",
    "sns.set_style(style='white')\n",
    "sns.set(font_scale=1.6)\n",
    "\n",
    "def format_plot(x, y):\n",
    "  plt.xlabel(x, fontsize=20)\n",
    "  plt.ylabel(y, fontsize=20)\n",
    "  \n",
    "def finalize_plot(shape=(1, 1)):\n",
    "  plt.gcf().set_facecolor('white')\n",
    "  plt.gcf().set_size_inches(\n",
    "    shape[0] * 1.5 * plt.gcf().get_size_inches()[1], \n",
    "    shape[1] * 1.5 * plt.gcf().get_size_inches()[1])\n",
    "  plt.tight_layout()\n",
    "\n",
    "def draw_training(params):\n",
    "  display.clear_output(wait=True)\n",
    "  display.display(plt.gcf())\n",
    "  plt.subplot(1, 2, 1)\n",
    "  plt.semilogy(train_energy_error, alpha=0.5)\n",
    "  plt.semilogy(test_energy_error, alpha=0.5)\n",
    "  plt.xlim([0, train_epochs])\n",
    "  format_plot('Epoch', '$L$')\n",
    "  plt.subplot(1, 2, 2)\n",
    "  predicted = vectorized_energy_fn(params, example_positions)\n",
    "  plt.plot(example_energies, predicted, 'o')\n",
    "  min_energy = min(example_energies.min(), predicted.min())\n",
    "  max_energy = max(example_energies.max(), predicted.max())\n",
    "  plot_range = np.linspace(min_energy, max_energy, 10)\n",
    "  plt.plot(plot_range, plot_range, '--')\n",
    "  format_plot('$E_{label}$', '$E_{prediction}$')\n",
    "  finalize_plot((2, 1))\n",
    "  plt.show()"
   ]
  },
  {
   "cell_type": "code",
   "execution_count": 3,
   "metadata": {},
   "outputs": [],
   "source": [
    "import pandas as pd"
   ]
  },
  {
   "cell_type": "code",
   "execution_count": 4,
   "metadata": {},
   "outputs": [],
   "source": [
    "from sklearn.model_selection import train_test_split\n",
    "def build_dataset():\n",
    "    data_gpaw = pd.read_pickle(\"data/gpaw_forces_dataframe.pickle\")\n",
    "    data_vasp = pd.read_pickle(\"data/VASP_MoS2_defects.pickle\")\n",
    "    assert (data_vasp.structures.iloc[0].lattice._matrix == data_gpaw.structure.iloc[0].cell.array).all()\n",
    "    \n",
    "    positions = np.concatenate([i.positions[np.newaxis, :, :] for i in data_gpaw.structure] +\n",
    "                               [i.cart_coords[np.newaxis, :, :] for i in data_vasp.structures],\n",
    "                               axis=0).astype(np.float32)\n",
    "    energies = np.concatenate([data_gpaw.energy.values, data_vasp.energy.values]).astype(np.float32)\n",
    "    \n",
    "    forces = np.concatenate([f[np.newaxis, :, :] for f in data_gpaw.forces] +\n",
    "                            [np.zeros((len(data_vasp), positions.shape[1], positions.shape[2]), dtype=np.float32)],\n",
    "                            axis=0).astype(np.float32)\n",
    "    \n",
    "    types = np.concatenate([i.get_atomic_numbers()[np.newaxis, :] for i in data_gpaw.structure] + \n",
    "                           [np.array(i.atomic_numbers)[np.newaxis, :] for i in data_vasp.structures],\n",
    "                           axis=0).astype(np.int32)\n",
    "    return list(map(jax.numpy.array,\n",
    "                    train_test_split(positions, types, energies, forces, test_size=0.25, random_state=1421))),\\\n",
    "           data_gpaw.structure.iloc[0].cell.array.astype(np.float32)"
   ]
  },
  {
   "cell_type": "code",
   "execution_count": 5,
   "metadata": {
    "colab": {
     "base_uri": "https://localhost:8080/"
    },
    "id": "dNIar1gB3zig",
    "outputId": "bf2bdb63-3157-41e9-b0a5-6d54eb471ed8"
   },
   "outputs": [
    {
     "name": "stdout",
     "output_type": "stream",
     "text": [
      "positions.shape = (616, 105, 3)\n",
      "<E> = -755.2579956054688\n"
     ]
    }
   ],
   "source": [
    "(positions, test_positions, \\\n",
    "types, test_types, \\\n",
    "energies, test_energies, \\\n",
    "forces, test_forces), lattice = build_dataset()\n",
    "\n",
    "energy_mean = np.mean(energies)\n",
    "energy_std = np.std(energies)\n",
    "\n",
    "print('positions.shape = {}'.format(positions.shape))\n",
    "print('<E> = {}'.format(energy_mean))"
   ]
  },
  {
   "cell_type": "code",
   "execution_count": 6,
   "metadata": {},
   "outputs": [],
   "source": [
    "assert all(((types[0]==types[i]).all() for i in range(len(types))))"
   ]
  },
  {
   "cell_type": "markdown",
   "metadata": {
    "id": "Kib1B2Mm4yRp"
   },
   "source": [
    "Next we create a space for our systems to live in using `periodic` boundary conditions."
   ]
  },
  {
   "cell_type": "code",
   "execution_count": 7,
   "metadata": {
    "id": "nMzMGNf0463Y"
   },
   "outputs": [],
   "source": [
    "#TODO(kazeevn) verify\n",
    "displacement, shift = space.periodic_general(lattice.T, fractional_coordinates=False)"
   ]
  },
  {
   "cell_type": "markdown",
   "metadata": {
    "id": "WNs8v2745Mc3"
   },
   "source": [
    "We can now instantiate a graph neural network using the `energy.graph_network_neighbor_list` command. This neural network is based on [recent work](https://www.nature.com/articles/s41567-020-0842-8) modelling defects in disordered solids. See that paper or the review by [Battaglia et al.](https://arxiv.org/abs/1806.01261) for details. We will add edges between all neighbors that are separated by less than a cutoff of 3 Angstroms. In JAX MD neural network potentials are specified by a triple of functions: a `neighbor_fn` that creates a list of neighbors that reside within the cutoff, an `init_fn` that initializes the parameters of the network, and an `energy_fn` that evaluates the model."
   ]
  },
  {
   "cell_type": "code",
   "execution_count": 8,
   "metadata": {},
   "outputs": [],
   "source": [
    "import jax_md\n",
    "DisplacementFn = jax_md.space.DisplacementFn\n",
    "NeighborFn = jax_md.partition.NeighborFn\n",
    "NeighborList = jax_md.partition.NeighborList\n",
    "Array = jax_md.util.Array\n",
    "from typing import Tuple, Dict, Any, Callable\n",
    "PyTree = Any\n",
    "import haiku as hk\n",
    "from jax import vmap\n",
    "def behler_parrinello_trainable_params_neighbor_list(\n",
    "                                    displacement: DisplacementFn,\n",
    "                                    box_size: float,\n",
    "                                    species: Array=None,\n",
    "                                    mlp_sizes: Tuple[int, ...]=(30, 30),\n",
    "                                    mlp_kwargs: Dict[str, Any]=None,\n",
    "                                    sym_kwargs: Dict[str, Any]=None,\n",
    "                                    dr_threshold: float=0.5\n",
    "                                    ) -> Tuple[NeighborFn,\n",
    "                                               jax_md.nn.InitFn,\n",
    "                                               Callable[[PyTree,\n",
    "                                                         Array,\n",
    "                                                         NeighborList],\n",
    "                                                        Array]]:\n",
    "  if sym_kwargs is None:\n",
    "    sym_kwargs = {}\n",
    "  if mlp_kwargs is None:\n",
    "    mlp_kwargs = {\n",
    "        'activation': np.tanh\n",
    "    }\n",
    "\n",
    "  cutoff_distance = np.float32(8.0)\n",
    "  if 'cutoff_distance' in sym_kwargs:\n",
    "    cutoff_distance = sym_kwargs['cutoff_distance']\n",
    "\n",
    "  neighbor_fn = jax_md.partition.neighbor_list(displacement,\n",
    "                                        box_size,\n",
    "                                        cutoff_distance,\n",
    "                                        dr_threshold)\n",
    "\n",
    "  @hk.without_apply_rng\n",
    "  @hk.transform\n",
    "  def model(D, neighbor, **kwargs):\n",
    "    embedding_fn = hk.nets.MLP(output_sizes=mlp_sizes+(1,),\n",
    "                               activate_final=False,\n",
    "                               name='BPEncoder',\n",
    "                               **mlp_kwargs)\n",
    "    embedding_fn = vmap(embedding_fn)\n",
    "    readout = embedding_fn(D)\n",
    "    return np.sum(readout)\n",
    "  \n",
    "  def compute_sym(sym_params, R, neighbor):\n",
    "    new_sym_kwargs = dict(sym_kwargs)\n",
    "    for key, value in sym_params.items():\n",
    "      new_sym_kwargs[key] = value**2\n",
    "    sym_fn = jax_md.nn.behler_parrinello_symmetry_functions_neighbor_list(displacement,\n",
    "                                                                          species,\n",
    "                                                                          **new_sym_kwargs)\n",
    "    return np.concatenate([sym_fn(R, neighbor), np.expand_dims(species, -1)], axis=1)\n",
    "\n",
    "  def init(key, R, neighbor):\n",
    "    # They are squared in the computation\n",
    "    bp_params = {\n",
    "            \"radial_etas\": np.sqrt(np.array([9e-4, 0.01, 0.02, 0.035, 0.06, 0.1, 0.2, 0.4],\n",
    "                    np.float32)) / np.float32(0.529177),\n",
    "            \"angular_etas\": np.sqrt(np.array([1e-4] * 4 + [0.003] * 4 + [0.008] * 2 + \n",
    "                                    [0.015] * 4 + [0.025] * 4 + [0.045] * 4,\n",
    "                                    np.float32)) / np.float32(0.529177)\n",
    "    }\n",
    "    sym = compute_sym(bp_params, R, neighbor)\n",
    "    params_raw = model.init(key, sym, neighbor)\n",
    "    return (bp_params, params_raw)\n",
    "\n",
    "\n",
    "  def apply(params, R, neighbor):\n",
    "    return model.apply(params[1], compute_sym(params[0], R, neighbor), neighbor)\n",
    "\n",
    "  return neighbor_fn, init, apply"
   ]
  },
  {
   "cell_type": "code",
   "execution_count": 9,
   "metadata": {
    "id": "Fu4RvlXU5Cwb"
   },
   "outputs": [],
   "source": [
    "species = (types[0]==types[0,0]).astype(np.int32)\n",
    "neighbor_fn, init_fn_bp, energy_fn_bp = behler_parrinello_trainable_params_neighbor_list(\n",
    "    displacement=displacement,\n",
    "    species=species,\n",
    "    box_size=np.float32(21),\n",
    "    sym_kwargs={\"cutoff_distance\": np.float32(5.7)})"
   ]
  },
  {
   "cell_type": "markdown",
   "metadata": {
    "id": "BLF5A-D96jDU"
   },
   "source": [
    "To start with, we construct an initial neighbor list which will be used to estimate the maximum number of neighbors. This is necessary since XLA needs to have static shapes to enable JIT compilation. See [here](https://github.com/google/jax-md#spatial-partitioning-partitionpy) for details."
   ]
  },
  {
   "cell_type": "code",
   "execution_count": 10,
   "metadata": {
    "id": "FzcabwoM6iiN"
   },
   "outputs": [
    {
     "name": "stderr",
     "output_type": "stream",
     "text": [
      "/temporary/jax/jax/_src/numpy/lax_numpy.py:2929: UserWarning:\n",
      "\n",
      "Explicitly requested dtype <class 'jax._src.numpy.lax_numpy.int64'> requested in array is not available, and will be truncated to dtype int32. To enable more dtypes, set the jax_enable_x64 configuration option or the JAX_ENABLE_X64 shell environment variable. See https://github.com/google/jax#current-gotchas for more.\n",
      "\n",
      "/temporary/jax/jax/_src/numpy/lax_numpy.py:3035: UserWarning:\n",
      "\n",
      "Explicitly requested dtype <class 'jax._src.numpy.lax_numpy.int64'> requested in zeros is not available, and will be truncated to dtype int32. To enable more dtypes, set the jax_enable_x64 configuration option or the JAX_ENABLE_X64 shell environment variable. See https://github.com/google/jax#current-gotchas for more.\n",
      "\n",
      "/temporary/jax/jax/_src/numpy/lax_numpy.py:3044: UserWarning:\n",
      "\n",
      "Explicitly requested dtype <class 'jax._src.numpy.lax_numpy.int64'> requested in ones is not available, and will be truncated to dtype int32. To enable more dtypes, set the jax_enable_x64 configuration option or the JAX_ENABLE_X64 shell environment variable. See https://github.com/google/jax#current-gotchas for more.\n",
      "\n"
     ]
    },
    {
     "name": "stdout",
     "output_type": "stream",
     "text": [
      "Allocating space for at most 49 neighbors\n"
     ]
    }
   ],
   "source": [
    "neighbor = neighbor_fn(positions[0], extra_capacity=3)\n",
    "print('Allocating space for at most {} neighbors'.format(neighbor.idx.shape[1]))"
   ]
  },
  {
   "cell_type": "markdown",
   "metadata": {
    "id": "t2pWF0jE_Ha4"
   },
   "source": [
    "Using this neighbor prototype we will write a wrapper around our neural network energy function that will construct a neighbor list for a given state and then compute the energy. This is helpful because it allows us to use JAX's automatic vectorization via `vmap` along with our neighbor lists. Using JAX's automatic differentiation we can also write down a function that computes the force due to our neural network potential.\n",
    "\n",
    "Note that if we were running a simulation using this energy, we would only rebuild the neighbor list when necessary."
   ]
  },
  {
   "cell_type": "code",
   "execution_count": 11,
   "metadata": {
    "id": "CZVtIaMs_3IY"
   },
   "outputs": [],
   "source": [
    "@jit\n",
    "def train_energy_fn(params, R):\n",
    "  _neighbor = neighbor_fn(R, neighbor)\n",
    "  return energy_fn_bp(params, R, _neighbor)\n",
    "\n",
    "# Vectorize over states, not parameters.\n",
    "vectorized_energy_fn = vmap(train_energy_fn, (None, 0))\n",
    "\n",
    "grad_fn = grad(train_energy_fn, argnums=1)\n",
    "force_fn = lambda params, R, **kwargs: -grad_fn(params, R)\n",
    "vectorized_force_fn = vmap(force_fn, (None, 0))"
   ]
  },
  {
   "cell_type": "markdown",
   "metadata": {
    "id": "R3MvxVtj-SUQ"
   },
   "source": [
    "Next we will initialize the parameters of the graph network. This is done by providing the `init_fn` with a random key as well as an example input. As with the neighbor lists, this example input is used to deduce the shape of the various parameters."
   ]
  },
  {
   "cell_type": "code",
   "execution_count": 12,
   "metadata": {
    "id": "dhnKug1_-MPS"
   },
   "outputs": [
    {
     "name": "stderr",
     "output_type": "stream",
     "text": [
      "/temporary/jax/jax/_src/numpy/lax_numpy.py:1973: UserWarning:\n",
      "\n",
      "Explicitly requested dtype <class 'jax._src.numpy.lax_numpy.float64'> requested in sum is not available, and will be truncated to dtype float32. To enable more dtypes, set the jax_enable_x64 configuration option or the JAX_ENABLE_X64 shell environment variable. See https://github.com/google/jax#current-gotchas for more.\n",
      "\n"
     ]
    }
   ],
   "source": [
    "key = random.PRNGKey(42)\n",
    "params = init_fn_bp(key, positions[0], neighbor)"
   ]
  },
  {
   "cell_type": "markdown",
   "metadata": {
    "id": "1H2wGxzg-tJv"
   },
   "source": [
    "Now, we can use JAX's automatic vectorization via `vmap` to compute predicted energies for all of the states using the untrained network."
   ]
  },
  {
   "cell_type": "code",
   "execution_count": 13,
   "metadata": {
    "id": "ns5oB-gN-n9P"
   },
   "outputs": [
    {
     "name": "stderr",
     "output_type": "stream",
     "text": [
      "/temporary/jax/jax/_src/numpy/lax_numpy.py:2929: UserWarning:\n",
      "\n",
      "Explicitly requested dtype <class 'jax._src.numpy.lax_numpy.int64'> requested in array is not available, and will be truncated to dtype int32. To enable more dtypes, set the jax_enable_x64 configuration option or the JAX_ENABLE_X64 shell environment variable. See https://github.com/google/jax#current-gotchas for more.\n",
      "\n",
      "/temporary/jax/jax/_src/numpy/lax_numpy.py:3044: UserWarning:\n",
      "\n",
      "Explicitly requested dtype <class 'jax._src.numpy.lax_numpy.int64'> requested in ones is not available, and will be truncated to dtype int32. To enable more dtypes, set the jax_enable_x64 configuration option or the JAX_ENABLE_X64 shell environment variable. See https://github.com/google/jax#current-gotchas for more.\n",
      "\n",
      "/temporary/jax/jax/_src/numpy/lax_numpy.py:1973: UserWarning:\n",
      "\n",
      "Explicitly requested dtype <class 'jax._src.numpy.lax_numpy.float64'> requested in sum is not available, and will be truncated to dtype float32. To enable more dtypes, set the jax_enable_x64 configuration option or the JAX_ENABLE_X64 shell environment variable. See https://github.com/google/jax#current-gotchas for more.\n",
      "\n"
     ]
    }
   ],
   "source": [
    "n_predictions = 100\n",
    "example_positions = positions[:n_predictions]\n",
    "example_energies = energies[:n_predictions]\n",
    "example_forces = forces[:n_predictions]\n",
    "\n",
    "predicted = vmap(train_energy_fn, (None, 0))(params, example_positions)"
   ]
  },
  {
   "cell_type": "code",
   "execution_count": 14,
   "metadata": {
    "id": "BP6x1sEPAY_A"
   },
   "outputs": [
    {
     "data": {
      "image/png": "[encoded data removed]",
      "text/plain": [
       "<Figure size 432x432 with 1 Axes>"
      ]
     },
     "metadata": {},
     "output_type": "display_data"
    }
   ],
   "source": [
    "plt.plot(example_energies, predicted, 'o')\n",
    "format_plot('$E_{label}$', '$E_{predicted}$')\n",
    "finalize_plot((1, 1))"
   ]
  },
  {
   "cell_type": "markdown",
   "metadata": {
    "id": "Q55oI3EAAeyN"
   },
   "source": [
    "Despite the fact that the neural network is untrained we see that the outputs of the graph network correlate strongly with the labels. This hints that perhaps graph networks provide some sort of \"deep molecular prior\". \n",
    "\n",
    "Next, we define losses for the energy and the force as well as a total loss that combines the two terms. We fit both the force and the energy using Mean-Squared-Error (MSE) loss."
   ]
  },
  {
   "cell_type": "code",
   "execution_count": 15,
   "metadata": {
    "id": "pwxERR68AeoB"
   },
   "outputs": [],
   "source": [
    "@jit\n",
    "def energy_loss(params, R, energy_targets):\n",
    "  return np.mean((vectorized_energy_fn(params, R) - energy_targets) ** 2)\n",
    "\n",
    "@jit\n",
    "def force_loss(params, R, force_targets):\n",
    "  dforces = vectorized_force_fn(params, R) - force_targets\n",
    "  return np.mean(np.sum(dforces ** 2, axis=(1, 2)))\n",
    "\n",
    "@jit\n",
    "def loss(params, R, targets):\n",
    "  return energy_loss(params, R, targets[0]) + force_loss(params, R, targets[1])"
   ]
  },
  {
   "cell_type": "markdown",
   "metadata": {
    "id": "seSkwLZqBIrK"
   },
   "source": [
    "Now we create an optimizer using ADAM with gradient clipping. We will also write helper functions to perform a single update step and perform an entire epochs worth of updates."
   ]
  },
  {
   "cell_type": "code",
   "execution_count": 16,
   "metadata": {
    "id": "xhgLDCFSAcdI"
   },
   "outputs": [],
   "source": [
    "opt = optax.chain(optax.clip_by_global_norm(1.0),\n",
    "                  optax.adam(3e-4))\n",
    "\n",
    "@jit\n",
    "def update_step(params, opt_state, R, labels):\n",
    "  updates, opt_state = opt.update(grad(energy_loss)(params, R, labels[0]),\n",
    "                                  opt_state)\n",
    "  return optax.apply_updates(params, updates), opt_state\n",
    "\n",
    "@jit\n",
    "def update_epoch(params_and_opt_state, batches):\n",
    "  def inner_update(params_and_opt_state, batch):\n",
    "    params, opt_state = params_and_opt_state\n",
    "    b_xs, b_labels = batch\n",
    "\n",
    "    return update_step(params, opt_state, b_xs, b_labels), 0\n",
    "  return lax.scan(inner_update, params_and_opt_state, batches)[0]"
   ]
  },
  {
   "cell_type": "code",
   "execution_count": 17,
   "metadata": {},
   "outputs": [],
   "source": [
    "import jax"
   ]
  },
  {
   "cell_type": "code",
   "execution_count": 18,
   "metadata": {},
   "outputs": [],
   "source": [
    "import optax"
   ]
  },
  {
   "cell_type": "markdown",
   "metadata": {
    "id": "BHkWBfh7CHGt"
   },
   "source": [
    "Finally, we will write a function that creates an epoch's worth of batches given a lookup table that shuffles all of the states in the training set."
   ]
  },
  {
   "cell_type": "code",
   "execution_count": 19,
   "metadata": {
    "id": "We1uelXUBaXj"
   },
   "outputs": [],
   "source": [
    "dataset_size = positions.shape[0]\n",
    "batch_size = 64\n",
    "\n",
    "lookup = onp.arange(dataset_size)\n",
    "onp.random.shuffle(lookup)\n",
    "\n",
    "@jit\n",
    "def make_batches(lookup):\n",
    "  batch_Rs = []\n",
    "  batch_Es = []\n",
    "  batch_Fs = []\n",
    "\n",
    "  for i in range(0, len(lookup), batch_size):\n",
    "    if i + batch_size > len(lookup):\n",
    "      break\n",
    "\n",
    "    idx = lookup[i:i + batch_size]\n",
    "\n",
    "    batch_Rs += [positions[idx]]\n",
    "    batch_Es += [energies[idx]]\n",
    "    batch_Fs += [forces[idx]]\n",
    "\n",
    "  return np.stack(batch_Rs), np.stack(batch_Es), np.stack(batch_Fs)\n",
    "\n",
    "batch_Rs, batch_Es, batch_Fs = make_batches(lookup)"
   ]
  },
  {
   "cell_type": "markdown",
   "metadata": {
    "id": "MZCqMAUvCVS6"
   },
   "source": [
    "We're now ready to train our network. We'll start by training for twenty epochs to make sure it starts training."
   ]
  },
  {
   "cell_type": "code",
   "execution_count": 20,
   "metadata": {},
   "outputs": [],
   "source": [
    "opt_state = opt.init(params)\n",
    "\n",
    "train_energy_error = []\n",
    "test_energy_error = []"
   ]
  },
  {
   "cell_type": "code",
   "execution_count": 21,
   "metadata": {
    "colab": {
     "base_uri": "https://localhost:8080/",
     "height": 458
    },
    "id": "DrmKVE6lCQz_",
    "outputId": "de4c00f1-6f7d-4ee9-e07d-42449fa69a34"
   },
   "outputs": [
    {
     "data": {
      "text/plain": [
       "<Figure size 432x288 with 0 Axes>"
      ]
     },
     "metadata": {},
     "output_type": "display_data"
    },
    {
     "data": {
      "image/png": "[encoded data removed]",
      "text/plain": [
       "<Figure size 864x432 with 2 Axes>"
      ]
     },
     "metadata": {},
     "output_type": "display_data"
    },
    {
     "ename": "KeyboardInterrupt",
     "evalue": "",
     "output_type": "error",
     "traceback": [
      "\u001b[0;31m---------------------------------------------------------------------------\u001b[0m",
      "\u001b[0;31mKeyboardInterrupt\u001b[0m                         Traceback (most recent call last)",
      "\u001b[0;32m<ipython-input-21-ce0d83a964b7>\u001b[0m in \u001b[0;36m<module>\u001b[0;34m\u001b[0m\n\u001b[1;32m      3\u001b[0m \u001b[0;32mfor\u001b[0m \u001b[0miteration\u001b[0m \u001b[0;32min\u001b[0m \u001b[0mrange\u001b[0m\u001b[0;34m(\u001b[0m\u001b[0mtrain_epochs\u001b[0m\u001b[0;34m)\u001b[0m\u001b[0;34m:\u001b[0m\u001b[0;34m\u001b[0m\u001b[0;34m\u001b[0m\u001b[0m\n\u001b[1;32m      4\u001b[0m   \u001b[0;31m# Total eV\u001b[0m\u001b[0;34m\u001b[0m\u001b[0;34m\u001b[0m\u001b[0;34m\u001b[0m\u001b[0m\n\u001b[0;32m----> 5\u001b[0;31m   \u001b[0mtrain_energy_error\u001b[0m \u001b[0;34m+=\u001b[0m \u001b[0;34m[\u001b[0m\u001b[0mfloat\u001b[0m\u001b[0;34m(\u001b[0m\u001b[0mnp\u001b[0m\u001b[0;34m.\u001b[0m\u001b[0msqrt\u001b[0m\u001b[0;34m(\u001b[0m\u001b[0menergy_loss\u001b[0m\u001b[0;34m(\u001b[0m\u001b[0mparams\u001b[0m\u001b[0;34m,\u001b[0m \u001b[0mbatch_Rs\u001b[0m\u001b[0;34m[\u001b[0m\u001b[0;36m0\u001b[0m\u001b[0;34m]\u001b[0m\u001b[0;34m,\u001b[0m \u001b[0mbatch_Es\u001b[0m\u001b[0;34m[\u001b[0m\u001b[0;36m0\u001b[0m\u001b[0;34m]\u001b[0m\u001b[0;34m)\u001b[0m\u001b[0;34m)\u001b[0m\u001b[0;34m)\u001b[0m\u001b[0;34m]\u001b[0m\u001b[0;34m\u001b[0m\u001b[0;34m\u001b[0m\u001b[0m\n\u001b[0m\u001b[1;32m      6\u001b[0m   \u001b[0mtest_energy_error\u001b[0m \u001b[0;34m+=\u001b[0m \u001b[0;34m[\u001b[0m\u001b[0mfloat\u001b[0m\u001b[0;34m(\u001b[0m\u001b[0mnp\u001b[0m\u001b[0;34m.\u001b[0m\u001b[0msqrt\u001b[0m\u001b[0;34m(\u001b[0m\u001b[0menergy_loss\u001b[0m\u001b[0;34m(\u001b[0m\u001b[0mparams\u001b[0m\u001b[0;34m,\u001b[0m \u001b[0mtest_positions\u001b[0m\u001b[0;34m,\u001b[0m \u001b[0mtest_energies\u001b[0m\u001b[0;34m)\u001b[0m\u001b[0;34m)\u001b[0m\u001b[0;34m)\u001b[0m\u001b[0;34m]\u001b[0m\u001b[0;34m\u001b[0m\u001b[0;34m\u001b[0m\u001b[0m\n\u001b[1;32m      7\u001b[0m \u001b[0;34m\u001b[0m\u001b[0m\n",
      "\u001b[0;32m/temporary/jax/jax/interpreters/xla.py\u001b[0m in \u001b[0;36m<lambda>\u001b[0;34m(self)\u001b[0m\n\u001b[1;32m   1219\u001b[0m   \u001b[0msetattr\u001b[0m\u001b[0;34m(\u001b[0m\u001b[0mdevice_array\u001b[0m\u001b[0;34m,\u001b[0m \u001b[0;34m\"__bool__\"\u001b[0m\u001b[0;34m,\u001b[0m \u001b[0mpartialmethod\u001b[0m\u001b[0;34m(\u001b[0m\u001b[0m_forward_to_value\u001b[0m\u001b[0;34m,\u001b[0m \u001b[0mbool\u001b[0m\u001b[0;34m)\u001b[0m\u001b[0;34m)\u001b[0m\u001b[0;34m\u001b[0m\u001b[0;34m\u001b[0m\u001b[0m\n\u001b[1;32m   1220\u001b[0m   \u001b[0msetattr\u001b[0m\u001b[0;34m(\u001b[0m\u001b[0mdevice_array\u001b[0m\u001b[0;34m,\u001b[0m \u001b[0;34m\"__nonzero__\"\u001b[0m\u001b[0;34m,\u001b[0m \u001b[0mpartialmethod\u001b[0m\u001b[0;34m(\u001b[0m\u001b[0m_forward_to_value\u001b[0m\u001b[0;34m,\u001b[0m \u001b[0mbool\u001b[0m\u001b[0;34m)\u001b[0m\u001b[0;34m)\u001b[0m\u001b[0;34m\u001b[0m\u001b[0;34m\u001b[0m\u001b[0m\n\u001b[0;32m-> 1221\u001b[0;31m   \u001b[0msetattr\u001b[0m\u001b[0;34m(\u001b[0m\u001b[0mdevice_array\u001b[0m\u001b[0;34m,\u001b[0m \u001b[0;34m\"__float__\"\u001b[0m\u001b[0;34m,\u001b[0m \u001b[0;32mlambda\u001b[0m \u001b[0mself\u001b[0m\u001b[0;34m:\u001b[0m \u001b[0mself\u001b[0m\u001b[0;34m.\u001b[0m\u001b[0m_value\u001b[0m\u001b[0;34m.\u001b[0m\u001b[0m__float__\u001b[0m\u001b[0;34m(\u001b[0m\u001b[0;34m)\u001b[0m\u001b[0;34m)\u001b[0m\u001b[0;34m\u001b[0m\u001b[0;34m\u001b[0m\u001b[0m\n\u001b[0m\u001b[1;32m   1222\u001b[0m   \u001b[0msetattr\u001b[0m\u001b[0;34m(\u001b[0m\u001b[0mdevice_array\u001b[0m\u001b[0;34m,\u001b[0m \u001b[0;34m\"__int__\"\u001b[0m\u001b[0;34m,\u001b[0m \u001b[0;32mlambda\u001b[0m \u001b[0mself\u001b[0m\u001b[0;34m:\u001b[0m \u001b[0mself\u001b[0m\u001b[0;34m.\u001b[0m\u001b[0m_value\u001b[0m\u001b[0;34m.\u001b[0m\u001b[0m__int__\u001b[0m\u001b[0;34m(\u001b[0m\u001b[0;34m)\u001b[0m\u001b[0;34m)\u001b[0m\u001b[0;34m\u001b[0m\u001b[0;34m\u001b[0m\u001b[0m\n\u001b[1;32m   1223\u001b[0m   \u001b[0msetattr\u001b[0m\u001b[0;34m(\u001b[0m\u001b[0mdevice_array\u001b[0m\u001b[0;34m,\u001b[0m \u001b[0;34m\"__complex__\"\u001b[0m\u001b[0;34m,\u001b[0m \u001b[0;32mlambda\u001b[0m \u001b[0mself\u001b[0m\u001b[0;34m:\u001b[0m \u001b[0mself\u001b[0m\u001b[0;34m.\u001b[0m\u001b[0m_value\u001b[0m\u001b[0;34m.\u001b[0m\u001b[0m__complex__\u001b[0m\u001b[0;34m(\u001b[0m\u001b[0;34m)\u001b[0m\u001b[0;34m)\u001b[0m\u001b[0;34m\u001b[0m\u001b[0;34m\u001b[0m\u001b[0m\n",
      "\u001b[0;31mKeyboardInterrupt\u001b[0m: "
     ]
    }
   ],
   "source": [
    "train_epochs = 200\n",
    "\n",
    "for iteration in range(train_epochs):\n",
    "  # Total eV\n",
    "  train_energy_error += [float(np.sqrt(energy_loss(params, batch_Rs[0], batch_Es[0])))]\n",
    "  test_energy_error += [float(np.sqrt(energy_loss(params, test_positions, test_energies)))]\n",
    " \n",
    "  if iteration % 10 == 0:\n",
    "      draw_training(params)\n",
    "\n",
    "  params, opt_state = update_epoch((params, opt_state), \n",
    "                                   (batch_Rs, (batch_Es, batch_Fs)))\n",
    "\n",
    "  onp.random.shuffle(lookup)\n",
    "  batch_Rs, batch_Es, batch_Fs = make_batches(lookup);"
   ]
  },
  {
   "cell_type": "code",
   "execution_count": 22,
   "metadata": {
    "colab": {
     "base_uri": "https://localhost:8080/"
    },
    "id": "ldC_3Ah7bLny",
    "outputId": "86b2c4f9-63af-424b-9471-0ce031cc1ac8"
   },
   "outputs": [
    {
     "data": {
      "text/plain": [
       "DeviceArray([0.79510134, 0.7828794 , 0.7844293 , 0.9361083 , 0.7977339 ,\n",
       "             0.79067385, 0.7821073 , 0.81195724, 0.79969895, 0.78465337,\n",
       "             0.97681296, 0.78119665, 0.9134367 , 0.8195711 , 0.84218943,\n",
       "             0.80593807, 0.7965435 , 0.79451257, 0.80286354, 0.7884621 ],            dtype=float32)"
      ]
     },
     "execution_count": 22,
     "metadata": {},
     "output_type": "execute_result"
    }
   ],
   "source": [
    "np.array(test_energy_error[-20:])"
   ]
  },
  {
   "cell_type": "code",
   "execution_count": 23,
   "metadata": {},
   "outputs": [
    {
     "data": {
      "text/plain": [
       "({'angular_etas': DeviceArray([0.02219562, 0.00248203, 0.00072604, 0.00135188, 0.06774002,\n",
       "               0.1239053 , 0.06105737, 0.05690806, 0.1266223 , 0.11059651,\n",
       "               0.1824904 , 0.18950656, 0.17606631, 0.20267573, 0.25266096,\n",
       "               0.27112985, 0.3191763 , 0.24435483, 0.3874851 , 0.3387516 ,\n",
       "               0.3587574 , 0.34994993], dtype=float32),\n",
       "  'radial_etas': DeviceArray([0.04263163, 0.1417961 , 0.22934462, 0.3108501 , 0.47395983,\n",
       "               0.5749206 , 0.79289806, 1.1434512 ], dtype=float32)},\n",
       " FlatMapping({\n",
       "   'BPEncoder/~/linear_0': FlatMapping({\n",
       "                             'b': DeviceArray([ 0.02570506,  0.03639149, -0.03085213,  0.04498143,\n",
       "                                               -0.02676593,  0.00658679,  0.0310795 , -0.01958955,\n",
       "                                               -0.02930627,  0.03480845,  0.04024599, -0.02322861,\n",
       "                                                0.02443178,  0.02839447, -0.02689493,  0.00245185,\n",
       "                                               -0.00324275,  0.04351113, -0.02422864,  0.03364035,\n",
       "                                               -0.0360949 , -0.0291489 ,  0.02736195, -0.03977609,\n",
       "                                               -0.04166628, -0.04520899,  0.0382476 ,  0.02570241,\n",
       "                                               -0.00988672,  0.01939507], dtype=float32),\n",
       "                             'w': DeviceArray([[-0.01802003,  0.12510504,  0.00336086, ...,  0.02233518,\n",
       "                                                 0.0876302 , -0.19883254],\n",
       "                                               [ 0.13559124,  0.11778373, -0.02109808, ...,  0.12104858,\n",
       "                                                 0.06113598,  0.16236512],\n",
       "                                               [ 0.19087403, -0.07286223, -0.04773314, ...,  0.15376997,\n",
       "                                                -0.06229549,  0.03230351],\n",
       "                                               ...,\n",
       "                                               [ 0.11496662,  0.11895846, -0.00338911, ...,  0.04510896,\n",
       "                                                 0.07111227, -0.03119518],\n",
       "                                               [ 0.18106318,  0.03371929,  0.00024277, ..., -0.09542702,\n",
       "                                                 0.04053777,  0.15943454],\n",
       "                                               [ 0.12342981,  0.01660108, -0.15419921, ..., -0.00564821,\n",
       "                                                 0.02064018,  0.13667527]], dtype=float32),\n",
       "                           }),\n",
       "   'BPEncoder/~/linear_1': FlatMapping({\n",
       "                             'b': DeviceArray([ 0.0559601 , -0.05205329, -0.08207852, -0.06106051,\n",
       "                                               -0.05457703,  0.05218419, -0.0427715 ,  0.07391764,\n",
       "                                                0.04313845, -0.07187431, -0.06211658, -0.05195321,\n",
       "                                                0.06468973,  0.07389328,  0.06135784, -0.06281216,\n",
       "                                               -0.04287381, -0.04699227, -0.05753968,  0.07348984,\n",
       "                                               -0.04894594, -0.03957753, -0.04338071, -0.05945959,\n",
       "                                                0.06840499, -0.05067301, -0.04901981, -0.08736875,\n",
       "                                               -0.06275249, -0.0277333 ], dtype=float32),\n",
       "                             'w': DeviceArray([[ 0.14504135,  0.1130033 , -0.02443429, -0.27844942,\n",
       "                                                -0.06020167,  0.04324943, -0.04017309,  0.02483584,\n",
       "                                                -0.09055258, -0.05565409,  0.21792686, -0.11777085,\n",
       "                                                 0.09410432,  0.03076824,  0.06291351, -0.2239162 ,\n",
       "                                                -0.20559406, -0.1260586 ,  0.12382208,  0.05408366,\n",
       "                                                -0.0346311 , -0.35924098, -0.08111531, -0.00504262,\n",
       "                                                -0.07888646, -0.00928427, -0.13501725, -0.04193065,\n",
       "                                                -0.1273766 , -0.18029135],\n",
       "                                               [ 0.08374795,  0.126213  , -0.06856416, -0.147234  ,\n",
       "                                                -0.15664768,  0.13444136, -0.3068946 ,  0.27008402,\n",
       "                                                 0.01847379, -0.0333855 ,  0.04789757, -0.10732291,\n",
       "                                                -0.07017238,  0.32371584,  0.02955021,  0.29074392,\n",
       "                                                -0.22721255, -0.09679633, -0.32365346,  0.35040176,\n",
       "                                                -0.1042319 , -0.09611959, -0.09915375, -0.14909889,\n",
       "                                                -0.02930972, -0.01733019,  0.12251682, -0.31955937,\n",
       "                                                -0.26914492,  0.06665238],\n",
       "                                               [ 0.21034524,  0.34835085, -0.02988172, -0.27824315,\n",
       "                                                -0.03513578, -0.00117016,  0.13973838, -0.27843955,\n",
       "                                                -0.04685212,  0.17355224,  0.08618684,  0.22256449,\n",
       "                                                -0.1683904 ,  0.1367037 ,  0.08953647,  0.29246977,\n",
       "                                                 0.2126361 ,  0.14232919,  0.12830125, -0.3645662 ,\n",
       "                                                 0.10886233, -0.05084791,  0.29524013,  0.27661204,\n",
       "                                                -0.36920083,  0.14335163,  0.01885785,  0.12277348,\n",
       "                                                 0.18709873,  0.27063617],\n",
       "                                               [ 0.09425952, -0.29732415,  0.10188651, -0.14645737,\n",
       "                                                 0.15564659,  0.26371464, -0.0684886 , -0.11026617,\n",
       "                                                 0.27645564,  0.01307202, -0.09362651,  0.2274917 ,\n",
       "                                                -0.11097058, -0.05288617, -0.09355135, -0.05706882,\n",
       "                                                -0.04229324, -0.27945802, -0.08276865,  0.10999723,\n",
       "                                                -0.19884607, -0.03675219,  0.07490644, -0.20487213,\n",
       "                                                 0.14442772,  0.24285994, -0.06644795, -0.17155576,\n",
       "                                                 0.10476027, -0.05874937],\n",
       "                                               [-0.05121101,  0.23074448,  0.15114777,  0.33032596,\n",
       "                                                 0.34234044,  0.21787526,  0.06528214,  0.28968385,\n",
       "                                                 0.08594216, -0.15958379,  0.20065142,  0.05466924,\n",
       "                                                 0.10892293, -0.30729273, -0.41687164,  0.37938434,\n",
       "                                                 0.18097341, -0.08162626, -0.05677949, -0.01744355,\n",
       "                                                 0.11066718,  0.04477364,  0.07000721,  0.02350089,\n",
       "                                                 0.0446154 , -0.01333565,  0.20913096,  0.12279309,\n",
       "                                                -0.12346031,  0.15062332],\n",
       "                                               [ 0.11128211, -0.00853552,  0.12078186, -0.03733219,\n",
       "                                                 0.03318935,  0.00412118, -0.01879937,  0.30968305,\n",
       "                                                -0.1883125 , -0.07354846, -0.37018687, -0.04681071,\n",
       "                                                -0.06628443,  0.39412075,  0.14842124, -0.02616705,\n",
       "                                                 0.11445965, -0.02128835,  0.01400472,  0.16100629,\n",
       "                                                 0.12525631, -0.21079034, -0.00139298,  0.15241198,\n",
       "                                                -0.01621605, -0.1162729 , -0.10401446, -0.02371203,\n",
       "                                                -0.01285562,  0.07504419],\n",
       "                                               [ 0.2373649 ,  0.1135109 , -0.36365673, -0.21734439,\n",
       "                                                -0.3464027 ,  0.39135185, -0.14923607,  0.26357228,\n",
       "                                                -0.08315417, -0.3480276 , -0.20270394, -0.1457901 ,\n",
       "                                                 0.25109655, -0.01867157,  0.27403215,  0.05656027,\n",
       "                                                -0.352428  , -0.2572924 , -0.03591891,  0.28289643,\n",
       "                                                -0.38002288,  0.08192082,  0.19396181, -0.25360644,\n",
       "                                                 0.34128714, -0.219986  , -0.07296389,  0.02116029,\n",
       "                                                -0.17063782, -0.21295251],\n",
       "                                               [-0.3393148 ,  0.02245768,  0.1093321 ,  0.09372675,\n",
       "                                                 0.11407211,  0.11634601,  0.05367609, -0.0313391 ,\n",
       "                                                -0.4109058 ,  0.0382792 ,  0.3071913 ,  0.12178553,\n",
       "                                                -0.09512707, -0.14138803,  0.25823614,  0.09629601,\n",
       "                                                 0.14990385,  0.09795289,  0.03616895, -0.23352769,\n",
       "                                                -0.2540103 ,  0.08595124,  0.02107031, -0.09149975,\n",
       "                                                -0.02054708, -0.22526221,  0.12390567, -0.02640656,\n",
       "                                                -0.2596596 , -0.02334696],\n",
       "                                               [ 0.01759874,  0.2617812 ,  0.27315   ,  0.18305913,\n",
       "                                                 0.22353522,  0.13715309,  0.08776093, -0.09246813,\n",
       "                                                -0.32979926, -0.03391403,  0.04203931, -0.0579849 ,\n",
       "                                                -0.17920585,  0.10741832,  0.22558123,  0.25957385,\n",
       "                                                 0.18463433,  0.01262038,  0.08159751,  0.08070383,\n",
       "                                                 0.09626462,  0.285081  ,  0.36092362,  0.01880875,\n",
       "                                                 0.00515685,  0.05387402,  0.00747535,  0.1980271 ,\n",
       "                                                 0.1713749 , -0.04660303],\n",
       "                                               [ 0.12468256,  0.01170017, -0.19184871, -0.13130054,\n",
       "                                                -0.27351913,  0.2477221 , -0.140409  ,  0.07482858,\n",
       "                                                -0.15637636, -0.20882536,  0.17546068, -0.09048661,\n",
       "                                                 0.42510027, -0.14393589,  0.0560087 , -0.19967702,\n",
       "                                                 0.07197243, -0.01660369, -0.01936649,  0.2540069 ,\n",
       "                                                 0.13124155, -0.304237  , -0.1697625 , -0.02956792,\n",
       "                                                -0.2601696 , -0.09752419, -0.31225303, -0.10239053,\n",
       "                                                 0.07516371, -0.12769851],\n",
       "                                               [-0.00402902, -0.0068307 , -0.28652847,  0.08715566,\n",
       "                                                -0.07421174, -0.00132582, -0.0494282 , -0.10012693,\n",
       "                                                -0.04730552, -0.24319926, -0.2834653 ,  0.06965281,\n",
       "                                                 0.202806  ,  0.24871546, -0.06380606,  0.25315455,\n",
       "                                                -0.1911476 ,  0.17093398, -0.02537389,  0.14096116,\n",
       "                                                -0.3311312 , -0.14778481, -0.19941561, -0.03232023,\n",
       "                                                 0.15511213, -0.07304085, -0.21290971,  0.2796681 ,\n",
       "                                                -0.25099897, -0.17075974],\n",
       "                                               [-0.00872834,  0.14785355, -0.03593904,  0.00718427,\n",
       "                                                 0.00516811, -0.00925381,  0.150334  ,  0.17369406,\n",
       "                                                -0.11268503,  0.03203238,  0.0657078 ,  0.05354407,\n",
       "                                                 0.24669768, -0.22572882,  0.2437025 ,  0.2852707 ,\n",
       "                                                 0.34015927,  0.14012367,  0.07966281, -0.09581386,\n",
       "                                                 0.08098882,  0.05687112,  0.3130517 ,  0.04709266,\n",
       "                                                -0.20875596,  0.35431665, -0.27556747, -0.09192357,\n",
       "                                                 0.09781022,  0.24440096],\n",
       "                                               [ 0.10937162, -0.04706451,  0.12616009, -0.01645964,\n",
       "                                                 0.06248449, -0.15999527,  0.0517159 , -0.10258859,\n",
       "                                                 0.32074857, -0.21973597, -0.08076356, -0.27318385,\n",
       "                                                -0.07285021,  0.07180709,  0.20370398,  0.12959938,\n",
       "                                                -0.13598242,  0.00972612,  0.10009963, -0.11301627,\n",
       "                                                 0.10761873, -0.31295872,  0.08537477, -0.30626118,\n",
       "                                                 0.3100864 , -0.00226536, -0.27764785, -0.13728972,\n",
       "                                                -0.12884764, -0.00506336],\n",
       "                                               [-0.12820244,  0.24527292,  0.15978357, -0.04948943,\n",
       "                                                 0.02340115,  0.22707146,  0.02613112,  0.19215545,\n",
       "                                                 0.22184642, -0.1403198 ,  0.25882968, -0.08271963,\n",
       "                                                -0.09160243, -0.22660786,  0.01444816,  0.13676864,\n",
       "                                                -0.07261507, -0.09658222, -0.04295706,  0.2821615 ,\n",
       "                                                -0.27512342, -0.01634225, -0.18880083,  0.13416743,\n",
       "                                                 0.09492892, -0.05053822, -0.14876322, -0.02483079,\n",
       "                                                -0.17870414, -0.1340756 ],\n",
       "                                               [-0.18164651,  0.0272809 ,  0.24573073, -0.08658283,\n",
       "                                                 0.16481714, -0.17021601,  0.10124189, -0.28467092,\n",
       "                                                -0.1897321 ,  0.41099945,  0.42097718, -0.27736932,\n",
       "                                                -0.16454461, -0.12837274, -0.18006955,  0.11178078,\n",
       "                                                -0.17048106,  0.01862603,  0.07806259,  0.00250412,\n",
       "                                                 0.21755046,  0.11635429, -0.00740498,  0.0119404 ,\n",
       "                                                -0.11177119,  0.24963799,  0.10628929, -0.15858549,\n",
       "                                                 0.00795077,  0.18145758],\n",
       "                                               [-0.04313457,  0.14343084,  0.02247309,  0.12182193,\n",
       "                                                -0.10519596,  0.13538909, -0.3224464 ,  0.35328576,\n",
       "                                                 0.3404379 ,  0.18817702,  0.10205179,  0.25012502,\n",
       "                                                 0.1621203 ,  0.14397533,  0.11395144,  0.04445604,\n",
       "                                                 0.04938686,  0.01360297,  0.03881067,  0.10300761,\n",
       "                                                -0.05016398,  0.00475559, -0.06425248, -0.11168643,\n",
       "                                                 0.29696667, -0.11305221, -0.23411053, -0.06101743,\n",
       "                                                 0.12379164,  0.03784995],\n",
       "                                               [ 0.03907611,  0.16661462,  0.00593623,  0.06059772,\n",
       "                                                -0.00855219,  0.08404738,  0.00611387,  0.07380258,\n",
       "                                                 0.0170322 ,  0.06494872, -0.11786849,  0.17927177,\n",
       "                                                -0.04747035, -0.17211996, -0.39525968,  0.177906  ,\n",
       "                                                -0.03385678,  0.13500325,  0.11060924, -0.20113143,\n",
       "                                                -0.12064976, -0.13201967, -0.13291538,  0.14551567,\n",
       "                                                -0.00760566,  0.24875234,  0.04880827,  0.13772635,\n",
       "                                                -0.12555766,  0.21076405],\n",
       "                                               [ 0.24413155, -0.05210594,  0.06374796,  0.11654229,\n",
       "                                                -0.19492273,  0.20653377, -0.18254519,  0.34095237,\n",
       "                                                -0.15280415, -0.11201002, -0.33142373, -0.21149196,\n",
       "                                                -0.01392043,  0.24142808, -0.13009378, -0.11899175,\n",
       "                                                -0.13449343, -0.06503268,  0.12372974, -0.19142078,\n",
       "                                                -0.3121491 , -0.09248739, -0.05399316,  0.16502266,\n",
       "                                                -0.08092517,  0.03697322, -0.03538268, -0.3625067 ,\n",
       "                                                -0.24470425, -0.12881148],\n",
       "                                               [ 0.04945283,  0.41652766,  0.2187677 , -0.12558119,\n",
       "                                                 0.16924143, -0.26327118,  0.20561679,  0.16233332,\n",
       "                                                -0.27726617, -0.07337061,  0.23703058, -0.04655996,\n",
       "                                                -0.19271809, -0.11013208,  0.06078294, -0.20953903,\n",
       "                                                -0.27388743,  0.29998654, -0.07229098,  0.26233   ,\n",
       "                                                 0.27757064,  0.4000908 ,  0.01557533,  0.26963925,\n",
       "                                                -0.04384338,  0.15997642, -0.0889693 , -0.09281   ,\n",
       "                                                 0.28666657,  0.17662644],\n",
       "                                               [ 0.0368331 , -0.1010287 , -0.02475594, -0.19068454,\n",
       "                                                 0.01524443,  0.05571193, -0.16691671, -0.02258293,\n",
       "                                                 0.12157863, -0.23606193,  0.29071626,  0.01716871,\n",
       "                                                 0.09315976,  0.02043385,  0.27162898,  0.25243792,\n",
       "                                                -0.23504327, -0.3187759 , -0.07833391, -0.24445239,\n",
       "                                                -0.13821773, -0.01756723, -0.07152667, -0.34850946,\n",
       "                                                -0.21504878, -0.14893952,  0.04513183, -0.09217136,\n",
       "                                                -0.3092642 , -0.1498999 ],\n",
       "                                               [-0.02437075,  0.10298749, -0.01043669,  0.24135773,\n",
       "                                                 0.21254188, -0.06932375, -0.15572956, -0.23401329,\n",
       "                                                 0.0261782 ,  0.06585445, -0.11427109,  0.25594595,\n",
       "                                                -0.1252173 ,  0.14254789, -0.10555311,  0.12179792,\n",
       "                                                 0.37851605,  0.10041367,  0.18853948, -0.20926742,\n",
       "                                                 0.03534197,  0.2248613 , -0.14833005, -0.05391949,\n",
       "                                                -0.16885182, -0.03739246, -0.15494965,  0.09189108,\n",
       "                                                -0.03068167,  0.2577908 ],\n",
       "                                               [-0.10296281, -0.01373281,  0.23957199, -0.03143211,\n",
       "                                                 0.28107646, -0.2693092 , -0.00914608,  0.11405858,\n",
       "                                                 0.07686092, -0.06189672, -0.03252738,  0.1434168 ,\n",
       "                                                -0.0155636 ,  0.08864924,  0.10640519,  0.37311688,\n",
       "                                                -0.11437739,  0.04258586,  0.25726613, -0.3592422 ,\n",
       "                                                 0.33136612, -0.23857142,  0.3589936 , -0.09484939,\n",
       "                                                -0.07213508,  0.20332094,  0.2641693 ,  0.07074399,\n",
       "                                                 0.13354108,  0.01502774],\n",
       "                                               [ 0.13354135, -0.05611595, -0.00105578, -0.00209526,\n",
       "                                                -0.02809246,  0.15045202, -0.12884188,  0.3474458 ,\n",
       "                                                 0.02649961,  0.28632733, -0.20462795, -0.0101133 ,\n",
       "                                                -0.06984036, -0.20086883, -0.01224552, -0.306372  ,\n",
       "                                                 0.11946333, -0.00752995, -0.03794276, -0.21748057,\n",
       "                                                 0.16343409, -0.08585883, -0.01957275, -0.27103728,\n",
       "                                                 0.07507758, -0.17780767,  0.07989892,  0.01111342,\n",
       "                                                -0.10232148, -0.0736838 ],\n",
       "                                               [-0.110082  ,  0.03941608,  0.0285764 ,  0.25191665,\n",
       "                                                -0.1802487 , -0.25725225,  0.2748121 , -0.30556414,\n",
       "                                                -0.22180651, -0.01383349, -0.08737553,  0.19845618,\n",
       "                                                 0.16933778, -0.11399946, -0.0423448 , -0.08125092,\n",
       "                                                -0.04360003,  0.08796015,  0.17178044, -0.41516843,\n",
       "                                                 0.0818915 ,  0.06565414,  0.04982274, -0.07471284,\n",
       "                                                -0.15589523,  0.01739551,  0.02075588, -0.2334436 ,\n",
       "                                                 0.10309492, -0.04929238],\n",
       "                                               [-0.2629805 ,  0.17330642,  0.0207639 ,  0.05841722,\n",
       "                                                 0.08494229, -0.24254568,  0.03397156, -0.1221392 ,\n",
       "                                                -0.08651167, -0.24304682,  0.03672295,  0.13035488,\n",
       "                                                -0.19678813,  0.12209615,  0.02795192,  0.25434878,\n",
       "                                                -0.06498793,  0.01225535,  0.24118227, -0.08440739,\n",
       "                                                -0.05170193,  0.1413184 , -0.08320531, -0.04027829,\n",
       "                                                -0.0086067 ,  0.38914993, -0.02621618,  0.27881113,\n",
       "                                                 0.12565902, -0.23154849],\n",
       "                                               [-0.01567919,  0.15292405,  0.08043365,  0.09447516,\n",
       "                                                -0.07193456,  0.11612977,  0.03492145,  0.01332421,\n",
       "                                                 0.26960626,  0.29581302, -0.041574  ,  0.18784286,\n",
       "                                                -0.1416631 , -0.19704953, -0.27409354, -0.04349647,\n",
       "                                                 0.1718834 ,  0.10407762,  0.00162512,  0.08630159,\n",
       "                                                -0.07417306,  0.03470462,  0.08055745,  0.04804126,\n",
       "                                                -0.2904166 ,  0.05256668,  0.19095987,  0.25384635,\n",
       "                                                -0.2223619 ,  0.25533402],\n",
       "                                               [ 0.07427744, -0.33548954, -0.23087691, -0.03447091,\n",
       "                                                 0.30303827, -0.20018923,  0.09982014,  0.0430817 ,\n",
       "                                                 0.2286767 , -0.21544811, -0.01667722, -0.26332262,\n",
       "                                                 0.3663446 , -0.18885309,  0.07222999, -0.2019336 ,\n",
       "                                                 0.01360937, -0.11535649, -0.1120282 , -0.30689558,\n",
       "                                                -0.17647259,  0.10051455, -0.13438119,  0.11236596,\n",
       "                                                -0.09235089,  0.18815172, -0.1702887 ,  0.07100482,\n",
       "                                                -0.31306735, -0.03544939],\n",
       "                                               [-0.01541851, -0.03814587, -0.27194217, -0.11868395,\n",
       "                                                -0.2179295 , -0.00913512,  0.12297042, -0.10596055,\n",
       "                                                 0.225351  , -0.23859157, -0.23231684, -0.12020965,\n",
       "                                                 0.401639  , -0.26188862,  0.02515523, -0.03477515,\n",
       "                                                -0.08856822, -0.06752744, -0.0363095 , -0.10665952,\n",
       "                                                 0.08298667,  0.11739045, -0.3625218 ,  0.07006962,\n",
       "                                                -0.12520549, -0.25299633, -0.12373818, -0.00721757,\n",
       "                                                -0.10611144,  0.12557802],\n",
       "                                               [-0.00885714, -0.00972035,  0.03819338, -0.06467337,\n",
       "                                                 0.2106939 , -0.01209039, -0.32579145, -0.23661113,\n",
       "                                                 0.02581318,  0.14963757, -0.11739758, -0.19213149,\n",
       "                                                 0.11005981,  0.22725531,  0.23176314, -0.24520014,\n",
       "                                                -0.09927297, -0.07778025, -0.22092102,  0.07591636,\n",
       "                                                -0.2477684 ,  0.284185  ,  0.01680331, -0.14549023,\n",
       "                                                -0.0304534 , -0.2585942 , -0.02131284,  0.02963925,\n",
       "                                                 0.13554958, -0.24626234],\n",
       "                                               [-0.03504459, -0.11665741, -0.076584  , -0.10865129,\n",
       "                                                -0.15648875,  0.12832196, -0.23712055, -0.04999816,\n",
       "                                                 0.22784284,  0.04487621, -0.16899537,  0.19731244,\n",
       "                                                 0.12646018,  0.3452931 ,  0.4184453 , -0.05425565,\n",
       "                                                -0.11641896,  0.07147286, -0.19152318,  0.02664594,\n",
       "                                                -0.0694662 , -0.20207107, -0.01884486, -0.11683585,\n",
       "                                                -0.09314546,  0.06764354, -0.14100559,  0.21838585,\n",
       "                                                 0.12340879, -0.21308741]], dtype=float32),\n",
       "                           }),\n",
       "   'BPEncoder/~/linear_2': FlatMapping({\n",
       "                             'b': DeviceArray([-0.09388261], dtype=float32),\n",
       "                             'w': DeviceArray([[-0.28584012],\n",
       "                                               [ 0.13454944],\n",
       "                                               [ 0.10794292],\n",
       "                                               [ 0.18579581],\n",
       "                                               [ 0.27035958],\n",
       "                                               [-0.27994913],\n",
       "                                               [ 0.15643571],\n",
       "                                               [-0.13725884],\n",
       "                                               [-0.438886  ],\n",
       "                                               [ 0.22999774],\n",
       "                                               [ 0.22500704],\n",
       "                                               [ 0.34361428],\n",
       "                                               [-0.10378403],\n",
       "                                               [-0.22033015],\n",
       "                                               [-0.20440389],\n",
       "                                               [ 0.19805953],\n",
       "                                               [ 0.19560614],\n",
       "                                               [ 0.18538214],\n",
       "                                               [ 0.2140252 ],\n",
       "                                               [-0.14048867],\n",
       "                                               [ 0.16518906],\n",
       "                                               [ 0.41330516],\n",
       "                                               [ 0.393668  ],\n",
       "                                               [ 0.39561874],\n",
       "                                               [-0.22343516],\n",
       "                                               [ 0.3020759 ],\n",
       "                                               [ 0.2641497 ],\n",
       "                                               [ 0.23189922],\n",
       "                                               [ 0.3716739 ],\n",
       "                                               [ 0.2941338 ]], dtype=float32),\n",
       "                           }),\n",
       " }))"
      ]
     },
     "execution_count": 23,
     "metadata": {},
     "output_type": "execute_result"
    }
   ],
   "source": [
    "params"
   ]
  },
  {
   "cell_type": "markdown",
   "metadata": {
    "id": "N60Gzm7orN8w"
   },
   "source": [
    "We can see that final score is not so impressive and it is not stable\n",
    "\n",
    "Now I will show you a trick to make test score more stable"
   ]
  },
  {
   "cell_type": "code",
   "execution_count": 24,
   "metadata": {
    "id": "KyfZYLC2rY1Z"
   },
   "outputs": [],
   "source": [
    "opt_sgd = optax.chain(optax.clip_by_global_norm(1.0), optax.sgd(1e-4))\n",
    "\n",
    "@jit\n",
    "def update_step_sgd(params, opt_state, R, labels):\n",
    "  updates, opt_state = opt_sgd.update(grad(energy_loss)(params, R, labels[0]),\n",
    "                                  opt_state)\n",
    "  return optax.apply_updates(params, updates), opt_state\n",
    "\n",
    "@jit\n",
    "def update_epoch_sgd(params_and_opt_state, batches):\n",
    "  def inner_update(params_and_opt_state, batch):\n",
    "    params, opt_state = params_and_opt_state\n",
    "    b_xs, b_labels = batch\n",
    "\n",
    "    return update_step_sgd(params, opt_state, b_xs, b_labels), 0\n",
    "  return lax.scan(inner_update, params_and_opt_state, batches)[0]"
   ]
  },
  {
   "cell_type": "code",
   "execution_count": null,
   "metadata": {
    "colab": {
     "base_uri": "https://localhost:8080/",
     "height": 458
    },
    "id": "e8Vk46xeru5O",
    "outputId": "f438938b-e0da-4390-da4f-a5d63496356e"
   },
   "outputs": [
    {
     "data": {
      "text/plain": [
       "<Figure size 432x288 with 0 Axes>"
      ]
     },
     "metadata": {},
     "output_type": "display_data"
    },
    {
     "data": {
      "image/png": "[encoded data removed]",
      "text/plain": [
       "<Figure size 864x432 with 2 Axes>"
      ]
     },
     "metadata": {},
     "output_type": "display_data"
    }
   ],
   "source": [
    "train_epochs = 50\n",
    "\n",
    "opt_state = opt_sgd.init(params)\n",
    "\n",
    "train_energy_error = []\n",
    "test_energy_error = []\n",
    "\n",
    "for iteration in range(train_epochs):\n",
    "  # lets count everything in meV / atom\n",
    "  train_energy_error += [float(np.sqrt(energy_loss(params, batch_Rs[0], batch_Es[0])))]\n",
    "  test_energy_error += [float(np.sqrt(energy_loss(params, test_positions, test_energies)))]\n",
    " \n",
    "  if iteration % 10 == 0:\n",
    "    draw_training(params)\n",
    "\n",
    "  params, opt_state = update_epoch_sgd((params, opt_state), \n",
    "                                   (batch_Rs, (batch_Es, batch_Fs)))\n",
    "\n",
    "  onp.random.shuffle(lookup)\n",
    "  batch_Rs, batch_Es, batch_Fs = make_batches(lookup)"
   ]
  },
  {
   "cell_type": "markdown",
   "metadata": {
    "id": "O9CCd21msJrG"
   },
   "source": [
    "After Adam optimizer we add a few steps of SGD optimizer and results become much better and more stable. It is significant improvement."
   ]
  },
  {
   "cell_type": "code",
   "execution_count": null,
   "metadata": {
    "colab": {
     "base_uri": "https://localhost:8080/"
    },
    "id": "LY8UxfVir2-5",
    "outputId": "c274787b-49a0-4f06-c217-b2cc53374dd7"
   },
   "outputs": [],
   "source": [
    "np.array(test_energy_error[-20:])"
   ]
  },
  {
   "cell_type": "code",
   "execution_count": null,
   "metadata": {
    "id": "e89weTfODSDz"
   },
   "outputs": [],
   "source": [
    "with open(\"bp-tuned-no-energy.pkl\", \"wb\") as params_file:\n",
    "    pickle.dump(params, params_file)"
   ]
  }
 ],
 "metadata": {
  "accelerator": "GPU",
  "colab": {
   "collapsed_sections": [],
   "name": "\"Stable Neural Network Potentials.ipynb\"",
   "provenance": []
  },
  "kernelspec": {
   "display_name": "Python 3",
   "language": "python",
   "name": "python3"
  },
  "language_info": {
   "codemirror_mode": {
    "name": "ipython",
    "version": 3
   },
   "file_extension": ".py",
   "mimetype": "text/x-python",
   "name": "python",
   "nbconvert_exporter": "python",
   "pygments_lexer": "ipython3",
   "version": "3.6.9"
  }
 },
 "nbformat": 4,
 "nbformat_minor": 4
}
