{
 "cells": [
  {
   "cell_type": "code",
   "execution_count": 1,
   "id": "bf89dccb",
   "metadata": {},
   "outputs": [],
   "source": [
    "from typing import Optional\n",
    "import numpy as np\n",
    "import pandas as pd\n",
    "from tqdm import tqdm\n",
    "import os\n",
    "import warnings\n",
    "import os.path as osp\n",
    "from math import pi as PI\n",
    "from ase.io import read\n",
    "import torch\n",
    "import torch.nn.functional as F\n",
    "from torch.nn import Embedding, Sequential, Linear, ModuleList\n",
    "import random\n",
    "from sklearn.model_selection import train_test_split\n",
    "from torch_scatter import scatter\n",
    "from torch_geometric.data.makedirs import makedirs\n",
    "from torch_geometric.data import download_url, extract_zip, Dataset\n",
    "from torch_geometric.nn import radius_graph, MessagePassing"
   ]
  },
  {
   "cell_type": "code",
   "execution_count": 53,
   "id": "c24bea33",
   "metadata": {},
   "outputs": [],
   "source": [
    "class SchNet(torch.nn.Module):\n",
    "    r\"\"\"The continuous-filter convolutional neural network SchNet from the\n",
    "    `\"SchNet: A Continuous-filter Convolutional Neural Network for Modeling\n",
    "    Quantum Interactions\" <https://arxiv.org/abs/1706.08566>`_ paper that uses\n",
    "    the interactions blocks of the form\n",
    "\n",
    "    .. math::\n",
    "        \\mathbf{x}^{\\prime}_i = \\sum_{j \\in \\mathcal{N}(i)} \\mathbf{x}_j \\odot\n",
    "        h_{\\mathbf{\\Theta}} ( \\exp(-\\gamma(\\mathbf{e}_{j,i} - \\mathbf{\\mu}))),\n",
    "\n",
    "    here :math:`h_{\\mathbf{\\Theta}}` denotes an MLP and\n",
    "    :math:`\\mathbf{e}_{j,i}` denotes the interatomic distances between atoms.\n",
    "\n",
    "    .. note::\n",
    "\n",
    "        For an example of using a pretrained SchNet variant, see\n",
    "        `examples/qm9_pretrained_schnet.py\n",
    "        <https://github.com/pyg-team/pytorch_geometric/blob/master/examples/\n",
    "        qm9_pretrained_schnet.py>`_.\n",
    "\n",
    "    Args:\n",
    "        hidden_channels (int, optional): Hidden embedding size.\n",
    "            (default: :obj:`128`)\n",
    "        num_filters (int, optional): The number of filters to use.\n",
    "            (default: :obj:`128`)\n",
    "        num_interactions (int, optional): The number of interaction blocks.\n",
    "            (default: :obj:`6`)\n",
    "        num_gaussians (int, optional): The number of gaussians :math:`\\mu`.\n",
    "            (default: :obj:`50`)\n",
    "        cutoff (float, optional): Cutoff distance for interatomic interactions.\n",
    "            (default: :obj:`10.0`)\n",
    "        max_num_neighbors (int, optional): The maximum number of neighbors to\n",
    "            collect for each node within the :attr:`cutoff` distance.\n",
    "            (default: :obj:`32`)\n",
    "        readout (string, optional): Whether to apply :obj:`\"add\"` or\n",
    "            :obj:`\"mean\"` global aggregation. (default: :obj:`\"add\"`)\n",
    "        dipole (bool, optional): If set to :obj:`True`, will use the magnitude\n",
    "            of the dipole moment to make the final prediction, *e.g.*, for\n",
    "            target 0 of :class:`torch_geometric.datasets.QM9`.\n",
    "            (default: :obj:`False`)\n",
    "        mean (float, optional): The mean of the property to predict.\n",
    "            (default: :obj:`None`)\n",
    "        std (float, optional): The standard deviation of the property to\n",
    "            predict. (default: :obj:`None`)\n",
    "        atomref (torch.Tensor, optional): The reference of single-atom\n",
    "            properties.\n",
    "            Expects a vector of shape :obj:`(max_atomic_number, )`.\n",
    "    \"\"\"\n",
    "\n",
    "    url = 'http://www.quantum-machine.org/datasets/trained_schnet_models.zip'\n",
    "    def __init__(self, hidden_channels: int = 128, num_filters: int = 128,\n",
    "                 num_interactions: int = 10, num_gaussians: int = 50,\n",
    "                 cutoff: float = 10.0, max_num_neighbors: int = 32,\n",
    "                 readout: str = 'mean', dipole: bool = False,\n",
    "                # mean: Optional[float] = None, std: Optional[float] = None,\n",
    "                 atomref: Optional[torch.Tensor] = None\n",
    "            ):\n",
    "        super(SchNet, self).__init__()\n",
    "\n",
    "        import ase\n",
    "\n",
    "        self.hidden_channels = hidden_channels\n",
    "        self.num_filters = num_filters\n",
    "        self.num_interactions = num_interactions\n",
    "        self.num_gaussians = num_gaussians\n",
    "        self.cutoff = cutoff\n",
    "        self.max_num_neighbors = max_num_neighbors\n",
    "        self.readout = readout\n",
    "        self.dipole = dipole\n",
    "        self.readout = 'add' if self.dipole else self.readout\n",
    "        self.mean = None\n",
    "        self.std = None\n",
    "        self.scale = None\n",
    "\n",
    "        atomic_mass = torch.from_numpy(ase.data.atomic_masses)\n",
    "        self.register_buffer('atomic_mass', atomic_mass)\n",
    "\n",
    "        self.embedding = Embedding(100, hidden_channels)\n",
    "        self.distance_expansion = GaussianSmearing(0.0, cutoff, num_gaussians)\n",
    "\n",
    "        self.interactions = ModuleList()\n",
    "        for _ in range(num_interactions):\n",
    "            block = InteractionBlock(hidden_channels, num_gaussians,\n",
    "                                     num_filters, cutoff)\n",
    "            self.interactions.append(block)\n",
    "\n",
    "        self.lin1 = Linear(hidden_channels, hidden_channels // 2)\n",
    "        self.act = ShiftedSoftplus()\n",
    "        self.lin2 = Linear(hidden_channels // 2, 1)\n",
    "\n",
    "        self.register_buffer('initial_atomref', atomref)\n",
    "        self.atomref = None\n",
    "        if atomref is not None:\n",
    "            self.atomref = Embedding(100, 1)\n",
    "            self.atomref.weight.data.copy_(atomref)\n",
    "\n",
    "        self.reset_parameters()\n",
    "\n",
    "    def reset_parameters(self):\n",
    "        self.embedding.reset_parameters()\n",
    "        for interaction in self.interactions:\n",
    "            interaction.reset_parameters()\n",
    "        torch.nn.init.xavier_uniform_(self.lin1.weight)\n",
    "        self.lin1.bias.data.fill_(0)\n",
    "        torch.nn.init.xavier_uniform_(self.lin2.weight)\n",
    "        self.lin2.bias.data.fill_(0)\n",
    "        if self.atomref is not None:\n",
    "            self.atomref.weight.data.copy_(self.initial_atomref)\n",
    "\n",
    "\n",
    "    def forward(self, data):\n",
    "        z = data.z.long()\n",
    "        pos = data.pos\n",
    "        batch = data.batch\n",
    "\n",
    "        \"\"\"\"\"\"\n",
    "        assert z.dim() == 1 and z.dtype == torch.long\n",
    "        batch = torch.zeros_like(z) if batch is None else batch\n",
    "\n",
    "        h = self.embedding(z)\n",
    "\n",
    "        edge_index = radius_graph(pos, r=self.cutoff, batch=batch,\n",
    "                                  max_num_neighbors=self.max_num_neighbors)\n",
    "        row, col = edge_index\n",
    "        edge_weight = (pos[row] - pos[col]).norm(dim=-1)\n",
    "        edge_attr = self.distance_expansion(edge_weight)\n",
    "\n",
    "        for interaction in self.interactions:\n",
    "            h = h + interaction(h, edge_index, edge_weight, edge_attr)\n",
    "\n",
    "        h = self.lin1(h)\n",
    "        h = self.act(h)\n",
    "        h = self.lin2(h)\n",
    "\n",
    "        if self.dipole:\n",
    "            # Get center of mass.\n",
    "            mass = self.atomic_mass[z].view(-1, 1)\n",
    "            c = scatter(mass * pos, batch, dim=0) / scatter(mass, batch, dim=0)\n",
    "            h = h * (pos - c[batch])\n",
    "\n",
    "        if not self.dipole and self.mean is not None and self.std is not None:\n",
    "            h = h * self.std + self.mean\n",
    "\n",
    "        if not self.dipole and self.atomref is not None:\n",
    "            h = h + self.atomref(z)\n",
    "\n",
    "        out = scatter(h, batch, dim=0, reduce=self.readout)\n",
    "\n",
    "        if self.dipole:\n",
    "            out = torch.norm(out, dim=-1, keepdim=True)\n",
    "\n",
    "        if self.scale is not None:\n",
    "            out = self.scale * out\n",
    "\n",
    "        return out\n",
    "\n",
    "\n",
    "    def __repr__(self):\n",
    "        return (f'{self.__class__.__name__}('\n",
    "                f'hidden_channels={self.hidden_channels}, '\n",
    "                f'num_filters={self.num_filters}, '\n",
    "                f'num_interactions={self.num_interactions}, '\n",
    "                f'num_gaussians={self.num_gaussians}, '\n",
    "                f'cutoff={self.cutoff})')\n",
    "\n",
    "\n",
    "\n",
    "class InteractionBlock(torch.nn.Module):\n",
    "    def __init__(self, hidden_channels, num_gaussians, num_filters, cutoff):\n",
    "        super(InteractionBlock, self).__init__()\n",
    "        self.mlp = Sequential(\n",
    "            Linear(num_gaussians, num_filters),\n",
    "            ShiftedSoftplus(),\n",
    "            Linear(num_filters, num_filters),\n",
    "        )\n",
    "        self.conv = CFConv(hidden_channels, hidden_channels, num_filters,\n",
    "                           self.mlp, cutoff)\n",
    "        self.act = ShiftedSoftplus()\n",
    "        self.lin = Linear(hidden_channels, hidden_channels)\n",
    "\n",
    "        self.reset_parameters()\n",
    "\n",
    "    def reset_parameters(self):\n",
    "        torch.nn.init.xavier_uniform_(self.mlp[0].weight)\n",
    "        self.mlp[0].bias.data.fill_(0)\n",
    "        torch.nn.init.xavier_uniform_(self.mlp[2].weight)\n",
    "        self.mlp[0].bias.data.fill_(0)\n",
    "        self.conv.reset_parameters()\n",
    "        torch.nn.init.xavier_uniform_(self.lin.weight)\n",
    "        self.lin.bias.data.fill_(0)\n",
    "\n",
    "    def forward(self, x, edge_index, edge_weight, edge_attr):\n",
    "        x = self.conv(x, edge_index, edge_weight, edge_attr)\n",
    "        x = self.act(x)\n",
    "        x = self.lin(x)\n",
    "        return x\n",
    "\n",
    "\n",
    "class CFConv(MessagePassing):\n",
    "    def __init__(self, in_channels, out_channels, num_filters, nn, cutoff):\n",
    "        super(CFConv, self).__init__(aggr='add')\n",
    "        self.lin1 = Linear(in_channels, num_filters, bias=False)\n",
    "        self.lin2 = Linear(num_filters, out_channels)\n",
    "        self.nn = nn\n",
    "        self.cutoff = cutoff\n",
    "\n",
    "        self.reset_parameters()\n",
    "\n",
    "    def reset_parameters(self):\n",
    "        torch.nn.init.xavier_uniform_(self.lin1.weight)\n",
    "        torch.nn.init.xavier_uniform_(self.lin2.weight)\n",
    "        self.lin2.bias.data.fill_(0)\n",
    "\n",
    "    def forward(self, x, edge_index, edge_weight, edge_attr):\n",
    "        C = 0.5 * (torch.cos(edge_weight * PI / self.cutoff) + 1.0)\n",
    "        W = self.nn(edge_attr) * C.view(-1, 1)\n",
    "\n",
    "        x = self.lin1(x)\n",
    "        x = self.propagate(edge_index, x=x, W=W)\n",
    "        x = self.lin2(x)\n",
    "        return x\n",
    "\n",
    "    def message(self, x_j, W):\n",
    "        return x_j * W\n",
    "\n",
    "\n",
    "class GaussianSmearing(torch.nn.Module):\n",
    "    def __init__(self, start=0.0, stop=5.0, num_gaussians=50):\n",
    "        super(GaussianSmearing, self).__init__()\n",
    "        offset = torch.linspace(start, stop, num_gaussians)\n",
    "        self.coeff = -0.5 / (offset[1] - offset[0]).item()**2\n",
    "        self.register_buffer('offset', offset)\n",
    "\n",
    "    def forward(self, dist):\n",
    "        dist = dist.view(-1, 1) - self.offset.view(1, -1)\n",
    "        return torch.exp(self.coeff * torch.pow(dist, 2))\n",
    "\n",
    "\n",
    "class ShiftedSoftplus(torch.nn.Module):\n",
    "    def __init__(self):\n",
    "        super(ShiftedSoftplus, self).__init__()\n",
    "        self.shift = torch.log(torch.tensor(2.0)).item()\n",
    "\n",
    "    def forward(self, x):\n",
    "        return F.softplus(x) - self.shift"
   ]
  },
  {
   "cell_type": "code",
   "execution_count": 47,
   "id": "2a38b6b6",
   "metadata": {},
   "outputs": [],
   "source": [
    "targets=pd.read_csv('targets.csv')\n",
    "label=targets['energy_per_atom']"
   ]
  },
  {
   "cell_type": "code",
   "execution_count": 46,
   "id": "570f902d",
   "metadata": {},
   "outputs": [
    {
     "data": {
      "text/html": [
       "<div>\n",
       "<style scoped>\n",
       "    .dataframe tbody tr th:only-of-type {\n",
       "        vertical-align: middle;\n",
       "    }\n",
       "\n",
       "    .dataframe tbody tr th {\n",
       "        vertical-align: top;\n",
       "    }\n",
       "\n",
       "    .dataframe thead th {\n",
       "        text-align: right;\n",
       "    }\n",
       "</style>\n",
       "<table border=\"1\" class=\"dataframe\">\n",
       "  <thead>\n",
       "    <tr style=\"text-align: right;\">\n",
       "      <th></th>\n",
       "      <th>Unnamed: 0</th>\n",
       "      <th>energy</th>\n",
       "      <th>energy_per_atom</th>\n",
       "      <th>fermi_level</th>\n",
       "      <th>homo</th>\n",
       "      <th>lumo</th>\n",
       "      <th>fold</th>\n",
       "    </tr>\n",
       "  </thead>\n",
       "  <tbody>\n",
       "    <tr>\n",
       "      <th>0</th>\n",
       "      <td>0</td>\n",
       "      <td>-349.347640</td>\n",
       "      <td>-7.278076</td>\n",
       "      <td>1.263305</td>\n",
       "      <td>0.253529</td>\n",
       "      <td>2.448582</td>\n",
       "      <td>5</td>\n",
       "    </tr>\n",
       "    <tr>\n",
       "      <th>1</th>\n",
       "      <td>1</td>\n",
       "      <td>-349.353704</td>\n",
       "      <td>-7.278202</td>\n",
       "      <td>1.251832</td>\n",
       "      <td>0.229737</td>\n",
       "      <td>2.455558</td>\n",
       "      <td>2</td>\n",
       "    </tr>\n",
       "    <tr>\n",
       "      <th>2</th>\n",
       "      <td>2</td>\n",
       "      <td>-349.359991</td>\n",
       "      <td>-7.278333</td>\n",
       "      <td>1.253671</td>\n",
       "      <td>0.232639</td>\n",
       "      <td>2.468721</td>\n",
       "      <td>2</td>\n",
       "    </tr>\n",
       "    <tr>\n",
       "      <th>3</th>\n",
       "      <td>3</td>\n",
       "      <td>-349.352917</td>\n",
       "      <td>-7.278186</td>\n",
       "      <td>1.253987</td>\n",
       "      <td>0.232242</td>\n",
       "      <td>2.464204</td>\n",
       "      <td>3</td>\n",
       "    </tr>\n",
       "    <tr>\n",
       "      <th>4</th>\n",
       "      <td>4</td>\n",
       "      <td>-349.362675</td>\n",
       "      <td>-7.278389</td>\n",
       "      <td>1.253701</td>\n",
       "      <td>0.232852</td>\n",
       "      <td>2.466078</td>\n",
       "      <td>3</td>\n",
       "    </tr>\n",
       "  </tbody>\n",
       "</table>\n",
       "</div>"
      ],
      "text/plain": [
       "   Unnamed: 0      energy  energy_per_atom  fermi_level      homo      lumo  \\\n",
       "0           0 -349.347640        -7.278076     1.263305  0.253529  2.448582   \n",
       "1           1 -349.353704        -7.278202     1.251832  0.229737  2.455558   \n",
       "2           2 -349.359991        -7.278333     1.253671  0.232639  2.468721   \n",
       "3           3 -349.352917        -7.278186     1.253987  0.232242  2.464204   \n",
       "4           4 -349.362675        -7.278389     1.253701  0.232852  2.466078   \n",
       "\n",
       "   fold  \n",
       "0     5  \n",
       "1     2  \n",
       "2     2  \n",
       "3     3  \n",
       "4     3  "
      ]
     },
     "execution_count": 46,
     "metadata": {},
     "output_type": "execute_result"
    }
   ],
   "source": [
    "targets.head()"
   ]
  },
  {
   "cell_type": "code",
   "execution_count": 16,
   "id": "6f449d30",
   "metadata": {},
   "outputs": [
    {
     "data": {
      "text/plain": [
       "7    435\n",
       "5    435\n",
       "3    435\n",
       "1    435\n",
       "6    435\n",
       "4    435\n",
       "2    435\n",
       "0    435\n",
       "Name: fold, dtype: int64"
      ]
     },
     "execution_count": 16,
     "metadata": {},
     "output_type": "execute_result"
    }
   ],
   "source": [
    "targets['fold'].value_counts()"
   ]
  },
  {
   "cell_type": "code",
   "execution_count": 31,
   "id": "623d059f",
   "metadata": {},
   "outputs": [],
   "source": [
    "trains=np.where([targets['fold']!=5])[1]"
   ]
  },
  {
   "cell_type": "code",
   "execution_count": 48,
   "id": "671bd5a2",
   "metadata": {},
   "outputs": [
    {
     "data": {
      "text/html": [
       "<div>\n",
       "<style scoped>\n",
       "    .dataframe tbody tr th:only-of-type {\n",
       "        vertical-align: middle;\n",
       "    }\n",
       "\n",
       "    .dataframe tbody tr th {\n",
       "        vertical-align: top;\n",
       "    }\n",
       "\n",
       "    .dataframe thead th {\n",
       "        text-align: right;\n",
       "    }\n",
       "</style>\n",
       "<table border=\"1\" class=\"dataframe\">\n",
       "  <thead>\n",
       "    <tr style=\"text-align: right;\">\n",
       "      <th></th>\n",
       "      <th>Unnamed: 0</th>\n",
       "      <th>_id</th>\n",
       "    </tr>\n",
       "  </thead>\n",
       "  <tbody>\n",
       "    <tr>\n",
       "      <th>0</th>\n",
       "      <td>0</td>\n",
       "      <td>Full Formula (W16 Se1 S30 O1)\\nReduced Formula...</td>\n",
       "    </tr>\n",
       "    <tr>\n",
       "      <th>1</th>\n",
       "      <td>1</td>\n",
       "      <td>Full Formula (W16 Se1 S30 O1)\\nReduced Formula...</td>\n",
       "    </tr>\n",
       "    <tr>\n",
       "      <th>2</th>\n",
       "      <td>2</td>\n",
       "      <td>Full Formula (W16 Se1 S30 O1)\\nReduced Formula...</td>\n",
       "    </tr>\n",
       "    <tr>\n",
       "      <th>3</th>\n",
       "      <td>3</td>\n",
       "      <td>Full Formula (W16 Se1 S30 O1)\\nReduced Formula...</td>\n",
       "    </tr>\n",
       "    <tr>\n",
       "      <th>4</th>\n",
       "      <td>4</td>\n",
       "      <td>Full Formula (W16 Se1 S30 O1)\\nReduced Formula...</td>\n",
       "    </tr>\n",
       "    <tr>\n",
       "      <th>...</th>\n",
       "      <td>...</td>\n",
       "      <td>...</td>\n",
       "    </tr>\n",
       "    <tr>\n",
       "      <th>3475</th>\n",
       "      <td>3475</td>\n",
       "      <td>Full Formula (W36 Se70 S1 O1)\\nReduced Formula...</td>\n",
       "    </tr>\n",
       "    <tr>\n",
       "      <th>3476</th>\n",
       "      <td>3476</td>\n",
       "      <td>Full Formula (W36 Se70 S1 O1)\\nReduced Formula...</td>\n",
       "    </tr>\n",
       "    <tr>\n",
       "      <th>3477</th>\n",
       "      <td>3477</td>\n",
       "      <td>Full Formula (W36 Se70 S1 O1)\\nReduced Formula...</td>\n",
       "    </tr>\n",
       "    <tr>\n",
       "      <th>3478</th>\n",
       "      <td>3478</td>\n",
       "      <td>Full Formula (W36 Se70 S1 O1)\\nReduced Formula...</td>\n",
       "    </tr>\n",
       "    <tr>\n",
       "      <th>3479</th>\n",
       "      <td>3479</td>\n",
       "      <td>Full Formula (W36 Se70 S1 O1)\\nReduced Formula...</td>\n",
       "    </tr>\n",
       "  </tbody>\n",
       "</table>\n",
       "<p>3480 rows × 2 columns</p>\n",
       "</div>"
      ],
      "text/plain": [
       "      Unnamed: 0                                                _id\n",
       "0              0  Full Formula (W16 Se1 S30 O1)\\nReduced Formula...\n",
       "1              1  Full Formula (W16 Se1 S30 O1)\\nReduced Formula...\n",
       "2              2  Full Formula (W16 Se1 S30 O1)\\nReduced Formula...\n",
       "3              3  Full Formula (W16 Se1 S30 O1)\\nReduced Formula...\n",
       "4              4  Full Formula (W16 Se1 S30 O1)\\nReduced Formula...\n",
       "...          ...                                                ...\n",
       "3475        3475  Full Formula (W36 Se70 S1 O1)\\nReduced Formula...\n",
       "3476        3476  Full Formula (W36 Se70 S1 O1)\\nReduced Formula...\n",
       "3477        3477  Full Formula (W36 Se70 S1 O1)\\nReduced Formula...\n",
       "3478        3478  Full Formula (W36 Se70 S1 O1)\\nReduced Formula...\n",
       "3479        3479  Full Formula (W36 Se70 S1 O1)\\nReduced Formula...\n",
       "\n",
       "[3480 rows x 2 columns]"
      ]
     },
     "execution_count": 48,
     "metadata": {},
     "output_type": "execute_result"
    }
   ],
   "source": [
    "structures=pd.read_csv('structures.csv')\n",
    "structures"
   ]
  },
  {
   "cell_type": "code",
   "execution_count": 49,
   "id": "18f84873",
   "metadata": {},
   "outputs": [],
   "source": [
    "atoms_list=np.load('atoms_list.npy', allow_pickle=True)"
   ]
  },
  {
   "cell_type": "code",
   "execution_count": 50,
   "id": "fe31c6e9",
   "metadata": {},
   "outputs": [
    {
     "data": {
      "text/plain": [
       "array([Structure Summary\n",
       "Lattice\n",
       "    abc : 12.76292132 12.76292132 14.202402\n",
       " angles : 90.0 90.0 119.99999999999999\n",
       " volume : 2003.515085416219\n",
       "      A : 12.76292132 0.0 7.815035371153756e-16\n",
       "      B : -6.381460659999997 11.053014089622023 7.815035371153756e-16\n",
       "      C : 0.0 0.0 14.202402\n",
       "PeriodicSite: W (-0.0000, 1.8422, 3.5506) [0.0833, 0.1667, 0.2500]\n",
       "PeriodicSite: W (-1.5954, 4.6054, 3.5506) [0.0833, 0.4167, 0.2500]\n",
       "PeriodicSite: W (-3.1907, 7.3687, 3.5506) [0.0833, 0.6667, 0.2500]\n",
       "PeriodicSite: W (-4.7861, 10.1319, 3.5506) [0.0833, 0.9167, 0.2500]\n",
       "PeriodicSite: W (3.1907, 1.8422, 3.5506) [0.3333, 0.1667, 0.2500]\n",
       "PeriodicSite: W (1.5954, 4.6054, 3.5506) [0.3333, 0.4167, 0.2500]\n",
       "PeriodicSite: W (0.0000, 7.3687, 3.5506) [0.3333, 0.6667, 0.2500]\n",
       "PeriodicSite: W (-1.5954, 10.1319, 3.5506) [0.3333, 0.9167, 0.2500]\n",
       "PeriodicSite: W (6.3815, 1.8422, 3.5506) [0.5833, 0.1667, 0.2500]\n",
       "PeriodicSite: W (4.7861, 4.6054, 3.5506) [0.5833, 0.4167, 0.2500]\n",
       "PeriodicSite: W (3.1907, 7.3687, 3.5506) [0.5833, 0.6667, 0.2500]\n",
       "PeriodicSite: W (1.5954, 10.1319, 3.5506) [0.5833, 0.9167, 0.2500]\n",
       "PeriodicSite: W (9.5722, 1.8422, 3.5506) [0.8333, 0.1667, 0.2500]\n",
       "PeriodicSite: W (7.9768, 4.6054, 3.5506) [0.8333, 0.4167, 0.2500]\n",
       "PeriodicSite: W (6.3815, 7.3687, 3.5506) [0.8333, 0.6667, 0.2500]\n",
       "PeriodicSite: W (4.7861, 10.1319, 3.5506) [0.8333, 0.9167, 0.2500]\n",
       "PeriodicSite: Se (1.5954, 0.9211, 5.1236) [0.1667, 0.0833, 0.3608]\n",
       "PeriodicSite: S (0.0000, 3.6843, 5.1236) [0.1667, 0.3333, 0.3608]\n",
       "PeriodicSite: S (-1.5954, 6.4476, 5.1236) [0.1667, 0.5833, 0.3608]\n",
       "PeriodicSite: S (-3.1907, 9.2108, 5.1236) [0.1667, 0.8333, 0.3608]\n",
       "PeriodicSite: S (4.7861, 0.9211, 5.1236) [0.4167, 0.0833, 0.3608]\n",
       "PeriodicSite: S (3.1907, 3.6843, 5.1236) [0.4167, 0.3333, 0.3608]\n",
       "PeriodicSite: S (1.5954, 6.4476, 5.1236) [0.4167, 0.5833, 0.3608]\n",
       "PeriodicSite: S (0.0000, 9.2108, 5.1236) [0.4167, 0.8333, 0.3608]\n",
       "PeriodicSite: S (7.9768, 0.9211, 5.1236) [0.6667, 0.0833, 0.3608]\n",
       "PeriodicSite: S (6.3815, 3.6843, 5.1236) [0.6667, 0.3333, 0.3608]\n",
       "PeriodicSite: S (4.7861, 6.4476, 5.1236) [0.6667, 0.5833, 0.3608]\n",
       "PeriodicSite: S (3.1907, 9.2108, 5.1236) [0.6667, 0.8333, 0.3608]\n",
       "PeriodicSite: S (11.1676, 0.9211, 5.1236) [0.9167, 0.0833, 0.3608]\n",
       "PeriodicSite: S (9.5722, 3.6843, 5.1236) [0.9167, 0.3333, 0.3608]\n",
       "PeriodicSite: S (7.9768, 6.4476, 5.1236) [0.9167, 0.5833, 0.3608]\n",
       "PeriodicSite: S (6.3815, 9.2108, 5.1236) [0.9167, 0.8333, 0.3608]\n",
       "PeriodicSite: S (0.0000, 3.6843, 1.9776) [0.1667, 0.3333, 0.1392]\n",
       "PeriodicSite: S (-1.5954, 6.4476, 1.9776) [0.1667, 0.5833, 0.1392]\n",
       "PeriodicSite: S (-3.1907, 9.2108, 1.9776) [0.1667, 0.8333, 0.1392]\n",
       "PeriodicSite: S (4.7861, 0.9211, 1.9776) [0.4167, 0.0833, 0.1392]\n",
       "PeriodicSite: S (3.1907, 3.6843, 1.9776) [0.4167, 0.3333, 0.1392]\n",
       "PeriodicSite: S (1.5954, 6.4476, 1.9776) [0.4167, 0.5833, 0.1392]\n",
       "PeriodicSite: S (0.0000, 9.2108, 1.9776) [0.4167, 0.8333, 0.1392]\n",
       "PeriodicSite: S (7.9768, 0.9211, 1.9776) [0.6667, 0.0833, 0.1392]\n",
       "PeriodicSite: S (6.3815, 3.6843, 1.9776) [0.6667, 0.3333, 0.1392]\n",
       "PeriodicSite: S (4.7861, 6.4476, 1.9776) [0.6667, 0.5833, 0.1392]\n",
       "PeriodicSite: S (3.1907, 9.2108, 1.9776) [0.6667, 0.8333, 0.1392]\n",
       "PeriodicSite: S (11.1676, 0.9211, 1.9776) [0.9167, 0.0833, 0.1392]\n",
       "PeriodicSite: S (9.5722, 3.6843, 1.9776) [0.9167, 0.3333, 0.1392]\n",
       "PeriodicSite: S (7.9768, 6.4476, 1.9776) [0.9167, 0.5833, 0.1392]\n",
       "PeriodicSite: S (6.3815, 9.2108, 1.9776) [0.9167, 0.8333, 0.1392]\n",
       "PeriodicSite: O (1.5954, 0.9211, 1.9776) [0.1667, 0.0833, 0.1392],\n",
       "       Structure Summary\n",
       "Lattice\n",
       "    abc : 12.76292132 12.76292132 14.202402\n",
       " angles : 90.0 90.0 119.99999999999999\n",
       " volume : 2003.515085416219\n",
       "      A : 12.76292132 0.0 7.815035371153756e-16\n",
       "      B : -6.381460659999997 11.053014089622023 7.815035371153756e-16\n",
       "      C : 0.0 0.0 14.202402\n",
       "PeriodicSite: W (-0.0000, 1.8422, 3.5506) [0.0833, 0.1667, 0.2500]\n",
       "PeriodicSite: W (-1.5954, 4.6054, 3.5506) [0.0833, 0.4167, 0.2500]\n",
       "PeriodicSite: W (-3.1907, 7.3687, 3.5506) [0.0833, 0.6667, 0.2500]\n",
       "PeriodicSite: W (-4.7861, 10.1319, 3.5506) [0.0833, 0.9167, 0.2500]\n",
       "PeriodicSite: W (3.1907, 1.8422, 3.5506) [0.3333, 0.1667, 0.2500]\n",
       "PeriodicSite: W (1.5954, 4.6054, 3.5506) [0.3333, 0.4167, 0.2500]\n",
       "PeriodicSite: W (0.0000, 7.3687, 3.5506) [0.3333, 0.6667, 0.2500]\n",
       "PeriodicSite: W (-1.5954, 10.1319, 3.5506) [0.3333, 0.9167, 0.2500]\n",
       "PeriodicSite: W (6.3815, 1.8422, 3.5506) [0.5833, 0.1667, 0.2500]\n",
       "PeriodicSite: W (4.7861, 4.6054, 3.5506) [0.5833, 0.4167, 0.2500]\n",
       "PeriodicSite: W (3.1907, 7.3687, 3.5506) [0.5833, 0.6667, 0.2500]\n",
       "PeriodicSite: W (1.5954, 10.1319, 3.5506) [0.5833, 0.9167, 0.2500]\n",
       "PeriodicSite: W (9.5722, 1.8422, 3.5506) [0.8333, 0.1667, 0.2500]\n",
       "PeriodicSite: W (7.9768, 4.6054, 3.5506) [0.8333, 0.4167, 0.2500]\n",
       "PeriodicSite: W (6.3815, 7.3687, 3.5506) [0.8333, 0.6667, 0.2500]\n",
       "PeriodicSite: W (4.7861, 10.1319, 3.5506) [0.8333, 0.9167, 0.2500]\n",
       "PeriodicSite: Se (1.5954, 0.9211, 5.1236) [0.1667, 0.0833, 0.3608]\n",
       "PeriodicSite: S (0.0000, 3.6843, 5.1236) [0.1667, 0.3333, 0.3608]\n",
       "PeriodicSite: S (-1.5954, 6.4476, 5.1236) [0.1667, 0.5833, 0.3608]\n",
       "PeriodicSite: S (-3.1907, 9.2108, 5.1236) [0.1667, 0.8333, 0.3608]\n",
       "PeriodicSite: S (4.7861, 0.9211, 5.1236) [0.4167, 0.0833, 0.3608]\n",
       "PeriodicSite: S (3.1907, 3.6843, 5.1236) [0.4167, 0.3333, 0.3608]\n",
       "PeriodicSite: S (1.5954, 6.4476, 5.1236) [0.4167, 0.5833, 0.3608]\n",
       "PeriodicSite: S (0.0000, 9.2108, 5.1236) [0.4167, 0.8333, 0.3608]\n",
       "PeriodicSite: S (7.9768, 0.9211, 5.1236) [0.6667, 0.0833, 0.3608]\n",
       "PeriodicSite: S (6.3815, 3.6843, 5.1236) [0.6667, 0.3333, 0.3608]\n",
       "PeriodicSite: S (4.7861, 6.4476, 5.1236) [0.6667, 0.5833, 0.3608]\n",
       "PeriodicSite: S (3.1907, 9.2108, 5.1236) [0.6667, 0.8333, 0.3608]\n",
       "PeriodicSite: S (11.1676, 0.9211, 5.1236) [0.9167, 0.0833, 0.3608]\n",
       "PeriodicSite: S (9.5722, 3.6843, 5.1236) [0.9167, 0.3333, 0.3608]\n",
       "PeriodicSite: S (7.9768, 6.4476, 5.1236) [0.9167, 0.5833, 0.3608]\n",
       "PeriodicSite: S (6.3815, 9.2108, 5.1236) [0.9167, 0.8333, 0.3608]\n",
       "PeriodicSite: S (1.5954, 0.9211, 1.9776) [0.1667, 0.0833, 0.1392]\n",
       "PeriodicSite: S (0.0000, 3.6843, 1.9776) [0.1667, 0.3333, 0.1392]\n",
       "PeriodicSite: S (-3.1907, 9.2108, 1.9776) [0.1667, 0.8333, 0.1392]\n",
       "PeriodicSite: S (4.7861, 0.9211, 1.9776) [0.4167, 0.0833, 0.1392]\n",
       "PeriodicSite: S (3.1907, 3.6843, 1.9776) [0.4167, 0.3333, 0.1392]\n",
       "PeriodicSite: S (1.5954, 6.4476, 1.9776) [0.4167, 0.5833, 0.1392]\n",
       "PeriodicSite: S (0.0000, 9.2108, 1.9776) [0.4167, 0.8333, 0.1392]\n",
       "PeriodicSite: S (7.9768, 0.9211, 1.9776) [0.6667, 0.0833, 0.1392]\n",
       "PeriodicSite: S (6.3815, 3.6843, 1.9776) [0.6667, 0.3333, 0.1392]\n",
       "PeriodicSite: S (4.7861, 6.4476, 1.9776) [0.6667, 0.5833, 0.1392]\n",
       "PeriodicSite: S (3.1907, 9.2108, 1.9776) [0.6667, 0.8333, 0.1392]\n",
       "PeriodicSite: S (11.1676, 0.9211, 1.9776) [0.9167, 0.0833, 0.1392]\n",
       "PeriodicSite: S (9.5722, 3.6843, 1.9776) [0.9167, 0.3333, 0.1392]\n",
       "PeriodicSite: S (7.9768, 6.4476, 1.9776) [0.9167, 0.5833, 0.1392]\n",
       "PeriodicSite: S (6.3815, 9.2108, 1.9776) [0.9167, 0.8333, 0.1392]\n",
       "PeriodicSite: O (-1.5954, 6.4476, 1.9776) [0.1667, 0.5833, 0.1392],\n",
       "       Structure Summary\n",
       "Lattice\n",
       "    abc : 12.76292132 12.76292132 14.202402\n",
       " angles : 90.0 90.0 119.99999999999999\n",
       " volume : 2003.515085416219\n",
       "      A : 12.76292132 0.0 7.815035371153756e-16\n",
       "      B : -6.381460659999997 11.053014089622023 7.815035371153756e-16\n",
       "      C : 0.0 0.0 14.202402\n",
       "PeriodicSite: W (-0.0000, 1.8422, 3.5506) [0.0833, 0.1667, 0.2500]\n",
       "PeriodicSite: W (-1.5954, 4.6054, 3.5506) [0.0833, 0.4167, 0.2500]\n",
       "PeriodicSite: W (-3.1907, 7.3687, 3.5506) [0.0833, 0.6667, 0.2500]\n",
       "PeriodicSite: W (-4.7861, 10.1319, 3.5506) [0.0833, 0.9167, 0.2500]\n",
       "PeriodicSite: W (3.1907, 1.8422, 3.5506) [0.3333, 0.1667, 0.2500]\n",
       "PeriodicSite: W (1.5954, 4.6054, 3.5506) [0.3333, 0.4167, 0.2500]\n",
       "PeriodicSite: W (0.0000, 7.3687, 3.5506) [0.3333, 0.6667, 0.2500]\n",
       "PeriodicSite: W (-1.5954, 10.1319, 3.5506) [0.3333, 0.9167, 0.2500]\n",
       "PeriodicSite: W (6.3815, 1.8422, 3.5506) [0.5833, 0.1667, 0.2500]\n",
       "PeriodicSite: W (4.7861, 4.6054, 3.5506) [0.5833, 0.4167, 0.2500]\n",
       "PeriodicSite: W (3.1907, 7.3687, 3.5506) [0.5833, 0.6667, 0.2500]\n",
       "PeriodicSite: W (1.5954, 10.1319, 3.5506) [0.5833, 0.9167, 0.2500]\n",
       "PeriodicSite: W (9.5722, 1.8422, 3.5506) [0.8333, 0.1667, 0.2500]\n",
       "PeriodicSite: W (7.9768, 4.6054, 3.5506) [0.8333, 0.4167, 0.2500]\n",
       "PeriodicSite: W (6.3815, 7.3687, 3.5506) [0.8333, 0.6667, 0.2500]\n",
       "PeriodicSite: W (4.7861, 10.1319, 3.5506) [0.8333, 0.9167, 0.2500]\n",
       "PeriodicSite: Se (1.5954, 0.9211, 5.1236) [0.1667, 0.0833, 0.3608]\n",
       "PeriodicSite: S (0.0000, 3.6843, 5.1236) [0.1667, 0.3333, 0.3608]\n",
       "PeriodicSite: S (-1.5954, 6.4476, 5.1236) [0.1667, 0.5833, 0.3608]\n",
       "PeriodicSite: S (-3.1907, 9.2108, 5.1236) [0.1667, 0.8333, 0.3608]\n",
       "PeriodicSite: S (4.7861, 0.9211, 5.1236) [0.4167, 0.0833, 0.3608]\n",
       "PeriodicSite: S (3.1907, 3.6843, 5.1236) [0.4167, 0.3333, 0.3608]\n",
       "PeriodicSite: S (0.0000, 9.2108, 5.1236) [0.4167, 0.8333, 0.3608]\n",
       "PeriodicSite: S (7.9768, 0.9211, 5.1236) [0.6667, 0.0833, 0.3608]\n",
       "PeriodicSite: S (6.3815, 3.6843, 5.1236) [0.6667, 0.3333, 0.3608]\n",
       "PeriodicSite: S (4.7861, 6.4476, 5.1236) [0.6667, 0.5833, 0.3608]\n",
       "PeriodicSite: S (3.1907, 9.2108, 5.1236) [0.6667, 0.8333, 0.3608]\n",
       "PeriodicSite: S (11.1676, 0.9211, 5.1236) [0.9167, 0.0833, 0.3608]\n",
       "PeriodicSite: S (9.5722, 3.6843, 5.1236) [0.9167, 0.3333, 0.3608]\n",
       "PeriodicSite: S (7.9768, 6.4476, 5.1236) [0.9167, 0.5833, 0.3608]\n",
       "PeriodicSite: S (6.3815, 9.2108, 5.1236) [0.9167, 0.8333, 0.3608]\n",
       "PeriodicSite: S (1.5954, 0.9211, 1.9776) [0.1667, 0.0833, 0.1392]\n",
       "PeriodicSite: S (0.0000, 3.6843, 1.9776) [0.1667, 0.3333, 0.1392]\n",
       "PeriodicSite: S (-1.5954, 6.4476, 1.9776) [0.1667, 0.5833, 0.1392]\n",
       "PeriodicSite: S (-3.1907, 9.2108, 1.9776) [0.1667, 0.8333, 0.1392]\n",
       "PeriodicSite: S (4.7861, 0.9211, 1.9776) [0.4167, 0.0833, 0.1392]\n",
       "PeriodicSite: S (3.1907, 3.6843, 1.9776) [0.4167, 0.3333, 0.1392]\n",
       "PeriodicSite: S (1.5954, 6.4476, 1.9776) [0.4167, 0.5833, 0.1392]\n",
       "PeriodicSite: S (0.0000, 9.2108, 1.9776) [0.4167, 0.8333, 0.1392]\n",
       "PeriodicSite: S (7.9768, 0.9211, 1.9776) [0.6667, 0.0833, 0.1392]\n",
       "PeriodicSite: S (6.3815, 3.6843, 1.9776) [0.6667, 0.3333, 0.1392]\n",
       "PeriodicSite: S (4.7861, 6.4476, 1.9776) [0.6667, 0.5833, 0.1392]\n",
       "PeriodicSite: S (3.1907, 9.2108, 1.9776) [0.6667, 0.8333, 0.1392]\n",
       "PeriodicSite: S (11.1676, 0.9211, 1.9776) [0.9167, 0.0833, 0.1392]\n",
       "PeriodicSite: S (9.5722, 3.6843, 1.9776) [0.9167, 0.3333, 0.1392]\n",
       "PeriodicSite: S (7.9768, 6.4476, 1.9776) [0.9167, 0.5833, 0.1392]\n",
       "PeriodicSite: S (6.3815, 9.2108, 1.9776) [0.9167, 0.8333, 0.1392]\n",
       "PeriodicSite: O (1.5954, 6.4476, 5.1236) [0.4167, 0.5833, 0.3608],\n",
       "       ...,\n",
       "       Structure Summary\n",
       "Lattice\n",
       "    abc : 19.96241704 19.962417040000002 15.068951\n",
       " angles : 90.0 90.0 119.99999999999999\n",
       " volume : 5200.437735741139\n",
       "      A : 19.96241704 0.0 1.222345506564029e-15\n",
       "      B : -9.981208519999994 17.287960277579362 1.222345506564029e-15\n",
       "      C : 0.0 0.0 15.068951\n",
       "PeriodicSite: W (1.6635, 0.9604, 11.3017) [0.1111, 0.0556, 0.7500]\n",
       "PeriodicSite: W (0.0000, 3.8418, 11.3017) [0.1111, 0.2222, 0.7500]\n",
       "PeriodicSite: W (-1.6635, 6.7231, 11.3017) [0.1111, 0.3889, 0.7500]\n",
       "PeriodicSite: W (-3.3271, 9.6044, 11.3017) [0.1111, 0.5556, 0.7500]\n",
       "PeriodicSite: W (-4.9906, 12.4857, 11.3017) [0.1111, 0.7222, 0.7500]\n",
       "PeriodicSite: W (-6.6541, 15.3671, 11.3017) [0.1111, 0.8889, 0.7500]\n",
       "PeriodicSite: W (4.9906, 0.9604, 11.3017) [0.2778, 0.0556, 0.7500]\n",
       "PeriodicSite: W (3.3271, 3.8418, 11.3017) [0.2778, 0.2222, 0.7500]\n",
       "PeriodicSite: W (1.6635, 6.7231, 11.3017) [0.2778, 0.3889, 0.7500]\n",
       "PeriodicSite: W (0.0000, 9.6044, 11.3017) [0.2778, 0.5556, 0.7500]\n",
       "PeriodicSite: W (-1.6635, 12.4857, 11.3017) [0.2778, 0.7222, 0.7500]\n",
       "PeriodicSite: W (-3.3271, 15.3671, 11.3017) [0.2778, 0.8889, 0.7500]\n",
       "PeriodicSite: W (8.3177, 0.9604, 11.3017) [0.4444, 0.0556, 0.7500]\n",
       "PeriodicSite: W (6.6541, 3.8418, 11.3017) [0.4444, 0.2222, 0.7500]\n",
       "PeriodicSite: W (4.9906, 6.7231, 11.3017) [0.4444, 0.3889, 0.7500]\n",
       "PeriodicSite: W (3.3271, 9.6044, 11.3017) [0.4444, 0.5556, 0.7500]\n",
       "PeriodicSite: W (1.6635, 12.4857, 11.3017) [0.4444, 0.7222, 0.7500]\n",
       "PeriodicSite: W (-0.0000, 15.3671, 11.3017) [0.4444, 0.8889, 0.7500]\n",
       "PeriodicSite: W (11.6447, 0.9604, 11.3017) [0.6111, 0.0556, 0.7500]\n",
       "PeriodicSite: W (9.9812, 3.8418, 11.3017) [0.6111, 0.2222, 0.7500]\n",
       "PeriodicSite: W (8.3177, 6.7231, 11.3017) [0.6111, 0.3889, 0.7500]\n",
       "PeriodicSite: W (6.6541, 9.6044, 11.3017) [0.6111, 0.5556, 0.7500]\n",
       "PeriodicSite: W (4.9906, 12.4857, 11.3017) [0.6111, 0.7222, 0.7500]\n",
       "PeriodicSite: W (3.3271, 15.3671, 11.3017) [0.6111, 0.8889, 0.7500]\n",
       "PeriodicSite: W (14.9718, 0.9604, 11.3017) [0.7778, 0.0556, 0.7500]\n",
       "PeriodicSite: W (13.3083, 3.8418, 11.3017) [0.7778, 0.2222, 0.7500]\n",
       "PeriodicSite: W (11.6447, 6.7231, 11.3017) [0.7778, 0.3889, 0.7500]\n",
       "PeriodicSite: W (9.9812, 9.6044, 11.3017) [0.7778, 0.5556, 0.7500]\n",
       "PeriodicSite: W (8.3177, 12.4857, 11.3017) [0.7778, 0.7222, 0.7500]\n",
       "PeriodicSite: W (6.6541, 15.3671, 11.3017) [0.7778, 0.8889, 0.7500]\n",
       "PeriodicSite: W (18.2989, 0.9604, 11.3017) [0.9444, 0.0556, 0.7500]\n",
       "PeriodicSite: W (16.6353, 3.8418, 11.3017) [0.9444, 0.2222, 0.7500]\n",
       "PeriodicSite: W (14.9718, 6.7231, 11.3017) [0.9444, 0.3889, 0.7500]\n",
       "PeriodicSite: W (13.3083, 9.6044, 11.3017) [0.9444, 0.5556, 0.7500]\n",
       "PeriodicSite: W (11.6447, 12.4857, 11.3017) [0.9444, 0.7222, 0.7500]\n",
       "PeriodicSite: W (9.9812, 15.3671, 11.3017) [0.9444, 0.8889, 0.7500]\n",
       "PeriodicSite: Se (-1.6635, 4.8022, 9.6205) [0.0556, 0.2778, 0.6384]\n",
       "PeriodicSite: Se (-3.3271, 7.6835, 9.6205) [0.0556, 0.4444, 0.6384]\n",
       "PeriodicSite: Se (-4.9906, 10.5649, 9.6205) [0.0556, 0.6111, 0.6384]\n",
       "PeriodicSite: Se (-6.6541, 13.4462, 9.6205) [0.0556, 0.7778, 0.6384]\n",
       "PeriodicSite: Se (-8.3177, 16.3275, 9.6205) [0.0556, 0.9444, 0.6384]\n",
       "PeriodicSite: Se (3.3271, 1.9209, 9.6205) [0.2222, 0.1111, 0.6384]\n",
       "PeriodicSite: Se (1.6635, 4.8022, 9.6205) [0.2222, 0.2778, 0.6384]\n",
       "PeriodicSite: Se (-0.0000, 7.6835, 9.6205) [0.2222, 0.4444, 0.6384]\n",
       "PeriodicSite: Se (-1.6635, 10.5649, 9.6205) [0.2222, 0.6111, 0.6384]\n",
       "PeriodicSite: Se (-3.3271, 13.4462, 9.6205) [0.2222, 0.7778, 0.6384]\n",
       "PeriodicSite: Se (-4.9906, 16.3275, 9.6205) [0.2222, 0.9444, 0.6384]\n",
       "PeriodicSite: Se (6.6541, 1.9209, 9.6205) [0.3889, 0.1111, 0.6384]\n",
       "PeriodicSite: Se (4.9906, 4.8022, 9.6205) [0.3889, 0.2778, 0.6384]\n",
       "PeriodicSite: Se (3.3271, 7.6835, 9.6205) [0.3889, 0.4444, 0.6384]\n",
       "PeriodicSite: Se (1.6635, 10.5649, 9.6205) [0.3889, 0.6111, 0.6384]\n",
       "PeriodicSite: Se (0.0000, 13.4462, 9.6205) [0.3889, 0.7778, 0.6384]\n",
       "PeriodicSite: Se (-1.6635, 16.3275, 9.6205) [0.3889, 0.9444, 0.6384]\n",
       "PeriodicSite: Se (9.9812, 1.9209, 9.6205) [0.5556, 0.1111, 0.6384]\n",
       "PeriodicSite: Se (8.3177, 4.8022, 9.6205) [0.5556, 0.2778, 0.6384]\n",
       "PeriodicSite: Se (6.6541, 7.6835, 9.6205) [0.5556, 0.4444, 0.6384]\n",
       "PeriodicSite: Se (4.9906, 10.5649, 9.6205) [0.5556, 0.6111, 0.6384]\n",
       "PeriodicSite: Se (3.3271, 13.4462, 9.6205) [0.5556, 0.7778, 0.6384]\n",
       "PeriodicSite: Se (1.6635, 16.3275, 9.6205) [0.5556, 0.9444, 0.6384]\n",
       "PeriodicSite: Se (13.3083, 1.9209, 9.6205) [0.7222, 0.1111, 0.6384]\n",
       "PeriodicSite: Se (11.6447, 4.8022, 9.6205) [0.7222, 0.2778, 0.6384]\n",
       "PeriodicSite: Se (9.9812, 7.6835, 9.6205) [0.7222, 0.4444, 0.6384]\n",
       "PeriodicSite: Se (8.3177, 10.5649, 9.6205) [0.7222, 0.6111, 0.6384]\n",
       "PeriodicSite: Se (6.6541, 13.4462, 9.6205) [0.7222, 0.7778, 0.6384]\n",
       "PeriodicSite: Se (4.9906, 16.3275, 9.6205) [0.7222, 0.9444, 0.6384]\n",
       "PeriodicSite: Se (16.6353, 1.9209, 9.6205) [0.8889, 0.1111, 0.6384]\n",
       "PeriodicSite: Se (14.9718, 4.8022, 9.6205) [0.8889, 0.2778, 0.6384]\n",
       "PeriodicSite: Se (13.3083, 7.6835, 9.6205) [0.8889, 0.4444, 0.6384]\n",
       "PeriodicSite: Se (11.6447, 10.5649, 9.6205) [0.8889, 0.6111, 0.6384]\n",
       "PeriodicSite: Se (9.9812, 13.4462, 9.6205) [0.8889, 0.7778, 0.6384]\n",
       "PeriodicSite: Se (8.3177, 16.3275, 9.6205) [0.8889, 0.9444, 0.6384]\n",
       "PeriodicSite: Se (0.0000, 1.9209, 12.9829) [0.0556, 0.1111, 0.8616]\n",
       "PeriodicSite: Se (-3.3271, 7.6835, 12.9829) [0.0556, 0.4444, 0.8616]\n",
       "PeriodicSite: Se (-4.9906, 10.5649, 12.9829) [0.0556, 0.6111, 0.8616]\n",
       "PeriodicSite: Se (-6.6541, 13.4462, 12.9829) [0.0556, 0.7778, 0.8616]\n",
       "PeriodicSite: Se (-8.3177, 16.3275, 12.9829) [0.0556, 0.9444, 0.8616]\n",
       "PeriodicSite: Se (3.3271, 1.9209, 12.9829) [0.2222, 0.1111, 0.8616]\n",
       "PeriodicSite: Se (1.6635, 4.8022, 12.9829) [0.2222, 0.2778, 0.8616]\n",
       "PeriodicSite: Se (-0.0000, 7.6835, 12.9829) [0.2222, 0.4444, 0.8616]\n",
       "PeriodicSite: Se (-1.6635, 10.5649, 12.9829) [0.2222, 0.6111, 0.8616]\n",
       "PeriodicSite: Se (-3.3271, 13.4462, 12.9829) [0.2222, 0.7778, 0.8616]\n",
       "PeriodicSite: Se (-4.9906, 16.3275, 12.9829) [0.2222, 0.9444, 0.8616]\n",
       "PeriodicSite: Se (6.6541, 1.9209, 12.9829) [0.3889, 0.1111, 0.8616]\n",
       "PeriodicSite: Se (4.9906, 4.8022, 12.9829) [0.3889, 0.2778, 0.8616]\n",
       "PeriodicSite: Se (3.3271, 7.6835, 12.9829) [0.3889, 0.4444, 0.8616]\n",
       "PeriodicSite: Se (1.6635, 10.5649, 12.9829) [0.3889, 0.6111, 0.8616]\n",
       "PeriodicSite: Se (0.0000, 13.4462, 12.9829) [0.3889, 0.7778, 0.8616]\n",
       "PeriodicSite: Se (-1.6635, 16.3275, 12.9829) [0.3889, 0.9444, 0.8616]\n",
       "PeriodicSite: Se (9.9812, 1.9209, 12.9829) [0.5556, 0.1111, 0.8616]\n",
       "PeriodicSite: Se (8.3177, 4.8022, 12.9829) [0.5556, 0.2778, 0.8616]\n",
       "PeriodicSite: Se (6.6541, 7.6835, 12.9829) [0.5556, 0.4444, 0.8616]\n",
       "PeriodicSite: Se (4.9906, 10.5649, 12.9829) [0.5556, 0.6111, 0.8616]\n",
       "PeriodicSite: Se (3.3271, 13.4462, 12.9829) [0.5556, 0.7778, 0.8616]\n",
       "PeriodicSite: Se (1.6635, 16.3275, 12.9829) [0.5556, 0.9444, 0.8616]\n",
       "PeriodicSite: Se (13.3083, 1.9209, 12.9829) [0.7222, 0.1111, 0.8616]\n",
       "PeriodicSite: Se (11.6447, 4.8022, 12.9829) [0.7222, 0.2778, 0.8616]\n",
       "PeriodicSite: Se (9.9812, 7.6835, 12.9829) [0.7222, 0.4444, 0.8616]\n",
       "PeriodicSite: Se (8.3177, 10.5649, 12.9829) [0.7222, 0.6111, 0.8616]\n",
       "PeriodicSite: Se (6.6541, 13.4462, 12.9829) [0.7222, 0.7778, 0.8616]\n",
       "PeriodicSite: Se (4.9906, 16.3275, 12.9829) [0.7222, 0.9444, 0.8616]\n",
       "PeriodicSite: Se (16.6353, 1.9209, 12.9829) [0.8889, 0.1111, 0.8616]\n",
       "PeriodicSite: Se (14.9718, 4.8022, 12.9829) [0.8889, 0.2778, 0.8616]\n",
       "PeriodicSite: Se (13.3083, 7.6835, 12.9829) [0.8889, 0.4444, 0.8616]\n",
       "PeriodicSite: Se (11.6447, 10.5649, 12.9829) [0.8889, 0.6111, 0.8616]\n",
       "PeriodicSite: Se (9.9812, 13.4462, 12.9829) [0.8889, 0.7778, 0.8616]\n",
       "PeriodicSite: Se (8.3177, 16.3275, 12.9829) [0.8889, 0.9444, 0.8616]\n",
       "PeriodicSite: S (0.0000, 1.9209, 9.6205) [0.0556, 0.1111, 0.6384]\n",
       "PeriodicSite: O (-1.6635, 4.8022, 12.9829) [0.0556, 0.2778, 0.8616],\n",
       "       Structure Summary\n",
       "Lattice\n",
       "    abc : 19.96241704 19.962417040000002 15.068951\n",
       " angles : 90.0 90.0 119.99999999999999\n",
       " volume : 5200.437735741139\n",
       "      A : 19.96241704 0.0 1.222345506564029e-15\n",
       "      B : -9.981208519999994 17.287960277579362 1.222345506564029e-15\n",
       "      C : 0.0 0.0 15.068951\n",
       "PeriodicSite: W (1.6635, 0.9604, 11.3017) [0.1111, 0.0556, 0.7500]\n",
       "PeriodicSite: W (0.0000, 3.8418, 11.3017) [0.1111, 0.2222, 0.7500]\n",
       "PeriodicSite: W (-1.6635, 6.7231, 11.3017) [0.1111, 0.3889, 0.7500]\n",
       "PeriodicSite: W (-3.3271, 9.6044, 11.3017) [0.1111, 0.5556, 0.7500]\n",
       "PeriodicSite: W (-4.9906, 12.4857, 11.3017) [0.1111, 0.7222, 0.7500]\n",
       "PeriodicSite: W (-6.6541, 15.3671, 11.3017) [0.1111, 0.8889, 0.7500]\n",
       "PeriodicSite: W (4.9906, 0.9604, 11.3017) [0.2778, 0.0556, 0.7500]\n",
       "PeriodicSite: W (3.3271, 3.8418, 11.3017) [0.2778, 0.2222, 0.7500]\n",
       "PeriodicSite: W (1.6635, 6.7231, 11.3017) [0.2778, 0.3889, 0.7500]\n",
       "PeriodicSite: W (0.0000, 9.6044, 11.3017) [0.2778, 0.5556, 0.7500]\n",
       "PeriodicSite: W (-1.6635, 12.4857, 11.3017) [0.2778, 0.7222, 0.7500]\n",
       "PeriodicSite: W (-3.3271, 15.3671, 11.3017) [0.2778, 0.8889, 0.7500]\n",
       "PeriodicSite: W (8.3177, 0.9604, 11.3017) [0.4444, 0.0556, 0.7500]\n",
       "PeriodicSite: W (6.6541, 3.8418, 11.3017) [0.4444, 0.2222, 0.7500]\n",
       "PeriodicSite: W (4.9906, 6.7231, 11.3017) [0.4444, 0.3889, 0.7500]\n",
       "PeriodicSite: W (3.3271, 9.6044, 11.3017) [0.4444, 0.5556, 0.7500]\n",
       "PeriodicSite: W (1.6635, 12.4857, 11.3017) [0.4444, 0.7222, 0.7500]\n",
       "PeriodicSite: W (-0.0000, 15.3671, 11.3017) [0.4444, 0.8889, 0.7500]\n",
       "PeriodicSite: W (11.6447, 0.9604, 11.3017) [0.6111, 0.0556, 0.7500]\n",
       "PeriodicSite: W (9.9812, 3.8418, 11.3017) [0.6111, 0.2222, 0.7500]\n",
       "PeriodicSite: W (8.3177, 6.7231, 11.3017) [0.6111, 0.3889, 0.7500]\n",
       "PeriodicSite: W (6.6541, 9.6044, 11.3017) [0.6111, 0.5556, 0.7500]\n",
       "PeriodicSite: W (4.9906, 12.4857, 11.3017) [0.6111, 0.7222, 0.7500]\n",
       "PeriodicSite: W (3.3271, 15.3671, 11.3017) [0.6111, 0.8889, 0.7500]\n",
       "PeriodicSite: W (14.9718, 0.9604, 11.3017) [0.7778, 0.0556, 0.7500]\n",
       "PeriodicSite: W (13.3083, 3.8418, 11.3017) [0.7778, 0.2222, 0.7500]\n",
       "PeriodicSite: W (11.6447, 6.7231, 11.3017) [0.7778, 0.3889, 0.7500]\n",
       "PeriodicSite: W (9.9812, 9.6044, 11.3017) [0.7778, 0.5556, 0.7500]\n",
       "PeriodicSite: W (8.3177, 12.4857, 11.3017) [0.7778, 0.7222, 0.7500]\n",
       "PeriodicSite: W (6.6541, 15.3671, 11.3017) [0.7778, 0.8889, 0.7500]\n",
       "PeriodicSite: W (18.2989, 0.9604, 11.3017) [0.9444, 0.0556, 0.7500]\n",
       "PeriodicSite: W (16.6353, 3.8418, 11.3017) [0.9444, 0.2222, 0.7500]\n",
       "PeriodicSite: W (14.9718, 6.7231, 11.3017) [0.9444, 0.3889, 0.7500]\n",
       "PeriodicSite: W (13.3083, 9.6044, 11.3017) [0.9444, 0.5556, 0.7500]\n",
       "PeriodicSite: W (11.6447, 12.4857, 11.3017) [0.9444, 0.7222, 0.7500]\n",
       "PeriodicSite: W (9.9812, 15.3671, 11.3017) [0.9444, 0.8889, 0.7500]\n",
       "PeriodicSite: Se (-1.6635, 4.8022, 9.6205) [0.0556, 0.2778, 0.6384]\n",
       "PeriodicSite: Se (-3.3271, 7.6835, 9.6205) [0.0556, 0.4444, 0.6384]\n",
       "PeriodicSite: Se (-4.9906, 10.5649, 9.6205) [0.0556, 0.6111, 0.6384]\n",
       "PeriodicSite: Se (-6.6541, 13.4462, 9.6205) [0.0556, 0.7778, 0.6384]\n",
       "PeriodicSite: Se (-8.3177, 16.3275, 9.6205) [0.0556, 0.9444, 0.6384]\n",
       "PeriodicSite: Se (3.3271, 1.9209, 9.6205) [0.2222, 0.1111, 0.6384]\n",
       "PeriodicSite: Se (1.6635, 4.8022, 9.6205) [0.2222, 0.2778, 0.6384]\n",
       "PeriodicSite: Se (-0.0000, 7.6835, 9.6205) [0.2222, 0.4444, 0.6384]\n",
       "PeriodicSite: Se (-1.6635, 10.5649, 9.6205) [0.2222, 0.6111, 0.6384]\n",
       "PeriodicSite: Se (-3.3271, 13.4462, 9.6205) [0.2222, 0.7778, 0.6384]\n",
       "PeriodicSite: Se (-4.9906, 16.3275, 9.6205) [0.2222, 0.9444, 0.6384]\n",
       "PeriodicSite: Se (6.6541, 1.9209, 9.6205) [0.3889, 0.1111, 0.6384]\n",
       "PeriodicSite: Se (4.9906, 4.8022, 9.6205) [0.3889, 0.2778, 0.6384]\n",
       "PeriodicSite: Se (3.3271, 7.6835, 9.6205) [0.3889, 0.4444, 0.6384]\n",
       "PeriodicSite: Se (1.6635, 10.5649, 9.6205) [0.3889, 0.6111, 0.6384]\n",
       "PeriodicSite: Se (0.0000, 13.4462, 9.6205) [0.3889, 0.7778, 0.6384]\n",
       "PeriodicSite: Se (-1.6635, 16.3275, 9.6205) [0.3889, 0.9444, 0.6384]\n",
       "PeriodicSite: Se (9.9812, 1.9209, 9.6205) [0.5556, 0.1111, 0.6384]\n",
       "PeriodicSite: Se (8.3177, 4.8022, 9.6205) [0.5556, 0.2778, 0.6384]\n",
       "PeriodicSite: Se (6.6541, 7.6835, 9.6205) [0.5556, 0.4444, 0.6384]\n",
       "PeriodicSite: Se (4.9906, 10.5649, 9.6205) [0.5556, 0.6111, 0.6384]\n",
       "PeriodicSite: Se (3.3271, 13.4462, 9.6205) [0.5556, 0.7778, 0.6384]\n",
       "PeriodicSite: Se (1.6635, 16.3275, 9.6205) [0.5556, 0.9444, 0.6384]\n",
       "PeriodicSite: Se (13.3083, 1.9209, 9.6205) [0.7222, 0.1111, 0.6384]\n",
       "PeriodicSite: Se (11.6447, 4.8022, 9.6205) [0.7222, 0.2778, 0.6384]\n",
       "PeriodicSite: Se (9.9812, 7.6835, 9.6205) [0.7222, 0.4444, 0.6384]\n",
       "PeriodicSite: Se (8.3177, 10.5649, 9.6205) [0.7222, 0.6111, 0.6384]\n",
       "PeriodicSite: Se (6.6541, 13.4462, 9.6205) [0.7222, 0.7778, 0.6384]\n",
       "PeriodicSite: Se (4.9906, 16.3275, 9.6205) [0.7222, 0.9444, 0.6384]\n",
       "PeriodicSite: Se (16.6353, 1.9209, 9.6205) [0.8889, 0.1111, 0.6384]\n",
       "PeriodicSite: Se (14.9718, 4.8022, 9.6205) [0.8889, 0.2778, 0.6384]\n",
       "PeriodicSite: Se (13.3083, 7.6835, 9.6205) [0.8889, 0.4444, 0.6384]\n",
       "PeriodicSite: Se (11.6447, 10.5649, 9.6205) [0.8889, 0.6111, 0.6384]\n",
       "PeriodicSite: Se (9.9812, 13.4462, 9.6205) [0.8889, 0.7778, 0.6384]\n",
       "PeriodicSite: Se (8.3177, 16.3275, 9.6205) [0.8889, 0.9444, 0.6384]\n",
       "PeriodicSite: Se (0.0000, 1.9209, 12.9829) [0.0556, 0.1111, 0.8616]\n",
       "PeriodicSite: Se (-1.6635, 4.8022, 12.9829) [0.0556, 0.2778, 0.8616]\n",
       "PeriodicSite: Se (-3.3271, 7.6835, 12.9829) [0.0556, 0.4444, 0.8616]\n",
       "PeriodicSite: Se (-4.9906, 10.5649, 12.9829) [0.0556, 0.6111, 0.8616]\n",
       "PeriodicSite: Se (-6.6541, 13.4462, 12.9829) [0.0556, 0.7778, 0.8616]\n",
       "PeriodicSite: Se (-8.3177, 16.3275, 12.9829) [0.0556, 0.9444, 0.8616]\n",
       "PeriodicSite: Se (3.3271, 1.9209, 12.9829) [0.2222, 0.1111, 0.8616]\n",
       "PeriodicSite: Se (1.6635, 4.8022, 12.9829) [0.2222, 0.2778, 0.8616]\n",
       "PeriodicSite: Se (-0.0000, 7.6835, 12.9829) [0.2222, 0.4444, 0.8616]\n",
       "PeriodicSite: Se (-3.3271, 13.4462, 12.9829) [0.2222, 0.7778, 0.8616]\n",
       "PeriodicSite: Se (-4.9906, 16.3275, 12.9829) [0.2222, 0.9444, 0.8616]\n",
       "PeriodicSite: Se (6.6541, 1.9209, 12.9829) [0.3889, 0.1111, 0.8616]\n",
       "PeriodicSite: Se (4.9906, 4.8022, 12.9829) [0.3889, 0.2778, 0.8616]\n",
       "PeriodicSite: Se (3.3271, 7.6835, 12.9829) [0.3889, 0.4444, 0.8616]\n",
       "PeriodicSite: Se (1.6635, 10.5649, 12.9829) [0.3889, 0.6111, 0.8616]\n",
       "PeriodicSite: Se (0.0000, 13.4462, 12.9829) [0.3889, 0.7778, 0.8616]\n",
       "PeriodicSite: Se (-1.6635, 16.3275, 12.9829) [0.3889, 0.9444, 0.8616]\n",
       "PeriodicSite: Se (9.9812, 1.9209, 12.9829) [0.5556, 0.1111, 0.8616]\n",
       "PeriodicSite: Se (8.3177, 4.8022, 12.9829) [0.5556, 0.2778, 0.8616]\n",
       "PeriodicSite: Se (6.6541, 7.6835, 12.9829) [0.5556, 0.4444, 0.8616]\n",
       "PeriodicSite: Se (4.9906, 10.5649, 12.9829) [0.5556, 0.6111, 0.8616]\n",
       "PeriodicSite: Se (3.3271, 13.4462, 12.9829) [0.5556, 0.7778, 0.8616]\n",
       "PeriodicSite: Se (1.6635, 16.3275, 12.9829) [0.5556, 0.9444, 0.8616]\n",
       "PeriodicSite: Se (13.3083, 1.9209, 12.9829) [0.7222, 0.1111, 0.8616]\n",
       "PeriodicSite: Se (11.6447, 4.8022, 12.9829) [0.7222, 0.2778, 0.8616]\n",
       "PeriodicSite: Se (9.9812, 7.6835, 12.9829) [0.7222, 0.4444, 0.8616]\n",
       "PeriodicSite: Se (8.3177, 10.5649, 12.9829) [0.7222, 0.6111, 0.8616]\n",
       "PeriodicSite: Se (6.6541, 13.4462, 12.9829) [0.7222, 0.7778, 0.8616]\n",
       "PeriodicSite: Se (4.9906, 16.3275, 12.9829) [0.7222, 0.9444, 0.8616]\n",
       "PeriodicSite: Se (16.6353, 1.9209, 12.9829) [0.8889, 0.1111, 0.8616]\n",
       "PeriodicSite: Se (14.9718, 4.8022, 12.9829) [0.8889, 0.2778, 0.8616]\n",
       "PeriodicSite: Se (13.3083, 7.6835, 12.9829) [0.8889, 0.4444, 0.8616]\n",
       "PeriodicSite: Se (11.6447, 10.5649, 12.9829) [0.8889, 0.6111, 0.8616]\n",
       "PeriodicSite: Se (9.9812, 13.4462, 12.9829) [0.8889, 0.7778, 0.8616]\n",
       "PeriodicSite: Se (8.3177, 16.3275, 12.9829) [0.8889, 0.9444, 0.8616]\n",
       "PeriodicSite: S (0.0000, 1.9209, 9.6205) [0.0556, 0.1111, 0.6384]\n",
       "PeriodicSite: O (-1.6635, 10.5649, 12.9829) [0.2222, 0.6111, 0.8616],\n",
       "       Structure Summary\n",
       "Lattice\n",
       "    abc : 19.96241704 19.962417040000002 15.068951\n",
       " angles : 90.0 90.0 119.99999999999999\n",
       " volume : 5200.437735741139\n",
       "      A : 19.96241704 0.0 1.222345506564029e-15\n",
       "      B : -9.981208519999994 17.287960277579362 1.222345506564029e-15\n",
       "      C : 0.0 0.0 15.068951\n",
       "PeriodicSite: W (1.6635, 0.9604, 11.3017) [0.1111, 0.0556, 0.7500]\n",
       "PeriodicSite: W (0.0000, 3.8418, 11.3017) [0.1111, 0.2222, 0.7500]\n",
       "PeriodicSite: W (-1.6635, 6.7231, 11.3017) [0.1111, 0.3889, 0.7500]\n",
       "PeriodicSite: W (-3.3271, 9.6044, 11.3017) [0.1111, 0.5556, 0.7500]\n",
       "PeriodicSite: W (-4.9906, 12.4857, 11.3017) [0.1111, 0.7222, 0.7500]\n",
       "PeriodicSite: W (-6.6541, 15.3671, 11.3017) [0.1111, 0.8889, 0.7500]\n",
       "PeriodicSite: W (4.9906, 0.9604, 11.3017) [0.2778, 0.0556, 0.7500]\n",
       "PeriodicSite: W (3.3271, 3.8418, 11.3017) [0.2778, 0.2222, 0.7500]\n",
       "PeriodicSite: W (1.6635, 6.7231, 11.3017) [0.2778, 0.3889, 0.7500]\n",
       "PeriodicSite: W (0.0000, 9.6044, 11.3017) [0.2778, 0.5556, 0.7500]\n",
       "PeriodicSite: W (-1.6635, 12.4857, 11.3017) [0.2778, 0.7222, 0.7500]\n",
       "PeriodicSite: W (-3.3271, 15.3671, 11.3017) [0.2778, 0.8889, 0.7500]\n",
       "PeriodicSite: W (8.3177, 0.9604, 11.3017) [0.4444, 0.0556, 0.7500]\n",
       "PeriodicSite: W (6.6541, 3.8418, 11.3017) [0.4444, 0.2222, 0.7500]\n",
       "PeriodicSite: W (4.9906, 6.7231, 11.3017) [0.4444, 0.3889, 0.7500]\n",
       "PeriodicSite: W (3.3271, 9.6044, 11.3017) [0.4444, 0.5556, 0.7500]\n",
       "PeriodicSite: W (1.6635, 12.4857, 11.3017) [0.4444, 0.7222, 0.7500]\n",
       "PeriodicSite: W (-0.0000, 15.3671, 11.3017) [0.4444, 0.8889, 0.7500]\n",
       "PeriodicSite: W (11.6447, 0.9604, 11.3017) [0.6111, 0.0556, 0.7500]\n",
       "PeriodicSite: W (9.9812, 3.8418, 11.3017) [0.6111, 0.2222, 0.7500]\n",
       "PeriodicSite: W (8.3177, 6.7231, 11.3017) [0.6111, 0.3889, 0.7500]\n",
       "PeriodicSite: W (6.6541, 9.6044, 11.3017) [0.6111, 0.5556, 0.7500]\n",
       "PeriodicSite: W (4.9906, 12.4857, 11.3017) [0.6111, 0.7222, 0.7500]\n",
       "PeriodicSite: W (3.3271, 15.3671, 11.3017) [0.6111, 0.8889, 0.7500]\n",
       "PeriodicSite: W (14.9718, 0.9604, 11.3017) [0.7778, 0.0556, 0.7500]\n",
       "PeriodicSite: W (13.3083, 3.8418, 11.3017) [0.7778, 0.2222, 0.7500]\n",
       "PeriodicSite: W (11.6447, 6.7231, 11.3017) [0.7778, 0.3889, 0.7500]\n",
       "PeriodicSite: W (9.9812, 9.6044, 11.3017) [0.7778, 0.5556, 0.7500]\n",
       "PeriodicSite: W (8.3177, 12.4857, 11.3017) [0.7778, 0.7222, 0.7500]\n",
       "PeriodicSite: W (6.6541, 15.3671, 11.3017) [0.7778, 0.8889, 0.7500]\n",
       "PeriodicSite: W (18.2989, 0.9604, 11.3017) [0.9444, 0.0556, 0.7500]\n",
       "PeriodicSite: W (16.6353, 3.8418, 11.3017) [0.9444, 0.2222, 0.7500]\n",
       "PeriodicSite: W (14.9718, 6.7231, 11.3017) [0.9444, 0.3889, 0.7500]\n",
       "PeriodicSite: W (13.3083, 9.6044, 11.3017) [0.9444, 0.5556, 0.7500]\n",
       "PeriodicSite: W (11.6447, 12.4857, 11.3017) [0.9444, 0.7222, 0.7500]\n",
       "PeriodicSite: W (9.9812, 15.3671, 11.3017) [0.9444, 0.8889, 0.7500]\n",
       "PeriodicSite: Se (-1.6635, 4.8022, 9.6205) [0.0556, 0.2778, 0.6384]\n",
       "PeriodicSite: Se (-3.3271, 7.6835, 9.6205) [0.0556, 0.4444, 0.6384]\n",
       "PeriodicSite: Se (-4.9906, 10.5649, 9.6205) [0.0556, 0.6111, 0.6384]\n",
       "PeriodicSite: Se (-6.6541, 13.4462, 9.6205) [0.0556, 0.7778, 0.6384]\n",
       "PeriodicSite: Se (-8.3177, 16.3275, 9.6205) [0.0556, 0.9444, 0.6384]\n",
       "PeriodicSite: Se (3.3271, 1.9209, 9.6205) [0.2222, 0.1111, 0.6384]\n",
       "PeriodicSite: Se (1.6635, 4.8022, 9.6205) [0.2222, 0.2778, 0.6384]\n",
       "PeriodicSite: Se (-0.0000, 7.6835, 9.6205) [0.2222, 0.4444, 0.6384]\n",
       "PeriodicSite: Se (-1.6635, 10.5649, 9.6205) [0.2222, 0.6111, 0.6384]\n",
       "PeriodicSite: Se (-3.3271, 13.4462, 9.6205) [0.2222, 0.7778, 0.6384]\n",
       "PeriodicSite: Se (-4.9906, 16.3275, 9.6205) [0.2222, 0.9444, 0.6384]\n",
       "PeriodicSite: Se (6.6541, 1.9209, 9.6205) [0.3889, 0.1111, 0.6384]\n",
       "PeriodicSite: Se (4.9906, 4.8022, 9.6205) [0.3889, 0.2778, 0.6384]\n",
       "PeriodicSite: Se (3.3271, 7.6835, 9.6205) [0.3889, 0.4444, 0.6384]\n",
       "PeriodicSite: Se (1.6635, 10.5649, 9.6205) [0.3889, 0.6111, 0.6384]\n",
       "PeriodicSite: Se (0.0000, 13.4462, 9.6205) [0.3889, 0.7778, 0.6384]\n",
       "PeriodicSite: Se (-1.6635, 16.3275, 9.6205) [0.3889, 0.9444, 0.6384]\n",
       "PeriodicSite: Se (9.9812, 1.9209, 9.6205) [0.5556, 0.1111, 0.6384]\n",
       "PeriodicSite: Se (8.3177, 4.8022, 9.6205) [0.5556, 0.2778, 0.6384]\n",
       "PeriodicSite: Se (6.6541, 7.6835, 9.6205) [0.5556, 0.4444, 0.6384]\n",
       "PeriodicSite: Se (4.9906, 10.5649, 9.6205) [0.5556, 0.6111, 0.6384]\n",
       "PeriodicSite: Se (3.3271, 13.4462, 9.6205) [0.5556, 0.7778, 0.6384]\n",
       "PeriodicSite: Se (1.6635, 16.3275, 9.6205) [0.5556, 0.9444, 0.6384]\n",
       "PeriodicSite: Se (13.3083, 1.9209, 9.6205) [0.7222, 0.1111, 0.6384]\n",
       "PeriodicSite: Se (11.6447, 4.8022, 9.6205) [0.7222, 0.2778, 0.6384]\n",
       "PeriodicSite: Se (8.3177, 10.5649, 9.6205) [0.7222, 0.6111, 0.6384]\n",
       "PeriodicSite: Se (6.6541, 13.4462, 9.6205) [0.7222, 0.7778, 0.6384]\n",
       "PeriodicSite: Se (4.9906, 16.3275, 9.6205) [0.7222, 0.9444, 0.6384]\n",
       "PeriodicSite: Se (16.6353, 1.9209, 9.6205) [0.8889, 0.1111, 0.6384]\n",
       "PeriodicSite: Se (14.9718, 4.8022, 9.6205) [0.8889, 0.2778, 0.6384]\n",
       "PeriodicSite: Se (13.3083, 7.6835, 9.6205) [0.8889, 0.4444, 0.6384]\n",
       "PeriodicSite: Se (11.6447, 10.5649, 9.6205) [0.8889, 0.6111, 0.6384]\n",
       "PeriodicSite: Se (9.9812, 13.4462, 9.6205) [0.8889, 0.7778, 0.6384]\n",
       "PeriodicSite: Se (8.3177, 16.3275, 9.6205) [0.8889, 0.9444, 0.6384]\n",
       "PeriodicSite: Se (0.0000, 1.9209, 12.9829) [0.0556, 0.1111, 0.8616]\n",
       "PeriodicSite: Se (-1.6635, 4.8022, 12.9829) [0.0556, 0.2778, 0.8616]\n",
       "PeriodicSite: Se (-3.3271, 7.6835, 12.9829) [0.0556, 0.4444, 0.8616]\n",
       "PeriodicSite: Se (-4.9906, 10.5649, 12.9829) [0.0556, 0.6111, 0.8616]\n",
       "PeriodicSite: Se (-6.6541, 13.4462, 12.9829) [0.0556, 0.7778, 0.8616]\n",
       "PeriodicSite: Se (-8.3177, 16.3275, 12.9829) [0.0556, 0.9444, 0.8616]\n",
       "PeriodicSite: Se (3.3271, 1.9209, 12.9829) [0.2222, 0.1111, 0.8616]\n",
       "PeriodicSite: Se (1.6635, 4.8022, 12.9829) [0.2222, 0.2778, 0.8616]\n",
       "PeriodicSite: Se (-0.0000, 7.6835, 12.9829) [0.2222, 0.4444, 0.8616]\n",
       "PeriodicSite: Se (-1.6635, 10.5649, 12.9829) [0.2222, 0.6111, 0.8616]\n",
       "PeriodicSite: Se (-3.3271, 13.4462, 12.9829) [0.2222, 0.7778, 0.8616]\n",
       "PeriodicSite: Se (-4.9906, 16.3275, 12.9829) [0.2222, 0.9444, 0.8616]\n",
       "PeriodicSite: Se (6.6541, 1.9209, 12.9829) [0.3889, 0.1111, 0.8616]\n",
       "PeriodicSite: Se (4.9906, 4.8022, 12.9829) [0.3889, 0.2778, 0.8616]\n",
       "PeriodicSite: Se (3.3271, 7.6835, 12.9829) [0.3889, 0.4444, 0.8616]\n",
       "PeriodicSite: Se (1.6635, 10.5649, 12.9829) [0.3889, 0.6111, 0.8616]\n",
       "PeriodicSite: Se (0.0000, 13.4462, 12.9829) [0.3889, 0.7778, 0.8616]\n",
       "PeriodicSite: Se (-1.6635, 16.3275, 12.9829) [0.3889, 0.9444, 0.8616]\n",
       "PeriodicSite: Se (9.9812, 1.9209, 12.9829) [0.5556, 0.1111, 0.8616]\n",
       "PeriodicSite: Se (8.3177, 4.8022, 12.9829) [0.5556, 0.2778, 0.8616]\n",
       "PeriodicSite: Se (6.6541, 7.6835, 12.9829) [0.5556, 0.4444, 0.8616]\n",
       "PeriodicSite: Se (4.9906, 10.5649, 12.9829) [0.5556, 0.6111, 0.8616]\n",
       "PeriodicSite: Se (3.3271, 13.4462, 12.9829) [0.5556, 0.7778, 0.8616]\n",
       "PeriodicSite: Se (1.6635, 16.3275, 12.9829) [0.5556, 0.9444, 0.8616]\n",
       "PeriodicSite: Se (13.3083, 1.9209, 12.9829) [0.7222, 0.1111, 0.8616]\n",
       "PeriodicSite: Se (11.6447, 4.8022, 12.9829) [0.7222, 0.2778, 0.8616]\n",
       "PeriodicSite: Se (9.9812, 7.6835, 12.9829) [0.7222, 0.4444, 0.8616]\n",
       "PeriodicSite: Se (8.3177, 10.5649, 12.9829) [0.7222, 0.6111, 0.8616]\n",
       "PeriodicSite: Se (6.6541, 13.4462, 12.9829) [0.7222, 0.7778, 0.8616]\n",
       "PeriodicSite: Se (4.9906, 16.3275, 12.9829) [0.7222, 0.9444, 0.8616]\n",
       "PeriodicSite: Se (16.6353, 1.9209, 12.9829) [0.8889, 0.1111, 0.8616]\n",
       "PeriodicSite: Se (14.9718, 4.8022, 12.9829) [0.8889, 0.2778, 0.8616]\n",
       "PeriodicSite: Se (13.3083, 7.6835, 12.9829) [0.8889, 0.4444, 0.8616]\n",
       "PeriodicSite: Se (11.6447, 10.5649, 12.9829) [0.8889, 0.6111, 0.8616]\n",
       "PeriodicSite: Se (9.9812, 13.4462, 12.9829) [0.8889, 0.7778, 0.8616]\n",
       "PeriodicSite: Se (8.3177, 16.3275, 12.9829) [0.8889, 0.9444, 0.8616]\n",
       "PeriodicSite: S (0.0000, 1.9209, 9.6205) [0.0556, 0.1111, 0.6384]\n",
       "PeriodicSite: O (9.9812, 7.6835, 9.6205) [0.7222, 0.4444, 0.6384]],\n",
       "      dtype=object)"
      ]
     },
     "execution_count": 50,
     "metadata": {},
     "output_type": "execute_result"
    }
   ],
   "source": [
    "atoms_list"
   ]
  },
  {
   "cell_type": "code",
   "execution_count": 51,
   "id": "781b4d1f",
   "metadata": {},
   "outputs": [
    {
     "name": "stderr",
     "output_type": "stream",
     "text": [
      "100%|██████████| 3480/3480 [00:02<00:00, 1299.88it/s]\n"
     ]
    }
   ],
   "source": [
    "from torch_geometric.data import Data\n",
    "import torch\n",
    "import ase\n",
    "from pymatgen.io.ase import AseAtomsAdaptor\n",
    "\n",
    "i=0\n",
    "data_atoms = []\n",
    "for atoms in tqdm(atoms_list):\n",
    "    atoms=AseAtomsAdaptor.get_atoms(atoms)\n",
    "    # set the atomic numbers, positions, and cell\n",
    "    atom = torch.Tensor(atoms.get_atomic_numbers())\n",
    "    positions = torch.Tensor(atoms.get_positions())\n",
    "    natoms = positions.shape[0]\n",
    "    \n",
    "    # put the minimum data in torch geometric data object\n",
    "    data = Data(\n",
    "        pos=positions,\n",
    "        z= atom,\n",
    "       # natoms=natoms,\n",
    "    )\n",
    "    \n",
    "    # calculate energy\n",
    "    data.y = label[i]\n",
    "    i=i+1\n",
    "    data_atoms.append(data)"
   ]
  },
  {
   "cell_type": "code",
   "execution_count": 9,
   "id": "e434bb64",
   "metadata": {},
   "outputs": [],
   "source": [
    "from torch_geometric.data import DataLoader\n",
    "train_dataset, test_dataset = train_test_split(data_atoms, test_size=0.2)\n",
    "train_loader = DataLoader(train_dataset, batch_size=4)\n",
    "test_loader = DataLoader(test_dataset, batch_size=4)"
   ]
  },
  {
   "cell_type": "code",
   "execution_count": 10,
   "id": "d77a32d3",
   "metadata": {
    "scrolled": true
   },
   "outputs": [],
   "source": [
    "model=SchNet()\n",
    "device = 'cuda:2' if torch.cuda.is_available() else 'cpu'\n",
    "#device='cpu'\n",
    "model = model.to(device)\n",
    "\n",
    "optimizer = torch.optim.Adam(model.parameters(), lr=1e-3)\n",
    "epochs = 10\n",
    "#\n",
    "loss_func = torch.nn.L1Loss() #define loss\n",
    "scheduler = torch.optim.lr_scheduler.CosineAnnealingLR(optimizer, T_max=256)"
   ]
  },
  {
   "cell_type": "code",
   "execution_count": null,
   "id": "6a576524",
   "metadata": {},
   "outputs": [
    {
     "name": "stderr",
     "output_type": "stream",
     "text": [
      "  0%|          | 0/696 [00:00<?, ?it/s]/miniconda/envs/crystalvae/lib/python3.6/site-packages/torch/nn/modules/loss.py:96: UserWarning:\n",
      "\n",
      "Using a target size (torch.Size([4])) that is different to the input size (torch.Size([4, 1])). This will likely lead to incorrect results due to broadcasting. Please ensure they have the same size.\n",
      "\n",
      "100%|██████████| 696/696 [00:24<00:00, 28.61it/s]\n",
      "100%|██████████| 174/174 [00:03<00:00, 50.49it/s]\n"
     ]
    },
    {
     "name": "stdout",
     "output_type": "stream",
     "text": [
      "Epoch: 000, Average loss: 134.42364\n",
      "Epoch: 000, Average loss: 119.33974\n"
     ]
    },
    {
     "name": "stderr",
     "output_type": "stream",
     "text": [
      "100%|██████████| 696/696 [00:24<00:00, 28.93it/s]\n",
      "100%|██████████| 174/174 [00:03<00:00, 45.87it/s]\n"
     ]
    },
    {
     "name": "stdout",
     "output_type": "stream",
     "text": [
      "Epoch: 001, Average loss: 127.82084\n",
      "Epoch: 001, Average loss: 120.88367\n"
     ]
    },
    {
     "name": "stderr",
     "output_type": "stream",
     "text": [
      "100%|██████████| 696/696 [00:23<00:00, 29.93it/s]\n",
      "100%|██████████| 174/174 [00:03<00:00, 47.35it/s]\n"
     ]
    },
    {
     "name": "stdout",
     "output_type": "stream",
     "text": [
      "Epoch: 002, Average loss: 125.83390\n",
      "Epoch: 002, Average loss: 124.45187\n"
     ]
    },
    {
     "name": "stderr",
     "output_type": "stream",
     "text": [
      "100%|██████████| 696/696 [00:21<00:00, 32.52it/s]\n",
      "100%|██████████| 174/174 [00:03<00:00, 51.09it/s]\n"
     ]
    },
    {
     "name": "stdout",
     "output_type": "stream",
     "text": [
      "Epoch: 003, Average loss: 123.77319\n",
      "Epoch: 003, Average loss: 117.66858\n"
     ]
    },
    {
     "name": "stderr",
     "output_type": "stream",
     "text": [
      "100%|██████████| 696/696 [00:20<00:00, 33.15it/s]\n",
      "100%|██████████| 174/174 [00:03<00:00, 49.40it/s]\n"
     ]
    },
    {
     "name": "stdout",
     "output_type": "stream",
     "text": [
      "Epoch: 004, Average loss: 123.38754\n",
      "Epoch: 004, Average loss: 119.50837\n"
     ]
    },
    {
     "name": "stderr",
     "output_type": "stream",
     "text": [
      "100%|██████████| 696/696 [00:20<00:00, 34.15it/s]\n",
      "100%|██████████| 174/174 [00:03<00:00, 57.12it/s]\n"
     ]
    },
    {
     "name": "stdout",
     "output_type": "stream",
     "text": [
      "Epoch: 005, Average loss: 122.62859\n",
      "Epoch: 005, Average loss: 117.82337\n"
     ]
    },
    {
     "name": "stderr",
     "output_type": "stream",
     "text": [
      "100%|██████████| 696/696 [00:20<00:00, 33.23it/s]\n",
      "100%|██████████| 174/174 [00:03<00:00, 49.00it/s]\n"
     ]
    },
    {
     "name": "stdout",
     "output_type": "stream",
     "text": [
      "Epoch: 006, Average loss: 122.55601\n",
      "Epoch: 006, Average loss: 119.03779\n"
     ]
    },
    {
     "name": "stderr",
     "output_type": "stream",
     "text": [
      "100%|██████████| 696/696 [00:20<00:00, 33.15it/s]\n",
      "100%|██████████| 174/174 [00:03<00:00, 55.88it/s]\n"
     ]
    },
    {
     "name": "stdout",
     "output_type": "stream",
     "text": [
      "Epoch: 007, Average loss: 122.01835\n",
      "Epoch: 007, Average loss: 118.11694\n"
     ]
    },
    {
     "name": "stderr",
     "output_type": "stream",
     "text": [
      "100%|██████████| 696/696 [00:20<00:00, 33.37it/s]\n",
      "100%|██████████| 174/174 [00:03<00:00, 50.60it/s]\n"
     ]
    },
    {
     "name": "stdout",
     "output_type": "stream",
     "text": [
      "Epoch: 008, Average loss: 122.09188\n",
      "Epoch: 008, Average loss: 118.18667\n"
     ]
    },
    {
     "name": "stderr",
     "output_type": "stream",
     "text": [
      "100%|██████████| 696/696 [00:20<00:00, 33.36it/s]\n",
      "100%|██████████| 174/174 [00:03<00:00, 48.11it/s]\n"
     ]
    },
    {
     "name": "stdout",
     "output_type": "stream",
     "text": [
      "Epoch: 009, Average loss: 121.83959\n",
      "Epoch: 009, Average loss: 118.57265\n"
     ]
    },
    {
     "name": "stderr",
     "output_type": "stream",
     "text": [
      "100%|██████████| 696/696 [00:21<00:00, 32.84it/s]\n",
      "100%|██████████| 174/174 [00:03<00:00, 49.82it/s]\n"
     ]
    },
    {
     "name": "stdout",
     "output_type": "stream",
     "text": [
      "Epoch: 010, Average loss: 121.87870\n",
      "Epoch: 010, Average loss: 116.21666\n"
     ]
    },
    {
     "name": "stderr",
     "output_type": "stream",
     "text": [
      "100%|██████████| 696/696 [00:20<00:00, 34.37it/s]\n",
      "100%|██████████| 174/174 [00:03<00:00, 53.99it/s]\n"
     ]
    },
    {
     "name": "stdout",
     "output_type": "stream",
     "text": [
      "Epoch: 011, Average loss: 121.56763\n",
      "Epoch: 011, Average loss: 116.19798\n"
     ]
    },
    {
     "name": "stderr",
     "output_type": "stream",
     "text": [
      "100%|██████████| 696/696 [00:20<00:00, 33.19it/s]\n",
      "100%|██████████| 174/174 [00:03<00:00, 55.29it/s]\n"
     ]
    },
    {
     "name": "stdout",
     "output_type": "stream",
     "text": [
      "Epoch: 012, Average loss: 121.50928\n",
      "Epoch: 012, Average loss: 117.26267\n"
     ]
    },
    {
     "name": "stderr",
     "output_type": "stream",
     "text": [
      "100%|██████████| 696/696 [00:20<00:00, 33.15it/s]\n",
      "100%|██████████| 174/174 [00:03<00:00, 49.78it/s]\n"
     ]
    },
    {
     "name": "stdout",
     "output_type": "stream",
     "text": [
      "Epoch: 013, Average loss: 121.34610\n",
      "Epoch: 013, Average loss: 118.11378\n"
     ]
    },
    {
     "name": "stderr",
     "output_type": "stream",
     "text": [
      "100%|██████████| 696/696 [00:20<00:00, 33.18it/s]\n",
      "100%|██████████| 174/174 [00:03<00:00, 52.74it/s]\n"
     ]
    },
    {
     "name": "stdout",
     "output_type": "stream",
     "text": [
      "Epoch: 014, Average loss: 121.20595\n",
      "Epoch: 014, Average loss: 116.77405\n"
     ]
    },
    {
     "name": "stderr",
     "output_type": "stream",
     "text": [
      "100%|██████████| 696/696 [00:20<00:00, 33.57it/s]\n",
      "100%|██████████| 174/174 [00:03<00:00, 47.64it/s]\n"
     ]
    },
    {
     "name": "stdout",
     "output_type": "stream",
     "text": [
      "Epoch: 015, Average loss: 121.18663\n",
      "Epoch: 015, Average loss: 116.51326\n"
     ]
    },
    {
     "name": "stderr",
     "output_type": "stream",
     "text": [
      "100%|██████████| 696/696 [00:21<00:00, 33.01it/s]\n",
      "100%|██████████| 174/174 [00:03<00:00, 50.25it/s]\n"
     ]
    },
    {
     "name": "stdout",
     "output_type": "stream",
     "text": [
      "Epoch: 016, Average loss: 121.03969\n",
      "Epoch: 016, Average loss: 116.69373\n"
     ]
    },
    {
     "name": "stderr",
     "output_type": "stream",
     "text": [
      "100%|██████████| 696/696 [00:20<00:00, 33.18it/s]\n",
      "100%|██████████| 174/174 [00:03<00:00, 53.65it/s]\n"
     ]
    },
    {
     "name": "stdout",
     "output_type": "stream",
     "text": [
      "Epoch: 017, Average loss: 121.06359\n",
      "Epoch: 017, Average loss: 116.16187\n"
     ]
    },
    {
     "name": "stderr",
     "output_type": "stream",
     "text": [
      "100%|██████████| 696/696 [00:20<00:00, 34.09it/s]\n",
      "100%|██████████| 174/174 [00:03<00:00, 48.93it/s]\n"
     ]
    },
    {
     "name": "stdout",
     "output_type": "stream",
     "text": [
      "Epoch: 018, Average loss: 120.91281\n",
      "Epoch: 018, Average loss: 116.28699\n"
     ]
    },
    {
     "name": "stderr",
     "output_type": "stream",
     "text": [
      "100%|██████████| 696/696 [00:20<00:00, 33.28it/s]\n",
      "100%|██████████| 174/174 [00:03<00:00, 56.20it/s]\n"
     ]
    },
    {
     "name": "stdout",
     "output_type": "stream",
     "text": [
      "Epoch: 019, Average loss: 120.90908\n",
      "Epoch: 019, Average loss: 116.02501\n"
     ]
    },
    {
     "name": "stderr",
     "output_type": "stream",
     "text": [
      "100%|██████████| 696/696 [00:21<00:00, 33.06it/s]\n",
      "100%|██████████| 174/174 [00:03<00:00, 48.90it/s]\n"
     ]
    },
    {
     "name": "stdout",
     "output_type": "stream",
     "text": [
      "Epoch: 020, Average loss: 120.80400\n",
      "Epoch: 020, Average loss: 116.07510\n"
     ]
    },
    {
     "name": "stderr",
     "output_type": "stream",
     "text": [
      "100%|██████████| 696/696 [00:21<00:00, 33.03it/s]\n",
      "100%|██████████| 174/174 [00:03<00:00, 50.69it/s]\n"
     ]
    },
    {
     "name": "stdout",
     "output_type": "stream",
     "text": [
      "Epoch: 021, Average loss: 120.62498\n",
      "Epoch: 021, Average loss: 116.61733\n"
     ]
    },
    {
     "name": "stderr",
     "output_type": "stream",
     "text": [
      "100%|██████████| 696/696 [00:21<00:00, 33.02it/s]\n",
      "100%|██████████| 174/174 [00:03<00:00, 48.47it/s]\n"
     ]
    },
    {
     "name": "stdout",
     "output_type": "stream",
     "text": [
      "Epoch: 022, Average loss: 120.67766\n",
      "Epoch: 022, Average loss: 115.94030\n"
     ]
    },
    {
     "name": "stderr",
     "output_type": "stream",
     "text": [
      "100%|██████████| 696/696 [00:20<00:00, 33.40it/s]\n",
      "100%|██████████| 174/174 [00:03<00:00, 47.22it/s]\n"
     ]
    },
    {
     "name": "stdout",
     "output_type": "stream",
     "text": [
      "Epoch: 023, Average loss: 121.04433\n",
      "Epoch: 023, Average loss: 115.83962\n"
     ]
    },
    {
     "name": "stderr",
     "output_type": "stream",
     "text": [
      "100%|██████████| 696/696 [00:20<00:00, 33.36it/s]\n",
      "100%|██████████| 174/174 [00:03<00:00, 49.44it/s]\n"
     ]
    },
    {
     "name": "stdout",
     "output_type": "stream",
     "text": [
      "Epoch: 024, Average loss: 120.55706\n",
      "Epoch: 024, Average loss: 115.98043\n"
     ]
    },
    {
     "name": "stderr",
     "output_type": "stream",
     "text": [
      "100%|██████████| 696/696 [00:20<00:00, 33.97it/s]\n",
      "100%|██████████| 174/174 [00:03<00:00, 52.68it/s]\n"
     ]
    },
    {
     "name": "stdout",
     "output_type": "stream",
     "text": [
      "Epoch: 025, Average loss: 120.49396\n",
      "Epoch: 025, Average loss: 115.86176\n"
     ]
    },
    {
     "name": "stderr",
     "output_type": "stream",
     "text": [
      "100%|██████████| 696/696 [00:21<00:00, 32.90it/s]\n",
      "100%|██████████| 174/174 [00:03<00:00, 55.57it/s]\n"
     ]
    },
    {
     "name": "stdout",
     "output_type": "stream",
     "text": [
      "Epoch: 026, Average loss: 120.48897\n",
      "Epoch: 026, Average loss: 116.36128\n"
     ]
    },
    {
     "name": "stderr",
     "output_type": "stream",
     "text": [
      "100%|██████████| 696/696 [00:21<00:00, 33.04it/s]\n",
      "100%|██████████| 174/174 [00:03<00:00, 46.60it/s]\n"
     ]
    },
    {
     "name": "stdout",
     "output_type": "stream",
     "text": [
      "Epoch: 027, Average loss: 120.51984\n",
      "Epoch: 027, Average loss: 116.40148\n"
     ]
    },
    {
     "name": "stderr",
     "output_type": "stream",
     "text": [
      "100%|██████████| 696/696 [00:21<00:00, 32.96it/s]\n",
      "100%|██████████| 174/174 [00:03<00:00, 51.00it/s]\n"
     ]
    },
    {
     "name": "stdout",
     "output_type": "stream",
     "text": [
      "Epoch: 028, Average loss: 127.13017\n",
      "Epoch: 028, Average loss: 129.06945\n"
     ]
    },
    {
     "name": "stderr",
     "output_type": "stream",
     "text": [
      "100%|██████████| 696/696 [00:21<00:00, 33.11it/s]\n",
      "100%|██████████| 174/174 [00:03<00:00, 47.48it/s]\n"
     ]
    },
    {
     "name": "stdout",
     "output_type": "stream",
     "text": [
      "Epoch: 029, Average loss: 132.64835\n",
      "Epoch: 029, Average loss: 129.10023\n"
     ]
    },
    {
     "name": "stderr",
     "output_type": "stream",
     "text": [
      "100%|██████████| 696/696 [00:21<00:00, 32.75it/s]\n",
      "100%|██████████| 174/174 [00:03<00:00, 48.03it/s]\n"
     ]
    },
    {
     "name": "stdout",
     "output_type": "stream",
     "text": [
      "Epoch: 030, Average loss: 132.66454\n",
      "Epoch: 030, Average loss: 128.93214\n"
     ]
    },
    {
     "name": "stderr",
     "output_type": "stream",
     "text": [
      "100%|██████████| 696/696 [00:16<00:00, 41.25it/s]\n",
      "100%|██████████| 174/174 [00:02<00:00, 58.29it/s]\n"
     ]
    },
    {
     "name": "stdout",
     "output_type": "stream",
     "text": [
      "Epoch: 031, Average loss: 132.58110\n",
      "Epoch: 031, Average loss: 128.92663\n"
     ]
    },
    {
     "name": "stderr",
     "output_type": "stream",
     "text": [
      "100%|██████████| 696/696 [00:19<00:00, 36.25it/s]\n",
      "100%|██████████| 174/174 [00:01<00:00, 124.33it/s]\n"
     ]
    },
    {
     "name": "stdout",
     "output_type": "stream",
     "text": [
      "Epoch: 032, Average loss: 132.64319\n",
      "Epoch: 032, Average loss: 129.00436\n"
     ]
    },
    {
     "name": "stderr",
     "output_type": "stream",
     "text": [
      "100%|██████████| 696/696 [00:14<00:00, 47.69it/s]\n",
      "100%|██████████| 174/174 [00:02<00:00, 86.43it/s] \n"
     ]
    },
    {
     "name": "stdout",
     "output_type": "stream",
     "text": [
      "Epoch: 033, Average loss: 132.63599\n",
      "Epoch: 033, Average loss: 128.96066\n"
     ]
    },
    {
     "name": "stderr",
     "output_type": "stream",
     "text": [
      "100%|██████████| 696/696 [00:14<00:00, 47.30it/s]\n",
      "100%|██████████| 174/174 [00:02<00:00, 86.41it/s] \n"
     ]
    },
    {
     "name": "stdout",
     "output_type": "stream",
     "text": [
      "Epoch: 034, Average loss: 132.59458\n",
      "Epoch: 034, Average loss: 129.01102\n"
     ]
    },
    {
     "name": "stderr",
     "output_type": "stream",
     "text": [
      "100%|██████████| 696/696 [00:17<00:00, 40.11it/s]\n",
      "100%|██████████| 174/174 [00:03<00:00, 51.51it/s]\n"
     ]
    },
    {
     "name": "stdout",
     "output_type": "stream",
     "text": [
      "Epoch: 035, Average loss: 132.59382\n",
      "Epoch: 035, Average loss: 129.01058\n"
     ]
    },
    {
     "name": "stderr",
     "output_type": "stream",
     "text": [
      "100%|██████████| 696/696 [00:20<00:00, 33.49it/s]\n",
      "100%|██████████| 174/174 [00:03<00:00, 54.93it/s]\n"
     ]
    },
    {
     "name": "stdout",
     "output_type": "stream",
     "text": [
      "Epoch: 036, Average loss: 132.59440\n",
      "Epoch: 036, Average loss: 129.01036\n"
     ]
    },
    {
     "name": "stderr",
     "output_type": "stream",
     "text": [
      "100%|██████████| 696/696 [00:20<00:00, 33.40it/s]\n",
      "100%|██████████| 174/174 [00:03<00:00, 49.67it/s]\n"
     ]
    },
    {
     "name": "stdout",
     "output_type": "stream",
     "text": [
      "Epoch: 037, Average loss: 132.59470\n",
      "Epoch: 037, Average loss: 129.01013\n"
     ]
    },
    {
     "name": "stderr",
     "output_type": "stream",
     "text": [
      "100%|██████████| 696/696 [00:20<00:00, 33.61it/s]\n",
      "100%|██████████| 174/174 [00:03<00:00, 54.21it/s]\n"
     ]
    },
    {
     "name": "stdout",
     "output_type": "stream",
     "text": [
      "Epoch: 038, Average loss: 132.59488\n",
      "Epoch: 038, Average loss: 129.00992\n"
     ]
    },
    {
     "name": "stderr",
     "output_type": "stream",
     "text": [
      "100%|██████████| 696/696 [00:20<00:00, 33.62it/s]\n",
      "100%|██████████| 174/174 [00:03<00:00, 48.35it/s]\n"
     ]
    },
    {
     "name": "stdout",
     "output_type": "stream",
     "text": [
      "Epoch: 039, Average loss: 132.59497\n",
      "Epoch: 039, Average loss: 129.00972\n"
     ]
    },
    {
     "name": "stderr",
     "output_type": "stream",
     "text": [
      " 53%|█████▎    | 368/696 [00:11<00:09, 33.03it/s]"
     ]
    }
   ],
   "source": [
    "tr_loss = []\n",
    "ts_loss=[]#set model to training mode\n",
    "for epoch in range(200):\n",
    "    model.train() \n",
    "    valid_loss = 0\n",
    "\n",
    "    train_loss=0\n",
    "\n",
    "     #shuffle the training data each epoch\n",
    "    for d in tqdm(train_loader): #go over each training point\n",
    "        data = d.to(device)#send data to device\n",
    "       \n",
    "        out = model(data) \n",
    "        optimizer.zero_grad() #zero gradients\n",
    "        #evaluate data point\n",
    "        loss = loss_func(out, data.y) #L1 error loss\n",
    "         #add loss value to aggregate loss\n",
    "        loss.backward() #compute gradients\n",
    "        optimizer.step() #apply optimization\n",
    "        train_loss += loss.item()\n",
    "    \n",
    "    model.eval()     # Optional when not using Model Specific layer\n",
    "    for d in tqdm(test_loader):\n",
    "        data = d.to(device)\n",
    "        target = model(data)\n",
    "        loss = loss_func(target, data.y)\n",
    "        valid_loss += loss.item()\n",
    "        \n",
    "    print('Epoch: {:03d}, Average loss: {:.5f}'.format(epoch, train_loss/len(train_loader)))\n",
    "    tr_loss.append(train_loss/len(train_loader))\n",
    "    print('Epoch: {:03d}, Average loss: {:.5f}'.format(epoch, valid_loss/len(test_loader)))\n",
    "    ts_loss.append(valid_loss/len(test_loader))\n",
    "    \n",
    "    "
   ]
  },
  {
   "cell_type": "code",
   "execution_count": 12,
   "id": "55a6a04f",
   "metadata": {},
   "outputs": [
    {
     "name": "stdout",
     "output_type": "stream",
     "text": [
      "SchNet(hidden_channels=128, num_filters=128, num_interactions=4, num_gaussians=50, cutoff=10.0)\n"
     ]
    }
   ],
   "source": [
    "print(model)"
   ]
  },
  {
   "cell_type": "markdown",
   "id": "9c06965f",
   "metadata": {},
   "source": [
    "# Cross-val"
   ]
  },
  {
   "cell_type": "code",
   "execution_count": 54,
   "id": "e3fd41d7",
   "metadata": {},
   "outputs": [
    {
     "name": "stderr",
     "output_type": "stream",
     "text": [
      "  0%|          | 0/762 [00:00<?, ?it/s]/miniconda/envs/crystalvae/lib/python3.6/site-packages/torch/nn/modules/loss.py:96: UserWarning:\n",
      "\n",
      "Using a target size (torch.Size([4])) that is different to the input size (torch.Size([4, 1])). This will likely lead to incorrect results due to broadcasting. Please ensure they have the same size.\n",
      "\n",
      "100%|█████████▉| 760/762 [00:30<00:00, 22.41it/s]/miniconda/envs/crystalvae/lib/python3.6/site-packages/torch/nn/modules/loss.py:96: UserWarning:\n",
      "\n",
      "Using a target size (torch.Size([1])) that is different to the input size (torch.Size([1, 1])). This will likely lead to incorrect results due to broadcasting. Please ensure they have the same size.\n",
      "\n",
      "100%|██████████| 762/762 [00:30<00:00, 24.65it/s]\n",
      " 92%|█████████▏| 100/109 [00:01<00:00, 67.43it/s]/miniconda/envs/crystalvae/lib/python3.6/site-packages/torch/nn/modules/loss.py:96: UserWarning:\n",
      "\n",
      "Using a target size (torch.Size([3])) that is different to the input size (torch.Size([3, 1])). This will likely lead to incorrect results due to broadcasting. Please ensure they have the same size.\n",
      "\n",
      "100%|██████████| 109/109 [00:01<00:00, 59.84it/s]\n"
     ]
    },
    {
     "name": "stdout",
     "output_type": "stream",
     "text": [
      "Epoch: 000, Average loss: 0.41070\n",
      "Epoch: 000, Average loss: 0.75743\n"
     ]
    },
    {
     "name": "stderr",
     "output_type": "stream",
     "text": [
      "100%|██████████| 762/762 [00:30<00:00, 24.84it/s]\n",
      "100%|██████████| 109/109 [00:01<00:00, 54.84it/s]\n"
     ]
    },
    {
     "name": "stdout",
     "output_type": "stream",
     "text": [
      "Epoch: 001, Average loss: 0.13164\n",
      "Epoch: 001, Average loss: 0.33875\n"
     ]
    },
    {
     "name": "stderr",
     "output_type": "stream",
     "text": [
      "100%|██████████| 762/762 [00:30<00:00, 24.68it/s]\n",
      "100%|██████████| 109/109 [00:01<00:00, 55.27it/s]\n"
     ]
    },
    {
     "name": "stdout",
     "output_type": "stream",
     "text": [
      "Epoch: 002, Average loss: 0.11214\n",
      "Epoch: 002, Average loss: 0.13221\n"
     ]
    },
    {
     "name": "stderr",
     "output_type": "stream",
     "text": [
      "100%|██████████| 762/762 [00:31<00:00, 24.49it/s]\n",
      "100%|██████████| 109/109 [00:01<00:00, 56.32it/s]\n"
     ]
    },
    {
     "name": "stdout",
     "output_type": "stream",
     "text": [
      "Epoch: 003, Average loss: 0.07704\n",
      "Epoch: 003, Average loss: 0.24454\n"
     ]
    },
    {
     "name": "stderr",
     "output_type": "stream",
     "text": [
      "100%|██████████| 762/762 [00:30<00:00, 24.83it/s]\n",
      "100%|██████████| 109/109 [00:01<00:00, 54.85it/s]\n"
     ]
    },
    {
     "name": "stdout",
     "output_type": "stream",
     "text": [
      "Epoch: 004, Average loss: 0.07801\n",
      "Epoch: 004, Average loss: 0.16103\n"
     ]
    },
    {
     "name": "stderr",
     "output_type": "stream",
     "text": [
      "100%|██████████| 762/762 [00:30<00:00, 24.72it/s]\n",
      "100%|██████████| 109/109 [00:01<00:00, 55.12it/s]\n"
     ]
    },
    {
     "name": "stdout",
     "output_type": "stream",
     "text": [
      "Epoch: 005, Average loss: 0.07259\n",
      "Epoch: 005, Average loss: 0.17880\n"
     ]
    },
    {
     "name": "stderr",
     "output_type": "stream",
     "text": [
      "100%|██████████| 762/762 [00:29<00:00, 25.81it/s]\n",
      "100%|██████████| 109/109 [00:01<00:00, 76.16it/s]\n"
     ]
    },
    {
     "name": "stdout",
     "output_type": "stream",
     "text": [
      "Epoch: 006, Average loss: 0.06672\n",
      "Epoch: 006, Average loss: 0.17376\n"
     ]
    },
    {
     "name": "stderr",
     "output_type": "stream",
     "text": [
      "100%|██████████| 762/762 [00:25<00:00, 29.56it/s]\n",
      "100%|██████████| 109/109 [00:01<00:00, 76.75it/s]\n"
     ]
    },
    {
     "name": "stdout",
     "output_type": "stream",
     "text": [
      "Epoch: 007, Average loss: 0.05521\n",
      "Epoch: 007, Average loss: 0.27626\n"
     ]
    },
    {
     "name": "stderr",
     "output_type": "stream",
     "text": [
      "100%|██████████| 762/762 [00:30<00:00, 25.08it/s]\n",
      "100%|██████████| 109/109 [00:02<00:00, 51.99it/s]\n"
     ]
    },
    {
     "name": "stdout",
     "output_type": "stream",
     "text": [
      "Epoch: 008, Average loss: 0.05231\n",
      "Epoch: 008, Average loss: 0.09857\n"
     ]
    },
    {
     "name": "stderr",
     "output_type": "stream",
     "text": [
      "100%|██████████| 762/762 [00:30<00:00, 25.20it/s]\n",
      "100%|██████████| 109/109 [00:01<00:00, 56.11it/s]\n"
     ]
    },
    {
     "name": "stdout",
     "output_type": "stream",
     "text": [
      "Epoch: 012, Average loss: 0.04263\n",
      "Epoch: 012, Average loss: 0.33979\n"
     ]
    },
    {
     "name": "stderr",
     "output_type": "stream",
     "text": [
      "100%|██████████| 762/762 [00:30<00:00, 25.38it/s]\n",
      "100%|██████████| 109/109 [00:01<00:00, 57.65it/s]\n"
     ]
    },
    {
     "name": "stdout",
     "output_type": "stream",
     "text": [
      "Epoch: 013, Average loss: 0.04369\n",
      "Epoch: 013, Average loss: 0.26611\n"
     ]
    },
    {
     "name": "stderr",
     "output_type": "stream",
     "text": [
      "100%|██████████| 762/762 [00:29<00:00, 25.45it/s]\n",
      "100%|██████████| 109/109 [00:01<00:00, 58.76it/s]\n"
     ]
    },
    {
     "name": "stdout",
     "output_type": "stream",
     "text": [
      "Epoch: 014, Average loss: 0.04227\n",
      "Epoch: 014, Average loss: 0.19421\n"
     ]
    },
    {
     "name": "stderr",
     "output_type": "stream",
     "text": [
      "100%|██████████| 762/762 [00:29<00:00, 25.48it/s]\n",
      "100%|██████████| 109/109 [00:01<00:00, 56.26it/s]\n"
     ]
    },
    {
     "name": "stdout",
     "output_type": "stream",
     "text": [
      "Epoch: 015, Average loss: 0.03895\n",
      "Epoch: 015, Average loss: 0.09937\n"
     ]
    },
    {
     "name": "stderr",
     "output_type": "stream",
     "text": [
      "100%|██████████| 762/762 [00:29<00:00, 25.47it/s]\n",
      "100%|██████████| 109/109 [00:01<00:00, 55.56it/s]\n"
     ]
    },
    {
     "name": "stdout",
     "output_type": "stream",
     "text": [
      "Epoch: 016, Average loss: 0.03919\n",
      "Epoch: 016, Average loss: 0.13360\n"
     ]
    },
    {
     "name": "stderr",
     "output_type": "stream",
     "text": [
      "100%|██████████| 762/762 [00:30<00:00, 25.38it/s]\n",
      "100%|██████████| 109/109 [00:01<00:00, 54.83it/s]\n"
     ]
    },
    {
     "name": "stdout",
     "output_type": "stream",
     "text": [
      "Epoch: 017, Average loss: 0.03538\n",
      "Epoch: 017, Average loss: 0.06488\n"
     ]
    },
    {
     "name": "stderr",
     "output_type": "stream",
     "text": [
      "100%|██████████| 762/762 [00:30<00:00, 25.37it/s]\n",
      "100%|██████████| 109/109 [00:01<00:00, 55.07it/s]\n"
     ]
    },
    {
     "name": "stdout",
     "output_type": "stream",
     "text": [
      "Epoch: 018, Average loss: 0.03847\n",
      "Epoch: 018, Average loss: 0.23016\n"
     ]
    },
    {
     "name": "stderr",
     "output_type": "stream",
     "text": [
      "100%|██████████| 762/762 [00:30<00:00, 24.82it/s]\n",
      "100%|██████████| 109/109 [00:01<00:00, 55.34it/s]\n"
     ]
    },
    {
     "name": "stdout",
     "output_type": "stream",
     "text": [
      "Epoch: 021, Average loss: 0.03697\n",
      "Epoch: 021, Average loss: 0.09610\n"
     ]
    },
    {
     "name": "stderr",
     "output_type": "stream",
     "text": [
      "100%|██████████| 762/762 [00:30<00:00, 24.98it/s]\n",
      "100%|██████████| 109/109 [00:02<00:00, 54.28it/s]\n"
     ]
    },
    {
     "name": "stdout",
     "output_type": "stream",
     "text": [
      "Epoch: 022, Average loss: 0.03468\n",
      "Epoch: 022, Average loss: 0.12203\n"
     ]
    },
    {
     "name": "stderr",
     "output_type": "stream",
     "text": [
      "100%|██████████| 762/762 [00:30<00:00, 24.87it/s]\n",
      "100%|██████████| 109/109 [00:01<00:00, 55.52it/s]\n"
     ]
    },
    {
     "name": "stdout",
     "output_type": "stream",
     "text": [
      "Epoch: 023, Average loss: 0.03298\n",
      "Epoch: 023, Average loss: 0.10802\n"
     ]
    },
    {
     "name": "stderr",
     "output_type": "stream",
     "text": [
      "100%|██████████| 762/762 [00:30<00:00, 24.63it/s]\n",
      "100%|██████████| 109/109 [00:01<00:00, 59.24it/s]\n"
     ]
    },
    {
     "name": "stdout",
     "output_type": "stream",
     "text": [
      "Epoch: 024, Average loss: 0.03325\n",
      "Epoch: 024, Average loss: 0.13699\n"
     ]
    },
    {
     "name": "stderr",
     "output_type": "stream",
     "text": [
      "100%|██████████| 762/762 [00:30<00:00, 24.91it/s]\n",
      "100%|██████████| 109/109 [00:01<00:00, 61.27it/s]\n"
     ]
    },
    {
     "name": "stdout",
     "output_type": "stream",
     "text": [
      "Epoch: 025, Average loss: 0.03319\n",
      "Epoch: 025, Average loss: 0.09834\n"
     ]
    },
    {
     "name": "stderr",
     "output_type": "stream",
     "text": [
      "100%|██████████| 762/762 [00:30<00:00, 24.85it/s]\n",
      "100%|██████████| 109/109 [00:01<00:00, 56.29it/s]\n"
     ]
    },
    {
     "name": "stdout",
     "output_type": "stream",
     "text": [
      "Epoch: 026, Average loss: 0.03278\n",
      "Epoch: 026, Average loss: 0.12171\n"
     ]
    },
    {
     "name": "stderr",
     "output_type": "stream",
     "text": [
      "100%|██████████| 762/762 [00:29<00:00, 26.25it/s]\n",
      "100%|██████████| 109/109 [00:01<00:00, 73.20it/s]\n"
     ]
    },
    {
     "name": "stdout",
     "output_type": "stream",
     "text": [
      "Epoch: 027, Average loss: 0.03244\n",
      "Epoch: 027, Average loss: 0.15437\n"
     ]
    },
    {
     "name": "stderr",
     "output_type": "stream",
     "text": [
      "100%|██████████| 762/762 [00:25<00:00, 29.97it/s]\n",
      "100%|██████████| 109/109 [00:01<00:00, 77.83it/s]\n"
     ]
    },
    {
     "name": "stdout",
     "output_type": "stream",
     "text": [
      "Epoch: 028, Average loss: 0.03180\n",
      "Epoch: 028, Average loss: 0.12911\n"
     ]
    },
    {
     "name": "stderr",
     "output_type": "stream",
     "text": [
      "100%|██████████| 762/762 [00:28<00:00, 27.07it/s]\n",
      "100%|██████████| 109/109 [00:01<00:00, 55.17it/s]\n"
     ]
    },
    {
     "name": "stdout",
     "output_type": "stream",
     "text": [
      "Epoch: 029, Average loss: 527.10044\n",
      "Epoch: 029, Average loss: 0.30803\n"
     ]
    },
    {
     "name": "stderr",
     "output_type": "stream",
     "text": [
      "100%|██████████| 762/762 [00:30<00:00, 24.97it/s]\n",
      "100%|██████████| 109/109 [00:01<00:00, 54.82it/s]\n"
     ]
    },
    {
     "name": "stdout",
     "output_type": "stream",
     "text": [
      "Epoch: 030, Average loss: 0.17711\n",
      "Epoch: 030, Average loss: 0.28400\n"
     ]
    },
    {
     "name": "stderr",
     "output_type": "stream",
     "text": [
      "100%|██████████| 762/762 [00:29<00:00, 25.76it/s]\n",
      "100%|██████████| 109/109 [00:01<00:00, 58.78it/s]\n"
     ]
    },
    {
     "name": "stdout",
     "output_type": "stream",
     "text": [
      "Epoch: 031, Average loss: 0.11022\n",
      "Epoch: 031, Average loss: 0.20743\n"
     ]
    },
    {
     "name": "stderr",
     "output_type": "stream",
     "text": [
      "100%|██████████| 762/762 [00:29<00:00, 25.79it/s]\n",
      "100%|██████████| 109/109 [00:01<00:00, 55.99it/s]\n"
     ]
    },
    {
     "name": "stdout",
     "output_type": "stream",
     "text": [
      "Epoch: 032, Average loss: 0.08039\n",
      "Epoch: 032, Average loss: 0.14100\n"
     ]
    },
    {
     "name": "stderr",
     "output_type": "stream",
     "text": [
      "100%|██████████| 762/762 [00:29<00:00, 25.81it/s]\n",
      "100%|██████████| 109/109 [00:01<00:00, 56.26it/s]\n"
     ]
    },
    {
     "name": "stdout",
     "output_type": "stream",
     "text": [
      "Epoch: 033, Average loss: 0.07084\n",
      "Epoch: 033, Average loss: 0.19696\n"
     ]
    },
    {
     "name": "stderr",
     "output_type": "stream",
     "text": [
      " 48%|████▊     | 364/762 [00:14<00:16, 23.48it/s]IOPub message rate exceeded.\n",
      "The notebook server will temporarily stop sending output\n",
      "to the client in order to avoid crashing it.\n",
      "To change this limit, set the config variable\n",
      "`--NotebookApp.iopub_msg_rate_limit`.\n",
      "\n",
      "Current values:\n",
      "NotebookApp.iopub_msg_rate_limit=1000.0 (msgs/sec)\n",
      "NotebookApp.rate_limit_window=3.0 (secs)\n",
      "\n",
      "100%|██████████| 762/762 [00:29<00:00, 25.92it/s]\n",
      "100%|██████████| 109/109 [00:01<00:00, 55.55it/s]\n"
     ]
    },
    {
     "name": "stdout",
     "output_type": "stream",
     "text": [
      "Epoch: 038, Average loss: 0.06653\n",
      "Epoch: 038, Average loss: 0.17569\n"
     ]
    },
    {
     "name": "stderr",
     "output_type": "stream",
     "text": [
      "100%|██████████| 762/762 [00:29<00:00, 25.74it/s]\n",
      "100%|██████████| 109/109 [00:01<00:00, 55.00it/s]\n"
     ]
    },
    {
     "name": "stdout",
     "output_type": "stream",
     "text": [
      "Epoch: 039, Average loss: 1889.41761\n",
      "Epoch: 039, Average loss: 0.30646\n"
     ]
    },
    {
     "name": "stderr",
     "output_type": "stream",
     "text": [
      "100%|██████████| 762/762 [00:29<00:00, 25.80it/s]\n",
      "100%|██████████| 109/109 [00:01<00:00, 54.89it/s]\n"
     ]
    },
    {
     "name": "stdout",
     "output_type": "stream",
     "text": [
      "Epoch: 040, Average loss: 0.14714\n",
      "Epoch: 040, Average loss: 0.30650\n"
     ]
    },
    {
     "name": "stderr",
     "output_type": "stream",
     "text": [
      "100%|██████████| 762/762 [00:29<00:00, 25.67it/s]\n",
      "100%|██████████| 109/109 [00:01<00:00, 56.94it/s]\n"
     ]
    },
    {
     "name": "stdout",
     "output_type": "stream",
     "text": [
      "Epoch: 041, Average loss: 0.14467\n",
      "Epoch: 041, Average loss: 0.30655\n"
     ]
    },
    {
     "name": "stderr",
     "output_type": "stream",
     "text": [
      "100%|██████████| 762/762 [00:30<00:00, 24.76it/s]\n",
      "100%|██████████| 109/109 [00:02<00:00, 48.21it/s]\n"
     ]
    },
    {
     "name": "stdout",
     "output_type": "stream",
     "text": [
      "Epoch: 042, Average loss: 0.13954\n",
      "Epoch: 042, Average loss: 0.30648\n"
     ]
    },
    {
     "name": "stderr",
     "output_type": "stream",
     "text": [
      "100%|██████████| 762/762 [00:31<00:00, 23.83it/s]\n",
      "100%|██████████| 109/109 [00:02<00:00, 46.16it/s]\n"
     ]
    },
    {
     "name": "stdout",
     "output_type": "stream",
     "text": [
      "Epoch: 043, Average loss: 0.13906\n",
      "Epoch: 043, Average loss: 0.30752\n"
     ]
    },
    {
     "name": "stderr",
     "output_type": "stream",
     "text": [
      "100%|██████████| 762/762 [00:31<00:00, 24.13it/s]\n",
      "100%|██████████| 109/109 [00:02<00:00, 44.51it/s]\n"
     ]
    },
    {
     "name": "stdout",
     "output_type": "stream",
     "text": [
      "Epoch: 044, Average loss: 0.13660\n",
      "Epoch: 044, Average loss: 0.31072\n"
     ]
    },
    {
     "name": "stderr",
     "output_type": "stream",
     "text": [
      "100%|██████████| 762/762 [00:31<00:00, 24.11it/s]\n",
      "100%|██████████| 109/109 [00:02<00:00, 42.37it/s]\n"
     ]
    },
    {
     "name": "stdout",
     "output_type": "stream",
     "text": [
      "Epoch: 045, Average loss: 0.13276\n",
      "Epoch: 045, Average loss: 0.31497\n"
     ]
    },
    {
     "name": "stderr",
     "output_type": "stream",
     "text": [
      "100%|██████████| 762/762 [00:31<00:00, 24.03it/s]\n",
      "100%|██████████| 109/109 [00:02<00:00, 47.90it/s]\n"
     ]
    },
    {
     "name": "stdout",
     "output_type": "stream",
     "text": [
      "Epoch: 046, Average loss: 0.12566\n",
      "Epoch: 046, Average loss: 0.32819\n"
     ]
    },
    {
     "name": "stderr",
     "output_type": "stream",
     "text": [
      "100%|██████████| 762/762 [00:31<00:00, 24.17it/s]\n",
      "100%|██████████| 109/109 [00:02<00:00, 49.65it/s]\n"
     ]
    },
    {
     "name": "stdout",
     "output_type": "stream",
     "text": [
      "Epoch: 047, Average loss: 0.12655\n",
      "Epoch: 047, Average loss: 0.32652\n"
     ]
    },
    {
     "name": "stderr",
     "output_type": "stream",
     "text": [
      "100%|██████████| 762/762 [00:32<00:00, 23.73it/s]\n",
      "100%|██████████| 109/109 [00:02<00:00, 48.96it/s]\n"
     ]
    },
    {
     "name": "stdout",
     "output_type": "stream",
     "text": [
      "Epoch: 048, Average loss: 0.13031\n",
      "Epoch: 048, Average loss: 0.32627\n"
     ]
    },
    {
     "name": "stderr",
     "output_type": "stream",
     "text": [
      "100%|██████████| 762/762 [00:26<00:00, 29.10it/s]\n",
      "100%|██████████| 109/109 [00:01<00:00, 68.29it/s]\n"
     ]
    },
    {
     "name": "stdout",
     "output_type": "stream",
     "text": [
      "Epoch: 049, Average loss: 0.13127\n",
      "Epoch: 049, Average loss: 0.32749\n"
     ]
    },
    {
     "name": "stderr",
     "output_type": "stream",
     "text": [
      "100%|██████████| 762/762 [00:28<00:00, 26.59it/s]\n",
      "100%|██████████| 109/109 [00:02<00:00, 48.30it/s]\n"
     ]
    },
    {
     "name": "stdout",
     "output_type": "stream",
     "text": [
      "Epoch: 050, Average loss: 0.12654\n",
      "Epoch: 050, Average loss: 0.32930\n"
     ]
    },
    {
     "name": "stderr",
     "output_type": "stream",
     "text": [
      "100%|██████████| 762/762 [00:31<00:00, 24.14it/s]\n",
      "100%|██████████| 109/109 [00:02<00:00, 46.89it/s]\n"
     ]
    },
    {
     "name": "stdout",
     "output_type": "stream",
     "text": [
      "Epoch: 051, Average loss: 0.12841\n",
      "Epoch: 051, Average loss: 0.30765\n"
     ]
    },
    {
     "name": "stderr",
     "output_type": "stream",
     "text": [
      "100%|██████████| 762/762 [00:31<00:00, 23.97it/s]\n",
      "100%|██████████| 109/109 [00:01<00:00, 56.42it/s]\n"
     ]
    },
    {
     "name": "stdout",
     "output_type": "stream",
     "text": [
      "Epoch: 052, Average loss: 0.12607\n",
      "Epoch: 052, Average loss: 0.30861\n"
     ]
    },
    {
     "name": "stderr",
     "output_type": "stream",
     "text": [
      "100%|██████████| 762/762 [00:31<00:00, 24.28it/s]\n",
      "100%|██████████| 109/109 [00:02<00:00, 49.78it/s]\n"
     ]
    },
    {
     "name": "stdout",
     "output_type": "stream",
     "text": [
      "Epoch: 053, Average loss: 0.12565\n",
      "Epoch: 053, Average loss: 0.30691\n"
     ]
    },
    {
     "name": "stderr",
     "output_type": "stream",
     "text": [
      "100%|██████████| 762/762 [00:30<00:00, 24.69it/s]\n",
      "100%|██████████| 109/109 [00:02<00:00, 48.61it/s]\n"
     ]
    },
    {
     "name": "stdout",
     "output_type": "stream",
     "text": [
      "Epoch: 054, Average loss: 0.12311\n",
      "Epoch: 054, Average loss: 0.30665\n"
     ]
    },
    {
     "name": "stderr",
     "output_type": "stream",
     "text": [
      "100%|██████████| 762/762 [00:31<00:00, 24.42it/s]\n",
      "100%|██████████| 109/109 [00:02<00:00, 46.47it/s]\n"
     ]
    },
    {
     "name": "stdout",
     "output_type": "stream",
     "text": [
      "Epoch: 055, Average loss: 0.12392\n",
      "Epoch: 055, Average loss: 0.30817\n"
     ]
    },
    {
     "name": "stderr",
     "output_type": "stream",
     "text": [
      "100%|██████████| 762/762 [00:32<00:00, 23.23it/s]\n",
      "100%|██████████| 109/109 [00:01<00:00, 56.89it/s]\n"
     ]
    },
    {
     "name": "stdout",
     "output_type": "stream",
     "text": [
      "Epoch: 056, Average loss: 0.12358\n",
      "Epoch: 056, Average loss: 0.30687\n"
     ]
    },
    {
     "name": "stderr",
     "output_type": "stream",
     "text": [
      "100%|██████████| 762/762 [00:31<00:00, 24.25it/s]\n",
      "100%|██████████| 109/109 [00:02<00:00, 47.06it/s]\n"
     ]
    },
    {
     "name": "stdout",
     "output_type": "stream",
     "text": [
      "Epoch: 057, Average loss: 0.12037\n",
      "Epoch: 057, Average loss: 0.30650\n"
     ]
    },
    {
     "name": "stderr",
     "output_type": "stream",
     "text": [
      "100%|██████████| 762/762 [00:32<00:00, 23.63it/s]\n",
      "100%|██████████| 109/109 [00:02<00:00, 48.50it/s]\n"
     ]
    },
    {
     "name": "stdout",
     "output_type": "stream",
     "text": [
      "Epoch: 058, Average loss: 0.11983\n",
      "Epoch: 058, Average loss: 0.30653\n"
     ]
    },
    {
     "name": "stderr",
     "output_type": "stream",
     "text": [
      "100%|██████████| 762/762 [00:32<00:00, 23.62it/s]\n",
      "100%|██████████| 109/109 [00:02<00:00, 46.37it/s]\n"
     ]
    },
    {
     "name": "stdout",
     "output_type": "stream",
     "text": [
      "Epoch: 059, Average loss: 0.11550\n",
      "Epoch: 059, Average loss: 0.30687\n"
     ]
    },
    {
     "name": "stderr",
     "output_type": "stream",
     "text": [
      "100%|██████████| 762/762 [00:31<00:00, 23.97it/s]\n",
      "100%|██████████| 109/109 [00:02<00:00, 48.62it/s]\n"
     ]
    },
    {
     "name": "stdout",
     "output_type": "stream",
     "text": [
      "Epoch: 060, Average loss: 0.11207\n",
      "Epoch: 060, Average loss: 0.30723\n"
     ]
    },
    {
     "name": "stderr",
     "output_type": "stream",
     "text": [
      "100%|██████████| 762/762 [00:34<00:00, 22.22it/s]\n",
      "100%|██████████| 109/109 [00:02<00:00, 48.96it/s]\n"
     ]
    },
    {
     "name": "stdout",
     "output_type": "stream",
     "text": [
      "Epoch: 061, Average loss: 0.11179\n",
      "Epoch: 061, Average loss: 0.30658\n"
     ]
    },
    {
     "name": "stderr",
     "output_type": "stream",
     "text": [
      "100%|██████████| 762/762 [00:32<00:00, 23.73it/s]\n",
      "100%|██████████| 109/109 [00:02<00:00, 49.54it/s]\n"
     ]
    },
    {
     "name": "stdout",
     "output_type": "stream",
     "text": [
      "Epoch: 062, Average loss: 0.11538\n",
      "Epoch: 062, Average loss: 0.30867\n"
     ]
    },
    {
     "name": "stderr",
     "output_type": "stream",
     "text": [
      "100%|██████████| 762/762 [00:33<00:00, 22.81it/s]\n",
      "100%|██████████| 109/109 [00:02<00:00, 47.32it/s]\n"
     ]
    },
    {
     "name": "stdout",
     "output_type": "stream",
     "text": [
      "Epoch: 063, Average loss: 0.11238\n",
      "Epoch: 063, Average loss: 0.32580\n"
     ]
    },
    {
     "name": "stderr",
     "output_type": "stream",
     "text": [
      "100%|██████████| 762/762 [00:31<00:00, 24.11it/s]\n",
      "100%|██████████| 109/109 [00:02<00:00, 42.54it/s]\n"
     ]
    },
    {
     "name": "stdout",
     "output_type": "stream",
     "text": [
      "Epoch: 064, Average loss: 0.11394\n",
      "Epoch: 064, Average loss: 0.30743\n"
     ]
    },
    {
     "name": "stderr",
     "output_type": "stream",
     "text": [
      "100%|██████████| 762/762 [00:33<00:00, 22.79it/s]\n",
      "100%|██████████| 109/109 [00:02<00:00, 44.65it/s]\n"
     ]
    },
    {
     "name": "stdout",
     "output_type": "stream",
     "text": [
      "Epoch: 065, Average loss: 0.11322\n",
      "Epoch: 065, Average loss: 0.31148\n"
     ]
    },
    {
     "name": "stderr",
     "output_type": "stream",
     "text": [
      "100%|██████████| 762/762 [00:32<00:00, 23.72it/s]\n",
      "100%|██████████| 109/109 [00:02<00:00, 47.38it/s]\n"
     ]
    },
    {
     "name": "stdout",
     "output_type": "stream",
     "text": [
      "Epoch: 066, Average loss: 0.11315\n",
      "Epoch: 066, Average loss: 0.30655\n"
     ]
    },
    {
     "name": "stderr",
     "output_type": "stream",
     "text": [
      "100%|██████████| 762/762 [00:33<00:00, 22.42it/s]\n",
      "100%|██████████| 109/109 [00:02<00:00, 49.58it/s]\n"
     ]
    },
    {
     "name": "stdout",
     "output_type": "stream",
     "text": [
      "Epoch: 067, Average loss: 0.11444\n",
      "Epoch: 067, Average loss: 0.30720\n"
     ]
    },
    {
     "name": "stderr",
     "output_type": "stream",
     "text": [
      "100%|██████████| 762/762 [00:31<00:00, 24.27it/s]\n",
      "100%|██████████| 109/109 [00:02<00:00, 48.89it/s]\n"
     ]
    },
    {
     "name": "stdout",
     "output_type": "stream",
     "text": [
      "Epoch: 068, Average loss: 0.11194\n",
      "Epoch: 068, Average loss: 0.31141\n"
     ]
    },
    {
     "name": "stderr",
     "output_type": "stream",
     "text": [
      "100%|██████████| 762/762 [00:31<00:00, 24.04it/s]\n",
      "100%|██████████| 109/109 [00:02<00:00, 48.53it/s]\n"
     ]
    },
    {
     "name": "stdout",
     "output_type": "stream",
     "text": [
      "Epoch: 069, Average loss: 0.10827\n",
      "Epoch: 069, Average loss: 0.31438\n"
     ]
    },
    {
     "name": "stderr",
     "output_type": "stream",
     "text": [
      "100%|██████████| 762/762 [00:31<00:00, 23.98it/s]\n",
      "100%|██████████| 109/109 [00:02<00:00, 42.89it/s]\n"
     ]
    },
    {
     "name": "stdout",
     "output_type": "stream",
     "text": [
      "Epoch: 070, Average loss: 0.11036\n",
      "Epoch: 070, Average loss: 0.31004\n"
     ]
    },
    {
     "name": "stderr",
     "output_type": "stream",
     "text": [
      "100%|██████████| 762/762 [00:27<00:00, 27.49it/s]\n",
      "100%|██████████| 109/109 [00:02<00:00, 49.15it/s]\n"
     ]
    },
    {
     "name": "stdout",
     "output_type": "stream",
     "text": [
      "Epoch: 071, Average loss: 0.10618\n",
      "Epoch: 071, Average loss: 0.32447\n"
     ]
    },
    {
     "name": "stderr",
     "output_type": "stream",
     "text": [
      "100%|██████████| 762/762 [00:34<00:00, 22.16it/s]\n",
      "100%|██████████| 109/109 [00:02<00:00, 44.25it/s]\n"
     ]
    },
    {
     "name": "stdout",
     "output_type": "stream",
     "text": [
      "Epoch: 072, Average loss: 0.11080\n",
      "Epoch: 072, Average loss: 0.31059\n"
     ]
    },
    {
     "name": "stderr",
     "output_type": "stream",
     "text": [
      "100%|██████████| 762/762 [00:36<00:00, 21.01it/s]\n",
      "100%|██████████| 109/109 [00:02<00:00, 43.62it/s]\n"
     ]
    },
    {
     "name": "stdout",
     "output_type": "stream",
     "text": [
      "Epoch: 073, Average loss: 0.11080\n",
      "Epoch: 073, Average loss: 0.31021\n"
     ]
    },
    {
     "name": "stderr",
     "output_type": "stream",
     "text": [
      "100%|██████████| 109/109 [00:02<00:00, 45.82it/s]\n"
     ]
    },
    {
     "name": "stdout",
     "output_type": "stream",
     "text": [
      "Epoch: 076, Average loss: 0.10896\n",
      "Epoch: 076, Average loss: 0.33713\n"
     ]
    },
    {
     "name": "stderr",
     "output_type": "stream",
     "text": [
      "100%|██████████| 762/762 [00:31<00:00, 24.05it/s]\n",
      "100%|██████████| 109/109 [00:02<00:00, 43.59it/s]\n"
     ]
    },
    {
     "name": "stdout",
     "output_type": "stream",
     "text": [
      "Epoch: 077, Average loss: 0.11079\n",
      "Epoch: 077, Average loss: 0.30731\n"
     ]
    },
    {
     "name": "stderr",
     "output_type": "stream",
     "text": [
      "100%|██████████| 762/762 [00:32<00:00, 23.74it/s]\n",
      "100%|██████████| 109/109 [00:02<00:00, 43.93it/s]\n"
     ]
    },
    {
     "name": "stdout",
     "output_type": "stream",
     "text": [
      "Epoch: 078, Average loss: 0.10993\n",
      "Epoch: 078, Average loss: 0.33188\n"
     ]
    },
    {
     "name": "stderr",
     "output_type": "stream",
     "text": [
      "100%|██████████| 762/762 [00:31<00:00, 23.84it/s]\n",
      "100%|██████████| 109/109 [00:02<00:00, 48.78it/s]\n"
     ]
    },
    {
     "name": "stdout",
     "output_type": "stream",
     "text": [
      "Epoch: 079, Average loss: 0.10607\n",
      "Epoch: 079, Average loss: 0.33138\n"
     ]
    },
    {
     "name": "stderr",
     "output_type": "stream",
     "text": [
      "100%|██████████| 762/762 [00:31<00:00, 24.07it/s]\n",
      "100%|██████████| 109/109 [00:02<00:00, 44.67it/s]\n"
     ]
    },
    {
     "name": "stdout",
     "output_type": "stream",
     "text": [
      "Epoch: 080, Average loss: 0.10860\n",
      "Epoch: 080, Average loss: 0.33378\n"
     ]
    },
    {
     "name": "stderr",
     "output_type": "stream",
     "text": [
      "100%|██████████| 762/762 [00:31<00:00, 23.99it/s]\n",
      "100%|██████████| 109/109 [00:02<00:00, 47.00it/s]\n"
     ]
    },
    {
     "name": "stdout",
     "output_type": "stream",
     "text": [
      "Epoch: 081, Average loss: 0.10600\n",
      "Epoch: 081, Average loss: 0.31717\n"
     ]
    },
    {
     "name": "stderr",
     "output_type": "stream",
     "text": [
      "100%|██████████| 762/762 [00:31<00:00, 24.08it/s]\n",
      "100%|██████████| 109/109 [00:02<00:00, 42.78it/s]\n"
     ]
    },
    {
     "name": "stdout",
     "output_type": "stream",
     "text": [
      "Epoch: 082, Average loss: 0.10765\n",
      "Epoch: 082, Average loss: 0.32481\n"
     ]
    },
    {
     "name": "stderr",
     "output_type": "stream",
     "text": [
      "100%|██████████| 762/762 [00:32<00:00, 23.80it/s]\n",
      "100%|██████████| 109/109 [00:02<00:00, 49.32it/s]\n"
     ]
    },
    {
     "name": "stdout",
     "output_type": "stream",
     "text": [
      "Epoch: 083, Average loss: 0.10797\n",
      "Epoch: 083, Average loss: 0.32457\n"
     ]
    },
    {
     "name": "stderr",
     "output_type": "stream",
     "text": [
      "100%|██████████| 762/762 [00:32<00:00, 23.75it/s]\n",
      "100%|██████████| 109/109 [00:02<00:00, 47.52it/s]\n"
     ]
    },
    {
     "name": "stdout",
     "output_type": "stream",
     "text": [
      "Epoch: 084, Average loss: 0.10814\n",
      "Epoch: 084, Average loss: 0.31033\n"
     ]
    },
    {
     "name": "stderr",
     "output_type": "stream",
     "text": [
      "100%|██████████| 762/762 [00:31<00:00, 23.85it/s]\n",
      "100%|██████████| 109/109 [00:02<00:00, 46.89it/s]\n"
     ]
    },
    {
     "name": "stdout",
     "output_type": "stream",
     "text": [
      "Epoch: 085, Average loss: 0.10537\n",
      "Epoch: 085, Average loss: 0.34790\n"
     ]
    },
    {
     "name": "stderr",
     "output_type": "stream",
     "text": [
      "100%|██████████| 762/762 [00:31<00:00, 23.97it/s]\n",
      "100%|██████████| 109/109 [00:02<00:00, 44.43it/s]\n"
     ]
    },
    {
     "name": "stdout",
     "output_type": "stream",
     "text": [
      "Epoch: 086, Average loss: 0.11095\n",
      "Epoch: 086, Average loss: 0.33449\n"
     ]
    },
    {
     "name": "stderr",
     "output_type": "stream",
     "text": [
      "100%|██████████| 762/762 [00:31<00:00, 24.07it/s]\n",
      "100%|██████████| 109/109 [00:02<00:00, 45.52it/s]\n"
     ]
    },
    {
     "name": "stdout",
     "output_type": "stream",
     "text": [
      "Epoch: 087, Average loss: 0.11173\n",
      "Epoch: 087, Average loss: 0.33319\n"
     ]
    },
    {
     "name": "stderr",
     "output_type": "stream",
     "text": [
      "100%|██████████| 762/762 [00:32<00:00, 23.74it/s]\n",
      "100%|██████████| 109/109 [00:02<00:00, 48.20it/s]\n"
     ]
    },
    {
     "name": "stdout",
     "output_type": "stream",
     "text": [
      "Epoch: 088, Average loss: 0.10927\n",
      "Epoch: 088, Average loss: 0.32081\n"
     ]
    },
    {
     "name": "stderr",
     "output_type": "stream",
     "text": [
      " 22%|██▏       | 167/762 [00:06<00:22, 26.29it/s]IOPub message rate exceeded.\n",
      "The notebook server will temporarily stop sending output\n",
      "to the client in order to avoid crashing it.\n",
      "To change this limit, set the config variable\n",
      "`--NotebookApp.iopub_msg_rate_limit`.\n",
      "\n",
      "Current values:\n",
      "NotebookApp.iopub_msg_rate_limit=1000.0 (msgs/sec)\n",
      "NotebookApp.rate_limit_window=3.0 (secs)\n",
      "\n",
      "100%|██████████| 762/762 [00:31<00:00, 23.89it/s]\n",
      "100%|██████████| 109/109 [00:02<00:00, 45.48it/s]\n"
     ]
    },
    {
     "name": "stdout",
     "output_type": "stream",
     "text": [
      "Epoch: 009, Average loss: 0.03851\n",
      "Epoch: 009, Average loss: 0.15289\n"
     ]
    },
    {
     "name": "stderr",
     "output_type": "stream",
     "text": [
      "100%|██████████| 762/762 [00:31<00:00, 23.87it/s]\n",
      "100%|██████████| 109/109 [00:02<00:00, 44.84it/s]\n"
     ]
    },
    {
     "name": "stdout",
     "output_type": "stream",
     "text": [
      "Epoch: 010, Average loss: 0.03817\n",
      "Epoch: 010, Average loss: 0.11236\n"
     ]
    },
    {
     "name": "stderr",
     "output_type": "stream",
     "text": [
      "100%|██████████| 762/762 [00:31<00:00, 23.88it/s]\n",
      "100%|██████████| 109/109 [00:02<00:00, 44.17it/s]\n"
     ]
    },
    {
     "name": "stdout",
     "output_type": "stream",
     "text": [
      "Epoch: 011, Average loss: 0.03538\n",
      "Epoch: 011, Average loss: 0.14328\n"
     ]
    },
    {
     "name": "stderr",
     "output_type": "stream",
     "text": [
      "100%|██████████| 762/762 [00:26<00:00, 28.96it/s]\n",
      "100%|██████████| 109/109 [00:01<00:00, 65.10it/s]\n"
     ]
    },
    {
     "name": "stdout",
     "output_type": "stream",
     "text": [
      "Epoch: 012, Average loss: 0.03486\n",
      "Epoch: 012, Average loss: 0.06781\n"
     ]
    },
    {
     "name": "stderr",
     "output_type": "stream",
     "text": [
      "100%|██████████| 762/762 [00:26<00:00, 28.97it/s]\n",
      "100%|██████████| 109/109 [00:02<00:00, 50.16it/s]\n"
     ]
    },
    {
     "name": "stdout",
     "output_type": "stream",
     "text": [
      "Epoch: 013, Average loss: 0.03424\n",
      "Epoch: 013, Average loss: 0.09027\n"
     ]
    },
    {
     "name": "stderr",
     "output_type": "stream",
     "text": [
      "100%|██████████| 762/762 [00:31<00:00, 24.33it/s]\n",
      "100%|██████████| 109/109 [00:02<00:00, 47.69it/s]\n"
     ]
    },
    {
     "name": "stdout",
     "output_type": "stream",
     "text": [
      "Epoch: 014, Average loss: 0.03012\n",
      "Epoch: 014, Average loss: 0.13319\n"
     ]
    },
    {
     "name": "stderr",
     "output_type": "stream",
     "text": [
      "100%|██████████| 762/762 [00:31<00:00, 23.93it/s]\n",
      "100%|██████████| 109/109 [00:02<00:00, 47.16it/s]\n"
     ]
    },
    {
     "name": "stdout",
     "output_type": "stream",
     "text": [
      "Epoch: 015, Average loss: 0.03120\n",
      "Epoch: 015, Average loss: 0.13122\n"
     ]
    },
    {
     "name": "stderr",
     "output_type": "stream",
     "text": [
      "100%|██████████| 762/762 [00:31<00:00, 24.32it/s]\n",
      "100%|██████████| 109/109 [00:02<00:00, 49.59it/s]\n"
     ]
    },
    {
     "name": "stdout",
     "output_type": "stream",
     "text": [
      "Epoch: 016, Average loss: 0.03202\n",
      "Epoch: 016, Average loss: 0.08323\n"
     ]
    },
    {
     "name": "stderr",
     "output_type": "stream",
     "text": [
      "100%|██████████| 762/762 [00:31<00:00, 24.12it/s]\n",
      "100%|██████████| 109/109 [00:02<00:00, 44.52it/s]\n"
     ]
    },
    {
     "name": "stdout",
     "output_type": "stream",
     "text": [
      "Epoch: 017, Average loss: 0.03396\n",
      "Epoch: 017, Average loss: 0.08244\n"
     ]
    },
    {
     "name": "stderr",
     "output_type": "stream",
     "text": [
      "100%|██████████| 762/762 [00:31<00:00, 24.05it/s]\n",
      "100%|██████████| 109/109 [00:02<00:00, 47.98it/s]\n"
     ]
    },
    {
     "name": "stdout",
     "output_type": "stream",
     "text": [
      "Epoch: 018, Average loss: 762.16973\n",
      "Epoch: 018, Average loss: 2.20237\n"
     ]
    },
    {
     "name": "stderr",
     "output_type": "stream",
     "text": [
      "100%|██████████| 762/762 [00:31<00:00, 24.01it/s]\n",
      "100%|██████████| 109/109 [00:02<00:00, 48.26it/s]\n"
     ]
    },
    {
     "name": "stdout",
     "output_type": "stream",
     "text": [
      "Epoch: 019, Average loss: 0.92607\n",
      "Epoch: 019, Average loss: 0.29763\n"
     ]
    },
    {
     "name": "stderr",
     "output_type": "stream",
     "text": [
      "100%|██████████| 762/762 [00:31<00:00, 24.18it/s]\n",
      "100%|██████████| 109/109 [00:02<00:00, 47.79it/s]\n"
     ]
    },
    {
     "name": "stdout",
     "output_type": "stream",
     "text": [
      "Epoch: 020, Average loss: 0.31278\n",
      "Epoch: 020, Average loss: 0.29701\n"
     ]
    },
    {
     "name": "stderr",
     "output_type": "stream",
     "text": [
      " 65%|██████▍   | 493/762 [00:20<00:12, 20.87it/s]IOPub message rate exceeded.\n",
      "The notebook server will temporarily stop sending output\n",
      "to the client in order to avoid crashing it.\n",
      "To change this limit, set the config variable\n",
      "`--NotebookApp.iopub_msg_rate_limit`.\n",
      "\n",
      "Current values:\n",
      "NotebookApp.iopub_msg_rate_limit=1000.0 (msgs/sec)\n",
      "NotebookApp.rate_limit_window=3.0 (secs)\n",
      "\n",
      "100%|██████████| 762/762 [00:31<00:00, 24.42it/s]\n",
      "100%|██████████| 109/109 [00:02<00:00, 49.46it/s]\n"
     ]
    },
    {
     "name": "stdout",
     "output_type": "stream",
     "text": [
      "Epoch: 041, Average loss: 0.11526\n",
      "Epoch: 041, Average loss: 0.33044\n"
     ]
    },
    {
     "name": "stderr",
     "output_type": "stream",
     "text": [
      "100%|██████████| 762/762 [00:31<00:00, 24.09it/s]\n",
      "100%|██████████| 109/109 [00:02<00:00, 48.59it/s]\n"
     ]
    },
    {
     "name": "stdout",
     "output_type": "stream",
     "text": [
      "Epoch: 042, Average loss: 0.11740\n",
      "Epoch: 042, Average loss: 0.36780\n"
     ]
    },
    {
     "name": "stderr",
     "output_type": "stream",
     "text": [
      "100%|██████████| 762/762 [00:31<00:00, 24.10it/s]\n",
      "100%|██████████| 109/109 [00:02<00:00, 45.09it/s]\n"
     ]
    },
    {
     "name": "stdout",
     "output_type": "stream",
     "text": [
      "Epoch: 043, Average loss: 0.11076\n",
      "Epoch: 043, Average loss: 0.36298\n"
     ]
    },
    {
     "name": "stderr",
     "output_type": "stream",
     "text": [
      "100%|██████████| 762/762 [00:31<00:00, 24.05it/s]\n",
      "100%|██████████| 109/109 [00:02<00:00, 46.50it/s]\n"
     ]
    },
    {
     "name": "stdout",
     "output_type": "stream",
     "text": [
      "Epoch: 044, Average loss: 0.11237\n",
      "Epoch: 044, Average loss: 0.33309\n"
     ]
    },
    {
     "name": "stderr",
     "output_type": "stream",
     "text": [
      "100%|██████████| 762/762 [00:31<00:00, 23.95it/s]\n",
      "100%|██████████| 109/109 [00:02<00:00, 47.37it/s]\n"
     ]
    },
    {
     "name": "stdout",
     "output_type": "stream",
     "text": [
      "Epoch: 045, Average loss: 0.11257\n",
      "Epoch: 045, Average loss: 0.37572\n"
     ]
    },
    {
     "name": "stderr",
     "output_type": "stream",
     "text": [
      "100%|██████████| 762/762 [00:31<00:00, 24.13it/s]\n",
      "100%|██████████| 109/109 [00:01<00:00, 56.45it/s]\n"
     ]
    },
    {
     "name": "stdout",
     "output_type": "stream",
     "text": [
      "Epoch: 046, Average loss: 0.11377\n",
      "Epoch: 046, Average loss: 0.33563\n"
     ]
    },
    {
     "name": "stderr",
     "output_type": "stream",
     "text": [
      "100%|██████████| 762/762 [00:31<00:00, 23.94it/s]\n",
      "100%|██████████| 109/109 [00:02<00:00, 46.78it/s]\n"
     ]
    },
    {
     "name": "stdout",
     "output_type": "stream",
     "text": [
      "Epoch: 047, Average loss: 0.11055\n",
      "Epoch: 047, Average loss: 0.32778\n"
     ]
    },
    {
     "name": "stderr",
     "output_type": "stream",
     "text": [
      "100%|██████████| 762/762 [00:31<00:00, 23.98it/s]\n",
      "100%|██████████| 109/109 [00:02<00:00, 48.74it/s]\n"
     ]
    },
    {
     "name": "stdout",
     "output_type": "stream",
     "text": [
      "Epoch: 048, Average loss: 0.11562\n",
      "Epoch: 048, Average loss: 0.32984\n"
     ]
    },
    {
     "name": "stderr",
     "output_type": "stream",
     "text": [
      "100%|██████████| 762/762 [00:31<00:00, 24.04it/s]\n",
      "100%|██████████| 109/109 [00:02<00:00, 45.57it/s]\n"
     ]
    },
    {
     "name": "stdout",
     "output_type": "stream",
     "text": [
      "Epoch: 049, Average loss: 0.11291\n",
      "Epoch: 049, Average loss: 0.37225\n"
     ]
    },
    {
     "name": "stderr",
     "output_type": "stream",
     "text": [
      "100%|██████████| 762/762 [00:31<00:00, 23.99it/s]\n",
      "100%|██████████| 109/109 [00:02<00:00, 49.99it/s]\n"
     ]
    },
    {
     "name": "stdout",
     "output_type": "stream",
     "text": [
      "Epoch: 050, Average loss: 0.10835\n",
      "Epoch: 050, Average loss: 0.33905\n"
     ]
    },
    {
     "name": "stderr",
     "output_type": "stream",
     "text": [
      "100%|██████████| 762/762 [00:31<00:00, 24.02it/s]\n",
      "100%|██████████| 109/109 [00:02<00:00, 49.17it/s]\n"
     ]
    },
    {
     "name": "stdout",
     "output_type": "stream",
     "text": [
      "Epoch: 051, Average loss: 0.11510\n",
      "Epoch: 051, Average loss: 0.37798\n"
     ]
    },
    {
     "name": "stderr",
     "output_type": "stream",
     "text": [
      "100%|██████████| 762/762 [00:31<00:00, 24.09it/s]\n",
      "100%|██████████| 109/109 [00:02<00:00, 47.87it/s]\n"
     ]
    },
    {
     "name": "stdout",
     "output_type": "stream",
     "text": [
      "Epoch: 052, Average loss: 0.11306\n",
      "Epoch: 052, Average loss: 0.36955\n"
     ]
    },
    {
     "name": "stderr",
     "output_type": "stream",
     "text": [
      " 62%|██████▏   | 475/762 [00:19<00:11, 25.56it/s]IOPub message rate exceeded.\n",
      "The notebook server will temporarily stop sending output\n",
      "to the client in order to avoid crashing it.\n",
      "To change this limit, set the config variable\n",
      "`--NotebookApp.iopub_msg_rate_limit`.\n",
      "\n",
      "Current values:\n",
      "NotebookApp.iopub_msg_rate_limit=1000.0 (msgs/sec)\n",
      "NotebookApp.rate_limit_window=3.0 (secs)\n",
      "\n",
      "100%|██████████| 762/762 [00:31<00:00, 24.31it/s]\n",
      "100%|██████████| 109/109 [00:02<00:00, 47.14it/s]\n"
     ]
    },
    {
     "name": "stdout",
     "output_type": "stream",
     "text": [
      "Epoch: 073, Average loss: 0.10735\n",
      "Epoch: 073, Average loss: 0.32992\n"
     ]
    },
    {
     "name": "stderr",
     "output_type": "stream",
     "text": [
      "100%|██████████| 762/762 [00:31<00:00, 24.16it/s]\n",
      "100%|██████████| 109/109 [00:02<00:00, 47.76it/s]\n"
     ]
    },
    {
     "name": "stdout",
     "output_type": "stream",
     "text": [
      "Epoch: 074, Average loss: 0.11073\n",
      "Epoch: 074, Average loss: 0.36629\n"
     ]
    },
    {
     "name": "stderr",
     "output_type": "stream",
     "text": [
      "100%|██████████| 762/762 [00:31<00:00, 24.24it/s]\n",
      "100%|██████████| 109/109 [00:02<00:00, 49.28it/s]\n"
     ]
    },
    {
     "name": "stdout",
     "output_type": "stream",
     "text": [
      "Epoch: 075, Average loss: 0.11355\n",
      "Epoch: 075, Average loss: 0.37473\n"
     ]
    },
    {
     "name": "stderr",
     "output_type": "stream",
     "text": [
      "100%|██████████| 762/762 [00:31<00:00, 24.13it/s]\n",
      "100%|██████████| 109/109 [00:02<00:00, 46.53it/s]\n"
     ]
    },
    {
     "name": "stdout",
     "output_type": "stream",
     "text": [
      "Epoch: 076, Average loss: 0.11477\n",
      "Epoch: 076, Average loss: 0.33919\n"
     ]
    },
    {
     "name": "stderr",
     "output_type": "stream",
     "text": [
      "100%|██████████| 762/762 [00:26<00:00, 28.44it/s]\n",
      "100%|██████████| 109/109 [00:01<00:00, 65.25it/s]\n"
     ]
    },
    {
     "name": "stdout",
     "output_type": "stream",
     "text": [
      "Epoch: 077, Average loss: 0.11157\n",
      "Epoch: 077, Average loss: 0.37336\n"
     ]
    },
    {
     "name": "stderr",
     "output_type": "stream",
     "text": [
      "100%|██████████| 762/762 [00:26<00:00, 28.96it/s]\n",
      "100%|██████████| 109/109 [00:02<00:00, 45.66it/s]\n"
     ]
    },
    {
     "name": "stdout",
     "output_type": "stream",
     "text": [
      "Epoch: 078, Average loss: 0.11121\n",
      "Epoch: 078, Average loss: 0.37025\n"
     ]
    },
    {
     "name": "stderr",
     "output_type": "stream",
     "text": [
      "100%|██████████| 762/762 [00:31<00:00, 24.18it/s]\n",
      "100%|██████████| 109/109 [00:02<00:00, 45.17it/s]\n"
     ]
    },
    {
     "name": "stdout",
     "output_type": "stream",
     "text": [
      "Epoch: 079, Average loss: 0.11091\n",
      "Epoch: 079, Average loss: 0.36836\n"
     ]
    },
    {
     "name": "stderr",
     "output_type": "stream",
     "text": [
      "100%|██████████| 762/762 [00:31<00:00, 23.94it/s]\n",
      "100%|██████████| 109/109 [00:02<00:00, 48.64it/s]\n"
     ]
    },
    {
     "name": "stdout",
     "output_type": "stream",
     "text": [
      "Epoch: 080, Average loss: 0.11228\n",
      "Epoch: 080, Average loss: 0.35628\n"
     ]
    },
    {
     "name": "stderr",
     "output_type": "stream",
     "text": [
      "100%|██████████| 762/762 [00:31<00:00, 24.02it/s]\n",
      "100%|██████████| 109/109 [00:02<00:00, 43.82it/s]\n"
     ]
    },
    {
     "name": "stdout",
     "output_type": "stream",
     "text": [
      "Epoch: 081, Average loss: 0.10978\n",
      "Epoch: 081, Average loss: 0.36885\n"
     ]
    },
    {
     "name": "stderr",
     "output_type": "stream",
     "text": [
      "100%|██████████| 762/762 [00:31<00:00, 24.07it/s]\n",
      "100%|██████████| 109/109 [00:02<00:00, 50.04it/s]\n"
     ]
    },
    {
     "name": "stdout",
     "output_type": "stream",
     "text": [
      "Epoch: 082, Average loss: 0.10905\n",
      "Epoch: 082, Average loss: 0.34433\n"
     ]
    },
    {
     "name": "stderr",
     "output_type": "stream",
     "text": [
      "100%|██████████| 762/762 [00:31<00:00, 24.18it/s]\n",
      "100%|██████████| 109/109 [00:02<00:00, 43.12it/s]\n"
     ]
    },
    {
     "name": "stdout",
     "output_type": "stream",
     "text": [
      "Epoch: 083, Average loss: 0.10737\n",
      "Epoch: 083, Average loss: 0.36677\n"
     ]
    },
    {
     "name": "stderr",
     "output_type": "stream",
     "text": [
      "100%|██████████| 762/762 [00:31<00:00, 24.06it/s]\n",
      "100%|██████████| 109/109 [00:02<00:00, 49.46it/s]\n"
     ]
    },
    {
     "name": "stdout",
     "output_type": "stream",
     "text": [
      "Epoch: 084, Average loss: 0.10833\n",
      "Epoch: 084, Average loss: 0.32755\n"
     ]
    },
    {
     "name": "stderr",
     "output_type": "stream",
     "text": [
      "100%|██████████| 762/762 [00:31<00:00, 24.09it/s]\n",
      "  0%|          | 0/109 [00:00<?, ?it/s]IOPub message rate exceeded.\n",
      "The notebook server will temporarily stop sending output\n",
      "to the client in order to avoid crashing it.\n",
      "To change this limit, set the config variable\n",
      "`--NotebookApp.iopub_msg_rate_limit`.\n",
      "\n",
      "Current values:\n",
      "NotebookApp.iopub_msg_rate_limit=1000.0 (msgs/sec)\n",
      "NotebookApp.rate_limit_window=3.0 (secs)\n",
      "\n",
      "100%|██████████| 762/762 [00:31<00:00, 24.05it/s]\n",
      "100%|██████████| 109/109 [00:02<00:00, 45.90it/s]\n"
     ]
    },
    {
     "name": "stdout",
     "output_type": "stream",
     "text": [
      "Epoch: 005, Average loss: 0.04827\n",
      "Epoch: 005, Average loss: 0.12258\n"
     ]
    },
    {
     "name": "stderr",
     "output_type": "stream",
     "text": [
      "100%|██████████| 762/762 [00:31<00:00, 24.04it/s]\n",
      "100%|██████████| 109/109 [00:02<00:00, 44.79it/s]\n"
     ]
    },
    {
     "name": "stdout",
     "output_type": "stream",
     "text": [
      "Epoch: 006, Average loss: 0.04683\n",
      "Epoch: 006, Average loss: 0.10531\n"
     ]
    },
    {
     "name": "stderr",
     "output_type": "stream",
     "text": [
      "100%|██████████| 762/762 [00:31<00:00, 24.38it/s]\n",
      "100%|██████████| 109/109 [00:02<00:00, 49.71it/s]\n"
     ]
    },
    {
     "name": "stdout",
     "output_type": "stream",
     "text": [
      "Epoch: 007, Average loss: 0.04164\n",
      "Epoch: 007, Average loss: 0.18110\n"
     ]
    },
    {
     "name": "stderr",
     "output_type": "stream",
     "text": [
      "100%|██████████| 762/762 [00:31<00:00, 23.98it/s]\n",
      "100%|██████████| 109/109 [00:02<00:00, 46.81it/s]\n"
     ]
    },
    {
     "name": "stdout",
     "output_type": "stream",
     "text": [
      "Epoch: 008, Average loss: 0.03578\n",
      "Epoch: 008, Average loss: 0.29228\n"
     ]
    },
    {
     "name": "stderr",
     "output_type": "stream",
     "text": [
      "100%|██████████| 762/762 [00:31<00:00, 24.03it/s]\n",
      "100%|██████████| 109/109 [00:02<00:00, 47.31it/s]\n"
     ]
    },
    {
     "name": "stdout",
     "output_type": "stream",
     "text": [
      "Epoch: 009, Average loss: 0.03663\n",
      "Epoch: 009, Average loss: 0.14317\n"
     ]
    },
    {
     "name": "stderr",
     "output_type": "stream",
     "text": [
      "100%|██████████| 762/762 [00:31<00:00, 24.32it/s]\n",
      "100%|██████████| 109/109 [00:02<00:00, 50.02it/s]\n"
     ]
    },
    {
     "name": "stdout",
     "output_type": "stream",
     "text": [
      "Epoch: 010, Average loss: 0.03355\n",
      "Epoch: 010, Average loss: 0.08910\n"
     ]
    },
    {
     "name": "stderr",
     "output_type": "stream",
     "text": [
      "100%|██████████| 762/762 [00:31<00:00, 24.07it/s]\n",
      "100%|██████████| 109/109 [00:02<00:00, 49.19it/s]\n"
     ]
    },
    {
     "name": "stdout",
     "output_type": "stream",
     "text": [
      "Epoch: 011, Average loss: 572.30415\n",
      "Epoch: 011, Average loss: 5.19365\n"
     ]
    },
    {
     "name": "stderr",
     "output_type": "stream",
     "text": [
      "100%|██████████| 762/762 [00:31<00:00, 23.87it/s]\n",
      "100%|██████████| 109/109 [00:02<00:00, 49.79it/s]\n"
     ]
    },
    {
     "name": "stdout",
     "output_type": "stream",
     "text": [
      "Epoch: 012, Average loss: 0.51665\n",
      "Epoch: 012, Average loss: 0.49793\n"
     ]
    },
    {
     "name": "stderr",
     "output_type": "stream",
     "text": [
      "100%|██████████| 762/762 [00:31<00:00, 23.97it/s]\n",
      "100%|██████████| 109/109 [00:02<00:00, 43.76it/s]\n"
     ]
    },
    {
     "name": "stdout",
     "output_type": "stream",
     "text": [
      "Epoch: 013, Average loss: 0.30034\n",
      "Epoch: 013, Average loss: 0.34889\n"
     ]
    },
    {
     "name": "stderr",
     "output_type": "stream",
     "text": [
      "100%|██████████| 762/762 [00:31<00:00, 24.04it/s]\n",
      "100%|██████████| 109/109 [00:02<00:00, 48.47it/s]\n"
     ]
    },
    {
     "name": "stdout",
     "output_type": "stream",
     "text": [
      "Epoch: 014, Average loss: 0.16901\n",
      "Epoch: 014, Average loss: 0.33404\n"
     ]
    },
    {
     "name": "stderr",
     "output_type": "stream",
     "text": [
      "100%|██████████| 762/762 [00:31<00:00, 23.96it/s]\n",
      "100%|██████████| 109/109 [00:02<00:00, 48.27it/s]\n"
     ]
    },
    {
     "name": "stdout",
     "output_type": "stream",
     "text": [
      "Epoch: 015, Average loss: 0.12312\n",
      "Epoch: 015, Average loss: 0.28097\n"
     ]
    },
    {
     "name": "stderr",
     "output_type": "stream",
     "text": [
      "100%|██████████| 762/762 [00:31<00:00, 23.88it/s]\n",
      "100%|██████████| 109/109 [00:02<00:00, 46.16it/s]\n"
     ]
    },
    {
     "name": "stdout",
     "output_type": "stream",
     "text": [
      "Epoch: 016, Average loss: 0.15766\n",
      "Epoch: 016, Average loss: 0.34651\n"
     ]
    },
    {
     "name": "stderr",
     "output_type": "stream",
     "text": [
      " 86%|████████▌ | 654/762 [00:27<00:05, 21.55it/s]IOPub message rate exceeded.\n",
      "The notebook server will temporarily stop sending output\n",
      "to the client in order to avoid crashing it.\n",
      "To change this limit, set the config variable\n",
      "`--NotebookApp.iopub_msg_rate_limit`.\n",
      "\n",
      "Current values:\n",
      "NotebookApp.iopub_msg_rate_limit=1000.0 (msgs/sec)\n",
      "NotebookApp.rate_limit_window=3.0 (secs)\n",
      "\n",
      "100%|██████████| 762/762 [00:31<00:00, 24.18it/s]\n",
      "100%|██████████| 109/109 [00:02<00:00, 49.31it/s]\n"
     ]
    },
    {
     "name": "stdout",
     "output_type": "stream",
     "text": [
      "Epoch: 037, Average loss: 0.11049\n",
      "Epoch: 037, Average loss: 0.30368\n"
     ]
    },
    {
     "name": "stderr",
     "output_type": "stream",
     "text": [
      "100%|██████████| 762/762 [00:31<00:00, 24.11it/s]\n",
      "100%|██████████| 109/109 [00:02<00:00, 47.42it/s]\n"
     ]
    },
    {
     "name": "stdout",
     "output_type": "stream",
     "text": [
      "Epoch: 038, Average loss: 0.11241\n",
      "Epoch: 038, Average loss: 0.30368\n"
     ]
    },
    {
     "name": "stderr",
     "output_type": "stream",
     "text": [
      "100%|██████████| 762/762 [00:31<00:00, 23.97it/s]\n",
      "100%|██████████| 109/109 [00:02<00:00, 42.48it/s]\n"
     ]
    },
    {
     "name": "stdout",
     "output_type": "stream",
     "text": [
      "Epoch: 039, Average loss: 0.11138\n",
      "Epoch: 039, Average loss: 0.31398\n"
     ]
    },
    {
     "name": "stderr",
     "output_type": "stream",
     "text": [
      "100%|██████████| 762/762 [00:31<00:00, 23.90it/s]\n",
      "100%|██████████| 109/109 [00:02<00:00, 45.01it/s]\n"
     ]
    },
    {
     "name": "stdout",
     "output_type": "stream",
     "text": [
      "Epoch: 040, Average loss: 0.10687\n",
      "Epoch: 040, Average loss: 0.30942\n"
     ]
    },
    {
     "name": "stderr",
     "output_type": "stream",
     "text": [
      "100%|██████████| 762/762 [00:26<00:00, 28.58it/s]\n",
      "100%|██████████| 109/109 [00:01<00:00, 65.80it/s]\n"
     ]
    },
    {
     "name": "stdout",
     "output_type": "stream",
     "text": [
      "Epoch: 041, Average loss: 0.10502\n",
      "Epoch: 041, Average loss: 0.30368\n"
     ]
    },
    {
     "name": "stderr",
     "output_type": "stream",
     "text": [
      "100%|██████████| 762/762 [00:27<00:00, 28.09it/s]\n",
      "100%|██████████| 109/109 [00:02<00:00, 49.71it/s]\n"
     ]
    },
    {
     "name": "stdout",
     "output_type": "stream",
     "text": [
      "Epoch: 042, Average loss: 0.11242\n",
      "Epoch: 042, Average loss: 0.30368\n"
     ]
    },
    {
     "name": "stderr",
     "output_type": "stream",
     "text": [
      "100%|██████████| 762/762 [00:30<00:00, 24.62it/s]\n",
      "100%|██████████| 109/109 [00:02<00:00, 43.58it/s]\n"
     ]
    },
    {
     "name": "stdout",
     "output_type": "stream",
     "text": [
      "Epoch: 043, Average loss: 0.11045\n",
      "Epoch: 043, Average loss: 0.31483\n"
     ]
    },
    {
     "name": "stderr",
     "output_type": "stream",
     "text": [
      "100%|██████████| 762/762 [00:31<00:00, 24.00it/s]\n",
      "100%|██████████| 109/109 [00:02<00:00, 47.20it/s]\n"
     ]
    },
    {
     "name": "stdout",
     "output_type": "stream",
     "text": [
      "Epoch: 044, Average loss: 0.10553\n",
      "Epoch: 044, Average loss: 0.33399\n"
     ]
    },
    {
     "name": "stderr",
     "output_type": "stream",
     "text": [
      "100%|██████████| 762/762 [00:32<00:00, 23.63it/s]\n",
      "100%|██████████| 109/109 [00:02<00:00, 46.47it/s]\n"
     ]
    },
    {
     "name": "stdout",
     "output_type": "stream",
     "text": [
      "Epoch: 045, Average loss: 0.10248\n",
      "Epoch: 045, Average loss: 0.30942\n"
     ]
    },
    {
     "name": "stderr",
     "output_type": "stream",
     "text": [
      "100%|██████████| 762/762 [00:31<00:00, 23.88it/s]\n",
      "100%|██████████| 109/109 [00:02<00:00, 47.52it/s]\n"
     ]
    },
    {
     "name": "stdout",
     "output_type": "stream",
     "text": [
      "Epoch: 046, Average loss: 0.10984\n",
      "Epoch: 046, Average loss: 0.30380\n"
     ]
    },
    {
     "name": "stderr",
     "output_type": "stream",
     "text": [
      "100%|██████████| 762/762 [00:32<00:00, 23.80it/s]\n",
      "100%|██████████| 109/109 [00:02<00:00, 47.60it/s]\n"
     ]
    },
    {
     "name": "stdout",
     "output_type": "stream",
     "text": [
      "Epoch: 047, Average loss: 0.10804\n",
      "Epoch: 047, Average loss: 0.30380\n"
     ]
    },
    {
     "name": "stderr",
     "output_type": "stream",
     "text": [
      "100%|██████████| 762/762 [00:33<00:00, 23.07it/s]\n",
      "100%|██████████| 109/109 [00:02<00:00, 37.55it/s]\n"
     ]
    },
    {
     "name": "stdout",
     "output_type": "stream",
     "text": [
      "Epoch: 048, Average loss: 0.11234\n",
      "Epoch: 048, Average loss: 0.31930\n"
     ]
    },
    {
     "name": "stderr",
     "output_type": "stream",
     "text": [
      " 70%|███████   | 536/762 [00:24<00:09, 24.40it/s]IOPub message rate exceeded.\n",
      "The notebook server will temporarily stop sending output\n",
      "to the client in order to avoid crashing it.\n",
      "To change this limit, set the config variable\n",
      "`--NotebookApp.iopub_msg_rate_limit`.\n",
      "\n",
      "Current values:\n",
      "NotebookApp.iopub_msg_rate_limit=1000.0 (msgs/sec)\n",
      "NotebookApp.rate_limit_window=3.0 (secs)\n",
      "\n",
      "100%|██████████| 109/109 [00:02<00:00, 48.43it/s]\n"
     ]
    },
    {
     "name": "stdout",
     "output_type": "stream",
     "text": [
      "Epoch: 068, Average loss: 0.10566\n",
      "Epoch: 068, Average loss: 0.30368\n"
     ]
    },
    {
     "name": "stderr",
     "output_type": "stream",
     "text": [
      "100%|██████████| 762/762 [00:32<00:00, 23.70it/s]\n",
      "100%|██████████| 109/109 [00:02<00:00, 46.81it/s]\n"
     ]
    },
    {
     "name": "stdout",
     "output_type": "stream",
     "text": [
      "Epoch: 069, Average loss: 0.10429\n",
      "Epoch: 069, Average loss: 0.30621\n"
     ]
    },
    {
     "name": "stderr",
     "output_type": "stream",
     "text": [
      "100%|██████████| 762/762 [00:32<00:00, 23.76it/s]\n",
      "100%|██████████| 109/109 [00:02<00:00, 47.88it/s]\n"
     ]
    },
    {
     "name": "stdout",
     "output_type": "stream",
     "text": [
      "Epoch: 070, Average loss: 0.10424\n",
      "Epoch: 070, Average loss: 0.30368\n"
     ]
    },
    {
     "name": "stderr",
     "output_type": "stream",
     "text": [
      "100%|██████████| 762/762 [00:31<00:00, 23.87it/s]\n",
      "100%|██████████| 109/109 [00:02<00:00, 43.94it/s]\n"
     ]
    },
    {
     "name": "stdout",
     "output_type": "stream",
     "text": [
      "Epoch: 071, Average loss: 0.10823\n",
      "Epoch: 071, Average loss: 0.31436\n"
     ]
    },
    {
     "name": "stderr",
     "output_type": "stream",
     "text": [
      "100%|██████████| 762/762 [00:31<00:00, 23.93it/s]\n",
      "100%|██████████| 109/109 [00:02<00:00, 46.30it/s]\n"
     ]
    },
    {
     "name": "stdout",
     "output_type": "stream",
     "text": [
      "Epoch: 072, Average loss: 0.10564\n",
      "Epoch: 072, Average loss: 0.31276\n"
     ]
    },
    {
     "name": "stderr",
     "output_type": "stream",
     "text": [
      "100%|██████████| 762/762 [00:31<00:00, 23.82it/s]\n",
      "100%|██████████| 109/109 [00:02<00:00, 46.50it/s]\n"
     ]
    },
    {
     "name": "stdout",
     "output_type": "stream",
     "text": [
      "Epoch: 073, Average loss: 0.10447\n",
      "Epoch: 073, Average loss: 0.31220\n"
     ]
    },
    {
     "name": "stderr",
     "output_type": "stream",
     "text": [
      "100%|██████████| 762/762 [00:32<00:00, 23.65it/s]\n",
      "100%|██████████| 109/109 [00:02<00:00, 47.42it/s]\n"
     ]
    },
    {
     "name": "stdout",
     "output_type": "stream",
     "text": [
      "Epoch: 074, Average loss: 0.10331\n",
      "Epoch: 074, Average loss: 0.30368\n"
     ]
    },
    {
     "name": "stderr",
     "output_type": "stream",
     "text": [
      "100%|██████████| 762/762 [00:32<00:00, 23.77it/s]\n",
      "100%|██████████| 109/109 [00:02<00:00, 47.87it/s]\n"
     ]
    },
    {
     "name": "stdout",
     "output_type": "stream",
     "text": [
      "Epoch: 075, Average loss: 0.10557\n",
      "Epoch: 075, Average loss: 0.31890\n"
     ]
    },
    {
     "name": "stderr",
     "output_type": "stream",
     "text": [
      "100%|██████████| 762/762 [00:32<00:00, 23.65it/s]\n",
      "100%|██████████| 109/109 [00:02<00:00, 46.25it/s]\n"
     ]
    },
    {
     "name": "stdout",
     "output_type": "stream",
     "text": [
      "Epoch: 076, Average loss: 0.10824\n",
      "Epoch: 076, Average loss: 0.32671\n"
     ]
    },
    {
     "name": "stderr",
     "output_type": "stream",
     "text": [
      "100%|██████████| 762/762 [00:31<00:00, 23.86it/s]\n",
      "100%|██████████| 109/109 [00:02<00:00, 45.25it/s]\n"
     ]
    },
    {
     "name": "stdout",
     "output_type": "stream",
     "text": [
      "Epoch: 077, Average loss: 0.10806\n",
      "Epoch: 077, Average loss: 0.31878\n"
     ]
    },
    {
     "name": "stderr",
     "output_type": "stream",
     "text": [
      "100%|██████████| 762/762 [00:31<00:00, 23.91it/s]\n",
      "100%|██████████| 109/109 [00:02<00:00, 43.55it/s]\n"
     ]
    },
    {
     "name": "stdout",
     "output_type": "stream",
     "text": [
      "Epoch: 078, Average loss: 0.10684\n",
      "Epoch: 078, Average loss: 0.31987\n"
     ]
    },
    {
     "name": "stderr",
     "output_type": "stream",
     "text": [
      "100%|██████████| 762/762 [00:32<00:00, 23.58it/s]\n",
      "100%|██████████| 109/109 [00:02<00:00, 49.11it/s]\n"
     ]
    },
    {
     "name": "stdout",
     "output_type": "stream",
     "text": [
      "Epoch: 079, Average loss: 0.10625\n",
      "Epoch: 079, Average loss: 0.31099\n"
     ]
    },
    {
     "name": "stderr",
     "output_type": "stream",
     "text": [
      "100%|██████████| 762/762 [00:32<00:00, 23.69it/s]\n",
      "100%|██████████| 109/109 [00:02<00:00, 48.85it/s]\n"
     ]
    },
    {
     "name": "stdout",
     "output_type": "stream",
     "text": [
      "Epoch: 080, Average loss: 0.11482\n",
      "Epoch: 080, Average loss: 0.30940\n"
     ]
    },
    {
     "name": "stderr",
     "output_type": "stream",
     "text": [
      " 10%|▉         | 76/762 [00:03<00:30, 22.84it/s]IOPub message rate exceeded.\n",
      "The notebook server will temporarily stop sending output\n",
      "to the client in order to avoid crashing it.\n",
      "To change this limit, set the config variable\n",
      "`--NotebookApp.iopub_msg_rate_limit`.\n",
      "\n",
      "Current values:\n",
      "NotebookApp.iopub_msg_rate_limit=1000.0 (msgs/sec)\n",
      "NotebookApp.rate_limit_window=3.0 (secs)\n",
      "\n",
      "100%|█████████▉| 759/762 [00:32<00:00, 22.08it/s]/miniconda/envs/crystalvae/lib/python3.6/site-packages/torch/nn/modules/loss.py:96: UserWarning:\n",
      "\n",
      "Using a target size (torch.Size([1])) that is different to the input size (torch.Size([1, 1])). This will likely lead to incorrect results due to broadcasting. Please ensure they have the same size.\n",
      "\n",
      "100%|██████████| 762/762 [00:32<00:00, 23.53it/s]\n",
      " 96%|█████████▋| 105/109 [00:02<00:00, 48.94it/s]/miniconda/envs/crystalvae/lib/python3.6/site-packages/torch/nn/modules/loss.py:96: UserWarning:\n",
      "\n",
      "Using a target size (torch.Size([3])) that is different to the input size (torch.Size([3, 1])). This will likely lead to incorrect results due to broadcasting. Please ensure they have the same size.\n",
      "\n",
      "100%|██████████| 109/109 [00:02<00:00, 48.83it/s]\n"
     ]
    },
    {
     "name": "stdout",
     "output_type": "stream",
     "text": [
      "Epoch: 000, Average loss: 0.35749\n",
      "Epoch: 000, Average loss: 0.68610\n"
     ]
    },
    {
     "name": "stderr",
     "output_type": "stream",
     "text": [
      "100%|██████████| 762/762 [00:32<00:00, 23.49it/s]\n",
      "100%|██████████| 109/109 [00:02<00:00, 47.51it/s]\n"
     ]
    },
    {
     "name": "stdout",
     "output_type": "stream",
     "text": [
      "Epoch: 001, Average loss: 0.16099\n",
      "Epoch: 001, Average loss: 0.30857\n"
     ]
    },
    {
     "name": "stderr",
     "output_type": "stream",
     "text": [
      "100%|██████████| 762/762 [00:32<00:00, 23.52it/s]\n",
      "100%|██████████| 109/109 [00:02<00:00, 43.71it/s]\n"
     ]
    },
    {
     "name": "stdout",
     "output_type": "stream",
     "text": [
      "Epoch: 002, Average loss: 0.10458\n",
      "Epoch: 002, Average loss: 0.25907\n"
     ]
    },
    {
     "name": "stderr",
     "output_type": "stream",
     "text": [
      "100%|██████████| 762/762 [00:27<00:00, 27.79it/s]\n",
      "100%|██████████| 109/109 [00:01<00:00, 68.72it/s]\n"
     ]
    },
    {
     "name": "stdout",
     "output_type": "stream",
     "text": [
      "Epoch: 003, Average loss: 0.11786\n",
      "Epoch: 003, Average loss: 0.10373\n"
     ]
    },
    {
     "name": "stderr",
     "output_type": "stream",
     "text": [
      "100%|██████████| 762/762 [00:28<00:00, 26.64it/s]\n",
      "100%|██████████| 109/109 [00:02<00:00, 47.08it/s]\n"
     ]
    },
    {
     "name": "stdout",
     "output_type": "stream",
     "text": [
      "Epoch: 004, Average loss: 0.08672\n",
      "Epoch: 004, Average loss: 0.26308\n"
     ]
    },
    {
     "name": "stderr",
     "output_type": "stream",
     "text": [
      "100%|██████████| 762/762 [00:32<00:00, 23.11it/s]\n",
      "100%|██████████| 109/109 [00:02<00:00, 44.16it/s]\n"
     ]
    },
    {
     "name": "stdout",
     "output_type": "stream",
     "text": [
      "Epoch: 005, Average loss: 0.06738\n",
      "Epoch: 005, Average loss: 0.20685\n"
     ]
    },
    {
     "name": "stderr",
     "output_type": "stream",
     "text": [
      "100%|██████████| 762/762 [00:32<00:00, 23.81it/s]\n",
      "100%|██████████| 109/109 [00:02<00:00, 48.18it/s]\n"
     ]
    },
    {
     "name": "stdout",
     "output_type": "stream",
     "text": [
      "Epoch: 006, Average loss: 0.06805\n",
      "Epoch: 006, Average loss: 0.17360\n"
     ]
    },
    {
     "name": "stderr",
     "output_type": "stream",
     "text": [
      "100%|██████████| 762/762 [00:32<00:00, 23.50it/s]\n",
      "100%|██████████| 109/109 [00:02<00:00, 43.76it/s]\n"
     ]
    },
    {
     "name": "stdout",
     "output_type": "stream",
     "text": [
      "Epoch: 007, Average loss: 0.07780\n",
      "Epoch: 007, Average loss: 0.13118\n"
     ]
    },
    {
     "name": "stderr",
     "output_type": "stream",
     "text": [
      "100%|██████████| 762/762 [00:32<00:00, 23.71it/s]\n",
      "100%|██████████| 109/109 [00:02<00:00, 48.19it/s]\n"
     ]
    },
    {
     "name": "stdout",
     "output_type": "stream",
     "text": [
      "Epoch: 008, Average loss: 0.05941\n",
      "Epoch: 008, Average loss: 0.35054\n"
     ]
    },
    {
     "name": "stderr",
     "output_type": "stream",
     "text": [
      "100%|██████████| 762/762 [00:32<00:00, 23.41it/s]\n",
      "100%|██████████| 109/109 [00:02<00:00, 48.88it/s]\n"
     ]
    },
    {
     "name": "stdout",
     "output_type": "stream",
     "text": [
      "Epoch: 009, Average loss: 0.05695\n",
      "Epoch: 009, Average loss: 0.09533\n"
     ]
    },
    {
     "name": "stderr",
     "output_type": "stream",
     "text": [
      "100%|██████████| 762/762 [00:32<00:00, 23.40it/s]\n",
      "100%|██████████| 109/109 [00:02<00:00, 49.30it/s]\n"
     ]
    },
    {
     "name": "stdout",
     "output_type": "stream",
     "text": [
      "Epoch: 010, Average loss: 0.06506\n",
      "Epoch: 010, Average loss: 0.12578\n"
     ]
    },
    {
     "name": "stderr",
     "output_type": "stream",
     "text": [
      "100%|██████████| 762/762 [00:32<00:00, 23.61it/s]\n",
      "100%|██████████| 109/109 [00:02<00:00, 47.05it/s]\n"
     ]
    },
    {
     "name": "stdout",
     "output_type": "stream",
     "text": [
      "Epoch: 011, Average loss: 0.05056\n",
      "Epoch: 011, Average loss: 0.10020\n"
     ]
    },
    {
     "name": "stderr",
     "output_type": "stream",
     "text": [
      " 92%|█████████▏| 703/762 [00:29<00:02, 25.83it/s]IOPub message rate exceeded.\n",
      "The notebook server will temporarily stop sending output\n",
      "to the client in order to avoid crashing it.\n",
      "To change this limit, set the config variable\n",
      "`--NotebookApp.iopub_msg_rate_limit`.\n",
      "\n",
      "Current values:\n",
      "NotebookApp.iopub_msg_rate_limit=1000.0 (msgs/sec)\n",
      "NotebookApp.rate_limit_window=3.0 (secs)\n",
      "\n",
      "100%|██████████| 762/762 [00:31<00:00, 23.85it/s]\n",
      "100%|██████████| 109/109 [00:02<00:00, 47.43it/s]\n"
     ]
    },
    {
     "name": "stdout",
     "output_type": "stream",
     "text": [
      "Epoch: 032, Average loss: 0.03176\n",
      "Epoch: 032, Average loss: 0.14064\n"
     ]
    },
    {
     "name": "stderr",
     "output_type": "stream",
     "text": [
      "100%|██████████| 762/762 [00:32<00:00, 23.77it/s]\n",
      "100%|██████████| 109/109 [00:02<00:00, 48.18it/s]\n"
     ]
    },
    {
     "name": "stdout",
     "output_type": "stream",
     "text": [
      "Epoch: 033, Average loss: 1082.23499\n",
      "Epoch: 033, Average loss: 0.50125\n"
     ]
    },
    {
     "name": "stderr",
     "output_type": "stream",
     "text": [
      "100%|██████████| 762/762 [00:31<00:00, 23.94it/s]\n",
      "100%|██████████| 109/109 [00:02<00:00, 48.11it/s]\n"
     ]
    },
    {
     "name": "stdout",
     "output_type": "stream",
     "text": [
      "Epoch: 034, Average loss: 0.20582\n",
      "Epoch: 034, Average loss: 0.69599\n"
     ]
    },
    {
     "name": "stderr",
     "output_type": "stream",
     "text": [
      "100%|██████████| 762/762 [00:32<00:00, 23.61it/s]\n",
      "100%|██████████| 109/109 [00:02<00:00, 49.18it/s]\n"
     ]
    },
    {
     "name": "stdout",
     "output_type": "stream",
     "text": [
      "Epoch: 035, Average loss: 0.12854\n",
      "Epoch: 035, Average loss: 0.15496\n"
     ]
    },
    {
     "name": "stderr",
     "output_type": "stream",
     "text": [
      "100%|██████████| 762/762 [00:32<00:00, 23.44it/s]\n",
      "100%|██████████| 109/109 [00:02<00:00, 48.79it/s]\n"
     ]
    },
    {
     "name": "stdout",
     "output_type": "stream",
     "text": [
      "Epoch: 036, Average loss: 0.06809\n",
      "Epoch: 036, Average loss: 0.25144\n"
     ]
    },
    {
     "name": "stderr",
     "output_type": "stream",
     "text": [
      "100%|██████████| 762/762 [00:32<00:00, 23.81it/s]\n",
      "100%|██████████| 109/109 [00:02<00:00, 43.14it/s]\n"
     ]
    },
    {
     "name": "stdout",
     "output_type": "stream",
     "text": [
      "Epoch: 037, Average loss: 0.06801\n",
      "Epoch: 037, Average loss: 0.11350\n"
     ]
    },
    {
     "name": "stderr",
     "output_type": "stream",
     "text": [
      "100%|██████████| 762/762 [00:31<00:00, 23.83it/s]\n",
      "100%|██████████| 109/109 [00:02<00:00, 49.32it/s]\n"
     ]
    },
    {
     "name": "stdout",
     "output_type": "stream",
     "text": [
      "Epoch: 038, Average loss: 0.05411\n",
      "Epoch: 038, Average loss: 0.18417\n"
     ]
    },
    {
     "name": "stderr",
     "output_type": "stream",
     "text": [
      "100%|██████████| 762/762 [00:32<00:00, 23.77it/s]\n",
      "100%|██████████| 109/109 [00:02<00:00, 47.25it/s]\n"
     ]
    },
    {
     "name": "stdout",
     "output_type": "stream",
     "text": [
      "Epoch: 039, Average loss: 0.04599\n",
      "Epoch: 039, Average loss: 0.09109\n"
     ]
    },
    {
     "name": "stderr",
     "output_type": "stream",
     "text": [
      "100%|██████████| 762/762 [00:32<00:00, 23.50it/s]\n",
      "100%|██████████| 109/109 [00:02<00:00, 48.62it/s]\n"
     ]
    },
    {
     "name": "stdout",
     "output_type": "stream",
     "text": [
      "Epoch: 040, Average loss: 0.06294\n",
      "Epoch: 040, Average loss: 0.13198\n"
     ]
    },
    {
     "name": "stderr",
     "output_type": "stream",
     "text": [
      "100%|██████████| 762/762 [00:32<00:00, 23.56it/s]\n",
      "100%|██████████| 109/109 [00:02<00:00, 44.51it/s]\n"
     ]
    },
    {
     "name": "stdout",
     "output_type": "stream",
     "text": [
      "Epoch: 041, Average loss: 0.07062\n",
      "Epoch: 041, Average loss: 0.30993\n"
     ]
    },
    {
     "name": "stderr",
     "output_type": "stream",
     "text": [
      "100%|██████████| 762/762 [00:32<00:00, 23.61it/s]\n",
      "100%|██████████| 109/109 [00:02<00:00, 48.01it/s]\n"
     ]
    },
    {
     "name": "stdout",
     "output_type": "stream",
     "text": [
      "Epoch: 042, Average loss: 0.04870\n",
      "Epoch: 042, Average loss: 0.15540\n"
     ]
    },
    {
     "name": "stderr",
     "output_type": "stream",
     "text": [
      "100%|██████████| 762/762 [00:32<00:00, 23.55it/s]\n",
      "100%|██████████| 109/109 [00:02<00:00, 46.48it/s]\n"
     ]
    },
    {
     "name": "stdout",
     "output_type": "stream",
     "text": [
      "Epoch: 043, Average loss: 0.03920\n",
      "Epoch: 043, Average loss: 0.07530\n"
     ]
    },
    {
     "name": "stderr",
     "output_type": "stream",
     "text": [
      " 49%|████▉     | 377/762 [00:16<00:17, 21.65it/s]IOPub message rate exceeded.\n",
      "The notebook server will temporarily stop sending output\n",
      "to the client in order to avoid crashing it.\n",
      "To change this limit, set the config variable\n",
      "`--NotebookApp.iopub_msg_rate_limit`.\n",
      "\n",
      "Current values:\n",
      "NotebookApp.iopub_msg_rate_limit=1000.0 (msgs/sec)\n",
      "NotebookApp.rate_limit_window=3.0 (secs)\n",
      "\n",
      "100%|██████████| 762/762 [00:32<00:00, 23.70it/s]\n",
      "100%|██████████| 109/109 [00:02<00:00, 45.09it/s]\n"
     ]
    },
    {
     "name": "stdout",
     "output_type": "stream",
     "text": [
      "Epoch: 063, Average loss: 0.11568\n",
      "Epoch: 063, Average loss: 0.29158\n"
     ]
    },
    {
     "name": "stderr",
     "output_type": "stream",
     "text": [
      "100%|██████████| 762/762 [00:31<00:00, 23.83it/s]\n",
      "100%|██████████| 109/109 [00:02<00:00, 48.99it/s]\n"
     ]
    },
    {
     "name": "stdout",
     "output_type": "stream",
     "text": [
      "Epoch: 064, Average loss: 0.11768\n",
      "Epoch: 064, Average loss: 0.29552\n"
     ]
    },
    {
     "name": "stderr",
     "output_type": "stream",
     "text": [
      "100%|██████████| 762/762 [00:32<00:00, 23.65it/s]\n",
      "100%|██████████| 109/109 [00:02<00:00, 48.27it/s]\n"
     ]
    },
    {
     "name": "stdout",
     "output_type": "stream",
     "text": [
      "Epoch: 065, Average loss: 0.11640\n",
      "Epoch: 065, Average loss: 0.29541\n"
     ]
    },
    {
     "name": "stderr",
     "output_type": "stream",
     "text": [
      "100%|██████████| 762/762 [00:27<00:00, 27.56it/s]\n",
      "100%|██████████| 109/109 [00:01<00:00, 62.60it/s]\n"
     ]
    },
    {
     "name": "stdout",
     "output_type": "stream",
     "text": [
      "Epoch: 066, Average loss: 0.11102\n",
      "Epoch: 066, Average loss: 0.29319\n"
     ]
    },
    {
     "name": "stderr",
     "output_type": "stream",
     "text": [
      "100%|██████████| 762/762 [00:29<00:00, 26.14it/s]\n",
      "100%|██████████| 109/109 [00:02<00:00, 44.09it/s]\n"
     ]
    },
    {
     "name": "stdout",
     "output_type": "stream",
     "text": [
      "Epoch: 067, Average loss: 0.11319\n",
      "Epoch: 067, Average loss: 0.29493\n"
     ]
    },
    {
     "name": "stderr",
     "output_type": "stream",
     "text": [
      "100%|██████████| 762/762 [00:32<00:00, 23.09it/s]\n",
      "100%|██████████| 109/109 [00:02<00:00, 48.36it/s]\n"
     ]
    },
    {
     "name": "stdout",
     "output_type": "stream",
     "text": [
      "Epoch: 068, Average loss: 0.10844\n",
      "Epoch: 068, Average loss: 0.29197\n"
     ]
    },
    {
     "name": "stderr",
     "output_type": "stream",
     "text": [
      "100%|██████████| 762/762 [00:32<00:00, 23.34it/s]\n",
      "100%|██████████| 109/109 [00:02<00:00, 43.22it/s]\n"
     ]
    },
    {
     "name": "stdout",
     "output_type": "stream",
     "text": [
      "Epoch: 069, Average loss: 0.11047\n",
      "Epoch: 069, Average loss: 0.29517\n"
     ]
    },
    {
     "name": "stderr",
     "output_type": "stream",
     "text": [
      "100%|██████████| 762/762 [00:32<00:00, 23.66it/s]\n",
      "100%|██████████| 109/109 [00:02<00:00, 45.38it/s]\n"
     ]
    },
    {
     "name": "stdout",
     "output_type": "stream",
     "text": [
      "Epoch: 070, Average loss: 0.11097\n",
      "Epoch: 070, Average loss: 0.29514\n"
     ]
    },
    {
     "name": "stderr",
     "output_type": "stream",
     "text": [
      "100%|██████████| 762/762 [00:32<00:00, 23.50it/s]\n",
      "100%|██████████| 109/109 [00:02<00:00, 44.60it/s]\n"
     ]
    },
    {
     "name": "stdout",
     "output_type": "stream",
     "text": [
      "Epoch: 071, Average loss: 0.11171\n",
      "Epoch: 071, Average loss: 0.29177\n"
     ]
    },
    {
     "name": "stderr",
     "output_type": "stream",
     "text": [
      "100%|██████████| 762/762 [00:32<00:00, 23.48it/s]\n",
      "100%|██████████| 109/109 [00:02<00:00, 49.17it/s]\n"
     ]
    },
    {
     "name": "stdout",
     "output_type": "stream",
     "text": [
      "Epoch: 072, Average loss: 0.11176\n",
      "Epoch: 072, Average loss: 0.29381\n"
     ]
    },
    {
     "name": "stderr",
     "output_type": "stream",
     "text": [
      "100%|██████████| 762/762 [00:32<00:00, 23.44it/s]\n",
      "100%|██████████| 109/109 [00:02<00:00, 43.43it/s]\n"
     ]
    },
    {
     "name": "stdout",
     "output_type": "stream",
     "text": [
      "Epoch: 073, Average loss: 0.10899\n",
      "Epoch: 073, Average loss: 0.29364\n"
     ]
    },
    {
     "name": "stderr",
     "output_type": "stream",
     "text": [
      "100%|██████████| 762/762 [00:32<00:00, 23.51it/s]\n",
      "100%|██████████| 109/109 [00:02<00:00, 46.93it/s]\n"
     ]
    },
    {
     "name": "stdout",
     "output_type": "stream",
     "text": [
      "Epoch: 074, Average loss: 0.11604\n",
      "Epoch: 074, Average loss: 0.29672\n"
     ]
    },
    {
     "name": "stderr",
     "output_type": "stream",
     "text": [
      " 48%|████▊     | 366/762 [00:15<00:15, 25.15it/s]IOPub message rate exceeded.\n",
      "The notebook server will temporarily stop sending output\n",
      "to the client in order to avoid crashing it.\n",
      "To change this limit, set the config variable\n",
      "`--NotebookApp.iopub_msg_rate_limit`.\n",
      "\n",
      "Current values:\n",
      "NotebookApp.iopub_msg_rate_limit=1000.0 (msgs/sec)\n",
      "NotebookApp.rate_limit_window=3.0 (secs)\n",
      "\n",
      "100%|██████████| 762/762 [00:32<00:00, 23.75it/s]\n",
      "100%|██████████| 109/109 [00:02<00:00, 49.16it/s]\n"
     ]
    },
    {
     "name": "stdout",
     "output_type": "stream",
     "text": [
      "Epoch: 094, Average loss: 0.11209\n",
      "Epoch: 094, Average loss: 0.29239\n"
     ]
    },
    {
     "name": "stderr",
     "output_type": "stream",
     "text": [
      "100%|██████████| 762/762 [00:32<00:00, 23.68it/s]\n",
      "100%|██████████| 109/109 [00:02<00:00, 43.67it/s]\n"
     ]
    },
    {
     "name": "stdout",
     "output_type": "stream",
     "text": [
      "Epoch: 095, Average loss: 0.10939\n",
      "Epoch: 095, Average loss: 0.29251\n"
     ]
    },
    {
     "name": "stderr",
     "output_type": "stream",
     "text": [
      "100%|██████████| 762/762 [00:31<00:00, 23.96it/s]\n",
      "100%|██████████| 109/109 [00:02<00:00, 46.22it/s]\n"
     ]
    },
    {
     "name": "stdout",
     "output_type": "stream",
     "text": [
      "Epoch: 096, Average loss: 0.11206\n",
      "Epoch: 096, Average loss: 0.29255\n"
     ]
    },
    {
     "name": "stderr",
     "output_type": "stream",
     "text": [
      "100%|██████████| 762/762 [00:32<00:00, 23.74it/s]\n",
      "100%|██████████| 109/109 [00:02<00:00, 46.50it/s]\n"
     ]
    },
    {
     "name": "stdout",
     "output_type": "stream",
     "text": [
      "Epoch: 097, Average loss: 0.10905\n",
      "Epoch: 097, Average loss: 0.29270\n"
     ]
    },
    {
     "name": "stderr",
     "output_type": "stream",
     "text": [
      "100%|██████████| 762/762 [00:32<00:00, 23.75it/s]\n",
      "100%|██████████| 109/109 [00:02<00:00, 47.08it/s]\n"
     ]
    },
    {
     "name": "stdout",
     "output_type": "stream",
     "text": [
      "Epoch: 098, Average loss: 0.10887\n",
      "Epoch: 098, Average loss: 0.29109\n"
     ]
    },
    {
     "name": "stderr",
     "output_type": "stream",
     "text": [
      "100%|██████████| 762/762 [00:32<00:00, 23.80it/s]\n",
      "100%|██████████| 109/109 [00:02<00:00, 46.74it/s]\n"
     ]
    },
    {
     "name": "stdout",
     "output_type": "stream",
     "text": [
      "Epoch: 099, Average loss: 0.11073\n",
      "Epoch: 099, Average loss: 0.29270\n"
     ]
    },
    {
     "name": "stderr",
     "output_type": "stream",
     "text": [
      "  0%|          | 0/762 [00:00<?, ?it/s]/miniconda/envs/crystalvae/lib/python3.6/site-packages/torch/nn/modules/loss.py:96: UserWarning:\n",
      "\n",
      "Using a target size (torch.Size([4])) that is different to the input size (torch.Size([4, 1])). This will likely lead to incorrect results due to broadcasting. Please ensure they have the same size.\n",
      "\n",
      "100%|█████████▉| 760/762 [00:31<00:00, 26.04it/s]/miniconda/envs/crystalvae/lib/python3.6/site-packages/torch/nn/modules/loss.py:96: UserWarning:\n",
      "\n",
      "Using a target size (torch.Size([1])) that is different to the input size (torch.Size([1, 1])). This will likely lead to incorrect results due to broadcasting. Please ensure they have the same size.\n",
      "\n",
      "100%|██████████| 762/762 [00:31<00:00, 23.92it/s]\n",
      " 96%|█████████▋| 105/109 [00:02<00:00, 42.13it/s]/miniconda/envs/crystalvae/lib/python3.6/site-packages/torch/nn/modules/loss.py:96: UserWarning:\n",
      "\n",
      "Using a target size (torch.Size([3])) that is different to the input size (torch.Size([3, 1])). This will likely lead to incorrect results due to broadcasting. Please ensure they have the same size.\n",
      "\n",
      "100%|██████████| 109/109 [00:02<00:00, 42.47it/s]\n"
     ]
    },
    {
     "name": "stdout",
     "output_type": "stream",
     "text": [
      "Epoch: 000, Average loss: 0.31523\n",
      "Epoch: 000, Average loss: 0.31174\n"
     ]
    },
    {
     "name": "stderr",
     "output_type": "stream",
     "text": [
      "100%|██████████| 762/762 [00:32<00:00, 23.72it/s]\n",
      "100%|██████████| 109/109 [00:02<00:00, 48.68it/s]\n"
     ]
    },
    {
     "name": "stdout",
     "output_type": "stream",
     "text": [
      "Epoch: 001, Average loss: 0.11442\n",
      "Epoch: 001, Average loss: 0.35797\n"
     ]
    },
    {
     "name": "stderr",
     "output_type": "stream",
     "text": [
      "100%|██████████| 762/762 [00:32<00:00, 23.61it/s]\n",
      "100%|██████████| 109/109 [00:02<00:00, 48.12it/s]\n"
     ]
    },
    {
     "name": "stdout",
     "output_type": "stream",
     "text": [
      "Epoch: 002, Average loss: 0.08030\n",
      "Epoch: 002, Average loss: 0.19793\n"
     ]
    },
    {
     "name": "stderr",
     "output_type": "stream",
     "text": [
      "100%|██████████| 762/762 [00:31<00:00, 23.90it/s]\n",
      "100%|██████████| 109/109 [00:02<00:00, 46.93it/s]\n"
     ]
    },
    {
     "name": "stdout",
     "output_type": "stream",
     "text": [
      "Epoch: 003, Average loss: 0.06145\n",
      "Epoch: 003, Average loss: 0.21568\n"
     ]
    },
    {
     "name": "stderr",
     "output_type": "stream",
     "text": [
      "100%|██████████| 762/762 [00:31<00:00, 23.86it/s]\n",
      "100%|██████████| 109/109 [00:02<00:00, 48.15it/s]\n"
     ]
    },
    {
     "name": "stdout",
     "output_type": "stream",
     "text": [
      "Epoch: 004, Average loss: 0.05996\n",
      "Epoch: 004, Average loss: 0.25375\n"
     ]
    },
    {
     "name": "stderr",
     "output_type": "stream",
     "text": [
      "100%|██████████| 762/762 [00:32<00:00, 23.70it/s]\n",
      "100%|██████████| 109/109 [00:02<00:00, 47.33it/s]\n"
     ]
    },
    {
     "name": "stdout",
     "output_type": "stream",
     "text": [
      "Epoch: 005, Average loss: 0.05783\n",
      "Epoch: 005, Average loss: 0.07205\n"
     ]
    },
    {
     "name": "stderr",
     "output_type": "stream",
     "text": [
      " 43%|████▎     | 329/762 [00:13<00:16, 25.47it/s]IOPub message rate exceeded.\n",
      "The notebook server will temporarily stop sending output\n",
      "to the client in order to avoid crashing it.\n",
      "To change this limit, set the config variable\n",
      "`--NotebookApp.iopub_msg_rate_limit`.\n",
      "\n",
      "Current values:\n",
      "NotebookApp.iopub_msg_rate_limit=1000.0 (msgs/sec)\n",
      "NotebookApp.rate_limit_window=3.0 (secs)\n",
      "\n",
      "100%|██████████| 762/762 [00:32<00:00, 23.72it/s]\n",
      "100%|██████████| 109/109 [00:02<00:00, 46.82it/s]\n"
     ]
    },
    {
     "name": "stdout",
     "output_type": "stream",
     "text": [
      "Epoch: 019, Average loss: 0.20650\n",
      "Epoch: 019, Average loss: 0.32042\n"
     ]
    },
    {
     "name": "stderr",
     "output_type": "stream",
     "text": [
      "100%|██████████| 762/762 [00:32<00:00, 23.42it/s]\n",
      "100%|██████████| 109/109 [00:02<00:00, 47.52it/s]\n"
     ]
    },
    {
     "name": "stdout",
     "output_type": "stream",
     "text": [
      "Epoch: 020, Average loss: 0.19906\n",
      "Epoch: 020, Average loss: 0.32295\n"
     ]
    },
    {
     "name": "stderr",
     "output_type": "stream",
     "text": [
      "100%|██████████| 762/762 [00:32<00:00, 23.37it/s]\n",
      "100%|██████████| 109/109 [00:02<00:00, 48.91it/s]\n"
     ]
    },
    {
     "name": "stdout",
     "output_type": "stream",
     "text": [
      "Epoch: 021, Average loss: 0.18713\n",
      "Epoch: 021, Average loss: 0.33234\n"
     ]
    },
    {
     "name": "stderr",
     "output_type": "stream",
     "text": [
      "100%|██████████| 762/762 [00:32<00:00, 23.39it/s]\n",
      "100%|██████████| 109/109 [00:02<00:00, 48.39it/s]\n"
     ]
    },
    {
     "name": "stdout",
     "output_type": "stream",
     "text": [
      "Epoch: 022, Average loss: 0.17698\n",
      "Epoch: 022, Average loss: 0.36231\n"
     ]
    },
    {
     "name": "stderr",
     "output_type": "stream",
     "text": [
      "100%|██████████| 762/762 [00:32<00:00, 23.15it/s]\n",
      "100%|██████████| 109/109 [00:02<00:00, 47.99it/s]\n"
     ]
    },
    {
     "name": "stdout",
     "output_type": "stream",
     "text": [
      "Epoch: 023, Average loss: 0.16580\n",
      "Epoch: 023, Average loss: 0.34555\n"
     ]
    },
    {
     "name": "stderr",
     "output_type": "stream",
     "text": [
      " 24%|██▎       | 180/762 [00:07<00:21, 26.47it/s]IOPub message rate exceeded.\n",
      "The notebook server will temporarily stop sending output\n",
      "to the client in order to avoid crashing it.\n",
      "To change this limit, set the config variable\n",
      "`--NotebookApp.iopub_msg_rate_limit`.\n",
      "\n",
      "Current values:\n",
      "NotebookApp.iopub_msg_rate_limit=1000.0 (msgs/sec)\n",
      "NotebookApp.rate_limit_window=3.0 (secs)\n",
      "\n",
      "100%|██████████| 762/762 [00:32<00:00, 23.42it/s]\n",
      "100%|██████████| 109/109 [00:02<00:00, 48.25it/s]\n"
     ]
    },
    {
     "name": "stdout",
     "output_type": "stream",
     "text": [
      "Epoch: 030, Average loss: 0.12031\n",
      "Epoch: 030, Average loss: 0.33967\n"
     ]
    },
    {
     "name": "stderr",
     "output_type": "stream",
     "text": [
      "100%|██████████| 762/762 [00:32<00:00, 23.47it/s]\n",
      "100%|██████████| 109/109 [00:02<00:00, 48.47it/s]\n"
     ]
    },
    {
     "name": "stdout",
     "output_type": "stream",
     "text": [
      "Epoch: 031, Average loss: 0.11658\n",
      "Epoch: 031, Average loss: 0.33055\n"
     ]
    },
    {
     "name": "stderr",
     "output_type": "stream",
     "text": [
      "100%|██████████| 762/762 [00:32<00:00, 23.53it/s]\n",
      "100%|██████████| 109/109 [00:02<00:00, 45.07it/s]\n"
     ]
    },
    {
     "name": "stdout",
     "output_type": "stream",
     "text": [
      "Epoch: 032, Average loss: 0.11516\n",
      "Epoch: 032, Average loss: 0.33079\n"
     ]
    },
    {
     "name": "stderr",
     "output_type": "stream",
     "text": [
      "100%|██████████| 762/762 [00:32<00:00, 23.61it/s]\n",
      "100%|██████████| 109/109 [00:02<00:00, 49.02it/s]\n"
     ]
    },
    {
     "name": "stdout",
     "output_type": "stream",
     "text": [
      "Epoch: 033, Average loss: 0.11227\n",
      "Epoch: 033, Average loss: 0.36095\n"
     ]
    },
    {
     "name": "stderr",
     "output_type": "stream",
     "text": [
      "100%|██████████| 762/762 [00:32<00:00, 23.54it/s]\n",
      "100%|██████████| 109/109 [00:02<00:00, 41.87it/s]\n"
     ]
    },
    {
     "name": "stdout",
     "output_type": "stream",
     "text": [
      "Epoch: 034, Average loss: 0.11232\n",
      "Epoch: 034, Average loss: 0.38274\n"
     ]
    },
    {
     "name": "stderr",
     "output_type": "stream",
     "text": [
      "100%|██████████| 762/762 [00:32<00:00, 23.49it/s]\n",
      "100%|██████████| 109/109 [00:02<00:00, 48.55it/s]\n"
     ]
    },
    {
     "name": "stdout",
     "output_type": "stream",
     "text": [
      "Epoch: 035, Average loss: 0.11176\n",
      "Epoch: 035, Average loss: 0.33477\n"
     ]
    },
    {
     "name": "stderr",
     "output_type": "stream",
     "text": [
      "100%|██████████| 762/762 [00:32<00:00, 23.62it/s]\n",
      "100%|██████████| 109/109 [00:02<00:00, 43.16it/s]\n"
     ]
    },
    {
     "name": "stdout",
     "output_type": "stream",
     "text": [
      "Epoch: 036, Average loss: 0.10360\n",
      "Epoch: 036, Average loss: 0.34587\n"
     ]
    },
    {
     "name": "stderr",
     "output_type": "stream",
     "text": [
      " 60%|██████    | 459/762 [00:19<00:11, 27.54it/s]IOPub message rate exceeded.\n",
      "The notebook server will temporarily stop sending output\n",
      "to the client in order to avoid crashing it.\n",
      "To change this limit, set the config variable\n",
      "`--NotebookApp.iopub_msg_rate_limit`.\n",
      "\n",
      "Current values:\n",
      "NotebookApp.iopub_msg_rate_limit=1000.0 (msgs/sec)\n",
      "NotebookApp.rate_limit_window=3.0 (secs)\n",
      "\n",
      "100%|██████████| 762/762 [00:30<00:00, 24.92it/s]\n",
      "100%|██████████| 109/109 [00:02<00:00, 48.23it/s]\n"
     ]
    },
    {
     "name": "stdout",
     "output_type": "stream",
     "text": [
      "Epoch: 050, Average loss: 0.10770\n",
      "Epoch: 050, Average loss: 0.33683\n"
     ]
    },
    {
     "name": "stderr",
     "output_type": "stream",
     "text": [
      "100%|██████████| 762/762 [00:32<00:00, 23.79it/s]\n",
      "100%|██████████| 109/109 [00:02<00:00, 48.28it/s]\n"
     ]
    },
    {
     "name": "stdout",
     "output_type": "stream",
     "text": [
      "Epoch: 051, Average loss: 0.10987\n",
      "Epoch: 051, Average loss: 0.33590\n"
     ]
    },
    {
     "name": "stderr",
     "output_type": "stream",
     "text": [
      "100%|██████████| 762/762 [00:32<00:00, 23.52it/s]\n",
      "100%|██████████| 109/109 [00:02<00:00, 44.62it/s]\n"
     ]
    },
    {
     "name": "stdout",
     "output_type": "stream",
     "text": [
      "Epoch: 052, Average loss: 0.10525\n",
      "Epoch: 052, Average loss: 0.36954\n"
     ]
    },
    {
     "name": "stderr",
     "output_type": "stream",
     "text": [
      "100%|██████████| 762/762 [00:32<00:00, 23.68it/s]\n",
      "100%|██████████| 109/109 [00:02<00:00, 47.79it/s]\n"
     ]
    },
    {
     "name": "stdout",
     "output_type": "stream",
     "text": [
      "Epoch: 053, Average loss: 0.11128\n",
      "Epoch: 053, Average loss: 0.35991\n"
     ]
    },
    {
     "name": "stderr",
     "output_type": "stream",
     "text": [
      "100%|██████████| 762/762 [00:32<00:00, 23.61it/s]\n",
      "100%|██████████| 109/109 [00:02<00:00, 49.42it/s]\n"
     ]
    },
    {
     "name": "stdout",
     "output_type": "stream",
     "text": [
      "Epoch: 054, Average loss: 0.10297\n",
      "Epoch: 054, Average loss: 0.35996\n"
     ]
    },
    {
     "name": "stderr",
     "output_type": "stream",
     "text": [
      " 11%|█▏        | 87/762 [00:03<00:32, 20.73it/s]IOPub message rate exceeded.\n",
      "The notebook server will temporarily stop sending output\n",
      "to the client in order to avoid crashing it.\n",
      "To change this limit, set the config variable\n",
      "`--NotebookApp.iopub_msg_rate_limit`.\n",
      "\n",
      "Current values:\n",
      "NotebookApp.iopub_msg_rate_limit=1000.0 (msgs/sec)\n",
      "NotebookApp.rate_limit_window=3.0 (secs)\n",
      "\n",
      "100%|██████████| 762/762 [00:32<00:00, 23.81it/s]\n",
      "100%|██████████| 109/109 [00:02<00:00, 48.67it/s]\n"
     ]
    },
    {
     "name": "stdout",
     "output_type": "stream",
     "text": [
      "Epoch: 061, Average loss: 0.10935\n",
      "Epoch: 061, Average loss: 0.35326\n"
     ]
    },
    {
     "name": "stderr",
     "output_type": "stream",
     "text": [
      "100%|██████████| 762/762 [00:31<00:00, 23.91it/s]\n",
      "100%|██████████| 109/109 [00:02<00:00, 43.54it/s]\n"
     ]
    },
    {
     "name": "stdout",
     "output_type": "stream",
     "text": [
      "Epoch: 062, Average loss: 0.10690\n",
      "Epoch: 062, Average loss: 0.35184\n"
     ]
    },
    {
     "name": "stderr",
     "output_type": "stream",
     "text": [
      "100%|██████████| 762/762 [00:32<00:00, 23.68it/s]\n",
      "100%|██████████| 109/109 [00:02<00:00, 47.49it/s]\n"
     ]
    },
    {
     "name": "stdout",
     "output_type": "stream",
     "text": [
      "Epoch: 063, Average loss: 0.10624\n",
      "Epoch: 063, Average loss: 0.33555\n"
     ]
    },
    {
     "name": "stderr",
     "output_type": "stream",
     "text": [
      "100%|██████████| 762/762 [00:32<00:00, 23.81it/s]\n",
      "100%|██████████| 109/109 [00:02<00:00, 48.59it/s]\n"
     ]
    },
    {
     "name": "stdout",
     "output_type": "stream",
     "text": [
      "Epoch: 064, Average loss: 0.10918\n",
      "Epoch: 064, Average loss: 0.33938\n"
     ]
    },
    {
     "name": "stderr",
     "output_type": "stream",
     "text": [
      "100%|██████████| 762/762 [00:31<00:00, 23.85it/s]\n",
      "100%|██████████| 109/109 [00:02<00:00, 48.24it/s]\n"
     ]
    },
    {
     "name": "stdout",
     "output_type": "stream",
     "text": [
      "Epoch: 065, Average loss: 0.10560\n",
      "Epoch: 065, Average loss: 0.35449\n"
     ]
    },
    {
     "name": "stderr",
     "output_type": "stream",
     "text": [
      "100%|██████████| 762/762 [00:31<00:00, 23.87it/s]\n",
      "100%|██████████| 109/109 [00:02<00:00, 47.01it/s]\n"
     ]
    },
    {
     "name": "stdout",
     "output_type": "stream",
     "text": [
      "Epoch: 066, Average loss: 0.11009\n",
      "Epoch: 066, Average loss: 0.35682\n"
     ]
    },
    {
     "name": "stderr",
     "output_type": "stream",
     "text": [
      "100%|██████████| 762/762 [00:31<00:00, 23.87it/s]\n",
      "100%|██████████| 109/109 [00:02<00:00, 46.73it/s]\n"
     ]
    },
    {
     "name": "stdout",
     "output_type": "stream",
     "text": [
      "Epoch: 067, Average loss: 0.10830\n",
      "Epoch: 067, Average loss: 0.33697\n"
     ]
    },
    {
     "name": "stderr",
     "output_type": "stream",
     "text": [
      " 42%|████▏     | 321/762 [00:13<00:19, 22.80it/s]IOPub message rate exceeded.\n",
      "The notebook server will temporarily stop sending output\n",
      "to the client in order to avoid crashing it.\n",
      "To change this limit, set the config variable\n",
      "`--NotebookApp.iopub_msg_rate_limit`.\n",
      "\n",
      "Current values:\n",
      "NotebookApp.iopub_msg_rate_limit=1000.0 (msgs/sec)\n",
      "NotebookApp.rate_limit_window=3.0 (secs)\n",
      "\n",
      "100%|██████████| 762/762 [00:32<00:00, 23.58it/s]\n",
      "100%|██████████| 109/109 [00:02<00:00, 44.78it/s]\n"
     ]
    },
    {
     "name": "stdout",
     "output_type": "stream",
     "text": [
      "Epoch: 081, Average loss: 0.10731\n",
      "Epoch: 081, Average loss: 0.34456\n"
     ]
    },
    {
     "name": "stderr",
     "output_type": "stream",
     "text": [
      "100%|██████████| 762/762 [00:31<00:00, 23.87it/s]\n",
      "100%|██████████| 109/109 [00:02<00:00, 45.61it/s]\n"
     ]
    },
    {
     "name": "stdout",
     "output_type": "stream",
     "text": [
      "Epoch: 082, Average loss: 0.10355\n",
      "Epoch: 082, Average loss: 0.33766\n"
     ]
    },
    {
     "name": "stderr",
     "output_type": "stream",
     "text": [
      "100%|██████████| 762/762 [00:32<00:00, 23.60it/s]\n",
      "100%|██████████| 109/109 [00:02<00:00, 42.26it/s]\n"
     ]
    },
    {
     "name": "stdout",
     "output_type": "stream",
     "text": [
      "Epoch: 083, Average loss: 0.10534\n",
      "Epoch: 083, Average loss: 0.34282\n"
     ]
    },
    {
     "name": "stderr",
     "output_type": "stream",
     "text": [
      "100%|██████████| 762/762 [00:32<00:00, 23.55it/s]\n",
      "100%|██████████| 109/109 [00:02<00:00, 48.34it/s]\n"
     ]
    },
    {
     "name": "stdout",
     "output_type": "stream",
     "text": [
      "Epoch: 084, Average loss: 0.10735\n",
      "Epoch: 084, Average loss: 0.33665\n"
     ]
    },
    {
     "name": "stderr",
     "output_type": "stream",
     "text": [
      "100%|██████████| 762/762 [00:32<00:00, 23.39it/s]\n",
      "100%|██████████| 109/109 [00:02<00:00, 48.92it/s]\n"
     ]
    },
    {
     "name": "stdout",
     "output_type": "stream",
     "text": [
      "Epoch: 085, Average loss: 0.10612\n",
      "Epoch: 085, Average loss: 0.36923\n"
     ]
    },
    {
     "name": "stderr",
     "output_type": "stream",
     "text": [
      " 11%|█▏        | 86/762 [00:03<00:31, 21.41it/s]IOPub message rate exceeded.\n",
      "The notebook server will temporarily stop sending output\n",
      "to the client in order to avoid crashing it.\n",
      "To change this limit, set the config variable\n",
      "`--NotebookApp.iopub_msg_rate_limit`.\n",
      "\n",
      "Current values:\n",
      "NotebookApp.iopub_msg_rate_limit=1000.0 (msgs/sec)\n",
      "NotebookApp.rate_limit_window=3.0 (secs)\n",
      "\n",
      "100%|██████████| 762/762 [00:28<00:00, 27.02it/s]\n",
      "100%|██████████| 109/109 [00:01<00:00, 55.61it/s]\n"
     ]
    },
    {
     "name": "stdout",
     "output_type": "stream",
     "text": [
      "Epoch: 092, Average loss: 0.10264\n",
      "Epoch: 092, Average loss: 0.33791\n"
     ]
    },
    {
     "name": "stderr",
     "output_type": "stream",
     "text": [
      "100%|██████████| 762/762 [00:30<00:00, 24.86it/s]\n",
      "100%|██████████| 109/109 [00:02<00:00, 45.30it/s]\n"
     ]
    },
    {
     "name": "stdout",
     "output_type": "stream",
     "text": [
      "Epoch: 093, Average loss: 0.10249\n",
      "Epoch: 093, Average loss: 0.33373\n"
     ]
    },
    {
     "name": "stderr",
     "output_type": "stream",
     "text": [
      "100%|██████████| 762/762 [00:32<00:00, 23.66it/s]\n",
      "100%|██████████| 109/109 [00:02<00:00, 47.48it/s]\n"
     ]
    },
    {
     "name": "stdout",
     "output_type": "stream",
     "text": [
      "Epoch: 094, Average loss: 0.10525\n",
      "Epoch: 094, Average loss: 0.37104\n"
     ]
    },
    {
     "name": "stderr",
     "output_type": "stream",
     "text": [
      "100%|██████████| 762/762 [00:32<00:00, 23.62it/s]\n",
      "100%|██████████| 109/109 [00:02<00:00, 47.57it/s]\n"
     ]
    },
    {
     "name": "stdout",
     "output_type": "stream",
     "text": [
      "Epoch: 095, Average loss: 0.10515\n",
      "Epoch: 095, Average loss: 0.34021\n"
     ]
    },
    {
     "name": "stderr",
     "output_type": "stream",
     "text": [
      "100%|██████████| 762/762 [00:31<00:00, 23.87it/s]\n",
      "100%|██████████| 109/109 [00:02<00:00, 48.17it/s]\n"
     ]
    },
    {
     "name": "stdout",
     "output_type": "stream",
     "text": [
      "Epoch: 096, Average loss: 0.10690\n",
      "Epoch: 096, Average loss: 0.33983\n"
     ]
    },
    {
     "name": "stderr",
     "output_type": "stream",
     "text": [
      "100%|██████████| 762/762 [00:31<00:00, 23.82it/s]\n",
      "100%|██████████| 109/109 [00:02<00:00, 46.21it/s]\n"
     ]
    },
    {
     "name": "stdout",
     "output_type": "stream",
     "text": [
      "Epoch: 097, Average loss: 0.11195\n",
      "Epoch: 097, Average loss: 0.34485\n"
     ]
    },
    {
     "name": "stderr",
     "output_type": "stream",
     "text": [
      "100%|██████████| 762/762 [00:32<00:00, 23.62it/s]\n",
      "100%|██████████| 109/109 [00:02<00:00, 47.64it/s]\n"
     ]
    },
    {
     "name": "stdout",
     "output_type": "stream",
     "text": [
      "Epoch: 098, Average loss: 0.10699\n",
      "Epoch: 098, Average loss: 0.35832\n"
     ]
    },
    {
     "name": "stderr",
     "output_type": "stream",
     "text": [
      " 70%|███████   | 536/762 [00:22<00:09, 24.64it/s]IOPub message rate exceeded.\n",
      "The notebook server will temporarily stop sending output\n",
      "to the client in order to avoid crashing it.\n",
      "To change this limit, set the config variable\n",
      "`--NotebookApp.iopub_msg_rate_limit`.\n",
      "\n",
      "Current values:\n",
      "NotebookApp.iopub_msg_rate_limit=1000.0 (msgs/sec)\n",
      "NotebookApp.rate_limit_window=3.0 (secs)\n",
      "\n",
      "100%|██████████| 762/762 [00:28<00:00, 26.47it/s]\n",
      "100%|██████████| 109/109 [00:01<00:00, 62.02it/s]\n"
     ]
    },
    {
     "name": "stdout",
     "output_type": "stream",
     "text": [
      "Epoch: 012, Average loss: 0.04039\n",
      "Epoch: 012, Average loss: 0.19664\n"
     ]
    },
    {
     "name": "stderr",
     "output_type": "stream",
     "text": [
      "100%|██████████| 762/762 [00:26<00:00, 28.69it/s]\n",
      "100%|██████████| 109/109 [00:02<00:00, 49.09it/s]\n"
     ]
    },
    {
     "name": "stdout",
     "output_type": "stream",
     "text": [
      "Epoch: 013, Average loss: 0.03614\n",
      "Epoch: 013, Average loss: 0.15727\n"
     ]
    },
    {
     "name": "stderr",
     "output_type": "stream",
     "text": [
      "100%|██████████| 762/762 [00:32<00:00, 23.57it/s]\n",
      "100%|██████████| 109/109 [00:02<00:00, 43.21it/s]\n"
     ]
    },
    {
     "name": "stdout",
     "output_type": "stream",
     "text": [
      "Epoch: 014, Average loss: 0.03495\n",
      "Epoch: 014, Average loss: 0.09424\n"
     ]
    },
    {
     "name": "stderr",
     "output_type": "stream",
     "text": [
      "100%|██████████| 762/762 [00:32<00:00, 23.59it/s]\n",
      "100%|██████████| 109/109 [00:02<00:00, 48.29it/s]\n"
     ]
    },
    {
     "name": "stdout",
     "output_type": "stream",
     "text": [
      "Epoch: 015, Average loss: 0.03654\n",
      "Epoch: 015, Average loss: 0.14905\n"
     ]
    },
    {
     "name": "stderr",
     "output_type": "stream",
     "text": [
      "100%|██████████| 762/762 [00:32<00:00, 23.70it/s]\n",
      "100%|██████████| 109/109 [00:02<00:00, 49.52it/s]\n"
     ]
    },
    {
     "name": "stdout",
     "output_type": "stream",
     "text": [
      "Epoch: 016, Average loss: 0.03358\n",
      "Epoch: 016, Average loss: 0.15251\n"
     ]
    },
    {
     "name": "stderr",
     "output_type": "stream",
     "text": [
      " 28%|██▊       | 216/762 [00:09<00:19, 27.91it/s]IOPub message rate exceeded.\n",
      "The notebook server will temporarily stop sending output\n",
      "to the client in order to avoid crashing it.\n",
      "To change this limit, set the config variable\n",
      "`--NotebookApp.iopub_msg_rate_limit`.\n",
      "\n",
      "Current values:\n",
      "NotebookApp.iopub_msg_rate_limit=1000.0 (msgs/sec)\n",
      "NotebookApp.rate_limit_window=3.0 (secs)\n",
      "\n",
      "100%|██████████| 762/762 [00:32<00:00, 23.42it/s]\n",
      "100%|██████████| 109/109 [00:02<00:00, 44.92it/s]\n"
     ]
    },
    {
     "name": "stdout",
     "output_type": "stream",
     "text": [
      "Epoch: 023, Average loss: 0.09343\n",
      "Epoch: 023, Average loss: 0.14523\n"
     ]
    },
    {
     "name": "stderr",
     "output_type": "stream",
     "text": [
      "100%|██████████| 762/762 [00:31<00:00, 23.83it/s]\n",
      "100%|██████████| 109/109 [00:02<00:00, 44.44it/s]\n"
     ]
    },
    {
     "name": "stdout",
     "output_type": "stream",
     "text": [
      "Epoch: 024, Average loss: 0.08727\n",
      "Epoch: 024, Average loss: 0.14017\n"
     ]
    },
    {
     "name": "stderr",
     "output_type": "stream",
     "text": [
      "100%|██████████| 762/762 [00:32<00:00, 23.44it/s]\n",
      "100%|██████████| 109/109 [00:02<00:00, 48.45it/s]\n"
     ]
    },
    {
     "name": "stdout",
     "output_type": "stream",
     "text": [
      "Epoch: 025, Average loss: 0.06762\n",
      "Epoch: 025, Average loss: 0.38868\n"
     ]
    },
    {
     "name": "stderr",
     "output_type": "stream",
     "text": [
      "100%|██████████| 762/762 [00:32<00:00, 23.53it/s]\n",
      "100%|██████████| 109/109 [00:02<00:00, 48.96it/s]\n"
     ]
    },
    {
     "name": "stdout",
     "output_type": "stream",
     "text": [
      "Epoch: 026, Average loss: 0.06916\n",
      "Epoch: 026, Average loss: 0.25916\n"
     ]
    },
    {
     "name": "stderr",
     "output_type": "stream",
     "text": [
      "100%|██████████| 762/762 [00:32<00:00, 23.66it/s]\n",
      "100%|██████████| 109/109 [00:02<00:00, 48.22it/s]\n"
     ]
    },
    {
     "name": "stdout",
     "output_type": "stream",
     "text": [
      "Epoch: 027, Average loss: 0.08092\n",
      "Epoch: 027, Average loss: 0.16978\n"
     ]
    },
    {
     "name": "stderr",
     "output_type": "stream",
     "text": [
      "100%|██████████| 762/762 [00:32<00:00, 23.52it/s]\n",
      "100%|██████████| 109/109 [00:02<00:00, 43.82it/s]\n"
     ]
    },
    {
     "name": "stdout",
     "output_type": "stream",
     "text": [
      "Epoch: 028, Average loss: 0.05506\n",
      "Epoch: 028, Average loss: 0.17676\n"
     ]
    },
    {
     "name": "stderr",
     "output_type": "stream",
     "text": [
      "100%|██████████| 762/762 [00:32<00:00, 23.56it/s]\n",
      "100%|██████████| 109/109 [00:02<00:00, 46.80it/s]\n"
     ]
    },
    {
     "name": "stdout",
     "output_type": "stream",
     "text": [
      "Epoch: 029, Average loss: 0.05327\n",
      "Epoch: 029, Average loss: 0.20858\n"
     ]
    },
    {
     "name": "stderr",
     "output_type": "stream",
     "text": [
      " 71%|███████   | 539/762 [00:23<00:11, 20.10it/s]IOPub message rate exceeded.\n",
      "The notebook server will temporarily stop sending output\n",
      "to the client in order to avoid crashing it.\n",
      "To change this limit, set the config variable\n",
      "`--NotebookApp.iopub_msg_rate_limit`.\n",
      "\n",
      "Current values:\n",
      "NotebookApp.iopub_msg_rate_limit=1000.0 (msgs/sec)\n",
      "NotebookApp.rate_limit_window=3.0 (secs)\n",
      "\n",
      "100%|██████████| 762/762 [00:32<00:00, 23.40it/s]\n",
      "100%|██████████| 109/109 [00:02<00:00, 49.80it/s]\n"
     ]
    },
    {
     "name": "stdout",
     "output_type": "stream",
     "text": [
      "Epoch: 043, Average loss: 0.11212\n",
      "Epoch: 043, Average loss: 0.30416\n"
     ]
    },
    {
     "name": "stderr",
     "output_type": "stream",
     "text": [
      "100%|██████████| 762/762 [00:32<00:00, 23.50it/s]\n",
      "100%|██████████| 109/109 [00:02<00:00, 48.18it/s]\n"
     ]
    },
    {
     "name": "stdout",
     "output_type": "stream",
     "text": [
      "Epoch: 044, Average loss: 0.10796\n",
      "Epoch: 044, Average loss: 0.30542\n"
     ]
    },
    {
     "name": "stderr",
     "output_type": "stream",
     "text": [
      "100%|██████████| 762/762 [00:32<00:00, 23.20it/s]\n",
      "100%|██████████| 109/109 [00:02<00:00, 48.64it/s]\n"
     ]
    },
    {
     "name": "stdout",
     "output_type": "stream",
     "text": [
      "Epoch: 045, Average loss: 0.10997\n",
      "Epoch: 045, Average loss: 0.30326\n"
     ]
    },
    {
     "name": "stderr",
     "output_type": "stream",
     "text": [
      "100%|██████████| 762/762 [00:32<00:00, 23.70it/s]\n",
      "100%|██████████| 109/109 [00:02<00:00, 43.37it/s]\n"
     ]
    },
    {
     "name": "stdout",
     "output_type": "stream",
     "text": [
      "Epoch: 046, Average loss: 0.10927\n",
      "Epoch: 046, Average loss: 0.30326\n"
     ]
    },
    {
     "name": "stderr",
     "output_type": "stream",
     "text": [
      "100%|██████████| 762/762 [00:32<00:00, 23.33it/s]\n",
      "100%|██████████| 109/109 [00:02<00:00, 47.47it/s]\n"
     ]
    },
    {
     "name": "stdout",
     "output_type": "stream",
     "text": [
      "Epoch: 047, Average loss: 0.11259\n",
      "Epoch: 047, Average loss: 0.31557\n"
     ]
    },
    {
     "name": "stderr",
     "output_type": "stream",
     "text": [
      " 16%|█▋        | 124/762 [00:05<00:26, 24.17it/s]IOPub message rate exceeded.\n",
      "The notebook server will temporarily stop sending output\n",
      "to the client in order to avoid crashing it.\n",
      "To change this limit, set the config variable\n",
      "`--NotebookApp.iopub_msg_rate_limit`.\n",
      "\n",
      "Current values:\n",
      "NotebookApp.iopub_msg_rate_limit=1000.0 (msgs/sec)\n",
      "NotebookApp.rate_limit_window=3.0 (secs)\n",
      "\n",
      "100%|██████████| 762/762 [00:28<00:00, 26.31it/s]\n",
      "100%|██████████| 109/109 [00:01<00:00, 63.06it/s]\n"
     ]
    },
    {
     "name": "stdout",
     "output_type": "stream",
     "text": [
      "Epoch: 054, Average loss: 0.11498\n",
      "Epoch: 054, Average loss: 0.30421\n"
     ]
    },
    {
     "name": "stderr",
     "output_type": "stream",
     "text": [
      "100%|██████████| 762/762 [00:26<00:00, 28.32it/s]\n",
      "100%|██████████| 109/109 [00:02<00:00, 45.89it/s]\n"
     ]
    },
    {
     "name": "stdout",
     "output_type": "stream",
     "text": [
      "Epoch: 055, Average loss: 0.11195\n",
      "Epoch: 055, Average loss: 0.31678\n"
     ]
    },
    {
     "name": "stderr",
     "output_type": "stream",
     "text": [
      "100%|██████████| 762/762 [00:32<00:00, 23.54it/s]\n",
      "100%|██████████| 109/109 [00:02<00:00, 44.86it/s]\n"
     ]
    },
    {
     "name": "stdout",
     "output_type": "stream",
     "text": [
      "Epoch: 056, Average loss: 0.11324\n",
      "Epoch: 056, Average loss: 0.30550\n"
     ]
    },
    {
     "name": "stderr",
     "output_type": "stream",
     "text": [
      "100%|██████████| 762/762 [00:32<00:00, 23.46it/s]\n",
      "100%|██████████| 109/109 [00:02<00:00, 49.77it/s]\n"
     ]
    },
    {
     "name": "stdout",
     "output_type": "stream",
     "text": [
      "Epoch: 057, Average loss: 0.11222\n",
      "Epoch: 057, Average loss: 0.31793\n"
     ]
    },
    {
     "name": "stderr",
     "output_type": "stream",
     "text": [
      "100%|██████████| 762/762 [00:32<00:00, 23.77it/s]\n",
      "100%|██████████| 109/109 [00:02<00:00, 48.66it/s]\n"
     ]
    },
    {
     "name": "stdout",
     "output_type": "stream",
     "text": [
      "Epoch: 058, Average loss: 0.10195\n",
      "Epoch: 058, Average loss: 0.31760\n"
     ]
    },
    {
     "name": "stderr",
     "output_type": "stream",
     "text": [
      "100%|██████████| 762/762 [00:32<00:00, 23.75it/s]\n",
      "100%|██████████| 109/109 [00:02<00:00, 44.80it/s]\n"
     ]
    },
    {
     "name": "stdout",
     "output_type": "stream",
     "text": [
      "Epoch: 059, Average loss: 0.11284\n",
      "Epoch: 059, Average loss: 0.31751\n"
     ]
    },
    {
     "name": "stderr",
     "output_type": "stream",
     "text": [
      "100%|██████████| 762/762 [00:32<00:00, 23.47it/s]\n",
      "100%|██████████| 109/109 [00:02<00:00, 45.13it/s]\n"
     ]
    },
    {
     "name": "stdout",
     "output_type": "stream",
     "text": [
      "Epoch: 060, Average loss: 0.11196\n",
      "Epoch: 060, Average loss: 0.31754\n"
     ]
    },
    {
     "name": "stderr",
     "output_type": "stream",
     "text": [
      " 74%|███████▍  | 565/762 [00:24<00:07, 26.25it/s]IOPub message rate exceeded.\n",
      "The notebook server will temporarily stop sending output\n",
      "to the client in order to avoid crashing it.\n",
      "To change this limit, set the config variable\n",
      "`--NotebookApp.iopub_msg_rate_limit`.\n",
      "\n",
      "Current values:\n",
      "NotebookApp.iopub_msg_rate_limit=1000.0 (msgs/sec)\n",
      "NotebookApp.rate_limit_window=3.0 (secs)\n",
      "\n",
      "100%|██████████| 762/762 [00:32<00:00, 23.58it/s]\n",
      "100%|██████████| 109/109 [00:02<00:00, 46.30it/s]\n"
     ]
    },
    {
     "name": "stdout",
     "output_type": "stream",
     "text": [
      "Epoch: 073, Average loss: 0.10798\n",
      "Epoch: 073, Average loss: 0.31568\n"
     ]
    },
    {
     "name": "stderr",
     "output_type": "stream",
     "text": [
      "100%|██████████| 762/762 [00:32<00:00, 23.58it/s]\n",
      "100%|██████████| 109/109 [00:02<00:00, 48.70it/s]\n"
     ]
    },
    {
     "name": "stdout",
     "output_type": "stream",
     "text": [
      "Epoch: 074, Average loss: 0.10695\n",
      "Epoch: 074, Average loss: 0.30723\n"
     ]
    },
    {
     "name": "stderr",
     "output_type": "stream",
     "text": [
      "100%|██████████| 762/762 [00:28<00:00, 26.67it/s]\n",
      "100%|██████████| 109/109 [00:01<00:00, 65.23it/s]\n"
     ]
    },
    {
     "name": "stdout",
     "output_type": "stream",
     "text": [
      "Epoch: 075, Average loss: 0.10720\n",
      "Epoch: 075, Average loss: 0.30483\n"
     ]
    },
    {
     "name": "stderr",
     "output_type": "stream",
     "text": [
      "100%|██████████| 762/762 [00:29<00:00, 26.15it/s]\n",
      "100%|██████████| 109/109 [00:01<00:00, 64.55it/s]\n"
     ]
    },
    {
     "name": "stdout",
     "output_type": "stream",
     "text": [
      "Epoch: 076, Average loss: 0.10543\n",
      "Epoch: 076, Average loss: 0.31531\n"
     ]
    },
    {
     "name": "stderr",
     "output_type": "stream",
     "text": [
      "100%|██████████| 762/762 [00:30<00:00, 24.74it/s]\n",
      "100%|██████████| 109/109 [00:02<00:00, 43.61it/s]\n"
     ]
    },
    {
     "name": "stdout",
     "output_type": "stream",
     "text": [
      "Epoch: 077, Average loss: 0.11003\n",
      "Epoch: 077, Average loss: 0.31382\n"
     ]
    },
    {
     "name": "stderr",
     "output_type": "stream",
     "text": [
      "100%|██████████| 762/762 [00:32<00:00, 23.57it/s]\n",
      "100%|██████████| 109/109 [00:02<00:00, 48.77it/s]\n"
     ]
    },
    {
     "name": "stdout",
     "output_type": "stream",
     "text": [
      "Epoch: 078, Average loss: 0.10687\n",
      "Epoch: 078, Average loss: 0.31162\n"
     ]
    },
    {
     "name": "stderr",
     "output_type": "stream",
     "text": [
      "  3%|▎         | 21/762 [00:00<00:29, 25.10it/s]IOPub message rate exceeded.\n",
      "The notebook server will temporarily stop sending output\n",
      "to the client in order to avoid crashing it.\n",
      "To change this limit, set the config variable\n",
      "`--NotebookApp.iopub_msg_rate_limit`.\n",
      "\n",
      "Current values:\n",
      "NotebookApp.iopub_msg_rate_limit=1000.0 (msgs/sec)\n",
      "NotebookApp.rate_limit_window=3.0 (secs)\n",
      "\n",
      "100%|██████████| 762/762 [00:32<00:00, 23.53it/s]\n",
      "100%|██████████| 109/109 [00:02<00:00, 48.96it/s]\n"
     ]
    },
    {
     "name": "stdout",
     "output_type": "stream",
     "text": [
      "Epoch: 085, Average loss: 0.10669\n",
      "Epoch: 085, Average loss: 0.31171\n"
     ]
    },
    {
     "name": "stderr",
     "output_type": "stream",
     "text": [
      "100%|██████████| 762/762 [00:32<00:00, 23.48it/s]\n",
      "100%|██████████| 109/109 [00:02<00:00, 45.14it/s]\n"
     ]
    },
    {
     "name": "stdout",
     "output_type": "stream",
     "text": [
      "Epoch: 086, Average loss: 0.10509\n",
      "Epoch: 086, Average loss: 0.31146\n"
     ]
    },
    {
     "name": "stderr",
     "output_type": "stream",
     "text": [
      "100%|██████████| 762/762 [00:32<00:00, 23.29it/s]\n",
      "100%|██████████| 109/109 [00:02<00:00, 49.28it/s]\n"
     ]
    },
    {
     "name": "stdout",
     "output_type": "stream",
     "text": [
      "Epoch: 087, Average loss: 0.10410\n",
      "Epoch: 087, Average loss: 0.30476\n"
     ]
    },
    {
     "name": "stderr",
     "output_type": "stream",
     "text": [
      "100%|██████████| 762/762 [00:32<00:00, 23.50it/s]\n",
      "100%|██████████| 109/109 [00:02<00:00, 47.72it/s]\n"
     ]
    },
    {
     "name": "stdout",
     "output_type": "stream",
     "text": [
      "Epoch: 088, Average loss: 0.10597\n",
      "Epoch: 088, Average loss: 0.30348\n"
     ]
    },
    {
     "name": "stderr",
     "output_type": "stream",
     "text": [
      "100%|██████████| 762/762 [00:32<00:00, 23.46it/s]\n",
      "100%|██████████| 109/109 [00:02<00:00, 43.73it/s]\n"
     ]
    },
    {
     "name": "stdout",
     "output_type": "stream",
     "text": [
      "Epoch: 089, Average loss: 0.10508\n",
      "Epoch: 089, Average loss: 0.32257\n"
     ]
    },
    {
     "name": "stderr",
     "output_type": "stream",
     "text": [
      "100%|██████████| 762/762 [00:32<00:00, 23.63it/s]\n",
      "100%|██████████| 109/109 [00:02<00:00, 46.28it/s]\n"
     ]
    },
    {
     "name": "stdout",
     "output_type": "stream",
     "text": [
      "Epoch: 090, Average loss: 0.11042\n",
      "Epoch: 090, Average loss: 0.30458\n"
     ]
    },
    {
     "name": "stderr",
     "output_type": "stream",
     "text": [
      "100%|██████████| 762/762 [00:32<00:00, 23.36it/s]\n",
      "100%|██████████| 109/109 [00:02<00:00, 46.36it/s]\n"
     ]
    },
    {
     "name": "stdout",
     "output_type": "stream",
     "text": [
      "Epoch: 091, Average loss: 0.10746\n",
      "Epoch: 091, Average loss: 0.31144\n"
     ]
    },
    {
     "name": "stderr",
     "output_type": "stream",
     "text": [
      " 46%|████▌     | 347/762 [00:14<00:17, 23.75it/s]IOPub message rate exceeded.\n",
      "The notebook server will temporarily stop sending output\n",
      "to the client in order to avoid crashing it.\n",
      "To change this limit, set the config variable\n",
      "`--NotebookApp.iopub_msg_rate_limit`.\n",
      "\n",
      "Current values:\n",
      "NotebookApp.iopub_msg_rate_limit=1000.0 (msgs/sec)\n",
      "NotebookApp.rate_limit_window=3.0 (secs)\n",
      "\n",
      "100%|██████████| 762/762 [00:32<00:00, 23.43it/s]\n",
      "100%|██████████| 109/109 [00:02<00:00, 49.16it/s]\n"
     ]
    },
    {
     "name": "stdout",
     "output_type": "stream",
     "text": [
      "Epoch: 004, Average loss: 0.06773\n",
      "Epoch: 004, Average loss: 0.18886\n"
     ]
    },
    {
     "name": "stderr",
     "output_type": "stream",
     "text": [
      "100%|██████████| 762/762 [00:32<00:00, 23.28it/s]\n",
      "100%|██████████| 109/109 [00:02<00:00, 47.84it/s]\n"
     ]
    },
    {
     "name": "stdout",
     "output_type": "stream",
     "text": [
      "Epoch: 005, Average loss: 0.06494\n",
      "Epoch: 005, Average loss: 0.20151\n"
     ]
    },
    {
     "name": "stderr",
     "output_type": "stream",
     "text": [
      "100%|██████████| 762/762 [00:32<00:00, 23.60it/s]\n",
      "100%|██████████| 109/109 [00:02<00:00, 48.64it/s]\n"
     ]
    },
    {
     "name": "stdout",
     "output_type": "stream",
     "text": [
      "Epoch: 006, Average loss: 0.05015\n",
      "Epoch: 006, Average loss: 0.08905\n"
     ]
    },
    {
     "name": "stderr",
     "output_type": "stream",
     "text": [
      "100%|██████████| 762/762 [00:32<00:00, 23.59it/s]\n",
      "100%|██████████| 109/109 [00:02<00:00, 46.44it/s]\n"
     ]
    },
    {
     "name": "stdout",
     "output_type": "stream",
     "text": [
      "Epoch: 007, Average loss: 0.05645\n",
      "Epoch: 007, Average loss: 0.11456\n"
     ]
    },
    {
     "name": "stderr",
     "output_type": "stream",
     "text": [
      "100%|██████████| 762/762 [00:32<00:00, 23.42it/s]\n",
      "100%|██████████| 109/109 [00:02<00:00, 46.69it/s]\n"
     ]
    },
    {
     "name": "stdout",
     "output_type": "stream",
     "text": [
      "Epoch: 008, Average loss: 0.04499\n",
      "Epoch: 008, Average loss: 0.17990\n"
     ]
    },
    {
     "name": "stderr",
     "output_type": "stream",
     "text": [
      "100%|██████████| 762/762 [00:32<00:00, 23.42it/s]\n",
      "100%|██████████| 109/109 [00:02<00:00, 48.64it/s]\n"
     ]
    },
    {
     "name": "stdout",
     "output_type": "stream",
     "text": [
      "Epoch: 009, Average loss: 0.04742\n",
      "Epoch: 009, Average loss: 0.16177\n"
     ]
    },
    {
     "name": "stderr",
     "output_type": "stream",
     "text": [
      "100%|██████████| 762/762 [00:32<00:00, 23.61it/s]\n",
      "100%|██████████| 109/109 [00:02<00:00, 47.16it/s]\n"
     ]
    },
    {
     "name": "stdout",
     "output_type": "stream",
     "text": [
      "Epoch: 010, Average loss: 0.03615\n",
      "Epoch: 010, Average loss: 0.10501\n"
     ]
    },
    {
     "name": "stderr",
     "output_type": "stream",
     "text": [
      "100%|██████████| 762/762 [00:32<00:00, 23.17it/s]\n",
      "100%|██████████| 109/109 [00:02<00:00, 48.66it/s]\n"
     ]
    },
    {
     "name": "stdout",
     "output_type": "stream",
     "text": [
      "Epoch: 011, Average loss: 0.03767\n",
      "Epoch: 011, Average loss: 0.09073\n"
     ]
    },
    {
     "name": "stderr",
     "output_type": "stream",
     "text": [
      "100%|██████████| 762/762 [00:32<00:00, 23.44it/s]\n",
      "100%|██████████| 109/109 [00:02<00:00, 49.09it/s]\n"
     ]
    },
    {
     "name": "stdout",
     "output_type": "stream",
     "text": [
      "Epoch: 012, Average loss: 0.03855\n",
      "Epoch: 012, Average loss: 0.15463\n"
     ]
    },
    {
     "name": "stderr",
     "output_type": "stream",
     "text": [
      "100%|██████████| 762/762 [00:32<00:00, 23.75it/s]\n",
      "100%|██████████| 109/109 [00:02<00:00, 44.57it/s]\n"
     ]
    },
    {
     "name": "stdout",
     "output_type": "stream",
     "text": [
      "Epoch: 013, Average loss: 0.03788\n",
      "Epoch: 013, Average loss: 0.08303\n"
     ]
    },
    {
     "name": "stderr",
     "output_type": "stream",
     "text": [
      "100%|██████████| 762/762 [00:32<00:00, 23.68it/s]\n",
      "100%|██████████| 109/109 [00:02<00:00, 50.18it/s]\n"
     ]
    },
    {
     "name": "stdout",
     "output_type": "stream",
     "text": [
      "Epoch: 014, Average loss: 0.03870\n",
      "Epoch: 014, Average loss: 0.08555\n"
     ]
    },
    {
     "name": "stderr",
     "output_type": "stream",
     "text": [
      "100%|██████████| 762/762 [00:32<00:00, 23.56it/s]\n",
      "100%|██████████| 109/109 [00:02<00:00, 43.95it/s]\n"
     ]
    },
    {
     "name": "stdout",
     "output_type": "stream",
     "text": [
      "Epoch: 015, Average loss: 0.03419\n",
      "Epoch: 015, Average loss: 0.11145\n"
     ]
    },
    {
     "name": "stderr",
     "output_type": "stream",
     "text": [
      " 90%|█████████ | 689/762 [00:29<00:02, 30.08it/s]IOPub message rate exceeded.\n",
      "The notebook server will temporarily stop sending output\n",
      "to the client in order to avoid crashing it.\n",
      "To change this limit, set the config variable\n",
      "`--NotebookApp.iopub_msg_rate_limit`.\n",
      "\n",
      "Current values:\n",
      "NotebookApp.iopub_msg_rate_limit=1000.0 (msgs/sec)\n",
      "NotebookApp.rate_limit_window=3.0 (secs)\n",
      "\n",
      "100%|██████████| 762/762 [00:32<00:00, 23.35it/s]\n",
      "100%|██████████| 109/109 [00:02<00:00, 45.28it/s]\n"
     ]
    },
    {
     "name": "stdout",
     "output_type": "stream",
     "text": [
      "Epoch: 035, Average loss: 0.14260\n",
      "Epoch: 035, Average loss: 0.32972\n"
     ]
    },
    {
     "name": "stderr",
     "output_type": "stream",
     "text": [
      "100%|██████████| 762/762 [00:32<00:00, 23.37it/s]\n",
      "100%|██████████| 109/109 [00:02<00:00, 45.40it/s]\n"
     ]
    },
    {
     "name": "stdout",
     "output_type": "stream",
     "text": [
      "Epoch: 036, Average loss: 0.13252\n",
      "Epoch: 036, Average loss: 0.36392\n"
     ]
    },
    {
     "name": "stderr",
     "output_type": "stream",
     "text": [
      "100%|██████████| 762/762 [00:29<00:00, 26.21it/s]\n",
      "100%|██████████| 109/109 [00:01<00:00, 68.01it/s]\n"
     ]
    },
    {
     "name": "stdout",
     "output_type": "stream",
     "text": [
      "Epoch: 037, Average loss: 0.12335\n",
      "Epoch: 037, Average loss: 0.34101\n"
     ]
    },
    {
     "name": "stderr",
     "output_type": "stream",
     "text": [
      "100%|██████████| 762/762 [00:28<00:00, 26.74it/s]\n",
      "100%|██████████| 109/109 [00:02<00:00, 50.74it/s]\n"
     ]
    },
    {
     "name": "stdout",
     "output_type": "stream",
     "text": [
      "Epoch: 038, Average loss: 0.12152\n",
      "Epoch: 038, Average loss: 0.34281\n"
     ]
    },
    {
     "name": "stderr",
     "output_type": "stream",
     "text": [
      "100%|██████████| 762/762 [00:32<00:00, 23.54it/s]\n",
      "100%|██████████| 109/109 [00:02<00:00, 43.57it/s]\n"
     ]
    },
    {
     "name": "stdout",
     "output_type": "stream",
     "text": [
      "Epoch: 039, Average loss: 0.11606\n",
      "Epoch: 039, Average loss: 0.33307\n"
     ]
    },
    {
     "name": "stderr",
     "output_type": "stream",
     "text": [
      "100%|██████████| 762/762 [00:32<00:00, 23.54it/s]\n",
      "100%|██████████| 109/109 [00:02<00:00, 43.87it/s]\n"
     ]
    },
    {
     "name": "stdout",
     "output_type": "stream",
     "text": [
      "Epoch: 040, Average loss: 0.11856\n",
      "Epoch: 040, Average loss: 0.33876\n"
     ]
    },
    {
     "name": "stderr",
     "output_type": "stream",
     "text": [
      "100%|██████████| 762/762 [00:32<00:00, 23.55it/s]\n",
      "100%|██████████| 109/109 [00:02<00:00, 48.27it/s]\n"
     ]
    },
    {
     "name": "stdout",
     "output_type": "stream",
     "text": [
      "Epoch: 041, Average loss: 0.11641\n",
      "Epoch: 041, Average loss: 0.33764\n"
     ]
    },
    {
     "name": "stderr",
     "output_type": "stream",
     "text": [
      "100%|██████████| 762/762 [00:32<00:00, 23.16it/s]\n",
      "100%|██████████| 109/109 [00:02<00:00, 47.10it/s]\n"
     ]
    },
    {
     "name": "stdout",
     "output_type": "stream",
     "text": [
      "Epoch: 042, Average loss: 0.11735\n",
      "Epoch: 042, Average loss: 0.33340\n"
     ]
    },
    {
     "name": "stderr",
     "output_type": "stream",
     "text": [
      "100%|██████████| 762/762 [00:32<00:00, 23.34it/s]\n",
      "100%|██████████| 109/109 [00:02<00:00, 47.52it/s]\n"
     ]
    },
    {
     "name": "stdout",
     "output_type": "stream",
     "text": [
      "Epoch: 043, Average loss: 0.11433\n",
      "Epoch: 043, Average loss: 0.33543\n"
     ]
    },
    {
     "name": "stderr",
     "output_type": "stream",
     "text": [
      "100%|██████████| 762/762 [00:32<00:00, 23.44it/s]\n",
      "100%|██████████| 109/109 [00:02<00:00, 48.56it/s]\n"
     ]
    },
    {
     "name": "stdout",
     "output_type": "stream",
     "text": [
      "Epoch: 044, Average loss: 0.11562\n",
      "Epoch: 044, Average loss: 0.33085\n"
     ]
    },
    {
     "name": "stderr",
     "output_type": "stream",
     "text": [
      "100%|██████████| 762/762 [00:32<00:00, 23.38it/s]\n",
      "100%|██████████| 109/109 [00:02<00:00, 46.38it/s]\n"
     ]
    },
    {
     "name": "stdout",
     "output_type": "stream",
     "text": [
      "Epoch: 045, Average loss: 0.11789\n",
      "Epoch: 045, Average loss: 0.33801\n"
     ]
    },
    {
     "name": "stderr",
     "output_type": "stream",
     "text": [
      "100%|██████████| 762/762 [00:32<00:00, 23.27it/s]\n",
      "100%|██████████| 109/109 [00:02<00:00, 48.72it/s]\n"
     ]
    },
    {
     "name": "stdout",
     "output_type": "stream",
     "text": [
      "Epoch: 046, Average loss: 0.11226\n",
      "Epoch: 046, Average loss: 0.33116\n"
     ]
    },
    {
     "name": "stderr",
     "output_type": "stream",
     "text": [
      " 84%|████████▍ | 643/762 [00:27<00:05, 21.63it/s]IOPub message rate exceeded.\n",
      "The notebook server will temporarily stop sending output\n",
      "to the client in order to avoid crashing it.\n",
      "To change this limit, set the config variable\n",
      "`--NotebookApp.iopub_msg_rate_limit`.\n",
      "\n",
      "Current values:\n",
      "NotebookApp.iopub_msg_rate_limit=1000.0 (msgs/sec)\n",
      "NotebookApp.rate_limit_window=3.0 (secs)\n",
      "\n",
      "100%|██████████| 762/762 [00:32<00:00, 23.61it/s]\n",
      "100%|██████████| 109/109 [00:01<00:00, 54.75it/s]\n"
     ]
    },
    {
     "name": "stdout",
     "output_type": "stream",
     "text": [
      "Epoch: 065, Average loss: 0.10676\n",
      "Epoch: 065, Average loss: 0.35499\n"
     ]
    },
    {
     "name": "stderr",
     "output_type": "stream",
     "text": [
      "100%|██████████| 762/762 [00:32<00:00, 23.66it/s]\n",
      "100%|██████████| 109/109 [00:02<00:00, 45.77it/s]\n"
     ]
    },
    {
     "name": "stdout",
     "output_type": "stream",
     "text": [
      "Epoch: 066, Average loss: 0.10411\n",
      "Epoch: 066, Average loss: 0.36605\n"
     ]
    },
    {
     "name": "stderr",
     "output_type": "stream",
     "text": [
      "100%|██████████| 762/762 [00:32<00:00, 23.65it/s]\n",
      "100%|██████████| 109/109 [00:02<00:00, 49.30it/s]\n"
     ]
    },
    {
     "name": "stdout",
     "output_type": "stream",
     "text": [
      "Epoch: 067, Average loss: 0.10845\n",
      "Epoch: 067, Average loss: 0.36661\n"
     ]
    },
    {
     "name": "stderr",
     "output_type": "stream",
     "text": [
      "100%|██████████| 762/762 [00:32<00:00, 23.50it/s]\n",
      "100%|██████████| 109/109 [00:02<00:00, 49.83it/s]\n"
     ]
    },
    {
     "name": "stdout",
     "output_type": "stream",
     "text": [
      "Epoch: 068, Average loss: 0.10813\n",
      "Epoch: 068, Average loss: 0.35591\n"
     ]
    },
    {
     "name": "stderr",
     "output_type": "stream",
     "text": [
      "100%|██████████| 762/762 [00:32<00:00, 23.47it/s]\n",
      "100%|██████████| 109/109 [00:02<00:00, 45.17it/s]\n"
     ]
    },
    {
     "name": "stdout",
     "output_type": "stream",
     "text": [
      "Epoch: 069, Average loss: 0.11001\n",
      "Epoch: 069, Average loss: 0.35213\n"
     ]
    },
    {
     "name": "stderr",
     "output_type": "stream",
     "text": [
      "100%|██████████| 762/762 [00:32<00:00, 23.31it/s]\n",
      "100%|██████████| 109/109 [00:02<00:00, 49.29it/s]\n"
     ]
    },
    {
     "name": "stdout",
     "output_type": "stream",
     "text": [
      "Epoch: 070, Average loss: 0.10888\n",
      "Epoch: 070, Average loss: 0.34945\n"
     ]
    },
    {
     "name": "stderr",
     "output_type": "stream",
     "text": [
      "100%|██████████| 762/762 [00:32<00:00, 23.34it/s]\n",
      "100%|██████████| 109/109 [00:02<00:00, 48.99it/s]\n"
     ]
    },
    {
     "name": "stdout",
     "output_type": "stream",
     "text": [
      "Epoch: 071, Average loss: 0.11409\n",
      "Epoch: 071, Average loss: 0.36524\n"
     ]
    },
    {
     "name": "stderr",
     "output_type": "stream",
     "text": [
      "100%|██████████| 762/762 [00:32<00:00, 23.66it/s]\n",
      "100%|██████████| 109/109 [00:02<00:00, 46.44it/s]\n"
     ]
    },
    {
     "name": "stdout",
     "output_type": "stream",
     "text": [
      "Epoch: 072, Average loss: 0.10828\n",
      "Epoch: 072, Average loss: 0.33410\n"
     ]
    },
    {
     "name": "stderr",
     "output_type": "stream",
     "text": [
      "100%|██████████| 762/762 [00:32<00:00, 23.64it/s]\n",
      "100%|██████████| 109/109 [00:02<00:00, 45.18it/s]\n"
     ]
    },
    {
     "name": "stdout",
     "output_type": "stream",
     "text": [
      "Epoch: 073, Average loss: 0.10912\n",
      "Epoch: 073, Average loss: 0.34489\n"
     ]
    },
    {
     "name": "stderr",
     "output_type": "stream",
     "text": [
      "100%|██████████| 762/762 [00:32<00:00, 23.48it/s]\n",
      "100%|██████████| 109/109 [00:02<00:00, 45.85it/s]\n"
     ]
    },
    {
     "name": "stdout",
     "output_type": "stream",
     "text": [
      "Epoch: 074, Average loss: 0.10860\n",
      "Epoch: 074, Average loss: 0.33193\n"
     ]
    },
    {
     "name": "stderr",
     "output_type": "stream",
     "text": [
      "100%|██████████| 762/762 [00:31<00:00, 23.87it/s]\n",
      "100%|██████████| 109/109 [00:02<00:00, 43.82it/s]\n"
     ]
    },
    {
     "name": "stdout",
     "output_type": "stream",
     "text": [
      "Epoch: 075, Average loss: 0.10518\n",
      "Epoch: 075, Average loss: 0.34120\n"
     ]
    },
    {
     "name": "stderr",
     "output_type": "stream",
     "text": [
      "100%|██████████| 762/762 [00:32<00:00, 23.63it/s]\n",
      "100%|██████████| 109/109 [00:02<00:00, 44.55it/s]\n"
     ]
    },
    {
     "name": "stdout",
     "output_type": "stream",
     "text": [
      "Epoch: 076, Average loss: 0.10792\n",
      "Epoch: 076, Average loss: 0.34589\n"
     ]
    },
    {
     "name": "stderr",
     "output_type": "stream",
     "text": [
      " 94%|█████████▎| 713/762 [00:30<00:01, 25.17it/s]IOPub message rate exceeded.\n",
      "The notebook server will temporarily stop sending output\n",
      "to the client in order to avoid crashing it.\n",
      "To change this limit, set the config variable\n",
      "`--NotebookApp.iopub_msg_rate_limit`.\n",
      "\n",
      "Current values:\n",
      "NotebookApp.iopub_msg_rate_limit=1000.0 (msgs/sec)\n",
      "NotebookApp.rate_limit_window=3.0 (secs)\n",
      "\n",
      "100%|██████████| 762/762 [00:32<00:00, 23.58it/s]\n",
      "100%|██████████| 109/109 [00:02<00:00, 49.25it/s]\n"
     ]
    },
    {
     "name": "stdout",
     "output_type": "stream",
     "text": [
      "Epoch: 096, Average loss: 0.10718\n",
      "Epoch: 096, Average loss: 0.33190\n"
     ]
    },
    {
     "name": "stderr",
     "output_type": "stream",
     "text": [
      "100%|██████████| 762/762 [00:32<00:00, 23.41it/s]\n",
      "100%|██████████| 109/109 [00:02<00:00, 49.17it/s]\n"
     ]
    },
    {
     "name": "stdout",
     "output_type": "stream",
     "text": [
      "Epoch: 097, Average loss: 0.11068\n",
      "Epoch: 097, Average loss: 0.34512\n"
     ]
    },
    {
     "name": "stderr",
     "output_type": "stream",
     "text": [
      "100%|██████████| 762/762 [00:32<00:00, 23.50it/s]\n",
      "100%|██████████| 109/109 [00:02<00:00, 46.77it/s]\n"
     ]
    },
    {
     "name": "stdout",
     "output_type": "stream",
     "text": [
      "Epoch: 098, Average loss: 0.10822\n",
      "Epoch: 098, Average loss: 0.34916\n"
     ]
    },
    {
     "name": "stderr",
     "output_type": "stream",
     "text": [
      "100%|██████████| 762/762 [00:32<00:00, 23.39it/s]\n",
      "100%|██████████| 109/109 [00:02<00:00, 46.93it/s]"
     ]
    },
    {
     "name": "stdout",
     "output_type": "stream",
     "text": [
      "Epoch: 099, Average loss: 0.10737\n",
      "Epoch: 099, Average loss: 0.37682\n"
     ]
    },
    {
     "name": "stderr",
     "output_type": "stream",
     "text": [
      "\n"
     ]
    }
   ],
   "source": [
    "from torch_geometric.data import DataLoader\n",
    "maes=[]\n",
    "for a in range(7):\n",
    "    trains=np.where([targets['fold']!=a])[1]\n",
    "    tests=np.where([targets['fold']==a])[1]\n",
    "    train_dataset=[data_atoms[i] for i in trains]\n",
    "    test_dataset=[data_atoms[i] for i in tests]\n",
    "    train_loader = DataLoader(train_dataset, batch_size=4)\n",
    "    test_loader = DataLoader(test_dataset, batch_size=4)\n",
    "    model=SchNet()\n",
    "    device = 'cuda:2' if torch.cuda.is_available() else 'cpu'\n",
    "    #device='cpu'\n",
    "    model = model.to(device)\n",
    "\n",
    "    optimizer = torch.optim.Adam(model.parameters(), lr=1e-3)\n",
    "    epochs = 10\n",
    "    #\n",
    "    loss_func = torch.nn.L1Loss() #define loss\n",
    "    scheduler = torch.optim.lr_scheduler.CosineAnnealingLR(optimizer, T_max=256)\n",
    "    tr_loss = []\n",
    "    ts_loss=[]#set model to training mode\n",
    "    for epoch in range(100):\n",
    "        model.train() \n",
    "        valid_loss = 0\n",
    "\n",
    "        train_loss=0\n",
    "\n",
    "         #shuffle the training data each epoch\n",
    "        for d in tqdm(train_loader): #go over each training point\n",
    "            data = d.to(device)#send data to device\n",
    "\n",
    "            out = model(data) \n",
    "            optimizer.zero_grad() #zero gradients\n",
    "            #evaluate data point\n",
    "            loss = loss_func(out, data.y) #L1 error loss\n",
    "             #add loss value to aggregate loss\n",
    "            loss.backward() #compute gradients\n",
    "            optimizer.step() #apply optimization\n",
    "            train_loss += loss.item()\n",
    "\n",
    "        model.eval()     # Optional when not using Model Specific layer\n",
    "        for d in tqdm(test_loader):\n",
    "            data = d.to(device)\n",
    "            target = model(data)\n",
    "            loss = loss_func(target, data.y)\n",
    "            valid_loss += loss.item()\n",
    "\n",
    "        print('Epoch: {:03d}, Average loss: {:.5f}'.format(epoch, train_loss/len(train_loader)))\n",
    "        tr_loss.append(train_loss/len(train_loader))\n",
    "        \n",
    "        print('Epoch: {:03d}, Average loss: {:.5f}'.format(epoch, valid_loss/len(test_loader)))\n",
    "        ts_loss.append(valid_loss/len(test_loader))\n",
    "    maes.append(valid_loss/len(test_loader))\n",
    "\n",
    "    "
   ]
  },
  {
   "cell_type": "code",
   "execution_count": 55,
   "id": "029447f1",
   "metadata": {},
   "outputs": [
    {
     "data": {
      "text/plain": [
       "[0.32182802721311193,\n",
       " 0.33955699766755376,\n",
       " 0.3224277138675845,\n",
       " 0.29270045722433186,\n",
       " 0.33688947923242224,\n",
       " 0.31148186747685347,\n",
       " 0.3768232881920327]"
      ]
     },
     "execution_count": 55,
     "metadata": {},
     "output_type": "execute_result"
    }
   ],
   "source": [
    "maes"
   ]
  },
  {
   "cell_type": "code",
   "execution_count": 56,
   "id": "1442cebe",
   "metadata": {},
   "outputs": [
    {
     "data": {
      "text/plain": [
       "0.3288154044105558"
      ]
     },
     "execution_count": 56,
     "metadata": {},
     "output_type": "execute_result"
    }
   ],
   "source": [
    "np.mean(maes)"
   ]
  },
  {
   "cell_type": "code",
   "execution_count": 58,
   "id": "8119205d",
   "metadata": {},
   "outputs": [
    {
     "data": {
      "text/plain": [
       "0.02443561907944912"
      ]
     },
     "execution_count": 58,
     "metadata": {},
     "output_type": "execute_result"
    }
   ],
   "source": [
    "np.std(maes)"
   ]
  },
  {
   "cell_type": "code",
   "execution_count": null,
   "id": "43446810",
   "metadata": {},
   "outputs": [],
   "source": []
  }
 ],
 "metadata": {
  "kernelspec": {
   "display_name": "crystalvae",
   "language": "python",
   "name": "crystalvae"
  },
  "language_info": {
   "codemirror_mode": {
    "name": "ipython",
    "version": 3
   },
   "file_extension": ".py",
   "mimetype": "text/x-python",
   "name": "python",
   "nbconvert_exporter": "python",
   "pygments_lexer": "ipython3",
   "version": "3.6.13"
  }
 },
 "nbformat": 4,
 "nbformat_minor": 5
}
