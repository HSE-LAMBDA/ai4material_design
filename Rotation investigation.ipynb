{
 "cells": [
  {
   "cell_type": "markdown",
   "metadata": {},
   "source": [
    "Pymatgen [uses](https://github.com/materialsvirtuallab/megnet/blob/master/megnet/data/graph.py#L225) `find_points_in_spheres`"
   ]
  },
  {
   "cell_type": "code",
   "execution_count": 21,
   "metadata": {},
   "outputs": [],
   "source": [
    "from pymatgen.optimization.neighbors import find_points_in_spheres\n",
    "from pymatgen.transformations.standard_transformations import RotationTransformation \n",
    "import pandas as pd\n",
    "import numpy as np\n",
    "from megnet.data.crystal import CrystalGraph"
   ]
  },
  {
   "cell_type": "code",
   "execution_count": 22,
   "metadata": {},
   "outputs": [],
   "source": [
    "from pymatgen.transformations.standard_transformations import RotationTransformation \n",
    "structures = pd.read_pickle(\"datasets/all_structures_defects.pickle.gzip\")"
   ]
  },
  {
   "cell_type": "code",
   "execution_count": 26,
   "metadata": {},
   "outputs": [],
   "source": [
    "rotate = RotationTransformation([1, 0, 0], 36)"
   ]
  },
  {
   "cell_type": "code",
   "execution_count": 58,
   "metadata": {},
   "outputs": [],
   "source": [
    "gc = CrystalGraph(cutoff=15)\n",
    "graphs = [gc.convert(structure) for structure in structures.defect_representation]"
   ]
  },
  {
   "cell_type": "code",
   "execution_count": 60,
   "metadata": {},
   "outputs": [],
   "source": [
    "def preserving_rotate(structure):\n",
    "  rotated_structure = rotate.apply_transformation(structure)\n",
    "  rotated_structure.state = structure.state\n",
    "  return rotated_structure"
   ]
  },
  {
   "cell_type": "code",
   "execution_count": 61,
   "metadata": {},
   "outputs": [],
   "source": [
    "rotated_graphs = [gc.convert(preserving_rotate(structure))\n",
    "                  for structure in structures.defect_representation]"
   ]
  },
  {
   "cell_type": "code",
   "execution_count": 103,
   "metadata": {},
   "outputs": [],
   "source": [
    "def vertices_as_list(graph):\n",
    "  return list(zip(graph['index1'], graph['index2'], graph['bond']))\n",
    "\n",
    "def is_equal_graph(graph_a, graph_b):\n",
    "  if graph_a.keys() != graph_b.keys():\n",
    "    return False\n",
    "  if graph_a['state'] != graph_b['state']:\n",
    "    return False\n",
    "  return np.allclose(sorted(vertices_as_list(graph_a)), sorted(vertices_as_list(graph_b)))"
   ]
  },
  {
   "cell_type": "code",
   "execution_count": 104,
   "metadata": {},
   "outputs": [],
   "source": [
    "bad_indices = np.nonzero([not is_equal_graph(graphs[i], rotated_graphs[i]) for i in range(len(graphs))])"
   ]
  },
  {
   "cell_type": "code",
   "execution_count": 105,
   "metadata": {},
   "outputs": [
    {
     "data": {
      "text/plain": [
       "(array([], dtype=int64),)"
      ]
     },
     "execution_count": 105,
     "metadata": {},
     "output_type": "execute_result"
    }
   ],
   "source": [
    "bad_indices"
   ]
  }
 ],
 "metadata": {
  "kernelspec": {
   "display_name": "Python 3",
   "language": "python",
   "name": "python3"
  },
  "language_info": {
   "codemirror_mode": {
    "name": "ipython",
    "version": 3
   },
   "file_extension": ".py",
   "mimetype": "text/x-python",
   "name": "python",
   "nbconvert_exporter": "python",
   "pygments_lexer": "ipython3",
   "version": "3.6.9"
  }
 },
 "nbformat": 4,
 "nbformat_minor": 4
}
