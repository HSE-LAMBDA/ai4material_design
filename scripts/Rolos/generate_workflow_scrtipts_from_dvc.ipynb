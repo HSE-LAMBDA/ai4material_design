{
 "cells": [
  {
   "cell_type": "code",
   "execution_count": 5,
   "metadata": {},
   "outputs": [],
   "source": [
    "import os\n",
    "import sys\n",
    "import subprocess\n",
    "\n",
    "SCRIPT_DIR = os.getcwd()\n",
    "WORKFLOWS_DIR = os.path.join(SCRIPT_DIR, \"workflows\")"
   ]
  },
  {
   "cell_type": "code",
   "execution_count": 8,
   "metadata": {},
   "outputs": [],
   "source": [
    "def dump_dvc(workflow, output_dir):\n",
    "    os.makedirs(output_dir, exist_ok=True)\n",
    "    commands = subprocess.run(\n",
    "        [\"dvc\", \"repro\", \"-s\", \"-f\", \"--dry\", workflow],\n",
    "        capture_output=True,\n",
    "        text=True\n",
    "    ).stdout\n",
    "    with open(os.path.join(output_dir, \"commands.txt\"), \"w\") as file:\n",
    "        file.write(commands)"
   ]
  },
  {
   "cell_type": "code",
   "execution_count": 18,
   "metadata": {},
   "outputs": [],
   "source": [
    "os.makedirs(f\"{WORKFLOWS_DIR}/temp\", exist_ok=True)"
   ]
  },
  {
   "cell_type": "code",
   "execution_count": 20,
   "metadata": {},
   "outputs": [],
   "source": [
    "commands = subprocess.run(\n",
    "    [\"dvc\", \"repro\", \"-s\", \"-f\", \"--dry\", \"temp\"],\n",
    "    capture_output=True,\n",
    "    text=True\n",
    ").stdout\n"
   ]
  },
  {
   "cell_type": "code",
   "execution_count": 32,
   "metadata": {},
   "outputs": [
    {
     "ename": "ResolveError",
     "evalue": "failed to parse 'stages.csv-cif-low-density-8x8-Innopolis-v1@WSe2.cmd' in 'dvc.yaml': Could not find 'paths.datasets_root'",
     "output_type": "error",
     "traceback": [
      "\u001b[0;31m---------------------------------------------------------------------------\u001b[0m",
      "\u001b[0;31mKeyError\u001b[0m                                  Traceback (most recent call last)",
      "File \u001b[0;32m~/.pyenv/versions/3.11.3/lib/python3.11/site-packages/dvc/parsing/context.py:213\u001b[0m, in \u001b[0;36mContainer.select\u001b[0;34m(self, key)\u001b[0m\n\u001b[1;32m    212\u001b[0m \u001b[39mtry\u001b[39;00m:\n\u001b[0;32m--> 213\u001b[0m     d \u001b[39m=\u001b[39m \u001b[39mself\u001b[39;49m[index]\n\u001b[1;32m    214\u001b[0m \u001b[39mexcept\u001b[39;00m \u001b[39mLookupError\u001b[39;00m \u001b[39mas\u001b[39;00m exc:\n",
      "File \u001b[0;32m~/.pyenv/versions/3.11.3/lib/python3.11/site-packages/dvc/parsing/context.py:188\u001b[0m, in \u001b[0;36mContainer.__getitem__\u001b[0;34m(self, key)\u001b[0m\n\u001b[1;32m    187\u001b[0m \u001b[39mdef\u001b[39;00m \u001b[39m__getitem__\u001b[39m(\u001b[39mself\u001b[39m, key):\n\u001b[0;32m--> 188\u001b[0m     \u001b[39mreturn\u001b[39;00m \u001b[39mself\u001b[39;49m\u001b[39m.\u001b[39;49mdata[key]\n",
      "\u001b[0;31mKeyError\u001b[0m: 'paths'",
      "\nThe above exception was the direct cause of the following exception:\n",
      "\u001b[0;31mValueError\u001b[0m                                Traceback (most recent call last)",
      "File \u001b[0;32m~/.pyenv/versions/3.11.3/lib/python3.11/site-packages/dvc/parsing/context.py:343\u001b[0m, in \u001b[0;36mContext.select\u001b[0;34m(self, key, unwrap)\u001b[0m\n\u001b[1;32m    342\u001b[0m \u001b[39mtry\u001b[39;00m:\n\u001b[0;32m--> 343\u001b[0m     node \u001b[39m=\u001b[39m \u001b[39msuper\u001b[39;49m()\u001b[39m.\u001b[39;49mselect(normalized)\n\u001b[1;32m    344\u001b[0m \u001b[39mexcept\u001b[39;00m \u001b[39mValueError\u001b[39;00m \u001b[39mas\u001b[39;00m exc:\n",
      "File \u001b[0;32m~/.pyenv/versions/3.11.3/lib/python3.11/site-packages/dvc/parsing/context.py:215\u001b[0m, in \u001b[0;36mContainer.select\u001b[0;34m(self, key)\u001b[0m\n\u001b[1;32m    214\u001b[0m \u001b[39mexcept\u001b[39;00m \u001b[39mLookupError\u001b[39;00m \u001b[39mas\u001b[39;00m exc:\n\u001b[0;32m--> 215\u001b[0m     \u001b[39mraise\u001b[39;00m \u001b[39mValueError\u001b[39;00m(\u001b[39mf\u001b[39m\u001b[39m\"\u001b[39m\u001b[39mCould not find \u001b[39m\u001b[39m'\u001b[39m\u001b[39m{\u001b[39;00mindex\u001b[39m}\u001b[39;00m\u001b[39m'\u001b[39m\u001b[39m in \u001b[39m\u001b[39m{\u001b[39;00m\u001b[39mself\u001b[39m\u001b[39m.\u001b[39mdata\u001b[39m}\u001b[39;00m\u001b[39m\"\u001b[39m) \u001b[39mfrom\u001b[39;00m \u001b[39mexc\u001b[39;00m\n\u001b[1;32m    217\u001b[0m \u001b[39mif\u001b[39;00m \u001b[39mnot\u001b[39;00m rems:\n",
      "\u001b[0;31mValueError\u001b[0m: Could not find 'paths' in {'item': 'WSe2'}",
      "\nThe above exception was the direct cause of the following exception:\n",
      "\u001b[0;31mKeyNotInContext\u001b[0m                           Traceback (most recent call last)",
      "File \u001b[0;32m~/.pyenv/versions/3.11.3/lib/python3.11/site-packages/dvc/parsing/__init__.py:303\u001b[0m, in \u001b[0;36mEntryDefinition._resolve\u001b[0;34m(self, context, value, key, skip_checks)\u001b[0m\n\u001b[1;32m    302\u001b[0m \u001b[39mtry\u001b[39;00m:\n\u001b[0;32m--> 303\u001b[0m     \u001b[39mreturn\u001b[39;00m context\u001b[39m.\u001b[39;49mresolve(\n\u001b[1;32m    304\u001b[0m         value, skip_interpolation_checks\u001b[39m=\u001b[39;49mskip_checks, key\u001b[39m=\u001b[39;49mkey\n\u001b[1;32m    305\u001b[0m     )\n\u001b[1;32m    306\u001b[0m \u001b[39mexcept\u001b[39;00m (ParseError, KeyNotInContext) \u001b[39mas\u001b[39;00m exc:\n",
      "File \u001b[0;32m~/.pyenv/versions/3.11.3/lib/python3.11/site-packages/dvc/parsing/context.py:514\u001b[0m, in \u001b[0;36mContext.resolve\u001b[0;34m(self, src, unwrap, skip_interpolation_checks, key)\u001b[0m\n\u001b[1;32m    513\u001b[0m func \u001b[39m=\u001b[39m recurse(\u001b[39mself\u001b[39m\u001b[39m.\u001b[39mresolve_str)\n\u001b[0;32m--> 514\u001b[0m \u001b[39mreturn\u001b[39;00m func(src, unwrap, skip_interpolation_checks, key)\n",
      "File \u001b[0;32m~/.pyenv/versions/3.11.3/lib/python3.11/site-packages/dvc/parsing/interpolate.py:159\u001b[0m, in \u001b[0;36mrecurse.<locals>.wrapper\u001b[0;34m(data, *args)\u001b[0m\n\u001b[1;32m    158\u001b[0m \u001b[39mif\u001b[39;00m \u001b[39misinstance\u001b[39m(data, seq):\n\u001b[0;32m--> 159\u001b[0m     \u001b[39mreturn\u001b[39;00m \u001b[39mtype\u001b[39m(data)(\u001b[39mmap\u001b[39m(g, data))\n\u001b[1;32m    160\u001b[0m \u001b[39mif\u001b[39;00m \u001b[39misinstance\u001b[39m(data, \u001b[39mstr\u001b[39m):\n",
      "File \u001b[0;32m~/.pyenv/versions/3.11.3/lib/python3.11/site-packages/funcy/funcs.py:37\u001b[0m, in \u001b[0;36mrpartial.<locals>.<lambda>\u001b[0;34m(*a, **kw)\u001b[0m\n\u001b[1;32m     35\u001b[0m \u001b[39m\u001b[39m\u001b[39m\"\"\"Partially applies last arguments.\u001b[39;00m\n\u001b[1;32m     36\u001b[0m \u001b[39m   New keyworded arguments extend and override kwargs.\"\"\"\u001b[39;00m\n\u001b[0;32m---> 37\u001b[0m \u001b[39mreturn\u001b[39;00m \u001b[39mlambda\u001b[39;00m \u001b[39m*\u001b[39ma, \u001b[39m*\u001b[39m\u001b[39m*\u001b[39mkw: func(\u001b[39m*\u001b[39;49m(a \u001b[39m+\u001b[39;49m args), \u001b[39m*\u001b[39;49m\u001b[39m*\u001b[39;49m\u001b[39mdict\u001b[39;49m(kwargs, \u001b[39m*\u001b[39;49m\u001b[39m*\u001b[39;49mkw))\n",
      "File \u001b[0;32m~/.pyenv/versions/3.11.3/lib/python3.11/site-packages/dvc/parsing/interpolate.py:161\u001b[0m, in \u001b[0;36mrecurse.<locals>.wrapper\u001b[0;34m(data, *args)\u001b[0m\n\u001b[1;32m    160\u001b[0m \u001b[39mif\u001b[39;00m \u001b[39misinstance\u001b[39m(data, \u001b[39mstr\u001b[39m):\n\u001b[0;32m--> 161\u001b[0m     \u001b[39mreturn\u001b[39;00m f(data, \u001b[39m*\u001b[39;49margs)\n\u001b[1;32m    162\u001b[0m \u001b[39mreturn\u001b[39;00m data\n",
      "File \u001b[0;32m~/.pyenv/versions/3.11.3/lib/python3.11/site-packages/dvc/parsing/context.py:537\u001b[0m, in \u001b[0;36mContext.resolve_str\u001b[0;34m(self, src, unwrap, skip_interpolation_checks, key)\u001b[0m\n\u001b[1;32m    536\u001b[0m \u001b[39m# but not \"${num} days\"\u001b[39;00m\n\u001b[0;32m--> 537\u001b[0m \u001b[39mreturn\u001b[39;00m str_interpolate(\n\u001b[1;32m    538\u001b[0m     src, matches, \u001b[39mself\u001b[39;49m, skip_checks\u001b[39m=\u001b[39;49mskip_interpolation_checks, key\u001b[39m=\u001b[39;49mkey\n\u001b[1;32m    539\u001b[0m )\n",
      "File \u001b[0;32m~/.pyenv/versions/3.11.3/lib/python3.11/site-packages/dvc/parsing/interpolate.py:219\u001b[0m, in \u001b[0;36mstr_interpolate\u001b[0;34m(template, matches, context, skip_checks, key)\u001b[0m\n\u001b[1;32m    218\u001b[0m expr \u001b[39m=\u001b[39m get_expression(match, skip_checks\u001b[39m=\u001b[39mskip_checks)\n\u001b[0;32m--> 219\u001b[0m value \u001b[39m=\u001b[39m context\u001b[39m.\u001b[39;49mselect(expr, unwrap\u001b[39m=\u001b[39;49m\u001b[39mTrue\u001b[39;49;00m)\n\u001b[1;32m    220\u001b[0m validate_value(value, key)\n",
      "File \u001b[0;32m~/.pyenv/versions/3.11.3/lib/python3.11/site-packages/dvc/parsing/context.py:345\u001b[0m, in \u001b[0;36mContext.select\u001b[0;34m(self, key, unwrap)\u001b[0m\n\u001b[1;32m    344\u001b[0m \u001b[39mexcept\u001b[39;00m \u001b[39mValueError\u001b[39;00m \u001b[39mas\u001b[39;00m exc:\n\u001b[0;32m--> 345\u001b[0m     \u001b[39mraise\u001b[39;00m KeyNotInContext(key) \u001b[39mfrom\u001b[39;00m \u001b[39mexc\u001b[39;00m\n\u001b[1;32m    347\u001b[0m \u001b[39massert\u001b[39;00m \u001b[39misinstance\u001b[39m(node, Node)\n",
      "\u001b[0;31mKeyNotInContext\u001b[0m: Could not find 'paths.datasets_root'",
      "\nDuring handling of the above exception, another exception occurred:\n",
      "\u001b[0;31mResolveError\u001b[0m                              Traceback (most recent call last)",
      "Cell \u001b[0;32mIn[32], line 4\u001b[0m\n\u001b[1;32m      1\u001b[0m \u001b[39mfrom\u001b[39;00m \u001b[39mdvc\u001b[39;00m\u001b[39m.\u001b[39;00m repo \u001b[39mimport\u001b[39;00m \u001b[39mRepo\u001b[39;00m\n\u001b[1;32m      3\u001b[0m r \u001b[39m=\u001b[39m Repo ()\n\u001b[0;32m----> 4\u001b[0m r\u001b[39m.\u001b[39;49m stage\u001b[39m.\u001b[39;49mcollect (\u001b[39m\"\u001b[39;49m\u001b[39mcsv-cif-low-density-8x8-Innopolis-v1\u001b[39;49m\u001b[39m\"\u001b[39;49m)\n",
      "File \u001b[0;32m~/.pyenv/versions/3.11.3/lib/python3.11/site-packages/dvc/repo/stage.py:346\u001b[0m, in \u001b[0;36mStageLoad.collect\u001b[0;34m(self, target, with_deps, recursive, graph, glob)\u001b[0m\n\u001b[1;32m    343\u001b[0m     path \u001b[39m=\u001b[39m \u001b[39mself\u001b[39m\u001b[39m.\u001b[39mfs\u001b[39m.\u001b[39mpath\u001b[39m.\u001b[39mabspath(target)\n\u001b[1;32m    344\u001b[0m     \u001b[39mreturn\u001b[39;00m collect_inside_path(path, graph \u001b[39mor\u001b[39;00m \u001b[39mself\u001b[39m\u001b[39m.\u001b[39mrepo\u001b[39m.\u001b[39mindex\u001b[39m.\u001b[39mgraph)\n\u001b[0;32m--> 346\u001b[0m stages \u001b[39m=\u001b[39m \u001b[39mself\u001b[39;49m\u001b[39m.\u001b[39;49mfrom_target(target, glob\u001b[39m=\u001b[39;49mglob)\n\u001b[1;32m    347\u001b[0m \u001b[39mif\u001b[39;00m \u001b[39mnot\u001b[39;00m with_deps:\n\u001b[1;32m    348\u001b[0m     \u001b[39mreturn\u001b[39;00m stages\n",
      "File \u001b[0;32m~/.pyenv/versions/3.11.3/lib/python3.11/site-packages/dvc/repo/stage.py:200\u001b[0m, in \u001b[0;36mStageLoad.from_target\u001b[0;34m(self, target, accept_group, glob)\u001b[0m\n\u001b[1;32m    195\u001b[0m \u001b[39m\u001b[39m\u001b[39m\"\"\"\u001b[39;00m\n\u001b[1;32m    196\u001b[0m \u001b[39mReturns a list of stage from the provided target.\u001b[39;00m\n\u001b[1;32m    197\u001b[0m \u001b[39m(see load method below for further details)\u001b[39;00m\n\u001b[1;32m    198\u001b[0m \u001b[39m\"\"\"\u001b[39;00m\n\u001b[1;32m    199\u001b[0m path, name \u001b[39m=\u001b[39m parse_target(target, isa_glob\u001b[39m=\u001b[39mglob)\n\u001b[0;32m--> 200\u001b[0m \u001b[39mreturn\u001b[39;00m \u001b[39mself\u001b[39;49m\u001b[39m.\u001b[39;49mload_all(path\u001b[39m=\u001b[39;49mpath, name\u001b[39m=\u001b[39;49mname, accept_group\u001b[39m=\u001b[39;49maccept_group, glob\u001b[39m=\u001b[39;49mglob)\n",
      "File \u001b[0;32m~/.pyenv/versions/3.11.3/lib/python3.11/site-packages/dvc/repo/stage.py:275\u001b[0m, in \u001b[0;36mStageLoad.load_all\u001b[0;34m(self, path, name, accept_group, glob)\u001b[0m\n\u001b[1;32m    273\u001b[0m \u001b[39massert\u001b[39;00m \u001b[39misinstance\u001b[39m(stages, StageLoader)\n\u001b[1;32m    274\u001b[0m keys \u001b[39m=\u001b[39m \u001b[39mself\u001b[39m\u001b[39m.\u001b[39m_get_keys(stages, name, accept_group, glob)\n\u001b[0;32m--> 275\u001b[0m \u001b[39mreturn\u001b[39;00m [stages[key] \u001b[39mfor\u001b[39;49;00m key \u001b[39min\u001b[39;49;00m keys]\n",
      "File \u001b[0;32m~/.pyenv/versions/3.11.3/lib/python3.11/site-packages/dvc/repo/stage.py:275\u001b[0m, in \u001b[0;36m<listcomp>\u001b[0;34m(.0)\u001b[0m\n\u001b[1;32m    273\u001b[0m \u001b[39massert\u001b[39;00m \u001b[39misinstance\u001b[39m(stages, StageLoader)\n\u001b[1;32m    274\u001b[0m keys \u001b[39m=\u001b[39m \u001b[39mself\u001b[39m\u001b[39m.\u001b[39m_get_keys(stages, name, accept_group, glob)\n\u001b[0;32m--> 275\u001b[0m \u001b[39mreturn\u001b[39;00m [stages[key] \u001b[39mfor\u001b[39;00m key \u001b[39min\u001b[39;00m keys]\n",
      "File \u001b[0;32m~/.pyenv/versions/3.11.3/lib/python3.11/site-packages/dvc/stage/loader.py:139\u001b[0m, in \u001b[0;36mStageLoader.__getitem__\u001b[0;34m(self, name)\u001b[0m\n\u001b[1;32m    136\u001b[0m     \u001b[39mraise\u001b[39;00m StageNameUnspecified(\u001b[39mself\u001b[39m\u001b[39m.\u001b[39mdvcfile)\n\u001b[1;32m    138\u001b[0m \u001b[39mtry\u001b[39;00m:\n\u001b[0;32m--> 139\u001b[0m     resolved_data \u001b[39m=\u001b[39m \u001b[39mself\u001b[39;49m\u001b[39m.\u001b[39;49mresolver\u001b[39m.\u001b[39;49mresolve_one(name)\n\u001b[1;32m    140\u001b[0m \u001b[39mexcept\u001b[39;00m EntryNotFound:\n\u001b[1;32m    141\u001b[0m     \u001b[39mraise\u001b[39;00m StageNotFound(\u001b[39mself\u001b[39m\u001b[39m.\u001b[39mdvcfile, name)  \u001b[39m# noqa: B904\u001b[39;00m\n",
      "File \u001b[0;32m~/.pyenv/versions/3.11.3/lib/python3.11/site-packages/dvc/parsing/__init__.py:183\u001b[0m, in \u001b[0;36mDataResolver.resolve_one\u001b[0;34m(self, name)\u001b[0m\n\u001b[1;32m    180\u001b[0m     \u001b[39mreturn\u001b[39;00m definition\u001b[39m.\u001b[39mresolve()\n\u001b[1;32m    182\u001b[0m \u001b[39massert\u001b[39;00m key\n\u001b[0;32m--> 183\u001b[0m \u001b[39mreturn\u001b[39;00m definition\u001b[39m.\u001b[39;49mresolve_one(key)\n",
      "File \u001b[0;32m~/.pyenv/versions/3.11.3/lib/python3.11/site-packages/dvc/parsing/__init__.py:418\u001b[0m, in \u001b[0;36mForeachDefinition.resolve_one\u001b[0;34m(self, key)\u001b[0m\n\u001b[1;32m    417\u001b[0m \u001b[39mdef\u001b[39;00m \u001b[39mresolve_one\u001b[39m(\u001b[39mself\u001b[39m, key: \u001b[39mstr\u001b[39m) \u001b[39m-\u001b[39m\u001b[39m>\u001b[39m \u001b[39m\"\u001b[39m\u001b[39mDictStrAny\u001b[39m\u001b[39m\"\u001b[39m:\n\u001b[0;32m--> 418\u001b[0m     \u001b[39mreturn\u001b[39;00m \u001b[39mself\u001b[39;49m\u001b[39m.\u001b[39;49m_each_iter(key)\n",
      "File \u001b[0;32m~/.pyenv/versions/3.11.3/lib/python3.11/site-packages/dvc/parsing/__init__.py:448\u001b[0m, in \u001b[0;36mForeachDefinition._each_iter\u001b[0;34m(self, key)\u001b[0m\n\u001b[1;32m    442\u001b[0m entry \u001b[39m=\u001b[39m EntryDefinition(\n\u001b[1;32m    443\u001b[0m     \u001b[39mself\u001b[39m\u001b[39m.\u001b[39mresolver, \u001b[39mself\u001b[39m\u001b[39m.\u001b[39mcontext, generated, \u001b[39mself\u001b[39m\u001b[39m.\u001b[39mdo_definition\n\u001b[1;32m    444\u001b[0m )\n\u001b[1;32m    445\u001b[0m \u001b[39mtry\u001b[39;00m:\n\u001b[1;32m    446\u001b[0m     \u001b[39m# optimization: skip checking for syntax errors on each foreach\u001b[39;00m\n\u001b[1;32m    447\u001b[0m     \u001b[39m# generated stages. We do it once when accessing do_definition.\u001b[39;00m\n\u001b[0;32m--> 448\u001b[0m     \u001b[39mreturn\u001b[39;00m entry\u001b[39m.\u001b[39;49mresolve_stage(skip_checks\u001b[39m=\u001b[39;49m\u001b[39mTrue\u001b[39;49;00m)\n\u001b[1;32m    449\u001b[0m \u001b[39mexcept\u001b[39;00m ContextError \u001b[39mas\u001b[39;00m exc:\n\u001b[1;32m    450\u001b[0m     format_and_raise(exc, \u001b[39mf\u001b[39m\u001b[39m\"\u001b[39m\u001b[39mstage \u001b[39m\u001b[39m'\u001b[39m\u001b[39m{\u001b[39;00mgenerated\u001b[39m}\u001b[39;00m\u001b[39m'\u001b[39m\u001b[39m\"\u001b[39m, \u001b[39mself\u001b[39m\u001b[39m.\u001b[39mrelpath)\n",
      "File \u001b[0;32m~/.pyenv/versions/3.11.3/lib/python3.11/site-packages/dvc/parsing/__init__.py:291\u001b[0m, in \u001b[0;36mEntryDefinition.resolve_stage\u001b[0;34m(self, skip_checks)\u001b[0m\n\u001b[1;32m    280\u001b[0m logger\u001b[39m.\u001b[39mtrace(  \u001b[39m# type: ignore[attr-defined]\u001b[39;00m\n\u001b[1;32m    281\u001b[0m     \u001b[39m\"\u001b[39m\u001b[39mContext during resolution of stage \u001b[39m\u001b[39m%s\u001b[39;00m\u001b[39m:\u001b[39m\u001b[39m\\n\u001b[39;00m\u001b[39m%s\u001b[39;00m\u001b[39m\"\u001b[39m, name, context\n\u001b[1;32m    282\u001b[0m )\n\u001b[1;32m    284\u001b[0m \u001b[39mwith\u001b[39;00m context\u001b[39m.\u001b[39mtrack() \u001b[39mas\u001b[39;00m tracked_data:\n\u001b[1;32m    285\u001b[0m     \u001b[39m# NOTE: we do not pop \"wdir\", and resolve it again\u001b[39;00m\n\u001b[1;32m    286\u001b[0m     \u001b[39m# this does not affect anything and is done to try to\u001b[39;00m\n\u001b[0;32m   (...)\u001b[0m\n\u001b[1;32m    289\u001b[0m     \u001b[39m# allow overwriting and/or str interpolating complex objects.\u001b[39;00m\n\u001b[1;32m    290\u001b[0m     \u001b[39m# Fix if/when those assumptions are no longer valid.\u001b[39;00m\n\u001b[0;32m--> 291\u001b[0m     resolved \u001b[39m=\u001b[39m {\n\u001b[1;32m    292\u001b[0m         key: \u001b[39mself\u001b[39;49m\u001b[39m.\u001b[39;49m_resolve(context, value, key, skip_checks)\n\u001b[1;32m    293\u001b[0m         \u001b[39mfor\u001b[39;49;00m key, value \u001b[39min\u001b[39;49;00m definition\u001b[39m.\u001b[39;49mitems()\n\u001b[1;32m    294\u001b[0m     }\n\u001b[1;32m    296\u001b[0m \u001b[39mself\u001b[39m\u001b[39m.\u001b[39mresolver\u001b[39m.\u001b[39mtrack_vars(name, tracked_data)\n\u001b[1;32m    297\u001b[0m \u001b[39mreturn\u001b[39;00m {name: resolved}\n",
      "File \u001b[0;32m~/.pyenv/versions/3.11.3/lib/python3.11/site-packages/dvc/parsing/__init__.py:292\u001b[0m, in \u001b[0;36m<dictcomp>\u001b[0;34m(.0)\u001b[0m\n\u001b[1;32m    280\u001b[0m logger\u001b[39m.\u001b[39mtrace(  \u001b[39m# type: ignore[attr-defined]\u001b[39;00m\n\u001b[1;32m    281\u001b[0m     \u001b[39m\"\u001b[39m\u001b[39mContext during resolution of stage \u001b[39m\u001b[39m%s\u001b[39;00m\u001b[39m:\u001b[39m\u001b[39m\\n\u001b[39;00m\u001b[39m%s\u001b[39;00m\u001b[39m\"\u001b[39m, name, context\n\u001b[1;32m    282\u001b[0m )\n\u001b[1;32m    284\u001b[0m \u001b[39mwith\u001b[39;00m context\u001b[39m.\u001b[39mtrack() \u001b[39mas\u001b[39;00m tracked_data:\n\u001b[1;32m    285\u001b[0m     \u001b[39m# NOTE: we do not pop \"wdir\", and resolve it again\u001b[39;00m\n\u001b[1;32m    286\u001b[0m     \u001b[39m# this does not affect anything and is done to try to\u001b[39;00m\n\u001b[0;32m   (...)\u001b[0m\n\u001b[1;32m    289\u001b[0m     \u001b[39m# allow overwriting and/or str interpolating complex objects.\u001b[39;00m\n\u001b[1;32m    290\u001b[0m     \u001b[39m# Fix if/when those assumptions are no longer valid.\u001b[39;00m\n\u001b[1;32m    291\u001b[0m     resolved \u001b[39m=\u001b[39m {\n\u001b[0;32m--> 292\u001b[0m         key: \u001b[39mself\u001b[39;49m\u001b[39m.\u001b[39;49m_resolve(context, value, key, skip_checks)\n\u001b[1;32m    293\u001b[0m         \u001b[39mfor\u001b[39;00m key, value \u001b[39min\u001b[39;00m definition\u001b[39m.\u001b[39mitems()\n\u001b[1;32m    294\u001b[0m     }\n\u001b[1;32m    296\u001b[0m \u001b[39mself\u001b[39m\u001b[39m.\u001b[39mresolver\u001b[39m.\u001b[39mtrack_vars(name, tracked_data)\n\u001b[1;32m    297\u001b[0m \u001b[39mreturn\u001b[39;00m {name: resolved}\n",
      "File \u001b[0;32m~/.pyenv/versions/3.11.3/lib/python3.11/site-packages/dvc/parsing/__init__.py:307\u001b[0m, in \u001b[0;36mEntryDefinition._resolve\u001b[0;34m(self, context, value, key, skip_checks)\u001b[0m\n\u001b[1;32m    303\u001b[0m     \u001b[39mreturn\u001b[39;00m context\u001b[39m.\u001b[39mresolve(\n\u001b[1;32m    304\u001b[0m         value, skip_interpolation_checks\u001b[39m=\u001b[39mskip_checks, key\u001b[39m=\u001b[39mkey\n\u001b[1;32m    305\u001b[0m     )\n\u001b[1;32m    306\u001b[0m \u001b[39mexcept\u001b[39;00m (ParseError, KeyNotInContext) \u001b[39mas\u001b[39;00m exc:\n\u001b[0;32m--> 307\u001b[0m     format_and_raise(exc, \u001b[39mf\u001b[39;49m\u001b[39m\"\u001b[39;49m\u001b[39m'\u001b[39;49m\u001b[39m{\u001b[39;49;00m\u001b[39mself\u001b[39;49m\u001b[39m.\u001b[39;49mwhere\u001b[39m}\u001b[39;49;00m\u001b[39m.\u001b[39;49m\u001b[39m{\u001b[39;49;00m\u001b[39mself\u001b[39;49m\u001b[39m.\u001b[39;49mname\u001b[39m}\u001b[39;49;00m\u001b[39m.\u001b[39;49m\u001b[39m{\u001b[39;49;00mkey\u001b[39m}\u001b[39;49;00m\u001b[39m'\u001b[39;49m\u001b[39m\"\u001b[39;49m, \u001b[39mself\u001b[39;49m\u001b[39m.\u001b[39;49mrelpath)\n",
      "File \u001b[0;32m~/.pyenv/versions/3.11.3/lib/python3.11/site-packages/dvc/parsing/__init__.py:81\u001b[0m, in \u001b[0;36mformat_and_raise\u001b[0;34m(exc, msg, path)\u001b[0m\n\u001b[1;32m     77\u001b[0m message \u001b[39m=\u001b[39m _format_preamble(msg, path, spacing) \u001b[39m+\u001b[39m \u001b[39mstr\u001b[39m(exc)\n\u001b[1;32m     79\u001b[0m \u001b[39m# FIXME: cannot reraise because of how we log \"cause\" of the exception\u001b[39;00m\n\u001b[1;32m     80\u001b[0m \u001b[39m# the error message is verbose, hence need control over the spacing\u001b[39;00m\n\u001b[0;32m---> 81\u001b[0m _reraise_err(ResolveError, message, from_exc\u001b[39m=\u001b[39;49mexc)\n",
      "File \u001b[0;32m~/.pyenv/versions/3.11.3/lib/python3.11/site-packages/dvc/parsing/__init__.py:90\u001b[0m, in \u001b[0;36m_reraise_err\u001b[0;34m(exc_cls, from_exc, *args)\u001b[0m\n\u001b[1;32m     88\u001b[0m \u001b[39mif\u001b[39;00m from_exc \u001b[39mand\u001b[39;00m logger\u001b[39m.\u001b[39misEnabledFor(logging\u001b[39m.\u001b[39mDEBUG):\n\u001b[1;32m     89\u001b[0m     \u001b[39mraise\u001b[39;00m err \u001b[39mfrom\u001b[39;00m \u001b[39mfrom_exc\u001b[39;00m\n\u001b[0;32m---> 90\u001b[0m \u001b[39mraise\u001b[39;00m err\n",
      "\u001b[0;31mResolveError\u001b[0m: failed to parse 'stages.csv-cif-low-density-8x8-Innopolis-v1@WSe2.cmd' in 'dvc.yaml': Could not find 'paths.datasets_root'"
     ]
    }
   ],
   "source": [
    "from dvc. repo import Repo\n",
    "\n",
    "r = Repo ()\n",
    "r. stage.collect (\"csv-cif-low-density-8x8-Innopolis-v1\")"
   ]
  },
  {
   "cell_type": "code",
   "execution_count": 31,
   "metadata": {},
   "outputs": [
    {
     "data": {
      "text/plain": [
       "CompletedProcess(args=['dvc', 'repro', '-s', '-f', '--dry', 'csv-cif-low-density-8x8-Innopolis-v1'], returncode=255, stdout='', stderr=\"ERROR: failed to parse 'stages.csv-cif-low-density-8x8-Innopolis-v1@WSe2.cmd' in 'dvc.yaml': Could not find 'paths.datasets_root'\\n\")"
      ]
     },
     "execution_count": 31,
     "metadata": {},
     "output_type": "execute_result"
    }
   ],
   "source": [
    "subprocess.run(\n",
    "    [\"dvc\", \"repro\", \"-s\", \"-f\", \"--dry\", \"csv-cif-low-density-8x8-Innopolis-v1\"],\n",
    "    capture_output=True,\n",
    "    text=True\n",
    ")"
   ]
  },
  {
   "cell_type": "code",
   "execution_count": 26,
   "metadata": {},
   "outputs": [],
   "source": [
    "with open(os.path.join(f\"{WORKFLOWS_DIR}/csv-cif\", \"commands.txt\"), \"w\") as file:\n",
    "    file.write(commands)"
   ]
  },
  {
   "cell_type": "code",
   "execution_count": null,
   "metadata": {},
   "outputs": [],
   "source": [
    "\n",
    "if len(sys.argv) != 2 or not sys.argv[1].isdigit():\n",
    "    print(\"Usage: python script.py number_of_nodes\", file=sys.stderr)\n",
    "    sys.exit(1)\n"
   ]
  },
  {
   "cell_type": "code",
   "execution_count": null,
   "metadata": {},
   "outputs": [],
   "source": [
    "\n",
    "number_of_nodes = int(sys.argv[1])\n",
    "print(f\"Generating scripts for {number_of_nodes} nodes\")\n"
   ]
  },
  {
   "cell_type": "code",
   "execution_count": null,
   "metadata": {},
   "outputs": [],
   "source": [
    "\n",
    "os.chdir(SCRIPT_DIR)\n",
    "os.chdir(\"../../\")\n",
    "params_yaml_bak = os.path.join(SCRIPT_DIR, \"../../params.yaml.bak\")\n",
    "params_yaml = os.path.join(SCRIPT_DIR, \"../../params.yaml\")\n",
    "subprocess.run([\"cp\", params_yaml, params_yaml_bak])\n"
   ]
  },
  {
   "cell_type": "code",
   "execution_count": null,
   "metadata": {},
   "outputs": [],
   "source": [
    "\n",
    "subprocess.run([\"cp\", \"../../params-rolos-workflow.yaml\", params_yaml])\n",
    "print(\"Copied params-rolos-workflow.yaml to params.yaml\")\n"
   ]
  },
  {
   "cell_type": "code",
   "execution_count": null,
   "metadata": {},
   "outputs": [],
   "source": [
    "\n",
    "dump_dvc(\"csv-cif-low-density-8x8-Innopolis-v1\", os.path.join(WORKFLOWS_DIR, \"low-density-index\"))\n",
    "dump_dvc(\"csv-cif-no-spin-500-data csv-cif-spin-500-data csv-cif-low-density-8x8\", os.path.join(WORKFLOWS_DIR, \"csv-cif\"))\n",
    "dump_dvc(\"processed-low-density processed-high-density\", os.path.join(WORKFLOWS_DIR, \"processed\"))\n",
    "dump_dvc(\"matminer@high_density_defects/BP_spin_500 matminer@high_density_defects/GaSe_spin_500 matminer@high_density_defects/hBN_spin_500 matminer@high_density_defects/InSe_spin_500 matminer@high_density_defects/MoS2_500 matminer@high_density_defects/WSe2_500 matminer@low_density_defects/MoS2 matminer@low_density_defects/WSe2\", os.path.join(WORKFLOWS_DIR, \"matminer\"))\n"
   ]
  },
  {
   "cell_type": "code",
   "execution_count": null,
   "metadata": {},
   "outputs": [],
   "source": [
    "\n",
    "for workflow in [\"low-density-index\", \"csv-cif\", \"processed\", \"matminer\"]:\n",
    "    for node in range(1, number_of_nodes + 1):\n",
    "        print(f\"Generating script for {workflow} node {node}\")\n",
    "        filename = os.path.join(WORKFLOWS_DIR, workflow, f\"node_{node}.sh\")\n",
    "        with open(filename, \"w\") as file:\n",
    "            file.write(\"#!/bin/bash\\n\")\n",
    "            file.write(\"cd ai4material_design\\n\")\n",
    "            file.write(\"if [ ! -f scripts/Rolos/dry-run ]; then\\n\")\n",
    "            if workflow == \"matminer\":\n",
    "                file.write('pip install \"numpy<1.24.0\"\\n')\n",
    "            file.write(\n",
    "                subprocess.run(\n",
    "                    [\"awk\", f'(NR - 1) % {number_of_nodes} == {node - 1}', os.path.join(WORKFLOWS_DIR, workflow, \"commands.txt\")],\n",
    "                    capture_output=True,\n",
    "                    text=True\n",
    "                ).stdout\n",
    "            )\n",
    "            file.write(\"fi\\n\")\n"
   ]
  },
  {
   "cell_type": "code",
   "execution_count": null,
   "metadata": {},
   "outputs": [],
   "source": [
    "\n",
    "subprocess.run([\"mv\", params_yaml_bak, params_yaml])\n",
    "print(\"Restored params.yaml\")\n"
   ]
  }
 ],
 "metadata": {
  "kernelspec": {
   "display_name": "Python 3",
   "language": "python",
   "name": "python3"
  },
  "language_info": {
   "codemirror_mode": {
    "name": "ipython",
    "version": 3
   },
   "file_extension": ".py",
   "mimetype": "text/x-python",
   "name": "python",
   "nbconvert_exporter": "python",
   "pygments_lexer": "ipython3",
   "version": "3.11.3"
  },
  "orig_nbformat": 4
 },
 "nbformat": 4,
 "nbformat_minor": 2
}
