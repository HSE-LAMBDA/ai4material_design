{
 "cells": [
  {
   "cell_type": "code",
   "execution_count": 20,
   "metadata": {},
   "outputs": [],
   "source": [
    "from pathlib import Path\n",
    "from itertools import groupby"
   ]
  },
  {
   "cell_type": "code",
   "execution_count": 2,
   "metadata": {},
   "outputs": [],
   "source": [
    "checkpoints = Path('../datasets/checkpoints/')"
   ]
  },
  {
   "cell_type": "code",
   "execution_count": 50,
   "metadata": {},
   "outputs": [
    {
     "data": {
      "text/plain": [
       "['/home/al-maeeni/ai4material_design/datasets/checkpoints/pilot-plain-cv/band_gap/megnet-sparse-eos-multitarget/1_2_3_4_5_6_7/val_mae_00499_last.hdf5',\n",
       " '/home/al-maeeni/ai4material_design/datasets/checkpoints/pilot-plain-cv/band_gap/megnet-full-eos/0_2_3_4_5_6_7/val_mae_00016_0.421877.hdf5',\n",
       " '/home/al-maeeni/ai4material_design/datasets/checkpoints/pilot-plain-cv/band_gap/megnet-sparse-eos/1_2_3_4_5_6_7/val_mae_00234_0.024013.hdf5',\n",
       " \"/home/al-maeeni/ai4material_design/datasets/checkpoints/pilot-plain-cv/['formation_energy_per_site', 'homo']/megnet-sparse-eos-multitarget/0_1_2_3_4_6_7/val_mae_00008_0.397729.hdf5\",\n",
       " \"/home/al-maeeni/ai4material_design/datasets/checkpoints/pilot-plain-cv/['formation_energy_per_site', 'homo']/megnet-full-eos/1_2_3_4_5_6_7/val_mae_00003_1.497624.hdf5\",\n",
       " '/home/al-maeeni/ai4material_design/datasets/checkpoints/MoS2-plain-cv/band_gap/megnet-full/0_2_3_4_5_6_7/val_mae_00799_0.025048.hdf5',\n",
       " '/home/al-maeeni/ai4material_design/datasets/checkpoints/MoS2-plain-cv/band_gap/megnet-full-z/0_1_2_3_4_5_6/val_mae_00622_0.038904.hdf5',\n",
       " '/home/al-maeeni/ai4material_design/datasets/checkpoints/MoS2-plain-cv/band_gap/megnet-sparse/0_1_3_4_5_6_7/val_mae_00800_0.014324.hdf5',\n",
       " '/home/al-maeeni/ai4material_design/datasets/checkpoints/MoS2-plain-cv/band_gap/megnet-full-eos/0_1_2_3_4_6_7/val_mae_00800_0.031530.hdf5',\n",
       " '/home/al-maeeni/ai4material_design/datasets/checkpoints/MoS2-plain-cv/band_gap/megnet-sparse-eos/0_2_3_4_5_6_7/val_mae_00001_0.073496.hdf5',\n",
       " '/home/al-maeeni/ai4material_design/datasets/checkpoints/MoS2-plain-cv/band_gap/megnet-sparse-z/0_2_3_4_5_6_7/val_mae_00797_0.006622.hdf5',\n",
       " '/home/al-maeeni/ai4material_design/datasets/checkpoints/MoS2-plain-cv/band_gap/megnet-sparse-z-werespecies/1_2_3_4_5_6_7/val_mae_00782_0.006880.hdf5',\n",
       " '/home/al-maeeni/ai4material_design/datasets/checkpoints/MoS2-plain-cv/formation_energy_per_site/megnet-sparse/0_2_3_4_5_6_7/val_mae_00773_0.028934.hdf5',\n",
       " '/home/al-maeeni/ai4material_design/datasets/checkpoints/MoS2-plain-cv/formation_energy_per_site/megnet-full-eos/0_1_2_3_4_6_7/val_mae_00799_last.hdf5',\n",
       " '/home/al-maeeni/ai4material_design/datasets/checkpoints/MoS2-plain-cv/formation_energy_per_site/megnet-sparse-z/0_2_3_4_5_6_7/val_mae_00791_0.005452.hdf5',\n",
       " '/home/al-maeeni/ai4material_design/datasets/checkpoints/MoS2-plain-cv/formation_energy_per_site/megnet-sparse-z-werespecies/1_2_3_4_5_6_7/val_mae_00793_0.004670.hdf5',\n",
       " '/home/al-maeeni/ai4material_design/datasets/checkpoints/MoS2-plain-cv/lumo/megnet-full-z/1_2_3_4_5_6_7/val_mae_00034_0.144415.hdf5',\n",
       " '/home/al-maeeni/ai4material_design/datasets/checkpoints/MoS2-plain-cv/lumo/megnet-sparse/0_1_2_3_5_6_7/val_mae_00790_0.007091.hdf5',\n",
       " '/home/al-maeeni/ai4material_design/datasets/checkpoints/MoS2-plain-cv/lumo/megnet-full-eos/0_1_2_3_4_6_7/val_mae_00799_last.hdf5',\n",
       " '/home/al-maeeni/ai4material_design/datasets/checkpoints/MoS2-plain-cv/lumo/megnet-sparse-z/0_1_2_4_5_6_7/val_mae_00789_0.003922.hdf5',\n",
       " '/home/al-maeeni/ai4material_design/datasets/checkpoints/MoS2-plain-cv/lumo/megnet-sparse-z-werespecies/0_1_2_3_4_5_7/val_mae_00800_0.003646.hdf5',\n",
       " \"/home/al-maeeni/ai4material_design/datasets/checkpoints/MoS2-plain-cv/['formation_energy_per_site', 'homo']/megnet-sparse-eos-multitarget/0_1_2_3_4_6_7/val_mae_01599_last.hdf5\",\n",
       " \"/home/al-maeeni/ai4material_design/datasets/checkpoints/MoS2-plain-cv/['formation_energy_per_site', 'homo']/megnet-full-eos/0_1_2_3_4_5_6/val_mae_00132_1.441255.hdf5\",\n",
       " \"/home/al-maeeni/ai4material_design/datasets/checkpoints/MoS2-plain-cv/['formation_energy_per_site', 'homo']/megnet-sparse-eos/0_1_2_3_4_6_7/val_mae_00799_last.hdf5\",\n",
       " '/home/al-maeeni/ai4material_design/datasets/checkpoints/MoS2-plain-cv/homo/megnet-sparse/0_2_3_4_5_6_7/val_mae_00800_0.006488.hdf5',\n",
       " '/home/al-maeeni/ai4material_design/datasets/checkpoints/MoS2-plain-cv/homo/megnet-full-eos/0_2_3_4_5_6_7/val_mae_00800_0.007628.hdf5',\n",
       " '/home/al-maeeni/ai4material_design/datasets/checkpoints/MoS2-plain-cv/homo/megnet-sparse-z/0_1_2_3_5_6_7/val_mae_00797_0.004695.hdf5',\n",
       " '/home/al-maeeni/ai4material_design/datasets/checkpoints/MoS2-plain-cv/homo/megnet-sparse-z-werespecies/1_2_3_4_5_6_7/val_mae_00782_0.004816.hdf5']"
      ]
     },
     "execution_count": 50,
     "metadata": {},
     "output_type": "execute_result"
    }
   ],
   "source": [
    "names = []\n",
    "best_checkpoint = []\n",
    "for name, files in groupby(checkpoints.rglob('*.hdf5'), key=lambda file: file.parts[5]):\n",
    "    names.append(name)\n",
    "    best_checkpoint.append(\n",
    "        str(\n",
    "            sorted(\n",
    "            files, key=lambda item: item.name.split('_')[2]\n",
    "            )[-1].resolve()\n",
    "        )\n",
    "    )\n",
    "best_checkpoint"
   ]
  },
  {
   "cell_type": "code",
   "execution_count": 51,
   "metadata": {},
   "outputs": [
    {
     "name": "stdout",
     "output_type": "stream",
     "text": [
      "/home/al-maeeni/ai4material_design/datasets/checkpoints/pilot-plain-cv/band_gap/megnet-sparse-eos-multitarget/1_2_3_4_5_6_7/val_mae_00499_last.hdf5\n"
     ]
    }
   ],
   "source": [
    "with open('checkpoints_path.txt', 'w') as file:\n",
    "    file.writelines('\\n'.join(best_checkpoint))"
   ]
  },
  {
   "cell_type": "code",
   "execution_count": 53,
   "metadata": {},
   "outputs": [
    {
     "data": {
      "text/html": [
       "<div>\n",
       "<style scoped>\n",
       "    .dataframe tbody tr th:only-of-type {\n",
       "        vertical-align: middle;\n",
       "    }\n",
       "\n",
       "    .dataframe tbody tr th {\n",
       "        vertical-align: top;\n",
       "    }\n",
       "\n",
       "    .dataframe thead th {\n",
       "        text-align: right;\n",
       "    }\n",
       "</style>\n",
       "<table border=\"1\" class=\"dataframe\">\n",
       "  <thead>\n",
       "    <tr style=\"text-align: right;\">\n",
       "      <th></th>\n",
       "      <th>_id</th>\n",
       "      <th>predicted_homo_test</th>\n",
       "    </tr>\n",
       "  </thead>\n",
       "  <tbody>\n",
       "    <tr>\n",
       "      <th>0</th>\n",
       "      <td>6141cf0efbfd4bd9ab2c2f7e</td>\n",
       "      <td>-0.677315</td>\n",
       "    </tr>\n",
       "    <tr>\n",
       "      <th>1</th>\n",
       "      <td>6141cf0f51c1cbd9654b8870</td>\n",
       "      <td>-0.703089</td>\n",
       "    </tr>\n",
       "    <tr>\n",
       "      <th>2</th>\n",
       "      <td>6141cf0fe689ecc4c43cdd4b</td>\n",
       "      <td>-0.693750</td>\n",
       "    </tr>\n",
       "    <tr>\n",
       "      <th>3</th>\n",
       "      <td>6141cf10b842c2e72e2f2d44</td>\n",
       "      <td>-0.692421</td>\n",
       "    </tr>\n",
       "    <tr>\n",
       "      <th>4</th>\n",
       "      <td>6141cf1051c1cbd9654b8872</td>\n",
       "      <td>-0.671909</td>\n",
       "    </tr>\n",
       "    <tr>\n",
       "      <th>...</th>\n",
       "      <td>...</td>\n",
       "      <td>...</td>\n",
       "    </tr>\n",
       "    <tr>\n",
       "      <th>5928</th>\n",
       "      <td>6148f3f63ac25c70a5c6cdff</td>\n",
       "      <td>-0.525520</td>\n",
       "    </tr>\n",
       "    <tr>\n",
       "      <th>5929</th>\n",
       "      <td>6149087231cf3ef3d4a9f848</td>\n",
       "      <td>-0.438995</td>\n",
       "    </tr>\n",
       "    <tr>\n",
       "      <th>5930</th>\n",
       "      <td>6149c48031cf3ef3d4a9f84a</td>\n",
       "      <td>-0.502208</td>\n",
       "    </tr>\n",
       "    <tr>\n",
       "      <th>5931</th>\n",
       "      <td>6149f3853ac25c70a5c6ce01</td>\n",
       "      <td>-0.584862</td>\n",
       "    </tr>\n",
       "    <tr>\n",
       "      <th>5932</th>\n",
       "      <td>615083823ac25c70a5c6ce03</td>\n",
       "      <td>-0.514653</td>\n",
       "    </tr>\n",
       "  </tbody>\n",
       "</table>\n",
       "<p>5933 rows × 2 columns</p>\n",
       "</div>"
      ],
      "text/plain": [
       "                           _id  predicted_homo_test\n",
       "0     6141cf0efbfd4bd9ab2c2f7e            -0.677315\n",
       "1     6141cf0f51c1cbd9654b8870            -0.703089\n",
       "2     6141cf0fe689ecc4c43cdd4b            -0.693750\n",
       "3     6141cf10b842c2e72e2f2d44            -0.692421\n",
       "4     6141cf1051c1cbd9654b8872            -0.671909\n",
       "...                        ...                  ...\n",
       "5928  6148f3f63ac25c70a5c6cdff            -0.525520\n",
       "5929  6149087231cf3ef3d4a9f848            -0.438995\n",
       "5930  6149c48031cf3ef3d4a9f84a            -0.502208\n",
       "5931  6149f3853ac25c70a5c6ce01            -0.584862\n",
       "5932  615083823ac25c70a5c6ce03            -0.514653\n",
       "\n",
       "[5933 rows x 2 columns]"
      ]
     },
     "execution_count": 53,
     "metadata": {},
     "output_type": "execute_result"
    }
   ],
   "source": [
    "import pandas as pd\n",
    "pd.read_csv('/home/al-maeeni/ai4material_design/datasets/predictions/MoS2-plain-cv/homo/megnet-sparse-eos.csv.gz')"
   ]
  },
  {
   "cell_type": "code",
   "execution_count": null,
   "metadata": {},
   "outputs": [],
   "source": []
  }
 ],
 "metadata": {
  "interpreter": {
   "hash": "2b90129ad72387405de5b46c2ad7ffca57ce1eb0178b123fd0f49b87bd357f43"
  },
  "kernelspec": {
   "display_name": "Python 3.8.12 ('tf')",
   "language": "python",
   "name": "python3"
  },
  "language_info": {
   "codemirror_mode": {
    "name": "ipython",
    "version": 3
   },
   "file_extension": ".py",
   "mimetype": "text/x-python",
   "name": "python",
   "nbconvert_exporter": "python",
   "pygments_lexer": "ipython3",
   "version": "3.8.12"
  },
  "orig_nbformat": 4
 },
 "nbformat": 4,
 "nbformat_minor": 2
}
