{
 "cells": [
  {
   "attachments": {},
   "cell_type": "markdown",
   "metadata": {},
   "source": [
    "# 2DMD dataset\n",
    "We provide the data in two formats: processed with only the variables used in our paper for ML model evaluation and the full raw VASP output.\n",
    "## Processed\n",
    "Download .zip (~5Mb) from [attachments](#citation), or view online in [the Data Catalog](https://research.constructor.tech/p/2d-defects-prediction) (scroll down to see the list). Note that the Data Catalog is a work in progress, so the large (low-density) datasets are not available yet.\n",
    "## Raw VASP\n",
    "Use DVC, see [instructions](https://github.com/HSE-LAMBDA/ai4material_design/blob/main/docs/DATA.md#raw-vasp-output)"
   ]
  },
  {
   "attachments": {},
   "cell_type": "markdown",
   "metadata": {},
   "source": [
    "# File format\n",
    "## Example data reading notebook\n",
    "[Relative link](standalone_data_reading_example/data_loading_example.ipynb), [GitHub](https://github.com/HSE-LAMBDA/ai4material_design/blob/main/notebooks/standalone_data_reading_example/data_loading_example.ipynb)"
   ]
  },
  {
   "attachments": {},
   "cell_type": "markdown",
   "metadata": {},
   "source": [
    "### `defects.csv.gz`\n",
    "1. `_id` unique structure identifier\n",
    "2. `descriptor_id` identifier of the defect type as specified in `descriptors.csv`\n",
    "3. `defect_id` unused\n",
    "4. `energy` total potential energy of the system as reported by VASP, eV\n",
    "5. `energy_per_atom` total potential energy of the system divided by the number of atoms, eV\n",
    "6. `fermi_level` Fermi level, eV\n",
    "7. `homo` is highest occupied molecular orbital (HOMO) energy, eV\n",
    "8. `lumo` is lowest unoccupied molecular orbital (LUMO) energy, eV\n",
    "9. `normalized_homo` is HOMO value normalised respective to the host valence band maximum (VBM) (see section [\"DFT computations\" in the paper](https://www.nature.com/articles/s41699-023-00369-1#Sec8)), eV\n",
    "10. `normalized_homo` is LUMO value normalised respective to the host valence band maximum (VBM) (see section [\"DFT computations\" in the paper](https://www.nature.com/articles/s41699-023-00369-1#Sec8)), eV\n",
    "11. `E_1` is the energy of the first Kohn–Sham orbital of the structure with defect (see section [\"DFT computations\" in the paper](https://www.nature.com/articles/s41699-023-00369-1#Sec8)), eV\n",
    "12. `homo_lumo_gap` is the band gap, LUMO - HOMO, eV\n",
    "13. `total_mag` is the total magnetisation\n",
    "14. `*_{majority,minority}` are the corresponding quantities computed for the majority and minority spin channels for materials computed with spin\n",
    "15. `band_gap` [OBSOLETE](https://github.com/materialsproject/pymatgen/issues/455)\n",
    "### `targets.csv.gz`\n",
    "Same as `defects.csv.gz` plus additional derivative variables:\n",
    "1. `formation_energy` is the defect formation energy, computed according [equation 1 from the paper](https://www.nature.com/articles/s41524-023-01062-z#Sec5)\n",
    "2. `formation_energy_per_site` is the defect formation energy divided by the number of defects according to [equation 2 from the paper](https://www.nature.com/articles/s41524-023-01062-z#Sec5)\n",
    "3. `*_{min,max}` are the minimim and maximum of quantities with the respect to to different spin channels\n",
    "### `initial.tar.gz`\n",
    "The archive `initial.tar.gz` contains the unrelaxed structures in the [CIF format](https://doi.org/10.1107%2FS010876739101067X). Names correspond to the unique identifiers `_id` in `defects.csv.gz`. Note that the structures were relaxed prior to computing the properties.\n",
    "### `descriptors.csv`\n",
    "1. `_id` unique identifier of the defect type, corresponds to the `descriptor_id` column in `defects.csv`\n",
    "2. `description` is a short semantic abbreviation of the defect type\n",
    "3. `base` is the chemical formula of the pristine material\n",
    "4. `cell` is the supercell size\n",
    "5. `defects` is a dictionary describing each point defect\n",
    "### `elements.csv`\n",
    "Contains chemical potentials (in eV) of the elements, to be used in formation energy computation.\n",
    "### `initial_structures.csv`\n",
    "Contains the properties of pristine material.\n",
    "1. `base` is the chemical formula of the pristine material\n",
    "2. `cell_size` is the supercell size\n",
    "3. `energy` total potential energy of the system, eV\n",
    "4. `fermi` is the Fermi level, eV\n",
    "5. `E_1` is the energy of the first Kohn–Sham orbital of the pristine structure (see section [\"DFT computations\" in the paper](https://www.nature.com/articles/s41699-023-00369-1#Sec8)), eV\n",
    "6. `E_VBM` is the energy of the valence band maximum of pristine structure\n",
    "### `unit_cells/*.cif`\n",
    "Unit cells of the pristine materials used to produce the structures in the folder.\n",
    "\n",
    "# Citation\n",
    "If you use the dataset, please cite the following paper:\n",
    "\n",
    "```\n",
    "Huang, P., Lukin, R., Faleev, M. et al. Unveiling the complex structure-property correlation of defects in 2D materials based on high throughput datasets. npj 2D Mater Appl 7, 6 (2023). https://doi.org/10.1038/s41699-023-00369-1\n",
    "```"
   ]
  }
 ],
 "metadata": {
  "kernelspec": {
   "display_name": "2d-defects-potential-learning-pYjw2mkT-py3.11",
   "language": "python",
   "name": "python3"
  },
  "language_info": {
   "codemirror_mode": {
    "name": "ipython",
    "version": 3
   },
   "file_extension": ".py",
   "mimetype": "text/x-python",
   "name": "python",
   "nbconvert_exporter": "python",
   "pygments_lexer": "ipython3",
   "version": "3.11.3"
  },
  "orig_nbformat": 4
 },
 "nbformat": 4,
 "nbformat_minor": 2
}
