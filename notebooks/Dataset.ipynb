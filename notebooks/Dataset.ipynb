{
 "cells": [
  {
   "attachments": {},
   "cell_type": "markdown",
   "metadata": {},
   "source": [
    "# 2DMD dataset\n",
    "### Download via attachments [below](https://rolos.com/open/2d-materials-point-defects/#physics)"
   ]
  },
  {
   "attachments": {},
   "cell_type": "markdown",
   "metadata": {},
   "source": [
    "### View online\n",
    "1. [Combined dataset](https://my.rolos.com/public/dataframes/866def6e441b4ecfa7e1dbc8bfb22217) \n",
    "2. [BP spin high concentration](https://my.rolos.com/public/dataframes/b1f0637c986b40d096c6406ace8c917f)\n",
    "3. [hBN spin high concentration](https://my.rolos.com/public/dataframes/eebb51ad2031432399bc72537cd5f259)\n",
    "4. [GaSe spin high concentration](https://my.rolos.com/public/dataframes/4ab4576b7b5b461b9d0225e4640da4c9)\n",
    "5. [InSe spin high concentration](https://my.rolos.com/public/dataframes/18ba96ae862d44dcac9354d8cbfa5499)\n",
    "6. [MoS2 high concentration](https://my.rolos.com/public/dataframes/a605211efed04eb9b2320bee76b33112)\n",
    "7. [MoS2 low concentration](https://my.rolos.com/public/dataframes/f4533115c9be495189d189ce4cecaf57)\n",
    "8. [WSe2 high concentration](https://my.rolos.com/public/dataframes/1f6f083debb840a882f7cc438c519c15)\n",
    "9. [WSe2 low concentration](https://my.rolos.com/public/dataframes/4163ecf04ecc453f945dc939e5f71972)"
   ]
  },
  {
   "attachments": {},
   "cell_type": "markdown",
   "metadata": {},
   "source": [
    "# File format"
   ]
  },
  {
   "attachments": {},
   "cell_type": "markdown",
   "metadata": {},
   "source": [
    "### `defects.csv.gz`\n",
    "1. `_id` unique structure identifier\n",
    "2. `descriptor_id` identifier of the defect type as specified in `descriptors.csv`\n",
    "3. `defect_id` unused\n",
    "4. `energy` total potential energy of the system, eV\n",
    "5. `energy_per_atom` total potential energy of the system divided by the number of atoms, eV\n",
    "6. `fermi_level` Fermi level, eV\n",
    "7. `homo` highest occupied molecular orbital (HOMO) energy, eV\n",
    "8. `lumo` lowest unoccupied molecular orbital (LUMO) energy, eV\n",
    "9. `normalized_homo` is HOMO value normalised respective to the host valence band maximum (VBM) (see section \"DFT computations\" in the paper), eV\n",
    "10. `normalized_homo` is LUMO value normalised respective to the host valence band maximum (VBM) (see section \"DFT computations\" in the paper), eV\n",
    "11. `band_gap` is the band gap, LUMO - HOMO, eV\n",
    "### `initial.tar.gz`\n",
    "The arcive `initial.tar.gz` contains the unrelaxed structures in the [CIF format](https://doi.org/10.1107%2FS010876739101067X). Names correspond to the unique identifiers `_id` in `defects.csv.gz`. Note that the structures were relaxed prior to computing the properties.\n",
    "### `descriptors.csv`\n",
    "1. `_id` unique identifier of the defect type, corresponds to the `descriptor_id` column in `defects.csv`\n",
    "2. `description` is a short semantic abbreviation of the defect type\n",
    "3. `base` is the chemical formula of the pristine material\n",
    "4. `cell` is the supercell size\n",
    "5. `defects` is a dictionary describing each point defect\n",
    "### `elements.csv`\n",
    "Contains chemical potentials (in eV) of the elements, to be used in formation energy computation.\n",
    "### `initial_structures.csv`\n",
    "Contains the properties of pristine material.\n",
    "1. `base` is the chemical formula of the pristine material\n",
    "2. `cell_size` is the supercell size\n",
    "3. `energy` total potential energy of the system, eV\n",
    "4. `fermi` is the Fermi level, eV\n",
    "## Citation\n",
    "If you use the dataset, please cite the following paper:\n",
    "\n",
    "Huang, P., Lukin, R., Faleev, M. et al. Unveiling the complex structure-property correlation of defects in 2D materials based on high throughput datasets. npj 2D Mater Appl 7, 6 (2023). https://doi.org/10.1038/s41699-023-00369-1\n",
    "## Physics\n",
    "See the [paper](https://doi.org/10.1038/s41699-023-00369-1)"
   ]
  }
 ],
 "metadata": {
  "kernelspec": {
   "display_name": "2d-defects-potential-learning-pYjw2mkT-py3.11",
   "language": "python",
   "name": "python3"
  },
  "language_info": {
   "codemirror_mode": {
    "name": "ipython",
    "version": 3
   },
   "file_extension": ".py",
   "mimetype": "text/x-python",
   "name": "python",
   "nbconvert_exporter": "python",
   "pygments_lexer": "ipython3",
   "version": "3.11.3"
  },
  "orig_nbformat": 4
 },
 "nbformat": 4,
 "nbformat_minor": 2
}
