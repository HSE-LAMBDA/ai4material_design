{
 "cells": [
  {
   "cell_type": "code",
   "execution_count": 69,
   "metadata": {},
   "outputs": [],
   "source": [
    "import numpy as np\n",
    "from pymatgen.io.cif import CifParser\n",
    "from pymatgen.core import Structure"
   ]
  },
  {
   "cell_type": "code",
   "execution_count": 70,
   "metadata": {},
   "outputs": [],
   "source": [
    "import sys\n",
    "sys.path.append('..')\n",
    "from ai4mat.data.data import (\n",
    "    StorageResolver,\n",
    "    Columns)"
   ]
  },
  {
   "cell_type": "code",
   "execution_count": 71,
   "metadata": {},
   "outputs": [],
   "source": [
    "short_cell = CifParser(StorageResolver()[\"materials\"] / \n",
    "\"V2O5_short.cif\").get_structures(primitive=False)[0]"
   ]
  },
  {
   "cell_type": "code",
   "execution_count": 82,
   "metadata": {},
   "outputs": [],
   "source": [
    "# Add vertical space to the lattice, transformation.\n",
    "tall_lattice = short_cell.lattice.matrix + np.array([[0, 0, 0], [0, 0, 0], [0, 0, 5]])\n",
    "unit_cell = Structure(\n",
    "    lattice=tall_lattice,\n",
    "    species=short_cell.species,\n",
    "    coords=short_cell.cart_coords,\n",
    "    coords_are_cartesian=True,\n",
    ")\n",
    "unit_cell.make_supercell([8, 8, 1])"
   ]
  },
  {
   "cell_type": "code",
   "execution_count": 83,
   "metadata": {},
   "outputs": [
    {
     "data": {
      "application/vnd.jupyter.widget-view+json": {
       "model_id": "d0f4e37da9244e4c96d065d81d972403",
       "version_major": 2,
       "version_minor": 0
      },
      "text/plain": [
       "HBox(children=(NGLWidget(), VBox(children=(Dropdown(description='Show', options=('All', 'V', 'O'), value='All'…"
      ]
     },
     "metadata": {},
     "output_type": "display_data"
    }
   ],
   "source": [
    "from ase.visualize import view\n",
    "from pymatgen.io.ase import AseAtomsAdaptor\n",
    "\n",
    "ase_atoms = AseAtomsAdaptor.get_atoms(unit_cell)\n",
    "view(ase_atoms, viewer='ngl')"
   ]
  },
  {
   "cell_type": "code",
   "execution_count": 86,
   "metadata": {},
   "outputs": [],
   "source": [
    "# Save cif\n",
    "from pymatgen.io.cif import CifWriter\n",
    "CifWriter(unit_cell).write_file(StorageResolver()[\"materials\"] /\"V2O5.cif\")"
   ]
  }
 ],
 "metadata": {
  "kernelspec": {
   "display_name": "Python 3.10.5 ('2d-defects-potential-learning-pYjw2mkT-py3.10')",
   "language": "python",
   "name": "python3"
  },
  "language_info": {
   "codemirror_mode": {
    "name": "ipython",
    "version": 3
   },
   "file_extension": ".py",
   "mimetype": "text/x-python",
   "name": "python",
   "nbconvert_exporter": "python",
   "pygments_lexer": "ipython3",
   "version": "3.10.5"
  },
  "orig_nbformat": 4,
  "vscode": {
   "interpreter": {
    "hash": "635b46ca2bfd4fb1fb06df777baa58449acfa795d46252930268ba7054c54264"
   }
  }
 },
 "nbformat": 4,
 "nbformat_minor": 2
}
