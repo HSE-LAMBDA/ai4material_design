{
 "cells": [
  {
   "cell_type": "code",
   "execution_count": 20,
   "metadata": {},
   "outputs": [],
   "source": [
    "import pandas as pd\n",
    "import numpy as np"
   ]
  },
  {
   "cell_type": "code",
   "execution_count": 13,
   "metadata": {},
   "outputs": [],
   "source": [
    "columns = [\"normalized_homo\", \"normalized_lumo\"]\n",
    "auto_normalized = pd.read_csv(\"../datasets/processed/low_density_defects/MoS2/targets.csv.gz\", index_col=\"_id\", usecols=[\"_id\"] + columns)\n",
    "manual_innopolis_normalized = pd.read_csv(\"../datasets/csv_cif/dichalcogenides_x1s6_202109_MoS2/defects.csv.gz\", index_col=\"_id\", usecols=[\"_id\"] + columns)"
   ]
  },
  {
   "cell_type": "code",
   "execution_count": 14,
   "metadata": {},
   "outputs": [],
   "source": [
    "assert auto_normalized.index.equals(manual_innopolis_normalized.index)"
   ]
  },
  {
   "cell_type": "code",
   "execution_count": 17,
   "metadata": {},
   "outputs": [
    {
     "data": {
      "text/html": [
       "<div>\n",
       "<style scoped>\n",
       "    .dataframe tbody tr th:only-of-type {\n",
       "        vertical-align: middle;\n",
       "    }\n",
       "\n",
       "    .dataframe tbody tr th {\n",
       "        vertical-align: top;\n",
       "    }\n",
       "\n",
       "    .dataframe thead th {\n",
       "        text-align: right;\n",
       "    }\n",
       "</style>\n",
       "<table border=\"1\" class=\"dataframe\">\n",
       "  <thead>\n",
       "    <tr style=\"text-align: right;\">\n",
       "      <th></th>\n",
       "      <th>normalized_homo</th>\n",
       "      <th>normalized_lumo</th>\n",
       "    </tr>\n",
       "    <tr>\n",
       "      <th>_id</th>\n",
       "      <th></th>\n",
       "      <th></th>\n",
       "    </tr>\n",
       "  </thead>\n",
       "  <tbody>\n",
       "    <tr>\n",
       "      <th>6141cf0efbfd4bd9ab2c2f7e</th>\n",
       "      <td>0.0592</td>\n",
       "      <td>1.2044</td>\n",
       "    </tr>\n",
       "    <tr>\n",
       "      <th>6141cf0f51c1cbd9654b8870</th>\n",
       "      <td>0.0757</td>\n",
       "      <td>1.1600</td>\n",
       "    </tr>\n",
       "    <tr>\n",
       "      <th>6141cf0fe689ecc4c43cdd4b</th>\n",
       "      <td>0.0099</td>\n",
       "      <td>1.8132</td>\n",
       "    </tr>\n",
       "    <tr>\n",
       "      <th>6141cf10b842c2e72e2f2d44</th>\n",
       "      <td>0.0055</td>\n",
       "      <td>1.8150</td>\n",
       "    </tr>\n",
       "    <tr>\n",
       "      <th>6141cf1051c1cbd9654b8872</th>\n",
       "      <td>0.0899</td>\n",
       "      <td>1.2001</td>\n",
       "    </tr>\n",
       "  </tbody>\n",
       "</table>\n",
       "</div>"
      ],
      "text/plain": [
       "                          normalized_homo  normalized_lumo\n",
       "_id                                                       \n",
       "6141cf0efbfd4bd9ab2c2f7e           0.0592           1.2044\n",
       "6141cf0f51c1cbd9654b8870           0.0757           1.1600\n",
       "6141cf0fe689ecc4c43cdd4b           0.0099           1.8132\n",
       "6141cf10b842c2e72e2f2d44           0.0055           1.8150\n",
       "6141cf1051c1cbd9654b8872           0.0899           1.2001"
      ]
     },
     "execution_count": 17,
     "metadata": {},
     "output_type": "execute_result"
    }
   ],
   "source": [
    "auto_normalized.head()"
   ]
  },
  {
   "cell_type": "code",
   "execution_count": 19,
   "metadata": {},
   "outputs": [
    {
     "data": {
      "text/html": [
       "<div>\n",
       "<style scoped>\n",
       "    .dataframe tbody tr th:only-of-type {\n",
       "        vertical-align: middle;\n",
       "    }\n",
       "\n",
       "    .dataframe tbody tr th {\n",
       "        vertical-align: top;\n",
       "    }\n",
       "\n",
       "    .dataframe thead th {\n",
       "        text-align: right;\n",
       "    }\n",
       "</style>\n",
       "<table border=\"1\" class=\"dataframe\">\n",
       "  <thead>\n",
       "    <tr style=\"text-align: right;\">\n",
       "      <th></th>\n",
       "      <th>normalized_homo</th>\n",
       "      <th>normalized_lumo</th>\n",
       "    </tr>\n",
       "    <tr>\n",
       "      <th>_id</th>\n",
       "      <th></th>\n",
       "      <th></th>\n",
       "    </tr>\n",
       "  </thead>\n",
       "  <tbody>\n",
       "    <tr>\n",
       "      <th>6141cf0efbfd4bd9ab2c2f7e</th>\n",
       "      <td>0.0672</td>\n",
       "      <td>1.2124</td>\n",
       "    </tr>\n",
       "    <tr>\n",
       "      <th>6141cf0f51c1cbd9654b8870</th>\n",
       "      <td>0.0837</td>\n",
       "      <td>1.1680</td>\n",
       "    </tr>\n",
       "    <tr>\n",
       "      <th>6141cf0fe689ecc4c43cdd4b</th>\n",
       "      <td>0.0179</td>\n",
       "      <td>1.8212</td>\n",
       "    </tr>\n",
       "    <tr>\n",
       "      <th>6141cf10b842c2e72e2f2d44</th>\n",
       "      <td>0.0135</td>\n",
       "      <td>1.8230</td>\n",
       "    </tr>\n",
       "    <tr>\n",
       "      <th>6141cf1051c1cbd9654b8872</th>\n",
       "      <td>0.0979</td>\n",
       "      <td>1.2081</td>\n",
       "    </tr>\n",
       "  </tbody>\n",
       "</table>\n",
       "</div>"
      ],
      "text/plain": [
       "                          normalized_homo  normalized_lumo\n",
       "_id                                                       \n",
       "6141cf0efbfd4bd9ab2c2f7e           0.0672           1.2124\n",
       "6141cf0f51c1cbd9654b8870           0.0837           1.1680\n",
       "6141cf0fe689ecc4c43cdd4b           0.0179           1.8212\n",
       "6141cf10b842c2e72e2f2d44           0.0135           1.8230\n",
       "6141cf1051c1cbd9654b8872           0.0979           1.2081"
      ]
     },
     "execution_count": 19,
     "metadata": {},
     "output_type": "execute_result"
    }
   ],
   "source": [
    "manual_innopolis_normalized.head()"
   ]
  },
  {
   "cell_type": "code",
   "execution_count": 25,
   "metadata": {},
   "outputs": [
    {
     "data": {
      "image/png": "[encoded data removed]",
      "text/plain": [
       "<Figure size 640x480 with 2 Axes>"
      ]
     },
     "metadata": {},
     "output_type": "display_data"
    }
   ],
   "source": [
    "(auto_normalized - manual_innopolis_normalized).hist();"
   ]
  }
 ],
 "metadata": {
  "kernelspec": {
   "display_name": "Python 3.10.7 ('2d-defects-potential-learning-pYjw2mkT-py3.10')",
   "language": "python",
   "name": "python3"
  },
  "language_info": {
   "codemirror_mode": {
    "name": "ipython",
    "version": 3
   },
   "file_extension": ".py",
   "mimetype": "text/x-python",
   "name": "python",
   "nbconvert_exporter": "python",
   "pygments_lexer": "ipython3",
   "version": "3.10.7"
  },
  "orig_nbformat": 4,
  "vscode": {
   "interpreter": {
    "hash": "635b46ca2bfd4fb1fb06df777baa58449acfa795d46252930268ba7054c54264"
   }
  }
 },
 "nbformat": 4,
 "nbformat_minor": 2
}
