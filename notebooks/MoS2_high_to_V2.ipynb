{
 "cells": [
  {
   "cell_type": "code",
   "execution_count": 3,
   "metadata": {},
   "outputs": [],
   "source": [
    "import sys\n",
    "import pandas as pd\n",
    "sys.path.append('..')\n",
    "\n",
    "from ai4mat.data.data import (\n",
    "    read_structures_descriptions,\n",
    "    read_defects_descriptions,\n",
    "    StorageResolver,\n",
    "    TEST_FOLD,\n",
    "    TRAIN_FOLD,\n",
    ")"
   ]
  },
  {
   "cell_type": "code",
   "execution_count": 4,
   "metadata": {},
   "outputs": [],
   "source": [
    "train_dataset = \"high_density_defects/MoS2_500\"\n",
    "test_dataset = \"low_density_defects/MoS2\""
   ]
  },
  {
   "cell_type": "code",
   "execution_count": 6,
   "metadata": {},
   "outputs": [],
   "source": [
    "storage_resolver = StorageResolver()\n",
    "train_structures = read_structures_descriptions(storage_resolver['csv_cif']/train_dataset)\n",
    "test_structures = read_structures_descriptions(storage_resolver['csv_cif']/test_dataset)\n",
    "test_defects = read_defects_descriptions(storage_resolver['csv_cif']/test_dataset)"
   ]
  },
  {
   "cell_type": "code",
   "execution_count": 10,
   "metadata": {},
   "outputs": [
    {
     "name": "stdout",
     "output_type": "stream",
     "text": [
      "6141cf1102d926221cabc543\n"
     ]
    }
   ],
   "source": [
    "test_defect_id = test_defects[test_defects.defects.apply(lambda d: d == [{'type': 'vacancy', 'element': 'Mo'}, {'type': 'vacancy', 'element': 'S'}])].index[0]\n",
    "print(test_defect_id)"
   ]
  },
  {
   "cell_type": "code",
   "execution_count": 12,
   "metadata": {},
   "outputs": [],
   "source": [
    "test_structures = test_structures[test_structures.descriptor_id == test_defect_id]"
   ]
  },
  {
   "cell_type": "code",
   "execution_count": 16,
   "metadata": {},
   "outputs": [],
   "source": [
    "folds = pd.Series(index=train_structures.index.union(test_structures.index), name='fold', data=TRAIN_FOLD)\n",
    "folds.loc[test_structures.index] = TEST_FOLD"
   ]
  },
  {
   "cell_type": "code",
   "execution_count": 20,
   "metadata": {},
   "outputs": [],
   "source": [
    "experiment_path = storage_resolver['experiments'].joinpath('MoS2_high_to_V2')"
   ]
  },
  {
   "cell_type": "code",
   "execution_count": 21,
   "metadata": {},
   "outputs": [],
   "source": [
    "experiment_path.mkdir(exist_ok=True)"
   ]
  },
  {
   "cell_type": "code",
   "execution_count": 22,
   "metadata": {},
   "outputs": [],
   "source": [
    "folds.to_csv(experiment_path / 'folds.csv.gz', index_label='_id')"
   ]
  },
  {
   "cell_type": "code",
   "execution_count": 23,
   "metadata": {},
   "outputs": [],
   "source": [
    "import yaml\n",
    "config = {\"datasets\": [train_dataset, test_dataset],\n",
    "          \"strategy\": \"train_test\",\n",
    "          \"n-folds\": 2,\n",
    "          \"targets\": [\"formation_energy_per_site\"]}\n",
    "with open(experiment_path.joinpath(\"config.yaml\"), \"wt\") as config_file:\n",
    "    yaml.dump(config, config_file)"
   ]
  }
 ],
 "metadata": {
  "kernelspec": {
   "display_name": "base",
   "language": "python",
   "name": "python3"
  },
  "language_info": {
   "codemirror_mode": {
    "name": "ipython",
    "version": 3
   },
   "file_extension": ".py",
   "mimetype": "text/x-python",
   "name": "python",
   "nbconvert_exporter": "python",
   "pygments_lexer": "ipython3",
   "version": "3.8.13"
  },
  "orig_nbformat": 4,
  "vscode": {
   "interpreter": {
    "hash": "d4d1e4263499bec80672ea0156c357c1ee493ec2b1c70f0acce89fc37c4a6abe"
   }
  }
 },
 "nbformat": 4,
 "nbformat_minor": 2
}
