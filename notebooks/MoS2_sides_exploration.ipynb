{
 "cells": [
  {
   "cell_type": "code",
   "execution_count": 8,
   "metadata": {},
   "outputs": [],
   "source": [
    "sys.path.append('..')\n",
    "from ai4mat.data.data import (\n",
    "    StorageResolver,\n",
    "    get_dichalcogenides_innopolis,\n",
    "    read_defects_descriptions\n",
    ")"
   ]
  },
  {
   "cell_type": "code",
   "execution_count": 5,
   "metadata": {},
   "outputs": [],
   "source": [
    "import pandas as pd"
   ]
  },
  {
   "cell_type": "code",
   "execution_count": 6,
   "metadata": {},
   "outputs": [],
   "source": [
    "data = pd.read_pickle(\"../datasets/processed/dichalcogenides_x1s6_202109/data.pickle.gz\")"
   ]
  },
  {
   "cell_type": "code",
   "execution_count": 9,
   "metadata": {},
   "outputs": [],
   "source": [
    "descriptors = read_defects_descriptions(StorageResolver()[\"csv_cif\"]/\"dichalcogenides_x1s6_202109\")"
   ]
  },
  {
   "cell_type": "code",
   "execution_count": 16,
   "metadata": {},
   "outputs": [],
   "source": [
    "selected = descriptors[\"defects\"].apply(lambda row: row == [{'type': 'vacancy', 'element': 'S'}, {'type': 'vacancy', 'element': 'S'}])"
   ]
  },
  {
   "cell_type": "code",
   "execution_count": 43,
   "metadata": {},
   "outputs": [
    {
     "data": {
      "text/plain": [
       "Index(['6141cf0e51c1cbd9654b886e', '614dd54088e4815a2c77699f',\n",
       "       '614df22dfc91c50c0d88d694', '6151846070d21d49c3b82a71'],\n",
       "      dtype='object', name='_id')"
      ]
     },
     "execution_count": 43,
     "metadata": {},
     "output_type": "execute_result"
    }
   ],
   "source": [
    "descriptors[selected].index"
   ]
  },
  {
   "cell_type": "code",
   "execution_count": 44,
   "metadata": {},
   "outputs": [
    {
     "data": {
      "text/html": [
       "<div>\n",
       "<style scoped>\n",
       "    .dataframe tbody tr th:only-of-type {\n",
       "        vertical-align: middle;\n",
       "    }\n",
       "\n",
       "    .dataframe tbody tr th {\n",
       "        vertical-align: top;\n",
       "    }\n",
       "\n",
       "    .dataframe thead th {\n",
       "        text-align: right;\n",
       "    }\n",
       "</style>\n",
       "<table border=\"1\" class=\"dataframe\">\n",
       "  <thead>\n",
       "    <tr style=\"text-align: right;\">\n",
       "      <th></th>\n",
       "      <th>description</th>\n",
       "      <th>base</th>\n",
       "      <th>cell</th>\n",
       "      <th>pbc</th>\n",
       "      <th>defects</th>\n",
       "    </tr>\n",
       "    <tr>\n",
       "      <th>_id</th>\n",
       "      <th></th>\n",
       "      <th></th>\n",
       "      <th></th>\n",
       "      <th></th>\n",
       "      <th></th>\n",
       "    </tr>\n",
       "  </thead>\n",
       "  <tbody>\n",
       "    <tr>\n",
       "      <th>6141cf0e51c1cbd9654b886e</th>\n",
       "      <td>X2</td>\n",
       "      <td>MoS2</td>\n",
       "      <td>[8, 8, 1]</td>\n",
       "      <td>[True, True, False]</td>\n",
       "      <td>[{'type': 'vacancy', 'element': 'S'}, {'type':...</td>\n",
       "    </tr>\n",
       "    <tr>\n",
       "      <th>614dd54088e4815a2c77699f</th>\n",
       "      <td>X2</td>\n",
       "      <td>MoS2</td>\n",
       "      <td>[4, 4, 1]</td>\n",
       "      <td>[True, True, False]</td>\n",
       "      <td>[{'type': 'vacancy', 'element': 'S'}, {'type':...</td>\n",
       "    </tr>\n",
       "    <tr>\n",
       "      <th>614df22dfc91c50c0d88d694</th>\n",
       "      <td>X2</td>\n",
       "      <td>MoS2</td>\n",
       "      <td>[5, 5, 1]</td>\n",
       "      <td>[True, True, False]</td>\n",
       "      <td>[{'type': 'vacancy', 'element': 'S'}, {'type':...</td>\n",
       "    </tr>\n",
       "    <tr>\n",
       "      <th>6151846070d21d49c3b82a71</th>\n",
       "      <td>X2</td>\n",
       "      <td>MoS2</td>\n",
       "      <td>[6, 6, 1]</td>\n",
       "      <td>[True, True, False]</td>\n",
       "      <td>[{'type': 'vacancy', 'element': 'S'}, {'type':...</td>\n",
       "    </tr>\n",
       "  </tbody>\n",
       "</table>\n",
       "</div>"
      ],
      "text/plain": [
       "                         description  base       cell                  pbc  \\\n",
       "_id                                                                          \n",
       "6141cf0e51c1cbd9654b886e          X2  MoS2  [8, 8, 1]  [True, True, False]   \n",
       "614dd54088e4815a2c77699f          X2  MoS2  [4, 4, 1]  [True, True, False]   \n",
       "614df22dfc91c50c0d88d694          X2  MoS2  [5, 5, 1]  [True, True, False]   \n",
       "6151846070d21d49c3b82a71          X2  MoS2  [6, 6, 1]  [True, True, False]   \n",
       "\n",
       "                                                                    defects  \n",
       "_id                                                                          \n",
       "6141cf0e51c1cbd9654b886e  [{'type': 'vacancy', 'element': 'S'}, {'type':...  \n",
       "614dd54088e4815a2c77699f  [{'type': 'vacancy', 'element': 'S'}, {'type':...  \n",
       "614df22dfc91c50c0d88d694  [{'type': 'vacancy', 'element': 'S'}, {'type':...  \n",
       "6151846070d21d49c3b82a71  [{'type': 'vacancy', 'element': 'S'}, {'type':...  "
      ]
     },
     "execution_count": 44,
     "metadata": {},
     "output_type": "execute_result"
    }
   ],
   "source": [
    "descriptors[selected]"
   ]
  },
  {
   "cell_type": "code",
   "execution_count": 45,
   "metadata": {},
   "outputs": [],
   "source": [
    "#two_vacancies = data[data.descriptor_id.isin(descriptors[selected].index)]\n",
    "two_vacancies = data[data.descriptor_id == \"6141cf0e51c1cbd9654b886e\"]"
   ]
  },
  {
   "cell_type": "code",
   "execution_count": 46,
   "metadata": {},
   "outputs": [],
   "source": [
    "%matplotlib inline"
   ]
  },
  {
   "cell_type": "code",
   "execution_count": 47,
   "metadata": {},
   "outputs": [],
   "source": [
    "import matplotlib.pyplot as plt\n",
    "import numpy as np"
   ]
  },
  {
   "cell_type": "code",
   "execution_count": 52,
   "metadata": {},
   "outputs": [],
   "source": [
    "all_sv_z = two_vacancies.defect_representation.apply(\n",
    "    lambda s: np.abs(s.cart_coords[0, 2]- s.cart_coords[1, 2]))"
   ]
  },
  {
   "cell_type": "code",
   "execution_count": 55,
   "metadata": {},
   "outputs": [],
   "source": [
    "same_side = all_sv_z < 1.5"
   ]
  },
  {
   "cell_type": "code",
   "execution_count": null,
   "metadata": {},
   "outputs": [],
   "source": [
    "distances = "
   ]
  },
  {
   "cell_type": "code",
   "execution_count": null,
   "metadata": {},
   "outputs": [],
   "source": [
    "fig, ax = plt.subplots()\n",
    "ax.scatter()"
   ]
  },
  {
   "cell_type": "code",
   "execution_count": 49,
   "metadata": {},
   "outputs": [
    {
     "data": {
      "image/png": "[encoded data removed]",
      "text/plain": [
       "<Figure size 432x288 with 1 Axes>"
      ]
     },
     "metadata": {
      "needs_background": "light"
     },
     "output_type": "display_data"
    }
   ],
   "source": [
    "plt.hist(all_sv_z, bins=10);"
   ]
  }
 ],
 "metadata": {
  "kernelspec": {
   "display_name": "Python 3.10.5 ('2d-defects-potential-learning-pYjw2mkT-py3.10')",
   "language": "python",
   "name": "python3"
  },
  "language_info": {
   "codemirror_mode": {
    "name": "ipython",
    "version": 3
   },
   "file_extension": ".py",
   "mimetype": "text/x-python",
   "name": "python",
   "nbconvert_exporter": "python",
   "pygments_lexer": "ipython3",
   "version": "3.10.5"
  },
  "orig_nbformat": 4,
  "vscode": {
   "interpreter": {
    "hash": "635b46ca2bfd4fb1fb06df777baa58449acfa795d46252930268ba7054c54264"
   }
  }
 },
 "nbformat": 4,
 "nbformat_minor": 2
}
