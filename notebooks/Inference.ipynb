{
 "cells": [
  {
   "cell_type": "code",
   "execution_count": 32,
   "metadata": {},
   "outputs": [],
   "source": [
    "import torch\n",
    "from pathlib import Path\n",
    "import yaml\n",
    "import sys\n",
    "import numpy as np\n",
    "sys.path.append(\"..\")\n",
    "from ai4mat.models.megnet_pytorch.megnet_pytorch import MEGNet\n",
    "from ai4mat.models.megnet_pytorch.struct2graph import (\n",
    "    SimpleCrystalConverter, GaussianDistanceConverter,\n",
    "    FlattenGaussianDistanceConverter, AtomFeaturesExtractor)"
   ]
  },
  {
   "cell_type": "code",
   "execution_count": 30,
   "metadata": {},
   "outputs": [],
   "source": [
    "model_name = \"megnet_pytorch/sparse/05-12-2022_19-50-53/d6b7ce45\"\n",
    "with open(Path(\"../trials/\") / f\"{model_name}.yaml\", \"r\") as f:\n",
    "    config = yaml.safe_load(f)\n",
    "checkpoint = torch.load(\"../datasets/checkpoints/combined_mixed_all_train/formation_energy_per_site/megnet_pytorch/sparse/05-12-2022_19-50-53/d6b7ce45/0.pth\")"
   ]
  },
  {
   "cell_type": "code",
   "execution_count": null,
   "metadata": {},
   "outputs": [],
   "source": [
    "class MEGNetOnStructures(torch.nn.Module):\n",
    "    def __init__(self, config):\n",
    "        self.config = config        \n",
    "        if self.config[\"model\"][\"add_z_bond_coord\"]:\n",
    "            bond_converter = FlattenGaussianDistanceConverter(\n",
    "                centers=np.linspace(0, self.config['model']['cutoff'], self.config['model']['edge_embed_size'])\n",
    "            )\n",
    "        else:\n",
    "            bond_converter = GaussianDistanceConverter(\n",
    "                centers=np.linspace(0, self.config['model']['cutoff'], self.config['model']['edge_embed_size'])\n",
    "            )\n",
    "        atom_converter = AtomFeaturesExtractor(self.config[\"model\"][\"atom_features\"])\n",
    "        self.converter = SimpleCrystalConverter(\n",
    "            bond_converter=bond_converter,\n",
    "            atom_converter=atom_converter,\n",
    "            cutoff=self.config[\"model\"][\"cutoff\"],\n",
    "            add_z_bond_coord=self.config[\"model\"][\"add_z_bond_coord\"],\n",
    "            add_eos_features=(use_eos := self.config[\"model\"].get(\"add_eos_features\", False)),\n",
    "        )\n",
    "        self.model = MEGNet(\n",
    "            edge_input_shape=bond_converter.get_shape(eos=use_eos),\n",
    "            node_input_shape=atom_converter.get_shape(),\n",
    "            embedding_size=self.config['model']['embedding_size'],\n",
    "            n_blocks=self.config['model']['nblocks'],\n",
    "            state_input_shape=self.config[\"model\"][\"state_input_shape\"],\n",
    "            vertex_aggregation=self.config[\"model\"][\"vertex_aggregation\"],\n",
    "            global_aggregation=self.config[\"model\"][\"global_aggregation\"],\n",
    "        )\n",
    "        #self.Scaler = Scaler()\n",
    "    \n",
    "    def load(self, checkpoint_file_name):\n",
    "        checkpoint = torch.load(checkpoint_file_name)\n",
    "        self.model.load_state_dict(checkpoint['model_params']['model'])\n",
    "    \n",
    "    def predict(self, sparse_structure):\n",
    "        graph = self.converter.convert(sparse_structure)\n",
    "        return self.model(graph)"
   ]
  },
  {
   "cell_type": "code",
   "execution_count": 29,
   "metadata": {},
   "outputs": [
    {
     "ename": "KeyError",
     "evalue": "'node_input_shape'",
     "output_type": "error",
     "traceback": [
      "\u001b[0;31m---------------------------------------------------------------------------\u001b[0m",
      "\u001b[0;31mKeyError\u001b[0m                                  Traceback (most recent call last)",
      "Cell \u001b[0;32mIn[29], line 2\u001b[0m\n\u001b[1;32m      1\u001b[0m model_keys \u001b[39m=\u001b[39m {\u001b[39m\"\u001b[39m\u001b[39medge_input_shape\u001b[39m\u001b[39m\"\u001b[39m, \u001b[39m\"\u001b[39m\u001b[39mnode_input_shape\u001b[39m\u001b[39m\"\u001b[39m, \u001b[39m\"\u001b[39m\u001b[39membedding_size\u001b[39m\u001b[39m\"\u001b[39m, \u001b[39m\"\u001b[39m\u001b[39mn_blocks\u001b[39m\u001b[39m\"\u001b[39m, \u001b[39m\"\u001b[39m\u001b[39mstate_input_shape\u001b[39m\u001b[39m\"\u001b[39m, \u001b[39m\"\u001b[39m\u001b[39mvertex_aggregation\u001b[39m\u001b[39m\"\u001b[39m, \u001b[39m\"\u001b[39m\u001b[39mglobal_aggregation\u001b[39m\u001b[39m\"\u001b[39m}\n\u001b[0;32m----> 2\u001b[0m model \u001b[39m=\u001b[39m MEGNet(\u001b[39m*\u001b[39m\u001b[39m*\u001b[39m{key: config[\u001b[39m'\u001b[39;49m\u001b[39mmodel_params\u001b[39;49m\u001b[39m'\u001b[39;49m][\u001b[39m'\u001b[39;49m\u001b[39mmodel\u001b[39;49m\u001b[39m'\u001b[39;49m][key] \u001b[39mfor\u001b[39;49;00m key \u001b[39min\u001b[39;49;00m model_keys})\n",
      "Cell \u001b[0;32mIn[29], line 2\u001b[0m, in \u001b[0;36m<dictcomp>\u001b[0;34m(.0)\u001b[0m\n\u001b[1;32m      1\u001b[0m model_keys \u001b[39m=\u001b[39m {\u001b[39m\"\u001b[39m\u001b[39medge_input_shape\u001b[39m\u001b[39m\"\u001b[39m, \u001b[39m\"\u001b[39m\u001b[39mnode_input_shape\u001b[39m\u001b[39m\"\u001b[39m, \u001b[39m\"\u001b[39m\u001b[39membedding_size\u001b[39m\u001b[39m\"\u001b[39m, \u001b[39m\"\u001b[39m\u001b[39mn_blocks\u001b[39m\u001b[39m\"\u001b[39m, \u001b[39m\"\u001b[39m\u001b[39mstate_input_shape\u001b[39m\u001b[39m\"\u001b[39m, \u001b[39m\"\u001b[39m\u001b[39mvertex_aggregation\u001b[39m\u001b[39m\"\u001b[39m, \u001b[39m\"\u001b[39m\u001b[39mglobal_aggregation\u001b[39m\u001b[39m\"\u001b[39m}\n\u001b[0;32m----> 2\u001b[0m model \u001b[39m=\u001b[39m MEGNet(\u001b[39m*\u001b[39m\u001b[39m*\u001b[39m{key: config[\u001b[39m'\u001b[39;49m\u001b[39mmodel_params\u001b[39;49m\u001b[39m'\u001b[39;49m][\u001b[39m'\u001b[39;49m\u001b[39mmodel\u001b[39;49m\u001b[39m'\u001b[39;49m][key] \u001b[39mfor\u001b[39;00m key \u001b[39min\u001b[39;00m model_keys})\n",
      "\u001b[0;31mKeyError\u001b[0m: 'node_input_shape'"
     ]
    }
   ],
   "source": [
    "model_keys = {\"edge_input_shape\", \"node_input_shape\", \"embedding_size\", \"n_blocks\", \"state_input_shape\", \"vertex_aggregation\", \"global_aggregation\"}\n",
    "model = MEGNet(**{key: config['model_params']['model'][key] for key in model_keys})"
   ]
  },
  {
   "cell_type": "code",
   "execution_count": null,
   "metadata": {},
   "outputs": [],
   "source": []
  }
 ],
 "metadata": {
  "kernelspec": {
   "display_name": "2d-defects-potential-learning-pYjw2mkT-py3.11",
   "language": "python",
   "name": "python3"
  },
  "language_info": {
   "codemirror_mode": {
    "name": "ipython",
    "version": 3
   },
   "file_extension": ".py",
   "mimetype": "text/x-python",
   "name": "python",
   "nbconvert_exporter": "python",
   "pygments_lexer": "ipython3",
   "version": "3.11.3"
  },
  "orig_nbformat": 4
 },
 "nbformat": 4,
 "nbformat_minor": 2
}
