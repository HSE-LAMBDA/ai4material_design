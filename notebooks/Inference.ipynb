{
 "cells": [
  {
   "cell_type": "code",
   "execution_count": 1,
   "metadata": {},
   "outputs": [],
   "source": [
    "from pathlib import Path\n",
    "import yaml\n",
    "import sys\n",
    "import numpy as np\n",
    "import pandas as pd\n",
    "from tqdm.auto import tqdm\n",
    "from pymatgen.core.structure import Structure, Element\n",
    "import torch\n",
    "sys.path.append(\"..\")\n",
    "from ai4mat.models.megnet_pytorch.megnet_on_structures import MEGNetOnStructures\n",
    "from ai4mat.data.data import get_unit_cell, StorageResolver, read_defects_descriptions\n",
    "from ai4mat.common.sparse_representation import get_sparse_defect, SINGLE_ENENRGY_COLUMN\n",
    "from ai4mat.common.random_defect_generation import generate_structure_with_random_defects\n",
    "from ai4mat.common.eos import EOS"
   ]
  },
  {
   "cell_type": "code",
   "execution_count": 2,
   "metadata": {},
   "outputs": [],
   "source": [
    "training_experiment = \"combined_mixed_all_train\"\n",
    "model_names = {\n",
    "    \"formation_energy_per_site\": \"megnet_pytorch/sparse/05-12-2022_19-50-53/d6b7ce45\",\n",
    "    \"homo_lumo_gap_min\": \"megnet_pytorch/sparse/05-12-2022_19-50-53/831cc496\"}\n",
    "\n",
    "predictors = dict()\n",
    "for target, trial_name in model_names.items():\n",
    "    with open(StorageResolver()[\"trials\"] / f\"{trial_name}.yaml\", \"r\") as f:\n",
    "        config = yaml.safe_load(f)\n",
    "    predictors[target] = MEGNetOnStructures(config['model_params'])\n",
    "    predictors[target].load(StorageResolver()[\"checkpoints\"] / training_experiment / target / trial_name / \"0.pth\",\n",
    "                            map_location='cpu')\n",
    "\n",
    "experiment_path = StorageResolver()[\"experiments\"].joinpath(training_experiment)\n",
    "with open(Path(experiment_path, \"config.yaml\")) as experiment_file:\n",
    "    experiment_config = yaml.safe_load(experiment_file)\n",
    "# We don't check whether the data split\n",
    "# It's the caller's responsibility to ensure that all the datasets are used for training\n",
    "training_datasets = experiment_config[\"datasets\"]"
   ]
  },
  {
   "cell_type": "code",
   "execution_count": 3,
   "metadata": {},
   "outputs": [
    {
     "data": {
      "application/vnd.jupyter.widget-view+json": {
       "model_id": "10ef564dc6bb4e5892b8bba30afa18a0",
       "version_major": 2,
       "version_minor": 0
      },
      "text/plain": [
       "  0%|          | 0/8 [00:00<?, ?it/s]"
      ]
     },
     "metadata": {},
     "output_type": "display_data"
    },
    {
     "name": "stderr",
     "output_type": "stream",
     "text": [
      "WARNING:root:Unit cell for P not found in the dataset folder, using the global one\n",
      "/home/kna/.cache/pypoetry/virtualenvs/2d-defects-potential-learning-pYjw2mkT-py3.11/lib64/python3.11/site-packages/pymatgen/core/structure.py:799: UserWarning: Not all sites have property center_index. Missing values are set to None.\n",
      "  warnings.warn(f\"Not all sites have property {k}. Missing values are set to None.\")\n",
      "/home/kna/.cache/pypoetry/virtualenvs/2d-defects-potential-learning-pYjw2mkT-py3.11/lib64/python3.11/site-packages/pymatgen/core/structure.py:799: UserWarning: Not all sites have property shells. Missing values are set to None.\n",
      "  warnings.warn(f\"Not all sites have property {k}. Missing values are set to None.\")\n",
      "WARNING:root:Unit cell for GaSe not found in the dataset folder, using the global one\n",
      "/home/kna/.cache/pypoetry/virtualenvs/2d-defects-potential-learning-pYjw2mkT-py3.11/lib64/python3.11/site-packages/pymatgen/io/cif.py:1150: UserWarning: Issues encountered while parsing CIF: Some fractional coordinates rounded to ideal values to avoid issues with finite precision.\n",
      "  warnings.warn(\"Issues encountered while parsing CIF: \" + \"\\n\".join(self.warnings))\n",
      "/home/kna/.cache/pypoetry/virtualenvs/2d-defects-potential-learning-pYjw2mkT-py3.11/lib64/python3.11/site-packages/pymatgen/core/structure.py:799: UserWarning: Not all sites have property center_index. Missing values are set to None.\n",
      "  warnings.warn(f\"Not all sites have property {k}. Missing values are set to None.\")\n",
      "/home/kna/.cache/pypoetry/virtualenvs/2d-defects-potential-learning-pYjw2mkT-py3.11/lib64/python3.11/site-packages/pymatgen/core/structure.py:799: UserWarning: Not all sites have property shells. Missing values are set to None.\n",
      "  warnings.warn(f\"Not all sites have property {k}. Missing values are set to None.\")\n",
      "WARNING:root:Unit cell for BN not found in the dataset folder, using the global one\n",
      "/home/kna/.cache/pypoetry/virtualenvs/2d-defects-potential-learning-pYjw2mkT-py3.11/lib64/python3.11/site-packages/pymatgen/io/cif.py:1150: UserWarning: Issues encountered while parsing CIF: Some fractional coordinates rounded to ideal values to avoid issues with finite precision.\n",
      "  warnings.warn(\"Issues encountered while parsing CIF: \" + \"\\n\".join(self.warnings))\n",
      "/home/kna/.cache/pypoetry/virtualenvs/2d-defects-potential-learning-pYjw2mkT-py3.11/lib64/python3.11/site-packages/pymatgen/core/structure.py:799: UserWarning: Not all sites have property center_index. Missing values are set to None.\n",
      "  warnings.warn(f\"Not all sites have property {k}. Missing values are set to None.\")\n",
      "/home/kna/.cache/pypoetry/virtualenvs/2d-defects-potential-learning-pYjw2mkT-py3.11/lib64/python3.11/site-packages/pymatgen/core/structure.py:799: UserWarning: Not all sites have property shells. Missing values are set to None.\n",
      "  warnings.warn(f\"Not all sites have property {k}. Missing values are set to None.\")\n",
      "WARNING:root:Unit cell for InSe not found in the dataset folder, using the global one\n",
      "/home/kna/.cache/pypoetry/virtualenvs/2d-defects-potential-learning-pYjw2mkT-py3.11/lib64/python3.11/site-packages/pymatgen/io/cif.py:1150: UserWarning: Issues encountered while parsing CIF: Some fractional coordinates rounded to ideal values to avoid issues with finite precision.\n",
      "  warnings.warn(\"Issues encountered while parsing CIF: \" + \"\\n\".join(self.warnings))\n",
      "/home/kna/.cache/pypoetry/virtualenvs/2d-defects-potential-learning-pYjw2mkT-py3.11/lib64/python3.11/site-packages/pymatgen/core/structure.py:799: UserWarning: Not all sites have property center_index. Missing values are set to None.\n",
      "  warnings.warn(f\"Not all sites have property {k}. Missing values are set to None.\")\n",
      "/home/kna/.cache/pypoetry/virtualenvs/2d-defects-potential-learning-pYjw2mkT-py3.11/lib64/python3.11/site-packages/pymatgen/core/structure.py:799: UserWarning: Not all sites have property shells. Missing values are set to None.\n",
      "  warnings.warn(f\"Not all sites have property {k}. Missing values are set to None.\")\n",
      "/home/kna/.cache/pypoetry/virtualenvs/2d-defects-potential-learning-pYjw2mkT-py3.11/lib64/python3.11/site-packages/pymatgen/io/cif.py:1150: UserWarning: Issues encountered while parsing CIF: Some fractional coordinates rounded to ideal values to avoid issues with finite precision.\n",
      "  warnings.warn(\"Issues encountered while parsing CIF: \" + \"\\n\".join(self.warnings))\n",
      "/home/kna/.cache/pypoetry/virtualenvs/2d-defects-potential-learning-pYjw2mkT-py3.11/lib64/python3.11/site-packages/pymatgen/core/structure.py:799: UserWarning: Not all sites have property center_index. Missing values are set to None.\n",
      "  warnings.warn(f\"Not all sites have property {k}. Missing values are set to None.\")\n",
      "/home/kna/.cache/pypoetry/virtualenvs/2d-defects-potential-learning-pYjw2mkT-py3.11/lib64/python3.11/site-packages/pymatgen/core/structure.py:799: UserWarning: Not all sites have property shells. Missing values are set to None.\n",
      "  warnings.warn(f\"Not all sites have property {k}. Missing values are set to None.\")\n",
      "/home/kna/.cache/pypoetry/virtualenvs/2d-defects-potential-learning-pYjw2mkT-py3.11/lib64/python3.11/site-packages/pymatgen/io/cif.py:1150: UserWarning: Issues encountered while parsing CIF: Some fractional coordinates rounded to ideal values to avoid issues with finite precision.\n",
      "  warnings.warn(\"Issues encountered while parsing CIF: \" + \"\\n\".join(self.warnings))\n",
      "/home/kna/.cache/pypoetry/virtualenvs/2d-defects-potential-learning-pYjw2mkT-py3.11/lib64/python3.11/site-packages/pymatgen/core/structure.py:799: UserWarning: Not all sites have property center_index. Missing values are set to None.\n",
      "  warnings.warn(f\"Not all sites have property {k}. Missing values are set to None.\")\n",
      "/home/kna/.cache/pypoetry/virtualenvs/2d-defects-potential-learning-pYjw2mkT-py3.11/lib64/python3.11/site-packages/pymatgen/core/structure.py:799: UserWarning: Not all sites have property shells. Missing values are set to None.\n",
      "  warnings.warn(f\"Not all sites have property {k}. Missing values are set to None.\")\n",
      "/home/kna/.cache/pypoetry/virtualenvs/2d-defects-potential-learning-pYjw2mkT-py3.11/lib64/python3.11/site-packages/pymatgen/io/cif.py:1150: UserWarning: Issues encountered while parsing CIF: Some fractional coordinates rounded to ideal values to avoid issues with finite precision.\n",
      "  warnings.warn(\"Issues encountered while parsing CIF: \" + \"\\n\".join(self.warnings))\n",
      "/home/kna/.cache/pypoetry/virtualenvs/2d-defects-potential-learning-pYjw2mkT-py3.11/lib64/python3.11/site-packages/pymatgen/core/structure.py:799: UserWarning: Not all sites have property center_index. Missing values are set to None.\n",
      "  warnings.warn(f\"Not all sites have property {k}. Missing values are set to None.\")\n",
      "/home/kna/.cache/pypoetry/virtualenvs/2d-defects-potential-learning-pYjw2mkT-py3.11/lib64/python3.11/site-packages/pymatgen/core/structure.py:799: UserWarning: Not all sites have property shells. Missing values are set to None.\n",
      "  warnings.warn(f\"Not all sites have property {k}. Missing values are set to None.\")\n",
      "/home/kna/.cache/pypoetry/virtualenvs/2d-defects-potential-learning-pYjw2mkT-py3.11/lib64/python3.11/site-packages/pymatgen/io/cif.py:1150: UserWarning: Issues encountered while parsing CIF: Some fractional coordinates rounded to ideal values to avoid issues with finite precision.\n",
      "  warnings.warn(\"Issues encountered while parsing CIF: \" + \"\\n\".join(self.warnings))\n",
      "/home/kna/.cache/pypoetry/virtualenvs/2d-defects-potential-learning-pYjw2mkT-py3.11/lib64/python3.11/site-packages/pymatgen/core/structure.py:799: UserWarning: Not all sites have property center_index. Missing values are set to None.\n",
      "  warnings.warn(f\"Not all sites have property {k}. Missing values are set to None.\")\n",
      "/home/kna/.cache/pypoetry/virtualenvs/2d-defects-potential-learning-pYjw2mkT-py3.11/lib64/python3.11/site-packages/pymatgen/core/structure.py:799: UserWarning: Not all sites have property shells. Missing values are set to None.\n",
      "  warnings.warn(f\"Not all sites have property {k}. Missing values are set to None.\")\n"
     ]
    }
   ],
   "source": [
    "unit_cells = dict()\n",
    "defects_list = []\n",
    "for dataset in tqdm(training_datasets):\n",
    "    defects = read_defects_descriptions(StorageResolver()[\"csv_cif\"] / dataset)\n",
    "    materials = defects.base.unique()\n",
    "    assert len(materials) == 1\n",
    "    material = materials[0]\n",
    "    unit_cell = get_unit_cell(StorageResolver()[\"csv_cif\"] / dataset, materials)[material]\n",
    "    cell = defects.cell.unique()\n",
    "    assert len(cell) == 1\n",
    "    cell = cell[0]\n",
    "    # We have two MoS2/WSe2 unit cells with slightly different height,\n",
    "    # both are valid and there is no need to include them here\n",
    "    unit_cells[material] = EOS().get_augmented_struct(unit_cell)\n",
    "    defects_list.append(defects)\n",
    "defects_pd = pd.concat(defects_list, axis=0)\n",
    "if 'pbc' in defects_pd.columns:\n",
    "    defects_pd = defects_pd.drop(columns=['pbc'])"
   ]
  },
  {
   "cell_type": "code",
   "execution_count": 4,
   "metadata": {},
   "outputs": [],
   "source": [
    "from itertools import chain\n",
    "from collections import namedtuple\n",
    "SubstitutionDefect = namedtuple('substitution_defect', ['type', 'from_', 'to'])\n",
    "VacancyDefect = namedtuple('vacancy_defect', ['type', 'element'])\n",
    "def to_named_tuple(dict_):\n",
    "    if dict_['type'] == 'substitution':\n",
    "        return SubstitutionDefect(dict_['type'], dict_['from'], dict_['to'])\n",
    "    elif dict_['type'] == 'vacancy':\n",
    "        return VacancyDefect(**dict_)\n",
    "    else:\n",
    "        raise ValueError(f\"Unknown defect type {dict_['type']}\")"
   ]
  },
  {
   "cell_type": "code",
   "execution_count": 5,
   "metadata": {},
   "outputs": [],
   "source": [
    "available_defects = defects_pd.groupby(['base', 'cell']).apply(lambda x: set(map(to_named_tuple, chain(*x.defects))))"
   ]
  },
  {
   "cell_type": "code",
   "execution_count": 6,
   "metadata": {},
   "outputs": [],
   "source": [
    "import ipywidgets as widgets"
   ]
  },
  {
   "cell_type": "code",
   "execution_count": 7,
   "metadata": {},
   "outputs": [],
   "source": [
    "material_labels = list(map(lambda x: f\"{x[0]}, {x[1][0]}x{x[1][1]} supercell\", available_defects.index))"
   ]
  },
  {
   "cell_type": "code",
   "execution_count": 9,
   "metadata": {},
   "outputs": [],
   "source": [
    "def get_label(defect_tuple):\n",
    "    if defect_tuple.type == 'substitution':\n",
    "        return f\"{defect_tuple.from_} -> {defect_tuple.to}\"\n",
    "    elif defect_tuple.type == 'vacancy':\n",
    "        return f\"{defect_tuple.element} vacancy\"\n",
    "    else:\n",
    "        raise ValueError(f\"Unknown defect type {defect_tuple.type}\")"
   ]
  },
  {
   "cell_type": "code",
   "execution_count": 87,
   "metadata": {},
   "outputs": [
    {
     "data": {
      "application/vnd.jupyter.widget-view+json": {
       "model_id": "de2db6e03a3f4963ac070b6bb6101837",
       "version_major": 2,
       "version_minor": 0
      },
      "text/plain": [
       "VBox(children=(RadioButtons(description='Base material', options=(('BN, 8x8 supercell', ('BN', (8, 8, 1))), ('…"
      ]
     },
     "metadata": {},
     "output_type": "display_data"
    }
   ],
   "source": [
    "from IPython.display import clear_output\n",
    "base_selection = widgets.RadioButtons(options=zip(material_labels, available_defects.index), description='Base material')\n",
    "total_structures_selection = widgets.IntSlider(min=0, max=100, step=1, value=1, description=\"Total structures to generate\")\n",
    "total_defects_selection = widgets.IntSlider(min=0, max=15, step=1, value=1, description=\"Total defects\")\n",
    "max_defect_counts_selection = dict()\n",
    "def prepare_defect_sliders(base_material):\n",
    "    max_defect_counts_selection.clear()\n",
    "    for defect in available_defects[base_material]:\n",
    "        max_defect_counts_selection[defect] = widgets.IntSlider(min=0, max=15, step=1, value=1, description=get_label(defect))\n",
    "    controls.children = [base_selection,\n",
    "                            total_structures_selection,\n",
    "                            total_defects_selection,\n",
    "                            widgets.Label(\"Max counts for each defect type:\"),\n",
    "                            *max_defect_counts_selection.values()]\n",
    "def select_defects(change):\n",
    "    if change['type'] == 'change' and change['name'] == 'value':\n",
    "        prepare_defect_sliders(change['owner'].value)\n",
    "base_selection.observe(select_defects)\n",
    "controls = widgets.VBox([base_selection])\n",
    "prepare_defect_sliders(base_selection.value)\n",
    "display(controls)"
   ]
  },
  {
   "cell_type": "code",
   "execution_count": 81,
   "metadata": {},
   "outputs": [],
   "source": [
    "from collections import defaultdict\n",
    "max_defect_counts = defaultdict(dict)\n",
    "for defect, count_widget in max_defect_counts_selection.items():\n",
    "    if defect.type == 'substitution':\n",
    "        max_defect_counts[defect.from_][defect.to] = count_widget.value\n",
    "    else:\n",
    "        max_defect_counts[defect.element][\"Vacancy\"] = count_widget.value"
   ]
  },
  {
   "cell_type": "code",
   "execution_count": 82,
   "metadata": {},
   "outputs": [
    {
     "data": {
      "application/vnd.jupyter.widget-view+json": {
       "model_id": "d22fc596d2dd4f53bbe85802b7fdc09e",
       "version_major": 2,
       "version_minor": 0
      },
      "text/plain": [
       "  0%|          | 0/45 [00:00<?, ?it/s]"
      ]
     },
     "metadata": {},
     "output_type": "display_data"
    }
   ],
   "source": [
    "from tqdm.auto import trange\n",
    "rng = np.random.default_rng(42)\n",
    "reference_supercell = unit_cells[base_selection.value[0]].copy()\n",
    "reference_supercell.make_supercell(base_selection.value[1])\n",
    "structures = []\n",
    "for i in trange(total_structures_selection.value):\n",
    "    structures.append(generate_structure_with_random_defects(total_defects_selection.value, max_defect_counts, reference_supercell, rng, False))"
   ]
  },
  {
   "cell_type": "code",
   "execution_count": 83,
   "metadata": {},
   "outputs": [
    {
     "data": {
      "application/vnd.jupyter.widget-view+json": {
       "model_id": "ed234bdec7cf45adab38ab05e190ed7c",
       "version_major": 2,
       "version_minor": 0
      },
      "text/plain": [
       "  0%|          | 0/45 [00:00<?, ?it/s]"
      ]
     },
     "metadata": {},
     "output_type": "display_data"
    }
   ],
   "source": [
    "elements = set(map(lambda x: x.specie, reference_supercell))\n",
    "for defect in available_defects[base_selection.value]:\n",
    "    if defect.type == 'substitution':\n",
    "        elements.add(Element(defect.from_))\n",
    "        elements.add(Element(defect.to))\n",
    "    else:\n",
    "        elements.add(Element(defect.element))\n",
    "single_atom_energies_dummy = pd.DataFrame(data=np.zeros((len(elements),1)), columns=[SINGLE_ENENRGY_COLUMN],\n",
    "                                         index=np.fromiter(elements, dtype=Element, count=len(elements)))\n",
    "sparse_structures = []\n",
    "for structure in tqdm(structures):\n",
    "    sparse_structures.append(get_sparse_defect(structure, unit_cells[base_selection.value[0]], base_selection.value[1], single_atom_energies_dummy)[0])"
   ]
  },
  {
   "cell_type": "code",
   "execution_count": 84,
   "metadata": {},
   "outputs": [
    {
     "data": {
      "text/plain": [
       "Structure Summary\n",
       "Lattice\n",
       "    abc : 19.799508 27.605556 20.0\n",
       " angles : 90.0 90.0 90.0\n",
       " volume : 10931.528537328959\n",
       "      A : 19.799508 0.0 1.2123702048446206e-15\n",
       "      B : -1.6903527897041506e-15 27.605556 1.6903527897041506e-15\n",
       "      C : 0.0 0.0 20.0\n",
       "    pbc : True True True\n",
       "PeriodicSite: X0+ (-0.0000, 16.5081, 4.1800) [0.0000, 0.5980, 0.2090]\n",
       "PeriodicSite: N (9.8998, 11.9098, 4.1825) [0.5000, 0.4314, 0.2091]\n",
       "PeriodicSite: N (9.8998, 11.0949, 6.2887) [0.5000, 0.4019, 0.3144]\n",
       "PeriodicSite: X0+ (4.9499, 0.4141, 6.2800) [0.2500, 0.0150, 0.3140]\n",
       "PeriodicSite: N (14.8496, 9.6093, 6.2887) [0.7500, 0.3481, 0.3144]\n",
       "PeriodicSite: N (14.8496, 23.4121, 6.2887) [0.7500, 0.8481, 0.3144]\n",
       "PeriodicSite: X0+ (1.6434, 4.1960, 4.1800) [0.0830, 0.1520, 0.2090]\n",
       "PeriodicSite: N (11.5497, 8.7944, 4.1825) [0.5833, 0.3186, 0.2091]"
      ]
     },
     "execution_count": 84,
     "metadata": {},
     "output_type": "execute_result"
    }
   ],
   "source": [
    "sparse_structures[0]"
   ]
  },
  {
   "cell_type": "code",
   "execution_count": 85,
   "metadata": {},
   "outputs": [
    {
     "name": "stdout",
     "output_type": "stream",
     "text": [
      "formation_energy_per_site\n"
     ]
    },
    {
     "data": {
      "application/vnd.jupyter.widget-view+json": {
       "model_id": "55552dd138064c8ba2234f33d7cc4104",
       "version_major": 2,
       "version_minor": 0
      },
      "text/plain": [
       "  0%|          | 0/45 [00:00<?, ?it/s]"
      ]
     },
     "metadata": {},
     "output_type": "display_data"
    },
    {
     "name": "stderr",
     "output_type": "stream",
     "text": [
      "WARNING:root:Tiling state from length 1 to length 2\n",
      "WARNING:root:Tiling state from length 1 to length 2\n",
      "WARNING:root:Tiling state from length 1 to length 2\n",
      "WARNING:root:Tiling state from length 1 to length 2\n",
      "WARNING:root:Tiling state from length 1 to length 2\n",
      "WARNING:root:Tiling state from length 1 to length 2\n",
      "WARNING:root:Tiling state from length 1 to length 2\n",
      "WARNING:root:Tiling state from length 1 to length 2\n",
      "WARNING:root:Tiling state from length 1 to length 2\n",
      "WARNING:root:Tiling state from length 1 to length 2\n",
      "WARNING:root:Tiling state from length 1 to length 2\n",
      "WARNING:root:Tiling state from length 1 to length 2\n",
      "WARNING:root:Tiling state from length 1 to length 2\n",
      "WARNING:root:Tiling state from length 1 to length 2\n",
      "WARNING:root:Tiling state from length 1 to length 2\n",
      "WARNING:root:Tiling state from length 1 to length 2\n",
      "WARNING:root:Tiling state from length 1 to length 2\n",
      "WARNING:root:Tiling state from length 1 to length 2\n",
      "WARNING:root:Tiling state from length 1 to length 2\n",
      "WARNING:root:Tiling state from length 1 to length 2\n",
      "WARNING:root:Tiling state from length 1 to length 2\n",
      "WARNING:root:Tiling state from length 1 to length 2\n",
      "WARNING:root:Tiling state from length 1 to length 2\n",
      "WARNING:root:Tiling state from length 1 to length 2\n",
      "WARNING:root:Tiling state from length 1 to length 2\n",
      "WARNING:root:Tiling state from length 1 to length 2\n",
      "WARNING:root:Tiling state from length 1 to length 2\n",
      "WARNING:root:Tiling state from length 1 to length 2\n",
      "WARNING:root:Tiling state from length 1 to length 2\n",
      "WARNING:root:Tiling state from length 1 to length 2\n",
      "WARNING:root:Tiling state from length 1 to length 2\n",
      "WARNING:root:Tiling state from length 1 to length 2\n",
      "WARNING:root:Tiling state from length 1 to length 2\n",
      "WARNING:root:Tiling state from length 1 to length 2\n",
      "WARNING:root:Tiling state from length 1 to length 2\n",
      "WARNING:root:Tiling state from length 1 to length 2\n",
      "WARNING:root:Tiling state from length 1 to length 2\n",
      "WARNING:root:Tiling state from length 1 to length 2\n",
      "WARNING:root:Tiling state from length 1 to length 2\n",
      "WARNING:root:Tiling state from length 1 to length 2\n",
      "WARNING:root:Tiling state from length 1 to length 2\n",
      "WARNING:root:Tiling state from length 1 to length 2\n",
      "WARNING:root:Tiling state from length 1 to length 2\n",
      "WARNING:root:Tiling state from length 1 to length 2\n",
      "WARNING:root:Tiling state from length 1 to length 2\n"
     ]
    },
    {
     "name": "stdout",
     "output_type": "stream",
     "text": [
      "[[ -9.45735  ]\n",
      " [ -7.1647673]\n",
      " [ -5.304395 ]\n",
      " [ -9.379557 ]\n",
      " [ -9.531681 ]\n",
      " [ -5.1471143]\n",
      " [ -7.1961794]\n",
      " [ -9.436419 ]\n",
      " [ -9.612769 ]\n",
      " [ -7.259413 ]\n",
      " [ -5.28455  ]\n",
      " [-11.56819  ]\n",
      " [ -3.2931852]\n",
      " [ -0.7973844]\n",
      " [ -7.283188 ]\n",
      " [ -9.352597 ]\n",
      " [ -7.3912344]\n",
      " [ -3.1820154]\n",
      " [ -9.339229 ]\n",
      " [-11.493329 ]\n",
      " [ -7.2290707]\n",
      " [ -9.43199  ]\n",
      " [ -9.460617 ]\n",
      " [ -3.045741 ]\n",
      " [-11.735934 ]\n",
      " [ -7.3334246]\n",
      " [ -7.20026  ]\n",
      " [ -9.43051  ]\n",
      " [ -9.422464 ]\n",
      " [ -7.4376698]\n",
      " [-11.467733 ]\n",
      " [ -9.395529 ]\n",
      " [-11.54327  ]\n",
      " [ -7.2522736]\n",
      " [ -9.501735 ]\n",
      " [ -9.353995 ]\n",
      " [-11.560653 ]\n",
      " [ -9.432962 ]\n",
      " [ -9.386898 ]\n",
      " [ -7.4142904]\n",
      " [ -7.4720917]\n",
      " [ -7.4508877]\n",
      " [ -5.0502334]\n",
      " [ -7.223666 ]\n",
      " [ -5.2595005]]\n",
      "homo_lumo_gap_min\n"
     ]
    },
    {
     "data": {
      "application/vnd.jupyter.widget-view+json": {
       "model_id": "28b6f59b1ea54d71bf5aa1edcb4e086b",
       "version_major": 2,
       "version_minor": 0
      },
      "text/plain": [
       "  0%|          | 0/45 [00:00<?, ?it/s]"
      ]
     },
     "metadata": {},
     "output_type": "display_data"
    },
    {
     "name": "stdout",
     "output_type": "stream",
     "text": [
      "[[0.6124114 ]\n",
      " [0.4156559 ]\n",
      " [0.31034902]\n",
      " [0.71984357]\n",
      " [0.78188115]\n",
      " [0.36402264]\n",
      " [0.8198599 ]\n",
      " [0.6532231 ]\n",
      " [0.6980879 ]\n",
      " [0.56682277]\n",
      " [0.6357219 ]\n",
      " [0.8310488 ]\n",
      " [0.3923952 ]\n",
      " [0.3038568 ]\n",
      " [0.6742657 ]\n",
      " [0.36102802]\n",
      " [0.6294773 ]\n",
      " [0.4698363 ]\n",
      " [0.40958408]\n",
      " [0.5824387 ]\n",
      " [0.6034634 ]\n",
      " [0.79876274]\n",
      " [0.42780495]\n",
      " [0.48113972]\n",
      " [0.76717037]\n",
      " [0.6436002 ]\n",
      " [0.66482496]\n",
      " [0.4774354 ]\n",
      " [0.519976  ]\n",
      " [0.69543743]\n",
      " [0.79816467]\n",
      " [0.6611786 ]\n",
      " [0.7785849 ]\n",
      " [0.71011573]\n",
      " [0.67526966]\n",
      " [0.3014007 ]\n",
      " [0.73278165]\n",
      " [0.47251245]\n",
      " [0.4178466 ]\n",
      " [0.7560054 ]\n",
      " [0.63701427]\n",
      " [0.5684327 ]\n",
      " [0.6332985 ]\n",
      " [0.44464138]\n",
      " [0.351126  ]]\n"
     ]
    }
   ],
   "source": [
    "for target, predictor in predictors.items():\n",
    "    print(target)\n",
    "    print(predictor.predict_structures(sparse_structures))"
   ]
  }
 ],
 "metadata": {
  "kernelspec": {
   "display_name": "2d-defects-potential-learning-pYjw2mkT-py3.11",
   "language": "python",
   "name": "python3"
  },
  "language_info": {
   "codemirror_mode": {
    "name": "ipython",
    "version": 3
   },
   "file_extension": ".py",
   "mimetype": "text/x-python",
   "name": "python",
   "nbconvert_exporter": "python",
   "pygments_lexer": "ipython3",
   "version": "3.11.3"
  },
  "orig_nbformat": 4
 },
 "nbformat": 4,
 "nbformat_minor": 2
}
