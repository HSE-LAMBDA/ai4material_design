{
 "cells": [
  {
   "cell_type": "code",
   "execution_count": 55,
   "metadata": {},
   "outputs": [],
   "source": [
    "import torch\n",
    "from pathlib import Path\n",
    "import yaml\n",
    "import sys\n",
    "import numpy as np\n",
    "import pandas as pd\n",
    "from torch_geometric.loader import DataLoader\n",
    "from joblib import Parallel, delayed\n",
    "from tqdm.auto import tqdm\n",
    "sys.path.append(\"..\")\n",
    "from ai4mat.models.megnet_pytorch.megnet_pytorch import MEGNet\n",
    "from ai4mat.models.megnet_pytorch.utils import Scaler\n",
    "from ai4mat.models.megnet_pytorch.struct2graph import (\n",
    "    SimpleCrystalConverter, GaussianDistanceConverter,\n",
    "    FlattenGaussianDistanceConverter, AtomFeaturesExtractor)"
   ]
  },
  {
   "cell_type": "code",
   "execution_count": 56,
   "metadata": {},
   "outputs": [],
   "source": [
    "class MEGNetOnStructures(torch.nn.Module):\n",
    "    def __init__(self, config, n_jobs=-1, device='cpu'):\n",
    "        super().__init__()\n",
    "        self.config = config        \n",
    "        if self.config[\"model\"][\"add_z_bond_coord\"]:\n",
    "            bond_converter = FlattenGaussianDistanceConverter(\n",
    "                centers=np.linspace(0, self.config['model']['cutoff'], self.config['model']['edge_embed_size'])\n",
    "            )\n",
    "        else:\n",
    "            bond_converter = GaussianDistanceConverter(\n",
    "                centers=np.linspace(0, self.config['model']['cutoff'], self.config['model']['edge_embed_size'])\n",
    "            )\n",
    "        atom_converter = AtomFeaturesExtractor(self.config[\"model\"][\"atom_features\"])\n",
    "        self.converter = SimpleCrystalConverter(\n",
    "            bond_converter=bond_converter,\n",
    "            atom_converter=atom_converter,\n",
    "            cutoff=self.config[\"model\"][\"cutoff\"],\n",
    "            add_z_bond_coord=self.config[\"model\"][\"add_z_bond_coord\"],\n",
    "            add_eos_features=(use_eos := self.config[\"model\"].get(\"add_eos_features\", False)),\n",
    "        )\n",
    "        self.model = MEGNet(\n",
    "            edge_input_shape=bond_converter.get_shape(eos=use_eos),\n",
    "            node_input_shape=atom_converter.get_shape(),\n",
    "            embedding_size=self.config['model']['embedding_size'],\n",
    "            n_blocks=self.config['model']['nblocks'],\n",
    "            state_input_shape=self.config[\"model\"][\"state_input_shape\"],\n",
    "            vertex_aggregation=self.config[\"model\"][\"vertex_aggregation\"],\n",
    "            global_aggregation=self.config[\"model\"][\"global_aggregation\"],\n",
    "        )\n",
    "        self.n_jobs = n_jobs\n",
    "        self.device = device\n",
    "        self.scaler = Scaler()\n",
    "    \n",
    "    def load(self, checkpoint_file_name):\n",
    "        checkpoint = torch.load(checkpoint_file_name)\n",
    "        self.model.load_state_dict(checkpoint['model'])\n",
    "        self.scaler.load_state_dict(checkpoint['scaler'])\n",
    "    \n",
    "    def predict(self, sparse_structures):\n",
    "        test_structures = Parallel(n_jobs=self.n_jobs, backend='threading')(\n",
    "            delayed(self.converter.convert)(s) for s in tqdm(sparse_structures))\n",
    "        testloader = DataLoader(\n",
    "            test_structures,\n",
    "            batch_size=self.config[\"model\"][\"test_batch_size\"],\n",
    "            shuffle=False,\n",
    "            num_workers=0,\n",
    "        )\n",
    "        results = []\n",
    "        with torch.no_grad():\n",
    "            for batch in testloader:\n",
    "                batch = batch.to(self.device)\n",
    "                preds = self.model(\n",
    "                    batch.x, batch.edge_index, batch.edge_attr, batch.state, batch.batch, batch.bond_batch\n",
    "                )\n",
    "                results.append(self.scaler.inverse_transform(preds))\n",
    "        return torch.concat(results).to('cpu').data.numpy().reshape(-1, 1)"
   ]
  },
  {
   "cell_type": "code",
   "execution_count": 57,
   "metadata": {},
   "outputs": [],
   "source": [
    "model_name = \"megnet_pytorch/sparse/05-12-2022_19-50-53/d6b7ce45\"\n",
    "with open(Path(\"../trials/\") / f\"{model_name}.yaml\", \"r\") as f:\n",
    "    config = yaml.safe_load(f)"
   ]
  },
  {
   "cell_type": "code",
   "execution_count": 58,
   "metadata": {},
   "outputs": [
    {
     "name": "stderr",
     "output_type": "stream",
     "text": [
      "/home/kna/.cache/pypoetry/virtualenvs/2d-defects-potential-learning-pYjw2mkT-py3.11/lib/python3.11/site-packages/torch_geometric/deprecation.py:12: UserWarning: 'nn.glob.Set2Set' is deprecated, use 'nn.aggr.Set2Set' instead\n",
      "  warnings.warn(out)\n"
     ]
    }
   ],
   "source": [
    "predictor = MEGNetOnStructures(config['model_params'])\n",
    "predictor.load(Path(\"../datasets/checkpoints/combined_mixed_all_train/formation_energy_per_site\") / f\"{model_name}/0.pth\")"
   ]
  },
  {
   "cell_type": "code",
   "execution_count": 59,
   "metadata": {},
   "outputs": [],
   "source": [
    "data = pd.read_pickle(\"../datasets/processed/low_density_defects/MoS2/data.pickle.gz\")"
   ]
  },
  {
   "cell_type": "code",
   "execution_count": 60,
   "metadata": {},
   "outputs": [
    {
     "data": {
      "application/vnd.jupyter.widget-view+json": {
       "model_id": "c0a3514df11747a88052772bea068035",
       "version_major": 2,
       "version_minor": 0
      },
      "text/plain": [
       "  0%|          | 0/10 [00:00<?, ?it/s]"
      ]
     },
     "metadata": {},
     "output_type": "display_data"
    },
    {
     "data": {
      "text/plain": [
       "array([[ 0.3167659 ],\n",
       "       [ 0.2696932 ],\n",
       "       [-0.5299574 ],\n",
       "       [-0.52924985],\n",
       "       [ 0.306701  ],\n",
       "       [-0.53000295],\n",
       "       [-0.12192775],\n",
       "       [-0.52752185],\n",
       "       [ 1.6497588 ],\n",
       "       [-0.12266431]], dtype=float32)"
      ]
     },
     "execution_count": 60,
     "metadata": {},
     "output_type": "execute_result"
    }
   ],
   "source": [
    "predictor.predict(data.defect_representation.iloc[0:10])"
   ]
  },
  {
   "cell_type": "code",
   "execution_count": null,
   "metadata": {},
   "outputs": [],
   "source": []
  }
 ],
 "metadata": {
  "kernelspec": {
   "display_name": "2d-defects-potential-learning-pYjw2mkT-py3.11",
   "language": "python",
   "name": "python3"
  },
  "language_info": {
   "codemirror_mode": {
    "name": "ipython",
    "version": 3
   },
   "file_extension": ".py",
   "mimetype": "text/x-python",
   "name": "python",
   "nbconvert_exporter": "python",
   "pygments_lexer": "ipython3",
   "version": "3.11.3"
  },
  "orig_nbformat": 4
 },
 "nbformat": 4,
 "nbformat_minor": 2
}
