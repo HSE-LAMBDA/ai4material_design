{
 "cells": [
  {
   "cell_type": "code",
   "execution_count": 22,
   "id": "ea2188f0",
   "metadata": {},
   "outputs": [],
   "source": [
    "import pandas as pd\n",
    "import numpy as np\n",
    "from catboost import CatBoostRegressor, Pool\n",
    "from sklearn.model_selection import KFold\n",
    "from sklearn.metrics import mean_absolute_percentage_error, mean_absolute_error, r2_score"
   ]
  },
  {
   "cell_type": "code",
   "execution_count": 2,
   "id": "5ad6fe44",
   "metadata": {},
   "outputs": [],
   "source": [
    "features = pd.read_csv(\"ruslan_nn/features16k.csv\", index_col=\"_id\")\n",
    "properties = pd.read_csv(\"ruslan_nn/properties16k.csv\", index_col='_id')\n",
    "descriptors = pd.read_csv(\"ruslan_nn/descriptors16k.csv\")"
   ]
  },
  {
   "cell_type": "code",
   "execution_count": 9,
   "id": "bb6563c4",
   "metadata": {},
   "outputs": [],
   "source": [
    "properties['HL_gap'] = properties['lumo'] - properties['homo']\n",
    "property_ = 'energy_per_atom'"
   ]
  },
  {
   "cell_type": "code",
   "execution_count": 12,
   "id": "157e631b",
   "metadata": {},
   "outputs": [],
   "source": [
    "x = features\n",
    "y = properties[property_]\n",
    "y_pred = pd.DataFrame({property_: [np.nan] * len(y)}, index=y.index)"
   ]
  },
  {
   "cell_type": "code",
   "execution_count": 15,
   "id": "67f7ae23",
   "metadata": {},
   "outputs": [
    {
     "name": "stdout",
     "output_type": "stream",
     "text": [
      "0:\tlearn: 0.0396732\ttest: 0.0397686\tbest: 0.0397686 (0)\ttotal: 232ms\tremaining: 19m 22s\n",
      "1000:\tlearn: 0.0003250\ttest: 0.0003866\tbest: 0.0003866 (1000)\ttotal: 3m 41s\tremaining: 14m 44s\n",
      "2000:\tlearn: 0.0001909\ttest: 0.0002633\tbest: 0.0002633 (2000)\ttotal: 7m 20s\tremaining: 10m 59s\n",
      "3000:\tlearn: 0.0001470\ttest: 0.0002326\tbest: 0.0002326 (3000)\ttotal: 10m 48s\tremaining: 7m 12s\n",
      "4000:\tlearn: 0.0001227\ttest: 0.0002175\tbest: 0.0002175 (4000)\ttotal: 14m 25s\tremaining: 3m 36s\n",
      "4999:\tlearn: 0.0001066\ttest: 0.0002089\tbest: 0.0002089 (4999)\ttotal: 17m 46s\tremaining: 0us\n",
      "\n",
      "bestTest = 0.0002089151828\n",
      "bestIteration = 4999\n",
      "\n",
      "0:\tlearn: 0.0395749\ttest: 0.0396575\tbest: 0.0396575 (0)\ttotal: 299ms\tremaining: 24m 54s\n",
      "1000:\tlearn: 0.0003721\ttest: 0.0004194\tbest: 0.0004194 (1000)\ttotal: 3m 28s\tremaining: 13m 52s\n",
      "2000:\tlearn: 0.0002189\ttest: 0.0002992\tbest: 0.0002992 (2000)\ttotal: 6m 54s\tremaining: 10m 21s\n",
      "3000:\tlearn: 0.0001661\ttest: 0.0002639\tbest: 0.0002639 (3000)\ttotal: 10m 31s\tremaining: 7m\n",
      "4000:\tlearn: 0.0001416\ttest: 0.0002482\tbest: 0.0002482 (4000)\ttotal: 13m 58s\tremaining: 3m 29s\n",
      "4999:\tlearn: 0.0001250\ttest: 0.0002352\tbest: 0.0002352 (4999)\ttotal: 17m 19s\tremaining: 0us\n",
      "\n",
      "bestTest = 0.0002351710647\n",
      "bestIteration = 4999\n",
      "\n",
      "0:\tlearn: 0.0397152\ttest: 0.0394865\tbest: 0.0394865 (0)\ttotal: 104ms\tremaining: 8m 38s\n",
      "1000:\tlearn: 0.0003704\ttest: 0.0004083\tbest: 0.0004083 (1000)\ttotal: 3m 37s\tremaining: 14m 29s\n",
      "2000:\tlearn: 0.0002110\ttest: 0.0002702\tbest: 0.0002702 (2000)\ttotal: 7m 12s\tremaining: 10m 47s\n",
      "3000:\tlearn: 0.0001637\ttest: 0.0002322\tbest: 0.0002322 (3000)\ttotal: 10m 46s\tremaining: 7m 10s\n",
      "4000:\tlearn: 0.0001365\ttest: 0.0002143\tbest: 0.0002142 (3991)\ttotal: 14m 15s\tremaining: 3m 33s\n",
      "4999:\tlearn: 0.0001190\ttest: 0.0002056\tbest: 0.0002056 (4999)\ttotal: 17m 41s\tremaining: 0us\n",
      "\n",
      "bestTest = 0.0002056300595\n",
      "bestIteration = 4999\n",
      "\n",
      "0:\tlearn: 0.0393572\ttest: 0.0404715\tbest: 0.0404715 (0)\ttotal: 31.2ms\tremaining: 2m 35s\n",
      "1000:\tlearn: 0.0003548\ttest: 0.0004497\tbest: 0.0004497 (1000)\ttotal: 3m 37s\tremaining: 14m 28s\n",
      "2000:\tlearn: 0.0002057\ttest: 0.0003154\tbest: 0.0003154 (2000)\ttotal: 7m 12s\tremaining: 10m 48s\n",
      "3000:\tlearn: 0.0001572\ttest: 0.0002719\tbest: 0.0002719 (3000)\ttotal: 10m 43s\tremaining: 7m 8s\n",
      "4000:\tlearn: 0.0001305\ttest: 0.0002536\tbest: 0.0002536 (4000)\ttotal: 14m 8s\tremaining: 3m 31s\n",
      "4999:\tlearn: 0.0001122\ttest: 0.0002412\tbest: 0.0002412 (4999)\ttotal: 17m 38s\tremaining: 0us\n",
      "\n",
      "bestTest = 0.0002412106427\n",
      "bestIteration = 4999\n",
      "\n",
      "0:\tlearn: 0.0399280\ttest: 0.0388866\tbest: 0.0388866 (0)\ttotal: 238ms\tremaining: 19m 50s\n",
      "1000:\tlearn: 0.0003320\ttest: 0.0003386\tbest: 0.0003386 (1000)\ttotal: 3m 40s\tremaining: 14m 40s\n",
      "2000:\tlearn: 0.0001982\ttest: 0.0002313\tbest: 0.0002313 (2000)\ttotal: 7m 15s\tremaining: 10m 52s\n",
      "3000:\tlearn: 0.0001538\ttest: 0.0002047\tbest: 0.0002047 (2994)\ttotal: 10m 47s\tremaining: 7m 11s\n",
      "4000:\tlearn: 0.0001291\ttest: 0.0001912\tbest: 0.0001912 (4000)\ttotal: 14m 15s\tremaining: 3m 33s\n",
      "4999:\tlearn: 0.0001128\ttest: 0.0001834\tbest: 0.0001834 (4999)\ttotal: 17m 39s\tremaining: 0us\n",
      "\n",
      "bestTest = 0.000183394988\n",
      "bestIteration = 4999\n",
      "\n"
     ]
    }
   ],
   "source": [
    "kf = KFold(n_splits=5, shuffle=True)\n",
    "scores = []\n",
    "\n",
    "for train_index, test_index in kf.split(x):\n",
    "    X_train, X_test, y_train, y_test =\\\n",
    "        x.iloc[train_index], x.iloc[test_index], y.iloc[train_index], y.iloc[test_index]\n",
    "    train_pool = Pool(X_train, y_train)\n",
    "    val_pool = Pool(X_test, y_test)\n",
    "\n",
    "    model = CatBoostRegressor(iterations=5000, loss_function='MAE',\n",
    "                              verbose=1000, random_seed=0, use_best_model=True)\n",
    "    model.fit(train_pool, eval_set=val_pool)\n",
    "    y_pred[property_].iloc[test_index] = model.predict(X_test)"
   ]
  },
  {
   "cell_type": "code",
   "execution_count": 20,
   "id": "e60747b2",
   "metadata": {},
   "outputs": [
    {
     "name": "stdout",
     "output_type": "stream",
     "text": [
      "0.0002158534755350317\n"
     ]
    }
   ],
   "source": [
    "print(mean_absolute_error(y_pred[property_], y))"
   ]
  },
  {
   "cell_type": "code",
   "execution_count": 17,
   "id": "ecf035e0",
   "metadata": {},
   "outputs": [],
   "source": [
    "y_pred2 = pd.DataFrame({property_: [np.nan] * len(y)}, index=y.index)"
   ]
  },
  {
   "cell_type": "code",
   "execution_count": null,
   "id": "c408ffb0",
   "metadata": {},
   "outputs": [
    {
     "name": "stdout",
     "output_type": "stream",
     "text": [
      "Learning rate set to 0.026942\n",
      "0:\tlearn: 0.0516787\ttest: 0.0509054\tbest: 0.0509054 (0)\ttotal: 211ms\tremaining: 17m 35s\n",
      "1000:\tlearn: 0.0004873\ttest: 0.0006717\tbest: 0.0006717 (999)\ttotal: 3m 40s\tremaining: 14m 42s\n",
      "2000:\tlearn: 0.0002726\ttest: 0.0005853\tbest: 0.0005853 (2000)\ttotal: 7m 12s\tremaining: 10m 47s\n",
      "3000:\tlearn: 0.0001928\ttest: 0.0005600\tbest: 0.0005600 (3000)\ttotal: 10m 49s\tremaining: 7m 12s\n",
      "4000:\tlearn: 0.0001519\ttest: 0.0005476\tbest: 0.0005476 (4000)\ttotal: 14m 16s\tremaining: 3m 33s\n",
      "4999:\tlearn: 0.0001259\ttest: 0.0005412\tbest: 0.0005412 (4994)\ttotal: 17m 44s\tremaining: 0us\n",
      "\n",
      "bestTest = 0.0005411918795\n",
      "bestIteration = 4994\n",
      "\n",
      "Shrink model to first 4995 iterations.\n",
      "Learning rate set to 0.026942\n",
      "0:\tlearn: 0.0514030\ttest: 0.0519667\tbest: 0.0519667 (0)\ttotal: 82.5ms\tremaining: 6m 52s\n",
      "1000:\tlearn: 0.0005021\ttest: 0.0007227\tbest: 0.0007227 (1000)\ttotal: 3m 30s\tremaining: 13m 59s\n",
      "2000:\tlearn: 0.0002852\ttest: 0.0006048\tbest: 0.0006048 (2000)\ttotal: 6m 54s\tremaining: 10m 21s\n",
      "3000:\tlearn: 0.0001950\ttest: 0.0005757\tbest: 0.0005757 (3000)\ttotal: 10m 23s\tremaining: 6m 55s\n",
      "4000:\tlearn: 0.0001527\ttest: 0.0005634\tbest: 0.0005634 (4000)\ttotal: 13m 51s\tremaining: 3m 27s\n",
      "4999:\tlearn: 0.0001256\ttest: 0.0005570\tbest: 0.0005570 (4989)\ttotal: 17m 16s\tremaining: 0us\n",
      "\n",
      "bestTest = 0.0005569867908\n",
      "bestIteration = 4989\n",
      "\n",
      "Shrink model to first 4990 iterations.\n",
      "Learning rate set to 0.026942\n",
      "0:\tlearn: 0.0515608\ttest: 0.0513369\tbest: 0.0513369 (0)\ttotal: 359ms\tremaining: 29m 54s\n",
      "1000:\tlearn: 0.0005102\ttest: 0.0007831\tbest: 0.0007830 (999)\ttotal: 3m 28s\tremaining: 13m 54s\n",
      "2000:\tlearn: 0.0002785\ttest: 0.0006729\tbest: 0.0006729 (1997)\ttotal: 7m 8s\tremaining: 10m 41s\n",
      "3000:\tlearn: 0.0001932\ttest: 0.0006405\tbest: 0.0006405 (3000)\ttotal: 10m 47s\tremaining: 7m 11s\n"
     ]
    }
   ],
   "source": [
    "kf = KFold(n_splits=5, shuffle=True)\n",
    "scores = []\n",
    "\n",
    "for train_index, test_index in kf.split(x):\n",
    "    X_train, X_test, y_train, y_test =\\\n",
    "        x.iloc[train_index], x.iloc[test_index], y.iloc[train_index], y.iloc[test_index]\n",
    "    train_pool = Pool(X_train, y_train)\n",
    "    val_pool = Pool(X_test, y_test)\n",
    "\n",
    "    model = CatBoostRegressor(iterations=5000, loss_function='RMSE',\n",
    "                              verbose=1000, random_seed=0, use_best_model=True)\n",
    "    model.fit(train_pool, eval_set=val_pool)\n",
    "    y_pred2[property_].iloc[test_index] = model.predict(X_test)"
   ]
  },
  {
   "cell_type": "code",
   "execution_count": 23,
   "id": "0b00c0de",
   "metadata": {},
   "outputs": [
    {
     "name": "stdout",
     "output_type": "stream",
     "text": [
      "0.999779717842571\n"
     ]
    }
   ],
   "source": [
    "print(r2_score(y_pred2[property_], y))"
   ]
  },
  {
   "cell_type": "code",
   "execution_count": null,
   "id": "2b3ac5d0",
   "metadata": {},
   "outputs": [],
   "source": []
  }
 ],
 "metadata": {
  "kernelspec": {
   "display_name": "screening",
   "language": "python",
   "name": "screening"
  },
  "language_info": {
   "codemirror_mode": {
    "name": "ipython",
    "version": 3
   },
   "file_extension": ".py",
   "mimetype": "text/x-python",
   "name": "python",
   "nbconvert_exporter": "python",
   "pygments_lexer": "ipython3",
   "version": "3.8.12"
  }
 },
 "nbformat": 4,
 "nbformat_minor": 5
}
