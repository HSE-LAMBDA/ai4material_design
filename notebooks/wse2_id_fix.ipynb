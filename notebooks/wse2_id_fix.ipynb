{
 "cells": [
  {
   "cell_type": "code",
   "execution_count": 1,
   "metadata": {},
   "outputs": [],
   "source": [
    "from pathlib import Path\n",
    "import pandas as pd"
   ]
  },
  {
   "cell_type": "code",
   "execution_count": 2,
   "metadata": {},
   "outputs": [],
   "source": [
    "id_match = pd.read_csv('../datasets/others/wse2_to_mos2_id_matching.csv.gz', index_col=\"MoS2_id\")"
   ]
  },
  {
   "cell_type": "code",
   "execution_count": 3,
   "metadata": {},
   "outputs": [],
   "source": [
    "poscars_folder = Path(\"../datasets/raw_vasp/dichalcogenides8x8_vasp_nus_202110/wse2_8x8_5933\")"
   ]
  },
  {
   "cell_type": "code",
   "execution_count": 4,
   "metadata": {},
   "outputs": [],
   "source": [
    "prefix_len = len(\"poscar_V3-\")\n",
    "folder_len = len(\"poscar_V3-6141cf243ac25c70a5c6c847\")\n",
    "for folder in list(poscars_folder.iterdir()):\n",
    "    assert folder.name.startswith(\"poscar_\")\n",
    "    assert len(folder.name) == folder_len\n",
    "    structure_id = folder.name[prefix_len:]\n",
    "    new_id = id_match.at[structure_id, \"WSe2_id\"]\n",
    "    folder.rename(poscars_folder / f\"{folder.name[:prefix_len]}{new_id}\")"
   ]
  }
 ],
 "metadata": {
  "kernelspec": {
   "display_name": "Python 3.10.7 ('2d-defects-potential-learning-pYjw2mkT-py3.10')",
   "language": "python",
   "name": "python3"
  },
  "language_info": {
   "codemirror_mode": {
    "name": "ipython",
    "version": 3
   },
   "file_extension": ".py",
   "mimetype": "text/x-python",
   "name": "python",
   "nbconvert_exporter": "python",
   "pygments_lexer": "ipython3",
   "version": "3.10.7"
  },
  "orig_nbformat": 4,
  "vscode": {
   "interpreter": {
    "hash": "635b46ca2bfd4fb1fb06df777baa58449acfa795d46252930268ba7054c54264"
   }
  }
 },
 "nbformat": 4,
 "nbformat_minor": 2
}
