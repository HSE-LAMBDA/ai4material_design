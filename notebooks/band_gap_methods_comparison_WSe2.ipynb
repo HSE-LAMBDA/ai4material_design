{
 "cells": [
  {
   "cell_type": "code",
   "execution_count": 17,
   "metadata": {},
   "outputs": [],
   "source": [
    "from collections import defaultdict\n",
    "from pathlib import Path\n",
    "import pandas as pd\n",
    "import numpy as np\n",
    "import matplotlib.pyplot as plt\n",
    "from joblib import Parallel, delayed\n",
    "# vscode has a bug with tqdm.notebook\n",
    "# https://github.com/microsoft/vscode-jupyter/issues/9397\n",
    "from tqdm import tqdm\n",
    "from pymatgen.io.vasp.outputs import Vasprun"
   ]
  },
  {
   "cell_type": "code",
   "execution_count": 38,
   "metadata": {},
   "outputs": [],
   "source": [
    "# Mount with ratarmount\n",
    "materials = (\"MoS2\", \"WSe2\")"
   ]
  },
  {
   "cell_type": "code",
   "execution_count": null,
   "metadata": {},
   "outputs": [],
   "source": [
    "def load_band_gaps(folder: Path):\n",
    "    data = defaultdict(dict)\n",
    "    for vasp_folder in tqdm(folder.glob(r\"poscar_*\")):\n",
    "        vasprun_file = Vasprun(vasp_folder / \"01_relax\" / \"vasprun.xml\",\n",
    "                            parse_potcar_file=False,\n",
    "                            separate_spins=False,\n",
    "                            parse_dos=True)\n",
    "        data[vasp_folder.name]['eigenvalue_band_properties'], _, _, _ = \\\n",
    "            vasprun_file.eigenvalue_band_properties\n",
    "        data[vasp_folder.name]['get_band_structure'] = \\\n",
    "            vasprun_file.get_band_structure().get_band_gap()['energy']\n",
    "        return data"
   ]
  },
  {
   "cell_type": "code",
   "execution_count": 34,
   "metadata": {},
   "outputs": [
    {
     "name": "stderr",
     "output_type": "stream",
     "text": [
      "11it [00:03,  3.14it/s]\n"
     ]
    },
    {
     "ename": "KeyboardInterrupt",
     "evalue": "",
     "output_type": "error",
     "traceback": [
      "\u001b[0;31m---------------------------------------------------------------------------\u001b[0m",
      "\u001b[0;31mKeyboardInterrupt\u001b[0m                         Traceback (most recent call last)",
      "\u001b[1;32m/home/kna/ai4material_design/notebooks/band_gap_methods_comparison_WSe2.ipynb Cell 7\u001b[0m in \u001b[0;36m<cell line: 2>\u001b[0;34m()\u001b[0m\n\u001b[1;32m      <a href='vscode-notebook-cell:/home/kna/ai4material_design/notebooks/band_gap_methods_comparison_WSe2.ipynb#W2sZmlsZQ%3D%3D?line=0'>1</a>\u001b[0m data \u001b[39m=\u001b[39m defaultdict(\u001b[39mdict\u001b[39m)\n\u001b[1;32m      <a href='vscode-notebook-cell:/home/kna/ai4material_design/notebooks/band_gap_methods_comparison_WSe2.ipynb#W2sZmlsZQ%3D%3D?line=1'>2</a>\u001b[0m \u001b[39mfor\u001b[39;00m vasp_folder \u001b[39min\u001b[39;00m tqdm(folder\u001b[39m.\u001b[39mglob(\u001b[39mr\u001b[39m\u001b[39m\"\u001b[39m\u001b[39mposcar_*\u001b[39m\u001b[39m\"\u001b[39m)):\n\u001b[0;32m----> <a href='vscode-notebook-cell:/home/kna/ai4material_design/notebooks/band_gap_methods_comparison_WSe2.ipynb#W2sZmlsZQ%3D%3D?line=2'>3</a>\u001b[0m     vasprun_file \u001b[39m=\u001b[39m Vasprun(vasp_folder \u001b[39m/\u001b[39;49m \u001b[39m\"\u001b[39;49m\u001b[39m01_relax\u001b[39;49m\u001b[39m\"\u001b[39;49m \u001b[39m/\u001b[39;49m \u001b[39m\"\u001b[39;49m\u001b[39mvasprun.xml\u001b[39;49m\u001b[39m\"\u001b[39;49m,\n\u001b[1;32m      <a href='vscode-notebook-cell:/home/kna/ai4material_design/notebooks/band_gap_methods_comparison_WSe2.ipynb#W2sZmlsZQ%3D%3D?line=3'>4</a>\u001b[0m                            parse_potcar_file\u001b[39m=\u001b[39;49m\u001b[39mFalse\u001b[39;49;00m,\n\u001b[1;32m      <a href='vscode-notebook-cell:/home/kna/ai4material_design/notebooks/band_gap_methods_comparison_WSe2.ipynb#W2sZmlsZQ%3D%3D?line=4'>5</a>\u001b[0m                            separate_spins\u001b[39m=\u001b[39;49m\u001b[39mFalse\u001b[39;49;00m,\n\u001b[1;32m      <a href='vscode-notebook-cell:/home/kna/ai4material_design/notebooks/band_gap_methods_comparison_WSe2.ipynb#W2sZmlsZQ%3D%3D?line=5'>6</a>\u001b[0m                            parse_dos\u001b[39m=\u001b[39;49m\u001b[39mTrue\u001b[39;49;00m)\n\u001b[1;32m      <a href='vscode-notebook-cell:/home/kna/ai4material_design/notebooks/band_gap_methods_comparison_WSe2.ipynb#W2sZmlsZQ%3D%3D?line=6'>7</a>\u001b[0m     data[vasp_folder\u001b[39m.\u001b[39mname][\u001b[39m'\u001b[39m\u001b[39meigenvalue_band_properties\u001b[39m\u001b[39m'\u001b[39m], _, _, _ \u001b[39m=\u001b[39m \\\n\u001b[1;32m      <a href='vscode-notebook-cell:/home/kna/ai4material_design/notebooks/band_gap_methods_comparison_WSe2.ipynb#W2sZmlsZQ%3D%3D?line=7'>8</a>\u001b[0m         vasprun_file\u001b[39m.\u001b[39meigenvalue_band_properties\n\u001b[1;32m      <a href='vscode-notebook-cell:/home/kna/ai4material_design/notebooks/band_gap_methods_comparison_WSe2.ipynb#W2sZmlsZQ%3D%3D?line=8'>9</a>\u001b[0m     data[vasp_folder\u001b[39m.\u001b[39mname][\u001b[39m'\u001b[39m\u001b[39mget_band_structure\u001b[39m\u001b[39m'\u001b[39m] \u001b[39m=\u001b[39m \\\n\u001b[1;32m     <a href='vscode-notebook-cell:/home/kna/ai4material_design/notebooks/band_gap_methods_comparison_WSe2.ipynb#W2sZmlsZQ%3D%3D?line=9'>10</a>\u001b[0m          vasprun_file\u001b[39m.\u001b[39mget_band_structure()\u001b[39m.\u001b[39mget_band_gap()[\u001b[39m'\u001b[39m\u001b[39menergy\u001b[39m\u001b[39m'\u001b[39m]\n",
      "File \u001b[0;32m~/.cache/pypoetry/virtualenvs/2d-defects-potential-learning-pYjw2mkT-py3.10/lib64/python3.10/site-packages/pymatgen/io/vasp/outputs.py:392\u001b[0m, in \u001b[0;36mVasprun.__init__\u001b[0;34m(self, filename, ionic_step_skip, ionic_step_offset, parse_dos, parse_eigen, parse_projected_eigen, parse_potcar_file, occu_tol, separate_spins, exception_on_bad_xml)\u001b[0m\n\u001b[1;32m    385\u001b[0m     \u001b[39mself\u001b[39m\u001b[39m.\u001b[39m_parse(\n\u001b[1;32m    386\u001b[0m         StringIO(to_parse),\n\u001b[1;32m    387\u001b[0m         parse_dos\u001b[39m=\u001b[39mparse_dos,\n\u001b[1;32m    388\u001b[0m         parse_eigen\u001b[39m=\u001b[39mparse_eigen,\n\u001b[1;32m    389\u001b[0m         parse_projected_eigen\u001b[39m=\u001b[39mparse_projected_eigen,\n\u001b[1;32m    390\u001b[0m     )\n\u001b[1;32m    391\u001b[0m \u001b[39melse\u001b[39;00m:\n\u001b[0;32m--> 392\u001b[0m     \u001b[39mself\u001b[39;49m\u001b[39m.\u001b[39;49m_parse(\n\u001b[1;32m    393\u001b[0m         f,\n\u001b[1;32m    394\u001b[0m         parse_dos\u001b[39m=\u001b[39;49mparse_dos,\n\u001b[1;32m    395\u001b[0m         parse_eigen\u001b[39m=\u001b[39;49mparse_eigen,\n\u001b[1;32m    396\u001b[0m         parse_projected_eigen\u001b[39m=\u001b[39;49mparse_projected_eigen,\n\u001b[1;32m    397\u001b[0m     )\n\u001b[1;32m    398\u001b[0m     \u001b[39mself\u001b[39m\u001b[39m.\u001b[39mnionic_steps \u001b[39m=\u001b[39m \u001b[39mlen\u001b[39m(\u001b[39mself\u001b[39m\u001b[39m.\u001b[39mionic_steps)\n\u001b[1;32m    400\u001b[0m \u001b[39mif\u001b[39;00m parse_potcar_file:\n",
      "File \u001b[0;32m~/.cache/pypoetry/virtualenvs/2d-defects-potential-learning-pYjw2mkT-py3.10/lib64/python3.10/site-packages/pymatgen/io/vasp/outputs.py:427\u001b[0m, in \u001b[0;36mVasprun._parse\u001b[0;34m(self, stream, parse_dos, parse_eigen, parse_projected_eigen)\u001b[0m\n\u001b[1;32m    425\u001b[0m parsed_header \u001b[39m=\u001b[39m \u001b[39mFalse\u001b[39;00m\n\u001b[1;32m    426\u001b[0m \u001b[39mtry\u001b[39;00m:\n\u001b[0;32m--> 427\u001b[0m     \u001b[39mfor\u001b[39;00m _, elem \u001b[39min\u001b[39;00m ET\u001b[39m.\u001b[39miterparse(stream):\n\u001b[1;32m    428\u001b[0m         tag \u001b[39m=\u001b[39m elem\u001b[39m.\u001b[39mtag\n\u001b[1;32m    429\u001b[0m         \u001b[39mif\u001b[39;00m \u001b[39mnot\u001b[39;00m parsed_header:\n",
      "File \u001b[0;32m/usr/lib64/python3.10/xml/etree/ElementTree.py:1255\u001b[0m, in \u001b[0;36miterparse.<locals>.iterator\u001b[0;34m(source)\u001b[0m\n\u001b[1;32m   1253\u001b[0m \u001b[39myield from\u001b[39;00m pullparser\u001b[39m.\u001b[39mread_events()\n\u001b[1;32m   1254\u001b[0m \u001b[39m# load event buffer\u001b[39;00m\n\u001b[0;32m-> 1255\u001b[0m data \u001b[39m=\u001b[39m source\u001b[39m.\u001b[39;49mread(\u001b[39m16\u001b[39;49m \u001b[39m*\u001b[39;49m \u001b[39m1024\u001b[39;49m)\n\u001b[1;32m   1256\u001b[0m \u001b[39mif\u001b[39;00m \u001b[39mnot\u001b[39;00m data:\n\u001b[1;32m   1257\u001b[0m     \u001b[39mbreak\u001b[39;00m\n",
      "File \u001b[0;32m/usr/lib64/python3.10/codecs.py:319\u001b[0m, in \u001b[0;36mBufferedIncrementalDecoder.decode\u001b[0;34m(self, input, final)\u001b[0m\n\u001b[1;32m    314\u001b[0m \u001b[39mdef\u001b[39;00m \u001b[39m_buffer_decode\u001b[39m(\u001b[39mself\u001b[39m, \u001b[39minput\u001b[39m, errors, final):\n\u001b[1;32m    315\u001b[0m     \u001b[39m# Overwrite this method in subclasses: It must decode input\u001b[39;00m\n\u001b[1;32m    316\u001b[0m     \u001b[39m# and return an (output, length consumed) tuple\u001b[39;00m\n\u001b[1;32m    317\u001b[0m     \u001b[39mraise\u001b[39;00m \u001b[39mNotImplementedError\u001b[39;00m\n\u001b[0;32m--> 319\u001b[0m \u001b[39mdef\u001b[39;00m \u001b[39mdecode\u001b[39m(\u001b[39mself\u001b[39m, \u001b[39minput\u001b[39m, final\u001b[39m=\u001b[39m\u001b[39mFalse\u001b[39;00m):\n\u001b[1;32m    320\u001b[0m     \u001b[39m# decode input (taking the buffer into account)\u001b[39;00m\n\u001b[1;32m    321\u001b[0m     data \u001b[39m=\u001b[39m \u001b[39mself\u001b[39m\u001b[39m.\u001b[39mbuffer \u001b[39m+\u001b[39m \u001b[39minput\u001b[39m\n\u001b[1;32m    322\u001b[0m     (result, consumed) \u001b[39m=\u001b[39m \u001b[39mself\u001b[39m\u001b[39m.\u001b[39m_buffer_decode(data, \u001b[39mself\u001b[39m\u001b[39m.\u001b[39merrors, final)\n",
      "\u001b[0;31mKeyboardInterrupt\u001b[0m: "
     ]
    }
   ],
   "source": [
    "for material in materials:\n",
    "    folder = Path(f\"../datasets/raw_vasp/dichalcogenides8x8_vasp_nus_202110/{material}_8x8_5933\")\n",
    "    "
   ]
  },
  {
   "cell_type": "code",
   "execution_count": 35,
   "metadata": {},
   "outputs": [
    {
     "data": {
      "text/plain": [
       "defaultdict(dict,\n",
       "            {'poscar_S1-6141cf15c819ca30b196b473': {'eigenvalue_band_properties': 1.8335,\n",
       "              'get_band_structure': 1.8335},\n",
       "             'poscar_S2-6141cf16a05be5973bd77a67': {'eigenvalue_band_properties': 1.2981,\n",
       "              'get_band_structure': 1.2981},\n",
       "             'poscar_S2-6141cf16a05be5973bd77a69': {'eigenvalue_band_properties': 1.2943,\n",
       "              'get_band_structure': 1.2943},\n",
       "             'poscar_S2-6141cf17a05be5973bd77a6b': {'eigenvalue_band_properties': 1.2985,\n",
       "              'get_band_structure': 1.2985},\n",
       "             'poscar_S2-6141cf18a05be5973bd77a6d': {'eigenvalue_band_properties': 1.3029,\n",
       "              'get_band_structure': 1.3029},\n",
       "             'poscar_S2-6141cf19a05be5973bd77a6f': {'eigenvalue_band_properties': 1.2981,\n",
       "              'get_band_structure': 1.2981},\n",
       "             'poscar_S2-6141cf19a05be5973bd77a71': {'eigenvalue_band_properties': 1.3017,\n",
       "              'get_band_structure': 1.3017},\n",
       "             'poscar_S2-6141cf1ba05be5973bd77a73': {'eigenvalue_band_properties': 1.3009,\n",
       "              'get_band_structure': 1.3009},\n",
       "             'poscar_S2-6141cf1ca05be5973bd77a75': {'eigenvalue_band_properties': 1.3031000000000001,\n",
       "              'get_band_structure': 1.3031000000000001},\n",
       "             'poscar_S2-6141cf1ea05be5973bd77a77': {'eigenvalue_band_properties': 1.2974999999999999,\n",
       "              'get_band_structure': 1.2974999999999999},\n",
       "             'poscar_S2-6141cf1fa05be5973bd77a79': {'eigenvalue_band_properties': 1.298,\n",
       "              'get_band_structure': 1.298}})"
      ]
     },
     "execution_count": 35,
     "metadata": {},
     "output_type": "execute_result"
    }
   ],
   "source": [
    "data"
   ]
  },
  {
   "cell_type": "code",
   "execution_count": 36,
   "metadata": {},
   "outputs": [],
   "source": [
    "data_pd = pd.DataFrame.from_dict(data, orient='index')"
   ]
  },
  {
   "cell_type": "code",
   "execution_count": 37,
   "metadata": {},
   "outputs": [
    {
     "data": {
      "text/html": [
       "<div>\n",
       "<style scoped>\n",
       "    .dataframe tbody tr th:only-of-type {\n",
       "        vertical-align: middle;\n",
       "    }\n",
       "\n",
       "    .dataframe tbody tr th {\n",
       "        vertical-align: top;\n",
       "    }\n",
       "\n",
       "    .dataframe thead th {\n",
       "        text-align: right;\n",
       "    }\n",
       "</style>\n",
       "<table border=\"1\" class=\"dataframe\">\n",
       "  <thead>\n",
       "    <tr style=\"text-align: right;\">\n",
       "      <th></th>\n",
       "      <th>eigenvalue_band_properties</th>\n",
       "      <th>get_band_structure</th>\n",
       "    </tr>\n",
       "  </thead>\n",
       "  <tbody>\n",
       "    <tr>\n",
       "      <th>poscar_S1-6141cf15c819ca30b196b473</th>\n",
       "      <td>1.8335</td>\n",
       "      <td>1.8335</td>\n",
       "    </tr>\n",
       "    <tr>\n",
       "      <th>poscar_S2-6141cf16a05be5973bd77a67</th>\n",
       "      <td>1.2981</td>\n",
       "      <td>1.2981</td>\n",
       "    </tr>\n",
       "    <tr>\n",
       "      <th>poscar_S2-6141cf16a05be5973bd77a69</th>\n",
       "      <td>1.2943</td>\n",
       "      <td>1.2943</td>\n",
       "    </tr>\n",
       "    <tr>\n",
       "      <th>poscar_S2-6141cf17a05be5973bd77a6b</th>\n",
       "      <td>1.2985</td>\n",
       "      <td>1.2985</td>\n",
       "    </tr>\n",
       "    <tr>\n",
       "      <th>poscar_S2-6141cf18a05be5973bd77a6d</th>\n",
       "      <td>1.3029</td>\n",
       "      <td>1.3029</td>\n",
       "    </tr>\n",
       "  </tbody>\n",
       "</table>\n",
       "</div>"
      ],
      "text/plain": [
       "                                    eigenvalue_band_properties  \\\n",
       "poscar_S1-6141cf15c819ca30b196b473                      1.8335   \n",
       "poscar_S2-6141cf16a05be5973bd77a67                      1.2981   \n",
       "poscar_S2-6141cf16a05be5973bd77a69                      1.2943   \n",
       "poscar_S2-6141cf17a05be5973bd77a6b                      1.2985   \n",
       "poscar_S2-6141cf18a05be5973bd77a6d                      1.3029   \n",
       "\n",
       "                                    get_band_structure  \n",
       "poscar_S1-6141cf15c819ca30b196b473              1.8335  \n",
       "poscar_S2-6141cf16a05be5973bd77a67              1.2981  \n",
       "poscar_S2-6141cf16a05be5973bd77a69              1.2943  \n",
       "poscar_S2-6141cf17a05be5973bd77a6b              1.2985  \n",
       "poscar_S2-6141cf18a05be5973bd77a6d              1.3029  "
      ]
     },
     "execution_count": 37,
     "metadata": {},
     "output_type": "execute_result"
    }
   ],
   "source": [
    "data_pd.head()"
   ]
  },
  {
   "cell_type": "code",
   "execution_count": 21,
   "metadata": {},
   "outputs": [
    {
     "data": {
      "text/html": [
       "<div>\n",
       "<style scoped>\n",
       "    .dataframe tbody tr th:only-of-type {\n",
       "        vertical-align: middle;\n",
       "    }\n",
       "\n",
       "    .dataframe tbody tr th {\n",
       "        vertical-align: top;\n",
       "    }\n",
       "\n",
       "    .dataframe thead th {\n",
       "        text-align: right;\n",
       "    }\n",
       "</style>\n",
       "<table border=\"1\" class=\"dataframe\">\n",
       "  <thead>\n",
       "    <tr style=\"text-align: right;\">\n",
       "      <th></th>\n",
       "      <th>eigenvalue_band_properties</th>\n",
       "      <th>get_band_structure</th>\n",
       "    </tr>\n",
       "  </thead>\n",
       "  <tbody>\n",
       "    <tr>\n",
       "      <th>poscar_S1-6141cf15c819ca30b196b473</th>\n",
       "      <td>1.8335</td>\n",
       "      <td>1.8335</td>\n",
       "    </tr>\n",
       "  </tbody>\n",
       "</table>\n",
       "</div>"
      ],
      "text/plain": [
       "                                    eigenvalue_band_properties  \\\n",
       "poscar_S1-6141cf15c819ca30b196b473                      1.8335   \n",
       "\n",
       "                                    get_band_structure  \n",
       "poscar_S1-6141cf15c819ca30b196b473              1.8335  "
      ]
     },
     "execution_count": 21,
     "metadata": {},
     "output_type": "execute_result"
    }
   ],
   "source": [
    "differences = data_pd['get_band_structure'] - data_pd['eigenvalue_band_properties'] "
   ]
  },
  {
   "cell_type": "code",
   "execution_count": 5,
   "metadata": {},
   "outputs": [
    {
     "data": {
      "image/png": "[encoded data removed]",
      "text/plain": [
       "<Figure size 640x480 with 1 Axes>"
      ]
     },
     "metadata": {},
     "output_type": "display_data"
    }
   ],
   "source": [
    "fig, ax = plt.subplots()\n",
    "ax.hist(differences, bins=100);\n",
    "ax.set_xlabel(\"band_gap_from_get_band_structure - band_gap_from_eigenvalue_band_properties\")\n",
    "ax.set_ylabel(\"# structures\");"
   ]
  }
 ],
 "metadata": {
  "kernelspec": {
   "display_name": "Python 3.10.7 ('2d-defects-potential-learning-pYjw2mkT-py3.10')",
   "language": "python",
   "name": "python3"
  },
  "language_info": {
   "codemirror_mode": {
    "name": "ipython",
    "version": 3
   },
   "file_extension": ".py",
   "mimetype": "text/x-python",
   "name": "python",
   "nbconvert_exporter": "python",
   "pygments_lexer": "ipython3",
   "version": "3.10.7"
  },
  "orig_nbformat": 4,
  "vscode": {
   "interpreter": {
    "hash": "635b46ca2bfd4fb1fb06df777baa58449acfa795d46252930268ba7054c54264"
   }
  }
 },
 "nbformat": 4,
 "nbformat_minor": 2
}
