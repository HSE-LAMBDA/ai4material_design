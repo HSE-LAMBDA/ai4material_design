{
 "cells": [
  {
   "cell_type": "markdown",
   "metadata": {},
   "source": [
    "This notebook compares sklearn models on the energy per atom prediction task. Dichalcogenides 4x4, 5x5 and 6x6 dataset is used."
   ]
  },
  {
   "cell_type": "code",
   "execution_count": 1,
   "metadata": {},
   "outputs": [],
   "source": [
    "import pandas as pd\n",
    "from matplotlib import pyplot as plt\n",
    "import numpy as np\n",
    "from tqdm import tqdm\n",
    "from catboost import CatBoostRegressor, Pool\n",
    "from screening.scripts.dataset import collect_features, collect_properties\n",
    "\n",
    "from sklearn.model_selection import KFold\n",
    "from sklearn.metrics import mean_absolute_percentage_error, mean_absolute_error\n",
    "from bson import ObjectId\n",
    "\n",
    "from sklearn.model_selection import train_test_split"
   ]
  },
  {
   "cell_type": "code",
   "execution_count": 2,
   "metadata": {},
   "outputs": [],
   "source": [
    "database='dichalcogenides'"
   ]
  },
  {
   "cell_type": "code",
   "execution_count": 3,
   "metadata": {},
   "outputs": [],
   "source": [
    "features = collect_features(database).set_index(\"_id\")\n",
    "target = collect_properties(database).set_index(\"_id\")"
   ]
  },
  {
   "cell_type": "code",
   "execution_count": 4,
   "metadata": {},
   "outputs": [],
   "source": [
    "property_ = 'energy_per_atom'"
   ]
  },
  {
   "cell_type": "code",
   "execution_count": 5,
   "metadata": {},
   "outputs": [],
   "source": [
    "df = features.join(target[property_])\n",
    "supervised = df[df[property_].notna()]\n",
    "unsupervised = df[df[property_].isna()].drop([property_], axis = 1)\n",
    "x = supervised.drop([property_], axis=1)\n",
    "y = supervised[property_]"
   ]
  },
  {
   "cell_type": "markdown",
   "metadata": {},
   "source": [
    "## Model training"
   ]
  },
  {
   "cell_type": "code",
   "execution_count": 6,
   "metadata": {},
   "outputs": [],
   "source": [
    "from sklearn.kernel_ridge import KernelRidge\n",
    "from sklearn.gaussian_process import GaussianProcessRegressor\n",
    "from sklearn.gaussian_process.kernels import DotProduct, WhiteKernel\n",
    "from sklearn.ensemble import RandomForestRegressor\n",
    "from sklearn.linear_model import Ridge\n",
    "from sklearn.neighbors import KNeighborsRegressor\n",
    "from sklearn.svm import SVR\n",
    "from sklearn.decomposition import PCA\n",
    "from sklearn.model_selection import KFold\n"
   ]
  },
  {
   "cell_type": "code",
   "execution_count": 7,
   "metadata": {},
   "outputs": [],
   "source": [
    "gp = GaussianProcessRegressor(kernel=DotProduct()+WhiteKernel(), alpha=100)\n",
    "kr = KernelRidge(kernel='laplacian')\n",
    "rf = RandomForestRegressor(n_estimators=100)\n",
    "ridge = Ridge()\n",
    "knn = KNeighborsRegressor(10, weights='distance')\n",
    "svr = SVR(kernel='rbf')\n",
    "cb = CatBoostRegressor(iterations=2000, loss_function='MAE',\n",
    "                          verbose=False, random_seed=0)"
   ]
  },
  {
   "cell_type": "code",
   "execution_count": 8,
   "metadata": {},
   "outputs": [],
   "source": [
    "def train(model, x, y, do_pca):\n",
    "    if do_pca:\n",
    "        pca = PCA(10)\n",
    "        x_processed = pca.fit_transform(x)\n",
    "    else:\n",
    "        x_processed = x.values\n",
    "    \n",
    "    kf = KFold(n_splits=4, shuffle=True)\n",
    "    preds = np.zeros(len(y))\n",
    "    scores = []\n",
    "\n",
    "    for train_index, test_index in kf.split(x):\n",
    "        x_train, x_test, y_train, y_test =\\\n",
    "            x_processed[train_index], x_processed[test_index], y.iloc[train_index], y.iloc[test_index]\n",
    "        model.fit(x_train, y_train)\n",
    "        preds[test_index] = model.predict(x_test)\n",
    "    return preds"
   ]
  },
  {
   "cell_type": "code",
   "execution_count": 10,
   "metadata": {},
   "outputs": [],
   "source": [
    "gp_preds = train(gp, x, y, True)\n",
    "kr_preds = train(kr, x, y, False)\n",
    "rf_preds = train(rf, x, y, False)\n",
    "ridge_preds = train(ridge, x, y, False)\n",
    "knn_preds = train(knn, x, y, True)\n",
    "svr_preds = train(svr, x, y, True)\n",
    "cb_preds = train(cb, x, y, False)"
   ]
  },
  {
   "cell_type": "code",
   "execution_count": 11,
   "metadata": {},
   "outputs": [],
   "source": [
    "gp_score = mean_absolute_error(gp_preds, y)\n",
    "kr_score = mean_absolute_error(kr_preds, y)\n",
    "rf_score = mean_absolute_error(rf_preds, y)\n",
    "ridge_score = mean_absolute_error(ridge_preds, y)\n",
    "knn_score = mean_absolute_error(knn_preds, y)\n",
    "svr_score = mean_absolute_error(svr_preds, y)\n",
    "cb_score = mean_absolute_error(cb_preds, y)"
   ]
  },
  {
   "cell_type": "code",
   "execution_count": 12,
   "metadata": {},
   "outputs": [
    {
     "data": {
      "text/html": [
       "<div>\n",
       "<style scoped>\n",
       "    .dataframe tbody tr th:only-of-type {\n",
       "        vertical-align: middle;\n",
       "    }\n",
       "\n",
       "    .dataframe tbody tr th {\n",
       "        vertical-align: top;\n",
       "    }\n",
       "\n",
       "    .dataframe thead th {\n",
       "        text-align: right;\n",
       "    }\n",
       "</style>\n",
       "<table border=\"1\" class=\"dataframe\">\n",
       "  <thead>\n",
       "    <tr style=\"text-align: right;\">\n",
       "      <th></th>\n",
       "      <th>model</th>\n",
       "      <th>MAE</th>\n",
       "    </tr>\n",
       "  </thead>\n",
       "  <tbody>\n",
       "    <tr>\n",
       "      <th>0</th>\n",
       "      <td>Gaussian Process</td>\n",
       "      <td>0.026752</td>\n",
       "    </tr>\n",
       "    <tr>\n",
       "      <th>1</th>\n",
       "      <td>Kernel Ridge</td>\n",
       "      <td>0.053457</td>\n",
       "    </tr>\n",
       "    <tr>\n",
       "      <th>2</th>\n",
       "      <td>Random Forest</td>\n",
       "      <td>0.000800</td>\n",
       "    </tr>\n",
       "    <tr>\n",
       "      <th>3</th>\n",
       "      <td>Ridge</td>\n",
       "      <td>0.004926</td>\n",
       "    </tr>\n",
       "    <tr>\n",
       "      <th>4</th>\n",
       "      <td>KNN</td>\n",
       "      <td>0.010161</td>\n",
       "    </tr>\n",
       "    <tr>\n",
       "      <th>5</th>\n",
       "      <td>SVR</td>\n",
       "      <td>0.107151</td>\n",
       "    </tr>\n",
       "    <tr>\n",
       "      <th>6</th>\n",
       "      <td>CatBoost</td>\n",
       "      <td>0.000991</td>\n",
       "    </tr>\n",
       "  </tbody>\n",
       "</table>\n",
       "</div>"
      ],
      "text/plain": [
       "              model       MAE\n",
       "0  Gaussian Process  0.026752\n",
       "1      Kernel Ridge  0.053457\n",
       "2     Random Forest  0.000800\n",
       "3             Ridge  0.004926\n",
       "4               KNN  0.010161\n",
       "5               SVR  0.107151\n",
       "6          CatBoost  0.000991"
      ]
     },
     "execution_count": 12,
     "metadata": {},
     "output_type": "execute_result"
    }
   ],
   "source": [
    "pd.DataFrame([[\"Gaussian Process\", gp_score],\n",
    "             [\"Kernel Ridge\", kr_score],\n",
    "             [\"Random Forest\", rf_score],\n",
    "             [\"Ridge\", ridge_score],\n",
    "             [\"KNN\", knn_score],\n",
    "             [\"SVR\", svr_score],\n",
    "             [\"CatBoost\", cb_score]],\n",
    "            columns = [\"model\", \"MAE\"])"
   ]
  },
  {
   "cell_type": "code",
   "execution_count": 14,
   "metadata": {},
   "outputs": [
    {
     "data": {
      "text/plain": [
       "Text(0.5, 1.0, 'Dichalcogenides predicted vs true energy')"
      ]
     },
     "execution_count": 14,
     "metadata": {},
     "output_type": "execute_result"
    },
    {
     "data": {
      "image/png": "[encoded data removed]",
      "text/plain": [
       "<Figure size 864x576 with 1 Axes>"
      ]
     },
     "metadata": {
      "needs_background": "light"
     },
     "output_type": "display_data"
    }
   ],
   "source": [
    "plt.subplots(figsize=(12, 8))\n",
    "plt.scatter(cb_preds, y)\n",
    "plt.xlabel(\"Predicted energy per atom\", fontsize=15)\n",
    "plt.ylabel('True energy per atom', fontsize=15)\n",
    "plt.title(\"Dichalcogenides predicted vs true energy\", fontsize=20)"
   ]
  },
  {
   "cell_type": "code",
   "execution_count": null,
   "metadata": {},
   "outputs": [],
   "source": []
  }
 ],
 "metadata": {
  "kernelspec": {
   "display_name": "py38",
   "language": "python",
   "name": "py38"
  },
  "language_info": {
   "codemirror_mode": {
    "name": "ipython",
    "version": 3
   },
   "file_extension": ".py",
   "mimetype": "text/x-python",
   "name": "python",
   "nbconvert_exporter": "python",
   "pygments_lexer": "ipython3",
   "version": "3.8.8"
  }
 },
 "nbformat": 4,
 "nbformat_minor": 5
}
