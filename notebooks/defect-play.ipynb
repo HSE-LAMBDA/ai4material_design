{
 "cells": [
  {
   "cell_type": "code",
   "execution_count": 41,
   "metadata": {},
   "outputs": [],
   "source": [
    "%matplotlib inline"
   ]
  },
  {
   "cell_type": "code",
   "execution_count": 42,
   "metadata": {},
   "outputs": [],
   "source": [
    "import numpy as np\n",
    "import matplotlib.pyplot as plt"
   ]
  },
  {
   "cell_type": "code",
   "execution_count": 43,
   "metadata": {},
   "outputs": [],
   "source": [
    "def get_frequencies(total, types, max_per_type):\n",
    "    assert total <= types * max_per_type\n",
    "    # Made explicit to make the math clear\n",
    "    defect_frequences = np.zeros(types, dtype=int)\n",
    "    for i in range(total):\n",
    "        this_selection = np.random.choice(types)\n",
    "        while defect_frequences[this_selection] >= max_per_type:\n",
    "            this_selection = np.random.choice(types)\n",
    "        defect_frequences[this_selection] += 1\n",
    "    return defect_frequences[0]"
   ]
  },
  {
   "cell_type": "code",
   "execution_count": 48,
   "metadata": {},
   "outputs": [],
   "source": [
    "max_total = 20\n",
    "num_types = 4\n",
    "max_per_type = 5\n",
    "\n",
    "totals = np.arange(1, max_total + 1, dtype=int)\n",
    "tries_count = 5000\n",
    "results = np.empty((len(totals), tries_count))\n",
    "for i, total_frequency in enumerate(totals):\n",
    "    results[i] = np.fromiter((get_frequencies(total_frequency, num_types, max_per_type) for _ in range(tries_count)), dtype=int, count=tries_count)"
   ]
  },
  {
   "cell_type": "code",
   "execution_count": 53,
   "metadata": {},
   "outputs": [],
   "source": [
    "values, counts = np.unique(results, return_counts=True)"
   ]
  },
  {
   "cell_type": "code",
   "execution_count": 63,
   "metadata": {},
   "outputs": [
    {
     "data": {
      "image/png": "[encoded data removed]",
      "text/plain": [
       "<Figure size 432x288 with 1 Axes>"
      ]
     },
     "metadata": {
      "needs_background": "light"
     },
     "output_type": "display_data"
    }
   ],
   "source": [
    "fig, ax = plt.subplots()\n",
    "ax.bar(values, counts/counts.sum())\n",
    "ax.set_xlabel(\"Count of defects of given type\")\n",
    "ax.set_ylabel(\"Frequency\")\n",
    "fig.savefig(\"defect_frequences.png\", dpi=300, bbox_inches=\"tight\")"
   ]
  }
 ],
 "metadata": {
  "kernelspec": {
   "display_name": "Python 3.10.5 ('2d-defects-potential-learning-pYjw2mkT-py3.10')",
   "language": "python",
   "name": "python3"
  },
  "language_info": {
   "codemirror_mode": {
    "name": "ipython",
    "version": 3
   },
   "file_extension": ".py",
   "mimetype": "text/x-python",
   "name": "python",
   "nbconvert_exporter": "python",
   "pygments_lexer": "ipython3",
   "version": "3.10.5"
  },
  "orig_nbformat": 4,
  "vscode": {
   "interpreter": {
    "hash": "635b46ca2bfd4fb1fb06df777baa58449acfa795d46252930268ba7054c54264"
   }
  }
 },
 "nbformat": 4,
 "nbformat_minor": 2
}
