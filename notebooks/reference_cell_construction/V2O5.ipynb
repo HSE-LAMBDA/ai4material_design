{
 "cells": [
  {
   "cell_type": "code",
   "execution_count": 1,
   "metadata": {},
   "outputs": [],
   "source": [
    "import numpy as np\n",
    "from pymatgen.io.cif import CifParser\n",
    "from pymatgen.core import Structure\n",
    "from pymatgen.core.lattice import Lattice"
   ]
  },
  {
   "cell_type": "code",
   "execution_count": 2,
   "metadata": {},
   "outputs": [],
   "source": [
    "import sys\n",
    "sys.path.append('../..')\n",
    "from ai4mat.data.data import (\n",
    "    StorageResolver)"
   ]
  },
  {
   "cell_type": "code",
   "execution_count": 3,
   "metadata": {},
   "outputs": [],
   "source": [
    "from ase.visualize import view\n",
    "from pymatgen.io.ase import AseAtomsAdaptor"
   ]
  },
  {
   "cell_type": "code",
   "execution_count": 4,
   "metadata": {},
   "outputs": [],
   "source": [
    "mp_cell = CifParser(StorageResolver()[\"materials\"] / \n",
    "\"V2O5_mp-25279_computed.cif\").get_structures(primitive=False)[0]"
   ]
  },
  {
   "cell_type": "code",
   "execution_count": 5,
   "metadata": {},
   "outputs": [
    {
     "data": {
      "text/plain": [
       "Structure Summary\n",
       "Lattice\n",
       "    abc : 3.618658 4.797293 11.551508\n",
       " angles : 90.0 90.0 90.0\n",
       " volume : 200.53143762391144\n",
       "      A : 3.618658 0.0 2.2157889684544813e-16\n",
       "      B : -2.9374947585110014e-16 4.797293 2.9374947585110014e-16\n",
       "      C : 0.0 0.0 11.551508\n",
       "    pbc : True True True\n",
       "PeriodicSite: V (-0.0000, 2.9347, 7.5027) [0.0000, 0.6117, 0.6495]\n",
       "PeriodicSite: V (1.8093, 1.8626, 9.8246) [0.5000, 0.3883, 0.8505]\n",
       "PeriodicSite: V (1.8093, 1.8626, 1.7269) [0.5000, 0.3883, 0.1495]\n",
       "PeriodicSite: V (-0.0000, 2.9347, 4.0488) [0.0000, 0.6117, 0.3505]\n",
       "PeriodicSite: O (1.8093, 2.4549, 7.8762) [0.5000, 0.5117, 0.6818]\n",
       "PeriodicSite: O (-0.0000, 2.3424, 9.4510) [0.0000, 0.4883, 0.8182]\n",
       "PeriodicSite: O (-0.0000, 2.3424, 2.1005) [0.0000, 0.4883, 0.1818]\n",
       "PeriodicSite: O (1.8093, 2.4549, 3.6753) [0.5000, 0.5117, 0.3182]\n",
       "PeriodicSite: O (-0.0000, 4.5437, 4.1005) [0.0000, 0.9471, 0.3550]\n",
       "PeriodicSite: O (1.8093, 0.2536, 1.6752) [0.5000, 0.0529, 0.1450]\n",
       "PeriodicSite: O (1.8093, 0.2536, 9.8763) [0.5000, 0.0529, 0.8550]\n",
       "PeriodicSite: O (1.8093, 2.3926, 0.0000) [0.5000, 0.4987, 0.0000]\n",
       "PeriodicSite: O (-0.0000, 2.4047, 5.7758) [0.0000, 0.5013, 0.5000]\n",
       "PeriodicSite: O (-0.0000, 4.5437, 7.4510) [0.0000, 0.9471, 0.6450]"
      ]
     },
     "execution_count": 5,
     "metadata": {},
     "output_type": "execute_result"
    }
   ],
   "source": [
    "mp_cell"
   ]
  },
  {
   "cell_type": "code",
   "execution_count": 6,
   "metadata": {},
   "outputs": [
    {
     "data": {
      "application/vnd.jupyter.widget-view+json": {
       "model_id": "ca790e6eb003420abe0903d24f405645",
       "version_major": 2,
       "version_minor": 0
      },
      "text/plain": []
     },
     "metadata": {},
     "output_type": "display_data"
    },
    {
     "data": {
      "application/vnd.jupyter.widget-view+json": {
       "model_id": "58f1d8dd2165452ea3c372b6f6691976",
       "version_major": 2,
       "version_minor": 0
      },
      "text/plain": [
       "HBox(children=(NGLWidget(), VBox(children=(Dropdown(description='Show', options=('All', 'V', 'O'), value='All'…"
      ]
     },
     "metadata": {},
     "output_type": "display_data"
    }
   ],
   "source": [
    "view(AseAtomsAdaptor.get_atoms(mp_cell), viewer='ngl')"
   ]
  },
  {
   "cell_type": "code",
   "execution_count": 7,
   "metadata": {},
   "outputs": [
    {
     "data": {
      "text/plain": [
       "array([[ 3.61865800e+00,  0.00000000e+00,  2.21578897e-16],\n",
       "       [-2.93749476e-16,  4.79729300e+00,  2.93749476e-16],\n",
       "       [ 0.00000000e+00,  0.00000000e+00,  1.15515080e+01]])"
      ]
     },
     "execution_count": 7,
     "metadata": {},
     "output_type": "execute_result"
    }
   ],
   "source": [
    "mp_cell.lattice.matrix"
   ]
  },
  {
   "cell_type": "code",
   "execution_count": 8,
   "metadata": {},
   "outputs": [],
   "source": [
    "lattice_np = np.array(mp_cell.lattice.matrix)\n",
    "lattice_np[1, 1] = lattice_np[2, 2]\n",
    "lattice_np[2, 2] = 20\n",
    "tall_lattice = Lattice(lattice_np)\n",
    "\n",
    "coords = np.array(mp_cell.cart_coords)\n",
    "coords[:, [1, 2]] = coords[:, [2, 1]]\n",
    "\n",
    "reference_cell = Structure(\n",
    "    lattice=tall_lattice,\n",
    "    species=mp_cell.species,\n",
    "    coords=coords,\n",
    "    coords_are_cartesian=True,\n",
    ")\n",
    "\n",
    "from pymatgen.io.cif import CifWriter\n",
    "CifWriter(reference_cell).write_file(StorageResolver()[\"materials\"] /\"V2O5.cif\")"
   ]
  },
  {
   "cell_type": "code",
   "execution_count": 9,
   "metadata": {},
   "outputs": [
    {
     "data": {
      "text/plain": [
       "Structure Summary\n",
       "Lattice\n",
       "    abc : 3.618658 11.551508 20.0\n",
       " angles : 90.0 90.0 90.0\n",
       " volume : 836.01913672528\n",
       "      A : 3.618658 0.0 2.2157889684544813e-16\n",
       "      B : -2.9374947585110014e-16 11.551508 2.9374947585110014e-16\n",
       "      C : 0.0 0.0 20.0\n",
       "    pbc : True True True\n",
       "PeriodicSite: V (-0.0000, 7.5027, 2.9347) [0.0000, 0.6495, 0.1467]\n",
       "PeriodicSite: V (1.8093, 9.8246, 1.8626) [0.5000, 0.8505, 0.0931]\n",
       "PeriodicSite: V (1.8093, 1.7269, 1.8626) [0.5000, 0.1495, 0.0931]\n",
       "PeriodicSite: V (-0.0000, 4.0488, 2.9347) [-0.0000, 0.3505, 0.1467]\n",
       "PeriodicSite: O (1.8093, 7.8762, 2.4549) [0.5000, 0.6818, 0.1227]\n",
       "PeriodicSite: O (-0.0000, 9.4510, 2.3424) [0.0000, 0.8182, 0.1171]\n",
       "PeriodicSite: O (-0.0000, 2.1005, 2.3424) [-0.0000, 0.1818, 0.1171]\n",
       "PeriodicSite: O (1.8093, 3.6753, 2.4549) [0.5000, 0.3182, 0.1227]\n",
       "PeriodicSite: O (-0.0000, 4.1005, 4.5437) [-0.0000, 0.3550, 0.2272]\n",
       "PeriodicSite: O (1.8093, 1.6752, 0.2536) [0.5000, 0.1450, 0.0127]\n",
       "PeriodicSite: O (1.8093, 9.8763, 0.2536) [0.5000, 0.8550, 0.0127]\n",
       "PeriodicSite: O (1.8093, 0.0000, 2.3926) [0.5000, 0.0000, 0.1196]\n",
       "PeriodicSite: O (-0.0000, 5.7758, 2.4047) [-0.0000, 0.5000, 0.1202]\n",
       "PeriodicSite: O (-0.0000, 7.4510, 4.5437) [-0.0000, 0.6450, 0.2272]"
      ]
     },
     "execution_count": 9,
     "metadata": {},
     "output_type": "execute_result"
    }
   ],
   "source": [
    "reference_cell"
   ]
  },
  {
   "cell_type": "code",
   "execution_count": 11,
   "metadata": {},
   "outputs": [
    {
     "data": {
      "application/vnd.jupyter.widget-view+json": {
       "model_id": "0dfd4c0b286d464e940830c14e130cb4",
       "version_major": 2,
       "version_minor": 0
      },
      "text/plain": [
       "HBox(children=(NGLWidget(), VBox(children=(Dropdown(description='Show', options=('All', 'V', 'O'), value='All'…"
      ]
     },
     "metadata": {},
     "output_type": "display_data"
    }
   ],
   "source": [
    "supercell = reference_cell.copy()\n",
    "supercell.make_supercell([6, 2, 1])\n",
    "view(AseAtomsAdaptor.get_atoms(supercell), viewer='ngl')"
   ]
  }
 ],
 "metadata": {
  "kernelspec": {
   "display_name": "Python 3.10.5 ('2d-defects-potential-learning-pYjw2mkT-py3.10')",
   "language": "python",
   "name": "python3"
  },
  "language_info": {
   "codemirror_mode": {
    "name": "ipython",
    "version": 3
   },
   "file_extension": ".py",
   "mimetype": "text/x-python",
   "name": "python",
   "nbconvert_exporter": "python",
   "pygments_lexer": "ipython3",
   "version": "3.10.5"
  },
  "orig_nbformat": 4,
  "vscode": {
   "interpreter": {
    "hash": "635b46ca2bfd4fb1fb06df777baa58449acfa795d46252930268ba7054c54264"
   }
  }
 },
 "nbformat": 4,
 "nbformat_minor": 2
}
