{
 "cells": [
  {
   "cell_type": "code",
   "execution_count": 1,
   "metadata": {},
   "outputs": [],
   "source": [
    "import numpy as np\n",
    "from pymatgen.io.cif import CifParser\n",
    "from pymatgen.core import Structure\n",
    "from pymatgen.core.lattice import Lattice"
   ]
  },
  {
   "cell_type": "code",
   "execution_count": 2,
   "metadata": {},
   "outputs": [],
   "source": [
    "import sys\n",
    "sys.path.append('..')\n",
    "from ai4mat.data.data import (\n",
    "    StorageResolver)"
   ]
  },
  {
   "cell_type": "code",
   "execution_count": 3,
   "metadata": {},
   "outputs": [],
   "source": [
    "short_cell = CifParser(StorageResolver()[\"materials\"] / \n",
    "\"V2O5_short.cif\").get_structures(primitive=False)[0]"
   ]
  },
  {
   "cell_type": "code",
   "execution_count": 4,
   "metadata": {},
   "outputs": [],
   "source": [
    "lattice_np = np.array(short_cell.lattice.matrix)\n",
    "lattice_np[2, 2] = 20\n",
    "tall_lattice = Lattice(lattice_np)\n",
    "reference_cell = Structure(\n",
    "    lattice=tall_lattice,\n",
    "    species=short_cell.species,\n",
    "    coords=short_cell.cart_coords,\n",
    "    coords_are_cartesian=True,\n",
    ")\n",
    "\n",
    "from pymatgen.io.cif import CifWriter\n",
    "CifWriter(reference_cell).write_file(StorageResolver()[\"materials\"] /\"V2O5.cif\")"
   ]
  },
  {
   "cell_type": "code",
   "execution_count": 5,
   "metadata": {},
   "outputs": [
    {
     "data": {
      "text/plain": [
       "Structure Summary\n",
       "Lattice\n",
       "    abc : 3.618658 4.797293 20.0\n",
       " angles : 90.0 90.0 90.0\n",
       " volume : 347.19525385587997\n",
       "      A : 3.618658 0.0 2.2157889684544813e-16\n",
       "      B : -2.9374947585110014e-16 4.797293 2.9374947585110014e-16\n",
       "      C : 0.0 0.0 20.0\n",
       "    pbc : True True True\n",
       "PeriodicSite: V (1.8093, 1.8626, 1.7269) [0.5000, 0.3883, 0.0863]\n",
       "PeriodicSite: V (-0.0000, 2.9347, 4.0488) [-0.0000, 0.6117, 0.2024]\n",
       "PeriodicSite: O (-0.0000, 2.3424, 2.1005) [-0.0000, 0.4883, 0.1050]\n",
       "PeriodicSite: O (1.8093, 2.4549, 3.6753) [0.5000, 0.5117, 0.1838]\n",
       "PeriodicSite: O (1.8093, 0.2536, 1.6752) [0.5000, 0.0529, 0.0838]\n",
       "PeriodicSite: O (1.8093, 2.3926, 0.0000) [0.5000, 0.4987, -0.0000]\n",
       "PeriodicSite: O (-0.0000, 2.4047, 5.7758) [0.0000, 0.5013, 0.2888]"
      ]
     },
     "execution_count": 5,
     "metadata": {},
     "output_type": "execute_result"
    }
   ],
   "source": [
    "reference_cell"
   ]
  },
  {
   "cell_type": "code",
   "execution_count": 6,
   "metadata": {},
   "outputs": [
    {
     "data": {
      "application/vnd.jupyter.widget-view+json": {
       "model_id": "e1c1b19ea15949428b2ae3820d25f9d4",
       "version_major": 2,
       "version_minor": 0
      },
      "text/plain": []
     },
     "metadata": {},
     "output_type": "display_data"
    },
    {
     "data": {
      "application/vnd.jupyter.widget-view+json": {
       "model_id": "a73f726fd391438f9791378323960ee5",
       "version_major": 2,
       "version_minor": 0
      },
      "text/plain": [
       "HBox(children=(NGLWidget(), VBox(children=(Dropdown(description='Show', options=('All', 'O', 'V'), value='All'…"
      ]
     },
     "metadata": {},
     "output_type": "display_data"
    }
   ],
   "source": [
    "from ase.visualize import view\n",
    "from pymatgen.io.ase import AseAtomsAdaptor\n",
    "\n",
    "supercell = reference_cell.copy()\n",
    "supercell.make_supercell([8, 8, 1])\n",
    "view(AseAtomsAdaptor.get_atoms(supercell), viewer='ngl')"
   ]
  }
 ],
 "metadata": {
  "kernelspec": {
   "display_name": "Python 3.10.5 ('2d-defects-potential-learning-pYjw2mkT-py3.10')",
   "language": "python",
   "name": "python3"
  },
  "language_info": {
   "codemirror_mode": {
    "name": "ipython",
    "version": 3
   },
   "file_extension": ".py",
   "mimetype": "text/x-python",
   "name": "python",
   "nbconvert_exporter": "python",
   "pygments_lexer": "ipython3",
   "version": "3.10.5"
  },
  "orig_nbformat": 4,
  "vscode": {
   "interpreter": {
    "hash": "635b46ca2bfd4fb1fb06df777baa58449acfa795d46252930268ba7054c54264"
   }
  }
 },
 "nbformat": 4,
 "nbformat_minor": 2
}
