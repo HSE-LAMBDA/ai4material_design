{
 "cells": [
  {
   "cell_type": "code",
   "execution_count": 1,
   "metadata": {},
   "outputs": [],
   "source": [
    "import numpy as np\n",
    "from pymatgen.io.cif import CifParser\n",
    "from pymatgen.core import Structure\n",
    "from pymatgen.core.lattice import Lattice"
   ]
  },
  {
   "cell_type": "code",
   "execution_count": 2,
   "metadata": {},
   "outputs": [],
   "source": [
    "import sys\n",
    "sys.path.append('../..')\n",
    "from ai4mat.data.data import (\n",
    "    StorageResolver)"
   ]
  },
  {
   "cell_type": "code",
   "execution_count": 3,
   "metadata": {},
   "outputs": [],
   "source": [
    "from ase.visualize import view\n",
    "from pymatgen.io.ase import AseAtomsAdaptor"
   ]
  },
  {
   "cell_type": "code",
   "execution_count": 4,
   "metadata": {},
   "outputs": [
    {
     "name": "stderr",
     "output_type": "stream",
     "text": [
      "/home/kna/.cache/pypoetry/virtualenvs/2d-defects-potential-learning-pYjw2mkT-py3.10/lib64/python3.10/site-packages/pymatgen/io/cif.py:1155: UserWarning: Issues encountered while parsing CIF: Some fractional coordinates rounded to ideal values to avoid issues with finite precision.\n",
      "  warnings.warn(\"Issues encountered while parsing CIF: \" + \"\\n\".join(self.warnings))\n"
     ]
    }
   ],
   "source": [
    "mp_cell = CifParser(StorageResolver()[\"materials\"] / \n",
    "    \"GaSe_mp-1572_computed.cif\").get_structures(primitive=False)[0]"
   ]
  },
  {
   "cell_type": "code",
   "execution_count": 5,
   "metadata": {},
   "outputs": [],
   "source": [
    "selection = (mp_cell.frac_coords[:, 2] < 0.7) & (mp_cell.frac_coords[:, 2] > 0.3)\n",
    "assert np.count_nonzero(selection)*2 == len(mp_cell)"
   ]
  },
  {
   "cell_type": "code",
   "execution_count": 6,
   "metadata": {},
   "outputs": [
    {
     "data": {
      "application/vnd.jupyter.widget-view+json": {
       "model_id": "4a10bafc19014d6486e218c451430f3d",
       "version_major": 2,
       "version_minor": 0
      },
      "text/plain": []
     },
     "metadata": {},
     "output_type": "display_data"
    },
    {
     "data": {
      "application/vnd.jupyter.widget-view+json": {
       "model_id": "51b3b8622aaf4dde97dbad1224c90569",
       "version_major": 2,
       "version_minor": 0
      },
      "text/plain": [
       "HBox(children=(NGLWidget(), VBox(children=(Dropdown(description='Show', options=('All', 'Ga', 'Se'), value='Al…"
      ]
     },
     "metadata": {},
     "output_type": "display_data"
    }
   ],
   "source": [
    "view(AseAtomsAdaptor.get_atoms(mp_cell), viewer='ngl')"
   ]
  },
  {
   "cell_type": "code",
   "execution_count": 7,
   "metadata": {},
   "outputs": [],
   "source": [
    "# Create a new Structure object with the selected atoms\n",
    "monolayer = Structure.from_sites([mp_cell[i] for i in np.where(selection)[0]])\n",
    "lattice_np = np.array(monolayer.lattice.matrix)\n",
    "lattice_np[2, 2] = 20\n",
    "tall_lattice = Lattice(lattice_np)\n",
    "\n",
    "reference_cell = Structure(\n",
    "    lattice=tall_lattice,\n",
    "    species=monolayer.species,\n",
    "    coords=monolayer.cart_coords,\n",
    "    coords_are_cartesian=True,\n",
    ")"
   ]
  },
  {
   "cell_type": "code",
   "execution_count": 8,
   "metadata": {},
   "outputs": [
    {
     "data": {
      "text/plain": [
       "Structure Summary\n",
       "Lattice\n",
       "    abc : 3.81906671 3.81906671 20.0\n",
       " angles : 90.0 90.0 120.00001238000002\n",
       " volume : 252.62426458036785\n",
       "      A : 3.81906671 0.0 2.3385039110658565e-16\n",
       "      B : -1.9095340696375986 3.3074083770111447 2.3385039110658565e-16\n",
       "      C : 0.0 0.0 20.0\n",
       "    pbc : True True True\n",
       "PeriodicSite: Ga (1.9095, 1.1025, 7.6655) [0.6667, 0.3333, 0.3833]\n",
       "PeriodicSite: Ga (1.9095, 1.1025, 10.1363) [0.6667, 0.3333, 0.5068]\n",
       "PeriodicSite: Se (-0.0000, 2.2049, 11.3096) [0.3333, 0.6667, 0.5655]\n",
       "PeriodicSite: Se (-0.0000, 2.2049, 6.4922) [0.3333, 0.6667, 0.3246]"
      ]
     },
     "execution_count": 8,
     "metadata": {},
     "output_type": "execute_result"
    }
   ],
   "source": [
    "reference_cell"
   ]
  },
  {
   "cell_type": "code",
   "execution_count": 9,
   "metadata": {},
   "outputs": [],
   "source": [
    "from pymatgen.io.cif import CifWriter\n",
    "CifWriter(reference_cell).write_file(StorageResolver()[\"materials\"] /\"GaSe.cif\")"
   ]
  },
  {
   "cell_type": "markdown",
   "metadata": {},
   "source": [
    "Structure appears to have two layers https://www.researchgate.net/figure/Basic-properties-of-InSe-monolayer-a-Top-and-side-view-of-InSe-monolayer-b-Band_fig1_324591452"
   ]
  },
  {
   "cell_type": "code",
   "execution_count": 10,
   "metadata": {},
   "outputs": [],
   "source": [
    "supercell = reference_cell.copy()\n",
    "supercell.make_supercell((6, 6, 1))"
   ]
  },
  {
   "cell_type": "code",
   "execution_count": 11,
   "metadata": {},
   "outputs": [
    {
     "data": {
      "application/vnd.jupyter.widget-view+json": {
       "model_id": "43aa78aff43d4746950f93f823a2295b",
       "version_major": 2,
       "version_minor": 0
      },
      "text/plain": [
       "HBox(children=(NGLWidget(), VBox(children=(Dropdown(description='Show', options=('All', 'Ga', 'Se'), value='Al…"
      ]
     },
     "metadata": {},
     "output_type": "display_data"
    }
   ],
   "source": [
    "view(AseAtomsAdaptor.get_atoms(supercell), viewer='ngl')"
   ]
  },
  {
   "cell_type": "code",
   "execution_count": 12,
   "metadata": {},
   "outputs": [
    {
     "data": {
      "text/plain": [
       "Structure Summary\n",
       "Lattice\n",
       "    abc : 3.81906671 3.81906671 17.801796\n",
       " angles : 90.0 90.0 120.00001238000002\n",
       " volume : 224.8582811354867\n",
       "      A : 3.81906671 0.0 2.3385039110658565e-16\n",
       "      B : -1.9095340696375986 3.3074083770111447 2.3385039110658565e-16\n",
       "      C : 0.0 0.0 17.801796\n",
       "    pbc : True True True\n",
       "PeriodicSite: Ga (0.0000, 0.0000, 1.2356) [0.0000, 0.0000, 0.0694]\n",
       "PeriodicSite: Ga (0.0000, 0.0000, 16.5662) [0.0000, 0.0000, 0.9306]\n",
       "PeriodicSite: Ga (1.9095, 1.1025, 7.6655) [0.6667, 0.3333, 0.4306]\n",
       "PeriodicSite: Ga (1.9095, 1.1025, 10.1363) [0.6667, 0.3333, 0.5694]\n",
       "PeriodicSite: Se (1.9095, 1.1025, 15.3932) [0.6667, 0.3333, 0.8647]\n",
       "PeriodicSite: Se (1.9095, 1.1025, 2.4086) [0.6667, 0.3333, 0.1353]\n",
       "PeriodicSite: Se (-0.0000, 2.2049, 11.3096) [0.3333, 0.6667, 0.6353]\n",
       "PeriodicSite: Se (-0.0000, 2.2049, 6.4922) [0.3333, 0.6667, 0.3647]"
      ]
     },
     "execution_count": 12,
     "metadata": {},
     "output_type": "execute_result"
    }
   ],
   "source": [
    "mp_cell"
   ]
  },
  {
   "cell_type": "code",
   "execution_count": null,
   "metadata": {},
   "outputs": [],
   "source": []
  },
  {
   "cell_type": "code",
   "execution_count": 13,
   "metadata": {},
   "outputs": [
    {
     "data": {
      "text/plain": [
       "4.500072"
      ]
     },
     "execution_count": 13,
     "metadata": {},
     "output_type": "execute_result"
    }
   ],
   "source": [
    "len(supercell)/2* 0.062501"
   ]
  },
  {
   "cell_type": "code",
   "execution_count": 14,
   "metadata": {},
   "outputs": [
    {
     "data": {
      "text/plain": [
       "72.0"
      ]
     },
     "execution_count": 14,
     "metadata": {},
     "output_type": "execute_result"
    }
   ],
   "source": [
    "len(supercell)/2"
   ]
  },
  {
   "cell_type": "code",
   "execution_count": 15,
   "metadata": {},
   "outputs": [
    {
     "data": {
      "text/plain": [
       "0.0625"
      ]
     },
     "execution_count": 15,
     "metadata": {},
     "output_type": "execute_result"
    }
   ],
   "source": [
    "0.125/2"
   ]
  },
  {
   "cell_type": "code",
   "execution_count": 16,
   "metadata": {},
   "outputs": [
    {
     "data": {
      "text/plain": [
       "0.0625"
      ]
     },
     "execution_count": 16,
     "metadata": {},
     "output_type": "execute_result"
    }
   ],
   "source": [
    "0.125/2"
   ]
  },
  {
   "cell_type": "code",
   "execution_count": 17,
   "metadata": {},
   "outputs": [
    {
     "data": {
      "text/plain": [
       "0.06944444444444445"
      ]
     },
     "execution_count": 17,
     "metadata": {},
     "output_type": "execute_result"
    }
   ],
   "source": [
    "5/(len(supercell)/2)"
   ]
  }
 ],
 "metadata": {
  "kernelspec": {
   "display_name": "Python 3.10.5 ('2d-defects-potential-learning-pYjw2mkT-py3.10')",
   "language": "python",
   "name": "python3"
  },
  "language_info": {
   "codemirror_mode": {
    "name": "ipython",
    "version": 3
   },
   "file_extension": ".py",
   "mimetype": "text/x-python",
   "name": "python",
   "nbconvert_exporter": "python",
   "pygments_lexer": "ipython3",
   "version": "3.10.5"
  },
  "orig_nbformat": 4,
  "vscode": {
   "interpreter": {
    "hash": "635b46ca2bfd4fb1fb06df777baa58449acfa795d46252930268ba7054c54264"
   }
  }
 },
 "nbformat": 4,
 "nbformat_minor": 2
}
