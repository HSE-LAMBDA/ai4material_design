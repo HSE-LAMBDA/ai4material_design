{
 "cells": [
  {
   "cell_type": "code",
   "execution_count": 1,
   "metadata": {},
   "outputs": [],
   "source": [
    "import numpy as np\n",
    "from pymatgen.io.cif import CifParser\n",
    "from pymatgen.core import Structure\n",
    "from pymatgen.core.lattice import Lattice"
   ]
  },
  {
   "cell_type": "code",
   "execution_count": 2,
   "metadata": {},
   "outputs": [],
   "source": [
    "import sys\n",
    "sys.path.append('../..')\n",
    "from ai4mat.data.data import (\n",
    "    StorageResolver)"
   ]
  },
  {
   "cell_type": "code",
   "execution_count": 3,
   "metadata": {},
   "outputs": [],
   "source": [
    "from ase.visualize import view\n",
    "from pymatgen.io.ase import AseAtomsAdaptor"
   ]
  },
  {
   "cell_type": "code",
   "execution_count": 4,
   "metadata": {},
   "outputs": [
    {
     "name": "stderr",
     "output_type": "stream",
     "text": [
      "/home/kna/.cache/pypoetry/virtualenvs/2d-defects-potential-learning-pYjw2mkT-py3.10/lib64/python3.10/site-packages/pymatgen/io/cif.py:1155: UserWarning: Issues encountered while parsing CIF: Some fractional coordinates rounded to ideal values to avoid issues with finite precision.\n",
      "  warnings.warn(\"Issues encountered while parsing CIF: \" + \"\\n\".join(self.warnings))\n"
     ]
    }
   ],
   "source": [
    "mp_cell = CifParser(StorageResolver()[\"materials\"] / \n",
    "    \"InSe_mp-1079260_computed.cif\").get_structures(primitive=False)[0]"
   ]
  },
  {
   "cell_type": "code",
   "execution_count": 5,
   "metadata": {},
   "outputs": [],
   "source": [
    "selection = (mp_cell.frac_coords[:, 2] < 0.7) & (mp_cell.frac_coords[:, 2] > 0.3)\n",
    "assert np.count_nonzero(selection)*2 == len(mp_cell)"
   ]
  },
  {
   "cell_type": "code",
   "execution_count": 6,
   "metadata": {},
   "outputs": [
    {
     "data": {
      "application/vnd.jupyter.widget-view+json": {
       "model_id": "efced52dee1a4fd9abc545f6371929c7",
       "version_major": 2,
       "version_minor": 0
      },
      "text/plain": []
     },
     "metadata": {},
     "output_type": "display_data"
    },
    {
     "data": {
      "application/vnd.jupyter.widget-view+json": {
       "model_id": "f765d9dc3d5045d2b03fa0c2dbba7b3e",
       "version_major": 2,
       "version_minor": 0
      },
      "text/plain": [
       "HBox(children=(NGLWidget(), VBox(children=(Dropdown(description='Show', options=('All', 'In', 'Se'), value='Al…"
      ]
     },
     "metadata": {},
     "output_type": "display_data"
    }
   ],
   "source": [
    "view(AseAtomsAdaptor.get_atoms(mp_cell), viewer='ngl')"
   ]
  },
  {
   "cell_type": "code",
   "execution_count": 7,
   "metadata": {},
   "outputs": [],
   "source": [
    "# Create a new Structure object with the selected atoms\n",
    "monolayer = Structure.from_sites([mp_cell[i] for i in np.where(selection)[0]])\n",
    "lattice_np = np.array(monolayer.lattice.matrix)\n",
    "lattice_np[2, 2] = 20\n",
    "tall_lattice = Lattice(lattice_np)\n",
    "\n",
    "reference_cell = Structure(\n",
    "    lattice=tall_lattice,\n",
    "    species=monolayer.species,\n",
    "    coords=monolayer.cart_coords,\n",
    "    coords_are_cartesian=True,\n",
    ")"
   ]
  },
  {
   "cell_type": "code",
   "execution_count": 8,
   "metadata": {},
   "outputs": [
    {
     "data": {
      "text/plain": [
       "Structure Summary\n",
       "Lattice\n",
       "    abc : 4.09647352 4.09647352 20.0\n",
       " angles : 90.0 90.0 119.99999231\n",
       " volume : 290.65711918649475\n",
       "      A : 4.09647352 0.0 2.5083665920299456e-16\n",
       "      B : -2.048236283849211 3.547650409156004 2.5083665920299456e-16\n",
       "      C : 0.0 0.0 20.0\n",
       "    pbc : True True True\n",
       "PeriodicSite: In (0.0000, 2.3651, 10.5888) [0.3333, 0.6667, 0.5294]\n",
       "PeriodicSite: In (0.0000, 2.3651, 7.7547) [0.3333, 0.6667, 0.3877]\n",
       "PeriodicSite: Se (2.0482, 1.1826, 11.8563) [0.6667, 0.3333, 0.5928]\n",
       "PeriodicSite: Se (2.0482, 1.1826, 6.4872) [0.6667, 0.3333, 0.3244]"
      ]
     },
     "execution_count": 8,
     "metadata": {},
     "output_type": "execute_result"
    }
   ],
   "source": [
    "reference_cell"
   ]
  },
  {
   "cell_type": "code",
   "execution_count": 9,
   "metadata": {},
   "outputs": [],
   "source": [
    "from pymatgen.io.cif import CifWriter\n",
    "CifWriter(reference_cell).write_file(StorageResolver()[\"materials\"] /\"InSe.cif\")"
   ]
  },
  {
   "cell_type": "markdown",
   "metadata": {},
   "source": [
    "Structure appears to have two layers https://www.researchgate.net/figure/Basic-properties-of-InSe-monolayer-a-Top-and-side-view-of-InSe-monolayer-b-Band_fig1_324591452"
   ]
  },
  {
   "cell_type": "code",
   "execution_count": 10,
   "metadata": {},
   "outputs": [],
   "source": [
    "supercell = reference_cell.copy()\n",
    "supercell.make_supercell((6, 6, 1))"
   ]
  },
  {
   "cell_type": "code",
   "execution_count": 11,
   "metadata": {},
   "outputs": [
    {
     "data": {
      "application/vnd.jupyter.widget-view+json": {
       "model_id": "9c829aa077d54cc3a847b49de3fe3314",
       "version_major": 2,
       "version_minor": 0
      },
      "text/plain": [
       "HBox(children=(NGLWidget(), VBox(children=(Dropdown(description='Show', options=('All', 'In', 'Se'), value='Al…"
      ]
     },
     "metadata": {},
     "output_type": "display_data"
    }
   ],
   "source": [
    "view(AseAtomsAdaptor.get_atoms(supercell), viewer='ngl')"
   ]
  },
  {
   "cell_type": "code",
   "execution_count": 12,
   "metadata": {},
   "outputs": [
    {
     "data": {
      "text/plain": [
       "Structure Summary\n",
       "Lattice\n",
       "    abc : 4.09647352 4.09647352 18.343448\n",
       " angles : 90.0 90.0 119.99999231\n",
       " volume : 266.5826875813634\n",
       "      A : 4.09647352 0.0 2.5083665920299456e-16\n",
       "      B : -2.048236283849211 3.547650409156004 2.5083665920299456e-16\n",
       "      C : 0.0 0.0 18.343448\n",
       "    pbc : True True True\n",
       "PeriodicSite: In (0.0000, 2.3651, 10.5888) [0.3333, 0.6667, 0.5773]\n",
       "PeriodicSite: In (0.0000, 2.3651, 7.7547) [0.3333, 0.6667, 0.4228]\n",
       "PeriodicSite: In (2.0482, 1.1826, 16.9286) [0.6667, 0.3333, 0.9229]\n",
       "PeriodicSite: In (2.0482, 1.1826, 1.4148) [0.6667, 0.3333, 0.0771]\n",
       "PeriodicSite: Se (0.0000, 0.0000, 15.6599) [0.0000, 0.0000, 0.8537]\n",
       "PeriodicSite: Se (0.0000, 0.0000, 2.6836) [0.0000, 0.0000, 0.1463]\n",
       "PeriodicSite: Se (2.0482, 1.1826, 11.8563) [0.6667, 0.3333, 0.6463]\n",
       "PeriodicSite: Se (2.0482, 1.1826, 6.4872) [0.6667, 0.3333, 0.3537]"
      ]
     },
     "execution_count": 12,
     "metadata": {},
     "output_type": "execute_result"
    }
   ],
   "source": [
    "mp_cell"
   ]
  },
  {
   "cell_type": "code",
   "execution_count": null,
   "metadata": {},
   "outputs": [],
   "source": []
  },
  {
   "cell_type": "code",
   "execution_count": 13,
   "metadata": {},
   "outputs": [
    {
     "data": {
      "text/plain": [
       "4.500072"
      ]
     },
     "execution_count": 13,
     "metadata": {},
     "output_type": "execute_result"
    }
   ],
   "source": [
    "len(supercell)/2* 0.062501"
   ]
  },
  {
   "cell_type": "code",
   "execution_count": 14,
   "metadata": {},
   "outputs": [
    {
     "data": {
      "text/plain": [
       "72.0"
      ]
     },
     "execution_count": 14,
     "metadata": {},
     "output_type": "execute_result"
    }
   ],
   "source": [
    "len(supercell)/2"
   ]
  },
  {
   "cell_type": "code",
   "execution_count": 15,
   "metadata": {},
   "outputs": [
    {
     "data": {
      "text/plain": [
       "0.0625"
      ]
     },
     "execution_count": 15,
     "metadata": {},
     "output_type": "execute_result"
    }
   ],
   "source": [
    "0.125/2"
   ]
  },
  {
   "cell_type": "code",
   "execution_count": 16,
   "metadata": {},
   "outputs": [
    {
     "data": {
      "text/plain": [
       "0.0625"
      ]
     },
     "execution_count": 16,
     "metadata": {},
     "output_type": "execute_result"
    }
   ],
   "source": [
    "0.125/2"
   ]
  },
  {
   "cell_type": "code",
   "execution_count": 17,
   "metadata": {},
   "outputs": [
    {
     "data": {
      "text/plain": [
       "0.06944444444444445"
      ]
     },
     "execution_count": 17,
     "metadata": {},
     "output_type": "execute_result"
    }
   ],
   "source": [
    "5/(len(supercell)/2)"
   ]
  }
 ],
 "metadata": {
  "kernelspec": {
   "display_name": "Python 3.10.5 ('2d-defects-potential-learning-pYjw2mkT-py3.10')",
   "language": "python",
   "name": "python3"
  },
  "language_info": {
   "codemirror_mode": {
    "name": "ipython",
    "version": 3
   },
   "file_extension": ".py",
   "mimetype": "text/x-python",
   "name": "python",
   "nbconvert_exporter": "python",
   "pygments_lexer": "ipython3",
   "version": "3.10.5"
  },
  "orig_nbformat": 4,
  "vscode": {
   "interpreter": {
    "hash": "635b46ca2bfd4fb1fb06df777baa58449acfa795d46252930268ba7054c54264"
   }
  }
 },
 "nbformat": 4,
 "nbformat_minor": 2
}
