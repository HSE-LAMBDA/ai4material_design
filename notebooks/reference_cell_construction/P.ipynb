{
 "cells": [
  {
   "cell_type": "code",
   "execution_count": 13,
   "metadata": {},
   "outputs": [],
   "source": [
    "import numpy as np\n",
    "from pymatgen.io.cif import CifParser\n",
    "from pymatgen.core import Structure\n",
    "from pymatgen.core.lattice import Lattice"
   ]
  },
  {
   "cell_type": "code",
   "execution_count": 14,
   "metadata": {},
   "outputs": [],
   "source": [
    "import sys\n",
    "sys.path.append('../..')\n",
    "from ai4mat.data.data import (\n",
    "    StorageResolver)"
   ]
  },
  {
   "cell_type": "code",
   "execution_count": 15,
   "metadata": {},
   "outputs": [],
   "source": [
    "from ase.visualize import view\n",
    "from pymatgen.io.ase import AseAtomsAdaptor"
   ]
  },
  {
   "cell_type": "code",
   "execution_count": 16,
   "metadata": {},
   "outputs": [],
   "source": [
    "mp_cell = CifParser(StorageResolver()[\"materials\"] / \n",
    "    \"P_mp-1014013_computed.cif\").get_structures(primitive=False)[0]"
   ]
  },
  {
   "cell_type": "code",
   "execution_count": 17,
   "metadata": {},
   "outputs": [
    {
     "data": {
      "application/vnd.jupyter.widget-view+json": {
       "model_id": "fd216cb8a7e74c90a4d62fa230dfe9ee",
       "version_major": 2,
       "version_minor": 0
      },
      "text/plain": [
       "HBox(children=(NGLWidget(), VBox(children=(Dropdown(description='Show', options=('All', 'P'), value='All'), Dr…"
      ]
     },
     "metadata": {},
     "output_type": "display_data"
    }
   ],
   "source": [
    "view(AseAtomsAdaptor.get_atoms(mp_cell), viewer='ngl')"
   ]
  },
  {
   "cell_type": "code",
   "execution_count": 18,
   "metadata": {},
   "outputs": [
    {
     "data": {
      "text/plain": [
       "Structure Summary\n",
       "Lattice\n",
       "    abc : 3.299918 4.600926 35.235589\n",
       " angles : 90.0 90.0 90.0\n",
       " volume : 534.9706203931867\n",
       "      A : 3.299918 0.0 2.0206170080743677e-16\n",
       "      B : -2.817254649506918e-16 4.600926 2.817254649506918e-16\n",
       "      C : 0.0 0.0 35.235589\n",
       "    pbc : True True True\n",
       "PeriodicSite: P (-0.0000, 2.7079, 34.1825) [0.0000, 0.5886, 0.9701]\n",
       "PeriodicSite: P (-0.0000, 1.8930, 1.0531) [0.0000, 0.4114, 0.0299]\n",
       "PeriodicSite: P (1.6500, 0.4074, 1.0531) [0.5000, 0.0886, 0.0299]\n",
       "PeriodicSite: P (1.6500, 4.1935, 34.1825) [0.5000, 0.9114, 0.9701]"
      ]
     },
     "execution_count": 18,
     "metadata": {},
     "output_type": "execute_result"
    }
   ],
   "source": [
    "mp_cell"
   ]
  },
  {
   "cell_type": "markdown",
   "metadata": {},
   "source": [
    "https://www.researchgate.net/figure/a-Atomic-structure-of-multi-layer-black-phosphorus-and-b-monolayer-phosphorene_fig1_280631658"
   ]
  },
  {
   "cell_type": "markdown",
   "metadata": {},
   "source": [
    "![Black phosphorus monolayer](https://www.researchgate.net/profile/Xi-Lin-23/publication/280631658/figure/fig1/AS:379933193981953@1467594540417/a-Atomic-structure-of-multi-layer-black-phosphorus-and-b-monolayer-phosphorene.png)"
   ]
  },
  {
   "cell_type": "code",
   "execution_count": 25,
   "metadata": {},
   "outputs": [],
   "source": [
    "# In principle, we could use the above cell and let pbc take care of the armchair structures\n",
    "# But we'll make an explicit layer"
   ]
  },
  {
   "cell_type": "code",
   "execution_count": 28,
   "metadata": {},
   "outputs": [],
   "source": [
    "double_cell = mp_cell.copy()\n",
    "double_cell.make_supercell([1, 1, 2])"
   ]
  },
  {
   "cell_type": "code",
   "execution_count": 29,
   "metadata": {},
   "outputs": [
    {
     "data": {
      "application/vnd.jupyter.widget-view+json": {
       "model_id": "d0a39d1b11a94c81b9e13fc68a8180ac",
       "version_major": 2,
       "version_minor": 0
      },
      "text/plain": [
       "HBox(children=(NGLWidget(), VBox(children=(Dropdown(description='Show', options=('All', 'P'), value='All'), Dr…"
      ]
     },
     "metadata": {},
     "output_type": "display_data"
    }
   ],
   "source": [
    "view(AseAtomsAdaptor.get_atoms(double_cell), viewer='ngl')"
   ]
  },
  {
   "cell_type": "code",
   "execution_count": 30,
   "metadata": {},
   "outputs": [],
   "source": [
    "double_supercell = double_cell.copy()\n",
    "double_supercell.make_supercell([6, 6, 1])"
   ]
  },
  {
   "cell_type": "code",
   "execution_count": 33,
   "metadata": {},
   "outputs": [
    {
     "data": {
      "application/vnd.jupyter.widget-view+json": {
       "model_id": "8898201bdb014600a802b4403e32b93c",
       "version_major": 2,
       "version_minor": 0
      },
      "text/plain": [
       "HBox(children=(NGLWidget(), VBox(children=(Dropdown(description='Show', options=('All', 'P'), value='All'), Dr…"
      ]
     },
     "metadata": {},
     "output_type": "display_data"
    }
   ],
   "source": [
    "view(AseAtomsAdaptor.get_atoms(double_supercell), viewer='ngl')"
   ]
  },
  {
   "cell_type": "code",
   "execution_count": 35,
   "metadata": {},
   "outputs": [],
   "source": [
    "selection = (double_cell.frac_coords[:, 2] < 0.7) & (double_cell.frac_coords[:, 2] > 0.3)\n",
    "assert np.count_nonzero(selection)*2 == len(double_cell)"
   ]
  },
  {
   "cell_type": "code",
   "execution_count": 44,
   "metadata": {},
   "outputs": [
    {
     "data": {
      "text/plain": [
       "Structure Summary\n",
       "Lattice\n",
       "    abc : 3.299918 4.600926 70.471178\n",
       " angles : 90.0 90.0 90.0\n",
       " volume : 1069.9412407863733\n",
       "      A : 3.299918 0.0 2.0206170080743677e-16\n",
       "      B : -2.817254649506918e-16 4.600926 2.817254649506918e-16\n",
       "      C : 0.0 0.0 70.471178\n",
       "    pbc : True True True\n",
       "PeriodicSite: P (-0.0000, 2.7079, 34.1825) [0.0000, 0.5886, 0.4851]\n",
       "PeriodicSite: P (-0.0000, 2.7079, 69.4181) [0.0000, 0.5886, 0.9851]\n",
       "PeriodicSite: P (-0.0000, 1.8930, 1.0531) [0.0000, 0.4114, 0.0149]\n",
       "PeriodicSite: P (-0.0000, 1.8930, 36.2887) [0.0000, 0.4114, 0.5149]\n",
       "PeriodicSite: P (1.6500, 0.4074, 1.0531) [0.5000, 0.0886, 0.0149]\n",
       "PeriodicSite: P (1.6500, 0.4074, 36.2887) [0.5000, 0.0886, 0.5149]\n",
       "PeriodicSite: P (1.6500, 4.1935, 34.1825) [0.5000, 0.9114, 0.4851]\n",
       "PeriodicSite: P (1.6500, 4.1935, 69.4181) [0.5000, 0.9114, 0.9851]"
      ]
     },
     "execution_count": 44,
     "metadata": {},
     "output_type": "execute_result"
    }
   ],
   "source": [
    "double_cell"
   ]
  },
  {
   "cell_type": "code",
   "execution_count": 48,
   "metadata": {},
   "outputs": [
    {
     "data": {
      "text/plain": [
       "array([ True, False, False,  True, False,  True,  True, False])"
      ]
     },
     "execution_count": 48,
     "metadata": {},
     "output_type": "execute_result"
    }
   ],
   "source": [
    "selection"
   ]
  },
  {
   "cell_type": "code",
   "execution_count": 51,
   "metadata": {},
   "outputs": [
    {
     "data": {
      "text/plain": [
       "Structure Summary\n",
       "Lattice\n",
       "    abc : 3.299918 4.600926 70.471178\n",
       " angles : 90.0 90.0 90.0\n",
       " volume : 1069.9412407863733\n",
       "      A : 3.299918 0.0 2.0206170080743677e-16\n",
       "      B : -2.817254649506918e-16 4.600926 2.817254649506918e-16\n",
       "      C : 0.0 0.0 70.471178\n",
       "    pbc : True True True\n",
       "PeriodicSite: P (-0.0000, 2.7079, 34.1825) [0.0000, 0.5886, 0.4851]\n",
       "PeriodicSite: P (-0.0000, 1.8930, 36.2887) [0.0000, 0.4114, 0.5149]\n",
       "PeriodicSite: P (1.6500, 0.4074, 36.2887) [0.5000, 0.0886, 0.5149]\n",
       "PeriodicSite: P (1.6500, 4.1935, 34.1825) [0.5000, 0.9114, 0.4851]"
      ]
     },
     "execution_count": 51,
     "metadata": {},
     "output_type": "execute_result"
    }
   ],
   "source": [
    "monolayer = Structure.from_sites([double_cell[i] for i in np.where(selection)[0]])\n",
    "monolayer"
   ]
  },
  {
   "cell_type": "code",
   "execution_count": 52,
   "metadata": {},
   "outputs": [
    {
     "data": {
      "text/plain": [
       "array([[-1.65811494e-16,  2.70790720e+00,  3.41824677e+01],\n",
       "       [-1.15913970e-16,  1.89301880e+00,  3.62887103e+01],\n",
       "       [ 1.64995900e+00,  4.07444204e-01,  3.62887103e+01],\n",
       "       [ 1.64995900e+00,  4.19348180e+00,  3.41824677e+01]])"
      ]
     },
     "execution_count": 52,
     "metadata": {},
     "output_type": "execute_result"
    }
   ],
   "source": [
    "monolayer.cart_coords"
   ]
  },
  {
   "cell_type": "code",
   "execution_count": 53,
   "metadata": {},
   "outputs": [],
   "source": [
    "lattice_np = np.array(monolayer.lattice.matrix)\n",
    "lattice_np[2, 2] = 20\n",
    "tall_lattice = Lattice(lattice_np)\n",
    "\n",
    "reference_cell = Structure(\n",
    "    lattice=tall_lattice,\n",
    "    species=monolayer.species,\n",
    "    coords=monolayer.cart_coords - np.array([0, 0, 30]),\n",
    "    coords_are_cartesian=True,\n",
    ")"
   ]
  },
  {
   "cell_type": "code",
   "execution_count": 54,
   "metadata": {},
   "outputs": [
    {
     "data": {
      "text/plain": [
       "Structure Summary\n",
       "Lattice\n",
       "    abc : 3.299918 4.600926 20.0\n",
       " angles : 90.0 90.0 90.0\n",
       " volume : 303.65357048136\n",
       "      A : 3.299918 0.0 2.0206170080743677e-16\n",
       "      B : -2.817254649506918e-16 4.600926 2.817254649506918e-16\n",
       "      C : 0.0 0.0 20.0\n",
       "    pbc : True True True\n",
       "PeriodicSite: P (-0.0000, 2.7079, 4.1825) [-0.0000, 0.5886, 0.2091]\n",
       "PeriodicSite: P (-0.0000, 1.8930, 6.2887) [-0.0000, 0.4114, 0.3144]\n",
       "PeriodicSite: P (1.6500, 0.4074, 6.2887) [0.5000, 0.0886, 0.3144]\n",
       "PeriodicSite: P (1.6500, 4.1935, 4.1825) [0.5000, 0.9114, 0.2091]"
      ]
     },
     "execution_count": 54,
     "metadata": {},
     "output_type": "execute_result"
    }
   ],
   "source": [
    "reference_cell"
   ]
  },
  {
   "cell_type": "code",
   "execution_count": 55,
   "metadata": {},
   "outputs": [],
   "source": [
    "from pymatgen.io.cif import CifWriter\n",
    "CifWriter(reference_cell).write_file(StorageResolver()[\"materials\"] /\"P.cif\")"
   ]
  },
  {
   "cell_type": "code",
   "execution_count": 56,
   "metadata": {},
   "outputs": [],
   "source": [
    "supercell = reference_cell.copy()\n",
    "supercell.make_supercell((6, 6, 1))"
   ]
  },
  {
   "cell_type": "code",
   "execution_count": 57,
   "metadata": {},
   "outputs": [
    {
     "data": {
      "application/vnd.jupyter.widget-view+json": {
       "model_id": "5c676d584750438fb46d561f356cd847",
       "version_major": 2,
       "version_minor": 0
      },
      "text/plain": [
       "HBox(children=(NGLWidget(), VBox(children=(Dropdown(description='Show', options=('All', 'P'), value='All'), Dr…"
      ]
     },
     "metadata": {},
     "output_type": "display_data"
    }
   ],
   "source": [
    "view(AseAtomsAdaptor.get_atoms(supercell), viewer='ngl')"
   ]
  }
 ],
 "metadata": {
  "kernelspec": {
   "display_name": "Python 3.10.5 ('2d-defects-potential-learning-pYjw2mkT-py3.10')",
   "language": "python",
   "name": "python3"
  },
  "language_info": {
   "codemirror_mode": {
    "name": "ipython",
    "version": 3
   },
   "file_extension": ".py",
   "mimetype": "text/x-python",
   "name": "python",
   "nbconvert_exporter": "python",
   "pygments_lexer": "ipython3",
   "version": "3.10.5"
  },
  "orig_nbformat": 4,
  "vscode": {
   "interpreter": {
    "hash": "635b46ca2bfd4fb1fb06df777baa58449acfa795d46252930268ba7054c54264"
   }
  }
 },
 "nbformat": 4,
 "nbformat_minor": 2
}
