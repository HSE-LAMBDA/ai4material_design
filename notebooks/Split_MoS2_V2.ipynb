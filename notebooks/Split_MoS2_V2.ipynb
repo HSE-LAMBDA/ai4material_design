{
 "cells": [
  {
   "cell_type": "code",
   "execution_count": 1,
   "metadata": {},
   "outputs": [
    {
     "name": "stderr",
     "output_type": "stream",
     "text": [
      "/opt/conda/lib/python3.8/site-packages/tqdm/auto.py:22: TqdmWarning: IProgress not found. Please update jupyter and ipywidgets. See https://ipywidgets.readthedocs.io/en/stable/user_install.html\n",
      "  from .autonotebook import tqdm as notebook_tqdm\n"
     ]
    }
   ],
   "source": [
    "import sys\n",
    "import pandas as pd\n",
    "sys.path.append('..')\n",
    "\n",
    "from ai4mat.data.data import (\n",
    "    read_structures_descriptions,\n",
    "    read_defects_descriptions,\n",
    "    StorageResolver,\n",
    "    TEST_FOLD,\n",
    "    TRAIN_FOLD,\n",
    ")"
   ]
  },
  {
   "cell_type": "code",
   "execution_count": 2,
   "metadata": {},
   "outputs": [],
   "source": [
    "datasets = [f\"high_density_defects/{name}_500\" for name in (\"BP_spin\", \"GaSe_spin\", \"hBN_spin\", \"InSe_spin\", \"MoS2\", \"WSe2\")] + \\\n",
    "           [f\"low_density_defects/{name}\" for name in (\"MoS2\", \"WSe2\")]"
   ]
  },
  {
   "cell_type": "code",
   "execution_count": 3,
   "metadata": {},
   "outputs": [],
   "source": [
    "storage_resolver = StorageResolver()\n",
    "structures = pd.concat([read_structures_descriptions(storage_resolver['csv_cif']/dataset) for dataset in datasets], axis=0)\n",
    "defects = pd.concat([read_defects_descriptions(storage_resolver['csv_cif']/dataset) for dataset in datasets], axis=0)"
   ]
  },
  {
   "cell_type": "code",
   "execution_count": 4,
   "metadata": {},
   "outputs": [],
   "source": [
    "test_defect_id = defects[defects.defects.apply(lambda d: d == [{'type': 'vacancy', 'element': 'Mo'}, {'type': 'vacancy', 'element': 'S'}])].index[0]"
   ]
  },
  {
   "cell_type": "code",
   "execution_count": 20,
   "metadata": {},
   "outputs": [],
   "source": [
    "folds = pd.Series(index=structures.index, name='fold', data=TRAIN_FOLD)\n",
    "folds[structures.descriptor_id == test_defect_id] = TEST_FOLD"
   ]
  },
  {
   "cell_type": "code",
   "execution_count": 21,
   "metadata": {},
   "outputs": [],
   "source": [
    "experiment_path = storage_resolver['experiments'].joinpath('MoS2_V2')"
   ]
  },
  {
   "cell_type": "code",
   "execution_count": 23,
   "metadata": {},
   "outputs": [],
   "source": [
    "folds.to_csv(experiment_path / 'folds.csv.gz', index_label='_id')"
   ]
  },
  {
   "cell_type": "code",
   "execution_count": 24,
   "metadata": {},
   "outputs": [],
   "source": [
    "import yaml\n",
    "config = {\"datasets\": datasets,\n",
    "          \"strategy\": \"train_test\",\n",
    "          \"n-folds\": 2,\n",
    "          \"targets\": [\"formation_energy_per_site\"]}\n",
    "with open(experiment_path.joinpath(\"config.yaml\"), \"wt\") as config_file:\n",
    "    yaml.dump(config, config_file)"
   ]
  }
 ],
 "metadata": {
  "kernelspec": {
   "display_name": "base",
   "language": "python",
   "name": "python3"
  },
  "language_info": {
   "codemirror_mode": {
    "name": "ipython",
    "version": 3
   },
   "file_extension": ".py",
   "mimetype": "text/x-python",
   "name": "python",
   "nbconvert_exporter": "python",
   "pygments_lexer": "ipython3",
   "version": "3.8.13 | packaged by conda-forge | (default, Mar 25 2022, 06:04:10) \n[GCC 10.3.0]"
  },
  "orig_nbformat": 4,
  "vscode": {
   "interpreter": {
    "hash": "d4d1e4263499bec80672ea0156c357c1ee493ec2b1c70f0acce89fc37c4a6abe"
   }
  }
 },
 "nbformat": 4,
 "nbformat_minor": 2
}
