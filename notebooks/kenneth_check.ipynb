{
 "cells": [
  {
   "cell_type": "code",
   "execution_count": 1,
   "metadata": {},
   "outputs": [],
   "source": [
    "import pandas as pd\n",
    "from pymatgen.analysis.structure_matcher import StructureMatcher\n",
    "from pymatgen.io.ase import AseAtomsAdaptor\n",
    "\n",
    "import sys\n",
    "sys.path.append(\"..\")\n",
    "from ai4mat.data.data import StorageResolver"
   ]
  },
  {
   "cell_type": "code",
   "execution_count": 2,
   "metadata": {},
   "outputs": [],
   "source": [
    "structures = pd.read_pickle(StorageResolver()[\"processed\"]/\"low_density_defects/MoS2/data.pickle.gz\")"
   ]
  },
  {
   "cell_type": "code",
   "execution_count": 3,
   "metadata": {},
   "outputs": [],
   "source": [
    "def energy_lookup(E, tolerance=1e-4):\n",
    "    return structures[(structures.formation_energy_per_site > E - tolerance) & (structures.formation_energy_per_site < E + tolerance)]"
   ]
  },
  {
   "cell_type": "code",
   "execution_count": 4,
   "metadata": {},
   "outputs": [],
   "source": [
    "structures_1 = energy_lookup(2.565266666666654)\n",
    "structures_2 = energy_lookup(2.5083333333333635)"
   ]
  },
  {
   "cell_type": "code",
   "execution_count": 5,
   "metadata": {},
   "outputs": [
    {
     "data": {
      "text/html": [
       "<div>\n",
       "<style scoped>\n",
       "    .dataframe tbody tr th:only-of-type {\n",
       "        vertical-align: middle;\n",
       "    }\n",
       "\n",
       "    .dataframe tbody tr th {\n",
       "        vertical-align: top;\n",
       "    }\n",
       "\n",
       "    .dataframe thead th {\n",
       "        text-align: right;\n",
       "    }\n",
       "</style>\n",
       "<table border=\"1\" class=\"dataframe\">\n",
       "  <thead>\n",
       "    <tr style=\"text-align: right;\">\n",
       "      <th></th>\n",
       "      <th>descriptor_id</th>\n",
       "      <th>energy</th>\n",
       "      <th>energy_per_atom</th>\n",
       "      <th>fermi_level</th>\n",
       "      <th>homo</th>\n",
       "      <th>lumo</th>\n",
       "      <th>band_gap</th>\n",
       "      <th>homo_lumo_gap</th>\n",
       "      <th>E_1</th>\n",
       "      <th>defect_representation</th>\n",
       "      <th>...</th>\n",
       "      <th>homo_max</th>\n",
       "      <th>lumo_max</th>\n",
       "      <th>normalized_homo_max</th>\n",
       "      <th>normalized_lumo_max</th>\n",
       "      <th>homo_lumo_gap_min</th>\n",
       "      <th>homo_min</th>\n",
       "      <th>lumo_min</th>\n",
       "      <th>normalized_homo_min</th>\n",
       "      <th>normalized_lumo_min</th>\n",
       "      <th>total_mag</th>\n",
       "    </tr>\n",
       "    <tr>\n",
       "      <th>_id</th>\n",
       "      <th></th>\n",
       "      <th></th>\n",
       "      <th></th>\n",
       "      <th></th>\n",
       "      <th></th>\n",
       "      <th></th>\n",
       "      <th></th>\n",
       "      <th></th>\n",
       "      <th></th>\n",
       "      <th></th>\n",
       "      <th></th>\n",
       "      <th></th>\n",
       "      <th></th>\n",
       "      <th></th>\n",
       "      <th></th>\n",
       "      <th></th>\n",
       "      <th></th>\n",
       "      <th></th>\n",
       "      <th></th>\n",
       "      <th></th>\n",
       "      <th></th>\n",
       "    </tr>\n",
       "  </thead>\n",
       "  <tbody>\n",
       "    <tr>\n",
       "      <th>6141cf1fee0a3fd43fb479ef</th>\n",
       "      <td>6141cf13ee0a3fd43fb479d5</td>\n",
       "      <td>-1378.208060</td>\n",
       "      <td>-7.215749</td>\n",
       "      <td>-0.314194</td>\n",
       "      <td>-0.0934</td>\n",
       "      <td>0.2640</td>\n",
       "      <td>0.423</td>\n",
       "      <td>0.3574</td>\n",
       "      <td>-61.7521</td>\n",
       "      <td>[[ 4.79823481 21.17482301  3.719751  ] X0+, [-...</td>\n",
       "      <td>...</td>\n",
       "      <td>-0.0934</td>\n",
       "      <td>0.2640</td>\n",
       "      <td>0.7807</td>\n",
       "      <td>1.1381</td>\n",
       "      <td>0.3574</td>\n",
       "      <td>-0.0934</td>\n",
       "      <td>0.2640</td>\n",
       "      <td>0.7807</td>\n",
       "      <td>1.1381</td>\n",
       "      <td>0.0</td>\n",
       "    </tr>\n",
       "    <tr>\n",
       "      <th>6141cfa0ee0a3fd43fb47a53</th>\n",
       "      <td>6141cf13ee0a3fd43fb479d5</td>\n",
       "      <td>-1378.208334</td>\n",
       "      <td>-7.215750</td>\n",
       "      <td>-0.317858</td>\n",
       "      <td>-0.0917</td>\n",
       "      <td>0.2664</td>\n",
       "      <td>0.431</td>\n",
       "      <td>0.3581</td>\n",
       "      <td>-61.7550</td>\n",
       "      <td>[[ 9.58370836 18.41192856  3.719751  ] X0+, [1...</td>\n",
       "      <td>...</td>\n",
       "      <td>-0.0917</td>\n",
       "      <td>0.2664</td>\n",
       "      <td>0.7853</td>\n",
       "      <td>1.1434</td>\n",
       "      <td>0.3581</td>\n",
       "      <td>-0.0917</td>\n",
       "      <td>0.2664</td>\n",
       "      <td>0.7853</td>\n",
       "      <td>1.1434</td>\n",
       "      <td>0.0</td>\n",
       "    </tr>\n",
       "  </tbody>\n",
       "</table>\n",
       "<p>2 rows × 36 columns</p>\n",
       "</div>"
      ],
      "text/plain": [
       "                                     descriptor_id       energy  \\\n",
       "_id                                                               \n",
       "6141cf1fee0a3fd43fb479ef  6141cf13ee0a3fd43fb479d5 -1378.208060   \n",
       "6141cfa0ee0a3fd43fb47a53  6141cf13ee0a3fd43fb479d5 -1378.208334   \n",
       "\n",
       "                          energy_per_atom  fermi_level    homo    lumo  \\\n",
       "_id                                                                      \n",
       "6141cf1fee0a3fd43fb479ef        -7.215749    -0.314194 -0.0934  0.2640   \n",
       "6141cfa0ee0a3fd43fb47a53        -7.215750    -0.317858 -0.0917  0.2664   \n",
       "\n",
       "                          band_gap  homo_lumo_gap      E_1  \\\n",
       "_id                                                          \n",
       "6141cf1fee0a3fd43fb479ef     0.423         0.3574 -61.7521   \n",
       "6141cfa0ee0a3fd43fb47a53     0.431         0.3581 -61.7550   \n",
       "\n",
       "                                                      defect_representation  \\\n",
       "_id                                                                           \n",
       "6141cf1fee0a3fd43fb479ef  [[ 4.79823481 21.17482301  3.719751  ] X0+, [-...   \n",
       "6141cfa0ee0a3fd43fb47a53  [[ 9.58370836 18.41192856  3.719751  ] X0+, [1...   \n",
       "\n",
       "                          ...  homo_max lumo_max  normalized_homo_max  \\\n",
       "_id                       ...                                           \n",
       "6141cf1fee0a3fd43fb479ef  ...   -0.0934   0.2640               0.7807   \n",
       "6141cfa0ee0a3fd43fb47a53  ...   -0.0917   0.2664               0.7853   \n",
       "\n",
       "                          normalized_lumo_max  homo_lumo_gap_min  homo_min  \\\n",
       "_id                                                                          \n",
       "6141cf1fee0a3fd43fb479ef               1.1381             0.3574   -0.0934   \n",
       "6141cfa0ee0a3fd43fb47a53               1.1434             0.3581   -0.0917   \n",
       "\n",
       "                          lumo_min  normalized_homo_min  normalized_lumo_min  \\\n",
       "_id                                                                            \n",
       "6141cf1fee0a3fd43fb479ef    0.2640               0.7807               1.1381   \n",
       "6141cfa0ee0a3fd43fb47a53    0.2664               0.7853               1.1434   \n",
       "\n",
       "                          total_mag  \n",
       "_id                                  \n",
       "6141cf1fee0a3fd43fb479ef        0.0  \n",
       "6141cfa0ee0a3fd43fb47a53        0.0  \n",
       "\n",
       "[2 rows x 36 columns]"
      ]
     },
     "execution_count": 5,
     "metadata": {},
     "output_type": "execute_result"
    }
   ],
   "source": [
    "structures_1"
   ]
  },
  {
   "cell_type": "code",
   "execution_count": 6,
   "metadata": {},
   "outputs": [
    {
     "data": {
      "text/html": [
       "<div>\n",
       "<style scoped>\n",
       "    .dataframe tbody tr th:only-of-type {\n",
       "        vertical-align: middle;\n",
       "    }\n",
       "\n",
       "    .dataframe tbody tr th {\n",
       "        vertical-align: top;\n",
       "    }\n",
       "\n",
       "    .dataframe thead th {\n",
       "        text-align: right;\n",
       "    }\n",
       "</style>\n",
       "<table border=\"1\" class=\"dataframe\">\n",
       "  <thead>\n",
       "    <tr style=\"text-align: right;\">\n",
       "      <th></th>\n",
       "      <th>descriptor_id</th>\n",
       "      <th>energy</th>\n",
       "      <th>energy_per_atom</th>\n",
       "      <th>fermi_level</th>\n",
       "      <th>homo</th>\n",
       "      <th>lumo</th>\n",
       "      <th>band_gap</th>\n",
       "      <th>homo_lumo_gap</th>\n",
       "      <th>E_1</th>\n",
       "      <th>defect_representation</th>\n",
       "      <th>...</th>\n",
       "      <th>homo_max</th>\n",
       "      <th>lumo_max</th>\n",
       "      <th>normalized_homo_max</th>\n",
       "      <th>normalized_lumo_max</th>\n",
       "      <th>homo_lumo_gap_min</th>\n",
       "      <th>homo_min</th>\n",
       "      <th>lumo_min</th>\n",
       "      <th>normalized_homo_min</th>\n",
       "      <th>normalized_lumo_min</th>\n",
       "      <th>total_mag</th>\n",
       "    </tr>\n",
       "    <tr>\n",
       "      <th>_id</th>\n",
       "      <th></th>\n",
       "      <th></th>\n",
       "      <th></th>\n",
       "      <th></th>\n",
       "      <th></th>\n",
       "      <th></th>\n",
       "      <th></th>\n",
       "      <th></th>\n",
       "      <th></th>\n",
       "      <th></th>\n",
       "      <th></th>\n",
       "      <th></th>\n",
       "      <th></th>\n",
       "      <th></th>\n",
       "      <th></th>\n",
       "      <th></th>\n",
       "      <th></th>\n",
       "      <th></th>\n",
       "      <th></th>\n",
       "      <th></th>\n",
       "      <th></th>\n",
       "    </tr>\n",
       "  </thead>\n",
       "  <tbody>\n",
       "    <tr>\n",
       "      <th>6141dc5cee0a3fd43fb47c4f</th>\n",
       "      <td>6141cf13ee0a3fd43fb479d5</td>\n",
       "      <td>-1378.378884</td>\n",
       "      <td>-7.216643</td>\n",
       "      <td>-0.26603</td>\n",
       "      <td>-0.0474</td>\n",
       "      <td>0.2117</td>\n",
       "      <td>0.2814</td>\n",
       "      <td>0.2591</td>\n",
       "      <td>-61.7555</td>\n",
       "      <td>[[-4.77271229 15.64903412  3.719751  ] X0+, [-...</td>\n",
       "      <td>...</td>\n",
       "      <td>-0.0474</td>\n",
       "      <td>0.2117</td>\n",
       "      <td>0.8301</td>\n",
       "      <td>1.0892</td>\n",
       "      <td>0.2591</td>\n",
       "      <td>-0.0474</td>\n",
       "      <td>0.2117</td>\n",
       "      <td>0.8301</td>\n",
       "      <td>1.0892</td>\n",
       "      <td>0.0</td>\n",
       "    </tr>\n",
       "  </tbody>\n",
       "</table>\n",
       "<p>1 rows × 36 columns</p>\n",
       "</div>"
      ],
      "text/plain": [
       "                                     descriptor_id       energy  \\\n",
       "_id                                                               \n",
       "6141dc5cee0a3fd43fb47c4f  6141cf13ee0a3fd43fb479d5 -1378.378884   \n",
       "\n",
       "                          energy_per_atom  fermi_level    homo    lumo  \\\n",
       "_id                                                                      \n",
       "6141dc5cee0a3fd43fb47c4f        -7.216643     -0.26603 -0.0474  0.2117   \n",
       "\n",
       "                          band_gap  homo_lumo_gap      E_1  \\\n",
       "_id                                                          \n",
       "6141dc5cee0a3fd43fb47c4f    0.2814         0.2591 -61.7555   \n",
       "\n",
       "                                                      defect_representation  \\\n",
       "_id                                                                           \n",
       "6141dc5cee0a3fd43fb47c4f  [[-4.77271229 15.64903412  3.719751  ] X0+, [-...   \n",
       "\n",
       "                          ...  homo_max lumo_max  normalized_homo_max  \\\n",
       "_id                       ...                                           \n",
       "6141dc5cee0a3fd43fb47c4f  ...   -0.0474   0.2117               0.8301   \n",
       "\n",
       "                          normalized_lumo_max  homo_lumo_gap_min  homo_min  \\\n",
       "_id                                                                          \n",
       "6141dc5cee0a3fd43fb47c4f               1.0892             0.2591   -0.0474   \n",
       "\n",
       "                          lumo_min  normalized_homo_min  normalized_lumo_min  \\\n",
       "_id                                                                            \n",
       "6141dc5cee0a3fd43fb47c4f    0.2117               0.8301               1.0892   \n",
       "\n",
       "                          total_mag  \n",
       "_id                                  \n",
       "6141dc5cee0a3fd43fb47c4f        0.0  \n",
       "\n",
       "[1 rows x 36 columns]"
      ]
     },
     "execution_count": 6,
     "metadata": {},
     "output_type": "execute_result"
    }
   ],
   "source": [
    "structures_2"
   ]
  },
  {
   "cell_type": "code",
   "execution_count": 7,
   "metadata": {},
   "outputs": [
    {
     "data": {
      "text/plain": [
       "Structure Summary\n",
       "Lattice\n",
       "    abc : 25.5225256 25.5225256 14.879004\n",
       " angles : 90.0 90.0 119.99999999999999\n",
       " volume : 8393.668021812642\n",
       "      A : 25.5225256 0.0 1.5628039641098191e-15\n",
       "      B : -12.761262799999997 22.103155538338676 1.5628039641098191e-15\n",
       "      C : 0.0 0.0 14.879004\n",
       "    pbc : True True True\n",
       "PeriodicSite: X0+ (-4.7727, 15.6490, 3.7198) [0.1670, 0.7080, 0.2500]\n",
       "PeriodicSite: Se (-4.7855, 17.4983, 2.1549) [0.2083, 0.7917, 0.1448]\n",
       "PeriodicSite: Se (-0.0000, 20.2612, 5.2846) [0.4583, 0.9167, 0.3552]"
      ]
     },
     "execution_count": 7,
     "metadata": {},
     "output_type": "execute_result"
    }
   ],
   "source": [
    "structures_2.iloc[0].defect_representation"
   ]
  },
  {
   "cell_type": "code",
   "execution_count": 8,
   "metadata": {},
   "outputs": [
    {
     "data": {
      "text/plain": [
       "Structure Summary\n",
       "Lattice\n",
       "    abc : 25.5225256 25.5225256 14.879004\n",
       " angles : 90.0 90.0 119.99999999999999\n",
       " volume : 8393.668021812642\n",
       "      A : 25.5225256 0.0 1.5628039641098191e-15\n",
       "      B : -12.761262799999997 22.103155538338676 1.5628039641098191e-15\n",
       "      C : 0.0 0.0 14.879004\n",
       "    pbc : True True True\n",
       "PeriodicSite: X0+ (4.7982, 21.1748, 3.7198) [0.6670, 0.9580, 0.2500]\n",
       "PeriodicSite: Se (-0.0000, 20.2612, 2.1549) [0.4583, 0.9167, 0.1448]\n",
       "PeriodicSite: Se (3.1903, 14.7354, 5.2846) [0.4583, 0.6667, 0.3552]"
      ]
     },
     "execution_count": 8,
     "metadata": {},
     "output_type": "execute_result"
    }
   ],
   "source": [
    "structures_1.iloc[0].defect_representation"
   ]
  },
  {
   "cell_type": "code",
   "execution_count": 9,
   "metadata": {},
   "outputs": [
    {
     "data": {
      "text/plain": [
       "Structure Summary\n",
       "Lattice\n",
       "    abc : 25.5225256 25.5225256 14.879004\n",
       " angles : 90.0 90.0 119.99999999999999\n",
       " volume : 8393.668021812642\n",
       "      A : 25.5225256 0.0 1.5628039641098191e-15\n",
       "      B : -12.761262799999997 22.103155538338676 1.5628039641098191e-15\n",
       "      C : 0.0 0.0 14.879004\n",
       "    pbc : True True True\n",
       "PeriodicSite: X0+ (9.5837, 18.4119, 3.7198) [0.7920, 0.8330, 0.2500]\n",
       "PeriodicSite: Se (12.7613, 14.7354, 2.1549) [0.8333, 0.6667, 0.1448]\n",
       "PeriodicSite: Se (17.5467, 0.9210, 5.2846) [0.7083, 0.0417, 0.3552]"
      ]
     },
     "execution_count": 9,
     "metadata": {},
     "output_type": "execute_result"
    }
   ],
   "source": [
    "structures_1.iloc[1].defect_representation"
   ]
  },
  {
   "cell_type": "code",
   "execution_count": 15,
   "metadata": {},
   "outputs": [
    {
     "name": "stdout",
     "output_type": "stream",
     "text": [
      "True\n",
      "True\n"
     ]
    }
   ],
   "source": [
    "for structure_one in structures_1.defect_representation:\n",
    "    for structure_two in structures_2.defect_representation:\n",
    "        matcher = StructureMatcher()\n",
    "        print(matcher.fit(structure_one, structure_two))"
   ]
  },
  {
   "cell_type": "code",
   "execution_count": 16,
   "metadata": {},
   "outputs": [
    {
     "name": "stdout",
     "output_type": "stream",
     "text": [
      "False\n",
      "False\n"
     ]
    }
   ],
   "source": [
    "for structure_one in structures_1.initial_structure:\n",
    "    for structure_two in structures_2.initial_structure:\n",
    "        matcher = StructureMatcher()\n",
    "        print(matcher.fit(structure_one, structure_two))"
   ]
  },
  {
   "cell_type": "code",
   "execution_count": 11,
   "metadata": {},
   "outputs": [],
   "source": [
    "from ase.visualize import view\n",
    "#view(AseAtomsAdaptor().get_atoms(structures_1.iloc[0].defect_representation), viewer='x3d')"
   ]
  },
  {
   "cell_type": "code",
   "execution_count": 12,
   "metadata": {},
   "outputs": [],
   "source": [
    "import numpy as np"
   ]
  },
  {
   "cell_type": "code",
   "execution_count": 13,
   "metadata": {},
   "outputs": [
    {
     "data": {
      "text/plain": [
       "'1.23.0'"
      ]
     },
     "execution_count": 13,
     "metadata": {},
     "output_type": "execute_result"
    }
   ],
   "source": [
    "np.__version__"
   ]
  },
  {
   "cell_type": "code",
   "execution_count": 14,
   "metadata": {},
   "outputs": [],
   "source": [
    "#view(AseAtomsAdaptor().get_atoms(structures_2.iloc[0].defect_representation), viewer='x3d')"
   ]
  }
 ],
 "metadata": {
  "kernelspec": {
   "display_name": "2d-defects-potential-learning-pYjw2mkT-py3.11",
   "language": "python",
   "name": "python3"
  },
  "language_info": {
   "codemirror_mode": {
    "name": "ipython",
    "version": 3
   },
   "file_extension": ".py",
   "mimetype": "text/x-python",
   "name": "python",
   "nbconvert_exporter": "python",
   "pygments_lexer": "ipython3",
   "version": "3.11.1 (main, Jan  6 2023, 00:00:00) [GCC 12.2.1 20221121 (Red Hat 12.2.1-4)]"
  },
  "orig_nbformat": 4,
  "vscode": {
   "interpreter": {
    "hash": "b7f1ae32ff568acf3a4ed0e583019b9cd07b21ad74e605553786f2f71d3b4074"
   }
  }
 },
 "nbformat": 4,
 "nbformat_minor": 2
}
