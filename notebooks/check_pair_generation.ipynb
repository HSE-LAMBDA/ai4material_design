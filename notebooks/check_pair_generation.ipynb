{
 "cells": [
  {
   "cell_type": "code",
   "execution_count": 1,
   "metadata": {},
   "outputs": [],
   "source": [
    "import pandas as pd\n",
    "import sys\n",
    "from pymatgen.core import Structure\n",
    "\n",
    "sys.path.append(\"../..\")\n",
    "from ai4material_design.ai4mat.data.data import StorageResolver, read_defects_descriptions"
   ]
  },
  {
   "cell_type": "code",
   "execution_count": 2,
   "metadata": {},
   "outputs": [],
   "source": [
    "existing_descriptions = read_defects_descriptions(StorageResolver()[\"csv_cif\"]/\"low_density_defects/MoS2\")\n",
    "existing_structures = pd.read_pickle(StorageResolver()[\"processed\"]/\"low_density_defects/MoS2/data.pickle.gz\")"
   ]
  },
  {
   "cell_type": "code",
   "execution_count": 3,
   "metadata": {},
   "outputs": [
    {
     "data": {
      "text/plain": [
       "[{'type': 'vacancy', 'element': 'Mo'}, {'type': 'vacancy', 'element': 'S'}]"
      ]
     },
     "execution_count": 3,
     "metadata": {},
     "output_type": "execute_result"
    }
   ],
   "source": [
    "defect_id = \"6141cf1102d926221cabc543\" # Manually found! Searching a list of unhashable dicts is not nice\n",
    "existing_descriptions.loc[defect_id].defects"
   ]
  },
  {
   "cell_type": "code",
   "execution_count": 4,
   "metadata": {},
   "outputs": [],
   "source": [
    "existing_structures_V2 = existing_structures[existing_structures.descriptor_id == defect_id]"
   ]
  },
  {
   "cell_type": "code",
   "execution_count": 5,
   "metadata": {},
   "outputs": [
    {
     "name": "stdout",
     "output_type": "stream",
     "text": [
      "Found match!\n",
      "Found match!\n",
      "Found match!\n",
      "Found match!\n",
      "Found match!\n",
      "Found match!\n",
      "Found match!\n",
      "Found match!\n",
      "Found match!\n",
      "Found match!\n",
      "Found match!\n",
      "Found match!\n",
      "Found match!\n",
      "Found match!\n",
      "Found match!\n"
     ]
    }
   ],
   "source": [
    "poscar_path = StorageResolver()[\"poscars\"]/\"vacancy_pairs\"/\"MoS2\"/\"poscars\"\n",
    "for i, poscar in enumerate(poscar_path.iterdir()):\n",
    "    structure = Structure.from_file(poscar)\n",
    "    found = False\n",
    "    for candidate in existing_structures_V2.initial_structure.values:\n",
    "        if candidate.matches(structure):\n",
    "            print(\"Found match!\")\n",
    "            found = True\n",
    "            break\n",
    "    if not found:\n",
    "        print(\"No match found!\")\n",
    "    "
   ]
  },
  {
   "cell_type": "code",
   "execution_count": 7,
   "metadata": {},
   "outputs": [
    {
     "name": "stdout",
     "output_type": "stream",
     "text": [
      "14 15\n"
     ]
    }
   ],
   "source": [
    "print(i, len(existing_structures_V2))"
   ]
  }
 ],
 "metadata": {
  "kernelspec": {
   "display_name": "2d-defects-potential-learning-2BE-jmS5-py3.10",
   "language": "python",
   "name": "python3"
  },
  "language_info": {
   "codemirror_mode": {
    "name": "ipython",
    "version": 3
   },
   "file_extension": ".py",
   "mimetype": "text/x-python",
   "name": "python",
   "nbconvert_exporter": "python",
   "pygments_lexer": "ipython3",
   "version": "3.10.9"
  },
  "orig_nbformat": 4,
  "vscode": {
   "interpreter": {
    "hash": "ce2c7b027e4933469335f0842797773afbede2a8d7fe2d378de994749bd89235"
   }
  }
 },
 "nbformat": 4,
 "nbformat_minor": 2
}
