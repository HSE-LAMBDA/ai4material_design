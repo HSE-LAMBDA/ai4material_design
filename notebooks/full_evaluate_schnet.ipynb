{
 "cells": [
  {
   "cell_type": "code",
   "execution_count": 2,
   "id": "952884e7",
   "metadata": {},
   "outputs": [],
   "source": [
    "%config Completer.use_jedi=False"
   ]
  },
  {
   "cell_type": "code",
   "execution_count": 3,
   "id": "bf89dccb",
   "metadata": {},
   "outputs": [],
   "source": [
    "import numpy as np\n",
    "import pandas as pd\n",
    "from tqdm import tqdm\n",
    "import os\n",
    "from sklearn.model_selection import train_test_split\n",
    "\n",
    "from ruslan_nn.schnet import SchNet\n",
    "import pickle\n",
    "import wandb"
   ]
  },
  {
   "cell_type": "code",
   "execution_count": 4,
   "id": "2a38b6b6",
   "metadata": {},
   "outputs": [],
   "source": [
    "targets = pd.read_csv('ruslan_nn/properties16k.csv')\n",
    "label=targets['energy_per_atom']"
   ]
  },
  {
   "cell_type": "code",
   "execution_count": 5,
   "id": "671bd5a2",
   "metadata": {},
   "outputs": [],
   "source": [
    "with open('ruslan_nn/structures16k.pickle', 'rb') as file:\n",
    "    structures = pickle.load(file)"
   ]
  },
  {
   "cell_type": "code",
   "execution_count": 6,
   "id": "7cd74cf5",
   "metadata": {},
   "outputs": [
    {
     "name": "stderr",
     "output_type": "stream",
     "text": [
      "100%|██████████| 14718/14718 [00:25<00:00, 584.43it/s]\n"
     ]
    }
   ],
   "source": [
    "from torch_geometric.data import Data\n",
    "import torch\n",
    "import ase\n",
    "from pymatgen.io.ase import AseAtomsAdaptor\n",
    "\n",
    "i=0\n",
    "data_atoms = []\n",
    "for _id in tqdm(targets._id):\n",
    "    atoms=AseAtomsAdaptor.get_atoms(structures[str(_id)])\n",
    "    # set the atomic numbers, positions, and cell\n",
    "    atom = torch.Tensor(atoms.get_atomic_numbers())\n",
    "    positions = torch.Tensor(atoms.get_positions())\n",
    "    natoms = positions.shape[0]\n",
    "    \n",
    "    # put the minimum data in torch geometric data object\n",
    "    data = Data(\n",
    "        pos=positions,\n",
    "        z= atom,\n",
    "       # natoms=natoms,\n",
    "    )\n",
    "    \n",
    "    # calculate energy\n",
    "    data.y = label[i]\n",
    "    i=i+1\n",
    "    data_atoms.append(data)"
   ]
  },
  {
   "cell_type": "code",
   "execution_count": 7,
   "id": "a15f7e23",
   "metadata": {},
   "outputs": [],
   "source": [
    "from torch_geometric.data import DataLoader\n",
    "train_dataset, test_dataset = train_test_split(data_atoms, test_size=0.2)\n",
    "train_loader = DataLoader(train_dataset, batch_size=32, shuffle=True)\n",
    "test_loader = DataLoader(test_dataset, batch_size=32)"
   ]
  },
  {
   "cell_type": "code",
   "execution_count": 13,
   "id": "2cc5e89b",
   "metadata": {},
   "outputs": [
    {
     "data": {
      "text/html": [
       "Finishing last run (ID:2dkzj3b8) before initializing another..."
      ],
      "text/plain": [
       "<IPython.core.display.HTML object>"
      ]
     },
     "metadata": {},
     "output_type": "display_data"
    },
    {
     "data": {
      "text/html": [
       "<br/>Waiting for W&B process to finish, PID 126063... <strong style=\"color:green\">(success).</strong>"
      ],
      "text/plain": [
       "<IPython.core.display.HTML object>"
      ]
     },
     "metadata": {},
     "output_type": "display_data"
    },
    {
     "data": {
      "application/vnd.jupyter.widget-view+json": {
       "model_id": "",
       "version_major": 2,
       "version_minor": 0
      },
      "text/plain": [
       "VBox(children=(Label(value=' 0.00MB of 0.00MB uploaded (0.00MB deduped)\\r'), FloatProgress(value=1.0, max=1.0)…"
      ]
     },
     "metadata": {},
     "output_type": "display_data"
    },
    {
     "data": {
      "text/html": [
       "<style>\n",
       "    table.wandb td:nth-child(1) { padding: 0 10px; text-align: right }\n",
       "    .wandb-row { display: flex; flex-direction: row; flex-wrap: wrap; width: 100% }\n",
       "    .wandb-col { display: flex; flex-direction: column; flex-basis: 100%; flex: 1; padding: 10px; }\n",
       "    </style>\n",
       "<div class=\"wandb-row\"><div class=\"wandb-col\">\n",
       "</div><div class=\"wandb-col\">\n",
       "</div></div>\n",
       "Synced 5 W&B file(s), 0 media file(s), 0 artifact file(s) and 0 other file(s)\n",
       "<br/>Synced <strong style=\"color:#cdcd00\">baseline2</strong>: <a href=\"https://wandb.ai/inno-materials-ai/schnet_dichalcogenides/runs/2dkzj3b8\" target=\"_blank\">https://wandb.ai/inno-materials-ai/schnet_dichalcogenides/runs/2dkzj3b8</a><br/>\n",
       "Find logs at: <code>./wandb/run-20211124_133245-2dkzj3b8/logs</code><br/>\n"
      ],
      "text/plain": [
       "<IPython.core.display.HTML object>"
      ]
     },
     "metadata": {},
     "output_type": "display_data"
    },
    {
     "data": {
      "text/html": [
       "Successfully finished last run (ID:2dkzj3b8). Initializing new run:<br/>"
      ],
      "text/plain": [
       "<IPython.core.display.HTML object>"
      ]
     },
     "metadata": {},
     "output_type": "display_data"
    },
    {
     "data": {
      "text/html": [
       "\n",
       "                    Syncing run <strong><a href=\"https://wandb.ai/inno-materials-ai/schnet_dichalcogenides/runs/1vahpkko\" target=\"_blank\">baseline</a></strong> to <a href=\"https://wandb.ai/inno-materials-ai/schnet_dichalcogenides\" target=\"_blank\">Weights & Biases</a> (<a href=\"https://docs.wandb.com/integrations/jupyter.html\" target=\"_blank\">docs</a>).<br/>\n",
       "\n",
       "                "
      ],
      "text/plain": [
       "<IPython.core.display.HTML object>"
      ]
     },
     "metadata": {},
     "output_type": "display_data"
    },
    {
     "data": {
      "text/html": [
       "<button onClick=\"this.nextSibling.style.display='block';this.style.display='none';\">Display W&B run</button><iframe src=\"https://wandb.ai/inno-materials-ai/schnet_dichalcogenides/runs/1vahpkko?jupyter=true\" style=\"border:none;width:100%;height:420px;display:none;\"></iframe>"
      ],
      "text/plain": [
       "<wandb.sdk.wandb_run.Run at 0x7fe18904c710>"
      ]
     },
     "execution_count": 13,
     "metadata": {},
     "output_type": "execute_result"
    }
   ],
   "source": [
    "wandb.init(\n",
    "    project=\"schnet_dichalcogenides\", entity=\"inno-materials-ai\", save_code=True, name='baseline'\n",
    ")"
   ]
  },
  {
   "cell_type": "code",
   "execution_count": 14,
   "id": "d77a32d3",
   "metadata": {
    "scrolled": true
   },
   "outputs": [],
   "source": [
    "model=SchNet()\n",
    "device = 'cuda:0' if torch.cuda.is_available() else 'cpu'\n",
    "model = model.to(device)\n",
    "\n",
    "optimizer = torch.optim.AdamW(model.parameters(), lr=1e-4)\n",
    "epochs = 200\n",
    "\n",
    "loss_func = torch.nn.L1Loss() #define loss\n",
    "scheduler = torch.optim.lr_scheduler.OneCycleLR(optimizer, epochs=epochs,\n",
    "                                                steps_per_epoch=len(train_loader),\n",
    "                                                max_lr=1e-3)"
   ]
  },
  {
   "cell_type": "code",
   "execution_count": null,
   "id": "6a576524",
   "metadata": {},
   "outputs": [
    {
     "name": "stderr",
     "output_type": "stream",
     "text": [
      "100%|██████████| 368/368 [01:31<00:00,  4.04it/s]\n",
      "100%|██████████| 92/92 [00:12<00:00,  7.50it/s]\n"
     ]
    },
    {
     "name": "stdout",
     "output_type": "stream",
     "text": [
      "Epoch: 000, Average loss: 0.30561\n",
      "Epoch: 000, Average loss: 0.04736\n"
     ]
    },
    {
     "name": "stderr",
     "output_type": "stream",
     "text": [
      "100%|██████████| 368/368 [01:33<00:00,  3.94it/s]\n",
      "100%|██████████| 92/92 [00:12<00:00,  7.17it/s]\n"
     ]
    },
    {
     "name": "stdout",
     "output_type": "stream",
     "text": [
      "Epoch: 001, Average loss: 0.04068\n",
      "Epoch: 001, Average loss: 0.03534\n"
     ]
    },
    {
     "name": "stderr",
     "output_type": "stream",
     "text": [
      "100%|██████████| 368/368 [01:35<00:00,  3.85it/s]\n",
      "100%|██████████| 92/92 [00:12<00:00,  7.30it/s]\n"
     ]
    },
    {
     "name": "stdout",
     "output_type": "stream",
     "text": [
      "Epoch: 002, Average loss: 0.03528\n",
      "Epoch: 002, Average loss: 0.03318\n"
     ]
    },
    {
     "name": "stderr",
     "output_type": "stream",
     "text": [
      "100%|██████████| 368/368 [01:35<00:00,  3.85it/s]\n",
      "100%|██████████| 92/92 [00:12<00:00,  7.09it/s]\n"
     ]
    },
    {
     "name": "stdout",
     "output_type": "stream",
     "text": [
      "Epoch: 003, Average loss: 0.03064\n",
      "Epoch: 003, Average loss: 0.03057\n"
     ]
    },
    {
     "name": "stderr",
     "output_type": "stream",
     "text": [
      "100%|██████████| 368/368 [01:16<00:00,  4.82it/s]\n",
      "100%|██████████| 92/92 [00:03<00:00, 29.13it/s]\n"
     ]
    },
    {
     "name": "stdout",
     "output_type": "stream",
     "text": [
      "Epoch: 004, Average loss: 0.03046\n",
      "Epoch: 004, Average loss: 0.02780\n"
     ]
    },
    {
     "name": "stderr",
     "output_type": "stream",
     "text": [
      "100%|██████████| 368/368 [00:31<00:00, 11.71it/s]\n",
      "100%|██████████| 92/92 [00:03<00:00, 28.71it/s]\n"
     ]
    },
    {
     "name": "stdout",
     "output_type": "stream",
     "text": [
      "Epoch: 005, Average loss: 0.03144\n",
      "Epoch: 005, Average loss: 0.04568\n"
     ]
    },
    {
     "name": "stderr",
     "output_type": "stream",
     "text": [
      "100%|██████████| 368/368 [00:31<00:00, 11.73it/s]\n",
      "100%|██████████| 92/92 [00:03<00:00, 28.74it/s]\n"
     ]
    },
    {
     "name": "stdout",
     "output_type": "stream",
     "text": [
      "Epoch: 006, Average loss: 0.04480\n",
      "Epoch: 006, Average loss: 0.05676\n"
     ]
    },
    {
     "name": "stderr",
     "output_type": "stream",
     "text": [
      "100%|██████████| 368/368 [01:25<00:00,  4.28it/s]\n",
      "100%|██████████| 92/92 [00:11<00:00,  7.85it/s]\n"
     ]
    },
    {
     "name": "stdout",
     "output_type": "stream",
     "text": [
      "Epoch: 007, Average loss: 0.03729\n",
      "Epoch: 007, Average loss: 0.07327\n"
     ]
    },
    {
     "name": "stderr",
     "output_type": "stream",
     "text": [
      "100%|██████████| 368/368 [01:29<00:00,  4.13it/s]\n",
      "100%|██████████| 92/92 [00:09<00:00,  9.97it/s]\n"
     ]
    },
    {
     "name": "stdout",
     "output_type": "stream",
     "text": [
      "Epoch: 008, Average loss: 0.03390\n",
      "Epoch: 008, Average loss: 0.03934\n"
     ]
    },
    {
     "name": "stderr",
     "output_type": "stream",
     "text": [
      "100%|██████████| 368/368 [01:28<00:00,  4.14it/s]\n",
      "100%|██████████| 92/92 [00:12<00:00,  7.34it/s]\n"
     ]
    },
    {
     "name": "stdout",
     "output_type": "stream",
     "text": [
      "Epoch: 009, Average loss: 0.02750\n",
      "Epoch: 009, Average loss: 0.03413\n"
     ]
    },
    {
     "name": "stderr",
     "output_type": "stream",
     "text": [
      "100%|██████████| 368/368 [01:26<00:00,  4.24it/s]\n",
      "100%|██████████| 92/92 [00:13<00:00,  6.76it/s]\n"
     ]
    },
    {
     "name": "stdout",
     "output_type": "stream",
     "text": [
      "Epoch: 010, Average loss: 0.04253\n",
      "Epoch: 010, Average loss: 0.05024\n"
     ]
    },
    {
     "name": "stderr",
     "output_type": "stream",
     "text": [
      "100%|██████████| 368/368 [01:27<00:00,  4.23it/s]\n",
      "100%|██████████| 92/92 [00:12<00:00,  7.63it/s]\n"
     ]
    },
    {
     "name": "stdout",
     "output_type": "stream",
     "text": [
      "Epoch: 011, Average loss: 0.04575\n",
      "Epoch: 011, Average loss: 0.08276\n"
     ]
    },
    {
     "name": "stderr",
     "output_type": "stream",
     "text": [
      "100%|██████████| 368/368 [01:31<00:00,  4.04it/s]\n",
      "100%|██████████| 92/92 [00:09<00:00,  9.36it/s]\n"
     ]
    },
    {
     "name": "stdout",
     "output_type": "stream",
     "text": [
      "Epoch: 012, Average loss: 0.04401\n",
      "Epoch: 012, Average loss: 0.09564\n"
     ]
    },
    {
     "name": "stderr",
     "output_type": "stream",
     "text": [
      "100%|██████████| 368/368 [01:26<00:00,  4.26it/s]\n",
      "100%|██████████| 92/92 [00:11<00:00,  8.25it/s]\n"
     ]
    },
    {
     "name": "stdout",
     "output_type": "stream",
     "text": [
      "Epoch: 013, Average loss: 0.04873\n",
      "Epoch: 013, Average loss: 0.03322\n"
     ]
    },
    {
     "name": "stderr",
     "output_type": "stream",
     "text": [
      "100%|██████████| 368/368 [01:19<00:00,  4.65it/s]\n",
      "100%|██████████| 92/92 [00:11<00:00,  8.03it/s]\n"
     ]
    },
    {
     "name": "stdout",
     "output_type": "stream",
     "text": [
      "Epoch: 014, Average loss: 0.04340\n",
      "Epoch: 014, Average loss: 0.05577\n"
     ]
    },
    {
     "name": "stderr",
     "output_type": "stream",
     "text": [
      "100%|██████████| 368/368 [01:13<00:00,  5.01it/s]\n",
      "100%|██████████| 92/92 [00:09<00:00, 10.14it/s]\n"
     ]
    },
    {
     "name": "stdout",
     "output_type": "stream",
     "text": [
      "Epoch: 015, Average loss: 0.04247\n",
      "Epoch: 015, Average loss: 0.05367\n"
     ]
    },
    {
     "name": "stderr",
     "output_type": "stream",
     "text": [
      "100%|██████████| 368/368 [01:02<00:00,  5.92it/s]\n",
      "100%|██████████| 92/92 [00:08<00:00, 10.46it/s]\n"
     ]
    },
    {
     "name": "stdout",
     "output_type": "stream",
     "text": [
      "Epoch: 016, Average loss: 0.05453\n",
      "Epoch: 016, Average loss: 0.03741\n"
     ]
    },
    {
     "name": "stderr",
     "output_type": "stream",
     "text": [
      "100%|██████████| 368/368 [01:20<00:00,  4.58it/s]\n",
      "100%|██████████| 92/92 [00:10<00:00,  8.66it/s]\n"
     ]
    },
    {
     "name": "stdout",
     "output_type": "stream",
     "text": [
      "Epoch: 017, Average loss: 0.04007\n",
      "Epoch: 017, Average loss: 0.06679\n"
     ]
    },
    {
     "name": "stderr",
     "output_type": "stream",
     "text": [
      "100%|██████████| 368/368 [00:53<00:00,  6.89it/s]\n",
      "100%|██████████| 92/92 [00:03<00:00, 29.10it/s]\n"
     ]
    },
    {
     "name": "stdout",
     "output_type": "stream",
     "text": [
      "Epoch: 018, Average loss: 0.03953\n",
      "Epoch: 018, Average loss: 0.01721\n"
     ]
    },
    {
     "name": "stderr",
     "output_type": "stream",
     "text": [
      "100%|██████████| 368/368 [00:31<00:00, 11.74it/s]\n",
      "100%|██████████| 92/92 [00:03<00:00, 28.72it/s]\n"
     ]
    },
    {
     "name": "stdout",
     "output_type": "stream",
     "text": [
      "Epoch: 019, Average loss: 0.05278\n",
      "Epoch: 019, Average loss: 0.02186\n"
     ]
    },
    {
     "name": "stderr",
     "output_type": "stream",
     "text": [
      "100%|██████████| 368/368 [00:45<00:00,  8.14it/s]\n",
      "100%|██████████| 92/92 [00:06<00:00, 13.90it/s]\n"
     ]
    },
    {
     "name": "stdout",
     "output_type": "stream",
     "text": [
      "Epoch: 020, Average loss: 0.05141\n",
      "Epoch: 020, Average loss: 0.01474\n"
     ]
    },
    {
     "name": "stderr",
     "output_type": "stream",
     "text": [
      "100%|██████████| 368/368 [00:53<00:00,  6.91it/s]\n",
      "100%|██████████| 92/92 [00:08<00:00, 10.91it/s]\n"
     ]
    },
    {
     "name": "stdout",
     "output_type": "stream",
     "text": [
      "Epoch: 021, Average loss: 0.04289\n",
      "Epoch: 021, Average loss: 0.06316\n"
     ]
    },
    {
     "name": "stderr",
     "output_type": "stream",
     "text": [
      "100%|██████████| 368/368 [00:58<00:00,  6.25it/s]\n",
      "100%|██████████| 92/92 [00:08<00:00, 11.28it/s]\n"
     ]
    },
    {
     "name": "stdout",
     "output_type": "stream",
     "text": [
      "Epoch: 022, Average loss: 0.05912\n",
      "Epoch: 022, Average loss: 0.02154\n"
     ]
    },
    {
     "name": "stderr",
     "output_type": "stream",
     "text": [
      "100%|██████████| 368/368 [01:11<00:00,  5.16it/s]\n",
      "100%|██████████| 92/92 [00:08<00:00, 10.30it/s]\n"
     ]
    },
    {
     "name": "stdout",
     "output_type": "stream",
     "text": [
      "Epoch: 023, Average loss: 0.03846\n",
      "Epoch: 023, Average loss: 0.03565\n"
     ]
    },
    {
     "name": "stderr",
     "output_type": "stream",
     "text": [
      "100%|██████████| 368/368 [01:10<00:00,  5.25it/s]\n",
      "100%|██████████| 92/92 [00:11<00:00,  8.05it/s]\n"
     ]
    },
    {
     "name": "stdout",
     "output_type": "stream",
     "text": [
      "Epoch: 024, Average loss: 0.04145\n",
      "Epoch: 024, Average loss: 0.03513\n"
     ]
    },
    {
     "name": "stderr",
     "output_type": "stream",
     "text": [
      "100%|██████████| 368/368 [01:07<00:00,  5.42it/s]\n",
      "100%|██████████| 92/92 [00:08<00:00, 11.32it/s]\n"
     ]
    },
    {
     "name": "stdout",
     "output_type": "stream",
     "text": [
      "Epoch: 025, Average loss: 0.03836\n",
      "Epoch: 025, Average loss: 0.02621\n"
     ]
    },
    {
     "name": "stderr",
     "output_type": "stream",
     "text": [
      "100%|██████████| 368/368 [01:16<00:00,  4.83it/s]\n",
      "100%|██████████| 92/92 [00:13<00:00,  7.03it/s]\n"
     ]
    },
    {
     "name": "stdout",
     "output_type": "stream",
     "text": [
      "Epoch: 026, Average loss: 0.04229\n",
      "Epoch: 026, Average loss: 0.01197\n"
     ]
    },
    {
     "name": "stderr",
     "output_type": "stream",
     "text": [
      "100%|██████████| 368/368 [01:36<00:00,  3.81it/s]\n",
      "100%|██████████| 92/92 [00:12<00:00,  7.14it/s]\n"
     ]
    },
    {
     "name": "stdout",
     "output_type": "stream",
     "text": [
      "Epoch: 027, Average loss: 0.04317\n",
      "Epoch: 027, Average loss: 0.03716\n"
     ]
    },
    {
     "name": "stderr",
     "output_type": "stream",
     "text": [
      "100%|██████████| 368/368 [01:11<00:00,  5.18it/s]\n",
      "100%|██████████| 92/92 [00:10<00:00,  8.66it/s]\n"
     ]
    },
    {
     "name": "stdout",
     "output_type": "stream",
     "text": [
      "Epoch: 028, Average loss: 0.04571\n",
      "Epoch: 028, Average loss: 0.03113\n"
     ]
    },
    {
     "name": "stderr",
     "output_type": "stream",
     "text": [
      "100%|██████████| 368/368 [01:21<00:00,  4.54it/s]\n",
      "100%|██████████| 92/92 [00:11<00:00,  8.26it/s]\n"
     ]
    },
    {
     "name": "stdout",
     "output_type": "stream",
     "text": [
      "Epoch: 029, Average loss: 0.04053\n",
      "Epoch: 029, Average loss: 0.05846\n"
     ]
    },
    {
     "name": "stderr",
     "output_type": "stream",
     "text": [
      "100%|██████████| 368/368 [01:18<00:00,  4.67it/s]\n",
      "100%|██████████| 92/92 [00:09<00:00,  9.64it/s]\n"
     ]
    },
    {
     "name": "stdout",
     "output_type": "stream",
     "text": [
      "Epoch: 030, Average loss: 0.04354\n",
      "Epoch: 030, Average loss: 0.04699\n"
     ]
    },
    {
     "name": "stderr",
     "output_type": "stream",
     "text": [
      "100%|██████████| 368/368 [01:17<00:00,  4.73it/s]\n",
      "100%|██████████| 92/92 [00:10<00:00,  8.66it/s]\n"
     ]
    },
    {
     "name": "stdout",
     "output_type": "stream",
     "text": [
      "Epoch: 031, Average loss: 0.03317\n",
      "Epoch: 031, Average loss: 0.02657\n"
     ]
    },
    {
     "name": "stderr",
     "output_type": "stream",
     "text": [
      "100%|██████████| 368/368 [01:19<00:00,  4.60it/s]\n",
      "100%|██████████| 92/92 [00:10<00:00,  9.16it/s]\n"
     ]
    },
    {
     "name": "stdout",
     "output_type": "stream",
     "text": [
      "Epoch: 032, Average loss: 0.02885\n",
      "Epoch: 032, Average loss: 0.01759\n"
     ]
    },
    {
     "name": "stderr",
     "output_type": "stream",
     "text": [
      "100%|██████████| 368/368 [00:44<00:00,  8.31it/s]\n",
      "100%|██████████| 92/92 [00:03<00:00, 29.92it/s]\n"
     ]
    },
    {
     "name": "stdout",
     "output_type": "stream",
     "text": [
      "Epoch: 033, Average loss: 0.02276\n",
      "Epoch: 033, Average loss: 0.00951\n"
     ]
    },
    {
     "name": "stderr",
     "output_type": "stream",
     "text": [
      "100%|██████████| 368/368 [00:31<00:00, 11.79it/s]\n",
      "100%|██████████| 92/92 [00:03<00:00, 29.46it/s]\n"
     ]
    },
    {
     "name": "stdout",
     "output_type": "stream",
     "text": [
      "Epoch: 034, Average loss: 0.03179\n",
      "Epoch: 034, Average loss: 0.02460\n"
     ]
    },
    {
     "name": "stderr",
     "output_type": "stream",
     "text": [
      "100%|██████████| 368/368 [00:31<00:00, 11.71it/s]\n",
      "100%|██████████| 92/92 [00:03<00:00, 29.51it/s]\n"
     ]
    },
    {
     "name": "stdout",
     "output_type": "stream",
     "text": [
      "Epoch: 035, Average loss: 0.02847\n",
      "Epoch: 035, Average loss: 0.01344\n"
     ]
    },
    {
     "name": "stderr",
     "output_type": "stream",
     "text": [
      "100%|██████████| 368/368 [01:03<00:00,  5.76it/s]\n",
      "100%|██████████| 92/92 [00:06<00:00, 13.35it/s]\n"
     ]
    },
    {
     "name": "stdout",
     "output_type": "stream",
     "text": [
      "Epoch: 036, Average loss: 0.02406\n",
      "Epoch: 036, Average loss: 0.02528\n"
     ]
    },
    {
     "name": "stderr",
     "output_type": "stream",
     "text": [
      "100%|██████████| 368/368 [01:03<00:00,  5.75it/s]\n",
      "100%|██████████| 92/92 [00:09<00:00,  9.78it/s]\n"
     ]
    },
    {
     "name": "stdout",
     "output_type": "stream",
     "text": [
      "Epoch: 037, Average loss: 0.03010\n",
      "Epoch: 037, Average loss: 0.01892\n"
     ]
    },
    {
     "name": "stderr",
     "output_type": "stream",
     "text": [
      "100%|██████████| 368/368 [00:59<00:00,  6.22it/s]\n",
      "100%|██████████| 92/92 [00:08<00:00, 10.62it/s]\n"
     ]
    },
    {
     "name": "stdout",
     "output_type": "stream",
     "text": [
      "Epoch: 038, Average loss: 0.02782\n",
      "Epoch: 038, Average loss: 0.04536\n"
     ]
    },
    {
     "name": "stderr",
     "output_type": "stream",
     "text": [
      "100%|██████████| 368/368 [01:03<00:00,  5.77it/s]\n",
      "100%|██████████| 92/92 [00:08<00:00, 11.47it/s]\n"
     ]
    },
    {
     "name": "stdout",
     "output_type": "stream",
     "text": [
      "Epoch: 039, Average loss: 0.02608\n",
      "Epoch: 039, Average loss: 0.01066\n"
     ]
    },
    {
     "name": "stderr",
     "output_type": "stream",
     "text": [
      "100%|██████████| 368/368 [00:59<00:00,  6.18it/s]\n",
      "100%|██████████| 92/92 [00:09<00:00, 10.00it/s]\n"
     ]
    },
    {
     "name": "stdout",
     "output_type": "stream",
     "text": [
      "Epoch: 040, Average loss: 0.02694\n",
      "Epoch: 040, Average loss: 0.01492\n"
     ]
    },
    {
     "name": "stderr",
     "output_type": "stream",
     "text": [
      "100%|██████████| 368/368 [01:04<00:00,  5.73it/s]\n",
      "100%|██████████| 92/92 [00:08<00:00, 10.31it/s]\n"
     ]
    },
    {
     "name": "stdout",
     "output_type": "stream",
     "text": [
      "Epoch: 041, Average loss: 0.02229\n",
      "Epoch: 041, Average loss: 0.01839\n"
     ]
    },
    {
     "name": "stderr",
     "output_type": "stream",
     "text": [
      "100%|██████████| 368/368 [01:05<00:00,  5.64it/s]\n",
      "100%|██████████| 92/92 [00:06<00:00, 14.07it/s]\n"
     ]
    },
    {
     "name": "stdout",
     "output_type": "stream",
     "text": [
      "Epoch: 042, Average loss: 0.02398\n",
      "Epoch: 042, Average loss: 0.01110\n"
     ]
    },
    {
     "name": "stderr",
     "output_type": "stream",
     "text": [
      "100%|██████████| 368/368 [00:54<00:00,  6.73it/s]\n",
      "100%|██████████| 92/92 [00:06<00:00, 14.02it/s]\n"
     ]
    },
    {
     "name": "stdout",
     "output_type": "stream",
     "text": [
      "Epoch: 043, Average loss: 0.02233\n",
      "Epoch: 043, Average loss: 0.00824\n"
     ]
    },
    {
     "name": "stderr",
     "output_type": "stream",
     "text": [
      "100%|██████████| 368/368 [01:01<00:00,  5.98it/s]\n",
      "100%|██████████| 92/92 [00:10<00:00,  9.04it/s]\n"
     ]
    },
    {
     "name": "stdout",
     "output_type": "stream",
     "text": [
      "Epoch: 044, Average loss: 0.02413\n",
      "Epoch: 044, Average loss: 0.00571\n"
     ]
    },
    {
     "name": "stderr",
     "output_type": "stream",
     "text": [
      "100%|██████████| 368/368 [01:03<00:00,  5.79it/s]\n",
      "100%|██████████| 92/92 [00:07<00:00, 12.30it/s]\n"
     ]
    },
    {
     "name": "stdout",
     "output_type": "stream",
     "text": [
      "Epoch: 045, Average loss: 0.02329\n",
      "Epoch: 045, Average loss: 0.01025\n"
     ]
    },
    {
     "name": "stderr",
     "output_type": "stream",
     "text": [
      "100%|██████████| 368/368 [01:03<00:00,  5.82it/s]\n",
      "100%|██████████| 92/92 [00:11<00:00,  8.19it/s]\n"
     ]
    },
    {
     "name": "stdout",
     "output_type": "stream",
     "text": [
      "Epoch: 046, Average loss: 0.02345\n",
      "Epoch: 046, Average loss: 0.00818\n"
     ]
    },
    {
     "name": "stderr",
     "output_type": "stream",
     "text": [
      "100%|██████████| 368/368 [01:05<00:00,  5.60it/s]\n",
      "100%|██████████| 92/92 [00:11<00:00,  7.98it/s]\n"
     ]
    },
    {
     "name": "stdout",
     "output_type": "stream",
     "text": [
      "Epoch: 047, Average loss: 0.02067\n",
      "Epoch: 047, Average loss: 0.03958\n"
     ]
    },
    {
     "name": "stderr",
     "output_type": "stream",
     "text": [
      "100%|██████████| 368/368 [01:15<00:00,  4.88it/s]\n",
      "100%|██████████| 92/92 [00:08<00:00, 10.77it/s]\n"
     ]
    },
    {
     "name": "stdout",
     "output_type": "stream",
     "text": [
      "Epoch: 048, Average loss: 0.02127\n",
      "Epoch: 048, Average loss: 0.04844\n"
     ]
    },
    {
     "name": "stderr",
     "output_type": "stream",
     "text": [
      "100%|██████████| 368/368 [01:05<00:00,  5.65it/s]\n",
      "100%|██████████| 92/92 [00:05<00:00, 18.19it/s]\n"
     ]
    },
    {
     "name": "stdout",
     "output_type": "stream",
     "text": [
      "Epoch: 049, Average loss: 0.02307\n",
      "Epoch: 049, Average loss: 0.03100\n"
     ]
    },
    {
     "name": "stderr",
     "output_type": "stream",
     "text": [
      "100%|██████████| 368/368 [01:08<00:00,  5.37it/s]\n",
      "100%|██████████| 92/92 [00:03<00:00, 29.49it/s]\n"
     ]
    },
    {
     "name": "stdout",
     "output_type": "stream",
     "text": [
      "Epoch: 050, Average loss: 0.02051\n",
      "Epoch: 050, Average loss: 0.02548\n"
     ]
    },
    {
     "name": "stderr",
     "output_type": "stream",
     "text": [
      "100%|██████████| 368/368 [00:31<00:00, 11.82it/s]\n",
      "100%|██████████| 92/92 [00:03<00:00, 29.39it/s]\n"
     ]
    },
    {
     "name": "stdout",
     "output_type": "stream",
     "text": [
      "Epoch: 051, Average loss: 0.02195\n",
      "Epoch: 051, Average loss: 0.02478\n"
     ]
    },
    {
     "name": "stderr",
     "output_type": "stream",
     "text": [
      "100%|██████████| 368/368 [00:31<00:00, 11.75it/s]\n",
      "100%|██████████| 92/92 [00:03<00:00, 29.45it/s]\n"
     ]
    },
    {
     "name": "stdout",
     "output_type": "stream",
     "text": [
      "Epoch: 052, Average loss: 0.02066\n",
      "Epoch: 052, Average loss: 0.02153\n"
     ]
    },
    {
     "name": "stderr",
     "output_type": "stream",
     "text": [
      "100%|██████████| 368/368 [00:31<00:00, 11.73it/s]\n",
      "100%|██████████| 92/92 [00:03<00:00, 29.33it/s]\n"
     ]
    },
    {
     "name": "stdout",
     "output_type": "stream",
     "text": [
      "Epoch: 053, Average loss: 0.02988\n",
      "Epoch: 053, Average loss: 0.02476\n"
     ]
    },
    {
     "name": "stderr",
     "output_type": "stream",
     "text": [
      "100%|██████████| 368/368 [00:31<00:00, 11.74it/s]\n",
      "100%|██████████| 92/92 [00:03<00:00, 29.43it/s]\n"
     ]
    },
    {
     "name": "stdout",
     "output_type": "stream",
     "text": [
      "Epoch: 054, Average loss: 0.01872\n",
      "Epoch: 054, Average loss: 0.02237\n"
     ]
    },
    {
     "name": "stderr",
     "output_type": "stream",
     "text": [
      "100%|██████████| 368/368 [00:31<00:00, 11.72it/s]\n",
      "100%|██████████| 92/92 [00:03<00:00, 29.25it/s]\n"
     ]
    },
    {
     "name": "stdout",
     "output_type": "stream",
     "text": [
      "Epoch: 055, Average loss: 0.01922\n",
      "Epoch: 055, Average loss: 0.01578\n"
     ]
    },
    {
     "name": "stderr",
     "output_type": "stream",
     "text": [
      "100%|██████████| 368/368 [00:31<00:00, 11.68it/s]\n",
      "100%|██████████| 92/92 [00:03<00:00, 28.56it/s]\n"
     ]
    },
    {
     "name": "stdout",
     "output_type": "stream",
     "text": [
      "Epoch: 056, Average loss: 0.01807\n",
      "Epoch: 056, Average loss: 0.03080\n"
     ]
    },
    {
     "name": "stderr",
     "output_type": "stream",
     "text": [
      "100%|██████████| 368/368 [00:31<00:00, 11.58it/s]\n",
      "100%|██████████| 92/92 [00:03<00:00, 29.07it/s]\n"
     ]
    },
    {
     "name": "stdout",
     "output_type": "stream",
     "text": [
      "Epoch: 057, Average loss: 0.01799\n",
      "Epoch: 057, Average loss: 0.01145\n"
     ]
    },
    {
     "name": "stderr",
     "output_type": "stream",
     "text": [
      "100%|██████████| 368/368 [00:31<00:00, 11.73it/s]\n",
      "100%|██████████| 92/92 [00:03<00:00, 28.95it/s]\n"
     ]
    },
    {
     "name": "stdout",
     "output_type": "stream",
     "text": [
      "Epoch: 058, Average loss: 0.01900\n",
      "Epoch: 058, Average loss: 0.02535\n"
     ]
    },
    {
     "name": "stderr",
     "output_type": "stream",
     "text": [
      "100%|██████████| 368/368 [00:31<00:00, 11.70it/s]\n",
      "100%|██████████| 92/92 [00:03<00:00, 29.19it/s]\n"
     ]
    },
    {
     "name": "stdout",
     "output_type": "stream",
     "text": [
      "Epoch: 059, Average loss: 0.02457\n",
      "Epoch: 059, Average loss: 0.00790\n"
     ]
    },
    {
     "name": "stderr",
     "output_type": "stream",
     "text": [
      "100%|██████████| 368/368 [01:05<00:00,  5.61it/s]\n",
      "100%|██████████| 92/92 [00:11<00:00,  8.33it/s]\n"
     ]
    },
    {
     "name": "stdout",
     "output_type": "stream",
     "text": [
      "Epoch: 060, Average loss: 0.01854\n",
      "Epoch: 060, Average loss: 0.01341\n"
     ]
    },
    {
     "name": "stderr",
     "output_type": "stream",
     "text": [
      "100%|██████████| 368/368 [01:01<00:00,  6.00it/s]\n",
      "100%|██████████| 92/92 [00:10<00:00,  9.07it/s]\n"
     ]
    },
    {
     "name": "stdout",
     "output_type": "stream",
     "text": [
      "Epoch: 061, Average loss: 0.01756\n",
      "Epoch: 061, Average loss: 0.03507\n"
     ]
    },
    {
     "name": "stderr",
     "output_type": "stream",
     "text": [
      "100%|██████████| 368/368 [00:54<00:00,  6.76it/s]\n",
      "100%|██████████| 92/92 [00:05<00:00, 16.14it/s]\n"
     ]
    },
    {
     "name": "stdout",
     "output_type": "stream",
     "text": [
      "Epoch: 062, Average loss: 0.02102\n",
      "Epoch: 062, Average loss: 0.01403\n"
     ]
    },
    {
     "name": "stderr",
     "output_type": "stream",
     "text": [
      "100%|██████████| 368/368 [00:57<00:00,  6.39it/s]\n",
      "100%|██████████| 92/92 [00:04<00:00, 22.43it/s]\n"
     ]
    },
    {
     "name": "stdout",
     "output_type": "stream",
     "text": [
      "Epoch: 063, Average loss: 0.02017\n",
      "Epoch: 063, Average loss: 0.02324\n"
     ]
    },
    {
     "name": "stderr",
     "output_type": "stream",
     "text": [
      "100%|██████████| 368/368 [01:01<00:00,  6.02it/s]\n",
      "100%|██████████| 92/92 [00:08<00:00, 10.83it/s]\n"
     ]
    },
    {
     "name": "stdout",
     "output_type": "stream",
     "text": [
      "Epoch: 064, Average loss: 0.01498\n",
      "Epoch: 064, Average loss: 0.02770\n"
     ]
    },
    {
     "name": "stderr",
     "output_type": "stream",
     "text": [
      "100%|██████████| 368/368 [01:05<00:00,  5.62it/s]\n",
      "100%|██████████| 92/92 [00:08<00:00, 10.51it/s]\n"
     ]
    },
    {
     "name": "stdout",
     "output_type": "stream",
     "text": [
      "Epoch: 065, Average loss: 0.01834\n",
      "Epoch: 065, Average loss: 0.03897\n"
     ]
    },
    {
     "name": "stderr",
     "output_type": "stream",
     "text": [
      "100%|██████████| 368/368 [00:44<00:00,  8.32it/s]\n",
      "100%|██████████| 92/92 [00:03<00:00, 28.35it/s]\n"
     ]
    },
    {
     "name": "stdout",
     "output_type": "stream",
     "text": [
      "Epoch: 066, Average loss: 0.01770\n",
      "Epoch: 066, Average loss: 0.01497\n"
     ]
    },
    {
     "name": "stderr",
     "output_type": "stream",
     "text": [
      "100%|██████████| 368/368 [00:32<00:00, 11.46it/s]\n",
      "100%|██████████| 92/92 [00:03<00:00, 28.68it/s]\n"
     ]
    },
    {
     "name": "stdout",
     "output_type": "stream",
     "text": [
      "Epoch: 067, Average loss: 0.01461\n",
      "Epoch: 067, Average loss: 0.00667\n"
     ]
    },
    {
     "name": "stderr",
     "output_type": "stream",
     "text": [
      "100%|██████████| 368/368 [00:32<00:00, 11.44it/s]\n",
      "100%|██████████| 92/92 [00:03<00:00, 28.72it/s]\n"
     ]
    },
    {
     "name": "stdout",
     "output_type": "stream",
     "text": [
      "Epoch: 068, Average loss: 0.01441\n",
      "Epoch: 068, Average loss: 0.00861\n"
     ]
    },
    {
     "name": "stderr",
     "output_type": "stream",
     "text": [
      "100%|██████████| 368/368 [00:32<00:00, 11.43it/s]\n",
      "100%|██████████| 92/92 [00:04<00:00, 19.28it/s]\n"
     ]
    },
    {
     "name": "stdout",
     "output_type": "stream",
     "text": [
      "Epoch: 069, Average loss: 0.01792\n",
      "Epoch: 069, Average loss: 0.01391\n"
     ]
    },
    {
     "name": "stderr",
     "output_type": "stream",
     "text": [
      "100%|██████████| 368/368 [00:48<00:00,  7.59it/s]\n",
      "100%|██████████| 92/92 [00:09<00:00,  9.92it/s]\n"
     ]
    },
    {
     "name": "stdout",
     "output_type": "stream",
     "text": [
      "Epoch: 070, Average loss: 0.01603\n",
      "Epoch: 070, Average loss: 0.01208\n"
     ]
    },
    {
     "name": "stderr",
     "output_type": "stream",
     "text": [
      "100%|██████████| 368/368 [01:12<00:00,  5.06it/s]\n",
      "100%|██████████| 92/92 [00:10<00:00,  9.05it/s]\n"
     ]
    },
    {
     "name": "stdout",
     "output_type": "stream",
     "text": [
      "Epoch: 071, Average loss: 0.01762\n",
      "Epoch: 071, Average loss: 0.01250\n"
     ]
    },
    {
     "name": "stderr",
     "output_type": "stream",
     "text": [
      "100%|██████████| 368/368 [01:12<00:00,  5.07it/s]\n",
      "100%|██████████| 92/92 [00:09<00:00,  9.85it/s]\n"
     ]
    },
    {
     "name": "stdout",
     "output_type": "stream",
     "text": [
      "Epoch: 072, Average loss: 0.01471\n",
      "Epoch: 072, Average loss: 0.02558\n"
     ]
    },
    {
     "name": "stderr",
     "output_type": "stream",
     "text": [
      "100%|██████████| 368/368 [01:25<00:00,  4.32it/s]\n",
      "100%|██████████| 92/92 [00:11<00:00,  8.20it/s]\n"
     ]
    },
    {
     "name": "stdout",
     "output_type": "stream",
     "text": [
      "Epoch: 073, Average loss: 0.01729\n",
      "Epoch: 073, Average loss: 0.00629\n"
     ]
    },
    {
     "name": "stderr",
     "output_type": "stream",
     "text": [
      "100%|██████████| 368/368 [01:26<00:00,  4.24it/s]\n",
      "100%|██████████| 92/92 [00:12<00:00,  7.57it/s]\n"
     ]
    },
    {
     "name": "stdout",
     "output_type": "stream",
     "text": [
      "Epoch: 074, Average loss: 0.01714\n",
      "Epoch: 074, Average loss: 0.01124\n"
     ]
    },
    {
     "name": "stderr",
     "output_type": "stream",
     "text": [
      "100%|██████████| 368/368 [01:26<00:00,  4.23it/s]\n",
      "100%|██████████| 92/92 [00:03<00:00, 29.46it/s]\n"
     ]
    },
    {
     "name": "stdout",
     "output_type": "stream",
     "text": [
      "Epoch: 075, Average loss: 0.01302\n",
      "Epoch: 075, Average loss: 0.00812\n"
     ]
    },
    {
     "name": "stderr",
     "output_type": "stream",
     "text": [
      "100%|██████████| 368/368 [00:31<00:00, 11.79it/s]\n",
      "100%|██████████| 92/92 [00:03<00:00, 29.49it/s]\n"
     ]
    },
    {
     "name": "stdout",
     "output_type": "stream",
     "text": [
      "Epoch: 076, Average loss: 0.01784\n",
      "Epoch: 076, Average loss: 0.00573\n"
     ]
    },
    {
     "name": "stderr",
     "output_type": "stream",
     "text": [
      "100%|██████████| 368/368 [00:31<00:00, 11.79it/s]\n",
      "100%|██████████| 92/92 [00:03<00:00, 29.15it/s]\n"
     ]
    },
    {
     "name": "stdout",
     "output_type": "stream",
     "text": [
      "Epoch: 077, Average loss: 0.01383\n",
      "Epoch: 077, Average loss: 0.01401\n"
     ]
    },
    {
     "name": "stderr",
     "output_type": "stream",
     "text": [
      "100%|██████████| 368/368 [01:02<00:00,  5.85it/s]\n",
      "100%|██████████| 92/92 [00:09<00:00,  9.73it/s]\n"
     ]
    },
    {
     "name": "stdout",
     "output_type": "stream",
     "text": [
      "Epoch: 078, Average loss: 0.01912\n",
      "Epoch: 078, Average loss: 0.00667\n"
     ]
    },
    {
     "name": "stderr",
     "output_type": "stream",
     "text": [
      "100%|██████████| 368/368 [01:08<00:00,  5.35it/s]\n",
      "100%|██████████| 92/92 [00:09<00:00,  9.23it/s]\n"
     ]
    },
    {
     "name": "stdout",
     "output_type": "stream",
     "text": [
      "Epoch: 079, Average loss: 0.01242\n",
      "Epoch: 079, Average loss: 0.00968\n"
     ]
    },
    {
     "name": "stderr",
     "output_type": "stream",
     "text": [
      "100%|██████████| 368/368 [01:15<00:00,  4.86it/s]\n",
      "100%|██████████| 92/92 [00:10<00:00,  8.90it/s]\n"
     ]
    },
    {
     "name": "stdout",
     "output_type": "stream",
     "text": [
      "Epoch: 080, Average loss: 0.01424\n",
      "Epoch: 080, Average loss: 0.01041\n"
     ]
    },
    {
     "name": "stderr",
     "output_type": "stream",
     "text": [
      "100%|██████████| 368/368 [01:06<00:00,  5.50it/s]\n",
      "100%|██████████| 92/92 [00:06<00:00, 13.40it/s]\n"
     ]
    },
    {
     "name": "stdout",
     "output_type": "stream",
     "text": [
      "Epoch: 081, Average loss: 0.01443\n",
      "Epoch: 081, Average loss: 0.02631\n"
     ]
    },
    {
     "name": "stderr",
     "output_type": "stream",
     "text": [
      "100%|██████████| 368/368 [01:08<00:00,  5.39it/s]\n",
      "100%|██████████| 92/92 [00:08<00:00, 11.18it/s]\n"
     ]
    },
    {
     "name": "stdout",
     "output_type": "stream",
     "text": [
      "Epoch: 082, Average loss: 0.01072\n",
      "Epoch: 082, Average loss: 0.00417\n"
     ]
    },
    {
     "name": "stderr",
     "output_type": "stream",
     "text": [
      "100%|██████████| 368/368 [00:55<00:00,  6.61it/s]\n",
      "100%|██████████| 92/92 [00:09<00:00,  9.24it/s]\n"
     ]
    },
    {
     "name": "stdout",
     "output_type": "stream",
     "text": [
      "Epoch: 083, Average loss: 0.01346\n",
      "Epoch: 083, Average loss: 0.00694\n"
     ]
    },
    {
     "name": "stderr",
     "output_type": "stream",
     "text": [
      "100%|██████████| 368/368 [01:06<00:00,  5.57it/s]\n",
      "100%|██████████| 92/92 [00:09<00:00,  9.54it/s]\n"
     ]
    },
    {
     "name": "stdout",
     "output_type": "stream",
     "text": [
      "Epoch: 084, Average loss: 0.01214\n",
      "Epoch: 084, Average loss: 0.01250\n"
     ]
    },
    {
     "name": "stderr",
     "output_type": "stream",
     "text": [
      "100%|██████████| 368/368 [01:05<00:00,  5.59it/s]\n",
      "100%|██████████| 92/92 [00:06<00:00, 14.38it/s]\n"
     ]
    },
    {
     "name": "stdout",
     "output_type": "stream",
     "text": [
      "Epoch: 085, Average loss: 0.01088\n",
      "Epoch: 085, Average loss: 0.00445\n"
     ]
    },
    {
     "name": "stderr",
     "output_type": "stream",
     "text": [
      "100%|██████████| 368/368 [01:04<00:00,  5.70it/s]\n",
      "100%|██████████| 92/92 [00:08<00:00, 11.10it/s]\n"
     ]
    },
    {
     "name": "stdout",
     "output_type": "stream",
     "text": [
      "Epoch: 086, Average loss: 0.01156\n",
      "Epoch: 086, Average loss: 0.00546\n"
     ]
    },
    {
     "name": "stderr",
     "output_type": "stream",
     "text": [
      "100%|██████████| 368/368 [01:06<00:00,  5.51it/s]\n",
      "100%|██████████| 92/92 [00:11<00:00,  8.24it/s]\n"
     ]
    },
    {
     "name": "stdout",
     "output_type": "stream",
     "text": [
      "Epoch: 087, Average loss: 0.01458\n",
      "Epoch: 087, Average loss: 0.00747\n"
     ]
    },
    {
     "name": "stderr",
     "output_type": "stream",
     "text": [
      "100%|██████████| 368/368 [01:11<00:00,  5.18it/s]\n",
      "100%|██████████| 92/92 [00:10<00:00,  9.11it/s]\n"
     ]
    },
    {
     "name": "stdout",
     "output_type": "stream",
     "text": [
      "Epoch: 088, Average loss: 0.01359\n",
      "Epoch: 088, Average loss: 0.00636\n"
     ]
    },
    {
     "name": "stderr",
     "output_type": "stream",
     "text": [
      "100%|██████████| 368/368 [01:10<00:00,  5.20it/s]\n",
      "100%|██████████| 92/92 [00:10<00:00,  9.13it/s]\n"
     ]
    },
    {
     "name": "stdout",
     "output_type": "stream",
     "text": [
      "Epoch: 089, Average loss: 0.01318\n",
      "Epoch: 089, Average loss: 0.01493\n"
     ]
    },
    {
     "name": "stderr",
     "output_type": "stream",
     "text": [
      "100%|██████████| 368/368 [01:11<00:00,  5.15it/s]\n",
      "100%|██████████| 92/92 [00:10<00:00,  8.49it/s]\n"
     ]
    },
    {
     "name": "stdout",
     "output_type": "stream",
     "text": [
      "Epoch: 090, Average loss: 0.01072\n",
      "Epoch: 090, Average loss: 0.00804\n"
     ]
    },
    {
     "name": "stderr",
     "output_type": "stream",
     "text": [
      "100%|██████████| 368/368 [01:01<00:00,  5.94it/s]\n",
      "100%|██████████| 92/92 [00:03<00:00, 29.43it/s]\n"
     ]
    },
    {
     "name": "stdout",
     "output_type": "stream",
     "text": [
      "Epoch: 091, Average loss: 0.01244\n",
      "Epoch: 091, Average loss: 0.01116\n"
     ]
    },
    {
     "name": "stderr",
     "output_type": "stream",
     "text": [
      "100%|██████████| 368/368 [00:31<00:00, 11.75it/s]\n",
      "100%|██████████| 92/92 [00:03<00:00, 29.58it/s]\n"
     ]
    },
    {
     "name": "stdout",
     "output_type": "stream",
     "text": [
      "Epoch: 092, Average loss: 0.01138\n",
      "Epoch: 092, Average loss: 0.01112\n"
     ]
    },
    {
     "name": "stderr",
     "output_type": "stream",
     "text": [
      "100%|██████████| 368/368 [00:31<00:00, 11.80it/s]\n",
      "100%|██████████| 92/92 [00:03<00:00, 29.08it/s]\n"
     ]
    },
    {
     "name": "stdout",
     "output_type": "stream",
     "text": [
      "Epoch: 093, Average loss: 0.01278\n",
      "Epoch: 093, Average loss: 0.00703\n"
     ]
    },
    {
     "name": "stderr",
     "output_type": "stream",
     "text": [
      "100%|██████████| 368/368 [00:35<00:00, 10.42it/s]\n",
      "100%|██████████| 92/92 [00:10<00:00,  9.19it/s]\n"
     ]
    },
    {
     "name": "stdout",
     "output_type": "stream",
     "text": [
      "Epoch: 094, Average loss: 0.01299\n",
      "Epoch: 094, Average loss: 0.02090\n"
     ]
    },
    {
     "name": "stderr",
     "output_type": "stream",
     "text": [
      "100%|██████████| 368/368 [01:08<00:00,  5.38it/s]\n",
      "100%|██████████| 92/92 [00:08<00:00, 11.06it/s]\n"
     ]
    },
    {
     "name": "stdout",
     "output_type": "stream",
     "text": [
      "Epoch: 095, Average loss: 0.01213\n",
      "Epoch: 095, Average loss: 0.00703\n"
     ]
    },
    {
     "name": "stderr",
     "output_type": "stream",
     "text": [
      "100%|██████████| 368/368 [01:01<00:00,  5.96it/s]\n",
      "100%|██████████| 92/92 [00:08<00:00, 10.25it/s]\n"
     ]
    },
    {
     "name": "stdout",
     "output_type": "stream",
     "text": [
      "Epoch: 096, Average loss: 0.00975\n",
      "Epoch: 096, Average loss: 0.00864\n"
     ]
    },
    {
     "name": "stderr",
     "output_type": "stream",
     "text": [
      "100%|██████████| 368/368 [01:03<00:00,  5.76it/s]\n",
      "100%|██████████| 92/92 [00:11<00:00,  8.16it/s]\n"
     ]
    },
    {
     "name": "stdout",
     "output_type": "stream",
     "text": [
      "Epoch: 097, Average loss: 0.00975\n",
      "Epoch: 097, Average loss: 0.00663\n"
     ]
    },
    {
     "name": "stderr",
     "output_type": "stream",
     "text": [
      "100%|██████████| 368/368 [01:16<00:00,  4.84it/s]\n",
      "100%|██████████| 92/92 [00:08<00:00, 11.48it/s]\n"
     ]
    },
    {
     "name": "stdout",
     "output_type": "stream",
     "text": [
      "Epoch: 098, Average loss: 0.00970\n",
      "Epoch: 098, Average loss: 0.01037\n"
     ]
    },
    {
     "name": "stderr",
     "output_type": "stream",
     "text": [
      "100%|██████████| 368/368 [01:06<00:00,  5.55it/s]\n",
      "100%|██████████| 92/92 [00:09<00:00,  9.90it/s]\n"
     ]
    },
    {
     "name": "stdout",
     "output_type": "stream",
     "text": [
      "Epoch: 099, Average loss: 0.00848\n",
      "Epoch: 099, Average loss: 0.00527\n"
     ]
    },
    {
     "name": "stderr",
     "output_type": "stream",
     "text": [
      "100%|██████████| 368/368 [01:02<00:00,  5.91it/s]\n",
      "100%|██████████| 92/92 [00:10<00:00,  9.14it/s]\n"
     ]
    },
    {
     "name": "stdout",
     "output_type": "stream",
     "text": [
      "Epoch: 100, Average loss: 0.00871\n",
      "Epoch: 100, Average loss: 0.00828\n"
     ]
    },
    {
     "name": "stderr",
     "output_type": "stream",
     "text": [
      "100%|██████████| 368/368 [01:09<00:00,  5.27it/s]\n",
      "100%|██████████| 92/92 [00:13<00:00,  6.83it/s]\n"
     ]
    },
    {
     "name": "stdout",
     "output_type": "stream",
     "text": [
      "Epoch: 101, Average loss: 0.00961\n",
      "Epoch: 101, Average loss: 0.00963\n"
     ]
    },
    {
     "name": "stderr",
     "output_type": "stream",
     "text": [
      "100%|██████████| 368/368 [00:55<00:00,  6.61it/s]\n",
      "100%|██████████| 92/92 [00:04<00:00, 18.72it/s]\n"
     ]
    },
    {
     "name": "stdout",
     "output_type": "stream",
     "text": [
      "Epoch: 102, Average loss: 0.00975\n",
      "Epoch: 102, Average loss: 0.00711\n"
     ]
    },
    {
     "name": "stderr",
     "output_type": "stream",
     "text": [
      "100%|██████████| 368/368 [00:44<00:00,  8.33it/s]\n",
      "100%|██████████| 92/92 [00:07<00:00, 12.98it/s]\n"
     ]
    },
    {
     "name": "stdout",
     "output_type": "stream",
     "text": [
      "Epoch: 103, Average loss: 0.00846\n",
      "Epoch: 103, Average loss: 0.00465\n"
     ]
    },
    {
     "name": "stderr",
     "output_type": "stream",
     "text": [
      "100%|██████████| 368/368 [00:41<00:00,  8.77it/s]\n",
      "100%|██████████| 92/92 [00:04<00:00, 20.97it/s]\n"
     ]
    },
    {
     "name": "stdout",
     "output_type": "stream",
     "text": [
      "Epoch: 104, Average loss: 0.00932\n",
      "Epoch: 104, Average loss: 0.00632\n"
     ]
    },
    {
     "name": "stderr",
     "output_type": "stream",
     "text": [
      "100%|██████████| 368/368 [00:39<00:00,  9.37it/s]\n",
      "100%|██████████| 92/92 [00:04<00:00, 20.48it/s]\n"
     ]
    },
    {
     "name": "stdout",
     "output_type": "stream",
     "text": [
      "Epoch: 105, Average loss: 0.00947\n",
      "Epoch: 105, Average loss: 0.01288\n"
     ]
    },
    {
     "name": "stderr",
     "output_type": "stream",
     "text": [
      " 28%|██▊       | 102/368 [00:11<00:29,  9.07it/s]"
     ]
    }
   ],
   "source": [
    "for epoch in range(epochs):\n",
    "    model.train()\n",
    "    valid_loss=0\n",
    "    train_loss=0\n",
    "\n",
    "     #shuffle the training data each epoch\n",
    "    for d in tqdm(train_loader): #go over each training point\n",
    "        data = d.to(device)#send data to device\n",
    "        out = model(data) \n",
    "        optimizer.zero_grad() #zero gradients\n",
    "        #evaluate data point\n",
    "        loss = loss_func(out.view(-1), data.y.view(-1)) #L1 error loss\n",
    "         #add loss value to aggregate loss\n",
    "        loss.backward() #compute gradients\n",
    "        optimizer.step() #apply optimization\n",
    "        scheduler.step()\n",
    "        train_loss += loss.item()\n",
    "    with torch.no_grad():\n",
    "        model.eval()     # Optional when not using Model Specific layer\n",
    "        for d in tqdm(test_loader):\n",
    "            data = d.to(device)\n",
    "            target = model(data)\n",
    "            loss = loss_func(target.view(-1), data.y.view(-1))\n",
    "            valid_loss += loss.item()\n",
    "        \n",
    "    print('Epoch: {:03d}, Average loss: {:.5f}'.format(epoch, train_loss/len(train_loader)))\n",
    "    print('Epoch: {:03d}, Average loss: {:.5f}'.format(epoch, valid_loss/len(test_loader)))\n",
    "    wandb.log({\n",
    "        \"train_mae\": train_loss/len(train_loader),\n",
    "        \"test_mae\": valid_loss/len(test_loader),\n",
    "    })    \n",
    "    "
   ]
  },
  {
   "cell_type": "code",
   "execution_count": 12,
   "id": "55a6a04f",
   "metadata": {},
   "outputs": [
    {
     "name": "stdout",
     "output_type": "stream",
     "text": [
      "SchNet(hidden_channels=128, num_filters=128, num_interactions=4, num_gaussians=50, cutoff=10.0)\n"
     ]
    }
   ],
   "source": [
    "print(model)"
   ]
  }
 ],
 "metadata": {
  "kernelspec": {
   "display_name": "crystalvae",
   "language": "python",
   "name": "crystalvae"
  },
  "language_info": {
   "codemirror_mode": {
    "name": "ipython",
    "version": 3
   },
   "file_extension": ".py",
   "mimetype": "text/x-python",
   "name": "python",
   "nbconvert_exporter": "python",
   "pygments_lexer": "ipython3",
   "version": "3.6.13"
  }
 },
 "nbformat": 4,
 "nbformat_minor": 5
}
