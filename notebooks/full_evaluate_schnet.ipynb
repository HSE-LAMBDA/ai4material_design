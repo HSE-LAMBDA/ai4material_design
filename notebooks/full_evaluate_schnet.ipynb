{
 "cells": [
  {
   "cell_type": "code",
   "execution_count": 1,
   "id": "952884e7",
   "metadata": {},
   "outputs": [],
   "source": [
    "%config Completer.use_jedi=False"
   ]
  },
  {
   "cell_type": "code",
   "execution_count": 2,
   "id": "bf89dccb",
   "metadata": {},
   "outputs": [],
   "source": [
    "import numpy as np\n",
    "import pandas as pd\n",
    "from tqdm import tqdm\n",
    "import os\n",
    "from sklearn.model_selection import train_test_split\n",
    "\n",
    "from ruslan_nn.schnet import SchNet\n",
    "import pickle\n",
    "import wandb\n",
    "\n",
    "from torch_geometric.data import DataLoader\n",
    "import torch\n",
    "seed=42\n",
    "np.random.seed(seed)\n",
    "torch.manual_seed(seed)\n",
    "torch.cuda.manual_seed_all(seed)\n",
    "torch.backends.cudnn.deterministic = True\n",
    "torch.backends.cudnn.benchmark = False"
   ]
  },
  {
   "cell_type": "code",
   "execution_count": 3,
   "id": "2a38b6b6",
   "metadata": {},
   "outputs": [],
   "source": [
    "targets = pd.read_csv('ruslan_nn/properties16k.csv', index_col=0)\n",
    "folds = pd.read_csv('folds.csv')\n",
    "targets['band_gap'] = targets['bandgap']"
   ]
  },
  {
   "cell_type": "code",
   "execution_count": 4,
   "id": "671bd5a2",
   "metadata": {},
   "outputs": [],
   "source": [
    "with open('ruslan_nn/structures16k.pickle', 'rb') as file:\n",
    "    structures = pickle.load(file)"
   ]
  },
  {
   "cell_type": "code",
   "execution_count": 5,
   "id": "7cd74cf5",
   "metadata": {},
   "outputs": [],
   "source": [
    "from torch_geometric.data import Data\n",
    "import torch\n",
    "import ase\n",
    "from pymatgen.io.ase import AseAtomsAdaptor\n",
    "\n",
    "def construct_dataset(structures, targets, property_):\n",
    "    data_atoms = []\n",
    "    label = targets[property_]\n",
    "    for _id in tqdm(targets.index):\n",
    "        atoms=AseAtomsAdaptor.get_atoms(structures[str(_id)])\n",
    "        # set the atomic numbers, positions, and cell\n",
    "        atom = torch.Tensor(atoms.get_atomic_numbers())\n",
    "        positions = torch.Tensor(atoms.get_positions())\n",
    "        natoms = positions.shape[0]\n",
    "\n",
    "        # put the minimum data in torch geometric data object\n",
    "        data = Data(\n",
    "            pos=positions,\n",
    "            z= atom,\n",
    "           # natoms=natoms,\n",
    "        )\n",
    "\n",
    "        # calculate energy\n",
    "        data.y = label[_id]\n",
    "        data_atoms.append(data)\n",
    "    data_atoms = pd.DataFrame({\"data\": data_atoms}, index=targets.index)\n",
    "    return data_atoms"
   ]
  },
  {
   "cell_type": "code",
   "execution_count": 6,
   "id": "5e157368",
   "metadata": {},
   "outputs": [],
   "source": [
    "from sklearn.model_selection import KFold\n",
    "kf = KFold(n_splits=8, shuffle=True, random_state=42)"
   ]
  },
  {
   "cell_type": "code",
   "execution_count": 7,
   "id": "a9685214",
   "metadata": {},
   "outputs": [],
   "source": [
    "device = 'cuda:1'\n",
    "epochs = 50"
   ]
  },
  {
   "cell_type": "code",
   "execution_count": 8,
   "id": "6a576524",
   "metadata": {},
   "outputs": [],
   "source": [
    "def train_model(model, optimizer, scheduler, train_loader, test_loader):\n",
    "    for epoch in range(epochs):\n",
    "        model.train()\n",
    "        valid_loss=0\n",
    "        train_loss=0\n",
    "        for d in tqdm(train_loader): \n",
    "            data = d.to(device)\n",
    "            out = model(data) \n",
    "            optimizer.zero_grad()\n",
    "            loss = loss_func(out.view(-1), data.y.view(-1))\n",
    "            loss.backward() \n",
    "            optimizer.step()\n",
    "            scheduler.step()\n",
    "            train_loss += loss.item()\n",
    "        with torch.no_grad():\n",
    "            model.eval()\n",
    "            for d in tqdm(test_loader):\n",
    "                data = d.to(device)\n",
    "                target = model(data)\n",
    "                loss = loss_func(target.view(-1), data.y.view(-1))\n",
    "                valid_loss += loss.item()\n",
    "\n",
    "        print('Epoch: {:03d}, Average loss: {:.5f}'.format(epoch, train_loss/len(train_loader)))\n",
    "        print('Epoch: {:03d}, Average loss: {:.5f}'.format(epoch, valid_loss/len(test_loader)))\n",
    "        wandb.log({\n",
    "            \"train_mae\": train_loss/len(train_loader),\n",
    "            \"test_mae\": valid_loss/len(test_loader),\n",
    "        })    "
   ]
  },
  {
   "cell_type": "code",
   "execution_count": null,
   "id": "66b5f830",
   "metadata": {},
   "outputs": [
    {
     "name": "stderr",
     "output_type": "stream",
     "text": [
      "100%|██████████| 15355/15355 [00:27<00:00, 560.75it/s]\n",
      "\u001b[34m\u001b[1mwandb\u001b[0m: Currently logged in as: \u001b[33mimplausible_denyability\u001b[0m (use `wandb login --relogin` to force relogin)\n"
     ]
    },
    {
     "data": {
      "text/html": [
       "\n",
       "                    Syncing run <strong><a href=\"https://wandb.ai/inno-materials-ai/schnet_dichalcogenides/runs/ev4f3l6k\" target=\"_blank\">schnet_homo_fold0</a></strong> to <a href=\"https://wandb.ai/inno-materials-ai/schnet_dichalcogenides\" target=\"_blank\">Weights & Biases</a> (<a href=\"https://docs.wandb.com/integrations/jupyter.html\" target=\"_blank\">docs</a>).<br/>\n",
       "\n",
       "                "
      ],
      "text/plain": [
       "<IPython.core.display.HTML object>"
      ]
     },
     "metadata": {},
     "output_type": "display_data"
    },
    {
     "name": "stderr",
     "output_type": "stream",
     "text": [
      " 49%|████▉     | 205/420 [00:16<00:17, 12.27it/s]"
     ]
    }
   ],
   "source": [
    "for property_ in ['homo', 'lumo']:\n",
    "    data_atoms = construct_dataset(structures, targets, property_)\n",
    "    for fold_idx, (train_index, test_index) in enumerate(kf.split(data_atoms)):\n",
    "        train = data_atoms.iloc[train_index].data\n",
    "        test = data_atoms.iloc[test_index].data\n",
    "        train_loader = DataLoader(train, batch_size=32, shuffle=True)\n",
    "        test_loader = DataLoader(test, batch_size=32)\n",
    "        \n",
    "        model=SchNet()\n",
    "        model = model.to(device)\n",
    "        optimizer = torch.optim.AdamW(model.parameters(), lr=1e-4)\n",
    "        loss_func = torch.nn.L1Loss() #define loss\n",
    "        scheduler = torch.optim.lr_scheduler.OneCycleLR(optimizer, epochs=epochs,\n",
    "                                                        steps_per_epoch=len(train_loader),\n",
    "                                                        max_lr=1e-3)\n",
    "        wandb.init(\n",
    "            project=\"schnet_dichalcogenides\", entity=\"inno-materials-ai\",\n",
    "            save_code=True, name=f'schnet_{property_}_fold{fold_idx}'\n",
    "        )\n",
    "        train_model(model, optimizer, scheduler, train_loader, test_loader)"
   ]
  },
  {
   "cell_type": "code",
   "execution_count": null,
   "id": "9409d5af",
   "metadata": {},
   "outputs": [],
   "source": []
  }
 ],
 "metadata": {
  "kernelspec": {
   "display_name": "crystalvae",
   "language": "python",
   "name": "crystalvae"
  },
  "language_info": {
   "codemirror_mode": {
    "name": "ipython",
    "version": 3
   },
   "file_extension": ".py",
   "mimetype": "text/x-python",
   "name": "python",
   "nbconvert_exporter": "python",
   "pygments_lexer": "ipython3",
   "version": "3.6.13"
  }
 },
 "nbformat": 4,
 "nbformat_minor": 5
}
