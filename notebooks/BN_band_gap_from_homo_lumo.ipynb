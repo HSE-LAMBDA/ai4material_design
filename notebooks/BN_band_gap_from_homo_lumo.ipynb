{
 "cells": [
  {
   "cell_type": "code",
   "execution_count": 1,
   "metadata": {},
   "outputs": [],
   "source": [
    "import pandas as pd"
   ]
  },
  {
   "cell_type": "code",
   "execution_count": 3,
   "metadata": {},
   "outputs": [],
   "source": [
    "data = pd.read_pickle(\"../datasets/processed/high_density_defects/BN_5e-2/data.pickle.gz\")"
   ]
  },
  {
   "cell_type": "code",
   "execution_count": 20,
   "metadata": {},
   "outputs": [],
   "source": [
    "predictions = {}\n",
    "for target in (\"homo\", \"lumo\", \"band_gap\"):\n",
    "    predictions[target] = pd.read_csv(\n",
    "        f\"../datasets/predictions/BN_pilot_5e-2/{target}/megnet_pytorch-sparse-z-were.csv.gz\",\n",
    "        index_col=\"_id\")"
   ]
  },
  {
   "cell_type": "code",
   "execution_count": 22,
   "metadata": {},
   "outputs": [],
   "source": [
    "import numpy as np"
   ]
  },
  {
   "cell_type": "code",
   "execution_count": 39,
   "metadata": {},
   "outputs": [],
   "source": [
    "selection = (data[\"homo\"] < data[\"lumo\"])"
   ]
  },
  {
   "cell_type": "code",
   "execution_count": 40,
   "metadata": {},
   "outputs": [
    {
     "data": {
      "text/html": [
       "<div>\n",
       "<style scoped>\n",
       "    .dataframe tbody tr th:only-of-type {\n",
       "        vertical-align: middle;\n",
       "    }\n",
       "\n",
       "    .dataframe tbody tr th {\n",
       "        vertical-align: top;\n",
       "    }\n",
       "\n",
       "    .dataframe thead th {\n",
       "        text-align: right;\n",
       "    }\n",
       "</style>\n",
       "<table border=\"1\" class=\"dataframe\">\n",
       "  <thead>\n",
       "    <tr style=\"text-align: right;\">\n",
       "      <th></th>\n",
       "      <th>descriptor_id</th>\n",
       "      <th>energy</th>\n",
       "      <th>fermi_level</th>\n",
       "      <th>homo</th>\n",
       "      <th>lumo</th>\n",
       "      <th>band_gap</th>\n",
       "      <th>is_band_gap_direct</th>\n",
       "      <th>defect_representation</th>\n",
       "      <th>formation_energy</th>\n",
       "      <th>initial_structure</th>\n",
       "      <th>formation_energy_per_site</th>\n",
       "    </tr>\n",
       "    <tr>\n",
       "      <th>_id</th>\n",
       "      <th></th>\n",
       "      <th></th>\n",
       "      <th></th>\n",
       "      <th></th>\n",
       "      <th></th>\n",
       "      <th></th>\n",
       "      <th></th>\n",
       "      <th></th>\n",
       "      <th></th>\n",
       "      <th></th>\n",
       "      <th></th>\n",
       "    </tr>\n",
       "  </thead>\n",
       "  <tbody>\n",
       "  </tbody>\n",
       "</table>\n",
       "</div>"
      ],
      "text/plain": [
       "Empty DataFrame\n",
       "Columns: [descriptor_id, energy, fermi_level, homo, lumo, band_gap, is_band_gap_direct, defect_representation, formation_energy, initial_structure, formation_energy_per_site]\n",
       "Index: []"
      ]
     },
     "execution_count": 40,
     "metadata": {},
     "output_type": "execute_result"
    }
   ],
   "source": [
    "data[selection]"
   ]
  },
  {
   "cell_type": "code",
   "execution_count": 49,
   "metadata": {},
   "outputs": [],
   "source": [
    "band_gap_from_homo_lumo = np.maximum(predictions[\"homo\"][\"predicted_homo_test\"] - predictions[\"lumo\"][\"predicted_lumo_test\"],0)"
   ]
  },
  {
   "cell_type": "code",
   "execution_count": 50,
   "metadata": {},
   "outputs": [
    {
     "data": {
      "text/plain": [
       "_id\n",
       "BN_B62C2N63_816498e1-eef8-400f-93d4-17a0a435389a    0.126216\n",
       "BN_B62C1N63_631c0dc0-4762-4e3c-93ba-d4876a1b7997    1.044878\n",
       "BN_B63C2N62_5ea09385-eb62-43dc-9334-9142794a8de0    0.457278\n",
       "BN_B63C1N62_e4656f55-37a8-4fcf-bec1-fd7cc833f86b    0.893634\n",
       "BN_B62C2N63_91fe1ce6-6a19-4a26-8caa-82caf4ca6ac2    0.144110\n",
       "                                                      ...   \n",
       "BN_B56C8N56_958b65d0-6745-480a-87ff-02fa53b148c6    0.000000\n",
       "BN_B56C8N56_413ecc1b-b235-44c3-86f1-5c04e35d1b63    0.121693\n",
       "BN_B56C8N56_0a1b0043-5f8d-47b3-acc8-17432c195769    0.285519\n",
       "BN_B56C8N56_a1dbf3a7-1e22-43d0-ae40-3ffb622f4153    0.213933\n",
       "BN_B56C8N56_e55c8a71-86c7-4d74-b2aa-4ebff26da2ae    0.168480\n",
       "Length: 500, dtype: float64"
      ]
     },
     "execution_count": 50,
     "metadata": {},
     "output_type": "execute_result"
    }
   ],
   "source": [
    "band_gap_from_homo_lumo"
   ]
  },
  {
   "cell_type": "code",
   "execution_count": 51,
   "metadata": {},
   "outputs": [],
   "source": [
    "import matplotlib.pyplot as plt"
   ]
  },
  {
   "cell_type": "code",
   "execution_count": 52,
   "metadata": {},
   "outputs": [
    {
     "data": {
      "text/plain": [
       "<matplotlib.collections.PathCollection at 0x7fdf5f3eca30>"
      ]
     },
     "execution_count": 52,
     "metadata": {},
     "output_type": "execute_result"
    },
    {
     "data": {
      "image/png": "[encoded data removed]",
      "text/plain": [
       "<Figure size 432x288 with 1 Axes>"
      ]
     },
     "metadata": {
      "needs_background": "light"
     },
     "output_type": "display_data"
    }
   ],
   "source": [
    "fig, ax = plt.subplots()\n",
    "ax.scatter(predictions[\"band_gap\"], band_gap_from_homo_lumo)"
   ]
  },
  {
   "cell_type": "code",
   "execution_count": 54,
   "metadata": {},
   "outputs": [
    {
     "data": {
      "image/png": "[encoded data removed]",
      "text/plain": [
       "<Figure size 432x288 with 1 Axes>"
      ]
     },
     "metadata": {
      "needs_background": "light"
     },
     "output_type": "display_data"
    }
   ],
   "source": [
    "fig, ax = plt.subplots()\n",
    "ax.scatter(data[\"band_gap\"], band_gap_from_homo_lumo);"
   ]
  },
  {
   "cell_type": "code",
   "execution_count": 55,
   "metadata": {},
   "outputs": [
    {
     "data": {
      "text/plain": [
       "0.2633615787273408"
      ]
     },
     "execution_count": 55,
     "metadata": {},
     "output_type": "execute_result"
    }
   ],
   "source": [
    "np.abs(data[\"band_gap\"]- band_gap_from_homo_lumo).mean()"
   ]
  }
 ],
 "metadata": {
  "kernelspec": {
   "display_name": "Python 3.10.6 ('2d-defects-potential-learning-pYjw2mkT-py3.10')",
   "language": "python",
   "name": "python3"
  },
  "language_info": {
   "codemirror_mode": {
    "name": "ipython",
    "version": 3
   },
   "file_extension": ".py",
   "mimetype": "text/x-python",
   "name": "python",
   "nbconvert_exporter": "python",
   "pygments_lexer": "ipython3",
   "version": "3.10.6"
  },
  "orig_nbformat": 4,
  "vscode": {
   "interpreter": {
    "hash": "635b46ca2bfd4fb1fb06df777baa58449acfa795d46252930268ba7054c54264"
   }
  }
 },
 "nbformat": 4,
 "nbformat_minor": 2
}
