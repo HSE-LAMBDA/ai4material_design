{
 "cells": [
  {
   "cell_type": "code",
   "execution_count": 1,
   "metadata": {},
   "outputs": [],
   "source": [
    "%matplotlib inline"
   ]
  },
  {
   "cell_type": "code",
   "execution_count": 2,
   "metadata": {},
   "outputs": [
    {
     "name": "stderr",
     "output_type": "stream",
     "text": [
      "/home/kna/.cache/pypoetry/virtualenvs/2d-defects-potential-learning-pYjw2mkT-py3.8/lib/python3.8/site-packages/pymatgen/io/cif.py:1164: UserWarning: Issues encountered while parsing CIF: Some fractional co-ordinates rounded to ideal values to avoid issues with finite precision.\n",
      "  warnings.warn(\"Issues encountered while parsing CIF: %s\" % \"\\n\".join(self.warnings))\n"
     ]
    }
   ],
   "source": [
    "from pymatgen.io.cif import CifParser\n",
    "from pathlib import Path\n",
    "import numpy as np\n",
    "from pymatgen.core.periodic_table import DummySpecies, Element\n",
    "from pymatgen.core.sites import PeriodicSite\n",
    "from pymatgen.io.ase import AseAtomsAdaptor\n",
    "from ase.visualize.plot import plot_atoms\n",
    "from matplotlib import pyplot as plt\n",
    "\n",
    "base_material = \"MoS2\"\n",
    "unit_cell = CifParser(Path(\n",
    "            \"..\",\n",
    "            \"defects_generation\",\n",
    "            \"molecules\",\n",
    "            f\"{base_material}.cif\")).get_structures(primitive=False)[0]\n",
    "supercell_size = (8, 8, 1)\n",
    "reference_supercell = unit_cell.copy()\n",
    "reference_supercell.make_supercell(supercell_size)"
   ]
  },
  {
   "cell_type": "code",
   "execution_count": 3,
   "metadata": {},
   "outputs": [],
   "source": [
    "rng = np.random.default_rng(42)"
   ]
  },
  {
   "cell_type": "code",
   "execution_count": 4,
   "metadata": {},
   "outputs": [],
   "source": [
    "extreme_defects_freqences = {\n",
    "    Element(\"Mo\"): {\n",
    "        Element(\"W\"): 0.5,\n",
    "        DummySpecies(): 0.05\n",
    "    },\n",
    "    Element(\"S\"): {\n",
    "        Element(\"Se\"): 0.5,\n",
    "        DummySpecies(): 0.35\n",
    "    }\n",
    "}"
   ]
  },
  {
   "cell_type": "code",
   "execution_count": 5,
   "metadata": {},
   "outputs": [],
   "source": [
    "def get_site_indices_by_species(structure, specie):\n",
    "    \"\"\"\n",
    "    Returns site indices with given specie.\n",
    "    \"\"\"\n",
    "    return [i for i, site in enumerate(structure) if site.specie == specie]"
   ]
  },
  {
   "cell_type": "code",
   "execution_count": 6,
   "metadata": {},
   "outputs": [],
   "source": [
    "def generate_structure(defects_frequences):\n",
    "    \"\"\"\n",
    "    Creates structure with defects with given frequences.\n",
    "    \"\"\"\n",
    "    supercell = reference_supercell.copy()\n",
    "    for original_element, this_defects_frequences in defects_frequences.items():\n",
    "        element_indices = get_site_indices_by_species(reference_supercell, original_element)\n",
    "        permuted_indices = rng.permutation(element_indices)\n",
    "        if sum(this_defects_frequences.values()) > 1:\n",
    "            raise ValueError(\"Sum of defect frequencies must be less than 1.\")\n",
    "        \n",
    "        permutation_start = 0\n",
    "        for defect_specie, defect_frequency in this_defects_frequences.items():\n",
    "            permutation_end = permutation_start + int(len(element_indices) * defect_frequency)\n",
    "            for i_np in permuted_indices[permutation_start:permutation_end]:\n",
    "                i = int(i_np)\n",
    "                supercell[i] = PeriodicSite(\n",
    "                    species=defect_specie,\n",
    "                    coords=supercell[i].coords,\n",
    "                    lattice=supercell[i].lattice,\n",
    "                    coords_are_cartesian=True)\n",
    "            permutation_start = permutation_end\n",
    "    # Remove dummy sites aka vacancies\n",
    "    supercell.remove_sites([i for i, site in enumerate(supercell) if site.specie == DummySpecies()])\n",
    "    return supercell"
   ]
  },
  {
   "cell_type": "code",
   "execution_count": 7,
   "metadata": {},
   "outputs": [],
   "source": [
    "def generate_defect_description(defects_frequences):\n",
    "    \"\"\"\n",
    "    Generates defect description in the Innopolist format\n",
    "    \"\"\"\n",
    "    defects = []\n",
    "    for original_element, this_defects_frequences in defects_frequences.items():\n",
    "        reference_supercell_element_count = len(get_site_indices_by_species(reference_supercell, original_element))\n",
    "        for defect_specie, defect_frequency in this_defects_frequences.items():\n",
    "            defect_count = int(reference_supercell_element_count * defect_frequency)\n",
    "            if isinstance(defect_specie, DummySpecies):\n",
    "                defects.extend([{\"type\": \"vacancy\", \"element\": original_element.symbol}]*defect_count)\n",
    "            else:\n",
    "                defects.extend([{\"type\": \"substitution\", \"from\": original_element.symbol, \"to\": defect_specie.symbol}]*defect_count)\n",
    "    return defects"
   ]
  },
  {
   "cell_type": "code",
   "execution_count": 8,
   "metadata": {},
   "outputs": [],
   "source": [
    "from collections import defaultdict\n",
    "def generate_short_description(defect_description, element_order=[\"Mo\", \"S\"]):\n",
    "    \"\"\"\n",
    "    Outputs a short description from a full description in Innopolis format.\n",
    "    Warning: all substitutions are conflated in a single number\n",
    "    \"\"\"\n",
    "    substitution_counts = defaultdict(int)\n",
    "    vacancy_counts = defaultdict(int)\n",
    "    for defect in defect_description:\n",
    "        if defect[\"type\"] == \"substitution\":\n",
    "            substitution_counts[defect[\"from\"]] += 1\n",
    "        elif defect[\"type\"] == \"vacancy\":\n",
    "            vacancy_counts[defect[\"element\"]] += 1\n",
    "        else:\n",
    "            raise ValueError(\"Unknown defect type: {}\".format(defect[\"type\"]))\n",
    "    return \"\".join(f\"S{substitution_counts[element]}V{vacancy_counts[element]}\" for element in element_order)"
   ]
  },
  {
   "cell_type": "code",
   "execution_count": 9,
   "metadata": {},
   "outputs": [],
   "source": [
    "generation_parameters = []\n",
    "for Mo_vacancy_frequency in [0, 0.01, 0.05]:\n",
    "    for Mo_W_substitution_frequency in np.linspace(0.01, 0.9-Mo_vacancy_frequency, 5):\n",
    "        for S_vacancy_frequency in [0, 0.1, 0.3]:\n",
    "            for S_Se_substitution_frequency in np.linspace(0.01, 0.9-S_vacancy_frequency, 5):\n",
    "                generation_parameters.append({\n",
    "                    Element(\"Mo\"): {\n",
    "                        Element(\"W\"): Mo_W_substitution_frequency,\n",
    "                        DummySpecies(): Mo_vacancy_frequency\n",
    "                    },\n",
    "                    Element(\"S\"): {\n",
    "                        Element(\"Se\"): S_Se_substitution_frequency,\n",
    "                        DummySpecies(): S_vacancy_frequency\n",
    "                    }\n",
    "                })"
   ]
  },
  {
   "cell_type": "code",
   "execution_count": 10,
   "metadata": {},
   "outputs": [],
   "source": [
    "# TODO(Ruslan) replace uuid with the MongoDB ids\n",
    "import uuid\n",
    "import pandas as pd\n",
    "structures_per_parameters = 30\n",
    "descriptors_dict = {\n",
    "    \"_id\": [], \"description\": [], \"base\": [], \"cell\": [], \"defects\": []}\n",
    "structures_dict = {\n",
    "    \"_id\": [], \"descriptor_id\": []\n",
    "}\n",
    "target_folder = Path(\"../datasets/others/high_density_of_defects/\")\n",
    "target_folder.mkdir(parents=True, exist_ok=True)\n",
    "strctures_folder = target_folder / \"poscars\"\n",
    "strctures_folder.mkdir(exist_ok=True)\n",
    "max_generation_tries = 10\n",
    "\n",
    "for params in generation_parameters:\n",
    "    description = generate_defect_description(params)\n",
    "    defect_id = uuid.uuid4().hex\n",
    "\n",
    "    descriptors_dict[\"_id\"].append(defect_id)\n",
    "    descriptors_dict[\"description\"].append(generate_short_description(description))\n",
    "    descriptors_dict[\"base\"].append(base_material)\n",
    "    descriptors_dict[\"cell\"].append(supercell_size)\n",
    "    descriptors_dict[\"defects\"].append(description)\n",
    "\n",
    "    this_structures = []\n",
    "\n",
    "    for _ in range(structures_per_parameters):\n",
    "        structure_id = uuid.uuid4().hex\n",
    "    \n",
    "        is_unique = False\n",
    "        tries = 0\n",
    "        while not is_unique:\n",
    "            if tries > max_generation_tries:\n",
    "                raise ValueError(\"Maximum number of tries exceeded for genrating a unique structure.\")\n",
    "            structure = generate_structure(params)\n",
    "            tries =+ 1\n",
    "            is_unique = True\n",
    "            for previous_structure in this_structures:\n",
    "                if structure.matches(previous_structure):\n",
    "                    is_unique = False\n",
    "                    break\n",
    "\n",
    "        this_structures.append(structure)\n",
    "        structures_dict[\"_id\"].append(structure_id)\n",
    "        structures_dict[\"descriptor_id\"].append(defect_id)\n",
    "        structure.to(f\"POSCAR\", strctures_folder / f\"{structure_id}.poscar\")\n",
    "\n",
    "descriptors_pd = pd.DataFrame.from_dict(descriptors_dict)\n",
    "descriptors_pd.set_index([\"_id\"], inplace=True)\n",
    "descriptors_pd.to_csv(target_folder / \"descriptors.csv\")\n",
    "\n",
    "structures_pd = pd.DataFrame.from_dict(structures_dict)\n",
    "structures_pd.set_index([\"_id\"], inplace=True)\n",
    "structures_pd.to_csv(target_folder / \"defects.csv\")"
   ]
  },
  {
   "cell_type": "code",
   "execution_count": null,
   "metadata": {},
   "outputs": [],
   "source": [
    "example_structure = generate_structure(extreme_defects_freqences)\n",
    "ase_atoms = AseAtomsAdaptor.get_atoms(example_structure)\n",
    "fig, ax = plt.subplots()\n",
    "plot_atoms(ase_atoms, ax, radii=0.5, rotation=('10x, 0y, 0z'), show_unit_cell=True)\n",
    "xlim = 40\n",
    "ylim = 23\n",
    "ax.set_xlim(-2, xlim)\n",
    "ax.set_ylim(-2, ylim)\n",
    "ax.set_axis_off()\n",
    "fig.savefig(\"example_structure.png\", dpi=300)"
   ]
  }
 ],
 "metadata": {
  "interpreter": {
   "hash": "6e927b94e142685125d2bdc8153f2f1616a91ecba5190bf3e387794eb0cedea9"
  },
  "kernelspec": {
   "display_name": "Python 3.8.10 ('2d-defects-potential-learning-pYjw2mkT-py3.8')",
   "language": "python",
   "name": "python3"
  },
  "language_info": {
   "codemirror_mode": {
    "name": "ipython",
    "version": 3
   },
   "file_extension": ".py",
   "mimetype": "text/x-python",
   "name": "python",
   "nbconvert_exporter": "python",
   "pygments_lexer": "ipython3",
   "version": "3.8.10"
  },
  "orig_nbformat": 4
 },
 "nbformat": 4,
 "nbformat_minor": 2
}
