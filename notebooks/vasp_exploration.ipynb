{
 "cells": [
  {
   "cell_type": "code",
   "execution_count": 3,
   "metadata": {},
   "outputs": [],
   "source": [
    "from pathlib import Path\n",
    "from pymatgen.io.vasp.outputs import Vasprun, Outcar"
   ]
  },
  {
   "cell_type": "code",
   "execution_count": 4,
   "metadata": {},
   "outputs": [],
   "source": [
    "vasp_folder = Path(\"../datasets/raw_vasp/high_density_defects/GaSe_spin_500/poscar_GaSe_Ga67Se63S5_63ce5e76-983d-4aaf-8d5f-77b57be7c3ba/01_relax\")"
   ]
  },
  {
   "cell_type": "code",
   "execution_count": 12,
   "metadata": {},
   "outputs": [],
   "source": [
    "vasprun_output = vasp_folder / 'vasprun.xml'\n",
    "vasprun_file = Vasprun(vasprun_output,\n",
    "                        parse_potcar_file=False,\n",
    "                        separate_spins=True,\n",
    "                        parse_dos=True)"
   ]
  },
  {
   "cell_type": "code",
   "execution_count": 22,
   "metadata": {},
   "outputs": [],
   "source": [
    "d = next(iter(vasprun_file.eigenvalues.values()))"
   ]
  },
  {
   "cell_type": "code",
   "execution_count": 28,
   "metadata": {},
   "outputs": [
    {
     "data": {
      "text/plain": [
       "-18.2682"
      ]
     },
     "execution_count": 28,
     "metadata": {},
     "output_type": "execute_result"
    }
   ],
   "source": [
    "d[0,0,0]"
   ]
  },
  {
   "cell_type": "code",
   "execution_count": 30,
   "metadata": {},
   "outputs": [
    {
     "data": {
      "text/plain": [
       "(1, 835, 2)"
      ]
     },
     "execution_count": 30,
     "metadata": {},
     "output_type": "execute_result"
    }
   ],
   "source": [
    "d.shape"
   ]
  },
  {
   "cell_type": "code",
   "execution_count": 31,
   "metadata": {},
   "outputs": [
    {
     "data": {
      "text/plain": [
       "{<Spin.up: 1>: array([[[-18.2682,   1.    ],\n",
       "         [-18.2196,   1.    ],\n",
       "         [-18.2067,   1.    ],\n",
       "         ...,\n",
       "         [  3.3875,   0.    ],\n",
       "         [  3.3928,   0.    ],\n",
       "         [  3.422 ,   0.    ]]]),\n",
       " <Spin.down: -1>: array([[[-18.2683,   1.    ],\n",
       "         [-18.2196,   1.    ],\n",
       "         [-18.2067,   1.    ],\n",
       "         ...,\n",
       "         [  3.3749,   0.    ],\n",
       "         [  3.3841,   0.    ],\n",
       "         [  3.4202,   0.    ]]])}"
      ]
     },
     "execution_count": 31,
     "metadata": {},
     "output_type": "execute_result"
    }
   ],
   "source": [
    "vasprun_file.eigenvalues"
   ]
  }
 ],
 "metadata": {
  "kernelspec": {
   "display_name": "Python 3.10.6 ('2d-defects-potential-learning-pYjw2mkT-py3.10')",
   "language": "python",
   "name": "python3"
  },
  "language_info": {
   "codemirror_mode": {
    "name": "ipython",
    "version": 3
   },
   "file_extension": ".py",
   "mimetype": "text/x-python",
   "name": "python",
   "nbconvert_exporter": "python",
   "pygments_lexer": "ipython3",
   "version": "3.10.7"
  },
  "orig_nbformat": 4,
  "vscode": {
   "interpreter": {
    "hash": "635b46ca2bfd4fb1fb06df777baa58449acfa795d46252930268ba7054c54264"
   }
  }
 },
 "nbformat": 4,
 "nbformat_minor": 2
}
