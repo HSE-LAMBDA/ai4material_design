{
 "cells": [
  {
   "cell_type": "code",
   "execution_count": 38,
   "metadata": {},
   "outputs": [],
   "source": [
    "import pandas as pd"
   ]
  },
  {
   "cell_type": "code",
   "execution_count": 40,
   "metadata": {},
   "outputs": [],
   "source": [
    "data = pd.read_pickle('../datasets/processed/dichalcogenides_x1s6_202109_MoS2/data.pickle.gz')\n",
    "targets = pd.read_csv('../datasets/processed/dichalcogenides_x1s6_202109_MoS2/targets.csv.gz', index_col=0)\n",
    "folds = pd.read_csv('../datasets/experiments/MoS2-plain-cv/folds.csv', index_col=0)"
   ]
  },
  {
   "cell_type": "code",
   "execution_count": 47,
   "metadata": {},
   "outputs": [],
   "source": [
    "new_data = data[data.band_gap >= 1.5]\n",
    "targets = new_data[targets.columns]\n",
    "new_folds = folds[folds.index.isin(new_data.index)]"
   ]
  },
  {
   "cell_type": "code",
   "execution_count": 48,
   "metadata": {},
   "outputs": [],
   "source": [
    "new_data.to_pickle('../datasets/processed/dichalcogenides_x1s6_202109_MoS2_bandgap_geq_1.5/data.pickle.gz')\n",
    "targets.to_csv('../datasets/processed/dichalcogenides_x1s6_202109_MoS2_bandgap_geq_1.5/targets.csv.gz')\n",
    "new_folds.to_csv('../datasets/experiments/MoS2-bandgap-debug-cv/folds.csv')"
   ]
  },
  {
   "cell_type": "code",
   "execution_count": null,
   "metadata": {},
   "outputs": [],
   "source": []
  }
 ],
 "metadata": {
  "interpreter": {
   "hash": "e4921519f0effe817d9430c2881bbc34b6267bb0a83f1f53e662426d5e1b28e2"
  },
  "kernelspec": {
   "display_name": "Python 3.8.12 64-bit ('exp1': conda)",
   "language": "python",
   "name": "python3"
  },
  "language_info": {
   "codemirror_mode": {
    "name": "ipython",
    "version": 3
   },
   "file_extension": ".py",
   "mimetype": "text/x-python",
   "name": "python",
   "nbconvert_exporter": "python",
   "pygments_lexer": "ipython3",
   "version": "3.8.12"
  },
  "orig_nbformat": 4
 },
 "nbformat": 4,
 "nbformat_minor": 2
}
