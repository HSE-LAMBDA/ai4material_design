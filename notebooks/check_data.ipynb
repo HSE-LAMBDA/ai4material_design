{
 "cells": [
  {
   "cell_type": "code",
   "execution_count": 4,
   "metadata": {},
   "outputs": [],
   "source": [
    "from pathlib import Path\n",
    "path = Path(\"../datasets/others/rolos/2d-materials-point-defects/2d-materials-point-defects-all/\")"
   ]
  },
  {
   "cell_type": "code",
   "execution_count": 5,
   "metadata": {},
   "outputs": [],
   "source": [
    "import glob"
   ]
  },
  {
   "cell_type": "code",
   "execution_count": 30,
   "metadata": {},
   "outputs": [],
   "source": [
    "all_files = glob.glob(str(path / \"*\" / \"*\" /\"targets.csv.gz\")) + glob.glob(str(path / \"*\" / \"*\" /\"defects.csv.gz\"))"
   ]
  },
  {
   "cell_type": "code",
   "execution_count": 31,
   "metadata": {},
   "outputs": [],
   "source": [
    "import pandas as pd\n",
    "import numpy as np"
   ]
  },
  {
   "cell_type": "code",
   "execution_count": 42,
   "metadata": {},
   "outputs": [],
   "source": [
    "for file in all_files:\n",
    "    data = pd.read_csv(file)\n",
    "    for suffix in [\"\", \"_majority\", \"_minority\"]:\n",
    "        if \"homo\"+suffix in data:\n",
    "            assert np.allclose(data[f\"homo_lumo_gap{suffix}\"], data[f\"lumo{suffix}\"] - data[f\"homo{suffix}\"])"
   ]
  }
 ],
 "metadata": {
  "kernelspec": {
   "display_name": "2d-defects-potential-learning-pYjw2mkT-py3.11",
   "language": "python",
   "name": "python3"
  },
  "language_info": {
   "codemirror_mode": {
    "name": "ipython",
    "version": 3
   },
   "file_extension": ".py",
   "mimetype": "text/x-python",
   "name": "python",
   "nbconvert_exporter": "python",
   "pygments_lexer": "ipython3",
   "version": "3.11.4"
  },
  "orig_nbformat": 4
 },
 "nbformat": 4,
 "nbformat_minor": 2
}
