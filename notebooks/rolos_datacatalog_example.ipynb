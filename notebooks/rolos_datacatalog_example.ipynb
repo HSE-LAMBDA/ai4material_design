{
 "cells": [
  {
   "cell_type": "code",
   "execution_count": 19,
   "metadata": {},
   "outputs": [],
   "source": [
    "import sys\n",
    "import pandas as pd\n",
    "sys.path.append('..')\n",
    "from ai4mat.data.data import read_structures_descriptions, read_defects_descriptions, StorageResolver"
   ]
  },
  {
   "cell_type": "code",
   "execution_count": 15,
   "metadata": {},
   "outputs": [],
   "source": [
    "datasets = [f\"high_density_defects/{name}_500\" for name in (\"BP_spin\", \"GaSe_spin\", \"hBN_spin\", \"InSe_spin\", \"MoS2\", \"WSe2\")] + \\\n",
    "    [f\"low_density_defects/{name}\" for name in (\"MoS2\", \"WSe2\")]"
   ]
  },
  {
   "cell_type": "code",
   "execution_count": 48,
   "metadata": {},
   "outputs": [],
   "source": [
    "storage_resolver = StorageResolver()\n",
    "defects = pd.concat([read_structures_descriptions(storage_resolver[\"csv_cif\"].joinpath(dataset)) for dataset in datasets], axis=0)\n",
    "descriptions = pd.concat([read_defects_descriptions(storage_resolver[\"csv_cif\"].joinpath(dataset)) for dataset in datasets], axis=0).drop(columns=\"pbc\")"
   ]
  },
  {
   "cell_type": "code",
   "execution_count": 50,
   "metadata": {},
   "outputs": [],
   "source": [
    "for column in (\"homo_lumo_gap\", \"homo\", \"lumo\", \"E_1\"):\n",
    "    for kind in (\"majority\", \"minority\"):\n",
    "        defects[f\"{column}_{kind}\"] = defects[f\"{column}_{kind}\"].fillna(defects[column])"
   ]
  },
  {
   "cell_type": "code",
   "execution_count": 51,
   "metadata": {},
   "outputs": [],
   "source": [
    "descriptions.index.rename(\"descriptor_id\", inplace=True)"
   ]
  },
  {
   "cell_type": "code",
   "execution_count": 53,
   "metadata": {},
   "outputs": [],
   "source": [
    "merged_table = defects.merge(descriptions, how=\"left\", left_on=\"descriptor_id\", right_index=True)"
   ]
  },
  {
   "cell_type": "code",
   "execution_count": 66,
   "metadata": {},
   "outputs": [],
   "source": [
    "merged_table[\"defect_count\"] = merged_table.defects.apply(len)"
   ]
  },
  {
   "cell_type": "code",
   "execution_count": 80,
   "metadata": {},
   "outputs": [
    {
     "data": {
      "image/png": "[encoded data removed]",
      "text/plain": [
       "<Figure size 432x288 with 1 Axes>"
      ]
     },
     "metadata": {
      "needs_background": "light"
     },
     "output_type": "display_data"
    }
   ],
   "source": [
    "import matplotlib.pyplot as plt\n",
    "fig, ax = plt.subplots()\n",
    "ax.scatter(merged_table.defect_count, merged_table.homo_lumo_gap_majority);"
   ]
  },
  {
   "cell_type": "code",
   "execution_count": 79,
   "metadata": {},
   "outputs": [],
   "source": [
    "merged_table.to_csv(\"../datasets/others/merged_table_rolos.csv.gz\")"
   ]
  }
 ],
 "metadata": {
  "kernelspec": {
   "display_name": "Python 3.8.13 ('base')",
   "language": "python",
   "name": "python3"
  },
  "language_info": {
   "codemirror_mode": {
    "name": "ipython",
    "version": 3
   },
   "file_extension": ".py",
   "mimetype": "text/x-python",
   "name": "python",
   "nbconvert_exporter": "python",
   "pygments_lexer": "ipython3",
   "version": "3.8.13"
  },
  "orig_nbformat": 4,
  "vscode": {
   "interpreter": {
    "hash": "d4d1e4263499bec80672ea0156c357c1ee493ec2b1c70f0acce89fc37c4a6abe"
   }
  }
 },
 "nbformat": 4,
 "nbformat_minor": 2
}
