{
 "cells": [
  {
   "cell_type": "code",
   "execution_count": 1,
   "metadata": {},
   "outputs": [],
   "source": [
    "from collections import defaultdict\n",
    "import os\n",
    "import matplotlib.pyplot as plt\n",
    "import pandas as pd\n",
    "import numpy as np\n",
    "from sklearn.model_selection import train_test_split\n",
    "from catboost import CatBoostRegressor\n",
    "from train_model import generate_paper_experiments"
   ]
  },
  {
   "cell_type": "code",
   "execution_count": 2,
   "metadata": {},
   "outputs": [],
   "source": [
    "experiments = generate_paper_experiments()"
   ]
  },
  {
   "cell_type": "code",
   "execution_count": 3,
   "metadata": {},
   "outputs": [],
   "source": [
    "global_save_path = os.path.join(\"..\", \"datasets\", \"paper_experiments_catboost\")\n",
    "predictions_save_path = os.path.join(global_save_path, \"results\")\n",
    "plots_path = os.path.join(global_save_path, \"plots\")\n",
    "\n",
    "os.makedirs(predictions_save_path, exist_ok=\"True\")\n",
    "os.makedirs(plots_path, exist_ok=True)"
   ]
  },
  {
   "cell_type": "code",
   "execution_count": 4,
   "metadata": {},
   "outputs": [],
   "source": [
    "# Assumes all experiments are on the same data and use the fold defenitions!\n",
    "data = pd.read_csv(os.path.join(\"..\", experiments[0].data_path), index_col=\"_id\")\n",
    "data = data[[experiments[0].target]]\n",
    "folds = pd.read_csv(os.path.join(\"..\", experiments[0].folds_path), squeeze=True, index_col=\"_id\")\n",
    "features = pd.read_csv(os.path.join(\"..\", experiments[0].features_path), index_col='_id')"
   ]
  },
  {
   "cell_type": "code",
   "execution_count": 5,
   "metadata": {},
   "outputs": [],
   "source": [
    "def process_experiment(experiment):\n",
    "    model = CatBoostRegressor()\n",
    "    model.load_model(os.path.join(\"..\", experiment.model_path))\n",
    "    return model.predict(features)"
   ]
  },
  {
   "cell_type": "code",
   "execution_count": 6,
   "metadata": {},
   "outputs": [],
   "source": [
    "from multiprocessing import Pool\n",
    "with Pool(20) as p:\n",
    "    predictions = p.map(process_experiment, experiments)"
   ]
  },
  {
   "cell_type": "code",
   "execution_count": 7,
   "metadata": {},
   "outputs": [],
   "source": [
    "def get_test_prediction_column(target):\n",
    "    return f\"test_predicted_{target}\""
   ]
  },
  {
   "cell_type": "code",
   "execution_count": 8,
   "metadata": {},
   "outputs": [],
   "source": [
    "maes = defaultdict(list)\n",
    "columns_to_save = set()\n",
    "for experiment, this_predictions in zip(experiments, predictions):\n",
    "    test_prediction_column = get_test_prediction_column(experiment.target)\n",
    "    columns_to_save.add(test_prediction_column)\n",
    "    predictions_pd = pd.Series(data=this_predictions.ravel(), index=data.index)\n",
    "    train_prediction_column = f\"train_fold_-{experiment.test_fold}_predicted_{experiment.target}\"\n",
    "    columns_to_save.add(train_prediction_column)\n",
    "  \n",
    "    test_ids = folds[folds == experiment.test_fold].index\n",
    "    train_ids = folds[folds != experiment.test_fold].index\n",
    "  \n",
    "    data.loc[test_ids, test_prediction_column] = predictions_pd.loc[test_ids]\n",
    "    data.loc[train_ids, train_prediction_column] = predictions_pd.loc[train_ids]\n",
    "    maes[experiment.target].append(np.mean(np.abs(\n",
    "    predictions_pd.loc[test_ids] - data.loc[test_ids, experiment.target])))"
   ]
  },
  {
   "cell_type": "code",
   "execution_count": 9,
   "metadata": {},
   "outputs": [],
   "source": [
    "targets = set(map(lambda e: e.target, experiments))"
   ]
  },
  {
   "cell_type": "code",
   "execution_count": 10,
   "metadata": {},
   "outputs": [],
   "source": [
    "def plot_target(target, data_name):\n",
    "    fig, ax = plt.subplots()\n",
    "    mae = np.mean(maes[target])\n",
    "    mae_std = np.std(maes[target])\n",
    "    test_prediction_column = get_test_prediction_column(target)\n",
    "    ax.scatter(data.loc[:, target], data.loc[:, test_prediction_column],\n",
    "             label=f\"{data_name}, $MAE={mae:.4f} \\pm {mae_std:.4f}$\",\n",
    "             alpha=0.5)\n",
    "  \n",
    "    ax.set_xlabel(f\"DFT {target}, eV\")\n",
    "    ax.set_ylabel(f\"Predicted {target}, eV\")\n",
    "    ax.legend()\n",
    "\n",
    "    lims = [\n",
    "        np.min([ax.get_xlim(), ax.get_ylim()]),\n",
    "        np.max([ax.get_xlim(), ax.get_ylim()]),\n",
    "      ]\n",
    "\n",
    "    ax.plot(lims, lims, 'k-', alpha=0.75, zorder=0)\n",
    "    ax.set_aspect('equal')\n",
    "    ax.set_xlim(lims)\n",
    "    ax.set_ylim(lims)\n",
    "    fig.savefig(os.path.join(plots_path, f\"{target}_{data_name}.pdf\"),\n",
    "                bbox_inches=\"tight\",\n",
    "                metadata={\n",
    "                    \"Author\": \"Maxim Faleev\",\n",
    "                    \"Title\": f\"CatBoost on matminer features, {target}, {data_name}\"\n",
    "                }\n",
    "                )"
   ]
  },
  {
   "cell_type": "code",
   "execution_count": 11,
   "metadata": {},
   "outputs": [
    {
     "data": {
      "image/png": "[encoded data removed]",
      "text/plain": [
       "<Figure size 432x288 with 1 Axes>"
      ]
     },
     "metadata": {
      "needs_background": "light"
     },
     "output_type": "display_data"
    }
   ],
   "source": [
    "for target in targets:\n",
    "    plot_target(target, \"all_structs_cv_8\")"
   ]
  },
  {
   "cell_type": "code",
   "execution_count": 13,
   "metadata": {},
   "outputs": [],
   "source": [
    "data.to_csv(os.path.join(predictions_save_path, \"full.csv.gz\"),\n",
    "            columns=columns_to_save, index_label=\"_id\")"
   ]
  }
 ],
 "metadata": {
  "kernelspec": {
   "display_name": "py38",
   "language": "python",
   "name": "py38"
  },
  "language_info": {
   "codemirror_mode": {
    "name": "ipython",
    "version": 3
   },
   "file_extension": ".py",
   "mimetype": "text/x-python",
   "name": "python",
   "nbconvert_exporter": "python",
   "pygments_lexer": "ipython3",
   "version": "3.8.8"
  }
 },
 "nbformat": 4,
 "nbformat_minor": 4
}
